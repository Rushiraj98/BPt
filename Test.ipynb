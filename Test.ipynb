{
 "cells": [
  {
   "cell_type": "markdown",
   "metadata": {},
   "source": [
    "## Example"
   ]
  },
  {
   "cell_type": "code",
   "execution_count": 2,
   "metadata": {},
   "outputs": [],
   "source": [
    "from __future__ import absolute_import\n",
    "from __future__ import division\n",
    "from __future__ import print_function\n",
    "\n",
    "from scipy.stats.mstats import winsorize\n",
    "\n",
    "import pandas as pd\n",
    "import numpy as np\n",
    "import matplotlib.pyplot as plt\n",
    "import ABCD_ML.ML as ML\n",
    "import seaborn as sns\n",
    "\n",
    "from sklearn.preprocessing import StandardScaler, RobustScaler, MinMaxScaler\n",
    "from sklearn.model_selection import train_test_split"
   ]
  },
  {
   "cell_type": "markdown",
   "metadata": {},
   "source": [
    "Within this notebook we shall be considering the usage of ABCD data, structural + 3 tasks + resting state (LR flipped subjects filtered out), towards the prediction of \"Pic Vocab Scores\".\n",
    "\n",
    "Specifically, we begin by considering the data without any pre-proccesing or scaling, as we would like to quantify the effects of these choices. "
   ]
  },
  {
   "cell_type": "code",
   "execution_count": 3,
   "metadata": {},
   "outputs": [
    {
     "name": "stdout",
     "output_type": "stream",
     "text": [
      "Min 29.0 Max 119.0\n"
     ]
    },
    {
     "data": {
      "image/png": "[encoded data removed]",
      "text/plain": [
       "<Figure size 432x288 with 1 Axes>"
      ]
     },
     "metadata": {
      "needs_background": "light"
     },
     "output_type": "display_data"
    }
   ],
   "source": [
    "data = pd.read_csv('Data/Pic_Vocab_data.csv')\n",
    "\n",
    "print('Min', np.min(data.score), 'Max', np.max(data.score))\n",
    "\n",
    "sns.distplot(data.score, bins=30)\n",
    "plt.show()"
   ]
  },
  {
   "cell_type": "code",
   "execution_count": 17,
   "metadata": {},
   "outputs": [
    {
     "data": {
      "text/plain": [
       "pandas.core.series.Series"
      ]
     },
     "execution_count": 17,
     "metadata": {},
     "output_type": "execute_result"
    }
   ],
   "source": [
    "q = (3, 99)\n",
    "q[0]\n",
    "type(data.score)\n"
   ]
  },
  {
   "cell_type": "markdown",
   "metadata": {},
   "source": [
    "The distribution looks mostly okay, but the score of 29 is worrying"
   ]
  },
  {
   "cell_type": "code",
   "execution_count": 3,
   "metadata": {},
   "outputs": [
    {
     "name": "stdout",
     "output_type": "stream",
     "text": [
      "Min 47.0 Max 119.0\n"
     ]
    }
   ],
   "source": [
    "data = data[data.score > (np.mean(data.score) - 5 * np.std(data.score))]\n",
    "print('Min', np.min(data.score), 'Max', np.max(data.score))"
   ]
  },
  {
   "cell_type": "markdown",
   "metadata": {},
   "source": [
    "We want to ensure that the target variable does not contain any horrendeous outliers, as this would have negative effects upon choice of scoring metric. And next we want to check to input dataset for severe outliers as well."
   ]
  },
  {
   "cell_type": "code",
   "execution_count": 4,
   "metadata": {},
   "outputs": [
    {
     "data": {
      "text/plain": [
       "(0.0, 2101702.699345)"
      ]
     },
     "execution_count": 4,
     "metadata": {},
     "output_type": "execute_result"
    }
   ],
   "source": [
    "X = np.array(data.drop('score', axis=1))\n",
    "y = np.array(data.score)\n",
    "np.min(X), np.max(X)"
   ]
  },
  {
   "cell_type": "markdown",
   "metadata": {},
   "source": [
    "Of which there clear are some, we can simply try winsorizing these values to 2%"
   ]
  },
  {
   "cell_type": "code",
   "execution_count": 5,
   "metadata": {},
   "outputs": [
    {
     "data": {
      "text/plain": [
       "(0.0, 1823760.14072)"
      ]
     },
     "execution_count": 5,
     "metadata": {},
     "output_type": "execute_result"
    }
   ],
   "source": [
    "X = winsorize(X, (.02), axis=0).data\n",
    "np.min(X), np.max(X)"
   ]
  },
  {
   "cell_type": "markdown",
   "metadata": {},
   "source": [
    "There exist a number of different cross validation stratagies, what we hope to determine is a reasonable balanced between over cautiousness, and over-estimating performance. As the over-arching analysis involves a model selection phase, best practice would suggest explicitly witholding a testing set, rather than performing cross-validation across the whole dataset. We will examine exactly how these choices can lead to different outcomes. "
   ]
  },
  {
   "cell_type": "code",
   "execution_count": 6,
   "metadata": {},
   "outputs": [
    {
     "data": {
      "text/plain": [
       "((7500, 638), (2500, 638), (7500,), (2500,))"
      ]
     },
     "execution_count": 6,
     "metadata": {},
     "output_type": "execute_result"
    }
   ],
   "source": [
    "#Strategy 1, split the dataset initially into train and test, with 25% towards the test set\n",
    "X_train, X_test, y_train, y_test = train_test_split(X, y, test_size=0.25, random_state=42)\n",
    "X_train.shape, X_test.shape, y_train.shape, y_test.shape"
   ]
  },
  {
   "cell_type": "markdown",
   "metadata": {},
   "source": [
    "First we can explore on our training set the effect of different data scaling schemes, running each model/expiriment with 3-fold CV, repeated 5 random times, which gives use the mean performance and std, in r2_score. For now we will just consider a few models, without delving too deep into different params for each classifier. "
   ]
  },
  {
   "cell_type": "code",
   "execution_count": 9,
   "metadata": {},
   "outputs": [
    {
     "name": "stdout",
     "output_type": "stream",
     "text": [
      "with:  None\n",
      "linear model:  0.0468685533312011 0.0051827326204520125\n",
      "elastic net model:  0.0827875194260192 0.0007335882892701813\n",
      "Light GBM:  0.11036828137567563 0.0036602266115117305\n",
      "\n",
      "with:  StandardScaler(copy=True, with_mean=True, with_std=True)\n",
      "linear model:  0.0524220945375949 0.00469154893876985\n",
      "elastic net model:  0.12895807653864172 0.0013542291686499278\n",
      "Light GBM:  0.10882123085095377 0.0021972057803476925\n",
      "\n",
      "with:  MinMaxScaler(copy=True, feature_range=(0, 1))\n",
      "linear model:  0.051598167770137114 0.0026354881157360944\n",
      "elastic net model:  0.13265114183893187 0.0008209709069561236\n",
      "Light GBM:  0.11034160556023173 0.00470473098201312\n",
      "\n",
      "with:  RobustScaler(copy=True, quantile_range=(1, 99), with_centering=True,\n",
      "             with_scaling=True)\n",
      "linear model:  0.04571488878181869 0.010083996393728815\n",
      "elastic net model:  0.13075360937847394 0.0019668401673187427\n",
      "Light GBM:  0.10906225195093673 0.003906957638178578\n",
      "\n",
      "with:  RobustScaler(copy=True, quantile_range=(5, 95), with_centering=True,\n",
      "             with_scaling=True)\n",
      "linear model:  0.04625743552980439 0.0042789010000685804\n",
      "elastic net model:  0.13122137736511758 0.002430610968245928\n",
      "Light GBM:  0.11238624131307576 0.00383995515306897\n",
      "\n"
     ]
    }
   ],
   "source": [
    "scalers = [None, StandardScaler(), MinMaxScaler(),\n",
    "          RobustScaler(quantile_range=(1, 99)), RobustScaler(quantile_range=(5, 95))]\n",
    "\n",
    "for scaler in scalers:\n",
    "    print('with: ', scaler)\n",
    "    \n",
    "    if scaler != None:\n",
    "        X_train_scaled = scaler.fit_transform(X_train)\n",
    "    else:\n",
    "        X_train_scaled = X_train\n",
    "    \n",
    "    score, std = ML.evaluate_regression_model(X_train_scaled, y_train, model_type='linear', n_splits=3, n_repeats=5, int_cv=3, metric='r2')\n",
    "    print('linear model: ', score, std)\n",
    "\n",
    "    score, std = ML.evaluate_regression_model(X_train_scaled, y_train, model_type='elastic cv', n_splits=3, n_repeats=5, int_cv=3, metric='r2')\n",
    "    print('elastic net model: ', score, std)\n",
    "    \n",
    "    score, std = ML.evaluate_regression_model(X_train_scaled, y_train, model_type='full lightgbm', n_splits=3, n_repeats=5, int_cv=3, metric='r2', extra_params={'n_jobs': 8})\n",
    "    print('Light GBM: ', score, std)\n",
    "    print()"
   ]
  },
  {
   "cell_type": "markdown",
   "metadata": {},
   "source": [
    "An additional consideration besides scaling, is correcting for skew in the features, either through a log transform or a box-cox transform. Note when box-cox transform param lambda == 0, then it is the same as log1p transform."
   ]
  },
  {
   "cell_type": "code",
   "execution_count": 10,
   "metadata": {},
   "outputs": [
    {
     "name": "stdout",
     "output_type": "stream",
     "text": [
      "baseline score\n",
      "linear model:  0.05188942927548638 0.007448188046957814\n",
      "elastic net model:  0.08325239979204697 0.0008041439214554197\n",
      "\n",
      "with skew value  0.25 : 342 features to transform\n",
      "\n",
      "with lambda param:  0\n",
      "linear model:  0.05673938798370951 0.004573631240035023\n",
      "elastic net model:  0.08214261296124337 0.001471008543987945\n",
      "with lambda param:  0.1\n",
      "linear model:  0.05030588828196993 0.007593012144176927\n",
      "elastic net model:  0.08281640848215946 0.0008103449362915382\n",
      "with lambda param:  0.15\n",
      "linear model:  0.05456787931601873 0.004518668810763542\n",
      "elastic net model:  0.08235979592170037 0.0013328155196598644\n",
      "with lambda param:  0.2\n",
      "linear model:  0.04653438696534945 0.007867477153460827\n",
      "elastic net model:  0.0830903474832779 0.0008885565196939488\n",
      "with lambda param:  0.25\n",
      "linear model:  0.05154330676894061 0.006760256816036781\n",
      "elastic net model:  0.08307030145245511 0.0006329628325552071\n",
      "\n",
      "with skew value  0.5 : 123 features to transform\n",
      "\n",
      "with lambda param:  0\n",
      "linear model:  0.043048253663842614 0.00955302718626778\n",
      "elastic net model:  0.08348098206416697 0.0009113405262991295\n",
      "with lambda param:  0.1\n",
      "linear model:  0.05275069380131534 0.00801314252493335\n",
      "elastic net model:  0.08292580845049077 0.000700214162091244\n",
      "with lambda param:  0.15\n",
      "linear model:  0.050833051028832246 0.006635577599618032\n",
      "elastic net model:  0.08364947982590666 0.00040946183553298044\n",
      "with lambda param:  0.2\n",
      "linear model:  0.05212684634141381 0.00838224384428205\n",
      "elastic net model:  0.08316081391066103 0.0004625421518453053\n",
      "with lambda param:  0.25\n",
      "linear model:  0.05003224453457115 0.007444600153374233\n",
      "elastic net model:  0.08185128680223061 0.0012209601954660174\n",
      "\n",
      "with skew value  0.75 : 58 features to transform\n",
      "\n",
      "with lambda param:  0\n",
      "linear model:  0.059668325157481605 0.0032868193789031947\n",
      "elastic net model:  0.083121486246195 0.0009555940002880128\n",
      "with lambda param:  0.1\n",
      "linear model:  0.04758071512363985 0.002456403385498136\n",
      "elastic net model:  0.0827464058639843 0.0009228338428011275\n",
      "with lambda param:  0.15\n",
      "linear model:  0.05541911257761032 0.007859568560454845\n",
      "elastic net model:  0.08389030706069114 0.0008296977387496825\n",
      "with lambda param:  0.2\n",
      "linear model:  0.048659156454575296 0.006344858395106121\n",
      "elastic net model:  0.08219298699516725 0.001001911196567747\n",
      "with lambda param:  0.25\n",
      "linear model:  0.05497504517081864 0.002950771743831645\n",
      "elastic net model:  0.08212061717243632 0.0017589818897382583\n",
      "\n",
      "with skew value  1 : 28 features to transform\n",
      "\n",
      "with lambda param:  0\n",
      "linear model:  0.04745992960215607 0.007057302189872875\n",
      "elastic net model:  0.0831609975572364 0.0005588897748341954\n",
      "with lambda param:  0.1\n",
      "linear model:  0.0486336174505298 0.013194291956991294\n",
      "elastic net model:  0.08311872839916332 0.0011378813799695633\n",
      "with lambda param:  0.15\n",
      "linear model:  0.051056223550073374 0.008041895868243243\n",
      "elastic net model:  0.08293623694933665 0.0008302477707379714\n",
      "with lambda param:  0.2\n",
      "linear model:  0.047968076285975825 0.005443644495861153\n",
      "elastic net model:  0.08222560604114841 0.0009103815819800205\n",
      "with lambda param:  0.25\n",
      "linear model:  0.0481195243288404 0.003424553880707487\n",
      "elastic net model:  0.0826787117445338 0.0005899594306973856\n",
      "\n"
     ]
    }
   ],
   "source": [
    "from scipy.stats import skew\n",
    "from scipy.special import boxcox1p\n",
    "\n",
    "print('baseline score')\n",
    "score, std = ML.evaluate_regression_model(X_train, y_train, model_type='linear', n_splits=3, n_repeats=5, int_cv=3, metric='r2')\n",
    "print('linear model: ', score, std)\n",
    "\n",
    "score, std = ML.evaluate_regression_model(X_train, y_train, model_type='elastic cv', n_splits=3, n_repeats=5, int_cv=3, metric='r2')\n",
    "print('elastic net model: ', score, std)\n",
    "print()\n",
    "\n",
    "skew_values = [.25, .5, .75, 1]\n",
    "\n",
    "for skew_value in skew_values:\n",
    "    \n",
    "    skewed_ind = np.abs(skew(X_train, axis=0)) > skew_value\n",
    "    print('with skew value ', skew_value, ':', np.sum(skewed_ind), 'features to transform')\n",
    "    print()\n",
    "    \n",
    "    for lam in [0, .1, .15, .2, .25]:\n",
    "    \n",
    "        X_train_skew_corrected = np.copy(X_train)\n",
    "        X_train_skew_corrected[:,skewed_ind] = boxcox1p(X_train_skew_corrected[:,skewed_ind], lam)\n",
    "        \n",
    "        print('with lambda param: ', lam)\n",
    "\n",
    "        score, std = ML.evaluate_regression_model(X_train_skew_corrected, y_train, model_type='linear', n_splits=3, n_repeats=5, int_cv=3, metric='r2')\n",
    "        print('linear model: ', score, std)\n",
    "        \n",
    "        score, std = ML.evaluate_regression_model(X_train_skew_corrected, y_train, model_type='elastic cv', n_splits=3, n_repeats=5, int_cv=3, metric='r2')\n",
    "        print('elastic net model: ', score, std)\n",
    "        \n",
    "    print()\n",
    "    \n",
    "    \n",
    "    "
   ]
  },
  {
   "cell_type": "code",
   "execution_count": null,
   "metadata": {},
   "outputs": [],
   "source": []
  },
  {
   "cell_type": "code",
   "execution_count": null,
   "metadata": {},
   "outputs": [],
   "source": []
  }
 ],
 "metadata": {
  "kernelspec": {
   "display_name": "Python 3",
   "language": "python",
   "name": "python3"
  },
  "language_info": {
   "codemirror_mode": {
    "name": "ipython",
    "version": 3
   },
   "file_extension": ".py",
   "mimetype": "text/x-python",
   "name": "python",
   "nbconvert_exporter": "python",
   "pygments_lexer": "ipython3",
   "version": "3.6.7"
  }
 },
 "nbformat": 4,
 "nbformat_minor": 2
}
