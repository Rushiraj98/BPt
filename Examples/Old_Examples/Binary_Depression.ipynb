{
 "cells": [
  {
   "cell_type": "markdown",
   "metadata": {},
   "source": [
    "# Init Phase\n",
    "\n",
    "In this notebook we will look at a highly imbalanced binary classification problem, specifically our target variable as the depressed option on the ksad."
   ]
  },
  {
   "cell_type": "code",
   "execution_count": 1,
   "metadata": {},
   "outputs": [],
   "source": [
    "from ABCD_ML import ABCD_ML\n",
    "import warnings\n",
    "import os\n",
    "\n",
    "warnings.filterwarnings(\"ignore\") # mutes warnings"
   ]
  },
  {
   "cell_type": "code",
   "execution_count": 2,
   "metadata": {},
   "outputs": [],
   "source": [
    "# Defining locations of files we will use\n",
    "nda_dr = '/home/sage/work/ABCD2p0NDA/'\n",
    "nda_dr2 = '/home/sage/work/ABCDFixRelease2p0p1/'\n",
    "\n",
    "map_file = os.path.join(nda_dr2, 'Fix Release Notes 2.0.1_Public', '24. ABCD_Release_2.0.1_Updates',\n",
    "                        'abcd_2.0.1_mapping.csv')\n",
    "\n",
    "data1 = os.path.join(nda_dr2, 'abcd_ddtidp101.txt')\n",
    "data2 = os.path.join(nda_dr2, 'abcd_ddtidp201.txt')\n",
    "\n",
    "covar1 = os.path.join(nda_dr, 'abcd_mri01.txt')\n",
    "covar2 = os.path.join(nda_dr, 'acspsw03.txt')\n",
    "\n",
    "target1 = os.path.join(nda_dr, 'abcd_ksad01.txt')"
   ]
  },
  {
   "cell_type": "code",
   "execution_count": 3,
   "metadata": {},
   "outputs": [
    {
     "name": "stdout",
     "output_type": "stream",
     "text": [
      "exp_name = ksad_depression\n",
      "log_dr = /home/sage/ABCD_ML/Examples\n",
      "existing_log = overwrite\n",
      "verbose = True\n",
      "exp log dr setup at: /home/sage/ABCD_ML/Examples/ksad_depression\n",
      "log file at: /home/sage/ABCD_ML/Examples/ksad_depression/logs.txt\n",
      "notebook = True\n",
      "use_default_subject_ids = False\n",
      "low memory mode = False\n",
      "strat_u_name = _Strat\n",
      "random state = 1\n",
      "ABCD_ML object initialized\n"
     ]
    }
   ],
   "source": [
    "ML = ABCD_ML(exp_name = 'ksad_depression',\n",
    "             existing_log = 'overwrite',\n",
    "             random_state = 1)"
   ]
  },
  {
   "cell_type": "markdown",
   "metadata": {},
   "source": [
    "# Loading Phase"
   ]
  },
  {
   "cell_type": "code",
   "execution_count": 4,
   "metadata": {},
   "outputs": [
    {
     "name": "stdout",
     "output_type": "stream",
     "text": [
      "Default load params set within self.default_load_params.\n",
      "----------------------\n",
      "dataset_type: basic\n",
      "subject_id: src_subject_id\n",
      "eventname: baseline_year_1_arm_1\n",
      "eventname_col: eventname\n",
      "overlap_subjects: False\n",
      "na_values: ['777', '999']\n",
      "drop_na: True\n",
      "drop_or_na: drop\n",
      "\n"
     ]
    }
   ],
   "source": [
    "ML.Set_Default_Load_Params(dataset_type='basic',\n",
    "                           subject_id='src_subject_id',\n",
    "                           eventname='baseline_year_1_arm_1',\n",
    "                           overlap_subjects=False,\n",
    "                           na_values=['777', '999'],\n",
    "                           drop_na=True,\n",
    "                           drop_or_na='drop')"
   ]
  },
  {
   "cell_type": "markdown",
   "metadata": {},
   "source": [
    "We will use the deap name instead of NDA default name"
   ]
  },
  {
   "cell_type": "code",
   "execution_count": 5,
   "metadata": {},
   "outputs": [
    {
     "name": "stdout",
     "output_type": "stream",
     "text": [
      "Loading /home/sage/work/ABCDFixRelease2p0p1/Fix Release Notes 2.0.1_Public/24. ABCD_Release_2.0.1_Updates/abcd_2.0.1_mapping.csv  with dataset type: explorer\n",
      "Loading new name_map from file!\n"
     ]
    }
   ],
   "source": [
    "ML.Load_Name_Map(loc = map_file,\n",
    "                 dataset_type = 'explorer',\n",
    "                 source_name_col = 'nda_name',\n",
    "                 target_name_col = 'deap_name')"
   ]
  },
  {
   "cell_type": "markdown",
   "metadata": {},
   "source": [
    "Loading DTI data"
   ]
  },
  {
   "cell_type": "code",
   "execution_count": 6,
   "metadata": {},
   "outputs": [
    {
     "name": "stdout",
     "output_type": "stream",
     "text": [
      "Cleared loaded data.\n",
      "\n",
      "Loading /home/sage/work/ABCDFixRelease2p0p1/abcd_ddtidp101.txt  with dataset type: basic\n",
      "dropped ['collection_id', 'abcd_ddtidp101_id', 'dataset_id', 'subjectkey', 'interview_age', 'interview_date', 'sex', 'collection_title', 'study_cohort_name'] columns by default  due to dataset type\n",
      "\n",
      "Loading /home/sage/work/ABCDFixRelease2p0p1/abcd_ddtidp201.txt  with dataset type: basic\n",
      "dropped ['collection_id', 'abcd_ddtidp201_id', 'dataset_id', 'subjectkey', 'interview_age', 'interview_date', 'sex', 'collection_title', 'study_cohort_name'] columns by default  due to dataset type\n",
      "\n",
      "Dropped 0 cols for all missing values\n",
      "Loaded rows with NaN remaining: 669\n",
      "Dropped 287 rows based on filter input params, e.g. filter outlier percent, drop cat, ect...\n",
      "\n",
      "Loaded NaN Info:\n",
      "There are: 1189056 total missing values\n",
      "20 columns found with 658 missing values (column name overlap: ['_cort.destrieux_', 'dmri_dti.', 'te'])\n",
      "16 columns found with 661 missing values (column name overlap: ['_cort.destrieux_mean.', 'dmri_dti.'])\n",
      "12 columns found with 660 missing values (column name overlap: ['_cort.destrieux_s.suborbital.rh', 'dmri_dti.'])\n",
      "12 columns found with 659 missing values (column name overlap: ['_cort.destrieux_pole.temporal.lh', 'dmri_dti.'])\n",
      "8 columns found with 667 missing values (column name overlap: ['_cort.destrieux_mean', 'dmri_dti.'])\n",
      "8 columns found with 662 missing values (column name overlap: ['_cort.destrieux_mean.rh', 'dmri_dti.'])\n",
      "4 columns found with 666 missing values (column name overlap: ['.gm_cort.destrieux_mean', 'dmri_dti.'])\n",
      "4 columns found with 657 missing values (column name overlap: ['.gm_cort.destrieux_pole.temporal.rh', 'dmri_dti.'])\n",
      "\n",
      "loaded shape:  (11113, 1812)\n",
      "\n",
      "Total valid overlapping subjects = 11113\n",
      "\n"
     ]
    }
   ],
   "source": [
    "ML.Load_Data(loc = [data1, data2],\n",
    "             filter_outlier_std = 10,\n",
    "             drop_na = False,\n",
    "             clear_existing=True)"
   ]
  },
  {
   "cell_type": "code",
   "execution_count": 7,
   "metadata": {},
   "outputs": [],
   "source": [
    "#ML.Show_Data_Dist(plot_type='hist')"
   ]
  },
  {
   "cell_type": "markdown",
   "metadata": {},
   "source": [
    "Next we will load in our target variables.\n",
    "\n",
    "- 'ksads_1_2_p' - Symptom - Depressed Mood Past\n",
    "\n",
    "- 'ksads_1_842_p' - Diagnosis - Major Depressive Disorder Past (F32.9)"
   ]
  },
  {
   "cell_type": "code",
   "execution_count": 8,
   "metadata": {},
   "outputs": [
    {
     "name": "stdout",
     "output_type": "stream",
     "text": [
      "Loading /home/sage/work/ABCD2p0NDA/abcd_ksad01.txt  with dataset type: basic\n",
      "4949 subjects have been dropped based on passed eventname params.\n",
      "Dropped 0 cols for all missing values\n",
      "Dropped 151 rows for missing values, based on the provided drop_na param: True with actual na_thresh: 0\n",
      "Loaded rows with NaN remaining: 0\n",
      "\n",
      "loading: ksads_1_842_p\n",
      "loading: ksads_1_2_p\n",
      "\n",
      "Final shape:  (11710, 2)\n",
      "\n",
      "Total valid overlapping subjects = 10955\n",
      "\n",
      "All loaded targets\n",
      "0 : ksads_1_842_p\n",
      "1 : ksads_1_2_p\n",
      "\n"
     ]
    }
   ],
   "source": [
    "ML.Load_Targets(loc = target1,\n",
    "                col_name = ['ksads_1_842_p', 'ksads_1_2_p'],\n",
    "                data_type = ['binary', 'binary'])"
   ]
  },
  {
   "cell_type": "code",
   "execution_count": 9,
   "metadata": {},
   "outputs": [
    {
     "name": "stdout",
     "output_type": "stream",
     "text": [
      "Set to overlapping loaded subjects.\n",
      "-- ksads_1_842_p --\n"
     ]
    },
    {
     "data": {
      "text/html": [
       "<div>\n",
       "<style scoped>\n",
       "    .dataframe tbody tr th:only-of-type {\n",
       "        vertical-align: middle;\n",
       "    }\n",
       "\n",
       "    .dataframe tbody tr th {\n",
       "        vertical-align: top;\n",
       "    }\n",
       "\n",
       "    .dataframe thead th {\n",
       "        text-align: right;\n",
       "    }\n",
       "</style>\n",
       "<table border=\"1\" class=\"dataframe\">\n",
       "  <thead>\n",
       "    <tr style=\"text-align: right;\">\n",
       "      <th></th>\n",
       "      <th>Original Name</th>\n",
       "      <th>Counts</th>\n",
       "      <th>Frequency</th>\n",
       "    </tr>\n",
       "    <tr>\n",
       "      <th>Internal Name</th>\n",
       "      <th></th>\n",
       "      <th></th>\n",
       "      <th></th>\n",
       "    </tr>\n",
       "  </thead>\n",
       "  <tbody>\n",
       "    <tr>\n",
       "      <th>0</th>\n",
       "      <td>0.0</td>\n",
       "      <td>10677</td>\n",
       "      <td>0.974623</td>\n",
       "    </tr>\n",
       "    <tr>\n",
       "      <th>1</th>\n",
       "      <td>1.0</td>\n",
       "      <td>278</td>\n",
       "      <td>0.025377</td>\n",
       "    </tr>\n",
       "  </tbody>\n",
       "</table>\n",
       "</div>"
      ],
      "text/plain": [
       "               Original Name  Counts  Frequency\n",
       "Internal Name                                  \n",
       "0                        0.0   10677   0.974623\n",
       "1                        1.0     278   0.025377"
      ]
     },
     "metadata": {},
     "output_type": "display_data"
    },
    {
     "data": {
      "image/png": "[encoded data removed]",
      "text/plain": [
       "<Figure size 432x288 with 1 Axes>"
      ]
     },
     "metadata": {
      "needs_background": "light"
     },
     "output_type": "display_data"
    },
    {
     "name": "stdout",
     "output_type": "stream",
     "text": [
      "\n",
      "-- ksads_1_2_p --\n"
     ]
    },
    {
     "data": {
      "text/html": [
       "<div>\n",
       "<style scoped>\n",
       "    .dataframe tbody tr th:only-of-type {\n",
       "        vertical-align: middle;\n",
       "    }\n",
       "\n",
       "    .dataframe tbody tr th {\n",
       "        vertical-align: top;\n",
       "    }\n",
       "\n",
       "    .dataframe thead th {\n",
       "        text-align: right;\n",
       "    }\n",
       "</style>\n",
       "<table border=\"1\" class=\"dataframe\">\n",
       "  <thead>\n",
       "    <tr style=\"text-align: right;\">\n",
       "      <th></th>\n",
       "      <th>Original Name</th>\n",
       "      <th>Counts</th>\n",
       "      <th>Frequency</th>\n",
       "    </tr>\n",
       "    <tr>\n",
       "      <th>Internal Name</th>\n",
       "      <th></th>\n",
       "      <th></th>\n",
       "      <th></th>\n",
       "    </tr>\n",
       "  </thead>\n",
       "  <tbody>\n",
       "    <tr>\n",
       "      <th>0</th>\n",
       "      <td>0.0</td>\n",
       "      <td>10116</td>\n",
       "      <td>0.923414</td>\n",
       "    </tr>\n",
       "    <tr>\n",
       "      <th>1</th>\n",
       "      <td>1.0</td>\n",
       "      <td>839</td>\n",
       "      <td>0.076586</td>\n",
       "    </tr>\n",
       "  </tbody>\n",
       "</table>\n",
       "</div>"
      ],
      "text/plain": [
       "               Original Name  Counts  Frequency\n",
       "Internal Name                                  \n",
       "0                        0.0   10116   0.923414\n",
       "1                        1.0     839   0.076586"
      ]
     },
     "metadata": {},
     "output_type": "display_data"
    },
    {
     "data": {
      "image/png": "[encoded data removed]",
      "text/plain": [
       "<Figure size 432x288 with 1 Axes>"
      ]
     },
     "metadata": {
      "needs_background": "light"
     },
     "output_type": "display_data"
    },
    {
     "name": "stdout",
     "output_type": "stream",
     "text": [
      "\n"
     ]
    }
   ],
   "source": [
    "ML.Show_Targets_Dist()"
   ]
  },
  {
   "cell_type": "markdown",
   "metadata": {},
   "source": [
    "A very skewed distribution for both, but a bit more severe with the past major depressive, vs past depressive mood.\n",
    "\n",
    "We will load in some co-variates next."
   ]
  },
  {
   "cell_type": "code",
   "execution_count": 10,
   "metadata": {},
   "outputs": [
    {
     "name": "stdout",
     "output_type": "stream",
     "text": [
      "cleared covars.\n",
      "\n",
      "Loading /home/sage/work/ABCDFixRelease2p0p1/abcd_ddtidp101.txt  with dataset type: basic\n",
      "Dropped 0 cols for all missing values\n",
      "Dropped 1 rows for missing values, based on the provided drop_na param: True with actual na_thresh: 0\n",
      "Loaded rows with NaN remaining: 0\n",
      "loading: interview_age\n",
      "loading: sex\n",
      "loaded shape:  (11399, 2)\n",
      "\n",
      "Total valid overlapping subjects = 10954\n",
      "\n",
      "Loading /home/sage/work/ABCD2p0NDA/abcd_mri01.txt  with dataset type: basic\n",
      "Dropped 0 cols for all missing values\n",
      "Dropped 0 rows for missing values, based on the provided drop_na param: True with actual na_thresh: 0\n",
      "Loaded rows with NaN remaining: 0\n",
      "loading: mri_info_manufacturer\n",
      "Found 3 categories\n",
      "dummy coding by dropping col mri_info_manufacturer_2\n",
      "loaded shape:  (11755, 2)\n",
      "Merged with existing!\n",
      "New combined shape: (11398, 4)\n",
      "\n",
      "Total valid overlapping subjects = 10953\n",
      "\n",
      "Loading /home/sage/work/ABCD2p0NDA/acspsw03.txt  with dataset type: basic\n",
      "Dropped 0 cols for all missing values\n",
      "Dropped 18 rows for missing values, based on the provided drop_na param: True with actual na_thresh: 0\n",
      "Loaded rows with NaN remaining: 0\n",
      "loading: race_ethnicity\n",
      "Found 5 categories\n",
      "dummy coding by dropping col race_ethnicity_0\n",
      "loaded shape:  (11857, 4)\n",
      "Merged with existing!\n",
      "New combined shape: (11382, 8)\n",
      "\n",
      "Total valid overlapping subjects = 10937\n",
      "\n"
     ]
    }
   ],
   "source": [
    "ML.Load_Covars(loc = data1,\n",
    "               col_name = ['interview_age', 'sex'],\n",
    "               data_type = ['f', 'b'],\n",
    "               clear_existing=True)\n",
    "\n",
    "ML.Load_Covars(loc = covar1,\n",
    "               col_name = 'mri_info_manufacturer',\n",
    "               data_type = 'c',\n",
    "               code_categorical_as='dummy')\n",
    "\n",
    "ML.Load_Covars(loc = covar2,\n",
    "               col_name = 'race_ethnicity',\n",
    "               data_type = 'c',\n",
    "               code_categorical_as='dummy')"
   ]
  },
  {
   "cell_type": "code",
   "execution_count": 11,
   "metadata": {},
   "outputs": [
    {
     "name": "stdout",
     "output_type": "stream",
     "text": [
      "Set to overlapping loaded subjects.\n",
      "-- interview_age --\n"
     ]
    },
    {
     "data": {
      "text/html": [
       "<div>\n",
       "<style scoped>\n",
       "    .dataframe tbody tr th:only-of-type {\n",
       "        vertical-align: middle;\n",
       "    }\n",
       "\n",
       "    .dataframe tbody tr th {\n",
       "        vertical-align: top;\n",
       "    }\n",
       "\n",
       "    .dataframe thead th {\n",
       "        text-align: right;\n",
       "    }\n",
       "</style>\n",
       "<table border=\"1\" class=\"dataframe\">\n",
       "  <thead>\n",
       "    <tr style=\"text-align: right;\">\n",
       "      <th></th>\n",
       "      <th>interview_age</th>\n",
       "    </tr>\n",
       "  </thead>\n",
       "  <tbody>\n",
       "    <tr>\n",
       "      <th>count</th>\n",
       "      <td>10937.000000</td>\n",
       "    </tr>\n",
       "    <tr>\n",
       "      <th>mean</th>\n",
       "      <td>118.953186</td>\n",
       "    </tr>\n",
       "    <tr>\n",
       "      <th>std</th>\n",
       "      <td>7.506532</td>\n",
       "    </tr>\n",
       "    <tr>\n",
       "      <th>min</th>\n",
       "      <td>107.000000</td>\n",
       "    </tr>\n",
       "    <tr>\n",
       "      <th>25%</th>\n",
       "      <td>112.000000</td>\n",
       "    </tr>\n",
       "    <tr>\n",
       "      <th>50%</th>\n",
       "      <td>119.000000</td>\n",
       "    </tr>\n",
       "    <tr>\n",
       "      <th>75%</th>\n",
       "      <td>125.000000</td>\n",
       "    </tr>\n",
       "    <tr>\n",
       "      <th>max</th>\n",
       "      <td>132.000000</td>\n",
       "    </tr>\n",
       "  </tbody>\n",
       "</table>\n",
       "</div>"
      ],
      "text/plain": [
       "       interview_age\n",
       "count   10937.000000\n",
       "mean      118.953186\n",
       "std         7.506532\n",
       "min       107.000000\n",
       "25%       112.000000\n",
       "50%       119.000000\n",
       "75%       125.000000\n",
       "max       132.000000"
      ]
     },
     "metadata": {},
     "output_type": "display_data"
    },
    {
     "name": "stdout",
     "output_type": "stream",
     "text": [
      "Num. of unique vals: 26\n",
      "\n"
     ]
    },
    {
     "data": {
      "image/png": "[encoded data removed]",
      "text/plain": [
       "<Figure size 432x288 with 1 Axes>"
      ]
     },
     "metadata": {
      "needs_background": "light"
     },
     "output_type": "display_data"
    },
    {
     "name": "stdout",
     "output_type": "stream",
     "text": [
      "\n",
      "-- sex --\n"
     ]
    },
    {
     "data": {
      "text/html": [
       "<div>\n",
       "<style scoped>\n",
       "    .dataframe tbody tr th:only-of-type {\n",
       "        vertical-align: middle;\n",
       "    }\n",
       "\n",
       "    .dataframe tbody tr th {\n",
       "        vertical-align: top;\n",
       "    }\n",
       "\n",
       "    .dataframe thead th {\n",
       "        text-align: right;\n",
       "    }\n",
       "</style>\n",
       "<table border=\"1\" class=\"dataframe\">\n",
       "  <thead>\n",
       "    <tr style=\"text-align: right;\">\n",
       "      <th></th>\n",
       "      <th>Original Name</th>\n",
       "      <th>Counts</th>\n",
       "      <th>Frequency</th>\n",
       "    </tr>\n",
       "    <tr>\n",
       "      <th>Internal Name</th>\n",
       "      <th></th>\n",
       "      <th></th>\n",
       "      <th></th>\n",
       "    </tr>\n",
       "  </thead>\n",
       "  <tbody>\n",
       "    <tr>\n",
       "      <th>0</th>\n",
       "      <td>F</td>\n",
       "      <td>5212</td>\n",
       "      <td>0.476547</td>\n",
       "    </tr>\n",
       "    <tr>\n",
       "      <th>1</th>\n",
       "      <td>M</td>\n",
       "      <td>5725</td>\n",
       "      <td>0.523453</td>\n",
       "    </tr>\n",
       "  </tbody>\n",
       "</table>\n",
       "</div>"
      ],
      "text/plain": [
       "              Original Name  Counts  Frequency\n",
       "Internal Name                                 \n",
       "0                         F    5212   0.476547\n",
       "1                         M    5725   0.523453"
      ]
     },
     "metadata": {},
     "output_type": "display_data"
    },
    {
     "data": {
      "image/png": "[encoded data removed]",
      "text/plain": [
       "<Figure size 432x288 with 1 Axes>"
      ]
     },
     "metadata": {
      "needs_background": "light"
     },
     "output_type": "display_data"
    },
    {
     "name": "stdout",
     "output_type": "stream",
     "text": [
      "\n",
      "-- mri_info_manufacturer --\n"
     ]
    },
    {
     "data": {
      "text/html": [
       "<div>\n",
       "<style scoped>\n",
       "    .dataframe tbody tr th:only-of-type {\n",
       "        vertical-align: middle;\n",
       "    }\n",
       "\n",
       "    .dataframe tbody tr th {\n",
       "        vertical-align: top;\n",
       "    }\n",
       "\n",
       "    .dataframe thead th {\n",
       "        text-align: right;\n",
       "    }\n",
       "</style>\n",
       "<table border=\"1\" class=\"dataframe\">\n",
       "  <thead>\n",
       "    <tr style=\"text-align: right;\">\n",
       "      <th></th>\n",
       "      <th>Original Name</th>\n",
       "      <th>Counts</th>\n",
       "      <th>Frequency</th>\n",
       "    </tr>\n",
       "    <tr>\n",
       "      <th>Internal Name</th>\n",
       "      <th></th>\n",
       "      <th></th>\n",
       "      <th></th>\n",
       "    </tr>\n",
       "  </thead>\n",
       "  <tbody>\n",
       "    <tr>\n",
       "      <th>mri_info_manufacturer_0</th>\n",
       "      <td>GE MEDICAL SYSTEMS</td>\n",
       "      <td>2613.0</td>\n",
       "      <td>0.238914</td>\n",
       "    </tr>\n",
       "    <tr>\n",
       "      <th>mri_info_manufacturer_1</th>\n",
       "      <td>Philips Medical Systems</td>\n",
       "      <td>1347.0</td>\n",
       "      <td>0.123160</td>\n",
       "    </tr>\n",
       "    <tr>\n",
       "      <th>mri_info_manufacturer_2</th>\n",
       "      <td>SIEMENS</td>\n",
       "      <td>6977.0</td>\n",
       "      <td>0.637926</td>\n",
       "    </tr>\n",
       "  </tbody>\n",
       "</table>\n",
       "</div>"
      ],
      "text/plain": [
       "                                   Original Name  Counts  Frequency\n",
       "Internal Name                                                      \n",
       "mri_info_manufacturer_0       GE MEDICAL SYSTEMS  2613.0   0.238914\n",
       "mri_info_manufacturer_1  Philips Medical Systems  1347.0   0.123160\n",
       "mri_info_manufacturer_2                  SIEMENS  6977.0   0.637926"
      ]
     },
     "metadata": {},
     "output_type": "display_data"
    },
    {
     "name": "stdout",
     "output_type": "stream",
     "text": [
      "Note: mri_info_manufacturer_2 was dropped due to dummy coding but is still shown.\n"
     ]
    },
    {
     "data": {
      "image/png": "[encoded data removed]",
      "text/plain": [
       "<Figure size 432x288 with 1 Axes>"
      ]
     },
     "metadata": {
      "needs_background": "light"
     },
     "output_type": "display_data"
    },
    {
     "name": "stdout",
     "output_type": "stream",
     "text": [
      "\n",
      "-- race_ethnicity --\n"
     ]
    },
    {
     "data": {
      "text/html": [
       "<div>\n",
       "<style scoped>\n",
       "    .dataframe tbody tr th:only-of-type {\n",
       "        vertical-align: middle;\n",
       "    }\n",
       "\n",
       "    .dataframe tbody tr th {\n",
       "        vertical-align: top;\n",
       "    }\n",
       "\n",
       "    .dataframe thead th {\n",
       "        text-align: right;\n",
       "    }\n",
       "</style>\n",
       "<table border=\"1\" class=\"dataframe\">\n",
       "  <thead>\n",
       "    <tr style=\"text-align: right;\">\n",
       "      <th></th>\n",
       "      <th>Original Name</th>\n",
       "      <th>Counts</th>\n",
       "      <th>Frequency</th>\n",
       "    </tr>\n",
       "    <tr>\n",
       "      <th>Internal Name</th>\n",
       "      <th></th>\n",
       "      <th></th>\n",
       "      <th></th>\n",
       "    </tr>\n",
       "  </thead>\n",
       "  <tbody>\n",
       "    <tr>\n",
       "      <th>race_ethnicity_0</th>\n",
       "      <td>1.0</td>\n",
       "      <td>5751.0</td>\n",
       "      <td>0.525830</td>\n",
       "    </tr>\n",
       "    <tr>\n",
       "      <th>race_ethnicity_1</th>\n",
       "      <td>2.0</td>\n",
       "      <td>1607.0</td>\n",
       "      <td>0.146932</td>\n",
       "    </tr>\n",
       "    <tr>\n",
       "      <th>race_ethnicity_2</th>\n",
       "      <td>3.0</td>\n",
       "      <td>2208.0</td>\n",
       "      <td>0.201884</td>\n",
       "    </tr>\n",
       "    <tr>\n",
       "      <th>race_ethnicity_3</th>\n",
       "      <td>4.0</td>\n",
       "      <td>221.0</td>\n",
       "      <td>0.020207</td>\n",
       "    </tr>\n",
       "    <tr>\n",
       "      <th>race_ethnicity_4</th>\n",
       "      <td>5.0</td>\n",
       "      <td>1150.0</td>\n",
       "      <td>0.105148</td>\n",
       "    </tr>\n",
       "  </tbody>\n",
       "</table>\n",
       "</div>"
      ],
      "text/plain": [
       "                  Original Name  Counts  Frequency\n",
       "Internal Name                                     \n",
       "race_ethnicity_0            1.0  5751.0   0.525830\n",
       "race_ethnicity_1            2.0  1607.0   0.146932\n",
       "race_ethnicity_2            3.0  2208.0   0.201884\n",
       "race_ethnicity_3            4.0   221.0   0.020207\n",
       "race_ethnicity_4            5.0  1150.0   0.105148"
      ]
     },
     "metadata": {},
     "output_type": "display_data"
    },
    {
     "name": "stdout",
     "output_type": "stream",
     "text": [
      "Note: race_ethnicity_0 was dropped due to dummy coding but is still shown.\n"
     ]
    },
    {
     "data": {
      "image/png": "[encoded data removed]",
      "text/plain": [
       "<Figure size 432x288 with 1 Axes>"
      ]
     },
     "metadata": {
      "needs_background": "light"
     },
     "output_type": "display_data"
    },
    {
     "name": "stdout",
     "output_type": "stream",
     "text": [
      "\n"
     ]
    }
   ],
   "source": [
    "ML.Show_Covars_Dist()"
   ]
  },
  {
   "cell_type": "markdown",
   "metadata": {},
   "source": [
    "We could load extra stratification value with Load_Strat here if we wanted special validation behavior for example, in this case, we dont as we have such skewed distributions."
   ]
  },
  {
   "cell_type": "markdown",
   "metadata": {},
   "source": [
    "# Validation Phase\n",
    "\n",
    "A reasonable validation strategy given such skewed target distributions is stratify by the target variable directy (in this case an overlap over both of interest)"
   ]
  },
  {
   "cell_type": "code",
   "execution_count": 12,
   "metadata": {},
   "outputs": [
    {
     "name": "stdout",
     "output_type": "stream",
     "text": [
      "\n",
      "Total valid overlapping subjects = 10937\n",
      "Removing non overlapping subjects from loaded data, covars, ect...\n",
      "\n",
      "CV defined with stratifying behavior over 4 unique values.\n"
     ]
    },
    {
     "data": {
      "text/html": [
       "<div>\n",
       "<style scoped>\n",
       "    .dataframe tbody tr th:only-of-type {\n",
       "        vertical-align: middle;\n",
       "    }\n",
       "\n",
       "    .dataframe tbody tr th {\n",
       "        vertical-align: top;\n",
       "    }\n",
       "\n",
       "    .dataframe thead th {\n",
       "        text-align: right;\n",
       "    }\n",
       "</style>\n",
       "<table border=\"1\" class=\"dataframe\">\n",
       "  <thead>\n",
       "    <tr style=\"text-align: right;\">\n",
       "      <th></th>\n",
       "      <th>ksads_1_842_p</th>\n",
       "      <th>ksads_1_2_p</th>\n",
       "      <th>Counts</th>\n",
       "    </tr>\n",
       "  </thead>\n",
       "  <tbody>\n",
       "    <tr>\n",
       "      <th>0</th>\n",
       "      <td>0.0</td>\n",
       "      <td>0.0</td>\n",
       "      <td>10014</td>\n",
       "    </tr>\n",
       "    <tr>\n",
       "      <th>1</th>\n",
       "      <td>0.0</td>\n",
       "      <td>1.0</td>\n",
       "      <td>646</td>\n",
       "    </tr>\n",
       "    <tr>\n",
       "      <th>2</th>\n",
       "      <td>1.0</td>\n",
       "      <td>0.0</td>\n",
       "      <td>87</td>\n",
       "    </tr>\n",
       "    <tr>\n",
       "      <th>3</th>\n",
       "      <td>1.0</td>\n",
       "      <td>1.0</td>\n",
       "      <td>190</td>\n",
       "    </tr>\n",
       "  </tbody>\n",
       "</table>\n",
       "</div>"
      ],
      "text/plain": [
       "   ksads_1_842_p  ksads_1_2_p  Counts\n",
       "0            0.0          0.0   10014\n",
       "1            0.0          1.0     646\n",
       "2            1.0          0.0      87\n",
       "3            1.0          1.0     190"
      ]
     },
     "metadata": {},
     "output_type": "display_data"
    }
   ],
   "source": [
    "ML.Define_Validation_Strategy(stratify= ['ksads_1_842_p', 'ksads_1_2_p'])"
   ]
  },
  {
   "cell_type": "markdown",
   "metadata": {},
   "source": [
    "The smallest defined group contains only 86 subjects. This means that group could get a pretty small representation within nested CV, but it *should* be okay.\n",
    "\n",
    "Next we define a global train test split, which will take into account our defined validation strategy. "
   ]
  },
  {
   "cell_type": "code",
   "execution_count": 13,
   "metadata": {},
   "outputs": [
    {
     "name": "stdout",
     "output_type": "stream",
     "text": [
      "Preparing final data, in self.all_data\n",
      "Any changes to loaded data, covars or strat will not be included, from now on.\n",
      "\n",
      "Final data (w/ target) for modeling loaded shape: (10937, 1822)\n",
      "Performing split on 10937 subjects!\n",
      "random_state: 1\n",
      "Test split size: 0.2\n",
      "\n",
      "Performed train test split\n",
      "Train size: 8749\n",
      "Test size:  2188\n"
     ]
    }
   ],
   "source": [
    "ML.Train_Test_Split(test_size=.2)"
   ]
  },
  {
   "cell_type": "markdown",
   "metadata": {},
   "source": [
    "# Modeling Phase\n",
    "\n",
    "We first begin by setting any default parameters we know that we will not change much."
   ]
  },
  {
   "cell_type": "code",
   "execution_count": 14,
   "metadata": {},
   "outputs": [],
   "source": [
    "#ML.Set_Default_ML_Params?"
   ]
  },
  {
   "cell_type": "code",
   "execution_count": 15,
   "metadata": {},
   "outputs": [],
   "source": [
    "ML.Set_Default_ML_Params(problem_type = 'binary',\n",
    "                         target = 0, # We will start of with major depressive\n",
    "                         metric = ['roc auc', 'matthews', 'f1'], # Range of good binary metrics\n",
    "                         scaler = 'standard',\n",
    "                         splits = 3,\n",
    "                         n_repeats = 2,\n",
    "                         search_type = 'RandomSearch',\n",
    "                         search_splits = 3,\n",
    "                         search_n_iter = 20,\n",
    "                         n_jobs = 16)"
   ]
  },
  {
   "cell_type": "markdown",
   "metadata": {},
   "source": [
    "To see what binary models are avaliable we can call \n",
    "\"ML.Show_Models(problem_type='binary')\" \n",
    "\n",
    "or \n",
    "\n",
    "They can also be seen (in perhaps a more visually appealing way) at: https://abcd-ml.readthedocs.io/en/latest/options.html#binary\n",
    "\n",
    "Below will simply explore running some different combinations of models"
   ]
  },
  {
   "cell_type": "code",
   "execution_count": null,
   "metadata": {},
   "outputs": [
    {
     "name": "stdout",
     "output_type": "stream",
     "text": [
      "Setting default ML verbosity settings!\n",
      "Note, if the following values are not desired, call self.Set_Default_ML_Verbosity()\n",
      "Default ML verbosity set within self.default_ML_verbosity.\n",
      "----------------------\n",
      "save_results: False\n",
      "progress_bar: True\n",
      "show_init_params: True\n",
      "fold_name: False\n",
      "time_per_fold: False\n",
      "score_per_fold: False\n",
      "fold_sizes: False\n",
      "best_params: False\n",
      "save_to_logs: False\n",
      "\n",
      "----Running Evaluate----\n",
      "\n",
      "Experiment Params:\n",
      "problem_type = binary\n",
      "target = ksads_1_842_p\n",
      "metric = ['roc auc', 'matthews', 'f1']\n",
      "splits = 3\n",
      "n_repeats = 2\n",
      "\n",
      "Model Pipeline Params:\n",
      "model = ridge\n",
      "imputer = ['mean', 'median']\n",
      "imputer_scope = ['float', 'cat']\n",
      "scaler = standard\n",
      "scaler_scope = float\n",
      "\n",
      "Search Params:\n",
      "search_type = RandomSearch\n",
      "search_splits = 3\n",
      "search_n_iter = 20\n",
      "model_params = 1\n",
      "feat_selector_params = None\n",
      "\n",
      "Remaining Params:\n",
      "n_jobs = 16\n",
      "scope = all\n",
      "subjects = all\n",
      "random_state = 1\n",
      "feat_importances = base\n",
      "feat_importances_params = 0\n",
      "\n",
      "Saving scores and settings with unique name: ridge\n",
      "\n"
     ]
    },
    {
     "data": {
      "application/vnd.jupyter.widget-view+json": {
       "model_id": "eb5eeb4df8b448ce8b4334ae40e34587",
       "version_major": 2,
       "version_minor": 0
      },
      "text/plain": [
       "HBox(children=(FloatProgress(value=0.0, description='Repeats', max=2.0, style=ProgressStyle(description_width=…"
      ]
     },
     "metadata": {},
     "output_type": "display_data"
    },
    {
     "data": {
      "application/vnd.jupyter.widget-view+json": {
       "model_id": "fec830e0e9d94dd998aaa269b4e36774",
       "version_major": 2,
       "version_minor": 0
      },
      "text/plain": [
       "HBox(children=(FloatProgress(value=0.0, description='Folds', max=3.0, style=ProgressStyle(description_width='i…"
      ]
     },
     "metadata": {},
     "output_type": "display_data"
    }
   ],
   "source": [
    "raw_scores, raw_preds = ML.Evaluate(model = 'ridge',\n",
    "                                    model_params = 1)"
   ]
  },
  {
   "cell_type": "code",
   "execution_count": null,
   "metadata": {},
   "outputs": [],
   "source": [
    "ep = {'balanced bagging': {'n_estimators': 20}}\n",
    "raw_scores, raw_preds = ML.Evaluate(model = 'ridge',\n",
    "                                    model_params = 1,\n",
    "                                    ensemble = 'balanced bagging',\n",
    "                                    ensemble_params = 0,\n",
    "                                    extra_params = ep)"
   ]
  },
  {
   "cell_type": "code",
   "execution_count": null,
   "metadata": {},
   "outputs": [],
   "source": [
    "ML.Model_Pipeline.Model.estimator['balanced bagging classifier']"
   ]
  },
  {
   "cell_type": "code",
   "execution_count": null,
   "metadata": {},
   "outputs": [],
   "source": [
    "ep = {'balanced bagging': {'n_estimators': 20}}\n",
    "raw_scores, raw_preds = ML.Evaluate(model = 'light gbm',\n",
    "                                    model_params = 1,\n",
    "                                    ensemble = 'balanced bagging',\n",
    "                                    ensemble_params = 0,\n",
    "                                    extra_params = ep)"
   ]
  },
  {
   "cell_type": "code",
   "execution_count": null,
   "metadata": {},
   "outputs": [],
   "source": [
    "raw_scores = ML.Evaluate(model = 'svm classifier',\n",
    "                         model_params = 1,\n",
    "                         feat_selector = 'univariate selection')"
   ]
  },
  {
   "cell_type": "code",
   "execution_count": null,
   "metadata": {},
   "outputs": [],
   "source": [
    "raw_scores = ML.Evaluate(model = 'light gbm',\n",
    "                         model_params = 1,\n",
    "                         feat_selector = 'univariate selection')"
   ]
  },
  {
   "cell_type": "markdown",
   "metadata": {},
   "source": [
    "Note the negative matthews corr coef. this is pretty bad."
   ]
  },
  {
   "cell_type": "code",
   "execution_count": null,
   "metadata": {},
   "outputs": [],
   "source": [
    "raw_scores = ML.Evaluate(model = 'elastic net',\n",
    "                         model_params = 1,\n",
    "                         feat_selector = 'univariate selection')"
   ]
  },
  {
   "cell_type": "markdown",
   "metadata": {},
   "source": [
    "Lets see if we get any better results using the second target we defined."
   ]
  },
  {
   "cell_type": "code",
   "execution_count": null,
   "metadata": {},
   "outputs": [],
   "source": [
    "ML.Set_Default_ML_Params(target = 1)"
   ]
  },
  {
   "cell_type": "code",
   "execution_count": null,
   "metadata": {},
   "outputs": [],
   "source": [
    "raw_scores, raw_preds = ML.Evaluate(model = 'ridge',\n",
    "                                    model_params = 1)"
   ]
  },
  {
   "cell_type": "code",
   "execution_count": null,
   "metadata": {},
   "outputs": [],
   "source": []
  },
  {
   "cell_type": "code",
   "execution_count": null,
   "metadata": {},
   "outputs": [],
   "source": []
  }
 ],
 "metadata": {
  "kernelspec": {
   "display_name": "Python 3",
   "language": "python",
   "name": "python3"
  },
  "language_info": {
   "codemirror_mode": {
    "name": "ipython",
    "version": 3
   },
   "file_extension": ".py",
   "mimetype": "text/x-python",
   "name": "python",
   "nbconvert_exporter": "python",
   "pygments_lexer": "ipython3",
   "version": "3.7.6"
  }
 },
 "nbformat": 4,
 "nbformat_minor": 2
}
