{
 "cells": [
  {
   "cell_type": "code",
   "execution_count": 1,
   "metadata": {},
   "outputs": [
    {
     "name": "stderr",
     "output_type": "stream",
     "text": [
      "Using TensorFlow backend.\n"
     ]
    }
   ],
   "source": [
    "from ABCD_ML.ABCD_ML import ABCD_ML"
   ]
  },
  {
   "cell_type": "code",
   "execution_count": 2,
   "metadata": {},
   "outputs": [],
   "source": [
    "nda_dr = '/mnt/sdb2/ABCD2p0NDA/'\n",
    "nda_dr2 = '/mnt/sdb2/ABCDFixRelease2p0p1/'\n",
    "\n",
    "map_file = nda_dr2 + 'Fix Release Notes 2.0.1_Public/24. ABCD_Release_2.0.1_Updates/abcd_2.0.1_mapping.csv'\n",
    "\n",
    "data1 = nda_dr2 + 'abcd_ddtidp101.txt'\n",
    "data2 = nda_dr2 + 'abcd_ddtidp201.txt'\n",
    "\n",
    "covar_loc = '/mnt/sdb2/2.0_ABCD_Data_Explorer/2.0_NDA_Data/Other Non-Imaging/ABCD ACS Post Stratification Weights.csv'\n",
    "\n",
    "target_file = nda_dr + 'abcd_ksad01.txt'\n",
    "#ksads_1_842_p"
   ]
  },
  {
   "cell_type": "code",
   "execution_count": 3,
   "metadata": {},
   "outputs": [
    {
     "data": {
      "text/plain": [
       "'/mnt/sdb2/ABCD2p0NDA/abcd_ksad01.txt'"
      ]
     },
     "execution_count": 3,
     "metadata": {},
     "output_type": "execute_result"
    }
   ],
   "source": [
    "nda_dr + 'abcd_ksad01.txt'"
   ]
  },
  {
   "cell_type": "code",
   "execution_count": 4,
   "metadata": {},
   "outputs": [
    {
     "name": "stdout",
     "output_type": "stream",
     "text": [
      "exp_name = Matts_Exp\n",
      "log_dr = /home/sage/ABCD_ML/Examples\n",
      "existing_log = new\n",
      "verbose = True\n",
      "exp log dr setup at: /home/sage/ABCD_ML/Examples/Matts_Exp(1)\n",
      "log file at: /home/sage/ABCD_ML/Examples/Matts_Exp(1)/logs.txt\n",
      "notebook = True\n",
      "default subject id col = src_subject_id\n",
      "eventname = baseline_year_1_arm_1\n",
      "use default subject ids = True\n",
      "default dataset type = basic\n",
      "default NaN values = ['777', '999']\n",
      "original targets key col = targets\n",
      "low memory mode = False\n",
      "random state = 1\n",
      "ABCD_ML object initialized\n"
     ]
    }
   ],
   "source": [
    "ML = ABCD_ML(exp_name = 'Matts_Exp',\n",
    "             random_state = 1)"
   ]
  },
  {
   "cell_type": "code",
   "execution_count": 5,
   "metadata": {},
   "outputs": [
    {
     "name": "stdout",
     "output_type": "stream",
     "text": [
      "Loading /mnt/sdb2/ABCDFixRelease2p0p1/Fix Release Notes 2.0.1_Public/24. ABCD_Release_2.0.1_Updates/abcd_2.0.1_mapping.csv assumed to be dataset type: explorer\n",
      "Loaded map file\n"
     ]
    }
   ],
   "source": [
    "ML.Load_Name_Map(loc = map_file,\n",
    "                 dataset_type = 'explorer',\n",
    "                 source_name_col = 'nda_name',\n",
    "                 target_name_col = 'deap_name')"
   ]
  },
  {
   "cell_type": "code",
   "execution_count": 6,
   "metadata": {},
   "outputs": [
    {
     "name": "stdout",
     "output_type": "stream",
     "text": [
      "cleared data.\n",
      "Loading /mnt/sdb2/ABCDFixRelease2p0p1/abcd_ddtidp101.txt assumed to be dataset type: basic\n",
      "dropped ['collection_id', 'abcd_ddtidp101_id', 'dataset_id', 'subjectkey', 'interview_age', 'interview_date', 'sex', 'collection_title', 'study_cohort_name'] columns by default  due to dataset type\n",
      "Loading /mnt/sdb2/ABCDFixRelease2p0p1/abcd_ddtidp201.txt assumed to be dataset type: basic\n",
      "dropped ['collection_id', 'abcd_ddtidp201_id', 'dataset_id', 'subjectkey', 'interview_age', 'interview_date', 'sex', 'collection_title', 'study_cohort_name'] columns by default  due to dataset type\n",
      "Dropped 906 columns, per drop_keys argument\n",
      "Dropped 0 cols for all missing values\n",
      "Dropped 669 rows for missing values\n",
      "Dropped rows with missing data\n",
      "Filtered data for outliers with value:  0.0001\n",
      "Winsorized data with value:  0.001\n",
      "loaded shape:  (9758, 906)\n",
      "\n",
      "Total valid overlapping subjects = 9758\n",
      "\n"
     ]
    }
   ],
   "source": [
    "ML.Clear_Data()\n",
    "\n",
    "ML.Load_Data(loc = [data1, data2],\n",
    "             drop_keys = ['.md.', '.ld.'],\n",
    "             filter_outlier_percent = .0001,\n",
    "             winsorize_val = .001)"
   ]
  },
  {
   "cell_type": "code",
   "execution_count": 7,
   "metadata": {},
   "outputs": [
    {
     "name": "stdout",
     "output_type": "stream",
     "text": [
      "Loading targets!\n",
      "Loading /mnt/sdb2/ABCD2p0NDA/abcd_ksad01.txt assumed to be dataset type: basic\n",
      "Final shape:  (11710, 1)\n",
      "\n",
      "Total valid overlapping subjects = 9612\n",
      "\n"
     ]
    }
   ],
   "source": [
    "ML.Load_Targets(loc = target_file,\n",
    "                col_name = 'ksads_1_842_p',\n",
    "                data_type = 'binary')"
   ]
  },
  {
   "cell_type": "code",
   "execution_count": 8,
   "metadata": {},
   "outputs": [
    {
     "name": "stdout",
     "output_type": "stream",
     "text": [
      "Loading covariates!\n",
      "Loading /mnt/sdb2/2.0_ABCD_Data_Explorer/2.0_NDA_Data/Other Non-Imaging/ABCD ACS Post Stratification Weights.csv assumed to be dataset type: explorer\n",
      "load: race_ethnicity\n",
      "Encoded to 5 categories\n",
      "\n",
      "Total valid overlapping subjects = 9598\n",
      "\n"
     ]
    }
   ],
   "source": [
    "ML.Load_Covars(loc = covar_loc,\n",
    "               col_names = ['race_ethnicity'],\n",
    "               data_types = ['c'],\n",
    "               dataset_type = 'explorer',\n",
    "               code_categorical_as = 'one hot'\n",
    "               )"
   ]
  },
  {
   "cell_type": "code",
   "execution_count": null,
   "metadata": {},
   "outputs": [
    {
     "name": "stdout",
     "output_type": "stream",
     "text": [
      "Reading strat/stratification values!\n",
      "Loading /mnt/sdb2/2.0_ABCD_Data_Explorer/2.0_NDA_Data/Other Non-Imaging/ABCD ACS Post Stratification Weights.csv assumed to be dataset type: explorer\n",
      "\n",
      "Total valid overlapping subjects = 9596\n",
      "\n",
      "Removing non overlapping subjects\n"
     ]
    }
   ],
   "source": [
    "ML.Load_Strat(loc = covar_loc,\n",
    "              col_names = ['rel_family_id'],\n",
    "              dataset_type = 'explorer')"
   ]
  },
  {
   "cell_type": "code",
   "execution_count": null,
   "metadata": {},
   "outputs": [
    {
     "name": "stdout",
     "output_type": "stream",
     "text": [
      "Reading strat/stratification values!\n",
      "Loading /mnt/sdb2/ABCDFixRelease2p0p1/abcd_ddtidp101.txt assumed to be dataset type: basic\n",
      "Merged with existing!\n",
      "\n",
      "Total valid overlapping subjects = 9596\n",
      "\n",
      "Removing non overlapping subjects\n"
     ]
    }
   ],
   "source": [
    "ML.Load_Strat(loc = data1,\n",
    "              col_names = ['sex'],\n",
    "              binary_col_inds = 0)"
   ]
  },
  {
   "cell_type": "code",
   "execution_count": null,
   "metadata": {},
   "outputs": [
    {
     "name": "stdout",
     "output_type": "stream",
     "text": [
      "CV defined with stratifying behavior, over 2 unique values.\n"
     ]
    }
   ],
   "source": [
    "ML.Define_Validation_Strategy(stratify='targets')"
   ]
  },
  {
   "cell_type": "code",
   "execution_count": null,
   "metadata": {},
   "outputs": [
    {
     "name": "stdout",
     "output_type": "stream",
     "text": [
      "Final data for modeling loaded shape: (9596, 912)\n",
      "Performed train/test split, train size: 7676 test size:  1920\n"
     ]
    }
   ],
   "source": [
    "ML.Train_Test_Split(test_size=.2)"
   ]
  },
  {
   "cell_type": "code",
   "execution_count": null,
   "metadata": {
    "scrolled": true
   },
   "outputs": [
    {
     "name": "stdout",
     "output_type": "stream",
     "text": [
      "Setting default ML params.\n",
      "Note, if the following values are not desired, call self.Set_Default_ML_Params()\n",
      "Or just pass values everytime to Evaluate or Test, and these default values will be ignored\n",
      "No default metric passed, set to, macro roc auc based on default problem type.\n",
      "No default data scaler passed, set to standard\n",
      "No default sampler passed, set to None\n",
      "No default feat selector passed, set to None\n",
      "No default num CV splits passed, set to 3\n",
      "No default num CV repeats passed, set to 2\n",
      "No default num internal CV splits passed, set to 3\n",
      "No default search type passed, set to None\n",
      "No default data scaler param ind passed, set to 0\n",
      "No default sampler param ind passed, set to 0\n",
      "No default feat selector param ind passed, set to 0\n",
      "No default class weight setting passed, set to None\n",
      "No default number of jobs passed, set to 1\n",
      "No default number of random search iters passed, set to 10\n",
      "No default random state passed, using class random state value of 1\n",
      "No default extra params passed, set to empty dict\n",
      "Default params set.\n",
      "\n",
      "Running Evaluate with:\n",
      "model_type = elastic\n",
      "problem_type = binary\n",
      "metric = roc auc\n",
      "data_scaler = standard\n",
      "sampler = None\n",
      "feat_selector = None\n",
      "n_splits = 3\n",
      "n_repeats = 2\n",
      "int_cv = 3\n",
      "ensemble_type = basic ensemble\n",
      "ensemble_split = 0.2\n",
      "search_type = None\n",
      "model_type_param_ind = 1\n",
      "data_scaler_param_ind = 0\n",
      "sampler_param_ind = 0\n",
      "feat_selector_param_ind = 0\n",
      "class_weight = None\n",
      "n_jobs = 8\n",
      "n_iter = 50\n",
      "random_state = 1\n",
      "extra_params = {}\n",
      "\n"
     ]
    },
    {
     "name": "stderr",
     "output_type": "stream",
     "text": [
      "/home/sage/anaconda3/lib/python3.6/site-packages/sklearn/linear_model/sag.py:337: ConvergenceWarning: The max_iter was reached which means the coef_ did not converge\n",
      "  \"the coef_ did not converge\", ConvergenceWarning)\n"
     ]
    }
   ],
   "source": [
    "ML.Evaluate(problem_type='binary',\n",
    "            model_type='elastic',\n",
    "            model_type_param_ind=1,\n",
    "            metric='roc auc',\n",
    "            n_iter = 50,\n",
    "            n_jobs = 8)"
   ]
  },
  {
   "cell_type": "code",
   "execution_count": null,
   "metadata": {},
   "outputs": [],
   "source": [
    "ML.Evaluate(problem_type='binary',\n",
    "            model_type='elastic',\n",
    "            model_type_param_ind=1,\n",
    "            metric='roc auc',\n",
    "            sampler='random over sampler',\n",
    "            n_iter = 50,\n",
    "            n_jobs = 8)"
   ]
  },
  {
   "cell_type": "code",
   "execution_count": null,
   "metadata": {},
   "outputs": [],
   "source": []
  }
 ],
 "metadata": {
  "kernelspec": {
   "display_name": "Python 3",
   "language": "python",
   "name": "python3"
  },
  "language_info": {
   "codemirror_mode": {
    "name": "ipython",
    "version": 3
   },
   "file_extension": ".py",
   "mimetype": "text/x-python",
   "name": "python",
   "nbconvert_exporter": "python",
   "pygments_lexer": "ipython3",
   "version": "3.6.7"
  }
 },
 "nbformat": 4,
 "nbformat_minor": 2
}
