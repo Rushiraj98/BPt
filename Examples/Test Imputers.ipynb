{
 "cells": [
  {
   "cell_type": "code",
   "execution_count": 1,
   "metadata": {},
   "outputs": [],
   "source": [
    "from ABCD_ML import *\n",
    "import os\n",
    "import numpy as np"
   ]
  },
  {
   "cell_type": "code",
   "execution_count": 2,
   "metadata": {},
   "outputs": [],
   "source": [
    "# Base data directories, 2.0 release with most of the phenotype information\n",
    "main_dr = '/home/sage/work/'\n",
    "\n",
    "nda_dr = main_dr + 'ABCD2p0NDA/'\n",
    "\n",
    "# This folder contains the re-released 2.0.1 fixed MRI derived measurements\n",
    "nda_dr2 = main_dr + 'ABCDFixRelease2p0p1'\n",
    "\n",
    "#This file stores the name mapping\n",
    "map_file = os.path.join(nda_dr2, 'Fix Release Notes 2.0.1_Public', '24. ABCD_Release_2.0.1_Updates',\n",
    "                        'abcd_2.0.1_mapping.csv')\n",
    "\n",
    "# Destr atlas structural MRI rois\n",
    "data1 = os.path.join(nda_dr2, 'mrisst02.txt')\n",
    "data2 = os.path.join(nda_dr2,'abcd_tfsstabwdp101.txt')\n",
    "data3 = os.path.join(nda_dr2, 'abcd_tfsstabwdp201.txt')\n",
    "\n",
    "# Family ID\n",
    "strat1 = os.path.join(nda_dr, 'acspsw03.txt')\n",
    "\n",
    "# This file contains the NIH toolbox scores\n",
    "target_loc = nda_dr + 'abcd_sst02.txt'"
   ]
  },
  {
   "cell_type": "code",
   "execution_count": 3,
   "metadata": {},
   "outputs": [
    {
     "name": "stdout",
     "output_type": "stream",
     "text": [
      "exp_name = My_ML_Exp\n",
      "log_dr = None\n",
      "existing_log = append\n",
      "verbose = True\n",
      "exp log dr setup at: None\n",
      "log file at: None\n",
      "Default params set:\n",
      "notebook = True\n",
      "use_abcd_subject_ids = False\n",
      "low memory mode = False\n",
      "strat_u_name = _Strat\n",
      "random state = 534\n",
      "n_jobs = 1\n",
      "dpi = 100\n",
      "mp_context = spawn\n",
      "ABCD_ML object initialized\n",
      "Setting default load params, as they have not been set!\n",
      "\n",
      "Default load params set within self.default_load_params.\n",
      "----------------------\n",
      "dataset_type: basic\n",
      "subject_id: src_subject_id\n",
      "eventname: None\n",
      "eventname_col: eventname\n",
      "overlap_subjects: False\n",
      "merge: inner\n",
      "na_values: ['777', '999']\n",
      "drop_na: True\n",
      "drop_or_na: drop\n",
      "\n",
      "To change the default load params, call self.Set_Default_Load_Params()\n",
      "\n",
      "Loading /home/sage/work/ABCDFixRelease2p0p1/Fix Release Notes 2.0.1_Public/24. ABCD_Release_2.0.1_Updates/abcd_2.0.1_mapping.csv  with dataset type: explorer\n",
      "Loading new name_map from file!\n"
     ]
    }
   ],
   "source": [
    "ML = ABCD_ML(log_dr = None)\n",
    "ML.Load_Name_Map(loc = map_file,\n",
    "                 dataset_type= 'explorer',\n",
    "                 source_name_col= 'nda_name',\n",
    "                 target_name_col= 'deap_name')"
   ]
  },
  {
   "cell_type": "code",
   "execution_count": 4,
   "metadata": {},
   "outputs": [
    {
     "name": "stdout",
     "output_type": "stream",
     "text": [
      "Cleared loaded data.\n",
      "\n",
      "Loading /home/sage/work/ABCDFixRelease2p0p1/mrisst02.txt  with dataset type: basic\n",
      "dropped ['collection_id', 'mrisst02_id', 'dataset_id', 'subjectkey', 'interview_date', 'interview_age', 'sex', 'tfmri_sa_beta_visitid', 'collection_title', 'study_cohort_name'] columns by default  due to dataset type\n",
      "Loading /home/sage/work/ABCDFixRelease2p0p1/abcd_tfsstabwdp101.txt  with dataset type: basic\n",
      "dropped ['collection_id', 'abcd_tfsstabwdp101_id', 'dataset_id', 'subjectkey', 'interview_age', 'interview_date', 'sex', 'collection_title', 'study_cohort_name'] columns by default  due to dataset type\n",
      "Loading /home/sage/work/ABCDFixRelease2p0p1/abcd_tfsstabwdp201.txt  with dataset type: basic\n",
      "dropped ['collection_id', 'abcd_tfsstabwdp201_id', 'dataset_id', 'subjectkey', 'interview_age', 'interview_date', 'sex', 'collection_title', 'study_cohort_name'] columns by default  due to dataset type\n",
      "\n",
      "Dropped 578 columns per passed drop_keys argument\n",
      "Keeping 495 columns per passed inclusion_keys argument\n",
      "Dropped 0 cols for all missing values\n",
      "Loaded rows with NaN remaining: 46\n",
      "Dropped 311 rows based on filter input params, e.g. filter outlier percent, drop cat, ect...\n",
      "\n",
      "Loaded NaN Info:\n",
      "There are: 21615 total missing values\n",
      "165 columns found with 45 missing values (column name overlap: ['tfmri_sst_all_correct.go.vs.fixation_beta_', 'cort.'])\n",
      "165 columns found with 44 missing values (column name overlap: ['tfmri_sst_all_correct.stop.vs.correct.go_beta_', 'cort.'])\n",
      "\n",
      "Loaded Shape: (8607, 495)\n"
     ]
    }
   ],
   "source": [
    "# These drop keys are to narrow in on only the subcortical volumes of interest\n",
    "drop_keys = ['_csf', '.white.matter', '.vent', '_cort.desikan_', 'all_beta']\n",
    "\n",
    "# These are to specify the contrasts we want to load\n",
    "contrast_keys = ['tfmri_sst_all_correct.go.vs.fixation_beta_', \n",
    "                 'tfmri_sst_all_correct.stop.vs.correct.go_beta_',\n",
    "                 'tfmri_sst_all_incorrect.stop.vs.correct.go_beta_']\n",
    "\n",
    "ML.Load_Data(loc = [data1, data2, data3],\n",
    "             inclusion_keys = contrast_keys,\n",
    "             drop_keys=drop_keys,\n",
    "             clear_existing=True,\n",
    "             drop_na=False,\n",
    "             subject_id='src_subject_id',\n",
    "             dataset_type = 'basic',\n",
    "             filter_outlier_std = 10)"
   ]
  },
  {
   "cell_type": "code",
   "execution_count": 5,
   "metadata": {},
   "outputs": [
    {
     "name": "stdout",
     "output_type": "stream",
     "text": [
      "cleared targets.\n",
      "\n",
      "Loading /home/sage/work/ABCD2p0NDA/abcd_sst02.txt  with dataset type: basic\n",
      "Dropped 0 cols for all missing values\n",
      "Dropped 0 rows for missing values, based on the provided drop_na param: True with actual na_thresh: 0\n",
      "Loaded rows with NaN remaining: 0\n",
      "\n",
      "loading: tfmri_sst_all_beh_total_mean.rt\n",
      "Filtering for outliers, dropping rows with params:  (0.001, 0.998)\n",
      "Min-Max value (pre-filter): -692.0 702.69230769\n",
      "Min-Max value (post outlier filtering): -248.91666667 568.75454545\n",
      "\n",
      "Dropped 30 rows based on filter input params, e.g. filter outlier percent, drop cat, ect...\n",
      "Loaded Shape: (9568, 1)\n",
      "All loaded targets\n",
      "0 : tfmri_sst_all_beh_total_mean.rt\n",
      "\n"
     ]
    }
   ],
   "source": [
    "ML.Load_Targets(target_loc,\n",
    "                dataset_type='basic',\n",
    "                col_name='tfmri_sst_all_beh_total_meanrt',\n",
    "                data_type='float',\n",
    "                filter_outlier_percent=(.1, .2),\n",
    "                clear_existing=True)"
   ]
  },
  {
   "cell_type": "code",
   "execution_count": 6,
   "metadata": {},
   "outputs": [
    {
     "name": "stdout",
     "output_type": "stream",
     "text": [
      "cleared covars.\n",
      "\n",
      "Loading /home/sage/work/ABCDFixRelease2p0p1/mrisst02.txt  with dataset type: basic\n",
      "Dropped 0 cols for all missing values\n",
      "Loaded rows with NaN remaining: 1\n",
      "loading: sex\n",
      "loading: interview_age\n",
      "Loaded Shape: (8918, 2)\n"
     ]
    }
   ],
   "source": [
    "ML.Load_Covars(loc = data1,\n",
    "               col_name = ['sex', 'interview_age'],\n",
    "               drop_na = False,\n",
    "               nan_as_class = True,\n",
    "               data_type = ['c', 'c'],\n",
    "               clear_existing = True)"
   ]
  },
  {
   "cell_type": "code",
   "execution_count": 7,
   "metadata": {},
   "outputs": [
    {
     "name": "stdout",
     "output_type": "stream",
     "text": [
      "Set to overlapping loaded subjects.\n",
      "-- sex --\n"
     ]
    },
    {
     "data": {
      "text/html": [
       "<div>\n",
       "<style scoped>\n",
       "    .dataframe tbody tr th:only-of-type {\n",
       "        vertical-align: middle;\n",
       "    }\n",
       "\n",
       "    .dataframe tbody tr th {\n",
       "        vertical-align: top;\n",
       "    }\n",
       "\n",
       "    .dataframe thead th {\n",
       "        text-align: right;\n",
       "    }\n",
       "</style>\n",
       "<table border=\"1\" class=\"dataframe\">\n",
       "  <thead>\n",
       "    <tr style=\"text-align: right;\">\n",
       "      <th></th>\n",
       "      <th>Original_Name</th>\n",
       "      <th>Counts</th>\n",
       "      <th>Frequency</th>\n",
       "    </tr>\n",
       "    <tr>\n",
       "      <th>Internal_Name</th>\n",
       "      <th></th>\n",
       "      <th></th>\n",
       "      <th></th>\n",
       "    </tr>\n",
       "  </thead>\n",
       "  <tbody>\n",
       "    <tr>\n",
       "      <th>0</th>\n",
       "      <td>F</td>\n",
       "      <td>4185</td>\n",
       "      <td>0.488788</td>\n",
       "    </tr>\n",
       "    <tr>\n",
       "      <th>1</th>\n",
       "      <td>M</td>\n",
       "      <td>4376</td>\n",
       "      <td>0.511096</td>\n",
       "    </tr>\n",
       "    <tr>\n",
       "      <th>2</th>\n",
       "      <td>nan</td>\n",
       "      <td>1</td>\n",
       "      <td>0.000117</td>\n",
       "    </tr>\n",
       "  </tbody>\n",
       "</table>\n",
       "</div>"
      ],
      "text/plain": [
       "              Original_Name  Counts  Frequency\n",
       "Internal_Name                                 \n",
       "0                         F    4185   0.488788\n",
       "1                         M    4376   0.511096\n",
       "2                       nan       1   0.000117"
      ]
     },
     "metadata": {},
     "output_type": "display_data"
    },
    {
     "data": {
      "image/png": "[encoded data removed]",
      "text/plain": [
       "<Figure size 432x288 with 1 Axes>"
      ]
     },
     "metadata": {
      "needs_background": "light"
     },
     "output_type": "display_data"
    },
    {
     "name": "stdout",
     "output_type": "stream",
     "text": [
      "\n",
      "-- interview_age --\n"
     ]
    },
    {
     "data": {
      "text/html": [
       "<div>\n",
       "<style scoped>\n",
       "    .dataframe tbody tr th:only-of-type {\n",
       "        vertical-align: middle;\n",
       "    }\n",
       "\n",
       "    .dataframe tbody tr th {\n",
       "        vertical-align: top;\n",
       "    }\n",
       "\n",
       "    .dataframe thead th {\n",
       "        text-align: right;\n",
       "    }\n",
       "</style>\n",
       "<table border=\"1\" class=\"dataframe\">\n",
       "  <thead>\n",
       "    <tr style=\"text-align: right;\">\n",
       "      <th></th>\n",
       "      <th>Original_Name</th>\n",
       "      <th>Counts</th>\n",
       "      <th>Frequency</th>\n",
       "    </tr>\n",
       "    <tr>\n",
       "      <th>Internal_Name</th>\n",
       "      <th></th>\n",
       "      <th></th>\n",
       "      <th></th>\n",
       "    </tr>\n",
       "  </thead>\n",
       "  <tbody>\n",
       "    <tr>\n",
       "      <th>0</th>\n",
       "      <td>107</td>\n",
       "      <td>103</td>\n",
       "      <td>0.012030</td>\n",
       "    </tr>\n",
       "    <tr>\n",
       "      <th>1</th>\n",
       "      <td>108</td>\n",
       "      <td>643</td>\n",
       "      <td>0.075099</td>\n",
       "    </tr>\n",
       "    <tr>\n",
       "      <th>2</th>\n",
       "      <td>109</td>\n",
       "      <td>443</td>\n",
       "      <td>0.051740</td>\n",
       "    </tr>\n",
       "    <tr>\n",
       "      <th>3</th>\n",
       "      <td>110</td>\n",
       "      <td>384</td>\n",
       "      <td>0.044849</td>\n",
       "    </tr>\n",
       "    <tr>\n",
       "      <th>4</th>\n",
       "      <td>111</td>\n",
       "      <td>318</td>\n",
       "      <td>0.037141</td>\n",
       "    </tr>\n",
       "    <tr>\n",
       "      <th>5</th>\n",
       "      <td>112</td>\n",
       "      <td>274</td>\n",
       "      <td>0.032002</td>\n",
       "    </tr>\n",
       "    <tr>\n",
       "      <th>6</th>\n",
       "      <td>113</td>\n",
       "      <td>281</td>\n",
       "      <td>0.032819</td>\n",
       "    </tr>\n",
       "    <tr>\n",
       "      <th>7</th>\n",
       "      <td>114</td>\n",
       "      <td>301</td>\n",
       "      <td>0.035155</td>\n",
       "    </tr>\n",
       "    <tr>\n",
       "      <th>8</th>\n",
       "      <td>115</td>\n",
       "      <td>318</td>\n",
       "      <td>0.037141</td>\n",
       "    </tr>\n",
       "    <tr>\n",
       "      <th>9</th>\n",
       "      <td>116</td>\n",
       "      <td>326</td>\n",
       "      <td>0.038075</td>\n",
       "    </tr>\n",
       "    <tr>\n",
       "      <th>10</th>\n",
       "      <td>117</td>\n",
       "      <td>311</td>\n",
       "      <td>0.036323</td>\n",
       "    </tr>\n",
       "    <tr>\n",
       "      <th>11</th>\n",
       "      <td>118</td>\n",
       "      <td>335</td>\n",
       "      <td>0.039126</td>\n",
       "    </tr>\n",
       "    <tr>\n",
       "      <th>12</th>\n",
       "      <td>119</td>\n",
       "      <td>309</td>\n",
       "      <td>0.036090</td>\n",
       "    </tr>\n",
       "    <tr>\n",
       "      <th>13</th>\n",
       "      <td>120</td>\n",
       "      <td>326</td>\n",
       "      <td>0.038075</td>\n",
       "    </tr>\n",
       "    <tr>\n",
       "      <th>14</th>\n",
       "      <td>121</td>\n",
       "      <td>330</td>\n",
       "      <td>0.038542</td>\n",
       "    </tr>\n",
       "    <tr>\n",
       "      <th>15</th>\n",
       "      <td>122</td>\n",
       "      <td>317</td>\n",
       "      <td>0.037024</td>\n",
       "    </tr>\n",
       "    <tr>\n",
       "      <th>16</th>\n",
       "      <td>123</td>\n",
       "      <td>319</td>\n",
       "      <td>0.037258</td>\n",
       "    </tr>\n",
       "    <tr>\n",
       "      <th>17</th>\n",
       "      <td>124</td>\n",
       "      <td>334</td>\n",
       "      <td>0.039010</td>\n",
       "    </tr>\n",
       "    <tr>\n",
       "      <th>18</th>\n",
       "      <td>125</td>\n",
       "      <td>340</td>\n",
       "      <td>0.039710</td>\n",
       "    </tr>\n",
       "    <tr>\n",
       "      <th>19</th>\n",
       "      <td>126</td>\n",
       "      <td>315</td>\n",
       "      <td>0.036790</td>\n",
       "    </tr>\n",
       "    <tr>\n",
       "      <th>20</th>\n",
       "      <td>127</td>\n",
       "      <td>331</td>\n",
       "      <td>0.038659</td>\n",
       "    </tr>\n",
       "    <tr>\n",
       "      <th>21</th>\n",
       "      <td>128</td>\n",
       "      <td>309</td>\n",
       "      <td>0.036090</td>\n",
       "    </tr>\n",
       "    <tr>\n",
       "      <th>22</th>\n",
       "      <td>129</td>\n",
       "      <td>348</td>\n",
       "      <td>0.040645</td>\n",
       "    </tr>\n",
       "    <tr>\n",
       "      <th>23</th>\n",
       "      <td>130</td>\n",
       "      <td>357</td>\n",
       "      <td>0.041696</td>\n",
       "    </tr>\n",
       "    <tr>\n",
       "      <th>24</th>\n",
       "      <td>131</td>\n",
       "      <td>506</td>\n",
       "      <td>0.059098</td>\n",
       "    </tr>\n",
       "    <tr>\n",
       "      <th>25</th>\n",
       "      <td>132</td>\n",
       "      <td>84</td>\n",
       "      <td>0.009811</td>\n",
       "    </tr>\n",
       "  </tbody>\n",
       "</table>\n",
       "</div>"
      ],
      "text/plain": [
       "              Original_Name  Counts  Frequency\n",
       "Internal_Name                                 \n",
       "0                       107     103   0.012030\n",
       "1                       108     643   0.075099\n",
       "2                       109     443   0.051740\n",
       "3                       110     384   0.044849\n",
       "4                       111     318   0.037141\n",
       "5                       112     274   0.032002\n",
       "6                       113     281   0.032819\n",
       "7                       114     301   0.035155\n",
       "8                       115     318   0.037141\n",
       "9                       116     326   0.038075\n",
       "10                      117     311   0.036323\n",
       "11                      118     335   0.039126\n",
       "12                      119     309   0.036090\n",
       "13                      120     326   0.038075\n",
       "14                      121     330   0.038542\n",
       "15                      122     317   0.037024\n",
       "16                      123     319   0.037258\n",
       "17                      124     334   0.039010\n",
       "18                      125     340   0.039710\n",
       "19                      126     315   0.036790\n",
       "20                      127     331   0.038659\n",
       "21                      128     309   0.036090\n",
       "22                      129     348   0.040645\n",
       "23                      130     357   0.041696\n",
       "24                      131     506   0.059098\n",
       "25                      132      84   0.009811"
      ]
     },
     "metadata": {},
     "output_type": "display_data"
    },
    {
     "data": {
      "image/png": "[encoded data removed]",
      "text/plain": [
       "<Figure size 432x288 with 1 Axes>"
      ]
     },
     "metadata": {
      "needs_background": "light"
     },
     "output_type": "display_data"
    },
    {
     "name": "stdout",
     "output_type": "stream",
     "text": [
      "\n"
     ]
    }
   ],
   "source": [
    "ML.Show_Covars_Dist()"
   ]
  },
  {
   "cell_type": "code",
   "execution_count": 8,
   "metadata": {},
   "outputs": [],
   "source": [
    "ML.covars.loc[ML.covars.index[:500],'interview_age'] = np.nan"
   ]
  },
  {
   "cell_type": "code",
   "execution_count": 9,
   "metadata": {},
   "outputs": [
    {
     "name": "stdout",
     "output_type": "stream",
     "text": [
      "Calling Prepare_All_Data() to change the default merge behavior call it again!\n",
      "Preparing final data, in self.all_data\n",
      "Any changes to loaded data, covars or strat will not be included, from now on.\n",
      "\n",
      "Final data (w/ target) for modeling loaded shape: (8562, 498)\n",
      "Performing split on 8562 subjects!\n",
      "random_state: 1001\n",
      "Test split size: 0.2\n",
      "\n",
      "Performed train test split\n",
      "Train size: 6849\n",
      "Test size:  1713\n"
     ]
    }
   ],
   "source": [
    "ML.Train_Test_Split(test_size=0.2,\n",
    "                    random_state=1001)"
   ]
  },
  {
   "cell_type": "code",
   "execution_count": 10,
   "metadata": {},
   "outputs": [],
   "source": [
    "spec = Problem_Spec(problem_type = 'regression',\n",
    "                    scorer = 'r2',\n",
    "                    random_state = 1001,\n",
    "                    n_jobs = 8)\n",
    "\n",
    "imputers = [Imputer(extra_params={}, obj='mean', scope='float'),\n",
    "            Imputer(extra_params={}, obj='median', scope='cat')]\n",
    "            #Imputer(obj='iterative', base_model=Model('dt'), scope='all')]\n",
    "\n",
    "ohe_sex = Transformer(obj=\"one hot encoder\", scope=Duplicate(['interview_age', 'sex']))\n",
    "\n",
    "pipeline = Model_Pipeline(imputers=imputers,\n",
    "                          transformers=[ohe_sex],\n",
    "                          feat_selectors = Feat_Selector(obj='univariate selection', scope='interview_age'),\n",
    "                          model = Model('dt', scope=['sex'], params=1),\n",
    "                          param_search = Param_Search('RandomSearch'))"
   ]
  },
  {
   "cell_type": "code",
   "execution_count": 11,
   "metadata": {},
   "outputs": [
    {
     "name": "stdout",
     "output_type": "stream",
     "text": [
      "Setting default ML verbosity settings!\n",
      "Note, if the following values are not desired, call self.Set_Default_ML_Verbosity()\n",
      "Default ML verbosity set within self.default_ML_verbosity.\n",
      "----------------------\n",
      "save_results: False\n",
      "progress_bar: True\n",
      "compute_train_score: False\n",
      "show_init_params: True\n",
      "fold_name: False\n",
      "time_per_fold: False\n",
      "score_per_fold: False\n",
      "fold_sizes: False\n",
      "best_params: False\n",
      "save_to_logs: False\n",
      "\n",
      "Model_Pipeline\n",
      "--------------\n",
      "imputers=\\\n",
      "[Imputer(extra_params={}, obj='mean', scope='float'),\n",
      " Imputer(extra_params={}, obj='median', scope='cat')]\n",
      "\n",
      "scalers=\\\n",
      "Scaler(extra_params={}, obj='standard')\n",
      "\n",
      "transformers=\\\n",
      "[Transformer(extra_params={}, obj='one hot encoder', scope='interview_age'),\n",
      " Transformer(extra_params={}, obj='one hot encoder', scope='sex')]\n",
      "\n",
      "feat_selectors=\\\n",
      "Feat_Selector(extra_params={}, obj='univariate selection',\n",
      "              scope='interview_age')\n",
      "\n",
      "model=\\\n",
      "Model(extra_params={}, obj='dt', params=1, scope=['sex'])\n",
      "\n",
      "param_search=\\\n",
      "Param_Search(mp_context='spawn')\n",
      "\n",
      "feat_importances=\\\n",
      "Feat_Importance(obj='base', shap_params=None)\n",
      "\n",
      "\n",
      "Problem_Spec\n",
      "------------\n",
      "problem_type = regression\n",
      "target = tfmri_sst_all_beh_total_mean.rt\n",
      "scorer = r2\n",
      "weight_scorer = False\n",
      "scope = all\n",
      "subjects = all\n",
      "len(subjects) = 8562 (before overlap w/ train/test subjects)\n",
      "n_jobs 8\n",
      "random_state 1001\n",
      "\n",
      "Evaluate Params\n",
      "---------------\n",
      "splits = 3\n",
      "n_repeats = 1\n",
      "CV = default\n",
      "train_subjects = train\n",
      "len(train_subjects) = 6849 (before overlap w/ problem_spec.subjects)\n",
      "run_name = dt\n",
      "\n"
     ]
    },
    {
     "data": {
      "application/vnd.jupyter.widget-view+json": {
       "model_id": "4e2208af1e464b198f77b390354530cf",
       "version_major": 2,
       "version_minor": 0
      },
      "text/plain": [
       "HBox(children=(FloatProgress(value=0.0, description='Repeats', max=1.0, style=ProgressStyle(description_width=…"
      ]
     },
     "metadata": {},
     "output_type": "display_data"
    },
    {
     "data": {
      "application/vnd.jupyter.widget-view+json": {
       "model_id": "c51a6015076241c6a3f768fd3cfb6303",
       "version_major": 2,
       "version_minor": 0
      },
      "text/plain": [
       "HBox(children=(FloatProgress(value=0.0, description='Folds', max=3.0, style=ProgressStyle(description_width='i…"
      ]
     },
     "metadata": {},
     "output_type": "display_data"
    },
    {
     "name": "stdout",
     "output_type": "stream",
     "text": [
      "\n",
      "\n",
      "\n",
      "Validation Scores\n",
      "_________________\n",
      "Scorer:  r2\n",
      "Mean Validation score:  -0.00033892552790822555\n",
      "Std in Validation score:  0.0005478398088376167\n",
      "\n"
     ]
    }
   ],
   "source": [
    "eval_results = ML.Evaluate(model_pipeline = pipeline,\n",
    "                           problem_spec = spec,\n",
    "                           splits = 3,\n",
    "                           n_repeats = 1)"
   ]
  },
  {
   "cell_type": "code",
   "execution_count": null,
   "metadata": {},
   "outputs": [],
   "source": []
  }
 ],
 "metadata": {
  "kernelspec": {
   "display_name": "Python 3.7.6 64-bit ('home': conda)",
   "language": "python",
   "name": "python37664bithomeconda2aade2e1d0ce4797afe91f4891a59d68"
  },
  "language_info": {
   "codemirror_mode": {
    "name": "ipython",
    "version": 3
   },
   "file_extension": ".py",
   "mimetype": "text/x-python",
   "name": "python",
   "nbconvert_exporter": "python",
   "pygments_lexer": "ipython3",
   "version": "3.7.6"
  }
 },
 "nbformat": 4,
 "nbformat_minor": 4
}
