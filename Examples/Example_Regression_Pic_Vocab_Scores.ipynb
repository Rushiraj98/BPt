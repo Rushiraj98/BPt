{
 "cells": [
  {
   "cell_type": "markdown",
   "metadata": {},
   "source": [
    "Within this notebook we will look at an example Regression problem. We will try to predict \"nihtbx_picvocab_agecorrected\" scores."
   ]
  },
  {
   "cell_type": "markdown",
   "metadata": {},
   "source": [
    "# Init Phase"
   ]
  },
  {
   "cell_type": "code",
   "execution_count": 1,
   "metadata": {},
   "outputs": [],
   "source": [
    "import ABCD_ML"
   ]
  },
  {
   "cell_type": "code",
   "execution_count": 2,
   "metadata": {},
   "outputs": [],
   "source": [
    "# This is the 2.0.1 release dr, we'll load data from it\n",
    "nda_dr1 = '/mnt/sdb2/ABCDFixRelease2p0p1/'\n",
    "\n",
    "# This is the 2.0 release dr, we'll load targets from it\n",
    "nda_dr2 = '/mnt/sdb2/ABCD2p0NDA/'\n",
    "\n",
    "# We will use the gordon ROI resting state fMRI correlations as our data\n",
    "data_loc = nda_dr1 + 'abcd_betnet02.txt'\n",
    "\n",
    "# This file contains the NIH toolbox scores\n",
    "target_loc = nda_dr2 + 'abcd_tbss01.txt'"
   ]
  },
  {
   "cell_type": "code",
   "execution_count": 3,
   "metadata": {},
   "outputs": [
    {
     "name": "stdout",
     "output_type": "stream",
     "text": [
      "exp_name = Regression_Example\n",
      "log_dr = /home/sage/ABCD_ML/Examples\n",
      "existing_log = overwrite\n",
      "verbose = True\n",
      "exp log dr setup at: /home/sage/ABCD_ML/Examples/Regression_Example\n",
      "log file at: /home/sage/ABCD_ML/Examples/Regression_Example/logs.txt\n",
      "notebook = True\n",
      "default subject id col = src_subject_id\n",
      "eventname = baseline_year_1_arm_1\n",
      "use default subject ids = True\n",
      "default dataset type = basic\n",
      "default NaN values = ['777', '999']\n",
      "original targets key col = targets\n",
      "low memory mode = False\n",
      "random state = 1\n",
      "ABCD_ML object initialized\n"
     ]
    }
   ],
   "source": [
    "# A lot of these are default values, but just showing everything as an example,\n",
    "# See the docs / init help string for actual explanation\n",
    "\n",
    "ML = ABCD_ML.ABCD_ML(exp_name = 'Regression_Example',\n",
    "                     log_dr = '',\n",
    "                     existing_log = 'overwrite',\n",
    "                     notebook = True,\n",
    "                     subject_id = 'src_subject_id',\n",
    "                     eventname = 'baseline_year_1_arm_1',\n",
    "                     use_default_subject_ids = True,\n",
    "                     default_dataset_type = 'basic',\n",
    "                     default_na_values = ['777', '999'],\n",
    "                     original_targets_key = 'targets',\n",
    "                     low_memory_mode = False,\n",
    "                     random_state = 1,\n",
    "                     verbose = True\n",
    "                     )"
   ]
  },
  {
   "cell_type": "markdown",
   "metadata": {},
   "source": [
    "# Data Loading Phase"
   ]
  },
  {
   "cell_type": "markdown",
   "metadata": {},
   "source": [
    "We would start by loading exclusions, the reason for this is, if loaded before data or covars, ect... the excluded subjects will be removed when loading data, targets, ect... as loaded before any drop behavior based on values. For example, when computing different filter_outliers, or dropping columns ect... this way it will only consider the non-excluded subjects. \n",
    "\n",
    "We won't load any here, but if there were certain known subjects to exclude they could be read from a file as exclusions or passed in as a list to Load_Exclusions.\n",
    "\n",
    "We will just load in the data instead, specifically we are using the resting state correlations"
   ]
  },
  {
   "cell_type": "code",
   "execution_count": 4,
   "metadata": {},
   "outputs": [
    {
     "name": "stdout",
     "output_type": "stream",
     "text": [
      "Loading /mnt/sdb2/ABCDFixRelease2p0p1/abcd_betnet02.txt assumed to be dataset type: basic\n",
      "dropped ['collection_id', 'abcd_betnet02_id', 'dataset_id', 'subjectkey', 'interview_date', 'interview_age', 'sex', 'rsfmri_c_ngd_visitid', 'collection_title', 'study_cohort_name'] columns by default  due to dataset type\n",
      "Dropped 0 columns, per drop_keys argument\n",
      "Dropped 0 cols for all missing values\n",
      "Dropped 690 rows for missing values\n",
      "Dropped rows with missing data\n",
      "loaded shape:  (10276, 181)\n",
      "\n",
      "The following columns have a questionable number of unique values: \n",
      "rsfmri_c_ngd_tr unique vals: 11\n",
      "rsfmri_c_ngd_numtrs unique vals: 118\n",
      "rsfmri_c_ngd_nvols unique vals: 105\n",
      "rsfmri_c_ngd_stnvols unique vals: 1280\n",
      "rsfmri_c_ngd_stcontignvols unique vals: 1364\n",
      "rsfmri_c_ngd_ntpoints unique vals: 1407\n",
      "\n",
      "\n",
      "Total valid overlapping subjects = 10276\n",
      "\n"
     ]
    }
   ],
   "source": [
    "ML.Load_Data(loc = data_loc)"
   ]
  },
  {
   "cell_type": "markdown",
   "metadata": {},
   "source": [
    "Lets take a quick look at the data, especially since we have a number of warning columns with not a lot of unique values. This is an indicator that thew column might not be wanted as data is supposed to be neuroimaging data."
   ]
  },
  {
   "cell_type": "code",
   "execution_count": 5,
   "metadata": {},
   "outputs": [
    {
     "data": {
      "text/html": [
       "<div>\n",
       "<style scoped>\n",
       "    .dataframe tbody tr th:only-of-type {\n",
       "        vertical-align: middle;\n",
       "    }\n",
       "\n",
       "    .dataframe tbody tr th {\n",
       "        vertical-align: top;\n",
       "    }\n",
       "\n",
       "    .dataframe thead th {\n",
       "        text-align: right;\n",
       "    }\n",
       "</style>\n",
       "<table border=\"1\" class=\"dataframe\">\n",
       "  <thead>\n",
       "    <tr style=\"text-align: right;\">\n",
       "      <th></th>\n",
       "      <th>rsfmri_c_ngd_tr</th>\n",
       "      <th>rsfmri_c_ngd_numtrs</th>\n",
       "      <th>rsfmri_c_ngd_nvols</th>\n",
       "      <th>rsfmri_c_ngd_stnvols</th>\n",
       "      <th>rsfmri_c_ngd_stcontignvols</th>\n",
       "      <th>rsfmri_c_ngd_ntpoints</th>\n",
       "      <th>rsfmri_c_ngd_meanmotion</th>\n",
       "      <th>rsfmri_c_ngd_maxmotion</th>\n",
       "      <th>rsfmri_c_ngd_meantrans</th>\n",
       "      <th>rsfmri_c_ngd_maxtrans</th>\n",
       "      <th>...</th>\n",
       "      <th>rsfmri_c_ngd_vs_ngd_dt</th>\n",
       "      <th>rsfmri_c_ngd_vs_ngd_dla</th>\n",
       "      <th>rsfmri_c_ngd_vs_ngd_fo</th>\n",
       "      <th>rsfmri_c_ngd_vs_ngd_n</th>\n",
       "      <th>rsfmri_c_ngd_vs_ngd_rspltp</th>\n",
       "      <th>rsfmri_c_ngd_vs_ngd_smh</th>\n",
       "      <th>rsfmri_c_ngd_vs_ngd_smm</th>\n",
       "      <th>rsfmri_c_ngd_vs_ngd_sa</th>\n",
       "      <th>rsfmri_c_ngd_vs_ngd_vta</th>\n",
       "      <th>rsfmri_c_ngd_vs_ngd_vs</th>\n",
       "    </tr>\n",
       "    <tr>\n",
       "      <th>src_subject_id</th>\n",
       "      <th></th>\n",
       "      <th></th>\n",
       "      <th></th>\n",
       "      <th></th>\n",
       "      <th></th>\n",
       "      <th></th>\n",
       "      <th></th>\n",
       "      <th></th>\n",
       "      <th></th>\n",
       "      <th></th>\n",
       "      <th></th>\n",
       "      <th></th>\n",
       "      <th></th>\n",
       "      <th></th>\n",
       "      <th></th>\n",
       "      <th></th>\n",
       "      <th></th>\n",
       "      <th></th>\n",
       "      <th></th>\n",
       "      <th></th>\n",
       "      <th></th>\n",
       "    </tr>\n",
       "  </thead>\n",
       "  <tbody>\n",
       "    <tr>\n",
       "      <th>NDAR_INVTFBZR8TN</th>\n",
       "      <td>0.8</td>\n",
       "      <td>1149</td>\n",
       "      <td>1125</td>\n",
       "      <td>1092.0</td>\n",
       "      <td>1079.0</td>\n",
       "      <td>992.0</td>\n",
       "      <td>0.064572</td>\n",
       "      <td>1.327123</td>\n",
       "      <td>0.048089</td>\n",
       "      <td>0.599003</td>\n",
       "      <td>...</td>\n",
       "      <td>-0.112300</td>\n",
       "      <td>0.070541</td>\n",
       "      <td>-0.141607</td>\n",
       "      <td>-0.047879</td>\n",
       "      <td>0.085329</td>\n",
       "      <td>0.029501</td>\n",
       "      <td>0.076295</td>\n",
       "      <td>-0.094922</td>\n",
       "      <td>-0.068562</td>\n",
       "      <td>0.396629</td>\n",
       "    </tr>\n",
       "    <tr>\n",
       "      <th>NDAR_INVYJPCD59K</th>\n",
       "      <td>0.8</td>\n",
       "      <td>1532</td>\n",
       "      <td>1500</td>\n",
       "      <td>768.0</td>\n",
       "      <td>626.0</td>\n",
       "      <td>385.0</td>\n",
       "      <td>0.356356</td>\n",
       "      <td>8.133546</td>\n",
       "      <td>0.216791</td>\n",
       "      <td>6.079194</td>\n",
       "      <td>...</td>\n",
       "      <td>-0.109891</td>\n",
       "      <td>0.126791</td>\n",
       "      <td>-0.136559</td>\n",
       "      <td>0.010348</td>\n",
       "      <td>0.186790</td>\n",
       "      <td>-0.159092</td>\n",
       "      <td>-0.160276</td>\n",
       "      <td>-0.139479</td>\n",
       "      <td>-0.098911</td>\n",
       "      <td>0.515293</td>\n",
       "    </tr>\n",
       "    <tr>\n",
       "      <th>NDAR_INVH1CG52NU</th>\n",
       "      <td>0.8</td>\n",
       "      <td>766</td>\n",
       "      <td>750</td>\n",
       "      <td>323.0</td>\n",
       "      <td>201.0</td>\n",
       "      <td>109.0</td>\n",
       "      <td>0.410403</td>\n",
       "      <td>3.774477</td>\n",
       "      <td>0.183509</td>\n",
       "      <td>1.368624</td>\n",
       "      <td>...</td>\n",
       "      <td>-0.309427</td>\n",
       "      <td>0.283724</td>\n",
       "      <td>-0.091713</td>\n",
       "      <td>-0.512333</td>\n",
       "      <td>0.758320</td>\n",
       "      <td>0.281446</td>\n",
       "      <td>0.297436</td>\n",
       "      <td>-0.510570</td>\n",
       "      <td>-0.399407</td>\n",
       "      <td>0.769946</td>\n",
       "    </tr>\n",
       "    <tr>\n",
       "      <th>NDAR_INV91KPPX8A</th>\n",
       "      <td>0.8</td>\n",
       "      <td>1532</td>\n",
       "      <td>1500</td>\n",
       "      <td>1146.0</td>\n",
       "      <td>856.0</td>\n",
       "      <td>833.0</td>\n",
       "      <td>0.154579</td>\n",
       "      <td>1.434236</td>\n",
       "      <td>0.108110</td>\n",
       "      <td>0.665773</td>\n",
       "      <td>...</td>\n",
       "      <td>-0.133064</td>\n",
       "      <td>0.019926</td>\n",
       "      <td>-0.108357</td>\n",
       "      <td>-0.037212</td>\n",
       "      <td>0.096509</td>\n",
       "      <td>-0.014050</td>\n",
       "      <td>0.050930</td>\n",
       "      <td>-0.089303</td>\n",
       "      <td>-0.079748</td>\n",
       "      <td>0.281195</td>\n",
       "    </tr>\n",
       "    <tr>\n",
       "      <th>NDAR_INVY0CRE49N</th>\n",
       "      <td>0.8</td>\n",
       "      <td>1532</td>\n",
       "      <td>1500</td>\n",
       "      <td>903.0</td>\n",
       "      <td>744.0</td>\n",
       "      <td>561.0</td>\n",
       "      <td>0.384956</td>\n",
       "      <td>8.794602</td>\n",
       "      <td>0.216829</td>\n",
       "      <td>5.655526</td>\n",
       "      <td>...</td>\n",
       "      <td>-0.082207</td>\n",
       "      <td>-0.139770</td>\n",
       "      <td>-0.119681</td>\n",
       "      <td>-0.103836</td>\n",
       "      <td>-0.016629</td>\n",
       "      <td>-0.231255</td>\n",
       "      <td>-0.064249</td>\n",
       "      <td>-0.010916</td>\n",
       "      <td>-0.104411</td>\n",
       "      <td>0.395021</td>\n",
       "    </tr>\n",
       "  </tbody>\n",
       "</table>\n",
       "<p>5 rows × 181 columns</p>\n",
       "</div>"
      ],
      "text/plain": [
       "                  rsfmri_c_ngd_tr  rsfmri_c_ngd_numtrs  rsfmri_c_ngd_nvols  \\\n",
       "src_subject_id                                                               \n",
       "NDAR_INVTFBZR8TN              0.8                 1149                1125   \n",
       "NDAR_INVYJPCD59K              0.8                 1532                1500   \n",
       "NDAR_INVH1CG52NU              0.8                  766                 750   \n",
       "NDAR_INV91KPPX8A              0.8                 1532                1500   \n",
       "NDAR_INVY0CRE49N              0.8                 1532                1500   \n",
       "\n",
       "                  rsfmri_c_ngd_stnvols  rsfmri_c_ngd_stcontignvols  \\\n",
       "src_subject_id                                                       \n",
       "NDAR_INVTFBZR8TN                1092.0                      1079.0   \n",
       "NDAR_INVYJPCD59K                 768.0                       626.0   \n",
       "NDAR_INVH1CG52NU                 323.0                       201.0   \n",
       "NDAR_INV91KPPX8A                1146.0                       856.0   \n",
       "NDAR_INVY0CRE49N                 903.0                       744.0   \n",
       "\n",
       "                  rsfmri_c_ngd_ntpoints  rsfmri_c_ngd_meanmotion  \\\n",
       "src_subject_id                                                     \n",
       "NDAR_INVTFBZR8TN                  992.0                 0.064572   \n",
       "NDAR_INVYJPCD59K                  385.0                 0.356356   \n",
       "NDAR_INVH1CG52NU                  109.0                 0.410403   \n",
       "NDAR_INV91KPPX8A                  833.0                 0.154579   \n",
       "NDAR_INVY0CRE49N                  561.0                 0.384956   \n",
       "\n",
       "                  rsfmri_c_ngd_maxmotion  rsfmri_c_ngd_meantrans  \\\n",
       "src_subject_id                                                     \n",
       "NDAR_INVTFBZR8TN                1.327123                0.048089   \n",
       "NDAR_INVYJPCD59K                8.133546                0.216791   \n",
       "NDAR_INVH1CG52NU                3.774477                0.183509   \n",
       "NDAR_INV91KPPX8A                1.434236                0.108110   \n",
       "NDAR_INVY0CRE49N                8.794602                0.216829   \n",
       "\n",
       "                  rsfmri_c_ngd_maxtrans  ...  rsfmri_c_ngd_vs_ngd_dt  \\\n",
       "src_subject_id                           ...                           \n",
       "NDAR_INVTFBZR8TN               0.599003  ...               -0.112300   \n",
       "NDAR_INVYJPCD59K               6.079194  ...               -0.109891   \n",
       "NDAR_INVH1CG52NU               1.368624  ...               -0.309427   \n",
       "NDAR_INV91KPPX8A               0.665773  ...               -0.133064   \n",
       "NDAR_INVY0CRE49N               5.655526  ...               -0.082207   \n",
       "\n",
       "                  rsfmri_c_ngd_vs_ngd_dla  rsfmri_c_ngd_vs_ngd_fo  \\\n",
       "src_subject_id                                                      \n",
       "NDAR_INVTFBZR8TN                 0.070541               -0.141607   \n",
       "NDAR_INVYJPCD59K                 0.126791               -0.136559   \n",
       "NDAR_INVH1CG52NU                 0.283724               -0.091713   \n",
       "NDAR_INV91KPPX8A                 0.019926               -0.108357   \n",
       "NDAR_INVY0CRE49N                -0.139770               -0.119681   \n",
       "\n",
       "                  rsfmri_c_ngd_vs_ngd_n  rsfmri_c_ngd_vs_ngd_rspltp  \\\n",
       "src_subject_id                                                        \n",
       "NDAR_INVTFBZR8TN              -0.047879                    0.085329   \n",
       "NDAR_INVYJPCD59K               0.010348                    0.186790   \n",
       "NDAR_INVH1CG52NU              -0.512333                    0.758320   \n",
       "NDAR_INV91KPPX8A              -0.037212                    0.096509   \n",
       "NDAR_INVY0CRE49N              -0.103836                   -0.016629   \n",
       "\n",
       "                  rsfmri_c_ngd_vs_ngd_smh  rsfmri_c_ngd_vs_ngd_smm  \\\n",
       "src_subject_id                                                       \n",
       "NDAR_INVTFBZR8TN                 0.029501                 0.076295   \n",
       "NDAR_INVYJPCD59K                -0.159092                -0.160276   \n",
       "NDAR_INVH1CG52NU                 0.281446                 0.297436   \n",
       "NDAR_INV91KPPX8A                -0.014050                 0.050930   \n",
       "NDAR_INVY0CRE49N                -0.231255                -0.064249   \n",
       "\n",
       "                  rsfmri_c_ngd_vs_ngd_sa  rsfmri_c_ngd_vs_ngd_vta  \\\n",
       "src_subject_id                                                      \n",
       "NDAR_INVTFBZR8TN               -0.094922                -0.068562   \n",
       "NDAR_INVYJPCD59K               -0.139479                -0.098911   \n",
       "NDAR_INVH1CG52NU               -0.510570                -0.399407   \n",
       "NDAR_INV91KPPX8A               -0.089303                -0.079748   \n",
       "NDAR_INVY0CRE49N               -0.010916                -0.104411   \n",
       "\n",
       "                  rsfmri_c_ngd_vs_ngd_vs  \n",
       "src_subject_id                            \n",
       "NDAR_INVTFBZR8TN                0.396629  \n",
       "NDAR_INVYJPCD59K                0.515293  \n",
       "NDAR_INVH1CG52NU                0.769946  \n",
       "NDAR_INV91KPPX8A                0.281195  \n",
       "NDAR_INVY0CRE49N                0.395021  \n",
       "\n",
       "[5 rows x 181 columns]"
      ]
     },
     "execution_count": 5,
     "metadata": {},
     "output_type": "execute_result"
    }
   ],
   "source": [
    "ML.data.head()"
   ]
  },
  {
   "cell_type": "markdown",
   "metadata": {},
   "source": [
    "Alright, the obvious problem is that we have a number of columns that we most likely dont want to include. Specifically, there are a number of descriptors, e.g., number of trials, which we don't want, because they are not neuroimaging ROIs. We just want to grab the correlations.\n",
    "Let's clear the data and reload it, explicitly telling the data loader to drop those keys."
   ]
  },
  {
   "cell_type": "code",
   "execution_count": 6,
   "metadata": {},
   "outputs": [
    {
     "data": {
      "text/plain": [
       "['rsfmri_c_ngd_tr',\n",
       " 'rsfmri_c_ngd_numtrs',\n",
       " 'rsfmri_c_ngd_nvols',\n",
       " 'rsfmri_c_ngd_stnvols',\n",
       " 'rsfmri_c_ngd_stcontignvols',\n",
       " 'rsfmri_c_ngd_ntpoints',\n",
       " 'rsfmri_c_ngd_meanmotion',\n",
       " 'rsfmri_c_ngd_maxmotion',\n",
       " 'rsfmri_c_ngd_meantrans',\n",
       " 'rsfmri_c_ngd_maxtrans',\n",
       " 'rsfmri_c_ngd_meanrot',\n",
       " 'rsfmri_c_ngd_maxrot']"
      ]
     },
     "execution_count": 6,
     "metadata": {},
     "output_type": "execute_result"
    }
   ],
   "source": [
    "to_drop = list(ML.data)[:12]\n",
    "to_drop"
   ]
  },
  {
   "cell_type": "code",
   "execution_count": 7,
   "metadata": {},
   "outputs": [
    {
     "name": "stdout",
     "output_type": "stream",
     "text": [
      "cleared data.\n",
      "Loading /mnt/sdb2/ABCDFixRelease2p0p1/abcd_betnet02.txt assumed to be dataset type: basic\n",
      "dropped ['collection_id', 'abcd_betnet02_id', 'dataset_id', 'subjectkey', 'interview_date', 'interview_age', 'sex', 'rsfmri_c_ngd_visitid', 'collection_title', 'study_cohort_name'] columns by default  due to dataset type\n",
      "Dropped 12 columns, per drop_keys argument\n",
      "Dropped 0 cols for all missing values\n",
      "Dropped 633 rows for missing values\n",
      "Dropped rows with missing data\n",
      "loaded shape:  (10333, 169)\n",
      "\n",
      "Total valid overlapping subjects = 10333\n",
      "\n"
     ]
    }
   ],
   "source": [
    "ML.Clear_Data()\n",
    "ML.Load_Data(loc = data_loc, drop_keys=to_drop)"
   ]
  },
  {
   "cell_type": "code",
   "execution_count": 8,
   "metadata": {},
   "outputs": [
    {
     "data": {
      "text/html": [
       "<div>\n",
       "<style scoped>\n",
       "    .dataframe tbody tr th:only-of-type {\n",
       "        vertical-align: middle;\n",
       "    }\n",
       "\n",
       "    .dataframe tbody tr th {\n",
       "        vertical-align: top;\n",
       "    }\n",
       "\n",
       "    .dataframe thead th {\n",
       "        text-align: right;\n",
       "    }\n",
       "</style>\n",
       "<table border=\"1\" class=\"dataframe\">\n",
       "  <thead>\n",
       "    <tr style=\"text-align: right;\">\n",
       "      <th></th>\n",
       "      <th>rsfmri_c_ngd_ad_ngd_ad</th>\n",
       "      <th>rsfmri_c_ngd_ad_ngd_cgc</th>\n",
       "      <th>rsfmri_c_ngd_ad_ngd_ca</th>\n",
       "      <th>rsfmri_c_ngd_ad_ngd_dt</th>\n",
       "      <th>rsfmri_c_ngd_ad_ngd_dla</th>\n",
       "      <th>rsfmri_c_ngd_ad_ngd_fo</th>\n",
       "      <th>rsfmri_c_ngd_ad_ngd_n</th>\n",
       "      <th>rsfmri_c_ngd_ad_ngd_rspltp</th>\n",
       "      <th>rsfmri_c_ngd_ad_ngd_smh</th>\n",
       "      <th>rsfmri_c_ngd_ad_ngd_smm</th>\n",
       "      <th>...</th>\n",
       "      <th>rsfmri_c_ngd_vs_ngd_dt</th>\n",
       "      <th>rsfmri_c_ngd_vs_ngd_dla</th>\n",
       "      <th>rsfmri_c_ngd_vs_ngd_fo</th>\n",
       "      <th>rsfmri_c_ngd_vs_ngd_n</th>\n",
       "      <th>rsfmri_c_ngd_vs_ngd_rspltp</th>\n",
       "      <th>rsfmri_c_ngd_vs_ngd_smh</th>\n",
       "      <th>rsfmri_c_ngd_vs_ngd_smm</th>\n",
       "      <th>rsfmri_c_ngd_vs_ngd_sa</th>\n",
       "      <th>rsfmri_c_ngd_vs_ngd_vta</th>\n",
       "      <th>rsfmri_c_ngd_vs_ngd_vs</th>\n",
       "    </tr>\n",
       "    <tr>\n",
       "      <th>src_subject_id</th>\n",
       "      <th></th>\n",
       "      <th></th>\n",
       "      <th></th>\n",
       "      <th></th>\n",
       "      <th></th>\n",
       "      <th></th>\n",
       "      <th></th>\n",
       "      <th></th>\n",
       "      <th></th>\n",
       "      <th></th>\n",
       "      <th></th>\n",
       "      <th></th>\n",
       "      <th></th>\n",
       "      <th></th>\n",
       "      <th></th>\n",
       "      <th></th>\n",
       "      <th></th>\n",
       "      <th></th>\n",
       "      <th></th>\n",
       "      <th></th>\n",
       "      <th></th>\n",
       "    </tr>\n",
       "  </thead>\n",
       "  <tbody>\n",
       "    <tr>\n",
       "      <th>NDAR_INVTFBZR8TN</th>\n",
       "      <td>0.365674</td>\n",
       "      <td>0.174112</td>\n",
       "      <td>-0.155803</td>\n",
       "      <td>-0.119186</td>\n",
       "      <td>-0.092546</td>\n",
       "      <td>-0.106696</td>\n",
       "      <td>0.021498</td>\n",
       "      <td>-0.109310</td>\n",
       "      <td>0.185742</td>\n",
       "      <td>0.299035</td>\n",
       "      <td>...</td>\n",
       "      <td>-0.112300</td>\n",
       "      <td>0.070541</td>\n",
       "      <td>-0.141607</td>\n",
       "      <td>-0.047879</td>\n",
       "      <td>0.085329</td>\n",
       "      <td>0.029501</td>\n",
       "      <td>0.076295</td>\n",
       "      <td>-0.094922</td>\n",
       "      <td>-0.068562</td>\n",
       "      <td>0.396629</td>\n",
       "    </tr>\n",
       "    <tr>\n",
       "      <th>NDAR_INVYJPCD59K</th>\n",
       "      <td>0.462956</td>\n",
       "      <td>0.271070</td>\n",
       "      <td>-0.432969</td>\n",
       "      <td>-0.042781</td>\n",
       "      <td>-0.127470</td>\n",
       "      <td>0.048803</td>\n",
       "      <td>-0.116154</td>\n",
       "      <td>-0.208845</td>\n",
       "      <td>0.247799</td>\n",
       "      <td>0.446000</td>\n",
       "      <td>...</td>\n",
       "      <td>-0.109891</td>\n",
       "      <td>0.126791</td>\n",
       "      <td>-0.136559</td>\n",
       "      <td>0.010348</td>\n",
       "      <td>0.186790</td>\n",
       "      <td>-0.159092</td>\n",
       "      <td>-0.160276</td>\n",
       "      <td>-0.139479</td>\n",
       "      <td>-0.098911</td>\n",
       "      <td>0.515293</td>\n",
       "    </tr>\n",
       "    <tr>\n",
       "      <th>NDAR_INVH1CG52NU</th>\n",
       "      <td>0.079592</td>\n",
       "      <td>0.079428</td>\n",
       "      <td>0.047834</td>\n",
       "      <td>-0.055406</td>\n",
       "      <td>0.005035</td>\n",
       "      <td>-0.062539</td>\n",
       "      <td>0.004557</td>\n",
       "      <td>0.090682</td>\n",
       "      <td>-0.004681</td>\n",
       "      <td>0.069626</td>\n",
       "      <td>...</td>\n",
       "      <td>-0.309427</td>\n",
       "      <td>0.283724</td>\n",
       "      <td>-0.091713</td>\n",
       "      <td>-0.512333</td>\n",
       "      <td>0.758320</td>\n",
       "      <td>0.281446</td>\n",
       "      <td>0.297436</td>\n",
       "      <td>-0.510570</td>\n",
       "      <td>-0.399407</td>\n",
       "      <td>0.769946</td>\n",
       "    </tr>\n",
       "    <tr>\n",
       "      <th>NDAR_INV91KPPX8A</th>\n",
       "      <td>0.298948</td>\n",
       "      <td>0.201857</td>\n",
       "      <td>-0.101835</td>\n",
       "      <td>-0.022951</td>\n",
       "      <td>-0.023623</td>\n",
       "      <td>-0.085723</td>\n",
       "      <td>0.026861</td>\n",
       "      <td>0.013481</td>\n",
       "      <td>0.170684</td>\n",
       "      <td>0.217591</td>\n",
       "      <td>...</td>\n",
       "      <td>-0.133064</td>\n",
       "      <td>0.019926</td>\n",
       "      <td>-0.108357</td>\n",
       "      <td>-0.037212</td>\n",
       "      <td>0.096509</td>\n",
       "      <td>-0.014050</td>\n",
       "      <td>0.050930</td>\n",
       "      <td>-0.089303</td>\n",
       "      <td>-0.079748</td>\n",
       "      <td>0.281195</td>\n",
       "    </tr>\n",
       "    <tr>\n",
       "      <th>NDAR_INVY0CRE49N</th>\n",
       "      <td>0.661889</td>\n",
       "      <td>0.494207</td>\n",
       "      <td>-0.361048</td>\n",
       "      <td>-0.128452</td>\n",
       "      <td>0.007314</td>\n",
       "      <td>-0.132596</td>\n",
       "      <td>0.072417</td>\n",
       "      <td>-0.049934</td>\n",
       "      <td>0.382214</td>\n",
       "      <td>0.452704</td>\n",
       "      <td>...</td>\n",
       "      <td>-0.082207</td>\n",
       "      <td>-0.139770</td>\n",
       "      <td>-0.119681</td>\n",
       "      <td>-0.103836</td>\n",
       "      <td>-0.016629</td>\n",
       "      <td>-0.231255</td>\n",
       "      <td>-0.064249</td>\n",
       "      <td>-0.010916</td>\n",
       "      <td>-0.104411</td>\n",
       "      <td>0.395021</td>\n",
       "    </tr>\n",
       "  </tbody>\n",
       "</table>\n",
       "<p>5 rows × 169 columns</p>\n",
       "</div>"
      ],
      "text/plain": [
       "                  rsfmri_c_ngd_ad_ngd_ad  rsfmri_c_ngd_ad_ngd_cgc  \\\n",
       "src_subject_id                                                      \n",
       "NDAR_INVTFBZR8TN                0.365674                 0.174112   \n",
       "NDAR_INVYJPCD59K                0.462956                 0.271070   \n",
       "NDAR_INVH1CG52NU                0.079592                 0.079428   \n",
       "NDAR_INV91KPPX8A                0.298948                 0.201857   \n",
       "NDAR_INVY0CRE49N                0.661889                 0.494207   \n",
       "\n",
       "                  rsfmri_c_ngd_ad_ngd_ca  rsfmri_c_ngd_ad_ngd_dt  \\\n",
       "src_subject_id                                                     \n",
       "NDAR_INVTFBZR8TN               -0.155803               -0.119186   \n",
       "NDAR_INVYJPCD59K               -0.432969               -0.042781   \n",
       "NDAR_INVH1CG52NU                0.047834               -0.055406   \n",
       "NDAR_INV91KPPX8A               -0.101835               -0.022951   \n",
       "NDAR_INVY0CRE49N               -0.361048               -0.128452   \n",
       "\n",
       "                  rsfmri_c_ngd_ad_ngd_dla  rsfmri_c_ngd_ad_ngd_fo  \\\n",
       "src_subject_id                                                      \n",
       "NDAR_INVTFBZR8TN                -0.092546               -0.106696   \n",
       "NDAR_INVYJPCD59K                -0.127470                0.048803   \n",
       "NDAR_INVH1CG52NU                 0.005035               -0.062539   \n",
       "NDAR_INV91KPPX8A                -0.023623               -0.085723   \n",
       "NDAR_INVY0CRE49N                 0.007314               -0.132596   \n",
       "\n",
       "                  rsfmri_c_ngd_ad_ngd_n  rsfmri_c_ngd_ad_ngd_rspltp  \\\n",
       "src_subject_id                                                        \n",
       "NDAR_INVTFBZR8TN               0.021498                   -0.109310   \n",
       "NDAR_INVYJPCD59K              -0.116154                   -0.208845   \n",
       "NDAR_INVH1CG52NU               0.004557                    0.090682   \n",
       "NDAR_INV91KPPX8A               0.026861                    0.013481   \n",
       "NDAR_INVY0CRE49N               0.072417                   -0.049934   \n",
       "\n",
       "                  rsfmri_c_ngd_ad_ngd_smh  rsfmri_c_ngd_ad_ngd_smm  ...  \\\n",
       "src_subject_id                                                      ...   \n",
       "NDAR_INVTFBZR8TN                 0.185742                 0.299035  ...   \n",
       "NDAR_INVYJPCD59K                 0.247799                 0.446000  ...   \n",
       "NDAR_INVH1CG52NU                -0.004681                 0.069626  ...   \n",
       "NDAR_INV91KPPX8A                 0.170684                 0.217591  ...   \n",
       "NDAR_INVY0CRE49N                 0.382214                 0.452704  ...   \n",
       "\n",
       "                  rsfmri_c_ngd_vs_ngd_dt  rsfmri_c_ngd_vs_ngd_dla  \\\n",
       "src_subject_id                                                      \n",
       "NDAR_INVTFBZR8TN               -0.112300                 0.070541   \n",
       "NDAR_INVYJPCD59K               -0.109891                 0.126791   \n",
       "NDAR_INVH1CG52NU               -0.309427                 0.283724   \n",
       "NDAR_INV91KPPX8A               -0.133064                 0.019926   \n",
       "NDAR_INVY0CRE49N               -0.082207                -0.139770   \n",
       "\n",
       "                  rsfmri_c_ngd_vs_ngd_fo  rsfmri_c_ngd_vs_ngd_n  \\\n",
       "src_subject_id                                                    \n",
       "NDAR_INVTFBZR8TN               -0.141607              -0.047879   \n",
       "NDAR_INVYJPCD59K               -0.136559               0.010348   \n",
       "NDAR_INVH1CG52NU               -0.091713              -0.512333   \n",
       "NDAR_INV91KPPX8A               -0.108357              -0.037212   \n",
       "NDAR_INVY0CRE49N               -0.119681              -0.103836   \n",
       "\n",
       "                  rsfmri_c_ngd_vs_ngd_rspltp  rsfmri_c_ngd_vs_ngd_smh  \\\n",
       "src_subject_id                                                          \n",
       "NDAR_INVTFBZR8TN                    0.085329                 0.029501   \n",
       "NDAR_INVYJPCD59K                    0.186790                -0.159092   \n",
       "NDAR_INVH1CG52NU                    0.758320                 0.281446   \n",
       "NDAR_INV91KPPX8A                    0.096509                -0.014050   \n",
       "NDAR_INVY0CRE49N                   -0.016629                -0.231255   \n",
       "\n",
       "                  rsfmri_c_ngd_vs_ngd_smm  rsfmri_c_ngd_vs_ngd_sa  \\\n",
       "src_subject_id                                                      \n",
       "NDAR_INVTFBZR8TN                 0.076295               -0.094922   \n",
       "NDAR_INVYJPCD59K                -0.160276               -0.139479   \n",
       "NDAR_INVH1CG52NU                 0.297436               -0.510570   \n",
       "NDAR_INV91KPPX8A                 0.050930               -0.089303   \n",
       "NDAR_INVY0CRE49N                -0.064249               -0.010916   \n",
       "\n",
       "                  rsfmri_c_ngd_vs_ngd_vta  rsfmri_c_ngd_vs_ngd_vs  \n",
       "src_subject_id                                                     \n",
       "NDAR_INVTFBZR8TN                -0.068562                0.396629  \n",
       "NDAR_INVYJPCD59K                -0.098911                0.515293  \n",
       "NDAR_INVH1CG52NU                -0.399407                0.769946  \n",
       "NDAR_INV91KPPX8A                -0.079748                0.281195  \n",
       "NDAR_INVY0CRE49N                -0.104411                0.395021  \n",
       "\n",
       "[5 rows x 169 columns]"
      ]
     },
     "execution_count": 8,
     "metadata": {},
     "output_type": "execute_result"
    }
   ],
   "source": [
    "ML.data.head()"
   ]
  },
  {
   "cell_type": "markdown",
   "metadata": {},
   "source": [
    "Great, looks better, though the correlations have an extra problem. That is namely, there are repeat columns as X corr with y, and y corr with x. Not, Load_Data has a function to remove duplicate columns (marked as duplicate if they above a user defined correlation threshold with another column). Instead of reloading the data though, we can also call a specific function for this purpose."
   ]
  },
  {
   "cell_type": "code",
   "execution_count": 9,
   "metadata": {},
   "outputs": [
    {
     "name": "stdout",
     "output_type": "stream",
     "text": [
      "Dropped 78 columns as duplicate cols!\n"
     ]
    }
   ],
   "source": [
    "ML.Drop_Data_Duplicates(corr_thresh=.99)"
   ]
  },
  {
   "cell_type": "markdown",
   "metadata": {},
   "source": [
    "Okay, now ets load our targets and some covars (just age + sex)"
   ]
  },
  {
   "cell_type": "code",
   "execution_count": 10,
   "metadata": {},
   "outputs": [
    {
     "name": "stdout",
     "output_type": "stream",
     "text": [
      "Loading targets!\n",
      "Loading /mnt/sdb2/ABCD2p0NDA/abcd_tbss01.txt assumed to be dataset type: basic\n",
      "Final shape:  (11718, 1)\n",
      "\n",
      "Total valid overlapping subjects = 10201\n",
      "\n",
      "Loading covariates!\n",
      "Loading /mnt/sdb2/ABCD2p0NDA/abcd_tbss01.txt assumed to be dataset type: basic\n",
      "load: interview_age\n",
      "load: gender\n",
      "\n",
      "Total valid overlapping subjects = 10198\n",
      "\n"
     ]
    }
   ],
   "source": [
    "ML.Load_Targets(target_loc, 'nihtbx_picvocab_agecorrected', 'float')\n",
    "ML.Load_Covars(target_loc, ['interview_age', 'gender'], ['f', 'b'])"
   ]
  },
  {
   "cell_type": "code",
   "execution_count": 11,
   "metadata": {},
   "outputs": [
    {
     "name": "stdout",
     "output_type": "stream",
     "text": [
      "            targets\n",
      "count  11718.000000\n",
      "mean     106.798430\n",
      "std       16.998224\n",
      "min        0.000000\n",
      "25%       98.000000\n",
      "50%      106.000000\n",
      "75%      120.000000\n",
      "max      208.000000\n",
      "\n",
      "Num. of unique vals: 59\n"
     ]
    },
    {
     "data": {
      "image/png": "[encoded data removed]",
      "text/plain": [
       "<Figure size 432x288 with 1 Axes>"
      ]
     },
     "metadata": {
      "needs_background": "light"
     },
     "output_type": "display_data"
    }
   ],
   "source": [
    "ML.Show_Targets_Dist()"
   ]
  },
  {
   "cell_type": "markdown",
   "metadata": {},
   "source": [
    "It appears that there are some severe outliers... lets try reloading targets and just cut off the top 1% from either side of the distribution and see if that helps. Note: what we are doing here is acting upon the whole dataset before any train/test split, therefore it is reccomended that at this stage any global actions should be reasonable... in this case it seems reasonable to remove subjects with scores that are likely just human input error."
   ]
  },
  {
   "cell_type": "code",
   "execution_count": 12,
   "metadata": {},
   "outputs": [
    {
     "name": "stdout",
     "output_type": "stream",
     "text": [
      "Loading targets!\n",
      "Loading /mnt/sdb2/ABCD2p0NDA/abcd_tbss01.txt assumed to be dataset type: basic\n",
      "Filtering for outliers, dropping rows with params:  1\n",
      "Min-Max Score (before outlier filtering): 0.0 208.0\n",
      "Min-Max Score (post outlier filtering): 77.0 152.0\n",
      "Final shape:  (11347, 1)\n",
      "\n",
      "Total valid overlapping subjects = 9883\n",
      "\n"
     ]
    }
   ],
   "source": [
    "ML.Load_Targets(target_loc, 'nihtbx_picvocab_agecorrected', 'float', filter_outlier_percent=1)"
   ]
  },
  {
   "cell_type": "code",
   "execution_count": 13,
   "metadata": {},
   "outputs": [
    {
     "name": "stdout",
     "output_type": "stream",
     "text": [
      "            targets\n",
      "count  11347.000000\n",
      "mean     106.438442\n",
      "std       14.931205\n",
      "min       77.000000\n",
      "25%       98.000000\n",
      "50%      105.000000\n",
      "75%      118.000000\n",
      "max      152.000000\n",
      "\n",
      "Num. of unique vals: 34\n"
     ]
    },
    {
     "data": {
      "image/png": "[encoded data removed]",
      "text/plain": [
       "<Figure size 432x288 with 1 Axes>"
      ]
     },
     "metadata": {
      "needs_background": "light"
     },
     "output_type": "display_data"
    }
   ],
   "source": [
    "ML.Show_Targets_Dist()"
   ]
  },
  {
   "cell_type": "markdown",
   "metadata": {},
   "source": [
    "One percent might even be too much..."
   ]
  },
  {
   "cell_type": "code",
   "execution_count": 14,
   "metadata": {},
   "outputs": [
    {
     "name": "stdout",
     "output_type": "stream",
     "text": [
      "Loading targets!\n",
      "Loading /mnt/sdb2/ABCD2p0NDA/abcd_tbss01.txt assumed to be dataset type: basic\n",
      "Filtering for outliers, dropping rows with params:  0.005\n",
      "Min-Max Score (before outlier filtering): 0.0 208.0\n",
      "Min-Max Score (post outlier filtering): 71.0 155.0\n",
      "Final shape:  (11569, 1)\n",
      "\n",
      "Total valid overlapping subjects = 10076\n",
      "\n"
     ]
    }
   ],
   "source": [
    "ML.Load_Targets(target_loc, 'nihtbx_picvocab_agecorrected', 'float', filter_outlier_percent=.005)"
   ]
  },
  {
   "cell_type": "code",
   "execution_count": 15,
   "metadata": {
    "scrolled": true
   },
   "outputs": [
    {
     "name": "stdout",
     "output_type": "stream",
     "text": [
      "            targets\n",
      "count  11569.000000\n",
      "mean     106.701876\n",
      "std       15.892801\n",
      "min       71.000000\n",
      "25%       98.000000\n",
      "50%      106.000000\n",
      "75%      120.000000\n",
      "max      155.000000\n",
      "\n",
      "Num. of unique vals: 38\n"
     ]
    },
    {
     "data": {
      "image/png": "[encoded data removed]",
      "text/plain": [
       "<Figure size 432x288 with 1 Axes>"
      ]
     },
     "metadata": {
      "needs_background": "light"
     },
     "output_type": "display_data"
    }
   ],
   "source": [
    "ML.Show_Targets_Dist()"
   ]
  },
  {
   "cell_type": "markdown",
   "metadata": {},
   "source": [
    "That looks a little better, so only the really severe outliers are removed. The distribution is still a bit weird, but nothing we can do about that."
   ]
  },
  {
   "cell_type": "markdown",
   "metadata": {},
   "source": [
    "We have now loaded:\n",
    "-Exclusions\n",
    "-Data, Targets and Covars\n",
    "\n",
    "We could optionally load stratification values, but for this example, we will just use random cross validation.\n",
    "\n",
    "# Validation Phase"
   ]
  },
  {
   "cell_type": "markdown",
   "metadata": {},
   "source": [
    "Before defining the train test split, we would optionally define a validation strategy, but for this expiriment we are just going to use random splits."
   ]
  },
  {
   "cell_type": "code",
   "execution_count": 16,
   "metadata": {},
   "outputs": [
    {
     "name": "stdout",
     "output_type": "stream",
     "text": [
      "Final data for modeling loaded shape: (10076, 94)\n",
      "Performed train/test split, train size: 7557 test size:  2519\n"
     ]
    }
   ],
   "source": [
    "ML.Train_Test_Split(test_size=.25, random_state=1)"
   ]
  },
  {
   "cell_type": "markdown",
   "metadata": {},
   "source": [
    "# Modeling Phase"
   ]
  },
  {
   "cell_type": "code",
   "execution_count": 17,
   "metadata": {},
   "outputs": [
    {
     "name": "stdout",
     "output_type": "stream",
     "text": [
      "No default feat selector passed, set to None\n",
      "No default search type passed, set to None\n",
      "No default data scaler param ind passed, set to 0\n",
      "No default feat selector param ind passed, set to 0\n",
      "No default extra params passed, set to empty dict\n",
      "Default params set.\n",
      "\n"
     ]
    }
   ],
   "source": [
    "ML.Set_Default_ML_Params(problem_type='regression',\n",
    "                         metric=['r2', 'mse'],\n",
    "                         data_scaler='standard',\n",
    "                         n_splits=3,\n",
    "                         n_repeats=2,\n",
    "                         int_cv=3,\n",
    "                         n_jobs=8,\n",
    "                         n_iter=20,\n",
    "                         random_state=1)"
   ]
  },
  {
   "cell_type": "markdown",
   "metadata": {},
   "source": [
    "So what the above statements are telling us is that we are not using and feature selectors, and then that our default search type is set to None, which means we are by default not doing any sort of search for hyperparameters. In general the way a search for hyperparameters works, is that you can set a param ind, for data scaler, feat_selector and model_type, where the param ind specifies what grid of parameters you want to search over for that object. By default, each object (feat_selector, model type, data_scaler) has a base grid of parameters consisting of just 1 value, and that is always index 0. So when we set the search type to None, it actually forces every data_scaler_param_ind and model_type_param_ind to be 0. Are other options are to select search type ='s either 'grid' for an explicit grid search over all param options, or 'random', to search over whatever our value for n_iter number of parameters. Then, you can set any of the param inds to either a different numerical index, specifying a different distribution of params, or each param distribution also has a str indicator name which can be passed.\n",
    "\n",
    "The extra complexity of all of this is worth it I promise, as it lets you define a random search of parameters over not just your model, but optionally a data scaler and feature selector, all relatively easily!\n",
    "\n",
    "Oh but your asking, how do we see these different param ind options for each model or scaler?\n",
    "Heck, I'll show ya"
   ]
  },
  {
   "cell_type": "code",
   "execution_count": 18,
   "metadata": {},
   "outputs": [
    {
     "name": "stdout",
     "output_type": "stream",
     "text": [
      "Note: Param distributions with a Rand Distribution\n",
      "cannot be used in search_type = \"grid\"\n",
      "\n",
      "Problem Type: regression\n",
      "----------------------------------------\n",
      "\n",
      "Avaliable models: \n",
      "\n",
      "- - - - - - - - - - - - - - - - - - - - \n",
      "DecisionTreeRegressor (\"dt regressor\")\n",
      "- - - - - - - - - - - - - - - - - - - - \n",
      "\n",
      "\n",
      "\n",
      "- - - - - - - - - - - - - - - - - - - - \n",
      "ElasticNet (\"elastic net regressor\")\n",
      "- - - - - - - - - - - - - - - - - - - - \n",
      "\n",
      "\n",
      "\n",
      "- - - - - - - - - - - - - - - - - - - - \n",
      "GaussianProcessRegressor (\"gp regressor\")\n",
      "- - - - - - - - - - - - - - - - - - - - \n",
      "\n",
      "\n",
      "\n",
      "- - - - - - - - - - - - - - - - - - - - \n",
      "KNeighborsRegressor (\"knn regressor\")\n",
      "- - - - - - - - - - - - - - - - - - - - \n",
      "\n",
      "\n",
      "\n",
      "- - - - - - - - - - - - - - - - - - - - \n",
      "LGBMRegressor (\"light gbm regressor\")\n",
      "- - - - - - - - - - - - - - - - - - - - \n",
      "\n",
      "\n",
      "\n",
      "- - - - - - - - - - - - - - - - - - - - \n",
      "EarlyStopLGBMRegressor (\"light gbm regressor early stop\")\n",
      "- - - - - - - - - - - - - - - - - - - - \n",
      "\n",
      "\n",
      "\n",
      "- - - - - - - - - - - - - - - - - - - - \n",
      "LinearRegression (\"linear regressor\")\n",
      "- - - - - - - - - - - - - - - - - - - - \n",
      "\n",
      "\n",
      "\n",
      "- - - - - - - - - - - - - - - - - - - - \n",
      "MLPRegressor (\"mlp regressor\")\n",
      "- - - - - - - - - - - - - - - - - - - - \n",
      "\n",
      "\n",
      "\n",
      "- - - - - - - - - - - - - - - - - - - - \n",
      "RandomForestRegressor (\"random forest regressor\")\n",
      "- - - - - - - - - - - - - - - - - - - - \n",
      "\n",
      "\n",
      "\n",
      "- - - - - - - - - - - - - - - - - - - - \n",
      "SVR (\"svm regressor\")\n",
      "- - - - - - - - - - - - - - - - - - - - \n",
      "\n",
      "\n",
      "\n"
     ]
    }
   ],
   "source": [
    "# First lets look at just which models are avaliable\n",
    "ML.Show_Models(problem_type='regression', show_param_ind_options=False)"
   ]
  },
  {
   "cell_type": "markdown",
   "metadata": {},
   "source": [
    "Okay now lets choose to look at just the \"svm regressor\""
   ]
  },
  {
   "cell_type": "code",
   "execution_count": 19,
   "metadata": {},
   "outputs": [
    {
     "name": "stdout",
     "output_type": "stream",
     "text": [
      "Note: Param distributions with a Rand Distribution\n",
      "cannot be used in search_type = \"grid\"\n",
      "\n",
      "- - - - - - - - - - - - - - - - - - - - \n",
      "SVR (\"svm regressor\")\n",
      "- - - - - - - - - - - - - - - - - - - - \n",
      "\n",
      "\n",
      "Param Indices\n",
      "-------------\n",
      "\n",
      "0:\n",
      "\n",
      "\"base svm\"\n",
      "kernel: rbf\n",
      "gamma: scale\n",
      "\n",
      "\n",
      "1:\n",
      "\n",
      "\"svm rs\"\n",
      "kernel: rbf\n",
      "gamma: Uniform/Reciprocal Distribution Over (1e-06, 0.1)\n",
      "C: Uniform/Reciprocal Distribution Over (0.0001, 10000.0)\n",
      "\n",
      "-------------\n",
      "\n"
     ]
    }
   ],
   "source": [
    "ML.Show_Models(model_type=\"svm regressor\")"
   ]
  },
  {
   "cell_type": "markdown",
   "metadata": {},
   "source": [
    "So, for the SVR it looks like we just have one other option besides 0, which is a random search option.\n",
    "\n",
    "We can also check for the standard data scaler"
   ]
  },
  {
   "cell_type": "code",
   "execution_count": 20,
   "metadata": {},
   "outputs": [
    {
     "name": "stdout",
     "output_type": "stream",
     "text": [
      "Visit: \n",
      "https://scikit-learn.org/stable/modules/preprocessing.html\n",
      "For more detailed information on different scalers / preprocessing.\n",
      "\n",
      "- - - - - - - - - - - - - - - - - - - - \n",
      "StandardScaler (\"standard\")\n",
      "- - - - - - - - - - - - - - - - - - - - \n",
      "\n",
      "\n",
      "Param Indices\n",
      "-------------\n",
      "\n",
      "0:\n",
      "\n",
      "\"base standard\"\n",
      "with_mean: True\n",
      "with_std: True\n",
      "\n",
      "-------------\n",
      "\n"
     ]
    }
   ],
   "source": [
    "ML.Show_Data_Scalers(data_scaler='standard')"
   ]
  },
  {
   "cell_type": "markdown",
   "metadata": {},
   "source": [
    "Well no options for that, and we are not using any feature selection, so lets just use param_ind = 1 for the svm regressor"
   ]
  },
  {
   "cell_type": "code",
   "execution_count": 21,
   "metadata": {},
   "outputs": [
    {
     "name": "stdout",
     "output_type": "stream",
     "text": [
      "Running Evaluate with:\n",
      "model_type = svm\n",
      "problem_type = regression\n",
      "metric = ['r2', 'mse']\n",
      "data_scaler = standard\n",
      "feat_selector = None\n",
      "n_splits = 3\n",
      "n_repeats = 2\n",
      "int_cv = 3\n",
      "search_type = None\n",
      "model_type_param_ind = 1\n",
      "data_scaler_param_ind = 0\n",
      "feat_selector_param_ind = 0\n",
      "n_jobs = 8\n",
      "n_iter = 20\n",
      "random_state = 1\n",
      "extra_params = {}\n",
      "\n",
      "\n",
      "Metric:  r2\n",
      "Mean score:  0.049610702000910514\n",
      "Macro std in score:  7.91338589407227e-05\n",
      "Micro std in score:  0.007117263487304466\n",
      "\n",
      "Metric:  mean squared error\n",
      "Mean score:  -238.0951037724008\n",
      "Macro std in score:  0.07898830131858858\n",
      "Micro std in score:  8.303676552202848\n",
      "\n"
     ]
    }
   ],
   "source": [
    "raw_scores = ML.Evaluate(model_type = 'svm',\n",
    "                         model_type_param_ind = 1)"
   ]
  },
  {
   "cell_type": "markdown",
   "metadata": {},
   "source": [
    "Notably, we did not actually run a random parameter search for SVM, since our search_type is still set to None."
   ]
  },
  {
   "cell_type": "code",
   "execution_count": 22,
   "metadata": {},
   "outputs": [
    {
     "name": "stdout",
     "output_type": "stream",
     "text": [
      "Running Evaluate with:\n",
      "model_type = svm\n",
      "problem_type = regression\n",
      "metric = ['r2', 'mse']\n",
      "data_scaler = standard\n",
      "feat_selector = None\n",
      "n_splits = 3\n",
      "n_repeats = 2\n",
      "int_cv = 3\n",
      "search_type = random\n",
      "model_type_param_ind = 1\n",
      "data_scaler_param_ind = 0\n",
      "feat_selector_param_ind = 0\n",
      "n_jobs = 8\n",
      "n_iter = 20\n",
      "random_state = 1\n",
      "extra_params = {}\n",
      "\n",
      "\n",
      "Metric:  r2\n",
      "Mean score:  0.03871323176278211\n",
      "Macro std in score:  0.002002795276814462\n",
      "Micro std in score:  0.005348802647130417\n",
      "\n",
      "Metric:  mean squared error\n",
      "Mean score:  -240.7775804826369\n",
      "Macro std in score:  0.3877904674964725\n",
      "Micro std in score:  6.8401933488856175\n",
      "\n"
     ]
    }
   ],
   "source": [
    "raw_scores = ML.Evaluate(model_type = 'svm',\n",
    "                         search_type = 'random',\n",
    "                         model_type_param_ind = 1)"
   ]
  },
  {
   "cell_type": "markdown",
   "metadata": {},
   "source": [
    "Okay, lets say we wanted to use an elastic net now."
   ]
  },
  {
   "cell_type": "code",
   "execution_count": 23,
   "metadata": {},
   "outputs": [
    {
     "name": "stdout",
     "output_type": "stream",
     "text": [
      "Running Evaluate with:\n",
      "model_type = elastic\n",
      "problem_type = regression\n",
      "metric = ['r2', 'mse']\n",
      "data_scaler = standard\n",
      "feat_selector = None\n",
      "n_splits = 3\n",
      "n_repeats = 2\n",
      "int_cv = 3\n",
      "search_type = random\n",
      "model_type_param_ind = 1\n",
      "data_scaler_param_ind = 0\n",
      "feat_selector_param_ind = 0\n",
      "n_jobs = 8\n",
      "n_iter = 20\n",
      "random_state = 1\n",
      "extra_params = {}\n",
      "\n",
      "\n",
      "Metric:  r2\n",
      "Mean score:  0.0342800711729002\n",
      "Macro std in score:  0.0009886931554644422\n",
      "Micro std in score:  0.0020895519098320893\n",
      "\n",
      "Metric:  mean squared error\n",
      "Mean score:  -241.8948234456348\n",
      "Macro std in score:  0.14264293125316385\n",
      "Micro std in score:  7.014567334442634\n",
      "\n"
     ]
    }
   ],
   "source": [
    "raw_scores = ML.Evaluate(model_type = 'elastic',\n",
    "                         search_type= 'random',\n",
    "                         model_type_param_ind = 1)"
   ]
  },
  {
   "cell_type": "code",
   "execution_count": 24,
   "metadata": {},
   "outputs": [
    {
     "name": "stdout",
     "output_type": "stream",
     "text": [
      "Running Evaluate with:\n",
      "model_type = elastic\n",
      "problem_type = regression\n",
      "metric = ['r2', 'mse']\n",
      "data_scaler = standard\n",
      "feat_selector = None\n",
      "n_splits = 3\n",
      "n_repeats = 2\n",
      "int_cv = 3\n",
      "search_type = random\n",
      "model_type_param_ind = 1\n",
      "data_scaler_param_ind = 0\n",
      "feat_selector_param_ind = 0\n",
      "n_jobs = 8\n",
      "n_iter = 100\n",
      "random_state = 2\n",
      "extra_params = {}\n",
      "\n",
      "\n",
      "Metric:  r2\n",
      "Mean score:  0.037368254102185104\n",
      "Macro std in score:  0.0018520276643054778\n",
      "Micro std in score:  0.005311477695748682\n",
      "\n",
      "Metric:  mean squared error\n",
      "Mean score:  -241.08959103690393\n",
      "Macro std in score:  0.38714053629429657\n",
      "Micro std in score:  6.298621366673924\n",
      "\n"
     ]
    }
   ],
   "source": [
    "raw_scores = ML.Evaluate(model_type = 'elastic',\n",
    "                         search_type= 'random',\n",
    "                         model_type_param_ind = 1,\n",
    "                         n_iter = 100)"
   ]
  },
  {
   "cell_type": "markdown",
   "metadata": {},
   "source": [
    "What about light gbm you say? That sounds fancy. (For both elastic net and this we just use model_type_param_ind = 1, since it is typically the random search grid of parameters, but definetly look to make sure what you are actuall running)."
   ]
  },
  {
   "cell_type": "code",
   "execution_count": 31,
   "metadata": {},
   "outputs": [
    {
     "name": "stdout",
     "output_type": "stream",
     "text": [
      "Running Evaluate with:\n",
      "model_type = ['light gbm', 'elastic']\n",
      "problem_type = regression\n",
      "metric = ['r2', 'mse']\n",
      "data_scaler = standard\n",
      "feat_selector = None\n",
      "n_splits = 3\n",
      "n_repeats = 2\n",
      "int_cv = 3\n",
      "search_type = grid\n",
      "model_type_param_ind = [0, 0]\n",
      "data_scaler_param_ind = 0\n",
      "feat_selector_param_ind = 0\n",
      "n_jobs = 8\n",
      "n_iter = 20\n",
      "random_state = 1\n",
      "extra_params = {}\n",
      "\n",
      "\n",
      "Metric:  r2\n",
      "Mean score:  0.037177776570477494\n",
      "Macro std in score:  0.0012430621915798037\n",
      "Micro std in score:  0.002660353067131821\n",
      "\n",
      "Metric:  mean squared error\n",
      "Mean score:  -241.18291843234738\n",
      "Macro std in score:  0.39700693372444107\n",
      "Micro std in score:  7.458651930435798\n",
      "\n"
     ]
    }
   ],
   "source": [
    "raw_scores = ML.Evaluate(model_type = ['light gbm', 'elastic'],\n",
    "                         search_type='grid',\n",
    "                         model_type_param_ind = [0, 0])"
   ]
  },
  {
   "cell_type": "code",
   "execution_count": 81,
   "metadata": {},
   "outputs": [],
   "source": [
    "from deslib.des.knora_e import KNORAE\n",
    "import numpy as np\n",
    "from sklearn.neighbors import KNeighborsClassifier\n",
    "from deslib.static.stacked import StackedClassifier"
   ]
  },
  {
   "cell_type": "code",
   "execution_count": null,
   "metadata": {},
   "outputs": [],
   "source": []
  },
  {
   "cell_type": "code",
   "execution_count": 71,
   "metadata": {},
   "outputs": [
    {
     "data": {
      "text/plain": [
       "KNeighborsRegressor(algorithm='auto', leaf_size=30, metric='minkowski',\n",
       "                    metric_params=None, n_jobs=None, n_neighbors=5, p=2,\n",
       "                    weights='uniform')"
      ]
     },
     "execution_count": 71,
     "metadata": {},
     "output_type": "execute_result"
    }
   ],
   "source": []
  },
  {
   "cell_type": "code",
   "execution_count": 86,
   "metadata": {},
   "outputs": [
    {
     "data": {
      "text/plain": [
       "KNORAE(DFP=False, DSEL_perc=0.5, IH_rate=0.3, k=7, knn_classifier='knn',\n",
       "       pool_classifiers=[KNeighborsClassifier(algorithm='auto', leaf_size=30,\n",
       "                                              metric='minkowski',\n",
       "                                              metric_params=None, n_jobs=None,\n",
       "                                              n_neighbors=5, p=2,\n",
       "                                              weights='uniform')],\n",
       "       random_state=None, safe_k=None, with_IH=False)"
      ]
     },
     "execution_count": 86,
     "metadata": {},
     "output_type": "execute_result"
    }
   ],
   "source": [
    "X = np.ones((20,20))\n",
    "y = np.ones((20))\n",
    "\n",
    "y[10:] = 0\n",
    "y[15:] = 2\n",
    "\n",
    "knn1 = KNeighborsClassifier()\n",
    "\n",
    "\n",
    "knn1.fit(X,y)\n",
    "\n",
    "\n",
    "models = [knn1]\n",
    "\n",
    "models[0].fit(X,y)\n",
    "knorae = KNORAE(models)\n",
    "knorae.fit(X,y)"
   ]
  },
  {
   "cell_type": "code",
   "execution_count": 91,
   "metadata": {},
   "outputs": [
    {
     "data": {
      "text/plain": [
       "KNeighborsClassifier(algorithm='auto', leaf_size=30, metric='minkowski',\n",
       "                     metric_params=None, n_jobs=None, n_neighbors=5, p=2,\n",
       "                     weights='uniform')"
      ]
     },
     "execution_count": 91,
     "metadata": {},
     "output_type": "execute_result"
    }
   ],
   "source": [
    "knorae.pool_classifiers[0]"
   ]
  },
  {
   "cell_type": "code",
   "execution_count": 92,
   "metadata": {},
   "outputs": [],
   "source": [
    "KNORAE?"
   ]
  },
  {
   "cell_type": "code",
   "execution_count": null,
   "metadata": {},
   "outputs": [],
   "source": [
    "knorae = StackedClassifier"
   ]
  },
  {
   "cell_type": "code",
   "execution_count": 74,
   "metadata": {},
   "outputs": [
    {
     "ename": "NotFittedError",
     "evalue": "This KNeighborsRegressor instance is not fitted yet. Call 'fit' with appropriate arguments before using this method.",
     "output_type": "error",
     "traceback": [
      "\u001b[0;31m---------------------------------------------------------------------------\u001b[0m",
      "\u001b[0;31mNotFittedError\u001b[0m                            Traceback (most recent call last)",
      "\u001b[0;32m<ipython-input-74-e9fc93754cf4>\u001b[0m in \u001b[0;36m<module>\u001b[0;34m\u001b[0m\n\u001b[0;32m----> 1\u001b[0;31m \u001b[0mknorae\u001b[0m\u001b[0;34m.\u001b[0m\u001b[0mfit\u001b[0m\u001b[0;34m(\u001b[0m\u001b[0mX\u001b[0m\u001b[0;34m,\u001b[0m\u001b[0my\u001b[0m\u001b[0;34m)\u001b[0m\u001b[0;34m\u001b[0m\u001b[0;34m\u001b[0m\u001b[0m\n\u001b[0m",
      "\u001b[0;32m~/anaconda3/lib/python3.6/site-packages/deslib/base.py\u001b[0m in \u001b[0;36mfit\u001b[0;34m(self, X, y)\u001b[0m\n\u001b[1;32m    220\u001b[0m \u001b[0;34m\u001b[0m\u001b[0m\n\u001b[1;32m    221\u001b[0m         \u001b[0;32melse\u001b[0m\u001b[0;34m:\u001b[0m\u001b[0;34m\u001b[0m\u001b[0;34m\u001b[0m\u001b[0m\n\u001b[0;32m--> 222\u001b[0;31m             \u001b[0mself\u001b[0m\u001b[0;34m.\u001b[0m\u001b[0m_check_base_classifier_fitted\u001b[0m\u001b[0;34m(\u001b[0m\u001b[0;34m)\u001b[0m\u001b[0;34m\u001b[0m\u001b[0;34m\u001b[0m\u001b[0m\n\u001b[0m\u001b[1;32m    223\u001b[0m             \u001b[0mself\u001b[0m\u001b[0;34m.\u001b[0m\u001b[0mpool_classifiers_\u001b[0m \u001b[0;34m=\u001b[0m \u001b[0mself\u001b[0m\u001b[0;34m.\u001b[0m\u001b[0mpool_classifiers\u001b[0m\u001b[0;34m\u001b[0m\u001b[0;34m\u001b[0m\u001b[0m\n\u001b[1;32m    224\u001b[0m             \u001b[0mX_dsel\u001b[0m \u001b[0;34m=\u001b[0m \u001b[0mX\u001b[0m\u001b[0;34m\u001b[0m\u001b[0;34m\u001b[0m\u001b[0m\n",
      "\u001b[0;32m~/anaconda3/lib/python3.6/site-packages/deslib/base.py\u001b[0m in \u001b[0;36m_check_base_classifier_fitted\u001b[0;34m(self)\u001b[0m\n\u001b[1;32m    901\u001b[0m         \"\"\"\n\u001b[1;32m    902\u001b[0m         \u001b[0;32mfor\u001b[0m \u001b[0mclf\u001b[0m \u001b[0;32min\u001b[0m \u001b[0mself\u001b[0m\u001b[0;34m.\u001b[0m\u001b[0mpool_classifiers\u001b[0m\u001b[0;34m:\u001b[0m\u001b[0;34m\u001b[0m\u001b[0;34m\u001b[0m\u001b[0m\n\u001b[0;32m--> 903\u001b[0;31m             \u001b[0mcheck_is_fitted\u001b[0m\u001b[0;34m(\u001b[0m\u001b[0mclf\u001b[0m\u001b[0;34m,\u001b[0m \u001b[0;34m\"classes_\"\u001b[0m\u001b[0;34m)\u001b[0m\u001b[0;34m\u001b[0m\u001b[0;34m\u001b[0m\u001b[0m\n\u001b[0m",
      "\u001b[0;32m~/anaconda3/lib/python3.6/site-packages/sklearn/utils/validation.py\u001b[0m in \u001b[0;36mcheck_is_fitted\u001b[0;34m(estimator, attributes, msg, all_or_any)\u001b[0m\n\u001b[1;32m    912\u001b[0m \u001b[0;34m\u001b[0m\u001b[0m\n\u001b[1;32m    913\u001b[0m     \u001b[0;32mif\u001b[0m \u001b[0;32mnot\u001b[0m \u001b[0mall_or_any\u001b[0m\u001b[0;34m(\u001b[0m\u001b[0;34m[\u001b[0m\u001b[0mhasattr\u001b[0m\u001b[0;34m(\u001b[0m\u001b[0mestimator\u001b[0m\u001b[0;34m,\u001b[0m \u001b[0mattr\u001b[0m\u001b[0;34m)\u001b[0m \u001b[0;32mfor\u001b[0m \u001b[0mattr\u001b[0m \u001b[0;32min\u001b[0m \u001b[0mattributes\u001b[0m\u001b[0;34m]\u001b[0m\u001b[0;34m)\u001b[0m\u001b[0;34m:\u001b[0m\u001b[0;34m\u001b[0m\u001b[0;34m\u001b[0m\u001b[0m\n\u001b[0;32m--> 914\u001b[0;31m         \u001b[0;32mraise\u001b[0m \u001b[0mNotFittedError\u001b[0m\u001b[0;34m(\u001b[0m\u001b[0mmsg\u001b[0m \u001b[0;34m%\u001b[0m \u001b[0;34m{\u001b[0m\u001b[0;34m'name'\u001b[0m\u001b[0;34m:\u001b[0m \u001b[0mtype\u001b[0m\u001b[0;34m(\u001b[0m\u001b[0mestimator\u001b[0m\u001b[0;34m)\u001b[0m\u001b[0;34m.\u001b[0m\u001b[0m__name__\u001b[0m\u001b[0;34m}\u001b[0m\u001b[0;34m)\u001b[0m\u001b[0;34m\u001b[0m\u001b[0;34m\u001b[0m\u001b[0m\n\u001b[0m\u001b[1;32m    915\u001b[0m \u001b[0;34m\u001b[0m\u001b[0m\n\u001b[1;32m    916\u001b[0m \u001b[0;34m\u001b[0m\u001b[0m\n",
      "\u001b[0;31mNotFittedError\u001b[0m: This KNeighborsRegressor instance is not fitted yet. Call 'fit' with appropriate arguments before using this method."
     ]
    }
   ],
   "source": []
  },
  {
   "cell_type": "code",
   "execution_count": 55,
   "metadata": {},
   "outputs": [
    {
     "ename": "NotFittedError",
     "evalue": "This StackedClassifier instance is not fitted yet. Call 'fit' with appropriate arguments before using this method.",
     "output_type": "error",
     "traceback": [
      "\u001b[0;31m---------------------------------------------------------------------------\u001b[0m",
      "\u001b[0;31mNotFittedError\u001b[0m                            Traceback (most recent call last)",
      "\u001b[0;32m<ipython-input-55-09deb1f30e29>\u001b[0m in \u001b[0;36m<module>\u001b[0;34m\u001b[0m\n\u001b[0;32m----> 1\u001b[0;31m \u001b[0mknorae\u001b[0m\u001b[0;34m.\u001b[0m\u001b[0mpredict\u001b[0m\u001b[0;34m(\u001b[0m\u001b[0mX\u001b[0m\u001b[0;34m)\u001b[0m\u001b[0;34m\u001b[0m\u001b[0;34m\u001b[0m\u001b[0m\n\u001b[0m",
      "\u001b[0;32m~/anaconda3/lib/python3.6/site-packages/deslib/static/stacked.py\u001b[0m in \u001b[0;36mpredict\u001b[0;34m(self, X)\u001b[0m\n\u001b[1;32m     95\u001b[0m         \"\"\"\n\u001b[1;32m     96\u001b[0m         \u001b[0mX\u001b[0m \u001b[0;34m=\u001b[0m \u001b[0mcheck_array\u001b[0m\u001b[0;34m(\u001b[0m\u001b[0mX\u001b[0m\u001b[0;34m)\u001b[0m\u001b[0;34m\u001b[0m\u001b[0;34m\u001b[0m\u001b[0m\n\u001b[0;32m---> 97\u001b[0;31m         \u001b[0mcheck_is_fitted\u001b[0m\u001b[0;34m(\u001b[0m\u001b[0mself\u001b[0m\u001b[0;34m,\u001b[0m \u001b[0;34m\"meta_classifier_\"\u001b[0m\u001b[0;34m)\u001b[0m\u001b[0;34m\u001b[0m\u001b[0;34m\u001b[0m\u001b[0m\n\u001b[0m\u001b[1;32m     98\u001b[0m         \u001b[0mbase_preds\u001b[0m \u001b[0;34m=\u001b[0m \u001b[0mself\u001b[0m\u001b[0;34m.\u001b[0m\u001b[0m_predict_proba_base\u001b[0m\u001b[0;34m(\u001b[0m\u001b[0mX\u001b[0m\u001b[0;34m)\u001b[0m\u001b[0;34m\u001b[0m\u001b[0;34m\u001b[0m\u001b[0m\n\u001b[1;32m     99\u001b[0m         \u001b[0mpreds\u001b[0m \u001b[0;34m=\u001b[0m \u001b[0mself\u001b[0m\u001b[0;34m.\u001b[0m\u001b[0mmeta_classifier_\u001b[0m\u001b[0;34m.\u001b[0m\u001b[0mpredict\u001b[0m\u001b[0;34m(\u001b[0m\u001b[0mbase_preds\u001b[0m\u001b[0;34m)\u001b[0m\u001b[0;34m\u001b[0m\u001b[0;34m\u001b[0m\u001b[0m\n",
      "\u001b[0;32m~/anaconda3/lib/python3.6/site-packages/sklearn/utils/validation.py\u001b[0m in \u001b[0;36mcheck_is_fitted\u001b[0;34m(estimator, attributes, msg, all_or_any)\u001b[0m\n\u001b[1;32m    912\u001b[0m \u001b[0;34m\u001b[0m\u001b[0m\n\u001b[1;32m    913\u001b[0m     \u001b[0;32mif\u001b[0m \u001b[0;32mnot\u001b[0m \u001b[0mall_or_any\u001b[0m\u001b[0;34m(\u001b[0m\u001b[0;34m[\u001b[0m\u001b[0mhasattr\u001b[0m\u001b[0;34m(\u001b[0m\u001b[0mestimator\u001b[0m\u001b[0;34m,\u001b[0m \u001b[0mattr\u001b[0m\u001b[0;34m)\u001b[0m \u001b[0;32mfor\u001b[0m \u001b[0mattr\u001b[0m \u001b[0;32min\u001b[0m \u001b[0mattributes\u001b[0m\u001b[0;34m]\u001b[0m\u001b[0;34m)\u001b[0m\u001b[0;34m:\u001b[0m\u001b[0;34m\u001b[0m\u001b[0;34m\u001b[0m\u001b[0m\n\u001b[0;32m--> 914\u001b[0;31m         \u001b[0;32mraise\u001b[0m \u001b[0mNotFittedError\u001b[0m\u001b[0;34m(\u001b[0m\u001b[0mmsg\u001b[0m \u001b[0;34m%\u001b[0m \u001b[0;34m{\u001b[0m\u001b[0;34m'name'\u001b[0m\u001b[0;34m:\u001b[0m \u001b[0mtype\u001b[0m\u001b[0;34m(\u001b[0m\u001b[0mestimator\u001b[0m\u001b[0;34m)\u001b[0m\u001b[0;34m.\u001b[0m\u001b[0m__name__\u001b[0m\u001b[0;34m}\u001b[0m\u001b[0;34m)\u001b[0m\u001b[0;34m\u001b[0m\u001b[0;34m\u001b[0m\u001b[0m\n\u001b[0m\u001b[1;32m    915\u001b[0m \u001b[0;34m\u001b[0m\u001b[0m\n\u001b[1;32m    916\u001b[0m \u001b[0;34m\u001b[0m\u001b[0m\n",
      "\u001b[0;31mNotFittedError\u001b[0m: This StackedClassifier instance is not fitted yet. Call 'fit' with appropriate arguments before using this method."
     ]
    }
   ],
   "source": [
    "knorae.predict(X)"
   ]
  },
  {
   "cell_type": "code",
   "execution_count": null,
   "metadata": {},
   "outputs": [],
   "source": []
  }
 ],
 "metadata": {
  "kernelspec": {
   "display_name": "Python 3",
   "language": "python",
   "name": "python3"
  },
  "language_info": {
   "codemirror_mode": {
    "name": "ipython",
    "version": 3
   },
   "file_extension": ".py",
   "mimetype": "text/x-python",
   "name": "python",
   "nbconvert_exporter": "python",
   "pygments_lexer": "ipython3",
   "version": "3.6.7"
  }
 },
 "nbformat": 4,
 "nbformat_minor": 2
}
