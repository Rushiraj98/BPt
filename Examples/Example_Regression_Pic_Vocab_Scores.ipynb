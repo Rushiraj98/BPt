{
 "cells": [
  {
   "cell_type": "markdown",
   "metadata": {},
   "source": [
    "Within this notebook we will look at an example Regression problem. We will try to predict \"nihtbx_picvocab_agecorrected\" scores."
   ]
  },
  {
   "cell_type": "code",
   "execution_count": 1,
   "metadata": {},
   "outputs": [],
   "source": [
    "import ABCD_ML"
   ]
  },
  {
   "cell_type": "code",
   "execution_count": 2,
   "metadata": {},
   "outputs": [],
   "source": [
    "# We will use the default nda dr for this\n",
    "nda_dr = '/mnt/sdb2/ABCD2p0NDA/'\n",
    "\n",
    "# We will use the gordon ROI resting state fMRI correlations as our data\n",
    "data_loc = nda_dr + 'abcd_betnet02.txt'\n",
    "\n",
    "# This file contains the NIH toolbox scores\n",
    "target_loc = nda_dr + 'abcd_tbss01.txt'\n",
    "\n",
    "# For exclusions we will excluse the flipped subjects\n",
    "exclusion_loc = '/home/sage/bader_things/invalid_pguids.txt'"
   ]
  },
  {
   "cell_type": "code",
   "execution_count": 3,
   "metadata": {},
   "outputs": [
    {
     "name": "stdout",
     "output_type": "stream",
     "text": [
      "ABCD_ML object initialized\n"
     ]
    }
   ],
   "source": [
    "ML = ABCD_ML.ABCD_ML()"
   ]
  },
  {
   "cell_type": "markdown",
   "metadata": {},
   "source": [
    "We will start by loading exclusions, the reason for this is, if loaded before data or covars, ect... the excluded subjects will be removed when loading data, targets, ect... as loaded before any drop behavior based on values. For example, when computing different filter_outliers, or dropping columns ect... this way it will only consider the non-excluded subjects. If instead it doesn't matter, then exclusions can be loaded later, and just will be retro-actively applied. "
   ]
  },
  {
   "cell_type": "code",
   "execution_count": 4,
   "metadata": {},
   "outputs": [
    {
     "name": "stdout",
     "output_type": "stream",
     "text": [
      "Total excluded subjects:  1137\n",
      "Removed excluded subjects from loaded dfs\n"
     ]
    }
   ],
   "source": [
    "ML.load_exclusions(loc = exclusion_loc)"
   ]
  },
  {
   "cell_type": "code",
   "execution_count": 5,
   "metadata": {},
   "outputs": [
    {
     "name": "stdout",
     "output_type": "stream",
     "text": [
      "Loading /mnt/sdb2/ABCD2p0NDA/abcd_betnet02.txt assumed to be dataset type: basic\n",
      "dropped ['collection_id', 'abcd_betnet02_id', 'dataset_id', 'subjectkey', 'interview_date', 'interview_age', 'gender', 'rsfmri_c_ngd_visitid', 'collection_title', 'study_cohort_name'] columns by default  due to dataset type\n",
      "Dropped 0 columns, per drop_keys argument\n",
      "Dropped 0 cols for all missing values\n",
      "Dropped 604 rows for missing values\n",
      "Dropped rows with missing data\n",
      "loaded shape:  (9295, 181)\n",
      "\n",
      "The following columns have a questionable number of unique values: \n",
      "rsfmri_c_ngd_tr unique vals: 10\n",
      "rsfmri_c_ngd_numtrs unique vals: 117\n",
      "rsfmri_c_ngd_nvols unique vals: 104\n",
      "rsfmri_c_ngd_stnvols unique vals: 1257\n",
      "rsfmri_c_ngd_stcontignvols unique vals: 1354\n",
      "rsfmri_c_ngd_ntpoints unique vals: 1403\n",
      "\n",
      "\n",
      "Total valid overlapping subjects = 9295\n",
      "\n"
     ]
    }
   ],
   "source": [
    "ML.load_data(loc = data_loc)"
   ]
  },
  {
   "cell_type": "markdown",
   "metadata": {},
   "source": [
    "Lets take a quick look at the data, especially since we have a number of warning columns with not a lot of unique values. This is an indicator that thew column might not be wanted as data is supposed to be neuroimaging data."
   ]
  },
  {
   "cell_type": "code",
   "execution_count": 6,
   "metadata": {},
   "outputs": [
    {
     "data": {
      "text/html": [
       "<div>\n",
       "<style scoped>\n",
       "    .dataframe tbody tr th:only-of-type {\n",
       "        vertical-align: middle;\n",
       "    }\n",
       "\n",
       "    .dataframe tbody tr th {\n",
       "        vertical-align: top;\n",
       "    }\n",
       "\n",
       "    .dataframe thead th {\n",
       "        text-align: right;\n",
       "    }\n",
       "</style>\n",
       "<table border=\"1\" class=\"dataframe\">\n",
       "  <thead>\n",
       "    <tr style=\"text-align: right;\">\n",
       "      <th></th>\n",
       "      <th>rsfmri_c_ngd_tr</th>\n",
       "      <th>rsfmri_c_ngd_numtrs</th>\n",
       "      <th>rsfmri_c_ngd_nvols</th>\n",
       "      <th>rsfmri_c_ngd_stnvols</th>\n",
       "      <th>rsfmri_c_ngd_stcontignvols</th>\n",
       "      <th>rsfmri_c_ngd_ntpoints</th>\n",
       "      <th>rsfmri_c_ngd_meanmotion</th>\n",
       "      <th>rsfmri_c_ngd_maxmotion</th>\n",
       "      <th>rsfmri_c_ngd_meantrans</th>\n",
       "      <th>rsfmri_c_ngd_maxtrans</th>\n",
       "      <th>...</th>\n",
       "      <th>rsfmri_c_ngd_vs_ngd_dt</th>\n",
       "      <th>rsfmri_c_ngd_vs_ngd_dla</th>\n",
       "      <th>rsfmri_c_ngd_vs_ngd_fo</th>\n",
       "      <th>rsfmri_c_ngd_vs_ngd_n</th>\n",
       "      <th>rsfmri_c_ngd_vs_ngd_rspltp</th>\n",
       "      <th>rsfmri_c_ngd_vs_ngd_smh</th>\n",
       "      <th>rsfmri_c_ngd_vs_ngd_smm</th>\n",
       "      <th>rsfmri_c_ngd_vs_ngd_sa</th>\n",
       "      <th>rsfmri_c_ngd_vs_ngd_vta</th>\n",
       "      <th>rsfmri_c_ngd_vs_ngd_vs</th>\n",
       "    </tr>\n",
       "    <tr>\n",
       "      <th>src_subject_id</th>\n",
       "      <th></th>\n",
       "      <th></th>\n",
       "      <th></th>\n",
       "      <th></th>\n",
       "      <th></th>\n",
       "      <th></th>\n",
       "      <th></th>\n",
       "      <th></th>\n",
       "      <th></th>\n",
       "      <th></th>\n",
       "      <th></th>\n",
       "      <th></th>\n",
       "      <th></th>\n",
       "      <th></th>\n",
       "      <th></th>\n",
       "      <th></th>\n",
       "      <th></th>\n",
       "      <th></th>\n",
       "      <th></th>\n",
       "      <th></th>\n",
       "      <th></th>\n",
       "    </tr>\n",
       "  </thead>\n",
       "  <tbody>\n",
       "    <tr>\n",
       "      <th>NDAR_INV003RTV85</th>\n",
       "      <td>0.8</td>\n",
       "      <td>1532</td>\n",
       "      <td>1500</td>\n",
       "      <td>1162.0</td>\n",
       "      <td>1066.0</td>\n",
       "      <td>1023.0</td>\n",
       "      <td>0.154780</td>\n",
       "      <td>2.015052</td>\n",
       "      <td>0.105427</td>\n",
       "      <td>0.850991</td>\n",
       "      <td>...</td>\n",
       "      <td>-0.091892</td>\n",
       "      <td>0.108123</td>\n",
       "      <td>-0.046754</td>\n",
       "      <td>-0.038999</td>\n",
       "      <td>0.263348</td>\n",
       "      <td>-0.019762</td>\n",
       "      <td>0.055314</td>\n",
       "      <td>-0.094447</td>\n",
       "      <td>-0.210556</td>\n",
       "      <td>0.391807</td>\n",
       "    </tr>\n",
       "    <tr>\n",
       "      <th>NDAR_INV00J52GPG</th>\n",
       "      <td>0.8</td>\n",
       "      <td>1532</td>\n",
       "      <td>1500</td>\n",
       "      <td>1127.0</td>\n",
       "      <td>896.0</td>\n",
       "      <td>819.0</td>\n",
       "      <td>0.164131</td>\n",
       "      <td>1.224842</td>\n",
       "      <td>0.122374</td>\n",
       "      <td>0.865260</td>\n",
       "      <td>...</td>\n",
       "      <td>-0.072341</td>\n",
       "      <td>0.000464</td>\n",
       "      <td>-0.018576</td>\n",
       "      <td>-0.027246</td>\n",
       "      <td>0.025676</td>\n",
       "      <td>-0.069841</td>\n",
       "      <td>-0.005953</td>\n",
       "      <td>0.012106</td>\n",
       "      <td>-0.031176</td>\n",
       "      <td>0.189339</td>\n",
       "    </tr>\n",
       "    <tr>\n",
       "      <th>NDAR_INV00LH735Y</th>\n",
       "      <td>0.8</td>\n",
       "      <td>1532</td>\n",
       "      <td>1500</td>\n",
       "      <td>1469.0</td>\n",
       "      <td>1449.0</td>\n",
       "      <td>1431.0</td>\n",
       "      <td>0.075550</td>\n",
       "      <td>0.341670</td>\n",
       "      <td>0.061237</td>\n",
       "      <td>0.268401</td>\n",
       "      <td>...</td>\n",
       "      <td>-0.162628</td>\n",
       "      <td>0.037883</td>\n",
       "      <td>-0.164983</td>\n",
       "      <td>-0.049898</td>\n",
       "      <td>0.263128</td>\n",
       "      <td>0.028018</td>\n",
       "      <td>0.175882</td>\n",
       "      <td>-0.093186</td>\n",
       "      <td>-0.107731</td>\n",
       "      <td>0.534284</td>\n",
       "    </tr>\n",
       "    <tr>\n",
       "      <th>NDAR_INV019DXLU4</th>\n",
       "      <td>0.8</td>\n",
       "      <td>1532</td>\n",
       "      <td>1500</td>\n",
       "      <td>519.0</td>\n",
       "      <td>299.0</td>\n",
       "      <td>163.0</td>\n",
       "      <td>0.561580</td>\n",
       "      <td>6.686306</td>\n",
       "      <td>0.324974</td>\n",
       "      <td>4.172889</td>\n",
       "      <td>...</td>\n",
       "      <td>-0.224160</td>\n",
       "      <td>-0.003807</td>\n",
       "      <td>-0.165525</td>\n",
       "      <td>-0.029099</td>\n",
       "      <td>0.103379</td>\n",
       "      <td>0.072112</td>\n",
       "      <td>0.002704</td>\n",
       "      <td>-0.048668</td>\n",
       "      <td>-0.118902</td>\n",
       "      <td>0.452859</td>\n",
       "    </tr>\n",
       "    <tr>\n",
       "      <th>NDAR_INV01TXCDJN</th>\n",
       "      <td>0.8</td>\n",
       "      <td>1532</td>\n",
       "      <td>1500</td>\n",
       "      <td>514.0</td>\n",
       "      <td>340.0</td>\n",
       "      <td>162.0</td>\n",
       "      <td>0.767780</td>\n",
       "      <td>11.729949</td>\n",
       "      <td>0.364528</td>\n",
       "      <td>4.149230</td>\n",
       "      <td>...</td>\n",
       "      <td>-0.097067</td>\n",
       "      <td>0.176931</td>\n",
       "      <td>-0.030358</td>\n",
       "      <td>-0.064213</td>\n",
       "      <td>0.183397</td>\n",
       "      <td>0.024869</td>\n",
       "      <td>0.172476</td>\n",
       "      <td>-0.329215</td>\n",
       "      <td>-0.093264</td>\n",
       "      <td>0.357987</td>\n",
       "    </tr>\n",
       "  </tbody>\n",
       "</table>\n",
       "<p>5 rows × 181 columns</p>\n",
       "</div>"
      ],
      "text/plain": [
       "                  rsfmri_c_ngd_tr  rsfmri_c_ngd_numtrs  rsfmri_c_ngd_nvols  \\\n",
       "src_subject_id                                                               \n",
       "NDAR_INV003RTV85              0.8                 1532                1500   \n",
       "NDAR_INV00J52GPG              0.8                 1532                1500   \n",
       "NDAR_INV00LH735Y              0.8                 1532                1500   \n",
       "NDAR_INV019DXLU4              0.8                 1532                1500   \n",
       "NDAR_INV01TXCDJN              0.8                 1532                1500   \n",
       "\n",
       "                  rsfmri_c_ngd_stnvols  rsfmri_c_ngd_stcontignvols  \\\n",
       "src_subject_id                                                       \n",
       "NDAR_INV003RTV85                1162.0                      1066.0   \n",
       "NDAR_INV00J52GPG                1127.0                       896.0   \n",
       "NDAR_INV00LH735Y                1469.0                      1449.0   \n",
       "NDAR_INV019DXLU4                 519.0                       299.0   \n",
       "NDAR_INV01TXCDJN                 514.0                       340.0   \n",
       "\n",
       "                  rsfmri_c_ngd_ntpoints  rsfmri_c_ngd_meanmotion  \\\n",
       "src_subject_id                                                     \n",
       "NDAR_INV003RTV85                 1023.0                 0.154780   \n",
       "NDAR_INV00J52GPG                  819.0                 0.164131   \n",
       "NDAR_INV00LH735Y                 1431.0                 0.075550   \n",
       "NDAR_INV019DXLU4                  163.0                 0.561580   \n",
       "NDAR_INV01TXCDJN                  162.0                 0.767780   \n",
       "\n",
       "                  rsfmri_c_ngd_maxmotion  rsfmri_c_ngd_meantrans  \\\n",
       "src_subject_id                                                     \n",
       "NDAR_INV003RTV85                2.015052                0.105427   \n",
       "NDAR_INV00J52GPG                1.224842                0.122374   \n",
       "NDAR_INV00LH735Y                0.341670                0.061237   \n",
       "NDAR_INV019DXLU4                6.686306                0.324974   \n",
       "NDAR_INV01TXCDJN               11.729949                0.364528   \n",
       "\n",
       "                  rsfmri_c_ngd_maxtrans  ...  rsfmri_c_ngd_vs_ngd_dt  \\\n",
       "src_subject_id                           ...                           \n",
       "NDAR_INV003RTV85               0.850991  ...               -0.091892   \n",
       "NDAR_INV00J52GPG               0.865260  ...               -0.072341   \n",
       "NDAR_INV00LH735Y               0.268401  ...               -0.162628   \n",
       "NDAR_INV019DXLU4               4.172889  ...               -0.224160   \n",
       "NDAR_INV01TXCDJN               4.149230  ...               -0.097067   \n",
       "\n",
       "                  rsfmri_c_ngd_vs_ngd_dla  rsfmri_c_ngd_vs_ngd_fo  \\\n",
       "src_subject_id                                                      \n",
       "NDAR_INV003RTV85                 0.108123               -0.046754   \n",
       "NDAR_INV00J52GPG                 0.000464               -0.018576   \n",
       "NDAR_INV00LH735Y                 0.037883               -0.164983   \n",
       "NDAR_INV019DXLU4                -0.003807               -0.165525   \n",
       "NDAR_INV01TXCDJN                 0.176931               -0.030358   \n",
       "\n",
       "                  rsfmri_c_ngd_vs_ngd_n  rsfmri_c_ngd_vs_ngd_rspltp  \\\n",
       "src_subject_id                                                        \n",
       "NDAR_INV003RTV85              -0.038999                    0.263348   \n",
       "NDAR_INV00J52GPG              -0.027246                    0.025676   \n",
       "NDAR_INV00LH735Y              -0.049898                    0.263128   \n",
       "NDAR_INV019DXLU4              -0.029099                    0.103379   \n",
       "NDAR_INV01TXCDJN              -0.064213                    0.183397   \n",
       "\n",
       "                  rsfmri_c_ngd_vs_ngd_smh  rsfmri_c_ngd_vs_ngd_smm  \\\n",
       "src_subject_id                                                       \n",
       "NDAR_INV003RTV85                -0.019762                 0.055314   \n",
       "NDAR_INV00J52GPG                -0.069841                -0.005953   \n",
       "NDAR_INV00LH735Y                 0.028018                 0.175882   \n",
       "NDAR_INV019DXLU4                 0.072112                 0.002704   \n",
       "NDAR_INV01TXCDJN                 0.024869                 0.172476   \n",
       "\n",
       "                  rsfmri_c_ngd_vs_ngd_sa  rsfmri_c_ngd_vs_ngd_vta  \\\n",
       "src_subject_id                                                      \n",
       "NDAR_INV003RTV85               -0.094447                -0.210556   \n",
       "NDAR_INV00J52GPG                0.012106                -0.031176   \n",
       "NDAR_INV00LH735Y               -0.093186                -0.107731   \n",
       "NDAR_INV019DXLU4               -0.048668                -0.118902   \n",
       "NDAR_INV01TXCDJN               -0.329215                -0.093264   \n",
       "\n",
       "                  rsfmri_c_ngd_vs_ngd_vs  \n",
       "src_subject_id                            \n",
       "NDAR_INV003RTV85                0.391807  \n",
       "NDAR_INV00J52GPG                0.189339  \n",
       "NDAR_INV00LH735Y                0.534284  \n",
       "NDAR_INV019DXLU4                0.452859  \n",
       "NDAR_INV01TXCDJN                0.357987  \n",
       "\n",
       "[5 rows x 181 columns]"
      ]
     },
     "execution_count": 6,
     "metadata": {},
     "output_type": "execute_result"
    }
   ],
   "source": [
    "ML.data.head()"
   ]
  },
  {
   "cell_type": "markdown",
   "metadata": {},
   "source": [
    "Alright, the obvious problem is that we have a number of columns that we most likely dont want to include. Specifically, there are a number of descriptors, like number of trials, which we don't want. We just want to grab the correlations.\n",
    "Let's clear the data and reload it, explicitly telling the data loader to drop those keys."
   ]
  },
  {
   "cell_type": "code",
   "execution_count": 7,
   "metadata": {},
   "outputs": [
    {
     "data": {
      "text/plain": [
       "['rsfmri_c_ngd_tr',\n",
       " 'rsfmri_c_ngd_numtrs',\n",
       " 'rsfmri_c_ngd_nvols',\n",
       " 'rsfmri_c_ngd_stnvols',\n",
       " 'rsfmri_c_ngd_stcontignvols',\n",
       " 'rsfmri_c_ngd_ntpoints',\n",
       " 'rsfmri_c_ngd_meanmotion',\n",
       " 'rsfmri_c_ngd_maxmotion',\n",
       " 'rsfmri_c_ngd_meantrans',\n",
       " 'rsfmri_c_ngd_maxtrans',\n",
       " 'rsfmri_c_ngd_meanrot',\n",
       " 'rsfmri_c_ngd_maxrot']"
      ]
     },
     "execution_count": 7,
     "metadata": {},
     "output_type": "execute_result"
    }
   ],
   "source": [
    "to_drop = list(ML.data)[:12]\n",
    "to_drop"
   ]
  },
  {
   "cell_type": "code",
   "execution_count": 8,
   "metadata": {},
   "outputs": [
    {
     "name": "stdout",
     "output_type": "stream",
     "text": [
      "cleared data.\n",
      "Loading /mnt/sdb2/ABCD2p0NDA/abcd_betnet02.txt assumed to be dataset type: basic\n",
      "dropped ['collection_id', 'abcd_betnet02_id', 'dataset_id', 'subjectkey', 'interview_date', 'interview_age', 'gender', 'rsfmri_c_ngd_visitid', 'collection_title', 'study_cohort_name'] columns by default  due to dataset type\n",
      "Dropped 12 columns, per drop_keys argument\n",
      "Dropped 0 cols for all missing values\n",
      "Dropped 550 rows for missing values\n",
      "Dropped rows with missing data\n",
      "loaded shape:  (9349, 169)\n",
      "\n",
      "Total valid overlapping subjects = 9349\n",
      "\n"
     ]
    }
   ],
   "source": [
    "ML.clear_data()\n",
    "ML.load_data(loc = data_loc, drop_keys=to_drop)"
   ]
  },
  {
   "cell_type": "code",
   "execution_count": 9,
   "metadata": {},
   "outputs": [
    {
     "data": {
      "text/html": [
       "<div>\n",
       "<style scoped>\n",
       "    .dataframe tbody tr th:only-of-type {\n",
       "        vertical-align: middle;\n",
       "    }\n",
       "\n",
       "    .dataframe tbody tr th {\n",
       "        vertical-align: top;\n",
       "    }\n",
       "\n",
       "    .dataframe thead th {\n",
       "        text-align: right;\n",
       "    }\n",
       "</style>\n",
       "<table border=\"1\" class=\"dataframe\">\n",
       "  <thead>\n",
       "    <tr style=\"text-align: right;\">\n",
       "      <th></th>\n",
       "      <th>rsfmri_c_ngd_ad_ngd_ad</th>\n",
       "      <th>rsfmri_c_ngd_ad_ngd_cgc</th>\n",
       "      <th>rsfmri_c_ngd_ad_ngd_ca</th>\n",
       "      <th>rsfmri_c_ngd_ad_ngd_dt</th>\n",
       "      <th>rsfmri_c_ngd_ad_ngd_dla</th>\n",
       "      <th>rsfmri_c_ngd_ad_ngd_fo</th>\n",
       "      <th>rsfmri_c_ngd_ad_ngd_n</th>\n",
       "      <th>rsfmri_c_ngd_ad_ngd_rspltp</th>\n",
       "      <th>rsfmri_c_ngd_ad_ngd_smh</th>\n",
       "      <th>rsfmri_c_ngd_ad_ngd_smm</th>\n",
       "      <th>...</th>\n",
       "      <th>rsfmri_c_ngd_vs_ngd_dt</th>\n",
       "      <th>rsfmri_c_ngd_vs_ngd_dla</th>\n",
       "      <th>rsfmri_c_ngd_vs_ngd_fo</th>\n",
       "      <th>rsfmri_c_ngd_vs_ngd_n</th>\n",
       "      <th>rsfmri_c_ngd_vs_ngd_rspltp</th>\n",
       "      <th>rsfmri_c_ngd_vs_ngd_smh</th>\n",
       "      <th>rsfmri_c_ngd_vs_ngd_smm</th>\n",
       "      <th>rsfmri_c_ngd_vs_ngd_sa</th>\n",
       "      <th>rsfmri_c_ngd_vs_ngd_vta</th>\n",
       "      <th>rsfmri_c_ngd_vs_ngd_vs</th>\n",
       "    </tr>\n",
       "    <tr>\n",
       "      <th>src_subject_id</th>\n",
       "      <th></th>\n",
       "      <th></th>\n",
       "      <th></th>\n",
       "      <th></th>\n",
       "      <th></th>\n",
       "      <th></th>\n",
       "      <th></th>\n",
       "      <th></th>\n",
       "      <th></th>\n",
       "      <th></th>\n",
       "      <th></th>\n",
       "      <th></th>\n",
       "      <th></th>\n",
       "      <th></th>\n",
       "      <th></th>\n",
       "      <th></th>\n",
       "      <th></th>\n",
       "      <th></th>\n",
       "      <th></th>\n",
       "      <th></th>\n",
       "      <th></th>\n",
       "    </tr>\n",
       "  </thead>\n",
       "  <tbody>\n",
       "    <tr>\n",
       "      <th>NDAR_INV003RTV85</th>\n",
       "      <td>0.420664</td>\n",
       "      <td>0.214043</td>\n",
       "      <td>-0.133798</td>\n",
       "      <td>-0.084748</td>\n",
       "      <td>-0.001194</td>\n",
       "      <td>-0.049960</td>\n",
       "      <td>-0.039415</td>\n",
       "      <td>-0.086807</td>\n",
       "      <td>0.156841</td>\n",
       "      <td>0.216998</td>\n",
       "      <td>...</td>\n",
       "      <td>-0.091892</td>\n",
       "      <td>0.108123</td>\n",
       "      <td>-0.046754</td>\n",
       "      <td>-0.038999</td>\n",
       "      <td>0.263348</td>\n",
       "      <td>-0.019762</td>\n",
       "      <td>0.055314</td>\n",
       "      <td>-0.094447</td>\n",
       "      <td>-0.210556</td>\n",
       "      <td>0.391807</td>\n",
       "    </tr>\n",
       "    <tr>\n",
       "      <th>NDAR_INV00J52GPG</th>\n",
       "      <td>0.234350</td>\n",
       "      <td>0.184643</td>\n",
       "      <td>-0.156042</td>\n",
       "      <td>-0.077856</td>\n",
       "      <td>-0.012531</td>\n",
       "      <td>-0.063291</td>\n",
       "      <td>-0.002182</td>\n",
       "      <td>-0.061186</td>\n",
       "      <td>0.121436</td>\n",
       "      <td>0.165561</td>\n",
       "      <td>...</td>\n",
       "      <td>-0.072341</td>\n",
       "      <td>0.000464</td>\n",
       "      <td>-0.018576</td>\n",
       "      <td>-0.027246</td>\n",
       "      <td>0.025676</td>\n",
       "      <td>-0.069841</td>\n",
       "      <td>-0.005953</td>\n",
       "      <td>0.012106</td>\n",
       "      <td>-0.031176</td>\n",
       "      <td>0.189339</td>\n",
       "    </tr>\n",
       "    <tr>\n",
       "      <th>NDAR_INV00LH735Y</th>\n",
       "      <td>0.414891</td>\n",
       "      <td>0.086734</td>\n",
       "      <td>-0.160336</td>\n",
       "      <td>-0.062129</td>\n",
       "      <td>-0.056566</td>\n",
       "      <td>-0.109059</td>\n",
       "      <td>0.015876</td>\n",
       "      <td>0.025512</td>\n",
       "      <td>0.246414</td>\n",
       "      <td>0.240989</td>\n",
       "      <td>...</td>\n",
       "      <td>-0.162628</td>\n",
       "      <td>0.037883</td>\n",
       "      <td>-0.164983</td>\n",
       "      <td>-0.049898</td>\n",
       "      <td>0.263128</td>\n",
       "      <td>0.028018</td>\n",
       "      <td>0.175882</td>\n",
       "      <td>-0.093186</td>\n",
       "      <td>-0.107731</td>\n",
       "      <td>0.534284</td>\n",
       "    </tr>\n",
       "    <tr>\n",
       "      <th>NDAR_INV019DXLU4</th>\n",
       "      <td>0.086191</td>\n",
       "      <td>0.095968</td>\n",
       "      <td>-0.080095</td>\n",
       "      <td>-0.039539</td>\n",
       "      <td>0.036697</td>\n",
       "      <td>0.047779</td>\n",
       "      <td>-0.007446</td>\n",
       "      <td>-0.079431</td>\n",
       "      <td>0.035770</td>\n",
       "      <td>0.034503</td>\n",
       "      <td>...</td>\n",
       "      <td>-0.224160</td>\n",
       "      <td>-0.003807</td>\n",
       "      <td>-0.165525</td>\n",
       "      <td>-0.029099</td>\n",
       "      <td>0.103379</td>\n",
       "      <td>0.072112</td>\n",
       "      <td>0.002704</td>\n",
       "      <td>-0.048668</td>\n",
       "      <td>-0.118902</td>\n",
       "      <td>0.452859</td>\n",
       "    </tr>\n",
       "    <tr>\n",
       "      <th>NDAR_INV01TXCDJN</th>\n",
       "      <td>0.349332</td>\n",
       "      <td>0.084691</td>\n",
       "      <td>-0.334724</td>\n",
       "      <td>-0.051178</td>\n",
       "      <td>-0.021056</td>\n",
       "      <td>0.067937</td>\n",
       "      <td>0.019556</td>\n",
       "      <td>-0.077872</td>\n",
       "      <td>0.175119</td>\n",
       "      <td>0.376639</td>\n",
       "      <td>...</td>\n",
       "      <td>-0.097067</td>\n",
       "      <td>0.176931</td>\n",
       "      <td>-0.030358</td>\n",
       "      <td>-0.064213</td>\n",
       "      <td>0.183397</td>\n",
       "      <td>0.024869</td>\n",
       "      <td>0.172476</td>\n",
       "      <td>-0.329215</td>\n",
       "      <td>-0.093264</td>\n",
       "      <td>0.357987</td>\n",
       "    </tr>\n",
       "  </tbody>\n",
       "</table>\n",
       "<p>5 rows × 169 columns</p>\n",
       "</div>"
      ],
      "text/plain": [
       "                  rsfmri_c_ngd_ad_ngd_ad  rsfmri_c_ngd_ad_ngd_cgc  \\\n",
       "src_subject_id                                                      \n",
       "NDAR_INV003RTV85                0.420664                 0.214043   \n",
       "NDAR_INV00J52GPG                0.234350                 0.184643   \n",
       "NDAR_INV00LH735Y                0.414891                 0.086734   \n",
       "NDAR_INV019DXLU4                0.086191                 0.095968   \n",
       "NDAR_INV01TXCDJN                0.349332                 0.084691   \n",
       "\n",
       "                  rsfmri_c_ngd_ad_ngd_ca  rsfmri_c_ngd_ad_ngd_dt  \\\n",
       "src_subject_id                                                     \n",
       "NDAR_INV003RTV85               -0.133798               -0.084748   \n",
       "NDAR_INV00J52GPG               -0.156042               -0.077856   \n",
       "NDAR_INV00LH735Y               -0.160336               -0.062129   \n",
       "NDAR_INV019DXLU4               -0.080095               -0.039539   \n",
       "NDAR_INV01TXCDJN               -0.334724               -0.051178   \n",
       "\n",
       "                  rsfmri_c_ngd_ad_ngd_dla  rsfmri_c_ngd_ad_ngd_fo  \\\n",
       "src_subject_id                                                      \n",
       "NDAR_INV003RTV85                -0.001194               -0.049960   \n",
       "NDAR_INV00J52GPG                -0.012531               -0.063291   \n",
       "NDAR_INV00LH735Y                -0.056566               -0.109059   \n",
       "NDAR_INV019DXLU4                 0.036697                0.047779   \n",
       "NDAR_INV01TXCDJN                -0.021056                0.067937   \n",
       "\n",
       "                  rsfmri_c_ngd_ad_ngd_n  rsfmri_c_ngd_ad_ngd_rspltp  \\\n",
       "src_subject_id                                                        \n",
       "NDAR_INV003RTV85              -0.039415                   -0.086807   \n",
       "NDAR_INV00J52GPG              -0.002182                   -0.061186   \n",
       "NDAR_INV00LH735Y               0.015876                    0.025512   \n",
       "NDAR_INV019DXLU4              -0.007446                   -0.079431   \n",
       "NDAR_INV01TXCDJN               0.019556                   -0.077872   \n",
       "\n",
       "                  rsfmri_c_ngd_ad_ngd_smh  rsfmri_c_ngd_ad_ngd_smm  ...  \\\n",
       "src_subject_id                                                      ...   \n",
       "NDAR_INV003RTV85                 0.156841                 0.216998  ...   \n",
       "NDAR_INV00J52GPG                 0.121436                 0.165561  ...   \n",
       "NDAR_INV00LH735Y                 0.246414                 0.240989  ...   \n",
       "NDAR_INV019DXLU4                 0.035770                 0.034503  ...   \n",
       "NDAR_INV01TXCDJN                 0.175119                 0.376639  ...   \n",
       "\n",
       "                  rsfmri_c_ngd_vs_ngd_dt  rsfmri_c_ngd_vs_ngd_dla  \\\n",
       "src_subject_id                                                      \n",
       "NDAR_INV003RTV85               -0.091892                 0.108123   \n",
       "NDAR_INV00J52GPG               -0.072341                 0.000464   \n",
       "NDAR_INV00LH735Y               -0.162628                 0.037883   \n",
       "NDAR_INV019DXLU4               -0.224160                -0.003807   \n",
       "NDAR_INV01TXCDJN               -0.097067                 0.176931   \n",
       "\n",
       "                  rsfmri_c_ngd_vs_ngd_fo  rsfmri_c_ngd_vs_ngd_n  \\\n",
       "src_subject_id                                                    \n",
       "NDAR_INV003RTV85               -0.046754              -0.038999   \n",
       "NDAR_INV00J52GPG               -0.018576              -0.027246   \n",
       "NDAR_INV00LH735Y               -0.164983              -0.049898   \n",
       "NDAR_INV019DXLU4               -0.165525              -0.029099   \n",
       "NDAR_INV01TXCDJN               -0.030358              -0.064213   \n",
       "\n",
       "                  rsfmri_c_ngd_vs_ngd_rspltp  rsfmri_c_ngd_vs_ngd_smh  \\\n",
       "src_subject_id                                                          \n",
       "NDAR_INV003RTV85                    0.263348                -0.019762   \n",
       "NDAR_INV00J52GPG                    0.025676                -0.069841   \n",
       "NDAR_INV00LH735Y                    0.263128                 0.028018   \n",
       "NDAR_INV019DXLU4                    0.103379                 0.072112   \n",
       "NDAR_INV01TXCDJN                    0.183397                 0.024869   \n",
       "\n",
       "                  rsfmri_c_ngd_vs_ngd_smm  rsfmri_c_ngd_vs_ngd_sa  \\\n",
       "src_subject_id                                                      \n",
       "NDAR_INV003RTV85                 0.055314               -0.094447   \n",
       "NDAR_INV00J52GPG                -0.005953                0.012106   \n",
       "NDAR_INV00LH735Y                 0.175882               -0.093186   \n",
       "NDAR_INV019DXLU4                 0.002704               -0.048668   \n",
       "NDAR_INV01TXCDJN                 0.172476               -0.329215   \n",
       "\n",
       "                  rsfmri_c_ngd_vs_ngd_vta  rsfmri_c_ngd_vs_ngd_vs  \n",
       "src_subject_id                                                     \n",
       "NDAR_INV003RTV85                -0.210556                0.391807  \n",
       "NDAR_INV00J52GPG                -0.031176                0.189339  \n",
       "NDAR_INV00LH735Y                -0.107731                0.534284  \n",
       "NDAR_INV019DXLU4                -0.118902                0.452859  \n",
       "NDAR_INV01TXCDJN                -0.093264                0.357987  \n",
       "\n",
       "[5 rows x 169 columns]"
      ]
     },
     "execution_count": 9,
     "metadata": {},
     "output_type": "execute_result"
    }
   ],
   "source": [
    "ML.data.head()"
   ]
  },
  {
   "cell_type": "markdown",
   "metadata": {},
   "source": [
    "Great, looks better, though the correlations have an extra problem. That is namely, there are repeat columns as X corr with y, and y corr with x. Not, load_data has a function to remove duplicate columns (marked as duplicate if they above a user defined correlation threshold with another column). Instead of reloading the data though, we can also call a specific function for this purpose."
   ]
  },
  {
   "cell_type": "code",
   "execution_count": 10,
   "metadata": {},
   "outputs": [
    {
     "name": "stdout",
     "output_type": "stream",
     "text": [
      "Dropped 78 columns as duplicate cols!\n"
     ]
    }
   ],
   "source": [
    "ML.drop_data_duplicates(corr_thresh=.99)"
   ]
  },
  {
   "cell_type": "markdown",
   "metadata": {},
   "source": [
    "Okay, now we lets load our targets, and for covars just age + sex and our exclusions."
   ]
  },
  {
   "cell_type": "code",
   "execution_count": 11,
   "metadata": {},
   "outputs": [
    {
     "name": "stdout",
     "output_type": "stream",
     "text": [
      "Loading targets!\n",
      "Loading /mnt/sdb2/ABCD2p0NDA/abcd_tbss01.txt assumed to be dataset type: basic\n",
      "Final shape:  (10604, 1)\n",
      "\n",
      "Total valid overlapping subjects = 9231\n",
      "\n",
      "Loading covariates!\n",
      "Loading /mnt/sdb2/ABCD2p0NDA/abcd_betnet02.txt assumed to be dataset type: basic\n",
      "load: interview_age\n",
      "load: gender\n",
      "\n",
      "Total valid overlapping subjects = 9229\n",
      "\n"
     ]
    }
   ],
   "source": [
    "ML.load_targets(target_loc, 'nihtbx_picvocab_agecorrected', 'float')\n",
    "\n",
    "ML.load_covars(data_loc, ['interview_age', 'gender'], ['f', 'b'])"
   ]
  },
  {
   "cell_type": "code",
   "execution_count": 12,
   "metadata": {},
   "outputs": [
    {
     "name": "stdout",
     "output_type": "stream",
     "text": [
      "            targets\n",
      "count  10604.000000\n",
      "mean     106.858072\n",
      "std       17.049005\n",
      "min        0.000000\n",
      "25%       98.000000\n",
      "50%      106.000000\n",
      "75%      120.000000\n",
      "max      208.000000\n",
      "\n",
      "Num. of unique vals: 59\n"
     ]
    },
    {
     "data": {
      "image/png": "[encoded data removed]",
      "text/plain": [
       "<Figure size 432x288 with 1 Axes>"
      ]
     },
     "metadata": {
      "needs_background": "light"
     },
     "output_type": "display_data"
    }
   ],
   "source": [
    "ML.show_targets_dist()"
   ]
  },
  {
   "cell_type": "markdown",
   "metadata": {},
   "source": [
    "It appears that there are some severe outliers... lets try reloading targets and just cut off the top 1% from either side of the distribution and see if that helps. Note: what we are doing here is acting upon the whole dataset before any train/test split, therefore it is reccomended that at this stage any global actions should be reasonable... in this case it seems reasonable to remove subjects with scores that are likely just human input error."
   ]
  },
  {
   "cell_type": "code",
   "execution_count": 13,
   "metadata": {},
   "outputs": [
    {
     "name": "stdout",
     "output_type": "stream",
     "text": [
      "Loading targets!\n",
      "Loading /mnt/sdb2/ABCD2p0NDA/abcd_tbss01.txt assumed to be dataset type: basic\n",
      "Filtering for outliers, dropping rows with params:  1\n",
      "Min-Max Score (before outlier filtering): 0.0 208.0\n",
      "Min-Max Score (post outlier filtering): 77.0 152.0\n",
      "Final shape:  (10262, 1)\n",
      "\n",
      "Total valid overlapping subjects = 8937\n",
      "\n"
     ]
    }
   ],
   "source": [
    "ML.load_targets(target_loc, 'nihtbx_picvocab_agecorrected', 'float', filter_outlier_percent=1)"
   ]
  },
  {
   "cell_type": "code",
   "execution_count": 14,
   "metadata": {},
   "outputs": [
    {
     "name": "stdout",
     "output_type": "stream",
     "text": [
      "            targets\n",
      "count  10262.000000\n",
      "mean     106.475346\n",
      "std       14.929790\n",
      "min       77.000000\n",
      "25%       98.000000\n",
      "50%      106.000000\n",
      "75%      120.000000\n",
      "max      152.000000\n",
      "\n",
      "Num. of unique vals: 34\n"
     ]
    },
    {
     "data": {
      "image/png": "[encoded data removed]",
      "text/plain": [
       "<Figure size 432x288 with 1 Axes>"
      ]
     },
     "metadata": {
      "needs_background": "light"
     },
     "output_type": "display_data"
    }
   ],
   "source": [
    "ML.show_targets_dist()"
   ]
  },
  {
   "cell_type": "markdown",
   "metadata": {},
   "source": [
    "One percent might even be too much..."
   ]
  },
  {
   "cell_type": "code",
   "execution_count": 15,
   "metadata": {},
   "outputs": [
    {
     "name": "stdout",
     "output_type": "stream",
     "text": [
      "Loading targets!\n",
      "Loading /mnt/sdb2/ABCD2p0NDA/abcd_tbss01.txt assumed to be dataset type: basic\n",
      "Filtering for outliers, dropping rows with params:  0.005\n",
      "Min-Max Score (before outlier filtering): 0.0 208.0\n",
      "Min-Max Score (post outlier filtering): 71.0 155.0\n",
      "Final shape:  (10466, 1)\n",
      "\n",
      "Total valid overlapping subjects = 9116\n",
      "\n"
     ]
    }
   ],
   "source": [
    "ML.load_targets(target_loc, 'nihtbx_picvocab_agecorrected', 'float', filter_outlier_percent=.005)"
   ]
  },
  {
   "cell_type": "code",
   "execution_count": 16,
   "metadata": {
    "scrolled": true
   },
   "outputs": [
    {
     "name": "stdout",
     "output_type": "stream",
     "text": [
      "            targets\n",
      "count  10466.000000\n",
      "mean     106.755398\n",
      "std       15.910384\n",
      "min       71.000000\n",
      "25%       98.000000\n",
      "50%      106.000000\n",
      "75%      120.000000\n",
      "max      155.000000\n",
      "\n",
      "Num. of unique vals: 38\n"
     ]
    },
    {
     "data": {
      "image/png": "[encoded data removed]",
      "text/plain": [
       "<Figure size 432x288 with 1 Axes>"
      ]
     },
     "metadata": {
      "needs_background": "light"
     },
     "output_type": "display_data"
    }
   ],
   "source": [
    "ML.show_targets_dist()"
   ]
  },
  {
   "cell_type": "markdown",
   "metadata": {},
   "source": [
    "That looks a little better, so only the really severe outliers are removed. The distribution is still a bit weird, but nothing we can do about that."
   ]
  },
  {
   "cell_type": "code",
   "execution_count": null,
   "metadata": {},
   "outputs": [],
   "source": []
  }
 ],
 "metadata": {
  "kernelspec": {
   "display_name": "Python 3",
   "language": "python",
   "name": "python3"
  },
  "language_info": {
   "codemirror_mode": {
    "name": "ipython",
    "version": 3
   },
   "file_extension": ".py",
   "mimetype": "text/x-python",
   "name": "python",
   "nbconvert_exporter": "python",
   "pygments_lexer": "ipython3",
   "version": "3.6.7"
  }
 },
 "nbformat": 4,
 "nbformat_minor": 2
}
