{
 "cells": [
  {
   "cell_type": "markdown",
   "metadata": {},
   "source": [
    "### This notebook is designed to explore some interesting features avaliable through ABCD_ML, specifically loading Data_Files and using custom loaders.\n",
    "\n",
    "This example will require some extra optional ABCD_ML libraries, including nibabel and nilearn!"
   ]
  },
  {
   "cell_type": "code",
   "execution_count": 1,
   "metadata": {},
   "outputs": [],
   "source": [
    "from ABCD_ML import *\n",
    "import nibabel as nib\n",
    "import numpy as np\n",
    "import pandas as pd\n",
    "import os"
   ]
  },
  {
   "cell_type": "markdown",
   "metadata": {},
   "source": [
    "## Let's start by saving some fake surface time-series data, and also some fake just surface data."
   ]
  },
  {
   "cell_type": "code",
   "execution_count": 2,
   "metadata": {},
   "outputs": [],
   "source": [
    "X = np.random.random(size = (10, 100, 10242))\n",
    "os.makedirs('fake_time_data', exist_ok=True)\n",
    "\n",
    "for x in range(len(X)):\n",
    "    np.save('fake_time_data/' + str(x) + '_lh', X[x])\n",
    "for x in range(len(X)):\n",
    "    np.save('fake_time_data/' + str(x) + '_rh', X[x])\n",
    "    \n",
    "X = np.random.random(size = (10, 10242))\n",
    "os.makedirs('fake_surf_data', exist_ok=True)\n",
    "\n",
    "for x in range(len(X)):\n",
    "    np.save('fake_surf_data/' + str(x) + '_lh', X[x])\n",
    "for x in range(len(X)):\n",
    "    np.save('fake_surf_data/' + str(x) + '_rh', X[x])"
   ]
  },
  {
   "cell_type": "markdown",
   "metadata": {},
   "source": [
    "### In this expiriment we will load both the timeseries and the just surface data"
   ]
  },
  {
   "cell_type": "code",
   "execution_count": 3,
   "metadata": {},
   "outputs": [],
   "source": [
    "ML = ABCD_ML(log_dr=None, verbose=False)\n",
    "\n",
    "timeseries_dr = 'fake_time_data/'\n",
    "files = os.listdir(timeseries_dr)\n",
    "lh_timeseries = [timeseries_dr + f for f in files if '_lh' in f]\n",
    "rh_timeseries = [timeseries_dr + f for f in files if '_rh' in f]\n",
    "\n",
    "surf_dr = 'fake_surf_data/'\n",
    "files = os.listdir(surf_dr)\n",
    "lh_surf = [surf_dr + f for f in files if '_lh' in f]\n",
    "rh_surf = [surf_dr + f for f in files if '_rh' in f]\n",
    "\n",
    "subjects = [str(i) for i in range(10)]\n",
    "\n",
    "df = pd.DataFrame()\n",
    "\n",
    "df['lh_timeseries'] = lh_timeseries\n",
    "df['rh_timeseries'] = rh_timeseries\n",
    "\n",
    "df['lh_surf'] = lh_surf\n",
    "df['rh_surf'] = rh_surf\n",
    "\n",
    "df['src_subject_id'] = subjects\n",
    "df['target'] = np.random.randint(2, size=10)\n",
    "\n",
    "ML.Load_Data_Files(df = df,\n",
    "                   load_func = np.load,\n",
    "                   drop_keys = ['target'])\n",
    "\n",
    "ML.Load_Targets(df = df, col_name='target', data_type='b')\n",
    "\n",
    "ML.Train_Test_Split(test_size=0)"
   ]
  },
  {
   "cell_type": "markdown",
   "metadata": {},
   "source": [
    "### This will assume you have some saved parcellations in the relevant space, i.e., we saved fake fsaverage5 surface data, so we will load in the desikan parcellations"
   ]
  },
  {
   "cell_type": "code",
   "execution_count": 4,
   "metadata": {},
   "outputs": [],
   "source": [
    "from ABCD_ML.extensions import SurfLabels, Connectivity\n",
    "\n",
    "base = '/home/sage/work/Parcel_Search/Existing_Parcels/'\n",
    "desikan_lh = base + 'lh.aparc.annot'\n",
    "desikan_rh = base + 'rh.aparc.annot'\n",
    "\n",
    "t_surf_rois_lh = SurfLabels(labels = desikan_lh,\n",
    "                            vectorize = False)\n",
    "t_surf_rois_rh = SurfLabels(labels = desikan_rh,\n",
    "                            vectorize = False)\n",
    "\n",
    "connectivity = Connectivity(vectorize=True)\n",
    "\n",
    "surf_rois_lh = SurfLabels(labels = desikan_lh)\n",
    "surf_rois_rh = SurfLabels(labels = desikan_rh)"
   ]
  },
  {
   "cell_type": "markdown",
   "metadata": {},
   "source": [
    "### Try just loading the left hemisphere surface data"
   ]
  },
  {
   "cell_type": "code",
   "execution_count": 9,
   "metadata": {},
   "outputs": [
    {
     "data": {
      "application/vnd.jupyter.widget-view+json": {
       "model_id": "87785ab21da241ee90c6f6628e883f12",
       "version_major": 2,
       "version_minor": 0
      },
      "text/plain": [
       "HBox(children=(FloatProgress(value=0.0, description='Repeats', max=2.0, style=ProgressStyle(description_width=…"
      ]
     },
     "metadata": {},
     "output_type": "display_data"
    },
    {
     "data": {
      "application/vnd.jupyter.widget-view+json": {
       "model_id": "f3060b7b860d4068b9fea9890d69c964",
       "version_major": 2,
       "version_minor": 0
      },
      "text/plain": [
       "HBox(children=(FloatProgress(value=0.0, description='Folds', max=3.0, style=ProgressStyle(description_width='i…"
      ]
     },
     "metadata": {},
     "output_type": "display_data"
    },
    {
     "name": "stdout",
     "output_type": "stream",
     "text": [
      "\n",
      "\n",
      "('user passed0', Loader_Wrapper(background_label=0,\n",
      "               file_mapping={0: <ABCD_ML.helpers.Data_File.Data_File object at 0x7f15335dcd90>,\n",
      "                             1: <ABCD_ML.helpers.Data_File.Data_File object at 0x7f15335dcdd0>,\n",
      "                             2: <ABCD_ML.helpers.Data_File.Data_File object at 0x7f15335dced0>,\n",
      "                             3: <ABCD_ML.helpers.Data_File.Data_File object at 0x7f15335dc650>,\n",
      "                             4: <ABCD_ML.helpers.Data_File.Data_File object at 0x7f1533...\n",
      "               labels='/home/sage/work/Parcel_Search/Existing_Parcels/lh.aparc.annot',\n",
      "               mask=None, strategy=<function mean at 0x7f15800bc710>,\n",
      "               vectorize=True, wrapper_inds=[0], wrapper_n_jobs=1,\n",
      "               wrapper_transformer=SurfLabels(background_label=0,\n",
      "                                              labels='/home/sage/work/Parcel_Search/Existing_Parcels/lh.aparc.annot',\n",
      "                                              mask=None,\n",
      "                                              strategy=<function mean at 0x7f15800bc710>,\n",
      "                                              vectorize=True)))\n",
      "('col_standard', InPlaceColTransformer(n_jobs=None, remainder='passthrough', sparse_threshold=0,\n",
      "                      transformer_weights=None,\n",
      "                      transformers=[('standard',\n",
      "                                     StandardScaler(copy=True, with_mean=True,\n",
      "                                                    with_std=True),\n",
      "                                     [0, 1, 2, 3, 4, 5, 6, 7, 8, 9, 10, 11, 12,\n",
      "                                      13, 14, 15, 16, 17, 18, 19, 20, 21, 22,\n",
      "                                      23, 24, 25, 26, 27, 28, 29, ...])],\n",
      "                      verbose=False))\n",
      "('drop_strat', ColTransformer(n_jobs=None, remainder='drop', sparse_threshold=0,\n",
      "               transformer_weights=None,\n",
      "               transformers=[('keep_all_but_strat_inds',\n",
      "                              FunctionTransformer(accept_sparse=False,\n",
      "                                                  check_inverse=True, func=None,\n",
      "                                                  inv_kw_args=None,\n",
      "                                                  inverse_func=None,\n",
      "                                                  kw_args=None,\n",
      "                                                  validate=False),\n",
      "                              [0, 1, 2, 3, 4, 5, 6, 7, 8, 9, 10, 11, 12, 13, 14,\n",
      "                               15, 16, 17, 18, 19, 20, 21, 22, 23, 24, 25, 26,\n",
      "                               27, 28, 29, ...])],\n",
      "               verbose=False))\n",
      "('logistic', LogisticRegression(C=1.0, class_weight=None, dual=False, fit_intercept=True,\n",
      "                   intercept_scaling=1, l1_ratio=None, max_iter=5000,\n",
      "                   multi_class='auto', n_jobs=1, penalty='none',\n",
      "                   random_state=534, solver='lbfgs', tol=0.0001, verbose=0,\n",
      "                   warm_start=False))\n"
     ]
    }
   ],
   "source": [
    "problem_spec = Problem_Spec(problem_type = 'binary',\n",
    "                            scope = 'lh_surf')\n",
    "\n",
    "loaders = Loader(surf_rois_lh, scope='lh##_surf')\n",
    "\n",
    "model_pipeline = Model_Pipeline(loaders=loaders)\n",
    "results = ML.Evaluate(model_pipeline, problem_spec)\n",
    "\n",
    "for step in ML.Model_Pipeline.Model.steps:\n",
    "    print(step)"
   ]
  },
  {
   "cell_type": "markdown",
   "metadata": {},
   "source": [
    "### Load everything"
   ]
  },
  {
   "cell_type": "code",
   "execution_count": 10,
   "metadata": {},
   "outputs": [
    {
     "data": {
      "application/vnd.jupyter.widget-view+json": {
       "model_id": "19e8f71fd6b244d8af0004af9b60c234",
       "version_major": 2,
       "version_minor": 0
      },
      "text/plain": [
       "HBox(children=(FloatProgress(value=0.0, description='Repeats', max=2.0, style=ProgressStyle(description_width=…"
      ]
     },
     "metadata": {},
     "output_type": "display_data"
    },
    {
     "data": {
      "application/vnd.jupyter.widget-view+json": {
       "model_id": "97cd7128e61a46caa0fe3cfba726ce32",
       "version_major": 2,
       "version_minor": 0
      },
      "text/plain": [
       "HBox(children=(FloatProgress(value=0.0, description='Folds', max=3.0, style=ProgressStyle(description_width='i…"
      ]
     },
     "metadata": {},
     "output_type": "display_data"
    },
    {
     "name": "stdout",
     "output_type": "stream",
     "text": [
      "\n",
      "\n",
      "('user passed0', Loader_Wrapper(background_label=0,\n",
      "               file_mapping={0: <ABCD_ML.helpers.Data_File.Data_File object at 0x7f1533590a50>,\n",
      "                             1: <ABCD_ML.helpers.Data_File.Data_File object at 0x7f1533590e90>,\n",
      "                             2: <ABCD_ML.helpers.Data_File.Data_File object at 0x7f1533590790>,\n",
      "                             3: <ABCD_ML.helpers.Data_File.Data_File object at 0x7f1533590a10>,\n",
      "                             4: <ABCD_ML.helpers.Data_File.Data_File object at 0x7f1533...\n",
      "               labels='/home/sage/work/Parcel_Search/Existing_Parcels/lh.aparc.annot',\n",
      "               mask=None, strategy=<function mean at 0x7f15800bc710>,\n",
      "               vectorize=True, wrapper_inds=[2], wrapper_n_jobs=1,\n",
      "               wrapper_transformer=SurfLabels(background_label=0,\n",
      "                                              labels='/home/sage/work/Parcel_Search/Existing_Parcels/lh.aparc.annot',\n",
      "                                              mask=None,\n",
      "                                              strategy=<function mean at 0x7f15800bc710>,\n",
      "                                              vectorize=True)))\n",
      "('user passed1', Loader_Wrapper(background_label=0,\n",
      "               file_mapping={0: <ABCD_ML.helpers.Data_File.Data_File object at 0x7f1533590a50>,\n",
      "                             1: <ABCD_ML.helpers.Data_File.Data_File object at 0x7f1533590e90>,\n",
      "                             2: <ABCD_ML.helpers.Data_File.Data_File object at 0x7f1533590790>,\n",
      "                             3: <ABCD_ML.helpers.Data_File.Data_File object at 0x7f1533590a10>,\n",
      "                             4: <ABCD_ML.helpers.Data_File.Data_File object at 0x7f1533...\n",
      "               labels='/home/sage/work/Parcel_Search/Existing_Parcels/rh.aparc.annot',\n",
      "               mask=None, strategy=<function mean at 0x7f15800bc710>,\n",
      "               vectorize=True, wrapper_inds=[37], wrapper_n_jobs=1,\n",
      "               wrapper_transformer=SurfLabels(background_label=0,\n",
      "                                              labels='/home/sage/work/Parcel_Search/Existing_Parcels/rh.aparc.annot',\n",
      "                                              mask=None,\n",
      "                                              strategy=<function mean at 0x7f15800bc710>,\n",
      "                                              vectorize=True)))\n",
      "('loader_pipe0', Loader_Wrapper(file_mapping={0: <ABCD_ML.helpers.Data_File.Data_File object at 0x7f1533590a50>,\n",
      "                             1: <ABCD_ML.helpers.Data_File.Data_File object at 0x7f1533590e90>,\n",
      "                             2: <ABCD_ML.helpers.Data_File.Data_File object at 0x7f1533590790>,\n",
      "                             3: <ABCD_ML.helpers.Data_File.Data_File object at 0x7f1533590a10>,\n",
      "                             4: <ABCD_ML.helpers.Data_File.Data_File object at 0x7f1533590dd0>,\n",
      "                             5: <ABCD_ML....\n",
      "                                                    SurfLabels(background_label=0,\n",
      "                                                               labels='/home/sage/work/Parcel_Search/Existing_Parcels/lh.aparc.annot',\n",
      "                                                               mask=None,\n",
      "                                                               strategy=<function mean at 0x7f15800bc710>,\n",
      "                                                               vectorize=False)),\n",
      "                                                   ('user passed3',\n",
      "                                                    Connectivity(cov_estimator=LedoitWolf(assume_centered=False,\n",
      "                                                                                          block_size=1000,\n",
      "                                                                                          store_precision=False),\n",
      "                                                                 discard_diagonal=False,\n",
      "                                                                 kind='covariance',\n",
      "                                                                 vectorize=True))],\n",
      "                                            verbose=False)))\n",
      "('loader_pipe1', Loader_Wrapper(file_mapping={0: <ABCD_ML.helpers.Data_File.Data_File object at 0x7f1533590a50>,\n",
      "                             1: <ABCD_ML.helpers.Data_File.Data_File object at 0x7f1533590e90>,\n",
      "                             2: <ABCD_ML.helpers.Data_File.Data_File object at 0x7f1533590790>,\n",
      "                             3: <ABCD_ML.helpers.Data_File.Data_File object at 0x7f1533590a10>,\n",
      "                             4: <ABCD_ML.helpers.Data_File.Data_File object at 0x7f1533590dd0>,\n",
      "                             5: <ABCD_ML....\n",
      "                                                    SurfLabels(background_label=0,\n",
      "                                                               labels='/home/sage/work/Parcel_Search/Existing_Parcels/rh.aparc.annot',\n",
      "                                                               mask=None,\n",
      "                                                               strategy=<function mean at 0x7f15800bc710>,\n",
      "                                                               vectorize=False)),\n",
      "                                                   ('user passed5',\n",
      "                                                    Connectivity(cov_estimator=LedoitWolf(assume_centered=False,\n",
      "                                                                                          block_size=1000,\n",
      "                                                                                          store_precision=False),\n",
      "                                                                 discard_diagonal=False,\n",
      "                                                                 kind='covariance',\n",
      "                                                                 vectorize=True))],\n",
      "                                            verbose=False)))\n",
      "('col_standard', InPlaceColTransformer(n_jobs=None, remainder='passthrough', sparse_threshold=0,\n",
      "                      transformer_weights=None,\n",
      "                      transformers=[('standard',\n",
      "                                     StandardScaler(copy=True, with_mean=True,\n",
      "                                                    with_std=True),\n",
      "                                     [0, 1, 2, 3, 4, 5, 6, 7, 8, 9, 10, 11, 12,\n",
      "                                      13, 14, 15, 16, 17, 18, 19, 20, 21, 22,\n",
      "                                      23, 24, 25, 26, 27, 28, 29, ...])],\n",
      "                      verbose=False))\n",
      "('drop_strat', ColTransformer(n_jobs=None, remainder='drop', sparse_threshold=0,\n",
      "               transformer_weights=None,\n",
      "               transformers=[('keep_all_but_strat_inds',\n",
      "                              FunctionTransformer(accept_sparse=False,\n",
      "                                                  check_inverse=True, func=None,\n",
      "                                                  inv_kw_args=None,\n",
      "                                                  inverse_func=None,\n",
      "                                                  kw_args=None,\n",
      "                                                  validate=False),\n",
      "                              [0, 1, 2, 3, 4, 5, 6, 7, 8, 9, 10, 11, 12, 13, 14,\n",
      "                               15, 16, 17, 18, 19, 20, 21, 22, 23, 24, 25, 26,\n",
      "                               27, 28, 29, ...])],\n",
      "               verbose=False))\n",
      "('logistic', LogisticRegression(C=1.0, class_weight=None, dual=False, fit_intercept=True,\n",
      "                   intercept_scaling=1, l1_ratio=None, max_iter=5000,\n",
      "                   multi_class='auto', n_jobs=1, penalty='none',\n",
      "                   random_state=534, solver='lbfgs', tol=0.0001, verbose=0,\n",
      "                   warm_start=False))\n"
     ]
    }
   ],
   "source": [
    "problem_spec.scope = 'all'\n",
    "\n",
    "loaders = [Loader(surf_rois_lh, scope='lh_surf'),\n",
    "           Loader(surf_rois_rh, scope='rh_surf'),\n",
    "           Loader(Pipe([t_surf_rois_lh, connectivity]), scope='lh_timeseries'),\n",
    "           Loader(Pipe([t_surf_rois_rh, connectivity]), scope='rh_timeseries')]\n",
    "\n",
    "model_pipeline = Model_Pipeline(loaders=loaders)\n",
    "results = ML.Evaluate(model_pipeline, problem_spec)\n",
    "\n",
    "for step in ML.Model_Pipeline.Model.steps:\n",
    "    print(step)"
   ]
  },
  {
   "cell_type": "code",
   "execution_count": null,
   "metadata": {},
   "outputs": [],
   "source": []
  }
 ],
 "metadata": {
  "kernelspec": {
   "display_name": "Python 3.7.6 64-bit ('home': conda)",
   "language": "python",
   "name": "python37664bithomeconda2aade2e1d0ce4797afe91f4891a59d68"
  },
  "language_info": {
   "codemirror_mode": {
    "name": "ipython",
    "version": 3
   },
   "file_extension": ".py",
   "mimetype": "text/x-python",
   "name": "python",
   "nbconvert_exporter": "python",
   "pygments_lexer": "ipython3",
   "version": "3.7.6"
  }
 },
 "nbformat": 4,
 "nbformat_minor": 4
}
