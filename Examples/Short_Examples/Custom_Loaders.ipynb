{
 "cells": [
  {
   "cell_type": "markdown",
   "metadata": {},
   "source": [
    "This notebook is designed to explore some interesting features avaliable through BPt, specifically loading Data_Files and using custom loaders.\n",
    "\n",
    "This example will require some extra optional libraries, including nibabel and nilearn! Note: while nilearn is not imported, when trying to import Connectivity, if nilearn is not installed, this will give an ImportError.\n",
    "\n",
    "We will also use fake data for this example - so no special datasets required!"
   ]
  },
  {
   "cell_type": "code",
   "execution_count": 1,
   "metadata": {},
   "outputs": [],
   "source": [
    "from BPt import BPt_ML\n",
    "import nibabel as nib\n",
    "import numpy as np\n",
    "import pandas as pd\n",
    "import os"
   ]
  },
  {
   "cell_type": "markdown",
   "metadata": {},
   "source": [
    "## Let's start by saving some fake surface time-series data, and also some fake just surface data."
   ]
  },
  {
   "cell_type": "code",
   "execution_count": 2,
   "metadata": {},
   "outputs": [],
   "source": [
    "X = np.random.random(size = (20, 100, 10242))\n",
    "os.makedirs('fake_time_data', exist_ok=True)\n",
    "\n",
    "for x in range(len(X)):\n",
    "    np.save('fake_time_data/' + str(x) + '_lh', X[x])\n",
    "for x in range(len(X)):\n",
    "    np.save('fake_time_data/' + str(x) + '_rh', X[x])\n",
    "    \n",
    "X = np.random.random(size = (20, 10242))\n",
    "os.makedirs('fake_surf_data', exist_ok=True)\n",
    "\n",
    "for x in range(len(X)):\n",
    "    np.save('fake_surf_data/' + str(x) + '_lh', X[x])\n",
    "for x in range(len(X)):\n",
    "    np.save('fake_surf_data/' + str(x) + '_rh', X[x])"
   ]
  },
  {
   "cell_type": "markdown",
   "metadata": {},
   "source": [
    "### In this expiriment we will load both the timeseries and the just surface data"
   ]
  },
  {
   "cell_type": "code",
   "execution_count": 3,
   "metadata": {},
   "outputs": [
    {
     "name": "stdout",
     "output_type": "stream",
     "text": [
      "exp_name = My_Exp\n",
      "log_dr = None\n",
      "existing_log = append\n",
      "verbose = True\n",
      "exp log dr setup at: None\n",
      "log file at: None\n",
      "Default params set:\n",
      "notebook = True\n",
      "use_abcd_subject_ids = False\n",
      "low memory mode = False\n",
      "strat_u_name = _Strat\n",
      "random state = 534\n",
      "n_jobs = 1\n",
      "dpi = 100\n",
      "mp_context = spawn\n",
      "BPt_ML object initialized\n",
      "Setting default load params, as they have not been set!\n",
      "\n",
      "Default load params set within self.default_load_params.\n",
      "----------------------\n",
      "dataset_type: basic\n",
      "subject_id: src_subject_id\n",
      "eventname: None\n",
      "eventname_col: eventname\n",
      "overlap_subjects: False\n",
      "merge: inner\n",
      "na_values: ['777', '999']\n",
      "drop_na: True\n",
      "drop_or_na: drop\n",
      "\n",
      "To change the default load params, call self.Set_Default_Load_Params()\n",
      "\n",
      "Loading from df or files\n",
      "\n",
      "Dropped 1 columns per passed drop_keys argument\n",
      "Loading from df or files\n",
      "Dropped 0 cols for all missing values\n",
      "Dropped 0 rows for missing values, based on the provided drop_na param: True with actual na_thresh: 0\n",
      "Loaded rows with NaN remaining: 0\n",
      "\n",
      "loading: target\n",
      "10\n",
      "\n",
      "Loaded Shape: (20, 1)\n",
      "All loaded targets\n",
      "0 : target\n",
      "\n",
      "Loading from df or files\n",
      "Dropped 0 cols for all missing values\n",
      "Dropped 0 rows for missing values, based on the provided drop_na param: True with actual na_thresh: 0\n",
      "Loaded rows with NaN remaining: 0\n",
      "Loaded Shape: (20, 1)\n",
      "Calling Prepare_All_Data() to change the default merge behavior call it again!\n",
      "Preparing final data, in self.all_data\n",
      "Any changes to loaded data, covars or strat will not be included, from now on.\n",
      "\n",
      "Final data (w/ target) for modeling loaded shape: (20, 6)\n",
      "Performing split on 20 subjectsWarning: Test size of 0 passed, all subjects set to train.\n",
      "\n",
      "Performed train test split\n",
      "Train size: 20\n",
      "Test size:  0\n"
     ]
    }
   ],
   "source": [
    "ML = BPt_ML(log_dr=None, verbose=True)\n",
    "\n",
    "timeseries_dr = 'fake_time_data/'\n",
    "files = os.listdir(timeseries_dr)\n",
    "lh_timeseries = [timeseries_dr + f for f in files if '_lh' in f]\n",
    "rh_timeseries = [timeseries_dr + f for f in files if '_rh' in f]\n",
    "\n",
    "surf_dr = 'fake_surf_data/'\n",
    "files = os.listdir(surf_dr)\n",
    "lh_surf = [surf_dr + f for f in files if '_lh' in f]\n",
    "rh_surf = [surf_dr + f for f in files if '_rh' in f]\n",
    "\n",
    "subjects = [str(i) for i in range(20)]\n",
    "\n",
    "df = pd.DataFrame()\n",
    "\n",
    "df['lh_timeseries'] = lh_timeseries\n",
    "df['rh_timeseries'] = rh_timeseries\n",
    "\n",
    "df['lh_surf'] = lh_surf\n",
    "df['rh_surf'] = rh_surf\n",
    "\n",
    "df['src_subject_id'] = subjects\n",
    "df['target'] = np.random.randint(2, size=20)\n",
    "\n",
    "\n",
    "ML.Load_Data_Files(df = df,\n",
    "                   load_func = np.load,\n",
    "                   drop_keys = ['target'])\n",
    "\n",
    "ML.Load_Targets(df = df, col_name='target', data_type='b')\n",
    "ML.Load_Strat(df = df, col_name='target')\n",
    "ML.Train_Test_Split(test_size=0)"
   ]
  },
  {
   "cell_type": "markdown",
   "metadata": {},
   "source": [
    "### This will assume you have some saved parcellations in the relevant space, i.e., we saved fake fsaverage5 surface data, so we will load in the desikan parcellations"
   ]
  },
  {
   "cell_type": "code",
   "execution_count": 4,
   "metadata": {},
   "outputs": [],
   "source": [
    "from BPt.extensions import SurfLabels, Connectivity, Networks\n",
    "\n",
    "base = '/home/sage/work/Parcel_Search/Existing_Parcels/'\n",
    "desikan_lh = base + 'lh.aparc.annot'\n",
    "desikan_rh = base + 'rh.aparc.annot'\n",
    "\n",
    "t_surf_rois_lh = SurfLabels(labels = desikan_lh,\n",
    "                            vectorize = False)\n",
    "t_surf_rois_rh = SurfLabels(labels = desikan_rh,\n",
    "                            vectorize = False)\n",
    "\n",
    "connectivity = Connectivity(vectorize=True, discard_diagonal=False)\n",
    "\n",
    "surf_rois_lh = SurfLabels(labels = desikan_lh)\n",
    "surf_rois_rh = SurfLabels(labels = desikan_rh)"
   ]
  },
  {
   "cell_type": "markdown",
   "metadata": {},
   "source": [
    "### Try just loading the left hemisphere surface data"
   ]
  },
  {
   "cell_type": "code",
   "execution_count": 5,
   "metadata": {},
   "outputs": [
    {
     "name": "stdout",
     "output_type": "stream",
     "text": [
      "Setting default ML verbosity settings!\n",
      "Note, if the following values are not desired, call self.Set_Default_ML_Verbosity()\n",
      "Default ML verbosity set within self.default_ML_verbosity.\n",
      "----------------------\n",
      "save_results: False\n",
      "progress_bar: True\n",
      "progress_loc: None\n",
      "compute_train_score: False\n",
      "show_init_params: True\n",
      "fold_name: False\n",
      "time_per_fold: False\n",
      "score_per_fold: False\n",
      "fold_sizes: False\n",
      "best_params: False\n",
      "save_to_logs: False\n",
      "\n",
      "Model_Pipeline\n",
      "--------------\n",
      "loaders=\\\n",
      "Loader(extra_params={},\n",
      "       obj=SurfLabels(labels='/home/sage/work/Parcel_Search/Existing_Parcels/lh.aparc.annot'),\n",
      "       scope='lh_surf')\n",
      "\n",
      "scalers=\\\n",
      "Scaler(extra_params={}, obj='standard')\n",
      "\n",
      "feat_selectors=\\\n",
      "Feat_Selector(extra_params={}, obj='univariate selection')\n",
      "\n",
      "model=\\\n",
      "Model(extra_params={}, obj='linear')\n",
      "\n",
      "param_search=\\\n",
      "None\n",
      "\n",
      "feat_importances=\\\n",
      "Feat_Importance(obj='shap', shap_params=Shap_Params())\n",
      "\n",
      "\n",
      "Problem_Spec\n",
      "------------\n",
      "problem_type = binary\n",
      "target = target\n",
      "scorer = roc_auc\n",
      "weight_scorer = False\n",
      "scope = lh_surf\n",
      "subjects = all\n",
      "len(subjects) = 20 (before overlap w/ train/test subjects)\n",
      "n_jobs 1\n",
      "random_state 534\n",
      "\n",
      "Evaluate Params\n",
      "---------------\n",
      "splits = 3\n",
      "n_repeats = 2\n",
      "CV = default\n",
      "train_subjects = train\n",
      "len(train_subjects) = 20 (before overlap w/ problem_spec.subjects)\n",
      "run_name = linear\n",
      "\n"
     ]
    },
    {
     "data": {
      "application/vnd.jupyter.widget-view+json": {
       "model_id": "058a36aca1324f83850b532bee1ecf56",
       "version_major": 2,
       "version_minor": 0
      },
      "text/plain": [
       "HBox(children=(FloatProgress(value=0.0, description='Repeats', max=2.0, style=ProgressStyle(description_width=…"
      ]
     },
     "metadata": {},
     "output_type": "display_data"
    },
    {
     "data": {
      "application/vnd.jupyter.widget-view+json": {
       "model_id": "9b4052a514e24456919b4c6ff783859b",
       "version_major": 2,
       "version_minor": 0
      },
      "text/plain": [
       "HBox(children=(FloatProgress(value=0.0, description='Folds', max=3.0, style=ProgressStyle(description_width='i…"
      ]
     },
     "metadata": {},
     "output_type": "display_data"
    },
    {
     "name": "stdout",
     "output_type": "stream",
     "text": [
      "\n",
      "\n",
      "\n",
      "Validation Scores\n",
      "_________________\n",
      "Scorer:  roc_auc\n",
      "Mean Validation score:  0.42638888888888893\n",
      "Macro Std in Validation score:  0.05138888888888893\n",
      "Micro Std in Validation score:  0.11789204362728337\n",
      "\n",
      "('user passed0', Loader_Wrapper(background_label=0,\n",
      "               file_mapping={0: <BPt.helpers.Data_File.Data_File object at 0x7fd61945ded0>,\n",
      "                             1: <BPt.helpers.Data_File.Data_File object at 0x7fd6194c6e10>,\n",
      "                             2: <BPt.helpers.Data_File.Data_File object at 0x7fd6194c6910>,\n",
      "                             3: <BPt.helpers.Data_File.Data_File object at 0x7fd6194c6510>,\n",
      "                             4: <BPt.helpers.Data_File.Data_File object at 0x7fd6194c6c90>,\n",
      "                             5: <BPt.helpe...\n",
      "                             29: <BPt.helpers.Data_File.Data_File object at 0x7fd6194b6e10>, ...},\n",
      "               labels='/home/sage/work/Parcel_Search/Existing_Parcels/lh.aparc.annot',\n",
      "               mask=None, strategy=<function mean at 0x7fd66c119560>,\n",
      "               vectorize=True, wrapper_inds=[0],\n",
      "               wrapper_transformer=SurfLabels(labels='/home/sage/work/Parcel_Search/Existing_Parcels/lh.aparc.annot',\n",
      "                                              strategy=<function mean at 0x7fd66c119560>)))\n",
      "('col_standard', InPlaceColTransformer(remainder='passthrough', sparse_threshold=0,\n",
      "                      transformers=[('standard', StandardScaler(),\n",
      "                                     [0, 1, 2, 3, 4, 5, 6, 7, 8, 9, 10, 11, 12,\n",
      "                                      13, 14, 15, 16, 17, 18, 19, 20, 21, 22,\n",
      "                                      23, 24, 25, 26, 27, 28, 29, ...])]))\n",
      "('drop_strat', ColDropStrat(sparse_threshold=0,\n",
      "             transformers=[('keep_all_but_strat_inds', FunctionTransformer(),\n",
      "                            [0, 1, 2, 3, 4, 5, 6, 7, 8, 9, 10, 11, 12, 13, 14,\n",
      "                             15, 16, 17, 18, 19, 20, 21, 22, 23, 24, 25, 26, 27,\n",
      "                             28, 29, ...])]))\n",
      "('feat_univariate selection c', FeatureSelectorWrapper(base_selector=SelectPercentile(percentile=50),\n",
      "                       wrapper_inds=[0]))\n",
      "('logistic', LogisticRegression(max_iter=5000, n_jobs=1, penalty='none', random_state=534))\n"
     ]
    }
   ],
   "source": [
    "from BPt import Problem_Spec, Loader, Model_Pipeline, Feat_Selector, Feat_Importance\n",
    "\n",
    "problem_spec = Problem_Spec(problem_type = 'binary',\n",
    "                            scope = 'lh_surf')\n",
    "\n",
    "loaders = Loader(surf_rois_lh, scope='lh_surf')\n",
    "\n",
    "model_pipeline = Model_Pipeline(loaders=loaders,\n",
    "                                feat_selectors=Feat_Selector('univariate selection'),\n",
    "                                feat_importances=Feat_Importance('shap'))\n",
    "\n",
    "results = ML.Evaluate(model_pipeline, problem_spec)\n",
    "\n",
    "for step in ML.Model_Pipeline.Model.steps:\n",
    "    print(step)"
   ]
  },
  {
   "cell_type": "code",
   "execution_count": 6,
   "metadata": {},
   "outputs": [
    {
     "data": {
      "text/html": [
       "Feature_Importances Object<br>name: shap<br>Warning! Base pipeline contains either loaders or transformers. Any self.global_df or self.local_df might therefore be incorrect, or atleast hard to make sense of. In this case you should likely use the the inverse feat importances!<br>importance computed on: test<br>"
      ],
      "text/plain": [
       "<BPt.pipeline.Feat_Importances.Feat_Importances at 0x7fd62ba14590>"
      ]
     },
     "execution_count": 6,
     "metadata": {},
     "output_type": "execute_result"
    }
   ],
   "source": [
    "results['FIs'][0]"
   ]
  },
  {
   "cell_type": "code",
   "execution_count": 7,
   "metadata": {},
   "outputs": [
    {
     "data": {
      "image/png": "[encoded data removed]",
      "text/plain": [
       "<Figure size 432x288 with 1 Axes>"
      ]
     },
     "metadata": {
      "needs_background": "light"
     },
     "output_type": "display_data"
    }
   ],
   "source": [
    "ML.Plot_Global_Feat_Importances()"
   ]
  },
  {
   "cell_type": "code",
   "execution_count": 8,
   "metadata": {},
   "outputs": [
    {
     "name": "stdout",
     "output_type": "stream",
     "text": [
      "Model_Pipeline\n",
      "--------------\n",
      "loaders=\\\n",
      "[Loader(extra_params={},\n",
      "       obj=SurfLabels(labels='/home/sage/work/Parcel_Search/Existing_Parcels/lh.aparc.annot'),\n",
      "       scope='lh_surf'),\n",
      " Loader(extra_params={},\n",
      "       obj=SurfLabels(labels='/home/sage/work/Parcel_Search/Existing_Parcels/rh.aparc.annot'),\n",
      "       scope='rh_surf')]\n",
      "\n",
      "scalers=\\\n",
      "Scaler(extra_params={}, obj='standard')\n",
      "\n",
      "model=\\\n",
      "Model(extra_params={}, obj='linear')\n",
      "\n",
      "param_search=\\\n",
      "None\n",
      "\n",
      "feat_importances=\\\n",
      "Feat_Importance(obj='shap', shap_params=Shap_Params())\n",
      "\n",
      "\n",
      "Problem_Spec\n",
      "------------\n",
      "problem_type = binary\n",
      "target = target\n",
      "scorer = roc_auc\n",
      "weight_scorer = False\n",
      "scope = _surf\n",
      "subjects = all\n",
      "len(subjects) = 20 (before overlap w/ train/test subjects)\n",
      "n_jobs 1\n",
      "random_state 534\n",
      "\n",
      "Evaluate Params\n",
      "---------------\n",
      "splits = 3\n",
      "n_repeats = 2\n",
      "CV = default\n",
      "train_subjects = train\n",
      "len(train_subjects) = 20 (before overlap w/ problem_spec.subjects)\n",
      "run_name = linear0\n",
      "\n"
     ]
    },
    {
     "data": {
      "application/vnd.jupyter.widget-view+json": {
       "model_id": "2bc9ca32ad9f49c68812ec2060114a18",
       "version_major": 2,
       "version_minor": 0
      },
      "text/plain": [
       "HBox(children=(FloatProgress(value=0.0, description='Repeats', max=2.0, style=ProgressStyle(description_width=…"
      ]
     },
     "metadata": {},
     "output_type": "display_data"
    },
    {
     "data": {
      "application/vnd.jupyter.widget-view+json": {
       "model_id": "35b85d172a7b4a5c98f6dd5ebde0f787",
       "version_major": 2,
       "version_minor": 0
      },
      "text/plain": [
       "HBox(children=(FloatProgress(value=0.0, description='Folds', max=3.0, style=ProgressStyle(description_width='i…"
      ]
     },
     "metadata": {},
     "output_type": "display_data"
    },
    {
     "name": "stdout",
     "output_type": "stream",
     "text": [
      "\n",
      "\n",
      "\n",
      "Validation Scores\n",
      "_________________\n",
      "Scorer:  roc_auc\n",
      "Mean Validation score:  0.48611111111111116\n",
      "Macro Std in Validation score:  0.08611111111111117\n",
      "Micro Std in Validation score:  0.25357018654836544\n",
      "\n",
      "('user passed0', Loader_Wrapper(background_label=0,\n",
      "               file_mapping={0: <BPt.helpers.Data_File.Data_File object at 0x7fd6183c4110>,\n",
      "                             1: <BPt.helpers.Data_File.Data_File object at 0x7fd6183c4050>,\n",
      "                             2: <BPt.helpers.Data_File.Data_File object at 0x7fd6183c4fd0>,\n",
      "                             3: <BPt.helpers.Data_File.Data_File object at 0x7fd6182d1c90>,\n",
      "                             4: <BPt.helpers.Data_File.Data_File object at 0x7fd6182d1cd0>,\n",
      "                             5: <BPt.helpe...\n",
      "                             29: <BPt.helpers.Data_File.Data_File object at 0x7fd6182c3a50>, ...},\n",
      "               labels='/home/sage/work/Parcel_Search/Existing_Parcels/lh.aparc.annot',\n",
      "               mask=None, strategy=<function mean at 0x7fd66c119560>,\n",
      "               vectorize=True, wrapper_inds=[1],\n",
      "               wrapper_transformer=SurfLabels(labels='/home/sage/work/Parcel_Search/Existing_Parcels/lh.aparc.annot',\n",
      "                                              strategy=<function mean at 0x7fd66c119560>)))\n",
      "('user passed1', Loader_Wrapper(background_label=0,\n",
      "               file_mapping={0: <BPt.helpers.Data_File.Data_File object at 0x7fd6183c4110>,\n",
      "                             1: <BPt.helpers.Data_File.Data_File object at 0x7fd6183c4050>,\n",
      "                             2: <BPt.helpers.Data_File.Data_File object at 0x7fd6183c4fd0>,\n",
      "                             3: <BPt.helpers.Data_File.Data_File object at 0x7fd6182d1c90>,\n",
      "                             4: <BPt.helpers.Data_File.Data_File object at 0x7fd6182d1cd0>,\n",
      "                             5: <BPt.helpe...\n",
      "                             29: <BPt.helpers.Data_File.Data_File object at 0x7fd6182c3a50>, ...},\n",
      "               labels='/home/sage/work/Parcel_Search/Existing_Parcels/rh.aparc.annot',\n",
      "               mask=None, strategy=<function mean at 0x7fd66c119560>,\n",
      "               vectorize=True, wrapper_inds=[35],\n",
      "               wrapper_transformer=SurfLabels(labels='/home/sage/work/Parcel_Search/Existing_Parcels/rh.aparc.annot',\n",
      "                                              strategy=<function mean at 0x7fd66c119560>)))\n",
      "('col_standard', InPlaceColTransformer(remainder='passthrough', sparse_threshold=0,\n",
      "                      transformers=[('standard', StandardScaler(),\n",
      "                                     [0, 1, 2, 3, 4, 5, 6, 7, 8, 9, 10, 11, 12,\n",
      "                                      13, 14, 15, 16, 17, 18, 19, 20, 21, 22,\n",
      "                                      23, 24, 25, 26, 27, 28, 29, ...])]))\n",
      "('drop_strat', ColDropStrat(sparse_threshold=0,\n",
      "             transformers=[('keep_all_but_strat_inds', FunctionTransformer(),\n",
      "                            [0, 1, 2, 3, 4, 5, 6, 7, 8, 9, 10, 11, 12, 13, 14,\n",
      "                             15, 16, 17, 18, 19, 20, 21, 22, 23, 24, 25, 26, 27,\n",
      "                             28, 29, ...])]))\n",
      "('logistic', LogisticRegression(max_iter=5000, n_jobs=1, penalty='none', random_state=534))\n"
     ]
    }
   ],
   "source": [
    "problem_spec = Problem_Spec(problem_type = 'binary',\n",
    "                            scope = '_surf')\n",
    "\n",
    "loaders = [Loader(surf_rois_lh, scope='lh_surf'),\n",
    "           Loader(surf_rois_rh, scope='rh_surf')]\n",
    "\n",
    "model_pipeline = Model_Pipeline(loaders=loaders,\n",
    "                                feat_importances=Feat_Importance('shap'))\n",
    "\n",
    "results = ML.Evaluate(model_pipeline, problem_spec)\n",
    "\n",
    "for step in ML.Model_Pipeline.Model.steps:\n",
    "    print(step)"
   ]
  },
  {
   "cell_type": "markdown",
   "metadata": {},
   "source": [
    "### Load everything"
   ]
  },
  {
   "cell_type": "code",
   "execution_count": 9,
   "metadata": {},
   "outputs": [
    {
     "name": "stdout",
     "output_type": "stream",
     "text": [
      "Model_Pipeline\n",
      "--------------\n",
      "loaders=\\\n",
      "[Loader(extra_params={},\n",
      "       obj=SurfLabels(labels='/home/sage/work/Parcel_Search/Existing_Parcels/lh.aparc.annot'),\n",
      "       scope='lh_surf'),\n",
      " Loader(extra_params={},\n",
      "       obj=SurfLabels(labels='/home/sage/work/Parcel_Search/Existing_Parcels/rh.aparc.annot'),\n",
      "       scope='rh_surf'),\n",
      " Loader(extra_params={},\n",
      "       obj=Pipe([SurfLabels(labels='/home/sage/work/Parcel_Search/Existing_Parcels/lh.aparc.annot',\n",
      "           vectorize=False), Connectivity(vectorize=True)]),\n",
      "       params=[0, 0], scope='lh_timeseries'),\n",
      " Loader(extra_params={},\n",
      "       obj=Pipe([SurfLabels(labels='/home/sage/work/Parcel_Search/Existing_Parcels/rh.aparc.annot',\n",
      "           vectorize=False), Connectivity(vectorize=True)]),\n",
      "       params=[0, 0], scope='rh_timeseries')]\n",
      "\n",
      "scalers=\\\n",
      "Scaler(extra_params={}, obj='standard')\n",
      "\n",
      "model=\\\n",
      "Model(extra_params={}, obj='linear')\n",
      "\n",
      "param_search=\\\n",
      "None\n",
      "\n",
      "feat_importances=\\\n",
      "Feat_Importance(obj='base', shap_params=None)\n",
      "\n",
      "\n",
      "Problem_Spec\n",
      "------------\n",
      "problem_type = binary\n",
      "target = target\n",
      "scorer = roc_auc\n",
      "weight_scorer = False\n",
      "scope = all\n",
      "subjects = all\n",
      "len(subjects) = 20 (before overlap w/ train/test subjects)\n",
      "n_jobs 1\n",
      "random_state 534\n",
      "\n",
      "Evaluate Params\n",
      "---------------\n",
      "splits = 3\n",
      "n_repeats = 2\n",
      "CV = default\n",
      "train_subjects = train\n",
      "len(train_subjects) = 20 (before overlap w/ problem_spec.subjects)\n",
      "run_name = linear1\n",
      "\n"
     ]
    },
    {
     "data": {
      "application/vnd.jupyter.widget-view+json": {
       "model_id": "305aa6b7f73244f9b810e33b448947d3",
       "version_major": 2,
       "version_minor": 0
      },
      "text/plain": [
       "HBox(children=(FloatProgress(value=0.0, description='Repeats', max=2.0, style=ProgressStyle(description_width=…"
      ]
     },
     "metadata": {},
     "output_type": "display_data"
    },
    {
     "data": {
      "application/vnd.jupyter.widget-view+json": {
       "model_id": "ebec9d0726c84777827acc0c4b08079c",
       "version_major": 2,
       "version_minor": 0
      },
      "text/plain": [
       "HBox(children=(FloatProgress(value=0.0, description='Folds', max=3.0, style=ProgressStyle(description_width='i…"
      ]
     },
     "metadata": {},
     "output_type": "display_data"
    },
    {
     "name": "stdout",
     "output_type": "stream",
     "text": [
      "\n",
      "\n",
      "\n",
      "Validation Scores\n",
      "_________________\n",
      "Scorer:  roc_auc\n",
      "Mean Validation score:  0.3180555555555556\n",
      "Macro Std in Validation score:  0.00694444444444442\n",
      "Micro Std in Validation score:  0.22445492962307328\n",
      "\n",
      "('user passed0', Loader_Wrapper(background_label=0,\n",
      "               file_mapping={0: <BPt.helpers.Data_File.Data_File object at 0x7fd619370b50>,\n",
      "                             1: <BPt.helpers.Data_File.Data_File object at 0x7fd619370690>,\n",
      "                             2: <BPt.helpers.Data_File.Data_File object at 0x7fd619370310>,\n",
      "                             3: <BPt.helpers.Data_File.Data_File object at 0x7fd619370210>,\n",
      "                             4: <BPt.helpers.Data_File.Data_File object at 0x7fd619370e10>,\n",
      "                             5: <BPt.helpe...\n",
      "                             29: <BPt.helpers.Data_File.Data_File object at 0x7fd618395ed0>, ...},\n",
      "               labels='/home/sage/work/Parcel_Search/Existing_Parcels/lh.aparc.annot',\n",
      "               mask=None, strategy=<function mean at 0x7fd66c119560>,\n",
      "               vectorize=True, wrapper_inds=[2],\n",
      "               wrapper_transformer=SurfLabels(labels='/home/sage/work/Parcel_Search/Existing_Parcels/lh.aparc.annot',\n",
      "                                              strategy=<function mean at 0x7fd66c119560>)))\n",
      "('user passed1', Loader_Wrapper(background_label=0,\n",
      "               file_mapping={0: <BPt.helpers.Data_File.Data_File object at 0x7fd619370b50>,\n",
      "                             1: <BPt.helpers.Data_File.Data_File object at 0x7fd619370690>,\n",
      "                             2: <BPt.helpers.Data_File.Data_File object at 0x7fd619370310>,\n",
      "                             3: <BPt.helpers.Data_File.Data_File object at 0x7fd619370210>,\n",
      "                             4: <BPt.helpers.Data_File.Data_File object at 0x7fd619370e10>,\n",
      "                             5: <BPt.helpe...\n",
      "                             29: <BPt.helpers.Data_File.Data_File object at 0x7fd618395ed0>, ...},\n",
      "               labels='/home/sage/work/Parcel_Search/Existing_Parcels/rh.aparc.annot',\n",
      "               mask=None, strategy=<function mean at 0x7fd66c119560>,\n",
      "               vectorize=True, wrapper_inds=[37],\n",
      "               wrapper_transformer=SurfLabels(labels='/home/sage/work/Parcel_Search/Existing_Parcels/rh.aparc.annot',\n",
      "                                              strategy=<function mean at 0x7fd66c119560>)))\n",
      "('loader_pipe0', Loader_Wrapper(file_mapping={0: <BPt.helpers.Data_File.Data_File object at 0x7fd619370b50>,\n",
      "                             1: <BPt.helpers.Data_File.Data_File object at 0x7fd619370690>,\n",
      "                             2: <BPt.helpers.Data_File.Data_File object at 0x7fd619370310>,\n",
      "                             3: <BPt.helpers.Data_File.Data_File object at 0x7fd619370210>,\n",
      "                             4: <BPt.helpers.Data_File.Data_File object at 0x7fd619370e10>,\n",
      "                             5: <BPt.helpers.Data_File.Data_F...\n",
      "                                  strategy=<function mean at 0x7fd66c119560>,\n",
      "                                  vectorize=False)),\n",
      "                      ('user passed3', Connectivity(vectorize=True))],\n",
      "               verbose=False, wrapper_inds=[70],\n",
      "               wrapper_transformer=Pipeline(steps=[('user passed2',\n",
      "                                                    SurfLabels(labels='/home/sage/work/Parcel_Search/Existing_Parcels/lh.aparc.annot',\n",
      "                                                               strategy=<function mean at 0x7fd66c119560>,\n",
      "                                                               vectorize=False)),\n",
      "                                                   ('user passed3',\n",
      "                                                    Connectivity(vectorize=True))])))\n",
      "('loader_pipe1', Loader_Wrapper(file_mapping={0: <BPt.helpers.Data_File.Data_File object at 0x7fd619370b50>,\n",
      "                             1: <BPt.helpers.Data_File.Data_File object at 0x7fd619370690>,\n",
      "                             2: <BPt.helpers.Data_File.Data_File object at 0x7fd619370310>,\n",
      "                             3: <BPt.helpers.Data_File.Data_File object at 0x7fd619370210>,\n",
      "                             4: <BPt.helpers.Data_File.Data_File object at 0x7fd619370e10>,\n",
      "                             5: <BPt.helpers.Data_File.Data_F...\n",
      "                                  strategy=<function mean at 0x7fd66c119560>,\n",
      "                                  vectorize=False)),\n",
      "                      ('user passed5', Connectivity(vectorize=True))],\n",
      "               verbose=False, wrapper_inds=[700],\n",
      "               wrapper_transformer=Pipeline(steps=[('user passed4',\n",
      "                                                    SurfLabels(labels='/home/sage/work/Parcel_Search/Existing_Parcels/rh.aparc.annot',\n",
      "                                                               strategy=<function mean at 0x7fd66c119560>,\n",
      "                                                               vectorize=False)),\n",
      "                                                   ('user passed5',\n",
      "                                                    Connectivity(vectorize=True))])))\n",
      "('col_standard', InPlaceColTransformer(remainder='passthrough', sparse_threshold=0,\n",
      "                      transformers=[('standard', StandardScaler(),\n",
      "                                     [0, 1, 2, 3, 4, 5, 6, 7, 8, 9, 10, 11, 12,\n",
      "                                      13, 14, 15, 16, 17, 18, 19, 20, 21, 22,\n",
      "                                      23, 24, 25, 26, 27, 28, 29, ...])]))\n",
      "('drop_strat', ColDropStrat(sparse_threshold=0,\n",
      "             transformers=[('keep_all_but_strat_inds', FunctionTransformer(),\n",
      "                            [0, 1, 2, 3, 4, 5, 6, 7, 8, 9, 10, 11, 12, 13, 14,\n",
      "                             15, 16, 17, 18, 19, 20, 21, 22, 23, 24, 25, 26, 27,\n",
      "                             28, 29, ...])]))\n",
      "('logistic', LogisticRegression(max_iter=5000, n_jobs=1, penalty='none', random_state=534))\n"
     ]
    }
   ],
   "source": [
    "from BPt import Pipe\n",
    "problem_spec.scope = 'all'\n",
    "\n",
    "loaders = [Loader(surf_rois_lh, scope='lh_surf'),\n",
    "           Loader(surf_rois_rh, scope='rh_surf'),\n",
    "           Loader(Pipe([t_surf_rois_lh, connectivity]), scope='lh_timeseries'),\n",
    "           Loader(Pipe([t_surf_rois_rh, connectivity]), scope='rh_timeseries')]\n",
    "\n",
    "model_pipeline = Model_Pipeline(loaders=loaders)\n",
    "results = ML.Evaluate(model_pipeline, problem_spec)\n",
    "\n",
    "for step in ML.Model_Pipeline.Model.steps:\n",
    "    print(step)"
   ]
  },
  {
   "cell_type": "code",
   "execution_count": 10,
   "metadata": {},
   "outputs": [
    {
     "name": "stdout",
     "output_type": "stream",
     "text": [
      "Model_Pipeline\n",
      "--------------\n",
      "loaders=\\\n",
      "[Loader(extra_params={},\n",
      "       obj=SurfLabels(labels='/home/sage/work/Parcel_Search/Existing_Parcels/lh.aparc.annot'),\n",
      "       scope='lh_timeseries'),\n",
      " Loader(extra_params={},\n",
      "       obj=SurfLabels(labels='/home/sage/work/Parcel_Search/Existing_Parcels/rh.aparc.annot'),\n",
      "       scope='rh_timeseries')]\n",
      "\n",
      "scalers=\\\n",
      "Scaler(extra_params={}, obj='standard')\n",
      "\n",
      "model=\\\n",
      "Model(extra_params={}, obj='linear')\n",
      "\n",
      "param_search=\\\n",
      "None\n",
      "\n",
      "feat_importances=\\\n",
      "Feat_Importance(obj='base', shap_params=None)\n",
      "\n",
      "\n",
      "Problem_Spec\n",
      "------------\n",
      "problem_type = binary\n",
      "target = target\n",
      "scorer = roc_auc\n",
      "weight_scorer = False\n",
      "scope = timeseries\n",
      "subjects = all\n",
      "len(subjects) = 20 (before overlap w/ train/test subjects)\n",
      "n_jobs 1\n",
      "random_state 534\n",
      "\n",
      "Evaluate Params\n",
      "---------------\n",
      "splits = 3\n",
      "n_repeats = 2\n",
      "CV = default\n",
      "train_subjects = train\n",
      "len(train_subjects) = 20 (before overlap w/ problem_spec.subjects)\n",
      "run_name = linear2\n",
      "\n"
     ]
    },
    {
     "data": {
      "application/vnd.jupyter.widget-view+json": {
       "model_id": "dcfe704afc324519b623999a365e4c7e",
       "version_major": 2,
       "version_minor": 0
      },
      "text/plain": [
       "HBox(children=(FloatProgress(value=0.0, description='Repeats', max=2.0, style=ProgressStyle(description_width=…"
      ]
     },
     "metadata": {},
     "output_type": "display_data"
    },
    {
     "data": {
      "application/vnd.jupyter.widget-view+json": {
       "model_id": "ca934465acb0485fa9fe79ec82e08cc0",
       "version_major": 2,
       "version_minor": 0
      },
      "text/plain": [
       "HBox(children=(FloatProgress(value=0.0, description='Folds', max=3.0, style=ProgressStyle(description_width='i…"
      ]
     },
     "metadata": {},
     "output_type": "display_data"
    },
    {
     "name": "stdout",
     "output_type": "stream",
     "text": [
      "\n",
      "\n",
      "\n",
      "Validation Scores\n",
      "_________________\n",
      "Scorer:  roc_auc\n",
      "Mean Validation score:  0.5666666666666667\n",
      "Macro Std in Validation score:  0.022222222222222254\n",
      "Micro Std in Validation score:  0.146565621758588\n",
      "\n",
      "('user passed0', Loader_Wrapper(background_label=0,\n",
      "               file_mapping={0: <BPt.helpers.Data_File.Data_File object at 0x7fd6193d4ad0>,\n",
      "                             1: <BPt.helpers.Data_File.Data_File object at 0x7fd6193d4190>,\n",
      "                             2: <BPt.helpers.Data_File.Data_File object at 0x7fd6193d4510>,\n",
      "                             3: <BPt.helpers.Data_File.Data_File object at 0x7fd6193d4850>,\n",
      "                             4: <BPt.helpers.Data_File.Data_File object at 0x7fd6193d44d0>,\n",
      "                             5: <BPt.helpe...\n",
      "                             29: <BPt.helpers.Data_File.Data_File object at 0x7fd618b85250>, ...},\n",
      "               labels='/home/sage/work/Parcel_Search/Existing_Parcels/lh.aparc.annot',\n",
      "               mask=None, strategy=<function mean at 0x7fd66c119560>,\n",
      "               vectorize=True, wrapper_inds=[0],\n",
      "               wrapper_transformer=SurfLabels(labels='/home/sage/work/Parcel_Search/Existing_Parcels/lh.aparc.annot',\n",
      "                                              strategy=<function mean at 0x7fd66c119560>)))\n",
      "('user passed1', Loader_Wrapper(background_label=0,\n",
      "               file_mapping={0: <BPt.helpers.Data_File.Data_File object at 0x7fd6193d4ad0>,\n",
      "                             1: <BPt.helpers.Data_File.Data_File object at 0x7fd6193d4190>,\n",
      "                             2: <BPt.helpers.Data_File.Data_File object at 0x7fd6193d4510>,\n",
      "                             3: <BPt.helpers.Data_File.Data_File object at 0x7fd6193d4850>,\n",
      "                             4: <BPt.helpers.Data_File.Data_File object at 0x7fd6193d44d0>,\n",
      "                             5: <BPt.helpe...\n",
      "                             29: <BPt.helpers.Data_File.Data_File object at 0x7fd618b85250>, ...},\n",
      "               labels='/home/sage/work/Parcel_Search/Existing_Parcels/rh.aparc.annot',\n",
      "               mask=None, strategy=<function mean at 0x7fd66c119560>,\n",
      "               vectorize=True, wrapper_inds=[3500],\n",
      "               wrapper_transformer=SurfLabels(labels='/home/sage/work/Parcel_Search/Existing_Parcels/rh.aparc.annot',\n",
      "                                              strategy=<function mean at 0x7fd66c119560>)))\n",
      "('col_standard', InPlaceColTransformer(remainder='passthrough', sparse_threshold=0,\n",
      "                      transformers=[('standard', StandardScaler(),\n",
      "                                     [0, 1, 2, 3, 4, 5, 6, 7, 8, 9, 10, 11, 12,\n",
      "                                      13, 14, 15, 16, 17, 18, 19, 20, 21, 22,\n",
      "                                      23, 24, 25, 26, 27, 28, 29, ...])]))\n",
      "('drop_strat', ColDropStrat(sparse_threshold=0,\n",
      "             transformers=[('keep_all_but_strat_inds', FunctionTransformer(),\n",
      "                            [0, 1, 2, 3, 4, 5, 6, 7, 8, 9, 10, 11, 12, 13, 14,\n",
      "                             15, 16, 17, 18, 19, 20, 21, 22, 23, 24, 25, 26, 27,\n",
      "                             28, 29, ...])]))\n",
      "('logistic', LogisticRegression(max_iter=5000, n_jobs=1, penalty='none', random_state=534))\n"
     ]
    }
   ],
   "source": [
    "problem_spec.scope = 'timeseries'\n",
    "\n",
    "loaders = [Loader(surf_rois_lh, scope='lh_timeseries'),\n",
    "           Loader(surf_rois_rh, scope='rh_timeseries')]\n",
    "\n",
    "model_pipeline = Model_Pipeline(loaders=loaders)\n",
    "results = ML.Evaluate(model_pipeline, problem_spec)\n",
    "\n",
    "for step in ML.Model_Pipeline.Model.steps:\n",
    "    print(step)"
   ]
  }
 ],
 "metadata": {
  "kernelspec": {
   "display_name": "Python 3.7.6 64-bit ('home': conda)",
   "language": "python",
   "name": "python37664bithomeconda2aade2e1d0ce4797afe91f4891a59d68"
  },
  "language_info": {
   "codemirror_mode": {
    "name": "ipython",
    "version": 3
   },
   "file_extension": ".py",
   "mimetype": "text/x-python",
   "name": "python",
   "nbconvert_exporter": "python",
   "pygments_lexer": "ipython3",
   "version": "3.7.6"
  }
 },
 "nbformat": 4,
 "nbformat_minor": 4
}
