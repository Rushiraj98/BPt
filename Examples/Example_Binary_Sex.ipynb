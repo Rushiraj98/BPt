{
 "cells": [
  {
   "cell_type": "markdown",
   "metadata": {},
   "source": [
    "This notebook goes through a simple binary classification example, explaining general library functionality and data loading along the way.\n",
    "\n",
    "We perform binary classification on sex, using structural MRI rois."
   ]
  },
  {
   "cell_type": "markdown",
   "metadata": {},
   "source": [
    "# Init Phase"
   ]
  },
  {
   "cell_type": "code",
   "execution_count": 1,
   "metadata": {},
   "outputs": [
    {
     "name": "stderr",
     "output_type": "stream",
     "text": [
      "Using TensorFlow backend.\n"
     ]
    }
   ],
   "source": [
    "from ABCD_ML.ABCD_ML import ABCD_ML"
   ]
  },
  {
   "cell_type": "markdown",
   "metadata": {},
   "source": [
    "Replace these values below with your own directory / desired files."
   ]
  },
  {
   "cell_type": "code",
   "execution_count": 2,
   "metadata": {},
   "outputs": [],
   "source": [
    "#Define directory with the 2.0_NDA_Data\n",
    "nda_dr = '/mnt/sdb2/2.0_ABCD_Data_Explorer/2.0_NDA_Data/'\n",
    "\n",
    "#This file stores the name mapping\n",
    "test_mapping_loc = nda_dr + 'ABCD_Release_ Notes_Data_Release_ 2.0/22. ABCD_Release_2.0_mapping_r.csv'\n",
    "\n",
    "#We will use as the neuroimaging data just the sMRI data\n",
    "test_data_loc1 = nda_dr + 'MRI/ABCD sMRI Part 1.csv'\n",
    "test_data_loc2 = nda_dr + 'MRI/ABCD sMRI Part 2.csv'\n",
    "\n",
    "#We will load target data (and covariate data) from here\n",
    "test_target_loc = nda_dr + 'Mental Health/ABCD Parent Demographics Survey.csv'\n",
    "\n",
    "#We will load stratification data from here\n",
    "test_strat_loc = nda_dr + 'Other Non-Imaging/ABCD ACS Post Stratification Weights.csv'\n",
    "\n",
    "#We will load exclusions from here, it is the list of flipped subject ids\n",
    "test_exclusion_loc = '/home/sage/bader_things/invalid_pguids.txt'"
   ]
  },
  {
   "cell_type": "markdown",
   "metadata": {},
   "source": [
    "We first need to define the class object, which we will use to load load and to train/test different ML models.\n",
    "There are a few global parameters which we can optionally set when defining this object as well, lets look and see what they are."
   ]
  },
  {
   "cell_type": "code",
   "execution_count": 3,
   "metadata": {},
   "outputs": [
    {
     "name": "stdout",
     "output_type": "stream",
     "text": [
      "Help on function __init__ in module ABCD_ML.ABCD_ML:\n",
      "\n",
      "__init__(self, exp_name='some_exp', log_dr='', existing_log='new', verbose=True, notebook=True, subject_id='src_subject_id', eventname='baseline_year_1_arm_1', use_default_subject_ids=True, default_dataset_type='basic', default_na_values=['777', '999'], original_targets_key='targets', low_memory_mode=False, random_state=None)\n",
      "    Main class init\n",
      "    \n",
      "    Parameters\n",
      "    ----------\n",
      "    exp_name : str, optional\n",
      "        The name of this experimental run,\n",
      "        used explicitly in saving logs, and figures.\n",
      "        If log_dr is not set to None-\n",
      "        (if not None then saves logs and figures)\n",
      "        then a folder is created within the log dr\n",
      "        with the exp_name.\n",
      "    \n",
      "        (default = 'some_exp')\n",
      "    \n",
      "    log_dr : str, Path or None, optional\n",
      "        The directory in which to store logs...\n",
      "        If set to None, then will not save any logs!\n",
      "        If set to '', will save in the current dr.\n",
      "    \n",
      "        (default = '')\n",
      "    \n",
      "    existing_log : {'new', 'append', 'overwrite'}, optional\n",
      "        By default, if an exp_name folder already\n",
      "        exists within the log_dr, then the exp_name will\n",
      "        be incremented until a free name is avaliable.\n",
      "        This behavior is existing_log is 'new',\n",
      "        If existing_log is 'append' then log entries\n",
      "        and new figures will be added to the existing folder.\n",
      "        If existing_log is 'overwrite', then the existing\n",
      "        log folder with the same exp_name will be cleared\n",
      "        upon __init__.\n",
      "    \n",
      "        (default = 'new')\n",
      "    \n",
      "    verbose: bool, optional\n",
      "        If set to true will print diagnostic and other output during\n",
      "        dataloading and model training ect... if set to False this output\n",
      "        will not print. If log_dr is not None, then will still\n",
      "        record as log output.\n",
      "    \n",
      "        (default = True)\n",
      "    \n",
      "    notebook : bool, optional\n",
      "        If True, then assumes the user is running\n",
      "        the code in an interactive notebook. In this case,\n",
      "        any plots will be showed interactively\n",
      "        (as well as saved as long as log_dr != None)\n",
      "    \n",
      "    subject_id : str, optional\n",
      "        The name of the column with unique subject ids in different\n",
      "        dataset, for default ABCD datasets this is 'src_subject_id',\n",
      "        but if a user wanted to load and work with a different dataset,\n",
      "        they just need to change this accordingly\n",
      "        (in addition to setting eventname most likely to None and\n",
      "        use_default_subject_ids to False)\n",
      "    \n",
      "        (default = 'src_subject_id')\n",
      "    \n",
      "    eventname : str or None, optional\n",
      "        Optional value to provide, specifying to keep certain rows\n",
      "        when reading data based on the eventname flag.\n",
      "        As ABCD is a longitudinal study, this flag lets you select only\n",
      "        one specific time point, or if set to None, will load everything.\n",
      "    \n",
      "        (default = 'baseline_year_1_arm_1')\n",
      "    \n",
      "    use_default_subject_ids : bool, optional\n",
      "        Flag to determine the usage of 'default' subject id behavior.\n",
      "        If set to True, this will convert input NDAR subject ids\n",
      "        into upper case, with prepended NDAR - type format.\n",
      "        If set to False, then all input subject names must be entered\n",
      "        explicitly the same, no preprocessing will be done on them.\n",
      "    \n",
      "        (default = True)\n",
      "    \n",
      "    default_dataset_type : {'basic', 'explorer', 'custom'}, optional\n",
      "        The default dataset_type / file-type to load from.\n",
      "        Dataset types are,\n",
      "    \n",
      "        - 'basic' : ABCD2p0NDA style (.txt and tab seperated)\n",
      "    \n",
      "        - 'explorer' : 2.0_ABCD_Data_Explorer style                            (.csv and comma seperated)\n",
      "    \n",
      "        - 'custom' : A user-defined custom dataset. Right now this is only                supported as a comma seperated file, with the subject names in                a column called self.subject_id.\n",
      "    \n",
      "        (default = 'basic')\n",
      "    \n",
      "    default_na_values : list, optional\n",
      "        Additional values to treat as NaN, by default ABCD specific\n",
      "        values of '777' and '999' are treated as NaN,\n",
      "        and those set to default by pandas 'read_csv' function.\n",
      "        Note: if new values are passed here,\n",
      "        it will override these default '777' and '999' NaN values.\n",
      "    \n",
      "        (default = ['777', '999'])\n",
      "    \n",
      "    original_targets_key : str, optional\n",
      "        This parameter refers to the column name / key, that the\n",
      "        target variable of interest will be stored under. There are not a\n",
      "        lot of reasons to change this setting, except in the case of\n",
      "        a naming conflict - or just for further customization.\n",
      "    \n",
      "        (default = 'targets')\n",
      "    \n",
      "    low_memory_mode : bool, optional\n",
      "        This parameter dictates behavior around loading in data,\n",
      "        specifically, if `low_memory_mode` is set to True,\n",
      "        then when loading data from multiple sources, only common\n",
      "        subjects will be saved as each data source is loaded.\n",
      "        For comparison, when low memory mode if off, the dropping\n",
      "        of non-common subjects occurs later. Though regardless of if low\n",
      "        memory mode is on or off, subjects will be dropped right away\n",
      "        when exclusions or strat is loaded. Non-low memory mode\n",
      "        behavior is useful when the user wants to try loading different\n",
      "        data, and doesn't want automatic drops to occur.\n",
      "        If set to True, individual dataframes self.data, self.covars ect...\n",
      "        will also be deleted from memory as soon as modeling begins.\n",
      "    \n",
      "        This parameter also controls the pandas read_csv behavior,\n",
      "        which also has a low_memory flag.\n",
      "    \n",
      "        (default = False)\n",
      "    \n",
      "    random_state : int, RandomState instance or None, optional\n",
      "        The default random state, either as int for a specific seed,\n",
      "        or if None then the random seed is set by np.random.\n",
      "    \n",
      "        (default = None)\n",
      "\n"
     ]
    }
   ],
   "source": [
    "help(ABCD_ML.__init__)"
   ]
  },
  {
   "cell_type": "markdown",
   "metadata": {},
   "source": [
    "Most of the default parameters are okay for this simple example, but any of them can be changed.\n",
    "\n",
    "One thing we want to change just to make things easier is setting the default_dataset_type field, as in this example all of the datasets we are loading from are 'explorer' type. This way we won't have to pass that to every loader."
   ]
  },
  {
   "cell_type": "code",
   "execution_count": 4,
   "metadata": {},
   "outputs": [
    {
     "name": "stdout",
     "output_type": "stream",
     "text": [
      "exp_name = some_exp\n",
      "log_dr = /home/sage/ABCD_ML/Examples\n",
      "existing_log = overwrite\n",
      "verbose = True\n",
      "exp log dr setup at: /home/sage/ABCD_ML/Examples/some_exp\n",
      "log file at: /home/sage/ABCD_ML/Examples/some_exp/logs.txt\n",
      "notebook = True\n",
      "default subject id col = src_subject_id\n",
      "eventname = baseline_year_1_arm_1\n",
      "use default subject ids = True\n",
      "default dataset type = explorer\n",
      "default NaN values = ['777', '999']\n",
      "original targets key col = targets\n",
      "low memory mode = False\n",
      "random state = None\n",
      "ABCD_ML object initialized\n"
     ]
    }
   ],
   "source": [
    "ML = ABCD_ML(default_dataset_type='explorer', existing_log='overwrite')"
   ]
  },
  {
   "cell_type": "markdown",
   "metadata": {},
   "source": [
    "# Data Loading Phase"
   ]
  },
  {
   "cell_type": "markdown",
   "metadata": {},
   "source": [
    "We can continue by optionally loading in a name map, which is simply a dictionary that attempts to rename any column names loaded in, if those column names are a key in the dictionary. This is useful for ABCD data as the default column names might not be useful.\n",
    "\n",
    "Note this name map and these parameters are for the 'ABCD 2.0 Explorer' formatting. "
   ]
  },
  {
   "cell_type": "code",
   "execution_count": 5,
   "metadata": {},
   "outputs": [
    {
     "name": "stdout",
     "output_type": "stream",
     "text": [
      "Loading /mnt/sdb2/2.0_ABCD_Data_Explorer/2.0_NDA_Data/ABCD_Release_ Notes_Data_Release_ 2.0/22. ABCD_Release_2.0_mapping_r.csv assumed to be dataset type: explorer\n",
      "Loaded map file\n"
     ]
    }
   ],
   "source": [
    "ML.Load_Name_Map(loc = test_mapping_loc,\n",
    "                 source_name_col = \"NDAR name\",\n",
    "                 target_name_col = \"REDCap name/NDA alias\")"
   ]
  },
  {
   "cell_type": "markdown",
   "metadata": {},
   "source": [
    "We can look at what exactly is in this dictionary if we want to confirm we loaded it correctly.\n",
    "It is loaded as name_map within the ABCD_ML class."
   ]
  },
  {
   "cell_type": "code",
   "execution_count": 6,
   "metadata": {},
   "outputs": [
    {
     "data": {
      "text/plain": [
       "{'ddtidp_674': 'dmri_dtifagm_cortdestrieux_ssuborbitallh',\n",
       " 'ddtidp_748': 'dmri_dtifagm_cortdestrieux_ssuborbitalrh',\n",
       " 'ddtidp_675': 'dmri_dtifagm_cortdestrieux_ssubparietallh',\n",
       " 'ddtidp_749': 'dmri_dtifagm_cortdestrieux_ssubparietalrh',\n",
       " 'ddtidp_676': 'dmri_dtifagm_cortdestrieux_stemporalinflh',\n",
       " 'ddtidp_750': 'dmri_dtifagm_cortdestrieux_stemporalinfrh',\n",
       " 'ddtidp_677': 'dmri_dtifagm_cortdestrieux_stemporalsuplh',\n",
       " 'ddtidp_751': 'dmri_dtifagm_cortdestrieux_stemporalsuprh',\n",
       " 'ddtidp_678': 'dmri_dtifagm_cortdestrieux_stemporaltransverselh',\n",
       " 'ddtidp_752': 'dmri_dtifagm_cortdestrieux_stemporaltransverserh',\n",
       " 'dmri_dtifagwc_cdsn_bslh': 'dmri_dtifagwc_cortdesikan_banksstslh',\n",
       " 'dmri_dtifagwc_cdsn_bsrh': 'dmri_dtifagwc_cortdesikan_banksstsrh',\n",
       " 'dmri_dtifagwc_cdsn_cdacatelh': 'dmri_dtifagwc_cortdesikan_caudalanteriorcingulatelh',\n",
       " 'dmri_dtifagwc_cdsn_cdacaterh': 'dmri_dtifagwc_cortdesikan_caudalanteriorcingulaterh',\n",
       " 'dmri_dtifagwc_cdsn_cdmflh': 'dmri_dtifagwc_cortdesikan_caudalmiddlefrontallh',\n",
       " 'dmri_dtifagwc_cdsn_cdmfrh': 'dmri_dtifagwc_cortdesikan_caudalmiddlefrontalrh',\n",
       " 'dmri_dtifagwc_cdsn_cuneuslh': 'dmri_dtifagwc_cortdesikan_cuneuslh',\n",
       " 'dmri_dtifagwc_cdsn_cuneusrh': 'dmri_dtifagwc_cortdesikan_cuneusrh',\n",
       " 'dmri_dtifagwc_cdsn_ehinallh': 'dmri_dtifagwc_cortdesikan_entorhinallh',\n",
       " 'dmri_dtifagwc_cdsn_ehinalrh': 'dmri_dtifagwc_cortdesikan_entorhinalrh'}"
      ]
     },
     "execution_count": 6,
     "metadata": {},
     "output_type": "execute_result"
    }
   ],
   "source": [
    "some_examples = {k: ML.name_map[k] for k in list(ML.name_map)[300:320]}\n",
    "some_examples"
   ]
  },
  {
   "cell_type": "code",
   "execution_count": 7,
   "metadata": {},
   "outputs": [
    {
     "name": "stdout",
     "output_type": "stream",
     "text": [
      "Help on method Load_Exclusions in module ABCD_ML._Data:\n",
      "\n",
      "Load_Exclusions(loc=None, exclusions=None) method of ABCD_ML.ABCD_ML.ABCD_ML instance\n",
      "    Loads in a set of excluded subjects,\n",
      "    from either a file or as directly passed in.\n",
      "    \n",
      "    Parameters\n",
      "    ----------\n",
      "    loc : str, Path or None, optional\n",
      "        Location of a file to load in excluded subjects from.\n",
      "        The file should be formatted as one subject per line.\n",
      "        (default = None)\n",
      "    \n",
      "    exclusions : list, set, array-like or None, optional\n",
      "        An explicit list of subjects to add to exclusions.\n",
      "        (default = None)\n",
      "    \n",
      "    Notes\n",
      "    ----------\n",
      "    For best/most reliable performance across all data loading cases,\n",
      "    exclusions should be loaded before data, covars and targets.\n",
      "    \n",
      "    If default subject id behavior is set to False,\n",
      "    reading subjects from a exclusion loc might not\n",
      "    function as expected.\n",
      "\n"
     ]
    }
   ],
   "source": [
    "help(ML.Load_Exclusions)"
   ]
  },
  {
   "cell_type": "markdown",
   "metadata": {},
   "source": [
    "For our exclusions we will just use the flipped subjects"
   ]
  },
  {
   "cell_type": "code",
   "execution_count": 8,
   "metadata": {},
   "outputs": [
    {
     "name": "stdout",
     "output_type": "stream",
     "text": [
      "Total excluded subjects:  1137\n",
      "Removed excluded subjects from loaded dfs\n"
     ]
    }
   ],
   "source": [
    "ML.Load_Exclusions(loc=test_exclusion_loc)"
   ]
  },
  {
   "cell_type": "markdown",
   "metadata": {},
   "source": [
    "Next, we will load in the actual data. Like before we can check what parameters this function wants / can accept"
   ]
  },
  {
   "cell_type": "code",
   "execution_count": 9,
   "metadata": {},
   "outputs": [
    {
     "name": "stdout",
     "output_type": "stream",
     "text": [
      "Help on method Load_Data in module ABCD_ML._Data:\n",
      "\n",
      "Load_Data(loc, dataset_type='default', drop_keys=[], filter_outlier_percent=None, winsorize_val=None, drop_col_duplicates=None) method of ABCD_ML.ABCD_ML.ABCD_ML instance\n",
      "    Load a ABCD2p0NDA (default) or 2.0_ABCD_Data_Explorer (explorer)\n",
      "    release formatted neuroimaging dataset - of derived ROI level info.\n",
      "    \n",
      "    Parameters\n",
      "    ----------\n",
      "    loc : str, Path or list of\n",
      "        The location of the csv file to load data load from.\n",
      "        If passed a list, then will load each loc in the list,\n",
      "        and will assume them all to be of the same dataset_type if one\n",
      "        dataset_type is passed, or if they differ in type, a list must be\n",
      "        passed to dataset_type with the different types in order.\n",
      "    \n",
      "        Note: some proc will be done on each loaded dataset before merging\n",
      "        with the rest (duplicate subjects, proc for eventname ect...), but\n",
      "        other dataset loading behavior won't occur until after the merge,\n",
      "        e.g., dropping cols by key, filtering for outlier, ect...\n",
      "    \n",
      "    dataset_type : {'default', 'basic', 'explorer', 'custom'} or list, optional\n",
      "        The type of dataset to load from. If a list is passed, then loc must\n",
      "        also be a list, and the indices should correspond.\n",
      "        Likewise, if loc is a list and dataset_type is not,\n",
      "        it is assumed all datasets are the same type.\n",
      "        Where each dataset type is,\n",
      "    \n",
      "        - 'default' : Use the class defined default dataset type,            if not set by the user this is 'basic'.\n",
      "    \n",
      "        - 'basic' : ABCD2p0NDA style (.txt and tab seperated)            Typically the default columns, and therefore not neuroimaging            data, will be dropped, also not including the eventname column.\n",
      "    \n",
      "        - 'explorer' : 2.0_ABCD_Data_Explorer style (.csv and comma seperated)            The first 2 columns before self.subject_id            (typically the default columns, and therefore not neuroimaging            data - also not including the eventname column), will be dropped.\n",
      "        - 'custom' : A user-defined custom dataset. Right now this is only            supported as a comma seperated file, with the subject names in a            column called self.subject_id, and can optionally have            'eventname'. No columns will be dropped,            (except eventname) or unless specific drop keys are passed.\n",
      "    \n",
      "        (default = 'default')\n",
      "    \n",
      "    drop_keys : list, optional\n",
      "        A list of keys to drop columns by, where if any key given in a columns\n",
      "        name, then that column will be dropped.\n",
      "        (Note: if a name mapping exists, this drop step will be\n",
      "        conducted after renaming)\n",
      "    \n",
      "        (default = [])\n",
      "    \n",
      "    filter_outlier_percent : int, float, tuple or None, optional\n",
      "        *For float / ordinal data only.*\n",
      "        A percent of values to exclude from either end of the\n",
      "        targets distribution, provided as either 1 number,\n",
      "        or a tuple (% from lower, % from higher).\n",
      "        set `filter_outlier_percent` to None for no filtering.\n",
      "        If over 1 then treated as a percent, if under 1, then\n",
      "        used directly.\n",
      "    \n",
      "        (default = None)\n",
      "    \n",
      "    winsorize_val : float, tuple or None, optional\n",
      "        The (winsorize_val[0])th lowest values are set to\n",
      "        the (winsorize_val[0])th percentile,\n",
      "        and the (winsorize_val[1])th highest values\n",
      "        are set to the (1 - winsorize_val[1])th percentile.\n",
      "        If one value passed, used for both ends.\n",
      "        If None, then no winsorization performed.\n",
      "    \n",
      "        Note: Winsorizing will be performed after\n",
      "        filtering for outliers if values are passed for both.\n",
      "    \n",
      "        (default = None)\n",
      "    \n",
      "    drop_col_duplicates : float or None/False, optional\n",
      "        If set to None, will not drop any.\n",
      "        If float, then pass a value between 0 and 1,\n",
      "        where if two columns within data\n",
      "        are correlated >= to `corr_thresh`, the second column is removed.\n",
      "        A value of 1 acts like dropping exact duplicated.\n",
      "    \n",
      "        Note: just drops duplicated within just loaded data.\n",
      "        Call self.Drop_Data_Duplicates() to drop duplicates across\n",
      "        all loaded data.\n",
      "    \n",
      "        (default = None)\n",
      "    \n",
      "    \n",
      "    Notes\n",
      "    ----------\n",
      "    For loading a truly custom dataset, an advanced user can\n",
      "    load all the data themselves into a pandas DataFrame.\n",
      "    They will need to have the DataFrame indexed by self.subject_id\n",
      "    e.g., ::\n",
      "    \n",
      "        data = data.set_index(self.subject_id)\n",
      "    \n",
      "    and subject ids will need to be in the correct style...\n",
      "    but if they do all this, then they can just set ::\n",
      "    \n",
      "        self.data = data\n",
      "\n"
     ]
    }
   ],
   "source": [
    "help(ML.Load_Data)"
   ]
  },
  {
   "cell_type": "code",
   "execution_count": 10,
   "metadata": {
    "scrolled": true
   },
   "outputs": [
    {
     "name": "stdout",
     "output_type": "stream",
     "text": [
      "Loading /mnt/sdb2/2.0_ABCD_Data_Explorer/2.0_NDA_Data/MRI/ABCD sMRI Part 1.csv assumed to be dataset type: explorer\n",
      "dropped ['abcd_smrip101_id', 'dataset_id', 'smri_visitid'] columns by default  due to dataset type\n",
      "Loading /mnt/sdb2/2.0_ABCD_Data_Explorer/2.0_NDA_Data/MRI/ABCD sMRI Part 2.csv assumed to be dataset type: explorer\n",
      "dropped ['abcd_smrip201_id', 'dataset_id'] columns by default  due to dataset type\n",
      "Dropped 0 columns, per drop_keys argument\n",
      "Dropped 10 cols for all missing values\n",
      "Dropped 1084 rows for missing values\n",
      "Dropped rows with missing data\n",
      "Filtered data for outliers with value:  0.005\n",
      "Winsorized data with value:  0.01\n",
      "loaded shape:  (948, 1186)\n",
      "\n",
      "The following columns have a questionable number of unique values: \n",
      "smri_area_cortdesikan_frontalpolelh unique vals: 140\n",
      "smri_area_cortdesikan_frontalpolerh unique vals: 182\n",
      "smri_vol_subcortaseg_wmhypointensitieslh unique vals: 1\n",
      "smri_vol_subcortaseg_wmhypointensitiesrh unique vals: 1\n",
      "\n",
      "\n",
      "Total valid overlapping subjects = 948\n",
      "\n"
     ]
    }
   ],
   "source": [
    "ML.Load_Data(loc=[test_data_loc1, test_data_loc2],\n",
    "             dataset_type='explorer',\n",
    "             filter_outlier_percent=.005, \n",
    "             winsorize_val=.01)           "
   ]
  },
  {
   "cell_type": "markdown",
   "metadata": {},
   "source": [
    "That ends up being a lot of data dropped just for dropping missing outliers... since we are not in low_memory_mode, we can just clear the data, and reload it. This time we will also load not just the first data loc, but the rest as well - and at the same time - but just providing the locations of both in a list."
   ]
  },
  {
   "cell_type": "code",
   "execution_count": 11,
   "metadata": {},
   "outputs": [
    {
     "name": "stdout",
     "output_type": "stream",
     "text": [
      "cleared data.\n"
     ]
    }
   ],
   "source": [
    "ML.Clear_Data()"
   ]
  },
  {
   "cell_type": "code",
   "execution_count": 12,
   "metadata": {},
   "outputs": [
    {
     "name": "stdout",
     "output_type": "stream",
     "text": [
      "Loading /mnt/sdb2/2.0_ABCD_Data_Explorer/2.0_NDA_Data/MRI/ABCD sMRI Part 1.csv assumed to be dataset type: explorer\n",
      "dropped ['abcd_smrip101_id', 'dataset_id', 'smri_visitid'] columns by default  due to dataset type\n",
      "Loading /mnt/sdb2/2.0_ABCD_Data_Explorer/2.0_NDA_Data/MRI/ABCD sMRI Part 2.csv assumed to be dataset type: explorer\n",
      "dropped ['abcd_smrip201_id', 'dataset_id'] columns by default  due to dataset type\n",
      "Dropped 0 columns, per drop_keys argument\n",
      "Dropped 10 cols for all missing values\n",
      "Dropped 1084 rows for missing values\n",
      "Dropped rows with missing data\n",
      "Filtered data for outliers with value:  0.0005\n",
      "Winsorized data with value:  0.001\n",
      "loaded shape:  (6763, 1186)\n",
      "\n",
      "The following columns have a questionable number of unique values: \n",
      "smri_thick_cortdesikan_banksstslh unique vals: 848\n",
      "smri_thick_cortdesikan_caudalanteriorcingulatelh unique vals: 1097\n",
      "smri_thick_cortdesikan_caudalmiddlefrontallh unique vals: 755\n",
      "smri_thick_cortdesikan_cuneuslh unique vals: 750\n",
      "smri_thick_cortdesikan_fusiformlh unique vals: 644\n",
      "smri_thick_cortdesikan_inferiorparietallh unique vals: 771\n",
      "smri_thick_cortdesikan_inferiortemporallh unique vals: 786\n",
      "smri_thick_cortdesikan_isthmuscingulatelh unique vals: 893\n",
      "smri_thick_cortdesikan_lateraloccipitallh unique vals: 759\n",
      "smri_thick_cortdesikan_lateralorbitofrontallh unique vals: 766\n",
      "smri_thick_cortdesikan_linguallh unique vals: 682\n",
      "smri_thick_cortdesikan_medialorbitofrontallh unique vals: 839\n",
      "smri_thick_cortdesikan_middletemporallh unique vals: 914\n",
      "smri_thick_cortdesikan_parahippocampallh unique vals: 1242\n",
      "smri_thick_cortdesikan_paracentrallh unique vals: 793\n",
      "smri_thick_cortdesikan_parsopercularislh unique vals: 737\n",
      "smri_thick_cortdesikan_parsorbitalislh unique vals: 984\n",
      "smri_thick_cortdesikan_parstriangularislh unique vals: 794\n",
      "smri_thick_cortdesikan_pericalcarinelh unique vals: 738\n",
      "smri_thick_cortdesikan_postcentrallh unique vals: 767\n",
      "smri_thick_cortdesikan_posteriorcingulatelh unique vals: 778\n",
      "smri_thick_cortdesikan_precentrallh unique vals: 719\n",
      "smri_thick_cortdesikan_precuneuslh unique vals: 666\n",
      "smri_thick_cortdesikan_rostralanteriorcingulatelh unique vals: 988\n",
      "smri_thick_cortdesikan_rostralmiddlefrontallh unique vals: 760\n",
      "smri_thick_cortdesikan_superiorfrontallh unique vals: 762\n",
      "smri_thick_cortdesikan_superiorparietallh unique vals: 704\n",
      "smri_thick_cortdesikan_superiortemporallh unique vals: 836\n",
      "smri_thick_cortdesikan_supramarginallh unique vals: 854\n",
      "smri_thick_cortdesikan_temporalpolelh unique vals: 1271\n",
      "smri_thick_cortdesikan_transversetemporallh unique vals: 989\n",
      "smri_thick_cortdesikan_insulalh unique vals: 713\n",
      "smri_thick_cortdesikan_banksstsrh unique vals: 875\n",
      "smri_thick_cortdesikan_caudalanteriorcingulaterh unique vals: 988\n",
      "smri_thick_cortdesikan_caudalmiddlefrontalrh unique vals: 797\n",
      "smri_thick_cortdesikan_cuneusrh unique vals: 788\n",
      "smri_thick_cortdesikan_fusiformrh unique vals: 679\n",
      "smri_thick_cortdesikan_inferiorparietalrh unique vals: 759\n",
      "smri_thick_cortdesikan_inferiortemporalrh unique vals: 783\n",
      "smri_thick_cortdesikan_isthmuscingulaterh unique vals: 908\n",
      "smri_thick_cortdesikan_lateraloccipitalrh unique vals: 776\n",
      "smri_thick_cortdesikan_lateralorbitofrontalrh unique vals: 768\n",
      "smri_thick_cortdesikan_lingualrh unique vals: 694\n",
      "smri_thick_cortdesikan_medialorbitofrontalrh unique vals: 847\n",
      "smri_thick_cortdesikan_middletemporalrh unique vals: 905\n",
      "smri_thick_cortdesikan_parahippocampalrh unique vals: 1129\n",
      "smri_thick_cortdesikan_paracentralrh unique vals: 727\n",
      "smri_thick_cortdesikan_parsopercularisrh unique vals: 766\n",
      "smri_thick_cortdesikan_parsorbitalisrh unique vals: 976\n",
      "smri_thick_cortdesikan_parstriangularisrh unique vals: 824\n",
      "smri_thick_cortdesikan_pericalcarinerh unique vals: 748\n",
      "smri_thick_cortdesikan_postcentralrh unique vals: 796\n",
      "smri_thick_cortdesikan_posteriorcingulaterh unique vals: 702\n",
      "smri_thick_cortdesikan_precentralrh unique vals: 714\n",
      "smri_thick_cortdesikan_precuneusrh unique vals: 653\n",
      "smri_thick_cortdesikan_rostralanteriorcingulaterh unique vals: 1021\n",
      "smri_thick_cortdesikan_rostralmiddlefrontalrh unique vals: 771\n",
      "smri_thick_cortdesikan_superiorfrontalrh unique vals: 736\n",
      "smri_thick_cortdesikan_superiorparietalrh unique vals: 696\n",
      "smri_thick_cortdesikan_superiortemporalrh unique vals: 786\n",
      "smri_thick_cortdesikan_supramarginalrh unique vals: 872\n",
      "smri_thick_cortdesikan_temporalpolerh unique vals: 1295\n",
      "smri_thick_cortdesikan_transversetemporalrh unique vals: 980\n",
      "smri_thick_cortdesikan_insularh unique vals: 758\n",
      "smri_area_cortdesikan_banksstslh unique vals: 935\n",
      "smri_area_cortdesikan_caudalanteriorcingulatelh unique vals: 761\n",
      "smri_area_cortdesikan_cuneuslh unique vals: 994\n",
      "smri_area_cortdesikan_entorhinallh unique vals: 443\n",
      "smri_area_cortdesikan_isthmuscingulatelh unique vals: 929\n",
      "smri_area_cortdesikan_lateralorbitofrontallh unique vals: 1314\n",
      "smri_area_cortdesikan_medialorbitofrontallh unique vals: 1134\n",
      "smri_area_cortdesikan_parahippocampallh unique vals: 601\n",
      "smri_area_cortdesikan_paracentrallh unique vals: 970\n",
      "smri_area_cortdesikan_parsopercularislh unique vals: 1327\n",
      "smri_area_cortdesikan_parsorbitalislh unique vals: 471\n",
      "smri_area_cortdesikan_parstriangularislh unique vals: 1003\n",
      "smri_area_cortdesikan_pericalcarinelh unique vals: 1062\n",
      "smri_area_cortdesikan_posteriorcingulatelh unique vals: 953\n",
      "smri_area_cortdesikan_rostralanteriorcingulatelh unique vals: 776\n",
      "smri_area_cortdesikan_frontalpolelh unique vals: 210\n",
      "smri_area_cortdesikan_temporalpolelh unique vals: 335\n",
      "smri_area_cortdesikan_transversetemporallh unique vals: 406\n",
      "smri_area_cortdesikan_insulalh unique vals: 1099\n",
      "smri_area_cortdesikan_banksstsrh unique vals: 798\n",
      "smri_area_cortdesikan_caudalanteriorcingulaterh unique vals: 826\n",
      "smri_area_cortdesikan_cuneusrh unique vals: 1060\n",
      "smri_area_cortdesikan_entorhinalrh unique vals: 467\n",
      "smri_area_cortdesikan_isthmuscingulaterh unique vals: 841\n",
      "smri_area_cortdesikan_medialorbitofrontalrh unique vals: 976\n",
      "smri_area_cortdesikan_parahippocampalrh unique vals: 613\n",
      "smri_area_cortdesikan_paracentralrh unique vals: 1096\n",
      "smri_area_cortdesikan_parsopercularisrh unique vals: 1192\n",
      "smri_area_cortdesikan_parsorbitalisrh unique vals: 556\n",
      "smri_area_cortdesikan_parstriangularisrh unique vals: 1212\n",
      "smri_area_cortdesikan_pericalcarinerh unique vals: 1082\n",
      "smri_area_cortdesikan_posteriorcingulaterh unique vals: 1035\n",
      "smri_area_cortdesikan_rostralanteriorcingulaterh unique vals: 682\n",
      "smri_area_cortdesikan_frontalpolerh unique vals: 283\n",
      "smri_area_cortdesikan_temporalpolerh unique vals: 323\n",
      "smri_area_cortdesikan_transversetemporalrh unique vals: 302\n",
      "smri_area_cortdesikan_insularh unique vals: 1156\n",
      "smri_vol_cortdesikan_frontalpolelh unique vals: 909\n",
      "smri_vol_cortdesikan_transversetemporallh unique vals: 1206\n",
      "smri_vol_cortdesikan_frontalpolerh unique vals: 1113\n",
      "smri_vol_cortdesikan_transversetemporalrh unique vals: 1000\n",
      "smri_vol_subcortaseg_wmhypointensitieslh unique vals: 1\n",
      "smri_vol_subcortaseg_wmhypointensitiesrh unique vals: 1\n",
      "\n",
      "\n",
      "Total valid overlapping subjects = 6763\n",
      "\n"
     ]
    }
   ],
   "source": [
    "ML.Load_Data(loc=[test_data_loc1, test_data_loc2],\n",
    "             dataset_type='explorer', #This is set as default, but how we would specify it if we wanted to change i\n",
    "             filter_outlier_percent=.0005, \n",
    "             winsorize_val=.001)   "
   ]
  },
  {
   "cell_type": "markdown",
   "metadata": {},
   "source": [
    "These seem okay settings."
   ]
  },
  {
   "cell_type": "markdown",
   "metadata": {},
   "source": [
    "Our data for this expiriment should now be loaded. We can check it out:"
   ]
  },
  {
   "cell_type": "code",
   "execution_count": 13,
   "metadata": {},
   "outputs": [
    {
     "data": {
      "text/html": [
       "<div>\n",
       "<style scoped>\n",
       "    .dataframe tbody tr th:only-of-type {\n",
       "        vertical-align: middle;\n",
       "    }\n",
       "\n",
       "    .dataframe tbody tr th {\n",
       "        vertical-align: top;\n",
       "    }\n",
       "\n",
       "    .dataframe thead th {\n",
       "        text-align: right;\n",
       "    }\n",
       "</style>\n",
       "<table border=\"1\" class=\"dataframe\">\n",
       "  <thead>\n",
       "    <tr style=\"text-align: right;\">\n",
       "      <th></th>\n",
       "      <th>smri_thick_cortdesikan_banksstslh</th>\n",
       "      <th>smri_thick_cortdesikan_caudalanteriorcingulatelh</th>\n",
       "      <th>smri_thick_cortdesikan_caudalmiddlefrontallh</th>\n",
       "      <th>smri_thick_cortdesikan_cuneuslh</th>\n",
       "      <th>smri_thick_cortdesikan_entorhinallh</th>\n",
       "      <th>smri_thick_cortdesikan_fusiformlh</th>\n",
       "      <th>smri_thick_cortdesikan_inferiorparietallh</th>\n",
       "      <th>smri_thick_cortdesikan_inferiortemporallh</th>\n",
       "      <th>smri_thick_cortdesikan_isthmuscingulatelh</th>\n",
       "      <th>smri_thick_cortdesikan_lateraloccipitallh</th>\n",
       "      <th>...</th>\n",
       "      <th>smri_t2w_subcortaseg_hippocampusrh</th>\n",
       "      <th>smri_t2w_subcortaseg_amygdalarh</th>\n",
       "      <th>smri_t2w_subcortaseg_accumbensarearh</th>\n",
       "      <th>smri_t2w_subcortaseg_ventraldcrh</th>\n",
       "      <th>smri_t2w_subcortaseg_wmhypointensities</th>\n",
       "      <th>smri_t2w_subcortaseg_ccposterior</th>\n",
       "      <th>smri_t2w_subcortaseg_ccmidposterior</th>\n",
       "      <th>smri_t2w_subcortaseg_cccentral</th>\n",
       "      <th>smri_t2w_subcortaseg_ccmidanterior</th>\n",
       "      <th>smri_t2w_subcortaseg_ccanterior</th>\n",
       "    </tr>\n",
       "    <tr>\n",
       "      <th>src_subject_id</th>\n",
       "      <th></th>\n",
       "      <th></th>\n",
       "      <th></th>\n",
       "      <th></th>\n",
       "      <th></th>\n",
       "      <th></th>\n",
       "      <th></th>\n",
       "      <th></th>\n",
       "      <th></th>\n",
       "      <th></th>\n",
       "      <th></th>\n",
       "      <th></th>\n",
       "      <th></th>\n",
       "      <th></th>\n",
       "      <th></th>\n",
       "      <th></th>\n",
       "      <th></th>\n",
       "      <th></th>\n",
       "      <th></th>\n",
       "      <th></th>\n",
       "      <th></th>\n",
       "    </tr>\n",
       "  </thead>\n",
       "  <tbody>\n",
       "    <tr>\n",
       "      <th>NDAR_INV00R4TXET</th>\n",
       "      <td>2.817</td>\n",
       "      <td>3.372</td>\n",
       "      <td>3.012</td>\n",
       "      <td>2.155</td>\n",
       "      <td>3.115</td>\n",
       "      <td>2.810</td>\n",
       "      <td>2.854</td>\n",
       "      <td>3.147</td>\n",
       "      <td>2.629</td>\n",
       "      <td>2.348</td>\n",
       "      <td>...</td>\n",
       "      <td>166.147666</td>\n",
       "      <td>171.143448</td>\n",
       "      <td>152.634040</td>\n",
       "      <td>115.660336</td>\n",
       "      <td>152.816743</td>\n",
       "      <td>106.990743</td>\n",
       "      <td>120.449265</td>\n",
       "      <td>117.044747</td>\n",
       "      <td>112.399884</td>\n",
       "      <td>109.441508</td>\n",
       "    </tr>\n",
       "    <tr>\n",
       "      <th>NDAR_INV00UMK5VC</th>\n",
       "      <td>2.685</td>\n",
       "      <td>2.666</td>\n",
       "      <td>2.895</td>\n",
       "      <td>1.987</td>\n",
       "      <td>3.107</td>\n",
       "      <td>2.947</td>\n",
       "      <td>2.887</td>\n",
       "      <td>3.256</td>\n",
       "      <td>2.434</td>\n",
       "      <td>2.350</td>\n",
       "      <td>...</td>\n",
       "      <td>170.350490</td>\n",
       "      <td>154.837096</td>\n",
       "      <td>133.076824</td>\n",
       "      <td>116.094815</td>\n",
       "      <td>147.913201</td>\n",
       "      <td>98.521998</td>\n",
       "      <td>131.900032</td>\n",
       "      <td>122.047120</td>\n",
       "      <td>102.673528</td>\n",
       "      <td>105.812915</td>\n",
       "    </tr>\n",
       "    <tr>\n",
       "      <th>NDAR_INV014RTM1V</th>\n",
       "      <td>2.783</td>\n",
       "      <td>2.999</td>\n",
       "      <td>2.956</td>\n",
       "      <td>2.030</td>\n",
       "      <td>3.170</td>\n",
       "      <td>2.940</td>\n",
       "      <td>2.718</td>\n",
       "      <td>3.014</td>\n",
       "      <td>2.444</td>\n",
       "      <td>2.266</td>\n",
       "      <td>...</td>\n",
       "      <td>166.764158</td>\n",
       "      <td>164.723606</td>\n",
       "      <td>163.940763</td>\n",
       "      <td>117.205626</td>\n",
       "      <td>211.238987</td>\n",
       "      <td>106.615366</td>\n",
       "      <td>125.595535</td>\n",
       "      <td>119.674263</td>\n",
       "      <td>116.918631</td>\n",
       "      <td>111.743396</td>\n",
       "    </tr>\n",
       "    <tr>\n",
       "      <th>NDAR_INV019DXLU4</th>\n",
       "      <td>2.944</td>\n",
       "      <td>3.078</td>\n",
       "      <td>2.931</td>\n",
       "      <td>2.166</td>\n",
       "      <td>3.459</td>\n",
       "      <td>2.980</td>\n",
       "      <td>2.785</td>\n",
       "      <td>3.080</td>\n",
       "      <td>2.677</td>\n",
       "      <td>2.360</td>\n",
       "      <td>...</td>\n",
       "      <td>159.890286</td>\n",
       "      <td>151.097159</td>\n",
       "      <td>145.289319</td>\n",
       "      <td>114.540321</td>\n",
       "      <td>140.991964</td>\n",
       "      <td>102.489477</td>\n",
       "      <td>110.442037</td>\n",
       "      <td>100.033514</td>\n",
       "      <td>102.737771</td>\n",
       "      <td>112.328037</td>\n",
       "    </tr>\n",
       "    <tr>\n",
       "      <th>NDAR_INV01ELX9L6</th>\n",
       "      <td>2.861</td>\n",
       "      <td>2.400</td>\n",
       "      <td>2.898</td>\n",
       "      <td>2.101</td>\n",
       "      <td>4.043</td>\n",
       "      <td>2.939</td>\n",
       "      <td>2.677</td>\n",
       "      <td>2.811</td>\n",
       "      <td>3.035</td>\n",
       "      <td>2.202</td>\n",
       "      <td>...</td>\n",
       "      <td>147.023012</td>\n",
       "      <td>148.368816</td>\n",
       "      <td>153.563722</td>\n",
       "      <td>112.275222</td>\n",
       "      <td>141.126298</td>\n",
       "      <td>102.607760</td>\n",
       "      <td>107.345429</td>\n",
       "      <td>103.728713</td>\n",
       "      <td>105.512885</td>\n",
       "      <td>106.459537</td>\n",
       "    </tr>\n",
       "  </tbody>\n",
       "</table>\n",
       "<p>5 rows × 1186 columns</p>\n",
       "</div>"
      ],
      "text/plain": [
       "                  smri_thick_cortdesikan_banksstslh  \\\n",
       "src_subject_id                                        \n",
       "NDAR_INV00R4TXET                              2.817   \n",
       "NDAR_INV00UMK5VC                              2.685   \n",
       "NDAR_INV014RTM1V                              2.783   \n",
       "NDAR_INV019DXLU4                              2.944   \n",
       "NDAR_INV01ELX9L6                              2.861   \n",
       "\n",
       "                  smri_thick_cortdesikan_caudalanteriorcingulatelh  \\\n",
       "src_subject_id                                                       \n",
       "NDAR_INV00R4TXET                                             3.372   \n",
       "NDAR_INV00UMK5VC                                             2.666   \n",
       "NDAR_INV014RTM1V                                             2.999   \n",
       "NDAR_INV019DXLU4                                             3.078   \n",
       "NDAR_INV01ELX9L6                                             2.400   \n",
       "\n",
       "                  smri_thick_cortdesikan_caudalmiddlefrontallh  \\\n",
       "src_subject_id                                                   \n",
       "NDAR_INV00R4TXET                                         3.012   \n",
       "NDAR_INV00UMK5VC                                         2.895   \n",
       "NDAR_INV014RTM1V                                         2.956   \n",
       "NDAR_INV019DXLU4                                         2.931   \n",
       "NDAR_INV01ELX9L6                                         2.898   \n",
       "\n",
       "                  smri_thick_cortdesikan_cuneuslh  \\\n",
       "src_subject_id                                      \n",
       "NDAR_INV00R4TXET                            2.155   \n",
       "NDAR_INV00UMK5VC                            1.987   \n",
       "NDAR_INV014RTM1V                            2.030   \n",
       "NDAR_INV019DXLU4                            2.166   \n",
       "NDAR_INV01ELX9L6                            2.101   \n",
       "\n",
       "                  smri_thick_cortdesikan_entorhinallh  \\\n",
       "src_subject_id                                          \n",
       "NDAR_INV00R4TXET                                3.115   \n",
       "NDAR_INV00UMK5VC                                3.107   \n",
       "NDAR_INV014RTM1V                                3.170   \n",
       "NDAR_INV019DXLU4                                3.459   \n",
       "NDAR_INV01ELX9L6                                4.043   \n",
       "\n",
       "                  smri_thick_cortdesikan_fusiformlh  \\\n",
       "src_subject_id                                        \n",
       "NDAR_INV00R4TXET                              2.810   \n",
       "NDAR_INV00UMK5VC                              2.947   \n",
       "NDAR_INV014RTM1V                              2.940   \n",
       "NDAR_INV019DXLU4                              2.980   \n",
       "NDAR_INV01ELX9L6                              2.939   \n",
       "\n",
       "                  smri_thick_cortdesikan_inferiorparietallh  \\\n",
       "src_subject_id                                                \n",
       "NDAR_INV00R4TXET                                      2.854   \n",
       "NDAR_INV00UMK5VC                                      2.887   \n",
       "NDAR_INV014RTM1V                                      2.718   \n",
       "NDAR_INV019DXLU4                                      2.785   \n",
       "NDAR_INV01ELX9L6                                      2.677   \n",
       "\n",
       "                  smri_thick_cortdesikan_inferiortemporallh  \\\n",
       "src_subject_id                                                \n",
       "NDAR_INV00R4TXET                                      3.147   \n",
       "NDAR_INV00UMK5VC                                      3.256   \n",
       "NDAR_INV014RTM1V                                      3.014   \n",
       "NDAR_INV019DXLU4                                      3.080   \n",
       "NDAR_INV01ELX9L6                                      2.811   \n",
       "\n",
       "                  smri_thick_cortdesikan_isthmuscingulatelh  \\\n",
       "src_subject_id                                                \n",
       "NDAR_INV00R4TXET                                      2.629   \n",
       "NDAR_INV00UMK5VC                                      2.434   \n",
       "NDAR_INV014RTM1V                                      2.444   \n",
       "NDAR_INV019DXLU4                                      2.677   \n",
       "NDAR_INV01ELX9L6                                      3.035   \n",
       "\n",
       "                  smri_thick_cortdesikan_lateraloccipitallh  ...  \\\n",
       "src_subject_id                                               ...   \n",
       "NDAR_INV00R4TXET                                      2.348  ...   \n",
       "NDAR_INV00UMK5VC                                      2.350  ...   \n",
       "NDAR_INV014RTM1V                                      2.266  ...   \n",
       "NDAR_INV019DXLU4                                      2.360  ...   \n",
       "NDAR_INV01ELX9L6                                      2.202  ...   \n",
       "\n",
       "                  smri_t2w_subcortaseg_hippocampusrh  \\\n",
       "src_subject_id                                         \n",
       "NDAR_INV00R4TXET                          166.147666   \n",
       "NDAR_INV00UMK5VC                          170.350490   \n",
       "NDAR_INV014RTM1V                          166.764158   \n",
       "NDAR_INV019DXLU4                          159.890286   \n",
       "NDAR_INV01ELX9L6                          147.023012   \n",
       "\n",
       "                  smri_t2w_subcortaseg_amygdalarh  \\\n",
       "src_subject_id                                      \n",
       "NDAR_INV00R4TXET                       171.143448   \n",
       "NDAR_INV00UMK5VC                       154.837096   \n",
       "NDAR_INV014RTM1V                       164.723606   \n",
       "NDAR_INV019DXLU4                       151.097159   \n",
       "NDAR_INV01ELX9L6                       148.368816   \n",
       "\n",
       "                  smri_t2w_subcortaseg_accumbensarearh  \\\n",
       "src_subject_id                                           \n",
       "NDAR_INV00R4TXET                            152.634040   \n",
       "NDAR_INV00UMK5VC                            133.076824   \n",
       "NDAR_INV014RTM1V                            163.940763   \n",
       "NDAR_INV019DXLU4                            145.289319   \n",
       "NDAR_INV01ELX9L6                            153.563722   \n",
       "\n",
       "                  smri_t2w_subcortaseg_ventraldcrh  \\\n",
       "src_subject_id                                       \n",
       "NDAR_INV00R4TXET                        115.660336   \n",
       "NDAR_INV00UMK5VC                        116.094815   \n",
       "NDAR_INV014RTM1V                        117.205626   \n",
       "NDAR_INV019DXLU4                        114.540321   \n",
       "NDAR_INV01ELX9L6                        112.275222   \n",
       "\n",
       "                  smri_t2w_subcortaseg_wmhypointensities  \\\n",
       "src_subject_id                                             \n",
       "NDAR_INV00R4TXET                              152.816743   \n",
       "NDAR_INV00UMK5VC                              147.913201   \n",
       "NDAR_INV014RTM1V                              211.238987   \n",
       "NDAR_INV019DXLU4                              140.991964   \n",
       "NDAR_INV01ELX9L6                              141.126298   \n",
       "\n",
       "                  smri_t2w_subcortaseg_ccposterior  \\\n",
       "src_subject_id                                       \n",
       "NDAR_INV00R4TXET                        106.990743   \n",
       "NDAR_INV00UMK5VC                         98.521998   \n",
       "NDAR_INV014RTM1V                        106.615366   \n",
       "NDAR_INV019DXLU4                        102.489477   \n",
       "NDAR_INV01ELX9L6                        102.607760   \n",
       "\n",
       "                  smri_t2w_subcortaseg_ccmidposterior  \\\n",
       "src_subject_id                                          \n",
       "NDAR_INV00R4TXET                           120.449265   \n",
       "NDAR_INV00UMK5VC                           131.900032   \n",
       "NDAR_INV014RTM1V                           125.595535   \n",
       "NDAR_INV019DXLU4                           110.442037   \n",
       "NDAR_INV01ELX9L6                           107.345429   \n",
       "\n",
       "                  smri_t2w_subcortaseg_cccentral  \\\n",
       "src_subject_id                                     \n",
       "NDAR_INV00R4TXET                      117.044747   \n",
       "NDAR_INV00UMK5VC                      122.047120   \n",
       "NDAR_INV014RTM1V                      119.674263   \n",
       "NDAR_INV019DXLU4                      100.033514   \n",
       "NDAR_INV01ELX9L6                      103.728713   \n",
       "\n",
       "                  smri_t2w_subcortaseg_ccmidanterior  \\\n",
       "src_subject_id                                         \n",
       "NDAR_INV00R4TXET                          112.399884   \n",
       "NDAR_INV00UMK5VC                          102.673528   \n",
       "NDAR_INV014RTM1V                          116.918631   \n",
       "NDAR_INV019DXLU4                          102.737771   \n",
       "NDAR_INV01ELX9L6                          105.512885   \n",
       "\n",
       "                  smri_t2w_subcortaseg_ccanterior  \n",
       "src_subject_id                                     \n",
       "NDAR_INV00R4TXET                       109.441508  \n",
       "NDAR_INV00UMK5VC                       105.812915  \n",
       "NDAR_INV014RTM1V                       111.743396  \n",
       "NDAR_INV019DXLU4                       112.328037  \n",
       "NDAR_INV01ELX9L6                       106.459537  \n",
       "\n",
       "[5 rows x 1186 columns]"
      ]
     },
     "execution_count": 13,
     "metadata": {},
     "output_type": "execute_result"
    }
   ],
   "source": [
    "ML.data.head()"
   ]
  },
  {
   "cell_type": "code",
   "execution_count": 14,
   "metadata": {},
   "outputs": [
    {
     "data": {
      "text/plain": [
       "(6763, 1186)"
      ]
     },
     "execution_count": 14,
     "metadata": {},
     "output_type": "execute_result"
    }
   ],
   "source": [
    "ML.data.shape"
   ]
  },
  {
   "cell_type": "markdown",
   "metadata": {},
   "source": [
    "Great. Now that data is loaded we still need to load targets, and can optionally load covars, strat and exclusions. Lets load our target first, and begin as before by checking out the loading function."
   ]
  },
  {
   "cell_type": "code",
   "execution_count": 15,
   "metadata": {},
   "outputs": [
    {
     "name": "stdout",
     "output_type": "stream",
     "text": [
      "Help on method Load_Targets in module ABCD_ML._Data:\n",
      "\n",
      "Load_Targets(loc, col_name, data_type, dataset_type='default', filter_outlier_percent=None) method of ABCD_ML.ABCD_ML.ABCD_ML instance\n",
      "    Loads in a set of subject ids and associated targets from a\n",
      "    2.0_ABCD_Data_Explorer release formatted csv.\n",
      "    See Notes for more info.\n",
      "    \n",
      "    Parameters\n",
      "    ----------\n",
      "    loc : str, Path or None\n",
      "        The location of the csv file to load targets load from.\n",
      "    \n",
      "    col_name : str\n",
      "        The name of the column to load.\n",
      "    \n",
      "    data_type : {'binary', 'categorical', 'ordinal', 'float'}\n",
      "        The data type of the targets column.\n",
      "        Shorthands for datatypes can be used as well\n",
      "    \n",
      "        - 'binary' or 'b' : Binary input\n",
      "        - 'categorical' or 'c' : Categorical input\n",
      "        - 'ordinal' or 'o' : Ordinal input\n",
      "        - 'float' or 'f' : Float numerical input\n",
      "    \n",
      "        Datatypes are explained further in Notes.\n",
      "    \n",
      "    dataset_type : {'default', 'basic', 'explorer', 'custom'}, optional\n",
      "        The type of file to load from.\n",
      "        Dataset types are,\n",
      "    \n",
      "        - 'default' : Use the class defined default dataset type,            if not set by the user this is 'basic'.\n",
      "        - 'basic' : ABCD2p0NDA style, (.txt and tab seperated)\n",
      "    \n",
      "        - 'explorer' : 2.0_ABCD_Data_Explorer style (.csv and comma seperated)\n",
      "    \n",
      "        - 'custom' : A user-defined custom dataset. Right now this is only            supported as a comma seperated file, with the subject names in a            column called self.subject_id.\n",
      "    \n",
      "        (default = 'default')\n",
      "    \n",
      "    filter_outlier_percent : float, tuple or None, optional\n",
      "        For float or ordinal datatypes only.\n",
      "        A percent of values to exclude from either end of the\n",
      "        target distribution, provided as either 1 number,\n",
      "        or a tuple (% from lower, % from higher).\n",
      "        set `filter_outlier_percent` to None for no filtering.\n",
      "    \n",
      "        (default = None).\n",
      "    \n",
      "    Notes\n",
      "    ----------\n",
      "    Targets can be either 'binary', 'categorical', 'ordinal' or 'float',\n",
      "    where ordinal and float are treated the same.\n",
      "    \n",
      "    - Binary : Targets are read in and label encoded to be 0 or 1,     Will also work if passed column of unique string also, e.g. 'M' and 'F'\n",
      "    \n",
      "    - Categorical : Targets are read in and by default one-hot encoded,        Note: This function is designed only to work with categorical targets        read in from one column!        Reading multiple targets from multiple places is not        supported as of now.\n",
      "    \n",
      "    - Ordinal and Float : Targets are read in as a floating point number,        and optionally then filtered for outliers with the        filter_outlier_percent flag.\n",
      "\n"
     ]
    }
   ],
   "source": [
    "help(ML.Load_Targets)"
   ]
  },
  {
   "cell_type": "markdown",
   "metadata": {},
   "source": [
    "Great, lets just load in sex as our target variable."
   ]
  },
  {
   "cell_type": "code",
   "execution_count": 16,
   "metadata": {},
   "outputs": [
    {
     "name": "stdout",
     "output_type": "stream",
     "text": [
      "Loading targets!\n",
      "Loading /mnt/sdb2/2.0_ABCD_Data_Explorer/2.0_NDA_Data/Mental Health/ABCD Parent Demographics Survey.csv assumed to be dataset type: explorer\n",
      "More than two unique score values found, filtered all but [1. 2.]\n",
      "Final shape:  (10737, 1)\n",
      "\n",
      "Total valid overlapping subjects = 6758\n",
      "\n"
     ]
    }
   ],
   "source": [
    "ML.Load_Targets(loc=test_target_loc,\n",
    "                col_name='demo_sex_v2',\n",
    "                data_type='b')"
   ]
  },
  {
   "cell_type": "markdown",
   "metadata": {},
   "source": [
    "If you read the verbose print out above, you'll notice that it says \"More than two unique score values found,filtered all but [1. 2.]\" This is because by default when a binary datatype is passed, the dataloader needs to make sure it loads in only two unique values. To solve this when there exists outliers, like in this case, all but the top two unique values by count will be dropped. It will further show which values it has kept, in the case that an error was made, but here 1 and 2 are the correct sex values. If more than two values are desired, the categorical data type should be used.\n",
    "\n",
    "Let's look and see to make sure everything was loaded correctly."
   ]
  },
  {
   "cell_type": "code",
   "execution_count": 17,
   "metadata": {},
   "outputs": [
    {
     "data": {
      "text/html": [
       "<div>\n",
       "<style scoped>\n",
       "    .dataframe tbody tr th:only-of-type {\n",
       "        vertical-align: middle;\n",
       "    }\n",
       "\n",
       "    .dataframe tbody tr th {\n",
       "        vertical-align: top;\n",
       "    }\n",
       "\n",
       "    .dataframe thead th {\n",
       "        text-align: right;\n",
       "    }\n",
       "</style>\n",
       "<table border=\"1\" class=\"dataframe\">\n",
       "  <thead>\n",
       "    <tr style=\"text-align: right;\">\n",
       "      <th></th>\n",
       "      <th>targets</th>\n",
       "    </tr>\n",
       "    <tr>\n",
       "      <th>src_subject_id</th>\n",
       "      <th></th>\n",
       "    </tr>\n",
       "  </thead>\n",
       "  <tbody>\n",
       "    <tr>\n",
       "      <th>NDAR_INV0A4ZDYNL</th>\n",
       "      <td>0</td>\n",
       "    </tr>\n",
       "    <tr>\n",
       "      <th>NDAR_INV0BKE31EY</th>\n",
       "      <td>0</td>\n",
       "    </tr>\n",
       "    <tr>\n",
       "      <th>NDAR_INV0CBFTKR7</th>\n",
       "      <td>0</td>\n",
       "    </tr>\n",
       "    <tr>\n",
       "      <th>NDAR_INV0CCEN5K2</th>\n",
       "      <td>0</td>\n",
       "    </tr>\n",
       "    <tr>\n",
       "      <th>NDAR_INV0DC9BJZK</th>\n",
       "      <td>0</td>\n",
       "    </tr>\n",
       "  </tbody>\n",
       "</table>\n",
       "</div>"
      ],
      "text/plain": [
       "                 targets\n",
       "src_subject_id          \n",
       "NDAR_INV0A4ZDYNL       0\n",
       "NDAR_INV0BKE31EY       0\n",
       "NDAR_INV0CBFTKR7       0\n",
       "NDAR_INV0CCEN5K2       0\n",
       "NDAR_INV0DC9BJZK       0"
      ]
     },
     "execution_count": 17,
     "metadata": {},
     "output_type": "execute_result"
    }
   ],
   "source": [
    "ML.targets.head()"
   ]
  },
  {
   "cell_type": "markdown",
   "metadata": {},
   "source": [
    "We can look into adding covars next. Where co-variates arn't quite treated as typical co-variates, but are values we would like to be able to pass as additional input to the ML model if desired (and input that is treated in a special way, specifically covar input won't be scaled with any data scaler by default). "
   ]
  },
  {
   "cell_type": "code",
   "execution_count": 18,
   "metadata": {},
   "outputs": [
    {
     "name": "stdout",
     "output_type": "stream",
     "text": [
      "Help on method Load_Covars in module ABCD_ML._Data:\n",
      "\n",
      "Load_Covars(loc, col_names, data_types, dataset_type='default', code_categorical_as='dummy', filter_float_outlier_percent=None, standardize=True, normalize=False) method of ABCD_ML.ABCD_ML.ABCD_ML instance\n",
      "    Load a covariate or covariates from a 2.0_ABCD_Data_Explorer\n",
      "    release formatted csv.\n",
      "    \n",
      "    Parameters\n",
      "    ----------\n",
      "    loc : str, Path or None\n",
      "        The location of the csv file to load co-variates load from.\n",
      "    \n",
      "    col_names : str or list\n",
      "        The name(s) of the column(s) to load.\n",
      "    \n",
      "        Note: Must be in the same order as data types passed in.\n",
      "    \n",
      "    data_types : {'binary', 'categorical', 'ordinal', 'float'} or list of\n",
      "        The data types of the different columns to load,\n",
      "        in the same order as the column names passed in.\n",
      "        Shorthands for datatypes can be used as well\n",
      "    \n",
      "        - 'binary' or 'b' : Binary input\n",
      "        - 'categorical' or 'c' : Categorical input\n",
      "        - 'ordinal' or 'o' : Ordinal input\n",
      "        - 'float' or 'f' : Float numerical input\n",
      "    \n",
      "    dataset_type : {'default', 'basic', 'explorer', 'custom'}, optional\n",
      "        The type of file to load from.\n",
      "        Dataset types are,\n",
      "    \n",
      "        - 'default' : Use the class defined default dataset type,            if not set by the user this is 'basic'.\n",
      "    \n",
      "        - 'basic' : ABCD2p0NDA style (.txt and tab seperated)\n",
      "    \n",
      "        - 'explorer' : 2.0_ABCD_Data_Explorer style (.csv and comma seperated)\n",
      "    \n",
      "        - 'custom' : A user-defined custom dataset. Right now this is only            supported as a comma seperated file, with the subject names in a            column called self.subject_id.\n",
      "    \n",
      "        (default = 'default')\n",
      "    \n",
      "    code_categorical_as: {'dummy', 'one hot', 'ordinal'}\n",
      "        How to code categorical data,\n",
      "    \n",
      "        - 'dummy' : perform dummy coding, to len(unique classes)-1 columns\n",
      "    \n",
      "        - 'one hot' : for one hot encoding, to len(unique classes) columns\n",
      "    \n",
      "        - 'ordinal' : for just ordinal, one column values 0 to             len(unique classes) -1\n",
      "    \n",
      "        (default = 'dummy')\n",
      "    \n",
      "    filter_float_outlier_percent, float, int, tuple or None, optional\n",
      "        For float datatypes only.\n",
      "        A percent of values to exclude from either end of the\n",
      "        targets distribution, provided as either 1 number,\n",
      "        or a tuple (% from lower, % from higher).\n",
      "        set `filter_float_outlier_percent` to None for no filtering.\n",
      "    \n",
      "        (default = None)\n",
      "    \n",
      "    standardize : bool, optional\n",
      "        If True, scales any float/ordinal covariate loaded to have\n",
      "        a mean of 0 and std of 1.\n",
      "    \n",
      "        Note: Computed before normalization, if both set to True,\n",
      "        and both computed after filter_float_outlier_percent.\n",
      "    \n",
      "        (default = True)\n",
      "    \n",
      "    normalize : bool, optional\n",
      "        If True, scales any float/ordinal covariates loaded\n",
      "        to be between 0 and 1.\n",
      "    \n",
      "        Note: Computed after standardization, if both set to True.\n",
      "    \n",
      "        (default = False)\n",
      "\n"
     ]
    }
   ],
   "source": [
    "help(ML.Load_Covars)"
   ]
  },
  {
   "cell_type": "code",
   "execution_count": 19,
   "metadata": {},
   "outputs": [
    {
     "name": "stdout",
     "output_type": "stream",
     "text": [
      "Loading covariates!\n",
      "Loading /mnt/sdb2/2.0_ABCD_Data_Explorer/2.0_NDA_Data/Mental Health/ABCD Parent Demographics Survey.csv assumed to be dataset type: explorer\n",
      "load: demo_ed_v2\n",
      "\n",
      "Total valid overlapping subjects = 6758\n",
      "\n"
     ]
    }
   ],
   "source": [
    "ML.Load_Covars(loc=test_target_loc,\n",
    "               col_names = 'demo_ed_v2',\n",
    "               data_types = 'o',\n",
    "               standardize = False,\n",
    "               normalize = False) "
   ]
  },
  {
   "cell_type": "markdown",
   "metadata": {},
   "source": [
    "And check to see it was loaded correctly (and normalized)"
   ]
  },
  {
   "cell_type": "code",
   "execution_count": 20,
   "metadata": {},
   "outputs": [
    {
     "data": {
      "text/html": [
       "<div>\n",
       "<style scoped>\n",
       "    .dataframe tbody tr th:only-of-type {\n",
       "        vertical-align: middle;\n",
       "    }\n",
       "\n",
       "    .dataframe tbody tr th {\n",
       "        vertical-align: top;\n",
       "    }\n",
       "\n",
       "    .dataframe thead th {\n",
       "        text-align: right;\n",
       "    }\n",
       "</style>\n",
       "<table border=\"1\" class=\"dataframe\">\n",
       "  <thead>\n",
       "    <tr style=\"text-align: right;\">\n",
       "      <th></th>\n",
       "      <th>demo_ed_v2</th>\n",
       "    </tr>\n",
       "    <tr>\n",
       "      <th>src_subject_id</th>\n",
       "      <th></th>\n",
       "    </tr>\n",
       "  </thead>\n",
       "  <tbody>\n",
       "    <tr>\n",
       "      <th>NDAR_INV0A4ZDYNL</th>\n",
       "      <td>5.0</td>\n",
       "    </tr>\n",
       "    <tr>\n",
       "      <th>NDAR_INV0BKE31EY</th>\n",
       "      <td>3.0</td>\n",
       "    </tr>\n",
       "    <tr>\n",
       "      <th>NDAR_INV0CBFTKR7</th>\n",
       "      <td>5.0</td>\n",
       "    </tr>\n",
       "    <tr>\n",
       "      <th>NDAR_INV0CCEN5K2</th>\n",
       "      <td>3.0</td>\n",
       "    </tr>\n",
       "    <tr>\n",
       "      <th>NDAR_INV0DC9BJZK</th>\n",
       "      <td>6.0</td>\n",
       "    </tr>\n",
       "  </tbody>\n",
       "</table>\n",
       "</div>"
      ],
      "text/plain": [
       "                  demo_ed_v2\n",
       "src_subject_id              \n",
       "NDAR_INV0A4ZDYNL         5.0\n",
       "NDAR_INV0BKE31EY         3.0\n",
       "NDAR_INV0CBFTKR7         5.0\n",
       "NDAR_INV0CCEN5K2         3.0\n",
       "NDAR_INV0DC9BJZK         6.0"
      ]
     },
     "execution_count": 20,
     "metadata": {},
     "output_type": "execute_result"
    }
   ],
   "source": [
    "ML.covars.head()"
   ]
  },
  {
   "cell_type": "markdown",
   "metadata": {},
   "source": [
    "Lastly, we will considering loading different stratification values. These are the values that we can optionally define custom validation / split behavior on. Within this example, we are just going to make sure that all splits preserve subjects with the same family id within the same fold, so lets load family id - after looking as the help function."
   ]
  },
  {
   "cell_type": "code",
   "execution_count": 21,
   "metadata": {},
   "outputs": [
    {
     "name": "stdout",
     "output_type": "stream",
     "text": [
      "Help on method Load_Strat in module ABCD_ML._Data:\n",
      "\n",
      "Load_Strat(loc, col_names, dataset_type='default', binary_col_inds=None) method of ABCD_ML.ABCD_ML.ABCD_ML instance\n",
      "    Load stratification values from a file.\n",
      "    See Notes for more details on what stratification values are.\n",
      "    \n",
      "    Parameters\n",
      "    ----------\n",
      "    loc : str, Path or None\n",
      "        The location of the csv file to load stratification vals from.\n",
      "    \n",
      "    col_names : str or list\n",
      "        The name(s) of the column(s) to load.\n",
      "    \n",
      "    dataset_type : {'default', 'basic', 'explorer', 'custom'}, optional\n",
      "        The type of file to load from.\n",
      "        Dataset types are,\n",
      "    \n",
      "        - 'default' : Use the class defined default dataset type,            if not set by the user this is 'basic'.\n",
      "    \n",
      "        - 'basic' : ABCD2p0NDA style (.txt and tab seperated)\n",
      "    \n",
      "        - 'explorer' : 2.0_ABCD_Data_Explorer style (.csv and comma seperated)\n",
      "    \n",
      "        - 'custom' : A user-defined custom dataset. Right now this is only            supported as a comma seperated file, with the subject names in a            column called self.subject_id.\n",
      "    \n",
      "        (default = 'default')\n",
      "    \n",
      "    binary_col_inds : int, list or None, optional\n",
      "        Strat values are loaded as ordinal categorical, but there still\n",
      "        exists the case where the user would like to load a binary set of\n",
      "        values, and would like to ensure they are binary (filtering out\n",
      "        all values but the top 2 most frequent). This input should be\n",
      "        either None, for just loading in all cols as ordinal,\n",
      "        or an int or list of ints, where each int refers to the\n",
      "        numerical index within the passed `col_names` of a column\n",
      "        which should be loaded explicitly as binary.\n",
      "    \n",
      "        (default = None)\n",
      "    \n",
      "    Notes\n",
      "    ----------\n",
      "    Stratification values are categorical variables which are loaded for the\n",
      "    purpose of defining custom validation behavior.\n",
      "    \n",
      "    For example: Sex might be loaded here, and used later to ensure\n",
      "    that any validation splits retain the same distribution of each sex.\n",
      "    \n",
      "    There is a reason strat is loaded after data, covars and targets,\n",
      "    If you re-load any of them for whatever reason, after strat is already\n",
      "    loaded, it could potentially lead to weird bugs.\n",
      "    The easiest option is to just load strat last.\n",
      "\n"
     ]
    }
   ],
   "source": [
    "help(ML.Load_Strat)"
   ]
  },
  {
   "cell_type": "code",
   "execution_count": 22,
   "metadata": {},
   "outputs": [
    {
     "name": "stdout",
     "output_type": "stream",
     "text": [
      "Reading strat/stratification values!\n",
      "Loading /mnt/sdb2/2.0_ABCD_Data_Explorer/2.0_NDA_Data/Other Non-Imaging/ABCD ACS Post Stratification Weights.csv assumed to be dataset type: explorer\n",
      "\n",
      "Total valid overlapping subjects = 6756\n",
      "\n",
      "Removing non overlapping subjects\n"
     ]
    }
   ],
   "source": [
    "ML.Load_Strat(loc=test_strat_loc,\n",
    "              col_names='rel_family_id')"
   ]
  },
  {
   "cell_type": "code",
   "execution_count": 23,
   "metadata": {},
   "outputs": [
    {
     "data": {
      "text/html": [
       "<div>\n",
       "<style scoped>\n",
       "    .dataframe tbody tr th:only-of-type {\n",
       "        vertical-align: middle;\n",
       "    }\n",
       "\n",
       "    .dataframe tbody tr th {\n",
       "        vertical-align: top;\n",
       "    }\n",
       "\n",
       "    .dataframe thead th {\n",
       "        text-align: right;\n",
       "    }\n",
       "</style>\n",
       "<table border=\"1\" class=\"dataframe\">\n",
       "  <thead>\n",
       "    <tr style=\"text-align: right;\">\n",
       "      <th></th>\n",
       "      <th>rel_family_id</th>\n",
       "    </tr>\n",
       "    <tr>\n",
       "      <th>src_subject_id</th>\n",
       "      <th></th>\n",
       "    </tr>\n",
       "  </thead>\n",
       "  <tbody>\n",
       "    <tr>\n",
       "      <th>NDAR_INV9EVRB30H</th>\n",
       "      <td>80</td>\n",
       "    </tr>\n",
       "    <tr>\n",
       "      <th>NDAR_INVZVD13ZMG</th>\n",
       "      <td>7510</td>\n",
       "    </tr>\n",
       "    <tr>\n",
       "      <th>NDAR_INVDTHBFTNZ</th>\n",
       "      <td>1659</td>\n",
       "    </tr>\n",
       "    <tr>\n",
       "      <th>NDAR_INVLPY5VAXY</th>\n",
       "      <td>1281</td>\n",
       "    </tr>\n",
       "    <tr>\n",
       "      <th>NDAR_INVFL02R0H4</th>\n",
       "      <td>8156</td>\n",
       "    </tr>\n",
       "  </tbody>\n",
       "</table>\n",
       "</div>"
      ],
      "text/plain": [
       "                 rel_family_id\n",
       "src_subject_id                \n",
       "NDAR_INV9EVRB30H            80\n",
       "NDAR_INVZVD13ZMG          7510\n",
       "NDAR_INVDTHBFTNZ          1659\n",
       "NDAR_INVLPY5VAXY          1281\n",
       "NDAR_INVFL02R0H4          8156"
      ]
     },
     "execution_count": 23,
     "metadata": {},
     "output_type": "execute_result"
    }
   ],
   "source": [
    "ML.strat.head()"
   ]
  },
  {
   "cell_type": "markdown",
   "metadata": {},
   "source": [
    "Great, we now have our data, targets, covars, strat and exclusions loaded (Noting that the minimum requiriments for running an ML expiriment are just data or covars and targets, the rest being optional). The actual length of the script is also not as terrible as it seems, and once loading behavior is confirmed, verbose can even be turned off. To show this, we can re-load everything as above with verbose off. (Commented out, but you get the idea~)"
   ]
  },
  {
   "cell_type": "code",
   "execution_count": 24,
   "metadata": {},
   "outputs": [],
   "source": [
    "#ML = ABCD_ML.ABCD_ML(verbose = False) # Reloading the ML object itself to reset everything.\n",
    "\n",
    "#ML.Load_Exclusions(loc=test_exclusion_loc)\n",
    "\n",
    "#ML.Load_Name_Map(loc = test_mapping_loc,\n",
    "#                 source_name_col = \"NDAR name\",\n",
    "#                 target_name_col = \"REDCap name/NDA alias\")\n",
    "\n",
    "#ML.Load_Data(loc=[test_data_loc1, test_data_loc2],\n",
    "#             dataset_type='explorer',\n",
    "#             filter_outlier_percent=.0005, \n",
    "#             winsorize_val=.01)\n",
    "\n",
    "#ML.Load_Targets(loc=test_target_loc,\n",
    "#                col_name='demo_sex_v2',\n",
    "#                data_type='b')\n",
    "\n",
    "#ML.Load_Covars(loc=test_target_loc,\n",
    "#               col_names = 'demo_ed_v2',\n",
    "#               data_types = 'ordinal',\n",
    "#               standardize = False,\n",
    "#               normalize = True)\n",
    "\n",
    "#ML.Load_Strat(loc=test_strat_loc,\n",
    "#              col_names='rel_family_id')\n",
    "\n",
    "#ML.verbose = True"
   ]
  },
  {
   "cell_type": "code",
   "execution_count": null,
   "metadata": {},
   "outputs": [],
   "source": []
  },
  {
   "cell_type": "markdown",
   "metadata": {},
   "source": [
    "# Validation Phase"
   ]
  },
  {
   "cell_type": "markdown",
   "metadata": {},
   "source": [
    "Lets move onto defining our validation stratagy (which is again optional, but as stated before for this example we are going to preserve family ids within the same folds), if no explicit validation strategy is defined, then random splits will be used."
   ]
  },
  {
   "cell_type": "code",
   "execution_count": 25,
   "metadata": {},
   "outputs": [
    {
     "name": "stdout",
     "output_type": "stream",
     "text": [
      "Help on method Define_Validation_Strategy in module ABCD_ML.ABCD_ML:\n",
      "\n",
      "Define_Validation_Strategy(groups=None, stratify=None) method of ABCD_ML.ABCD_ML.ABCD_ML instance\n",
      "    Define a validation stratagy to be used during different train/test splits,\n",
      "    in addition to model selection and model hyperparameter CV.\n",
      "    See Notes for more info.\n",
      "    \n",
      "    Parameters\n",
      "    ----------\n",
      "    groups : str, list or None, optional\n",
      "        In the case of str input, will assume the str to refer\n",
      "        to a column key within the loaded strat data,\n",
      "        and will assign it as a value to preserve groups by\n",
      "        during any train/test or K-fold splits.\n",
      "        If a list is passed, then each element should be a str,\n",
      "        and they will be combined into all unique\n",
      "        combinations of the elements of the list.\n",
      "    \n",
      "        (default = None)\n",
      "    \n",
      "    stratify : str, list or None, optional\n",
      "        In the case of str input, will assume the str to refer\n",
      "        to a column key within the loaded strat data,\n",
      "        and will assign it as a value to preserve\n",
      "        distribution of groups by during any train/test or K-fold splits.\n",
      "        'targets' or whatever the value of self.original_targets_key,\n",
      "        (self.original_targets_key can just be passed).\n",
      "        Warning: Passing self.targets_key can lead to error\n",
      "        specifically when self.targets_key is a list.\n",
      "        can also be passed in the case of binary/categorical problems.\n",
      "        If a list is passed, then each element should be a str,\n",
      "        and they will be combined into all unique combinations of\n",
      "        the elements of the list.\n",
      "    \n",
      "        (default = None)\n",
      "    \n",
      "    Notes\n",
      "    ----------\n",
      "    Validation stratagy choices are explained in more detail:\n",
      "    \n",
      "    - Random : Just make validation splits randomly.\n",
      "    \n",
      "    - Group Preserving : Make splits that ensure subjects that are                part of specific group are all within the same fold                e.g., split by family, so that people with the same family id                are always a part of the same fold.\n",
      "    \n",
      "    - Stratifying : Make splits such that the distribution of a given                 group is as equally split between two folds as possible,                 so simmilar to matched halves or                 e.g., in a binary or categorical predictive context,                 splits could be done to ensure roughly equal distribution                 of the dependent class.\n",
      "    \n",
      "    For now, it is possible to define only one overarching stratagy\n",
      "    (One could imagine combining group preserving splits\n",
      "    while also trying to stratify for class,\n",
      "    but the logistics become more complicated).\n",
      "    Though, within one strategy it is certainly possible to\n",
      "    provide multiple values\n",
      "    e.g., for stratification you can stratify by target\n",
      "    (the dependent variable to be predicted)\n",
      "    as well as say sex, though with addition of unique value,\n",
      "    the size of the smallest unique group decreases.\n",
      "\n"
     ]
    }
   ],
   "source": [
    "help(ML.Define_Validation_Strategy)"
   ]
  },
  {
   "cell_type": "markdown",
   "metadata": {},
   "source": [
    "So for group preserving behavior, as we are interested in keep families within the same folds, we supply an argument for groups. Specifically, we use the name of the column loaded within self.strat"
   ]
  },
  {
   "cell_type": "code",
   "execution_count": 26,
   "metadata": {},
   "outputs": [
    {
     "name": "stdout",
     "output_type": "stream",
     "text": [
      "CV defined with group preserving behavior, over 6107 unique values.\n"
     ]
    }
   ],
   "source": [
    "ML.Define_Validation_Strategy(groups='rel_family_id')"
   ]
  },
  {
   "cell_type": "markdown",
   "metadata": {},
   "source": [
    "Lastly before we get to modelling, we want to define a global train-test split, so that we can perform model exploration, and parameter tuning ect... on a training set, and leave a left-out testing set to eventually test with out final selected model."
   ]
  },
  {
   "cell_type": "code",
   "execution_count": 27,
   "metadata": {},
   "outputs": [
    {
     "name": "stdout",
     "output_type": "stream",
     "text": [
      "Help on method Train_Test_Split in module ABCD_ML.ABCD_ML:\n",
      "\n",
      "Train_Test_Split(test_size=None, test_loc=None, test_subjects=None, random_state=None) method of ABCD_ML.ABCD_ML.ABCD_ML instance\n",
      "    Define the overarching train / test split, *highly reccomended*.\n",
      "    \n",
      "    Parameters\n",
      "    ----------\n",
      "    test_size : float, int or None, optional\n",
      "        If float, should be between 0.0 and 1.0 and represent\n",
      "        the proportion of the dataset to be included in the test split.\n",
      "        If int, represents the absolute number (or target number) to\n",
      "        include in the testing group.\n",
      "        Set to None if using test_loc or test_subjects.\n",
      "    \n",
      "        (default = None)\n",
      "    \n",
      "    test_loc : str, Path or None, optional\n",
      "        Location of a file to load in test subjects from.\n",
      "        The file should be formatted as one subject per line.\n",
      "    \n",
      "        (default = None)\n",
      "    \n",
      "    test_subjects : list, set, array-like or None, optional\n",
      "        An explicit list of subjects to constitute the testing set\n",
      "    \n",
      "        (default = None)\n",
      "    \n",
      "    random_state : int None or 'default', optional\n",
      "        If using test_size, then can optionally provide a random state, in\n",
      "        order to be able to recreate an exact test set.\n",
      "        If set to default, will use the value saved in self.random_state\n",
      "    \n",
      "        (default = 'default')\n",
      "\n"
     ]
    }
   ],
   "source": [
    "help(ML.Train_Test_Split)"
   ]
  },
  {
   "cell_type": "code",
   "execution_count": 28,
   "metadata": {},
   "outputs": [
    {
     "name": "stdout",
     "output_type": "stream",
     "text": [
      "Final data (w/ target) for modeling loaded shape: (6756, 1188)\n",
      "Performed train/test split, train size: 5073 test size:  1683\n"
     ]
    }
   ],
   "source": [
    "ML.Train_Test_Split(test_size=.25, #Let be somewhat conservative, and use a size of .25\n",
    "                    random_state=1)"
   ]
  },
  {
   "cell_type": "markdown",
   "metadata": {},
   "source": [
    "Great - and because we set the validation stratagy to preserve family structure within the folds, we know that no family id is in both the train and test set - for the paranoid we can make sure of this."
   ]
  },
  {
   "cell_type": "code",
   "execution_count": 29,
   "metadata": {},
   "outputs": [
    {
     "name": "stdout",
     "output_type": "stream",
     "text": [
      "Unique family ids in train:  4580\n",
      "Unique family ids in test:  1527\n",
      "Overlap :  0\n"
     ]
    }
   ],
   "source": [
    "train_ids = set(ML.strat['rel_family_id'].loc[ML.train_subjects])\n",
    "test_ids = set(ML.strat['rel_family_id'].loc[ML.test_subjects])\n",
    "\n",
    "print('Unique family ids in train: ', len(train_ids))\n",
    "print('Unique family ids in test: ', len(test_ids))\n",
    "print('Overlap : ', len(train_ids.intersection(test_ids)))"
   ]
  },
  {
   "cell_type": "markdown",
   "metadata": {},
   "source": [
    "# Modeling Phase"
   ]
  },
  {
   "cell_type": "markdown",
   "metadata": {},
   "source": [
    "Now we can proceed to modeling.\n",
    "\n",
    "The main function we use here is Evaluate, we can look at its docstring, but from a very high level, this is the function we use to test different expirimental setups."
   ]
  },
  {
   "cell_type": "code",
   "execution_count": 30,
   "metadata": {},
   "outputs": [],
   "source": [
    "#help(ML.Evaluate)"
   ]
  },
  {
   "cell_type": "markdown",
   "metadata": {},
   "source": [
    "Lets check what different model types we have avaliable for binary first."
   ]
  },
  {
   "cell_type": "code",
   "execution_count": 31,
   "metadata": {},
   "outputs": [],
   "source": [
    "#ML.Show_Model_Types(problem_type='binary')"
   ]
  },
  {
   "cell_type": "markdown",
   "metadata": {},
   "source": [
    "We can also look at different metrics avaliable for binary classification, and different data scalers."
   ]
  },
  {
   "cell_type": "code",
   "execution_count": 32,
   "metadata": {},
   "outputs": [],
   "source": [
    "#ML.Show_Metrics(problem_type='binary')"
   ]
  },
  {
   "cell_type": "code",
   "execution_count": 33,
   "metadata": {},
   "outputs": [],
   "source": [
    "#ML.Show_Data_Scalers(show_scaler_help=False, show_default_params=True)"
   ]
  },
  {
   "cell_type": "markdown",
   "metadata": {},
   "source": [
    "We can also set some default ML params for some of the settings that we will be keeping the same."
   ]
  },
  {
   "cell_type": "code",
   "execution_count": 34,
   "metadata": {},
   "outputs": [],
   "source": [
    "#help(ML.Set_Default_ML_Params)"
   ]
  },
  {
   "cell_type": "markdown",
   "metadata": {},
   "source": [
    "The parameters are mostly the same for setting default params as they are passed to Evaluate or Test. Importantly, by defining defaults, we define the value to be used if no value is passed to a given argument in Evaluate or Test.\n",
    "Lets set some."
   ]
  },
  {
   "cell_type": "code",
   "execution_count": 35,
   "metadata": {},
   "outputs": [
    {
     "name": "stdout",
     "output_type": "stream",
     "text": [
      "No default sampler passed, set to None\n",
      "No default feat selector passed, set to None\n",
      "No default search type passed, set to None\n",
      "No default data scaler param ind passed, set to 0\n",
      "No default sampler param ind passed, set to 0\n",
      "No default feat selector param ind passed, set to 0\n",
      "No default extra params passed, set to empty dict\n",
      "Default params set.\n",
      "\n"
     ]
    }
   ],
   "source": [
    "ML.Set_Default_ML_Params(problem_type = 'binary', #This will be staying the same\n",
    "                         metric = ['macro roc auc', 'f1', 'accuracy'], #Lets set a few\n",
    "                         data_scaler = 'standard', #Standard scaling is fine, but this can also be a list\n",
    "                         n_splits = 2, #For the sake of quick run-time and this example 2 splits, no repeats\n",
    "                         n_repeats = 1,\n",
    "                         int_cv = 3,\n",
    "                         class_weight = 'balanced', \n",
    "                         n_jobs = 8,\n",
    "                         n_iter = 8,\n",
    "                         random_state = 1)"
   ]
  },
  {
   "cell_type": "markdown",
   "metadata": {},
   "source": [
    "Now that we have some default ML params set, all we need to do to run an evaluation is simply:"
   ]
  },
  {
   "cell_type": "code",
   "execution_count": 49,
   "metadata": {},
   "outputs": [
    {
     "name": "stdout",
     "output_type": "stream",
     "text": [
      "Running Evaluate with:\n",
      "model_type = rf\n",
      "problem_type = binary\n",
      "metric = ['macro roc auc', 'f1', 'accuracy']\n",
      "data_scaler = standard\n",
      "sampler = smote\n",
      "feat_selector = None\n",
      "n_splits = 2\n",
      "n_repeats = 2\n",
      "int_cv = 3\n",
      "ensemble_type = basic ensemble\n",
      "ensemble_split = 0.2\n",
      "search_type = None\n",
      "model_type_param_ind = 0\n",
      "data_scaler_param_ind = 0\n",
      "sampler_param_ind = 0\n",
      "feat_selector_param_ind = 0\n",
      "class_weight = balanced\n",
      "n_jobs = 8\n",
      "n_iter = 8\n",
      "random_state = 1\n",
      "extra_params = {}\n",
      "\n",
      "\n",
      "Metric:  macro roc auc\n",
      "Mean score:  0.8079676220718944\n",
      "Macro std in score:  0.0008163884624737827\n",
      "Micro std in score:  0.011657167107647257\n",
      "\n",
      "Metric:  f1\n",
      "Mean score:  0.7310797153129989\n",
      "Macro std in score:  0.0023523657798844577\n",
      "Micro std in score:  0.01723231490842776\n",
      "\n",
      "Metric:  accuracy\n",
      "Mean score:  0.7374207921875688\n",
      "Macro std in score:  0.0010175070168443878\n",
      "Micro std in score:  0.010132696276645895\n",
      "\n"
     ]
    }
   ],
   "source": [
    "raw_scores = ML.Evaluate(model_type='rf',\n",
    "                         sampler='smote',\n",
    "                         ensemble_type = 'basic ensemble',\n",
    "                         ensemble_split = .2,\n",
    "                         n_repeats=2)"
   ]
  },
  {
   "cell_type": "code",
   "execution_count": 70,
   "metadata": {},
   "outputs": [],
   "source": [
    "import numpy as np\n",
    "import shap\n",
    "\n",
    "mean_shap_values = np.mean([np.array(ML.Model.shap_dfs[0]), np.array(ML.Model.shap_dfs[1])], axis=0)"
   ]
  },
  {
   "cell_type": "code",
   "execution_count": 71,
   "metadata": {},
   "outputs": [],
   "source": [
    "train_data = ML.all_data.loc[ML.train_subjects].reindex(ML.Model.shap_dfs[1].index).drop(ML.targets_key, axis=1)\n"
   ]
  },
  {
   "cell_type": "code",
   "execution_count": 72,
   "metadata": {},
   "outputs": [
    {
     "data": {
      "image/png": "[encoded data removed]",
      "text/plain": [
       "<Figure size 576x684 with 1 Axes>"
      ]
     },
     "metadata": {
      "needs_background": "light"
     },
     "output_type": "display_data"
    }
   ],
   "source": [
    "shap.summary_plot(mean_shap_values, train_data, plot_type=\"bar\")"
   ]
  },
  {
   "cell_type": "code",
   "execution_count": null,
   "metadata": {},
   "outputs": [],
   "source": []
  },
  {
   "cell_type": "code",
   "execution_count": null,
   "metadata": {},
   "outputs": [],
   "source": []
  },
  {
   "cell_type": "code",
   "execution_count": null,
   "metadata": {},
   "outputs": [],
   "source": []
  },
  {
   "cell_type": "code",
   "execution_count": 38,
   "metadata": {},
   "outputs": [
    {
     "name": "stdout",
     "output_type": "stream",
     "text": [
      "Running Evaluate with:\n",
      "model_type = linear\n",
      "problem_type = binary\n",
      "metric = ['macro roc auc', 'f1', 'accuracy']\n",
      "data_scaler = standard\n",
      "sampler = None\n",
      "feat_selector = None\n",
      "n_splits = 2\n",
      "n_repeats = 1\n",
      "int_cv = 3\n",
      "ensemble_type = basic ensemble\n",
      "ensemble_split = 0.2\n",
      "search_type = None\n",
      "model_type_param_ind = 0\n",
      "data_scaler_param_ind = 0\n",
      "sampler_param_ind = 0\n",
      "feat_selector_param_ind = 0\n",
      "class_weight = balanced\n",
      "n_jobs = 8\n",
      "n_iter = 8\n",
      "random_state = 1\n",
      "extra_params = {}\n",
      "\n"
     ]
    },
    {
     "ename": "KeyboardInterrupt",
     "evalue": "",
     "output_type": "error",
     "traceback": [
      "\u001b[0;31m---------------------------------------------------------------------------\u001b[0m",
      "\u001b[0;31mKeyboardInterrupt\u001b[0m                         Traceback (most recent call last)",
      "\u001b[0;32m<ipython-input-38-bbc98db57a84>\u001b[0m in \u001b[0;36m<module>\u001b[0;34m\u001b[0m\n\u001b[0;32m----> 1\u001b[0;31m \u001b[0mraw_scores\u001b[0m \u001b[0;34m=\u001b[0m \u001b[0mML\u001b[0m\u001b[0;34m.\u001b[0m\u001b[0mEvaluate\u001b[0m\u001b[0;34m(\u001b[0m\u001b[0mmodel_type\u001b[0m\u001b[0;34m=\u001b[0m\u001b[0;34m'linear'\u001b[0m\u001b[0;34m)\u001b[0m\u001b[0;34m\u001b[0m\u001b[0;34m\u001b[0m\u001b[0m\n\u001b[0m",
      "\u001b[0;32m~/anaconda3/lib/python3.6/site-packages/ABCD_ML/_ML.py\u001b[0m in \u001b[0;36mEvaluate\u001b[0;34m(self, model_type, problem_type, metric, data_scaler, sampler, feat_selector, n_splits, n_repeats, int_cv, ensemble_type, ensemble_split, search_type, model_type_param_ind, data_scaler_param_ind, sampler_param_ind, feat_selector_param_ind, class_weight, n_jobs, n_iter, random_state, extra_params)\u001b[0m\n\u001b[1;32m    722\u001b[0m \u001b[0;34m\u001b[0m\u001b[0m\n\u001b[1;32m    723\u001b[0m     \u001b[0;31m# Evaluate the model\u001b[0m\u001b[0;34m\u001b[0m\u001b[0;34m\u001b[0m\u001b[0;34m\u001b[0m\u001b[0m\n\u001b[0;32m--> 724\u001b[0;31m     \u001b[0mscores\u001b[0m \u001b[0;34m=\u001b[0m \u001b[0mself\u001b[0m\u001b[0;34m.\u001b[0m\u001b[0mModel\u001b[0m\u001b[0;34m.\u001b[0m\u001b[0mEvaluate_Model\u001b[0m\u001b[0;34m(\u001b[0m\u001b[0mself\u001b[0m\u001b[0;34m.\u001b[0m\u001b[0mall_data\u001b[0m\u001b[0;34m,\u001b[0m \u001b[0mself\u001b[0m\u001b[0;34m.\u001b[0m\u001b[0mtrain_subjects\u001b[0m\u001b[0;34m)\u001b[0m\u001b[0;34m\u001b[0m\u001b[0;34m\u001b[0m\u001b[0m\n\u001b[0m\u001b[1;32m    725\u001b[0m \u001b[0;34m\u001b[0m\u001b[0m\n\u001b[1;32m    726\u001b[0m     \u001b[0;31m# Print out summary stats for all passed metrics\u001b[0m\u001b[0;34m\u001b[0m\u001b[0;34m\u001b[0m\u001b[0;34m\u001b[0m\u001b[0m\n",
      "\u001b[0;32m~/anaconda3/lib/python3.6/site-packages/ABCD_ML/Model.py\u001b[0m in \u001b[0;36mEvaluate_Model\u001b[0;34m(self, data, train_subjects)\u001b[0m\n\u001b[1;32m    499\u001b[0m \u001b[0;34m\u001b[0m\u001b[0m\n\u001b[1;32m    500\u001b[0m             scores = self.Test_Model(data, train_subjects, test_subjects,\n\u001b[0;32m--> 501\u001b[0;31m                                      fold_ind)\n\u001b[0m\u001b[1;32m    502\u001b[0m             \u001b[0mfold_ind\u001b[0m \u001b[0;34m+=\u001b[0m \u001b[0;36m1\u001b[0m\u001b[0;34m\u001b[0m\u001b[0;34m\u001b[0m\u001b[0m\n\u001b[1;32m    503\u001b[0m             \u001b[0mall_scores\u001b[0m\u001b[0;34m.\u001b[0m\u001b[0mappend\u001b[0m\u001b[0;34m(\u001b[0m\u001b[0mscores\u001b[0m\u001b[0;34m)\u001b[0m\u001b[0;34m\u001b[0m\u001b[0;34m\u001b[0m\u001b[0m\n",
      "\u001b[0;32m~/anaconda3/lib/python3.6/site-packages/ABCD_ML/Model.py\u001b[0m in \u001b[0;36mTest_Model\u001b[0;34m(self, data, train_subjects, test_subjects, fold_ind)\u001b[0m\n\u001b[1;32m    533\u001b[0m \u001b[0;34m\u001b[0m\u001b[0m\n\u001b[1;32m    534\u001b[0m         \u001b[0;31m# Train the model(s)\u001b[0m\u001b[0;34m\u001b[0m\u001b[0;34m\u001b[0m\u001b[0;34m\u001b[0m\u001b[0m\n\u001b[0;32m--> 535\u001b[0;31m         \u001b[0mself\u001b[0m\u001b[0;34m.\u001b[0m\u001b[0m_train_models\u001b[0m\u001b[0;34m(\u001b[0m\u001b[0mtrain_data\u001b[0m\u001b[0;34m)\u001b[0m\u001b[0;34m\u001b[0m\u001b[0;34m\u001b[0m\u001b[0m\n\u001b[0m\u001b[1;32m    536\u001b[0m \u001b[0;34m\u001b[0m\u001b[0m\n\u001b[1;32m    537\u001b[0m         \u001b[0;31m# If fold ind test, init with test_data\u001b[0m\u001b[0;34m\u001b[0m\u001b[0;34m\u001b[0m\u001b[0;34m\u001b[0m\u001b[0m\n",
      "\u001b[0;32m~/anaconda3/lib/python3.6/site-packages/ABCD_ML/Model.py\u001b[0m in \u001b[0;36m_train_models\u001b[0;34m(self, train_data)\u001b[0m\n\u001b[1;32m    584\u001b[0m \u001b[0;34m\u001b[0m\u001b[0m\n\u001b[1;32m    585\u001b[0m             models.append(self._train_model(train_data, model_type,\n\u001b[0;32m--> 586\u001b[0;31m                                             model_type_param_ind))\n\u001b[0m\u001b[1;32m    587\u001b[0m \u001b[0;34m\u001b[0m\u001b[0m\n\u001b[1;32m    588\u001b[0m         \u001b[0;31m# If special ensemble passed, fit each one seperate\u001b[0m\u001b[0;34m\u001b[0m\u001b[0;34m\u001b[0m\u001b[0;34m\u001b[0m\u001b[0m\n",
      "\u001b[0;32m~/anaconda3/lib/python3.6/site-packages/ABCD_ML/Model.py\u001b[0m in \u001b[0;36m_train_model\u001b[0;34m(self, train_data, model_type, model_type_param_ind)\u001b[0m\n\u001b[1;32m    711\u001b[0m \u001b[0;34m\u001b[0m\u001b[0m\n\u001b[1;32m    712\u001b[0m         \u001b[0;31m# Fit the model\u001b[0m\u001b[0;34m\u001b[0m\u001b[0;34m\u001b[0m\u001b[0;34m\u001b[0m\u001b[0m\n\u001b[0;32m--> 713\u001b[0;31m         \u001b[0mmodel\u001b[0m\u001b[0;34m.\u001b[0m\u001b[0mfit\u001b[0m\u001b[0;34m(\u001b[0m\u001b[0mX\u001b[0m\u001b[0;34m,\u001b[0m \u001b[0my\u001b[0m\u001b[0;34m,\u001b[0m \u001b[0;34m**\u001b[0m\u001b[0mself\u001b[0m\u001b[0;34m.\u001b[0m\u001b[0mfit_params\u001b[0m\u001b[0;34m)\u001b[0m\u001b[0;34m\u001b[0m\u001b[0;34m\u001b[0m\u001b[0m\n\u001b[0m\u001b[1;32m    714\u001b[0m \u001b[0;34m\u001b[0m\u001b[0m\n\u001b[1;32m    715\u001b[0m         \u001b[0;32mreturn\u001b[0m \u001b[0mmodel\u001b[0m\u001b[0;34m\u001b[0m\u001b[0;34m\u001b[0m\u001b[0m\n",
      "\u001b[0;32m~/anaconda3/lib/python3.6/site-packages/imblearn/pipeline.py\u001b[0m in \u001b[0;36mfit\u001b[0;34m(self, X, y, **fit_params)\u001b[0m\n\u001b[1;32m    238\u001b[0m         \u001b[0mXt\u001b[0m\u001b[0;34m,\u001b[0m \u001b[0myt\u001b[0m\u001b[0;34m,\u001b[0m \u001b[0mfit_params\u001b[0m \u001b[0;34m=\u001b[0m \u001b[0mself\u001b[0m\u001b[0;34m.\u001b[0m\u001b[0m_fit\u001b[0m\u001b[0;34m(\u001b[0m\u001b[0mX\u001b[0m\u001b[0;34m,\u001b[0m \u001b[0my\u001b[0m\u001b[0;34m,\u001b[0m \u001b[0;34m**\u001b[0m\u001b[0mfit_params\u001b[0m\u001b[0;34m)\u001b[0m\u001b[0;34m\u001b[0m\u001b[0;34m\u001b[0m\u001b[0m\n\u001b[1;32m    239\u001b[0m         \u001b[0;32mif\u001b[0m \u001b[0mself\u001b[0m\u001b[0;34m.\u001b[0m\u001b[0m_final_estimator\u001b[0m \u001b[0;34m!=\u001b[0m \u001b[0;34m'passthrough'\u001b[0m\u001b[0;34m:\u001b[0m\u001b[0;34m\u001b[0m\u001b[0;34m\u001b[0m\u001b[0m\n\u001b[0;32m--> 240\u001b[0;31m             \u001b[0mself\u001b[0m\u001b[0;34m.\u001b[0m\u001b[0m_final_estimator\u001b[0m\u001b[0;34m.\u001b[0m\u001b[0mfit\u001b[0m\u001b[0;34m(\u001b[0m\u001b[0mXt\u001b[0m\u001b[0;34m,\u001b[0m \u001b[0myt\u001b[0m\u001b[0;34m,\u001b[0m \u001b[0;34m**\u001b[0m\u001b[0mfit_params\u001b[0m\u001b[0;34m)\u001b[0m\u001b[0;34m\u001b[0m\u001b[0;34m\u001b[0m\u001b[0m\n\u001b[0m\u001b[1;32m    241\u001b[0m         \u001b[0;32mreturn\u001b[0m \u001b[0mself\u001b[0m\u001b[0;34m\u001b[0m\u001b[0;34m\u001b[0m\u001b[0m\n\u001b[1;32m    242\u001b[0m \u001b[0;34m\u001b[0m\u001b[0m\n",
      "\u001b[0;32m~/anaconda3/lib/python3.6/site-packages/sklearn/linear_model/logistic.py\u001b[0m in \u001b[0;36mfit\u001b[0;34m(self, X, y, sample_weight)\u001b[0m\n\u001b[1;32m   1604\u001b[0m                       \u001b[0mpenalty\u001b[0m\u001b[0;34m=\u001b[0m\u001b[0mpenalty\u001b[0m\u001b[0;34m,\u001b[0m \u001b[0mmax_squared_sum\u001b[0m\u001b[0;34m=\u001b[0m\u001b[0mmax_squared_sum\u001b[0m\u001b[0;34m,\u001b[0m\u001b[0;34m\u001b[0m\u001b[0;34m\u001b[0m\u001b[0m\n\u001b[1;32m   1605\u001b[0m                       sample_weight=sample_weight)\n\u001b[0;32m-> 1606\u001b[0;31m             for class_, warm_start_coef_ in zip(classes_, warm_start_coef))\n\u001b[0m\u001b[1;32m   1607\u001b[0m \u001b[0;34m\u001b[0m\u001b[0m\n\u001b[1;32m   1608\u001b[0m         \u001b[0mfold_coefs_\u001b[0m\u001b[0;34m,\u001b[0m \u001b[0m_\u001b[0m\u001b[0;34m,\u001b[0m \u001b[0mn_iter_\u001b[0m \u001b[0;34m=\u001b[0m \u001b[0mzip\u001b[0m\u001b[0;34m(\u001b[0m\u001b[0;34m*\u001b[0m\u001b[0mfold_coefs_\u001b[0m\u001b[0;34m)\u001b[0m\u001b[0;34m\u001b[0m\u001b[0;34m\u001b[0m\u001b[0m\n",
      "\u001b[0;32m~/anaconda3/lib/python3.6/site-packages/joblib/parallel.py\u001b[0m in \u001b[0;36m__call__\u001b[0;34m(self, iterable)\u001b[0m\n\u001b[1;32m    932\u001b[0m \u001b[0;34m\u001b[0m\u001b[0m\n\u001b[1;32m    933\u001b[0m             \u001b[0;32mwith\u001b[0m \u001b[0mself\u001b[0m\u001b[0;34m.\u001b[0m\u001b[0m_backend\u001b[0m\u001b[0;34m.\u001b[0m\u001b[0mretrieval_context\u001b[0m\u001b[0;34m(\u001b[0m\u001b[0;34m)\u001b[0m\u001b[0;34m:\u001b[0m\u001b[0;34m\u001b[0m\u001b[0;34m\u001b[0m\u001b[0m\n\u001b[0;32m--> 934\u001b[0;31m                 \u001b[0mself\u001b[0m\u001b[0;34m.\u001b[0m\u001b[0mretrieve\u001b[0m\u001b[0;34m(\u001b[0m\u001b[0;34m)\u001b[0m\u001b[0;34m\u001b[0m\u001b[0;34m\u001b[0m\u001b[0m\n\u001b[0m\u001b[1;32m    935\u001b[0m             \u001b[0;31m# Make sure that we get a last message telling us we are done\u001b[0m\u001b[0;34m\u001b[0m\u001b[0;34m\u001b[0m\u001b[0;34m\u001b[0m\u001b[0m\n\u001b[1;32m    936\u001b[0m             \u001b[0melapsed_time\u001b[0m \u001b[0;34m=\u001b[0m \u001b[0mtime\u001b[0m\u001b[0;34m.\u001b[0m\u001b[0mtime\u001b[0m\u001b[0;34m(\u001b[0m\u001b[0;34m)\u001b[0m \u001b[0;34m-\u001b[0m \u001b[0mself\u001b[0m\u001b[0;34m.\u001b[0m\u001b[0m_start_time\u001b[0m\u001b[0;34m\u001b[0m\u001b[0;34m\u001b[0m\u001b[0m\n",
      "\u001b[0;32m~/anaconda3/lib/python3.6/site-packages/joblib/parallel.py\u001b[0m in \u001b[0;36mretrieve\u001b[0;34m(self)\u001b[0m\n\u001b[1;32m    831\u001b[0m             \u001b[0;32mtry\u001b[0m\u001b[0;34m:\u001b[0m\u001b[0;34m\u001b[0m\u001b[0;34m\u001b[0m\u001b[0m\n\u001b[1;32m    832\u001b[0m                 \u001b[0;32mif\u001b[0m \u001b[0mgetattr\u001b[0m\u001b[0;34m(\u001b[0m\u001b[0mself\u001b[0m\u001b[0;34m.\u001b[0m\u001b[0m_backend\u001b[0m\u001b[0;34m,\u001b[0m \u001b[0;34m'supports_timeout'\u001b[0m\u001b[0;34m,\u001b[0m \u001b[0;32mFalse\u001b[0m\u001b[0;34m)\u001b[0m\u001b[0;34m:\u001b[0m\u001b[0;34m\u001b[0m\u001b[0;34m\u001b[0m\u001b[0m\n\u001b[0;32m--> 833\u001b[0;31m                     \u001b[0mself\u001b[0m\u001b[0;34m.\u001b[0m\u001b[0m_output\u001b[0m\u001b[0;34m.\u001b[0m\u001b[0mextend\u001b[0m\u001b[0;34m(\u001b[0m\u001b[0mjob\u001b[0m\u001b[0;34m.\u001b[0m\u001b[0mget\u001b[0m\u001b[0;34m(\u001b[0m\u001b[0mtimeout\u001b[0m\u001b[0;34m=\u001b[0m\u001b[0mself\u001b[0m\u001b[0;34m.\u001b[0m\u001b[0mtimeout\u001b[0m\u001b[0;34m)\u001b[0m\u001b[0;34m)\u001b[0m\u001b[0;34m\u001b[0m\u001b[0;34m\u001b[0m\u001b[0m\n\u001b[0m\u001b[1;32m    834\u001b[0m                 \u001b[0;32melse\u001b[0m\u001b[0;34m:\u001b[0m\u001b[0;34m\u001b[0m\u001b[0;34m\u001b[0m\u001b[0m\n\u001b[1;32m    835\u001b[0m                     \u001b[0mself\u001b[0m\u001b[0;34m.\u001b[0m\u001b[0m_output\u001b[0m\u001b[0;34m.\u001b[0m\u001b[0mextend\u001b[0m\u001b[0;34m(\u001b[0m\u001b[0mjob\u001b[0m\u001b[0;34m.\u001b[0m\u001b[0mget\u001b[0m\u001b[0;34m(\u001b[0m\u001b[0;34m)\u001b[0m\u001b[0;34m)\u001b[0m\u001b[0;34m\u001b[0m\u001b[0;34m\u001b[0m\u001b[0m\n",
      "\u001b[0;32m~/anaconda3/lib/python3.6/multiprocessing/pool.py\u001b[0m in \u001b[0;36mget\u001b[0;34m(self, timeout)\u001b[0m\n\u001b[1;32m    662\u001b[0m \u001b[0;34m\u001b[0m\u001b[0m\n\u001b[1;32m    663\u001b[0m     \u001b[0;32mdef\u001b[0m \u001b[0mget\u001b[0m\u001b[0;34m(\u001b[0m\u001b[0mself\u001b[0m\u001b[0;34m,\u001b[0m \u001b[0mtimeout\u001b[0m\u001b[0;34m=\u001b[0m\u001b[0;32mNone\u001b[0m\u001b[0;34m)\u001b[0m\u001b[0;34m:\u001b[0m\u001b[0;34m\u001b[0m\u001b[0;34m\u001b[0m\u001b[0m\n\u001b[0;32m--> 664\u001b[0;31m         \u001b[0mself\u001b[0m\u001b[0;34m.\u001b[0m\u001b[0mwait\u001b[0m\u001b[0;34m(\u001b[0m\u001b[0mtimeout\u001b[0m\u001b[0;34m)\u001b[0m\u001b[0;34m\u001b[0m\u001b[0;34m\u001b[0m\u001b[0m\n\u001b[0m\u001b[1;32m    665\u001b[0m         \u001b[0;32mif\u001b[0m \u001b[0;32mnot\u001b[0m \u001b[0mself\u001b[0m\u001b[0;34m.\u001b[0m\u001b[0mready\u001b[0m\u001b[0;34m(\u001b[0m\u001b[0;34m)\u001b[0m\u001b[0;34m:\u001b[0m\u001b[0;34m\u001b[0m\u001b[0;34m\u001b[0m\u001b[0m\n\u001b[1;32m    666\u001b[0m             \u001b[0;32mraise\u001b[0m \u001b[0mTimeoutError\u001b[0m\u001b[0;34m\u001b[0m\u001b[0;34m\u001b[0m\u001b[0m\n",
      "\u001b[0;32m~/anaconda3/lib/python3.6/multiprocessing/pool.py\u001b[0m in \u001b[0;36mwait\u001b[0;34m(self, timeout)\u001b[0m\n\u001b[1;32m    659\u001b[0m \u001b[0;34m\u001b[0m\u001b[0m\n\u001b[1;32m    660\u001b[0m     \u001b[0;32mdef\u001b[0m \u001b[0mwait\u001b[0m\u001b[0;34m(\u001b[0m\u001b[0mself\u001b[0m\u001b[0;34m,\u001b[0m \u001b[0mtimeout\u001b[0m\u001b[0;34m=\u001b[0m\u001b[0;32mNone\u001b[0m\u001b[0;34m)\u001b[0m\u001b[0;34m:\u001b[0m\u001b[0;34m\u001b[0m\u001b[0;34m\u001b[0m\u001b[0m\n\u001b[0;32m--> 661\u001b[0;31m         \u001b[0mself\u001b[0m\u001b[0;34m.\u001b[0m\u001b[0m_event\u001b[0m\u001b[0;34m.\u001b[0m\u001b[0mwait\u001b[0m\u001b[0;34m(\u001b[0m\u001b[0mtimeout\u001b[0m\u001b[0;34m)\u001b[0m\u001b[0;34m\u001b[0m\u001b[0;34m\u001b[0m\u001b[0m\n\u001b[0m\u001b[1;32m    662\u001b[0m \u001b[0;34m\u001b[0m\u001b[0m\n\u001b[1;32m    663\u001b[0m     \u001b[0;32mdef\u001b[0m \u001b[0mget\u001b[0m\u001b[0;34m(\u001b[0m\u001b[0mself\u001b[0m\u001b[0;34m,\u001b[0m \u001b[0mtimeout\u001b[0m\u001b[0;34m=\u001b[0m\u001b[0;32mNone\u001b[0m\u001b[0;34m)\u001b[0m\u001b[0;34m:\u001b[0m\u001b[0;34m\u001b[0m\u001b[0;34m\u001b[0m\u001b[0m\n",
      "\u001b[0;32m~/anaconda3/lib/python3.6/threading.py\u001b[0m in \u001b[0;36mwait\u001b[0;34m(self, timeout)\u001b[0m\n\u001b[1;32m    549\u001b[0m             \u001b[0msignaled\u001b[0m \u001b[0;34m=\u001b[0m \u001b[0mself\u001b[0m\u001b[0;34m.\u001b[0m\u001b[0m_flag\u001b[0m\u001b[0;34m\u001b[0m\u001b[0;34m\u001b[0m\u001b[0m\n\u001b[1;32m    550\u001b[0m             \u001b[0;32mif\u001b[0m \u001b[0;32mnot\u001b[0m \u001b[0msignaled\u001b[0m\u001b[0;34m:\u001b[0m\u001b[0;34m\u001b[0m\u001b[0;34m\u001b[0m\u001b[0m\n\u001b[0;32m--> 551\u001b[0;31m                 \u001b[0msignaled\u001b[0m \u001b[0;34m=\u001b[0m \u001b[0mself\u001b[0m\u001b[0;34m.\u001b[0m\u001b[0m_cond\u001b[0m\u001b[0;34m.\u001b[0m\u001b[0mwait\u001b[0m\u001b[0;34m(\u001b[0m\u001b[0mtimeout\u001b[0m\u001b[0;34m)\u001b[0m\u001b[0;34m\u001b[0m\u001b[0;34m\u001b[0m\u001b[0m\n\u001b[0m\u001b[1;32m    552\u001b[0m             \u001b[0;32mreturn\u001b[0m \u001b[0msignaled\u001b[0m\u001b[0;34m\u001b[0m\u001b[0;34m\u001b[0m\u001b[0m\n\u001b[1;32m    553\u001b[0m \u001b[0;34m\u001b[0m\u001b[0m\n",
      "\u001b[0;32m~/anaconda3/lib/python3.6/threading.py\u001b[0m in \u001b[0;36mwait\u001b[0;34m(self, timeout)\u001b[0m\n\u001b[1;32m    293\u001b[0m         \u001b[0;32mtry\u001b[0m\u001b[0;34m:\u001b[0m    \u001b[0;31m# restore state no matter what (e.g., KeyboardInterrupt)\u001b[0m\u001b[0;34m\u001b[0m\u001b[0;34m\u001b[0m\u001b[0m\n\u001b[1;32m    294\u001b[0m             \u001b[0;32mif\u001b[0m \u001b[0mtimeout\u001b[0m \u001b[0;32mis\u001b[0m \u001b[0;32mNone\u001b[0m\u001b[0;34m:\u001b[0m\u001b[0;34m\u001b[0m\u001b[0;34m\u001b[0m\u001b[0m\n\u001b[0;32m--> 295\u001b[0;31m                 \u001b[0mwaiter\u001b[0m\u001b[0;34m.\u001b[0m\u001b[0macquire\u001b[0m\u001b[0;34m(\u001b[0m\u001b[0;34m)\u001b[0m\u001b[0;34m\u001b[0m\u001b[0;34m\u001b[0m\u001b[0m\n\u001b[0m\u001b[1;32m    296\u001b[0m                 \u001b[0mgotit\u001b[0m \u001b[0;34m=\u001b[0m \u001b[0;32mTrue\u001b[0m\u001b[0;34m\u001b[0m\u001b[0;34m\u001b[0m\u001b[0m\n\u001b[1;32m    297\u001b[0m             \u001b[0;32melse\u001b[0m\u001b[0;34m:\u001b[0m\u001b[0;34m\u001b[0m\u001b[0;34m\u001b[0m\u001b[0m\n",
      "\u001b[0;31mKeyboardInterrupt\u001b[0m: "
     ]
    }
   ],
   "source": [
    "raw_scores = ML.Evaluate(model_type='linear')"
   ]
  },
  {
   "cell_type": "markdown",
   "metadata": {},
   "source": [
    "Lets try with multiple data scalers now, just to show off that functionality, and still just the logistic regression."
   ]
  },
  {
   "cell_type": "code",
   "execution_count": null,
   "metadata": {},
   "outputs": [],
   "source": [
    "raw_scores = ML.Evaluate(model_type='logistic',\n",
    "             data_scaler = ['robust', 'minmax'])"
   ]
  },
  {
   "cell_type": "markdown",
   "metadata": {},
   "source": [
    "The robust scaler and minmax scaler seem to help a bit, so hey lets set that as our new default... just for fun.\n",
    "\n",
    "Note when setting a new param, you do not need to repass in everything you are not changing!"
   ]
  },
  {
   "cell_type": "code",
   "execution_count": null,
   "metadata": {},
   "outputs": [],
   "source": [
    "ML.Set_Default_ML_Params(data_scaler = ['robust', 'minmax'])\n",
    "\n",
    "# Let make just take a look at the new default params, to make sure it is as expected\n",
    "ML.default_ML_params"
   ]
  },
  {
   "cell_type": "markdown",
   "metadata": {},
   "source": [
    "We can run a more complicated classifier, in particular, let's\n",
    "try the light gradient boosting machine (LGBM) classifier, with a random search for parameters.\n",
    "Note: The ' rs' at the end of the str model indicator is a special key for selecting the random parameter search option."
   ]
  },
  {
   "cell_type": "code",
   "execution_count": null,
   "metadata": {},
   "outputs": [],
   "source": [
    "raw_scores = ML.Evaluate(model_type='lgbm classifier',\n",
    "                         search_type='random',\n",
    "                         model_type_param_ind=1,\n",
    "                         n_iter=2)"
   ]
  },
  {
   "cell_type": "markdown",
   "metadata": {},
   "source": [
    "Interesting, the basic logistic regression seems to perform better then the more complex gradient boosting. One thing to note though is that we only tested 8 random sets of hyperparamers, what if we tried exploring a larger number? (This might take a while, especially if you are not running this on a powerful computer)."
   ]
  },
  {
   "cell_type": "code",
   "execution_count": null,
   "metadata": {},
   "outputs": [],
   "source": [
    "raw_scores = ML.Evaluate(model_type='lgbm classifier rs',\n",
    "                         n_iter=100)"
   ]
  },
  {
   "cell_type": "markdown",
   "metadata": {},
   "source": [
    "That is still not all that big a boost from just a logistic regression.\n",
    "We can still explore some other linear classifiers though."
   ]
  },
  {
   "cell_type": "code",
   "execution_count": null,
   "metadata": {},
   "outputs": [],
   "source": [
    "raw_scores = ML.Evaluate(model_type='ridge logistic rs')"
   ]
  },
  {
   "cell_type": "code",
   "execution_count": null,
   "metadata": {},
   "outputs": [],
   "source": [
    "raw_scores = ML.Evaluate(model_type='knn classifier gs')"
   ]
  },
  {
   "cell_type": "code",
   "execution_count": null,
   "metadata": {},
   "outputs": [],
   "source": [
    "raw_scores = ML.Evaluate(model_type='gaussian nb')"
   ]
  },
  {
   "cell_type": "code",
   "execution_count": null,
   "metadata": {},
   "outputs": [],
   "source": [
    "#This is a gaussian process classifier\n",
    "raw_scores = ML.Evaluate(model_type='gp')"
   ]
  },
  {
   "cell_type": "code",
   "execution_count": null,
   "metadata": {},
   "outputs": [],
   "source": [
    "raw_scores = ML.Evaluate(model_type='elastic net logistic rs')"
   ]
  },
  {
   "cell_type": "markdown",
   "metadata": {},
   "source": [
    "You could easily continue with the model exploration portion, but for this example, lets say we have explored enough."
   ]
  },
  {
   "cell_type": "markdown",
   "metadata": {},
   "source": [
    "# Testing Phase"
   ]
  },
  {
   "cell_type": "code",
   "execution_count": null,
   "metadata": {},
   "outputs": [],
   "source": [
    "ML.Test(model_type ='ridge logistic rs')"
   ]
  },
  {
   "cell_type": "code",
   "execution_count": null,
   "metadata": {},
   "outputs": [],
   "source": []
  }
 ],
 "metadata": {
  "kernelspec": {
   "display_name": "Python 3",
   "language": "python",
   "name": "python3"
  },
  "language_info": {
   "codemirror_mode": {
    "name": "ipython",
    "version": 3
   },
   "file_extension": ".py",
   "mimetype": "text/x-python",
   "name": "python",
   "nbconvert_exporter": "python",
   "pygments_lexer": "ipython3",
   "version": "3.6.7"
  }
 },
 "nbformat": 4,
 "nbformat_minor": 2
}
