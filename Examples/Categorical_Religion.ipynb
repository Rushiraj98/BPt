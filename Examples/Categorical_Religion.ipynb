{
 "cells": [
  {
   "cell_type": "markdown",
   "metadata": {},
   "source": [
    "This notebook is intended to show an example with categorical classification, and tries to show some of the nuances . The dataloading and other aspects of the library are brushed over in this notebook without much explanation. Check another for better explanations.\n",
    "\n",
    "The categorical problem we load is demo_relig_v2, which has a number of problems, the most severe being a very dominant single class and a lot of classes with very little representation - in actual practice, this notebook does not represent how we would actually approach a problem like this. This notebook is simply to display categorical capabilities of the library (In practice, a good choice for a problem like this might be to treat it as binary, with the major class vs anything but...)\n",
    "\n",
    "We also only load the first half of the structural data, again just as an example."
   ]
  },
  {
   "cell_type": "code",
   "execution_count": 1,
   "metadata": {},
   "outputs": [],
   "source": [
    "import ABCD_ML"
   ]
  },
  {
   "cell_type": "code",
   "execution_count": 2,
   "metadata": {},
   "outputs": [],
   "source": [
    "nda_dr = '/mnt/sdb2/2.0_ABCD_Data_Explorer/2.0_NDA_Data/'\n",
    "test_mapping_loc = nda_dr + 'ABCD_Release_ Notes_Data_Release_ 2.0/22. ABCD_Release_2.0_mapping_r.csv'\n",
    "test_data_loc = nda_dr + 'MRI/ABCD sMRI Part 1.csv'\n",
    "test_target_loc = nda_dr + 'Mental Health/ABCD Parent Demographics Survey.csv'\n",
    "test_exclusion_loc = '/home/sage/bader_things/invalid_pguids.txt'"
   ]
  },
  {
   "cell_type": "code",
   "execution_count": 3,
   "metadata": {},
   "outputs": [
    {
     "name": "stdout",
     "output_type": "stream",
     "text": [
      "ABCD_ML object initialized\n",
      "Loading /mnt/sdb2/2.0_ABCD_Data_Explorer/2.0_NDA_Data/ABCD_Release_ Notes_Data_Release_ 2.0/22. ABCD_Release_2.0_mapping_r.csv assumed to be dataset type: explorer\n",
      "Loaded map file\n",
      "Loading /mnt/sdb2/2.0_ABCD_Data_Explorer/2.0_NDA_Data/MRI/ABCD sMRI Part 1.csv assumed to be dataset type: explorer\n",
      "dropped ['abcd_smrip101_id', 'dataset_id', 'smri_visitid'] columns by default  due to dataset type\n",
      "Dropped 0 columns, per drop_keys argument\n",
      "Dropped 0 cols for all missing values\n",
      "Dropped 522 rows for missing values\n",
      "Dropped rows with missing data\n",
      "Filtered data for outliers with value:  0.0005\n",
      "Winsorized data with value:  0.001\n",
      "loaded shape:  (8725, 749)\n",
      "\n",
      "The following columns have a questionable number of unique values: \n",
      "smri_thick_cortdesikan_banksstslh unique vals: 901\n",
      "smri_thick_cortdesikan_caudalanteriorcingulatelh unique vals: 1145\n",
      "smri_thick_cortdesikan_caudalmiddlefrontallh unique vals: 797\n",
      "smri_thick_cortdesikan_cuneuslh unique vals: 783\n",
      "smri_thick_cortdesikan_entorhinallh unique vals: 1531\n",
      "smri_thick_cortdesikan_fusiformlh unique vals: 685\n",
      "smri_thick_cortdesikan_inferiorparietallh unique vals: 801\n",
      "smri_thick_cortdesikan_inferiortemporallh unique vals: 827\n",
      "smri_thick_cortdesikan_isthmuscingulatelh unique vals: 934\n",
      "smri_thick_cortdesikan_lateraloccipitallh unique vals: 787\n",
      "smri_thick_cortdesikan_lateralorbitofrontallh unique vals: 812\n",
      "smri_thick_cortdesikan_linguallh unique vals: 695\n",
      "smri_thick_cortdesikan_medialorbitofrontallh unique vals: 896\n",
      "smri_thick_cortdesikan_middletemporallh unique vals: 953\n",
      "smri_thick_cortdesikan_parahippocampallh unique vals: 1287\n",
      "smri_thick_cortdesikan_paracentrallh unique vals: 821\n",
      "smri_thick_cortdesikan_parsopercularislh unique vals: 767\n",
      "smri_thick_cortdesikan_parsorbitalislh unique vals: 1040\n",
      "smri_thick_cortdesikan_parstriangularislh unique vals: 840\n",
      "smri_thick_cortdesikan_pericalcarinelh unique vals: 765\n",
      "smri_thick_cortdesikan_postcentrallh unique vals: 794\n",
      "smri_thick_cortdesikan_posteriorcingulatelh unique vals: 802\n",
      "smri_thick_cortdesikan_precentrallh unique vals: 750\n",
      "smri_thick_cortdesikan_precuneuslh unique vals: 690\n",
      "smri_thick_cortdesikan_rostralanteriorcingulatelh unique vals: 1032\n",
      "smri_thick_cortdesikan_rostralmiddlefrontallh unique vals: 780\n",
      "smri_thick_cortdesikan_superiorfrontallh unique vals: 788\n",
      "smri_thick_cortdesikan_superiorparietallh unique vals: 722\n",
      "smri_thick_cortdesikan_superiortemporallh unique vals: 874\n",
      "smri_thick_cortdesikan_supramarginallh unique vals: 882\n",
      "smri_thick_cortdesikan_frontalpolelh unique vals: 1476\n",
      "smri_thick_cortdesikan_temporalpolelh unique vals: 1366\n",
      "smri_thick_cortdesikan_transversetemporallh unique vals: 1032\n",
      "smri_thick_cortdesikan_insulalh unique vals: 744\n",
      "smri_thick_cortdesikan_banksstsrh unique vals: 927\n",
      "smri_thick_cortdesikan_caudalanteriorcingulaterh unique vals: 1089\n",
      "smri_thick_cortdesikan_caudalmiddlefrontalrh unique vals: 833\n",
      "smri_thick_cortdesikan_cuneusrh unique vals: 822\n",
      "smri_thick_cortdesikan_entorhinalrh unique vals: 1647\n",
      "smri_thick_cortdesikan_fusiformrh unique vals: 696\n",
      "smri_thick_cortdesikan_inferiorparietalrh unique vals: 783\n",
      "smri_thick_cortdesikan_inferiortemporalrh unique vals: 811\n",
      "smri_thick_cortdesikan_isthmuscingulaterh unique vals: 956\n",
      "smri_thick_cortdesikan_lateraloccipitalrh unique vals: 789\n",
      "smri_thick_cortdesikan_lateralorbitofrontalrh unique vals: 816\n",
      "smri_thick_cortdesikan_lingualrh unique vals: 724\n",
      "smri_thick_cortdesikan_medialorbitofrontalrh unique vals: 892\n",
      "smri_thick_cortdesikan_middletemporalrh unique vals: 938\n",
      "smri_thick_cortdesikan_parahippocampalrh unique vals: 1178\n",
      "smri_thick_cortdesikan_paracentralrh unique vals: 756\n",
      "smri_thick_cortdesikan_parsopercularisrh unique vals: 800\n",
      "smri_thick_cortdesikan_parsorbitalisrh unique vals: 1021\n",
      "smri_thick_cortdesikan_parstriangularisrh unique vals: 869\n",
      "smri_thick_cortdesikan_pericalcarinerh unique vals: 776\n",
      "smri_thick_cortdesikan_postcentralrh unique vals: 835\n",
      "smri_thick_cortdesikan_posteriorcingulaterh unique vals: 742\n",
      "smri_thick_cortdesikan_precentralrh unique vals: 749\n",
      "smri_thick_cortdesikan_precuneusrh unique vals: 688\n",
      "smri_thick_cortdesikan_rostralanteriorcingulaterh unique vals: 1081\n",
      "smri_thick_cortdesikan_rostralmiddlefrontalrh unique vals: 807\n",
      "smri_thick_cortdesikan_superiorfrontalrh unique vals: 770\n",
      "smri_thick_cortdesikan_superiorparietalrh unique vals: 718\n",
      "smri_thick_cortdesikan_superiortemporalrh unique vals: 811\n",
      "smri_thick_cortdesikan_supramarginalrh unique vals: 893\n",
      "smri_thick_cortdesikan_frontalpolerh unique vals: 1443\n",
      "smri_thick_cortdesikan_temporalpolerh unique vals: 1411\n",
      "smri_thick_cortdesikan_transversetemporalrh unique vals: 1034\n",
      "smri_thick_cortdesikan_insularh unique vals: 802\n",
      "smri_area_cortdesikan_banksstslh unique vals: 979\n",
      "smri_area_cortdesikan_caudalanteriorcingulatelh unique vals: 794\n",
      "smri_area_cortdesikan_cuneuslh unique vals: 1060\n",
      "smri_area_cortdesikan_entorhinallh unique vals: 459\n",
      "smri_area_cortdesikan_isthmuscingulatelh unique vals: 971\n",
      "smri_area_cortdesikan_lateralorbitofrontallh unique vals: 1403\n",
      "smri_area_cortdesikan_medialorbitofrontallh unique vals: 1207\n",
      "smri_area_cortdesikan_parahippocampallh unique vals: 638\n",
      "smri_area_cortdesikan_paracentrallh unique vals: 1016\n",
      "smri_area_cortdesikan_parsopercularislh unique vals: 1402\n",
      "smri_area_cortdesikan_parsorbitalislh unique vals: 481\n",
      "smri_area_cortdesikan_parstriangularislh unique vals: 1052\n",
      "smri_area_cortdesikan_pericalcarinelh unique vals: 1113\n",
      "smri_area_cortdesikan_posteriorcingulatelh unique vals: 1027\n",
      "smri_area_cortdesikan_rostralanteriorcingulatelh unique vals: 799\n",
      "smri_area_cortdesikan_frontalpolelh unique vals: 213\n",
      "smri_area_cortdesikan_temporalpolelh unique vals: 358\n",
      "smri_area_cortdesikan_transversetemporallh unique vals: 415\n",
      "smri_area_cortdesikan_insulalh unique vals: 1177\n",
      "smri_area_cortdesikan_banksstsrh unique vals: 864\n",
      "smri_area_cortdesikan_caudalanteriorcingulaterh unique vals: 868\n",
      "smri_area_cortdesikan_cuneusrh unique vals: 1147\n",
      "smri_area_cortdesikan_entorhinalrh unique vals: 474\n",
      "smri_area_cortdesikan_isthmuscingulaterh unique vals: 894\n",
      "smri_area_cortdesikan_lateralorbitofrontalrh unique vals: 1455\n",
      "smri_area_cortdesikan_medialorbitofrontalrh unique vals: 1040\n",
      "smri_area_cortdesikan_parahippocampalrh unique vals: 630\n",
      "smri_area_cortdesikan_paracentralrh unique vals: 1142\n",
      "smri_area_cortdesikan_parsopercularisrh unique vals: 1255\n",
      "smri_area_cortdesikan_parsorbitalisrh unique vals: 568\n",
      "smri_area_cortdesikan_parstriangularisrh unique vals: 1287\n",
      "smri_area_cortdesikan_pericalcarinerh unique vals: 1146\n",
      "smri_area_cortdesikan_posteriorcingulaterh unique vals: 1086\n",
      "smri_area_cortdesikan_rostralanteriorcingulaterh unique vals: 724\n",
      "smri_area_cortdesikan_frontalpolerh unique vals: 289\n",
      "smri_area_cortdesikan_temporalpolerh unique vals: 338\n",
      "smri_area_cortdesikan_transversetemporalrh unique vals: 323\n",
      "smri_area_cortdesikan_insularh unique vals: 1221\n",
      "smri_vol_cortdesikan_entorhinallh unique vals: 1718\n",
      "smri_vol_cortdesikan_parsorbitalislh unique vals: 1706\n",
      "smri_vol_cortdesikan_frontalpolelh unique vals: 937\n",
      "smri_vol_cortdesikan_temporalpolelh unique vals: 1683\n",
      "smri_vol_cortdesikan_transversetemporallh unique vals: 1241\n",
      "smri_vol_cortdesikan_entorhinalrh unique vals: 1711\n",
      "smri_vol_cortdesikan_parahippocampalrh unique vals: 1661\n",
      "smri_vol_cortdesikan_frontalpolerh unique vals: 1161\n",
      "smri_vol_cortdesikan_temporalpolerh unique vals: 1622\n",
      "smri_vol_cortdesikan_transversetemporalrh unique vals: 1067\n",
      "\n",
      "\n",
      "Total valid overlapping subjects = 8725\n",
      "\n",
      "Loading targets!\n",
      "Loading /mnt/sdb2/2.0_ABCD_Data_Explorer/2.0_NDA_Data/Mental Health/ABCD Parent Demographics Survey.csv assumed to be dataset type: explorer\n",
      "Encoded to 17 categories\n",
      "Final shape:  (11310, 17)\n",
      "\n",
      "Total valid overlapping subjects = 8336\n",
      "\n",
      "Total excluded subjects:  1137\n",
      "Removed excluded subjects from loaded dfs\n"
     ]
    }
   ],
   "source": [
    "ML = ABCD_ML.ABCD_ML(default_dataset_type='explorer')\n",
    "\n",
    "ML.Load_Name_Map(loc = test_mapping_loc,\n",
    "                 source_name_col = \"NDAR name\",\n",
    "                 target_name_col = \"REDCap name/NDA alias\")\n",
    "\n",
    "ML.Load_Data(loc=test_data_loc,\n",
    "             dataset_type='explorer',\n",
    "             filter_outlier_percent=.0005, \n",
    "             winsorize_val=.001)\n",
    "\n",
    "ML.Load_Targets(loc=test_target_loc,\n",
    "                col_name='demo_relig_v2',\n",
    "                data_type='c')\n",
    "ML.Load_Exclusions(loc=test_exclusion_loc)"
   ]
  },
  {
   "cell_type": "code",
   "execution_count": 4,
   "metadata": {},
   "outputs": [
    {
     "name": "stdout",
     "output_type": "stream",
     "text": [
      "CV defined with stratifying behavior, over 17 unique values.\n"
     ]
    }
   ],
   "source": [
    "ML.Define_Validation_Strategy(stratify=ML.original_targets_key)"
   ]
  },
  {
   "cell_type": "markdown",
   "metadata": {},
   "source": [
    "We are defining our validation strategy as stratifying over the target keys, as some of the religions have very little representation, and we could potentially throw errors if some value is not represented in one of the various validation folds - We still might if we use too much internal CV."
   ]
  },
  {
   "cell_type": "code",
   "execution_count": 5,
   "metadata": {},
   "outputs": [
    {
     "name": "stdout",
     "output_type": "stream",
     "text": [
      "Final data for modeling loaded shape: (7547, 766)\n",
      "Performed train/test split, train size: 6037 test size:  1510\n"
     ]
    }
   ],
   "source": [
    "ML.Train_Test_Split(test_size=.2,\n",
    "                    random_state=9)"
   ]
  },
  {
   "cell_type": "code",
   "execution_count": 6,
   "metadata": {},
   "outputs": [
    {
     "name": "stdout",
     "output_type": "stream",
     "text": [
      "No default metric passed, set to, weighted roc auc based on default problem type.\n",
      "No default extra params passed, set to empty dict\n",
      "Default params set.\n",
      "\n"
     ]
    }
   ],
   "source": [
    "ML.Set_Default_ML_Params(problem_type = 'categorical',\n",
    "                         data_scaler = 'standard',\n",
    "                         n_splits = 2,\n",
    "                         n_repeats = 1,\n",
    "                         int_cv = 2,\n",
    "                         class_weight = 'balanced',\n",
    "                         n_jobs = 4,\n",
    "                         n_iter = 2,\n",
    "                         random_state = 9)"
   ]
  },
  {
   "cell_type": "code",
   "execution_count": 7,
   "metadata": {},
   "outputs": [
    {
     "name": "stdout",
     "output_type": "stream",
     "text": [
      "Note: gs and rs are  Grid Search and Random Search\n",
      "Models with gs or rs will have their hyper-parameters tuned accordingly.\n",
      "\n",
      "Problem Type: categorical\n",
      "----------------------\n",
      "Avaliable models: \n",
      "\n",
      "Model str indicator:  dt classifier\n",
      "(MultiClass)\n",
      "Model object:  <class 'sklearn.tree.tree.DecisionTreeClassifier'>\n",
      "\n",
      "Model str indicator:  dt classifier gs\n",
      "(MultiClass)\n",
      "Model object:  <class 'sklearn.model_selection._search.GridSearchCV'>\n",
      "\n",
      "Model str indicator:  elastic net logistic\n",
      "(MultiClass)\n",
      "Model object:  <class 'sklearn.linear_model.logistic.LogisticRegression'>\n",
      "\n",
      "Model str indicator:  elastic net logistic rs\n",
      "(MultiClass)\n",
      "Model object:  <class 'sklearn.model_selection._search.RandomizedSearchCV'>\n",
      "\n",
      "Model str indicator:  gaussian nb\n",
      "(MultiClass)\n",
      "Model object:  <class 'sklearn.naive_bayes.GaussianNB'>\n",
      "\n",
      "Model str indicator:  gp classifier\n",
      "(MultiClass)\n",
      "Model object:  <class 'sklearn.gaussian_process.gpc.GaussianProcessClassifier'>\n",
      "\n",
      "Model str indicator:  knn classifier\n",
      "(MultiClass)\n",
      "Model object:  <class 'sklearn.neighbors.classification.KNeighborsClassifier'>\n",
      "\n",
      "Model str indicator:  knn classifier gs\n",
      "(MultiClass)\n",
      "Model object:  <class 'sklearn.model_selection._search.GridSearchCV'>\n",
      "\n",
      "Model str indicator:  lasso logistic\n",
      "(MultiClass)\n",
      "Model object:  <class 'sklearn.linear_model.logistic.LogisticRegression'>\n",
      "\n",
      "Model str indicator:  lasso logistic rs\n",
      "(MultiClass)\n",
      "Model object:  <class 'sklearn.model_selection._search.RandomizedSearchCV'>\n",
      "\n",
      "Model str indicator:  light gbm classifier\n",
      "(MultiClass)\n",
      "Model object:  <class 'lightgbm.sklearn.LGBMClassifier'>\n",
      "\n",
      "Model str indicator:  light gbm classifier rs\n",
      "(MultiClass)\n",
      "Model object:  <class 'sklearn.model_selection._search.RandomizedSearchCV'>\n",
      "\n",
      "Model str indicator:  logistic\n",
      "(MultiClass)\n",
      "Model object:  <class 'sklearn.linear_model.logistic.LogisticRegression'>\n",
      "\n",
      "Model str indicator:  random forest classifier\n",
      "(MultiClass)\n",
      "Model object:  <class 'sklearn.ensemble.forest.RandomForestClassifier'>\n",
      "\n",
      "Model str indicator:  random forest classifier cal\n",
      "(MultiClass)\n",
      "Model object:  <class 'sklearn.calibration.CalibratedClassifierCV'>\n",
      "\n",
      "Model str indicator:  random forest classifier rs\n",
      "(MultiClass)\n",
      "Model object:  <class 'sklearn.model_selection._search.RandomizedSearchCV'>\n",
      "\n",
      "Model str indicator:  ridge logistic\n",
      "(MultiClass)\n",
      "Model object:  <class 'sklearn.linear_model.logistic.LogisticRegression'>\n",
      "\n",
      "Model str indicator:  ridge logistic rs\n",
      "(MultiClass)\n",
      "Model object:  <class 'sklearn.model_selection._search.RandomizedSearchCV'>\n",
      "\n",
      "Model str indicator:  svm classifier\n",
      "(MultiClass)\n",
      "Model object:  <class 'sklearn.svm.classes.SVC'>\n",
      "\n",
      "Model str indicator:  svm classifier rs\n",
      "(MultiClass)\n",
      "Model object:  <class 'sklearn.model_selection._search.RandomizedSearchCV'>\n",
      "\n",
      "Model str indicator:  user passed\n",
      "(MultiClass)\n"
     ]
    },
    {
     "ename": "KeyError",
     "evalue": "'user passed'",
     "output_type": "error",
     "traceback": [
      "\u001b[0;31m---------------------------------------------------------------------------\u001b[0m",
      "\u001b[0;31mKeyError\u001b[0m                                  Traceback (most recent call last)",
      "\u001b[0;32m<ipython-input-7-887dd8da9b5c>\u001b[0m in \u001b[0;36m<module>\u001b[0;34m\u001b[0m\n\u001b[0;32m----> 1\u001b[0;31m \u001b[0mML\u001b[0m\u001b[0;34m.\u001b[0m\u001b[0mShow_Model_Types\u001b[0m\u001b[0;34m(\u001b[0m\u001b[0mproblem_type\u001b[0m\u001b[0;34m=\u001b[0m\u001b[0;34m'categorical'\u001b[0m\u001b[0;34m)\u001b[0m\u001b[0;34m\u001b[0m\u001b[0;34m\u001b[0m\u001b[0m\n\u001b[0m",
      "\u001b[0;32m~/anaconda3/lib/python3.6/site-packages/ABCD_ML/Models.py\u001b[0m in \u001b[0;36mShow_Model_Types\u001b[0;34m(self, problem_type, show_model_help, show_default_params, show_grid_params)\u001b[0m\n\u001b[1;32m    270\u001b[0m         \u001b[0;32melse\u001b[0m\u001b[0;34m:\u001b[0m\u001b[0;34m\u001b[0m\u001b[0;34m\u001b[0m\u001b[0m\n\u001b[1;32m    271\u001b[0m                 show_type(problem_type, avaliable_by_type, show_model_help,\n\u001b[0;32m--> 272\u001b[0;31m                           show_default_params, show_grid_params)\n\u001b[0m\u001b[1;32m    273\u001b[0m \u001b[0;34m\u001b[0m\u001b[0m\n\u001b[1;32m    274\u001b[0m \u001b[0;34m\u001b[0m\u001b[0m\n",
      "\u001b[0;32m~/anaconda3/lib/python3.6/site-packages/ABCD_ML/Models.py\u001b[0m in \u001b[0;36mshow_type\u001b[0;34m(problem_type, avaliable_by_type, show_model_help, show_default_params, show_grid_params)\u001b[0m\n\u001b[1;32m    284\u001b[0m                 \u001b[0;32mif\u001b[0m \u001b[0mmodel\u001b[0m \u001b[0;34m!=\u001b[0m \u001b[0;34m'user passed'\u001b[0m\u001b[0;34m:\u001b[0m\u001b[0;34m\u001b[0m\u001b[0;34m\u001b[0m\u001b[0m\n\u001b[1;32m    285\u001b[0m                         show_model(model, show_model_help, show_default_params,\n\u001b[0;32m--> 286\u001b[0;31m                                    show_grid_params)\n\u001b[0m\u001b[1;32m    287\u001b[0m                         \u001b[0mprint\u001b[0m\u001b[0;34m(\u001b[0m\u001b[0;34m)\u001b[0m\u001b[0;34m\u001b[0m\u001b[0;34m\u001b[0m\u001b[0m\n\u001b[1;32m    288\u001b[0m \u001b[0;34m\u001b[0m\u001b[0m\n",
      "\u001b[0;32m~/anaconda3/lib/python3.6/site-packages/ABCD_ML/Models.py\u001b[0m in \u001b[0;36mshow_model\u001b[0;34m(model, show_model_help, show_default_params, show_grid_params)\u001b[0m\n\u001b[1;32m    307\u001b[0m                 \u001b[0mprint\u001b[0m\u001b[0;34m(\u001b[0m\u001b[0;34m'(MultiClass)'\u001b[0m\u001b[0;34m)\u001b[0m\u001b[0;34m\u001b[0m\u001b[0;34m\u001b[0m\u001b[0m\n\u001b[1;32m    308\u001b[0m \u001b[0;34m\u001b[0m\u001b[0m\n\u001b[0;32m--> 309\u001b[0;31m         \u001b[0mM\u001b[0m \u001b[0;34m=\u001b[0m \u001b[0mMODELS\u001b[0m\u001b[0;34m[\u001b[0m\u001b[0mmodel\u001b[0m\u001b[0;34m]\u001b[0m\u001b[0;34m\u001b[0m\u001b[0;34m\u001b[0m\u001b[0m\n\u001b[0m\u001b[1;32m    310\u001b[0m         \u001b[0mprint\u001b[0m\u001b[0;34m(\u001b[0m\u001b[0;34m'Model object: '\u001b[0m\u001b[0;34m,\u001b[0m \u001b[0mM\u001b[0m\u001b[0;34m[\u001b[0m\u001b[0;36m0\u001b[0m\u001b[0;34m]\u001b[0m\u001b[0;34m)\u001b[0m\u001b[0;34m\u001b[0m\u001b[0;34m\u001b[0m\u001b[0m\n\u001b[1;32m    311\u001b[0m \u001b[0;34m\u001b[0m\u001b[0m\n",
      "\u001b[0;31mKeyError\u001b[0m: 'user passed'"
     ]
    }
   ],
   "source": [
    "ML.Show_Model_Types(problem_type='categorical')"
   ]
  },
  {
   "cell_type": "code",
   "execution_count": 17,
   "metadata": {},
   "outputs": [],
   "source": []
  },
  {
   "cell_type": "code",
   "execution_count": null,
   "metadata": {},
   "outputs": [],
   "source": [
    "bunch_of_metrics = ['macro roc auc', 'macro f1', 'samples roc auc', 'weighted recall',\n",
    "                    'log', 'macro jaccard', 'weighted ap']\n",
    "\n",
    "# Ensemble of all multilabel compatible classifiers\n",
    "ML.Evaluate(model_type = ['knn', 'rf'],\n",
    "            metric = bunch_of_metrics,\n",
    "            data_scaler = ['standard', 'minmax'])"
   ]
  },
  {
   "cell_type": "markdown",
   "metadata": {},
   "source": [
    "The above is a good example of how samples roc auc can be a terrible choice for categorical problems with big class imbalances.\n",
    "\n",
    "We are also recieving errors about F1 score... this is because within some of our folds the model does not predict any positive samples for some of the classes, which is a direct result of this categorical problem being set up poorly, and that we make no real efforts to explicitly deal with the heavy class imbalance.\n",
    "\n",
    "Of note also is that samples roc auc does not work for multiclass classifiers, which we will show an ensemble of next, so we delete that from from the 'bunch of metrics'"
   ]
  },
  {
   "cell_type": "code",
   "execution_count": null,
   "metadata": {},
   "outputs": [],
   "source": [
    "del bunch_of_metrics[2]\n",
    "\n",
    "\n",
    "ML.Evaluate(model_type = ['logistic', 'knn', 'rf'],\n",
    "                metric = bunch_of_metrics,\n",
    "                data_scaler = ['standard', 'minmax'])"
   ]
  },
  {
   "cell_type": "code",
   "execution_count": null,
   "metadata": {},
   "outputs": [],
   "source": []
  },
  {
   "cell_type": "code",
   "execution_count": null,
   "metadata": {},
   "outputs": [],
   "source": []
  }
 ],
 "metadata": {
  "kernelspec": {
   "display_name": "Python 3",
   "language": "python",
   "name": "python3"
  },
  "language_info": {
   "codemirror_mode": {
    "name": "ipython",
    "version": 3
   },
   "file_extension": ".py",
   "mimetype": "text/x-python",
   "name": "python",
   "nbconvert_exporter": "python",
   "pygments_lexer": "ipython3",
   "version": "3.6.7"
  }
 },
 "nbformat": 4,
 "nbformat_minor": 2
}
