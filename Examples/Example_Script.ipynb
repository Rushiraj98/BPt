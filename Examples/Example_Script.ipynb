{
 "cells": [
  {
   "cell_type": "code",
   "execution_count": 2,
   "metadata": {},
   "outputs": [],
   "source": [
    "import ABCD_ML"
   ]
  },
  {
   "cell_type": "code",
   "execution_count": 3,
   "metadata": {},
   "outputs": [],
   "source": [
    "nda_dr = '/mnt/sdb2/2.0_ABCD_Data_Explorer/2.0_NDA_Data/'\n",
    "test_mapping_loc = nda_dr + 'ABCD_Release_ Notes_Data_Release_ 2.0/22. ABCD_Release_2.0_mapping_r.csv'\n",
    "test_data_loc1 = nda_dr + 'MRI/ABCD dMRI DTI Full Destrieux Parcellation Part 2.csv'\n",
    "test_data_loc2 = nda_dr + 'MRI/ABCD sMRI Destrieux Parcellation Part 1.csv'\n",
    "test_scores_loc1 = nda_dr + 'Neurocognition/ABCD Youth NIH TB Summary Scores.csv'\n",
    "test_exclusion_loc1 = '/home/sage/ABCD_Ev_Search/Data/ABCD_testsetIDs.csv'\n",
    "test_exclusion_loc2 = '/home/sage/bader_things/invalid_pguids.txt'\n",
    "test_strat_loc1 = nda_dr + 'Other Non-Imaging/ABCD ACS Post Stratification Weights.csv'\n",
    "test_strat_loc2 = nda_dr + 'Other Non-Imaging/ABCD Longitudinal Tracking.csv'\n",
    "test_covar_loc = nda_dr + 'Mental Health/ABCD Parent Demographics Survey.csv'"
   ]
  },
  {
   "cell_type": "code",
   "execution_count": 4,
   "metadata": {},
   "outputs": [
    {
     "name": "stdout",
     "output_type": "stream",
     "text": [
      "Loaded map file\n"
     ]
    }
   ],
   "source": [
    "ML = ABCD_ML.ABCD_ML(eventname = 'baseline_year_1_arm_1',\n",
    "                     use_default_subject_ids = True,\n",
    "                     verbose = True\n",
    "                     )\n",
    "\n",
    "ML.load_name_mapping(loc = test_mapping_loc)"
   ]
  },
  {
   "cell_type": "code",
   "execution_count": 5,
   "metadata": {},
   "outputs": [
    {
     "name": "stdout",
     "output_type": "stream",
     "text": [
      "Loading /mnt/sdb2/2.0_ABCD_Data_Explorer/2.0_NDA_Data/MRI/ABCD dMRI DTI Full Destrieux Parcellation Part 2.csv\n",
      "dropped ['abcd_ddtifp201_id', 'dataset_id'] columns by default\n",
      "Dropped 6 columns, per drop_keys argument\n",
      "Dropped 1095 rows for missing values\n",
      "Dropped rows with missing data\n",
      "Filtered data for outliers with value:  0.0001\n",
      "Winsorized data with value:  0.001\n",
      "loaded shape:  (9156, 835)\n",
      "Removing non overlapping + excluded subjects\n",
      "Total subjects =  9156\n",
      "\n",
      "Loading /mnt/sdb2/2.0_ABCD_Data_Explorer/2.0_NDA_Data/MRI/ABCD sMRI Destrieux Parcellation Part 1.csv\n",
      "dropped ['abcd_mrisdp101_id', 'dataset_id'] columns by default\n",
      "Dropped 0 columns, per drop_keys argument\n",
      "Dropped 2387 rows for missing values\n",
      "Dropped rows with missing data\n",
      "loaded shape:  (9149, 906)\n",
      "Merged with existing!\n",
      "Removing non overlapping + excluded subjects\n",
      "Total subjects =  7272\n",
      "\n"
     ]
    }
   ],
   "source": [
    "ML.load_data(loc = test_data_loc1,\n",
    "             drop_keys = ['spostcentrallh'],\n",
    "             filter_outlier_percent = .0001,\n",
    "             winsorize_val=.001\n",
    "             )\n",
    "\n",
    "ML.load_data(loc = test_data_loc2,\n",
    "             drop_keys = []\n",
    "             )"
   ]
  },
  {
   "cell_type": "code",
   "execution_count": 6,
   "metadata": {},
   "outputs": [
    {
     "name": "stdout",
     "output_type": "stream",
     "text": [
      "Loading  /mnt/sdb2/2.0_ABCD_Data_Explorer/2.0_NDA_Data/Mental Health/ABCD Parent Demographics Survey.csv\n",
      "More than two unique score values found, filtered all but [1. 2.]\n",
      "Final shape:  (11866, 1)\n",
      "Removing non overlapping + excluded subjects\n",
      "Total subjects =  7266\n",
      "\n"
     ]
    }
   ],
   "source": [
    "ML.load_scores(loc=test_covar_loc,\n",
    "               col_name='demo_sex_v2',\n",
    "               data_type = 'binary',\n",
    "              )"
   ]
  },
  {
   "cell_type": "code",
   "execution_count": 7,
   "metadata": {},
   "outputs": [
    {
     "name": "stdout",
     "output_type": "stream",
     "text": [
      "Loading  /mnt/sdb2/2.0_ABCD_Data_Explorer/2.0_NDA_Data/Mental Health/ABCD Parent Demographics Survey.csv\n",
      "Encoded to 17 categories\n",
      "Final shape:  (11310, 17)\n",
      "Removing non overlapping + excluded subjects\n",
      "Total subjects =  6941\n",
      "\n"
     ]
    }
   ],
   "source": [
    "ML.load_scores(loc=test_covar_loc,\n",
    "               col_name='demo_relig_v2',\n",
    "               data_type = 'categorical',\n",
    "              )"
   ]
  },
  {
   "cell_type": "code",
   "execution_count": 8,
   "metadata": {},
   "outputs": [],
   "source": [
    "#ML.load_scores(loc=test_scores_loc1,\n",
    "#               col_name='nihtbx_cardsort_agecorrected',\n",
    "#               data_type = 'float',\n",
    "#               filter_outlier_percent=(.001, .999)\n",
    "#              )"
   ]
  },
  {
   "cell_type": "code",
   "execution_count": 9,
   "metadata": {},
   "outputs": [
    {
     "name": "stdout",
     "output_type": "stream",
     "text": [
      "Total excluded subjects:  2\n",
      "Removing non overlapping + excluded subjects\n",
      "Total subjects =  6939\n",
      "\n",
      "Total excluded subjects:  1139\n",
      "Removing non overlapping + excluded subjects\n",
      "Total subjects =  6224\n",
      "\n"
     ]
    }
   ],
   "source": [
    "ML.load_exclusions(exclusions=['INV0A6WVRZY', 'NDAR_INVZXF5C635'])\n",
    "#ML.load_exclusions(loc = test_exclusion_loc1)\n",
    "ML.load_exclusions(loc = test_exclusion_loc2)"
   ]
  },
  {
   "cell_type": "code",
   "execution_count": 10,
   "metadata": {},
   "outputs": [
    {
     "name": "stdout",
     "output_type": "stream",
     "text": [
      "Reading stratification values from /mnt/sdb2/2.0_ABCD_Data_Explorer/2.0_NDA_Data/Other Non-Imaging/ABCD ACS Post Stratification Weights.csv\n",
      "Removing non overlapping + excluded subjects\n",
      "Total subjects =  6214\n",
      "\n",
      "Reading stratification values from /mnt/sdb2/2.0_ABCD_Data_Explorer/2.0_NDA_Data/Other Non-Imaging/ABCD Longitudinal Tracking.csv\n",
      "Merged with existing!\n",
      "Removing non overlapping + excluded subjects\n",
      "Total subjects =  6214\n",
      "\n"
     ]
    }
   ],
   "source": [
    "ML.load_strat_values(loc = test_strat_loc1,\n",
    "                     col_names = ['race_ethnicity', 'rel_family_id'])\n",
    "\n",
    "ML.load_strat_values(loc = test_strat_loc2,\n",
    "                     col_names = ['site_id_l'])"
   ]
  },
  {
   "cell_type": "code",
   "execution_count": 11,
   "metadata": {},
   "outputs": [
    {
     "name": "stdout",
     "output_type": "stream",
     "text": [
      "Reading covariates from /mnt/sdb2/2.0_ABCD_Data_Explorer/2.0_NDA_Data/Mental Health/ABCD Parent Demographics Survey.csv\n",
      "load: demo_ed_v2\n",
      "load: demo_sex_v2\n",
      "More than two unique score values found, filtered all but [1. 2.]\n",
      "load: demo_yrs_1\n",
      "Encoded to 4 categories\n",
      "Removing non overlapping + excluded subjects\n",
      "Total subjects =  6132\n",
      "\n"
     ]
    }
   ],
   "source": [
    "ML.load_covars(loc=test_covar_loc,\n",
    "               col_names = ['demo_ed_v2', 'demo_sex_v2', 'demo_yrs_1'],\n",
    "               data_types = ['o', 'b', 'c'],\n",
    "               dummy_code_categorical = True,\n",
    "               filter_float_outlier_percent = (.001, .999),\n",
    "               standardize = True,\n",
    "               normalize = True) "
   ]
  },
  {
   "cell_type": "code",
   "execution_count": 12,
   "metadata": {},
   "outputs": [],
   "source": [
    "#ML.train_test_split(test_size=.2)\n",
    "#test1 = ML.CV.k_fold(ML.train_subjects, 3, return_index=False)\n",
    "#test2 = ML.CV.k_fold(ML.train_subjects, 3, return_index=True)"
   ]
  },
  {
   "cell_type": "code",
   "execution_count": 13,
   "metadata": {},
   "outputs": [],
   "source": [
    "ML.define_validation_strategy(groups='site_id_l')"
   ]
  },
  {
   "cell_type": "code",
   "execution_count": 14,
   "metadata": {},
   "outputs": [
    {
     "name": "stdout",
     "output_type": "stream",
     "text": [
      "Performed train/test split, train size: 4330 test size:  1802\n"
     ]
    }
   ],
   "source": [
    "ML.train_test_split(test_size=.2)"
   ]
  },
  {
   "cell_type": "code",
   "execution_count": 15,
   "metadata": {},
   "outputs": [
    {
     "data": {
      "text/plain": [
       "((6132, 1741), (6132, 17))"
      ]
     },
     "execution_count": 15,
     "metadata": {},
     "output_type": "execute_result"
    }
   ],
   "source": [
    "import numpy as np\n",
    "X = np.array(ML.data)\n",
    "y = np.array(ML.scores)\n",
    "\n",
    "X.shape, y.shape"
   ]
  },
  {
   "cell_type": "code",
   "execution_count": 28,
   "metadata": {},
   "outputs": [],
   "source": [
    "from sklearn.neighbors import KNeighborsClassifier\n",
    "from sklearn.tree import DecisionTreeClassifier\n",
    "from sklearn.naive_bayes import GaussianNB\n",
    "from sklearn.gaussian_process import GaussianProcessClassifier, GaussianProcessRegressor\n",
    "from sklearn.ensemble import GradientBoostingClassifier, AdaBoostClassifier, RandomForestRegressor\n",
    "from sklearn.linear_model import (LogisticRegressionCV, ElasticNetCV, LinearRegression,\n",
    "                                  OrthogonalMatchingPursuitCV,LarsCV, RidgeCV)\n",
    "\n",
    "#from sklearn.svm import SVC, LinearSVR\n",
    "#from sklearn.neural_network import MLPClassifier\n",
    "\n",
    "#from sklearn.discriminant_analysis import QuadraticDiscriminantAnalysis\n",
    "#from xgboost import XGBRegressor\n",
    "#from lightgbm import LGBMRegressor, LGBMClassifier\n",
    "\n",
    "from sklearn.model_selection import GridSearchCV, RandomizedSearchCV\n"
   ]
  },
  {
   "cell_type": "code",
   "execution_count": 29,
   "metadata": {},
   "outputs": [],
   "source": [
    "clf = KNeighborsClassifier(n_jobs=8)"
   ]
  },
  {
   "cell_type": "code",
   "execution_count": 35,
   "metadata": {},
   "outputs": [
    {
     "data": {
      "text/plain": [
       "{'5': 0}"
      ]
     },
     "execution_count": 35,
     "metadata": {},
     "output_type": "execute_result"
    }
   ],
   "source": [
    "q = {'5': 0}\n",
    "q.update({})\n",
    "q"
   ]
  },
  {
   "cell_type": "code",
   "execution_count": 16,
   "metadata": {},
   "outputs": [],
   "source": [
    "from sklearn.tree import DecisionTreeClassifier\n",
    "from sklearn.ensemble import ExtraTreesClassifier\n",
    "from sklearn.metrics import balanced_accuracy_score, roc_auc_score, matthews_corrcoef\n",
    "from sklearn.metrics import f1_score\n",
    "from sklearn.svm import SVC"
   ]
  },
  {
   "cell_type": "code",
   "execution_count": 17,
   "metadata": {},
   "outputs": [],
   "source": [
    "X_train, X_test = X[:-1000], X[-1000:]\n",
    "y_train, y_test = y[:-1000], y[-1000:]"
   ]
  },
  {
   "cell_type": "code",
   "execution_count": 18,
   "metadata": {},
   "outputs": [],
   "source": [
    "clf = DecisionTreeClassifier()"
   ]
  },
  {
   "cell_type": "code",
   "execution_count": null,
   "metadata": {},
   "outputs": [],
   "source": [
    "#y_train = ML.score_encoder[1].inverse_transform(y_train).squeeze()"
   ]
  },
  {
   "cell_type": "code",
   "execution_count": 19,
   "metadata": {},
   "outputs": [
    {
     "data": {
      "text/plain": [
       "DecisionTreeClassifier(class_weight=None, criterion='gini', max_depth=None,\n",
       "                       max_features=None, max_leaf_nodes=None,\n",
       "                       min_impurity_decrease=0.0, min_impurity_split=None,\n",
       "                       min_samples_leaf=1, min_samples_split=2,\n",
       "                       min_weight_fraction_leaf=0.0, presort=False,\n",
       "                       random_state=None, splitter='best')"
      ]
     },
     "execution_count": 19,
     "metadata": {},
     "output_type": "execute_result"
    }
   ],
   "source": [
    "clf.fit(X_train, y_train)"
   ]
  },
  {
   "cell_type": "code",
   "execution_count": null,
   "metadata": {},
   "outputs": [],
   "source": [
    "y_test = ML.score_encoder.inverse_transform(y_test).squeeze()"
   ]
  },
  {
   "cell_type": "code",
   "execution_count": null,
   "metadata": {},
   "outputs": [],
   "source": []
  },
  {
   "cell_type": "code",
   "execution_count": null,
   "metadata": {},
   "outputs": [],
   "source": []
  },
  {
   "cell_type": "code",
   "execution_count": 20,
   "metadata": {},
   "outputs": [],
   "source": [
    "preds = clf.predict(X_test)\n",
    "pred_proba = clf.predict_proba(X_test)\n",
    "probs = np.stack([p[:,1] for p in pred_proba], axis=1)"
   ]
  },
  {
   "cell_type": "code",
   "execution_count": null,
   "metadata": {},
   "outputs": [],
   "source": [
    "matthews_corrcoef(y_test, preds)"
   ]
  },
  {
   "cell_type": "code",
   "execution_count": null,
   "metadata": {},
   "outputs": [],
   "source": [
    "roc_auc_score(y_test, probs, None)"
   ]
  },
  {
   "cell_type": "code",
   "execution_count": null,
   "metadata": {},
   "outputs": [],
   "source": []
  },
  {
   "cell_type": "code",
   "execution_count": null,
   "metadata": {},
   "outputs": [],
   "source": [
    "make_scorer(roc_auc_score, needs_proba=True, average='micro')"
   ]
  },
  {
   "cell_type": "code",
   "execution_count": null,
   "metadata": {},
   "outputs": [],
   "source": [
    "#extra_params = {\n",
    "#               'rf': {'n_iter': 20,\n",
    "#                      'verbose': 1},\n",
    "#               'elastic cv' : {'max_iter': 20000}\n",
    "#               }\n",
    "\n",
    "#ML.evaluate_regression_model(\n",
    "#                            model_type = 'linear',\n",
    "#                            data_scaler = 'standard',\n",
    "#                            n_splits = 2,\n",
    "#                            n_repeats = 1,\n",
    "#                            int_cv = 2,\n",
    "#                            extra_params = extra_params\n",
    "#                            )"
   ]
  }
 ],
 "metadata": {
  "kernelspec": {
   "display_name": "Python 3",
   "language": "python",
   "name": "python3"
  },
  "language_info": {
   "codemirror_mode": {
    "name": "ipython",
    "version": 3
   },
   "file_extension": ".py",
   "mimetype": "text/x-python",
   "name": "python",
   "nbconvert_exporter": "python",
   "pygments_lexer": "ipython3",
   "version": "3.6.7"
  }
 },
 "nbformat": 4,
 "nbformat_minor": 2
}
