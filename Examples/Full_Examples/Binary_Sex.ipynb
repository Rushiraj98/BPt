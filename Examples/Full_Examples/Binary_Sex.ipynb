{
 "cells": [
  {
   "cell_type": "markdown",
   "metadata": {},
   "source": [
    "This notebook goes through a simple binary classification example, explaining general library functionality and loading along the way.\n",
    "\n",
    "We perform binary classification on sex, using structural MRI rois."
   ]
  },
  {
   "cell_type": "markdown",
   "metadata": {},
   "source": [
    "# Init Phase"
   ]
  },
  {
   "cell_type": "code",
   "execution_count": 1,
   "metadata": {},
   "outputs": [],
   "source": [
    "from ABCD_ML import *\n",
    "\n",
    "# The rest of these are just used to help show different things\n",
    "import os\n",
    "import seaborn as sns\n",
    "import pandas as pd\n",
    "import numpy as np\n",
    "import matplotlib.pyplot as plt"
   ]
  },
  {
   "cell_type": "markdown",
   "metadata": {},
   "source": [
    "The following definition are useful simply as a shorthand for defining long file paths all in one place."
   ]
  },
  {
   "cell_type": "code",
   "execution_count": 2,
   "metadata": {},
   "outputs": [],
   "source": [
    "# Base data directories, 2.0 release with most of the phenotype information\n",
    "nda_dr = '/home/sage/work/ABCD2p0NDA/'\n",
    "\n",
    "# This folder contains the re-released 2.0.1 fixed MRI derived measurements\n",
    "nda_dr2 = '/home/sage/work/ABCDFixRelease2p0p1/'\n",
    "\n",
    "#This file stores the name mapping\n",
    "map_file = os.path.join(nda_dr2, 'Fix Release Notes 2.0.1_Public', '24. ABCD_Release_2.0.1_Updates',\n",
    "                        'abcd_2.0.1_mapping.csv')\n",
    "\n",
    "# Destr atlas structural MRI rois\n",
    "data1 = os.path.join(nda_dr2, 'abcd_mrisdp101.txt')\n",
    "data2 = os.path.join(nda_dr2, 'abcd_mrisdp201.txt')\n",
    "\n",
    "# Family ID\n",
    "strat1 = os.path.join(nda_dr, 'acspsw03.txt')"
   ]
  },
  {
   "cell_type": "markdown",
   "metadata": {},
   "source": [
    "We first need to define the class object, which we will use to load load and to train/test different ML models.\n",
    "There are a few global parameters which we can optionally set when defining this object as well, lets look and see what they are at https://abcd-ml.readthedocs.io/en/latest/ABCD_ML_class_docs.html#init"
   ]
  },
  {
   "cell_type": "markdown",
   "metadata": {},
   "source": [
    "Most of the default parameters are okay for this simple example, but any of them can be changed."
   ]
  },
  {
   "cell_type": "code",
   "execution_count": 3,
   "metadata": {},
   "outputs": [
    {
     "name": "stdout",
     "output_type": "stream",
     "text": [
      "exp_name = Sex\n",
      "log_dr = /home/sage/ABCD_ML/Examples/Full_Examples\n",
      "existing_log = overwrite\n",
      "verbose = True\n",
      "exp log dr setup at: /home/sage/ABCD_ML/Examples/Full_Examples/Sex\n",
      "log file at: /home/sage/ABCD_ML/Examples/Full_Examples/Sex/logs.txt\n",
      "Default params set:\n",
      "notebook = True\n",
      "use_abcd_subject_ids = True\n",
      "low memory mode = False\n",
      "strat_u_name = _Strat\n",
      "random state = 1\n",
      "n_jobs = 1\n",
      "dpi = 100\n",
      "mp_context = spawn\n",
      "ABCD_ML object initialized\n"
     ]
    }
   ],
   "source": [
    "ML = ABCD_ML(exp_name = 'Sex',\n",
    "             existing_log = 'overwrite',\n",
    "             use_abcd_subject_ids = True,\n",
    "             random_state = 1)"
   ]
  },
  {
   "cell_type": "markdown",
   "metadata": {},
   "source": [
    "# Loading Phase"
   ]
  },
  {
   "cell_type": "markdown",
   "metadata": {},
   "source": [
    "First we will consider setting default parameters for loading, which can be found at: https://abcd-ml.readthedocs.io/en/latest/ABCD_ML_class_docs.html#set-default-load-params"
   ]
  },
  {
   "cell_type": "code",
   "execution_count": 4,
   "metadata": {},
   "outputs": [
    {
     "name": "stdout",
     "output_type": "stream",
     "text": [
      "Default load params set within self.default_load_params.\n",
      "----------------------\n",
      "dataset_type: basic\n",
      "subject_id: src_subject_id\n",
      "eventname: baseline_year_1_arm_1\n",
      "eventname_col: eventname\n",
      "overlap_subjects: False\n",
      "merge: inner\n",
      "na_values: ['777', '999']\n",
      "drop_na: True\n",
      "drop_or_na: drop\n",
      "\n"
     ]
    }
   ],
   "source": [
    "ML.Set_Default_Load_Params(dataset_type = 'basic',\n",
    "                           eventname = 'baseline_year_1_arm_1',\n",
    "                           eventname_col = 'eventname',\n",
    "                           drop_na = True)"
   ]
  },
  {
   "cell_type": "markdown",
   "metadata": {},
   "source": [
    "We can continue by optionally loading in a name map, which is simply a dictionary that attempts to rename any column names loaded in, if those column names are a key in the dictionary. This is useful for ABCD data as the default column names might not be useful. This mapping was provided along with the 2.0.1 data release. See: https://abcd-ml.readthedocs.io/en/latest/ABCD_ML_class_docs.html#load-name-map"
   ]
  },
  {
   "cell_type": "code",
   "execution_count": 5,
   "metadata": {},
   "outputs": [
    {
     "name": "stdout",
     "output_type": "stream",
     "text": [
      "Loading /home/sage/work/ABCDFixRelease2p0p1/Fix Release Notes 2.0.1_Public/24. ABCD_Release_2.0.1_Updates/abcd_2.0.1_mapping.csv  with dataset type: explorer\n",
      "Loading new name_map from file!\n"
     ]
    }
   ],
   "source": [
    "ML.Load_Name_Map(loc = map_file,\n",
    "                 dataset_type = 'explorer',\n",
    "                 source_name_col = 'nda_name',\n",
    "                 target_name_col = 'deap_name')"
   ]
  },
  {
   "cell_type": "code",
   "execution_count": 11,
   "metadata": {},
   "outputs": [],
   "source": [
    "import json\n",
    "with open('/home/sage/BPt/data/sources/custom/abcd_mapping.json', 'w') as f:\n",
    "    json.dump(ML.name_map, f)\n"
   ]
  },
  {
   "cell_type": "code",
   "execution_count": 28,
   "metadata": {},
   "outputs": [
    {
     "name": "stdout",
     "output_type": "stream",
     "text": [
      "Loading /home/sage/work/ABCDFixRelease2p0p1/abcd_mrisdp101.txt  with dataset type: basic\n",
      "Dropped 0 cols for all missing values\n",
      "Dropped 1 rows for missing values, based on the provided drop_na param: True with actual na_thresh: 0\n",
      "Loaded rows with NaN remaining: 0\n",
      "\n",
      "loading: sex\n",
      "\n",
      "Loaded Shape: (11533, 1)\n",
      "All loaded targets\n",
      "0 : sex\n",
      "\n"
     ]
    }
   ],
   "source": [
    "ML.Load_Targets(loc=data1,\n",
    "                col_name = 'sex',\n",
    "                data_type='b')"
   ]
  },
  {
   "cell_type": "code",
   "execution_count": 29,
   "metadata": {},
   "outputs": [
    {
     "name": "stdout",
     "output_type": "stream",
     "text": [
      "cleared strat.\n",
      "\n",
      "Loading /home/sage/work/ABCDFixRelease2p0p1/abcd_mrisdp101.txt  with dataset type: basic\n",
      "Dropped 0 cols for all missing values\n",
      "Dropped 0 rows for missing values, based on the provided drop_na param: True with actual na_thresh: 0\n",
      "Loaded rows with NaN remaining: 0\n",
      "Binarizing interview_age_Strat\n",
      "Setting: 6077 as 0.\n",
      "Setting: 5457 as 1.\n",
      "Loaded Shape: (11534, 1)\n",
      "Set to overlapping loaded subjects.\n",
      "-- interview_age_Strat --\n"
     ]
    },
    {
     "data": {
      "text/html": [
       "<div>\n",
       "<style scoped>\n",
       "    .dataframe tbody tr th:only-of-type {\n",
       "        vertical-align: middle;\n",
       "    }\n",
       "\n",
       "    .dataframe tbody tr th {\n",
       "        vertical-align: top;\n",
       "    }\n",
       "\n",
       "    .dataframe thead th {\n",
       "        text-align: right;\n",
       "    }\n",
       "</style>\n",
       "<table border=\"1\" class=\"dataframe\">\n",
       "  <thead>\n",
       "    <tr style=\"text-align: right;\">\n",
       "      <th></th>\n",
       "      <th>Original_Name</th>\n",
       "      <th>Counts</th>\n",
       "      <th>Frequency</th>\n",
       "    </tr>\n",
       "    <tr>\n",
       "      <th>Internal_Name</th>\n",
       "      <th></th>\n",
       "      <th></th>\n",
       "      <th></th>\n",
       "    </tr>\n",
       "  </thead>\n",
       "  <tbody>\n",
       "    <tr>\n",
       "      <th>0</th>\n",
       "      <td>&lt;120</td>\n",
       "      <td>6076</td>\n",
       "      <td>0.526836</td>\n",
       "    </tr>\n",
       "    <tr>\n",
       "      <th>1</th>\n",
       "      <td>&gt;=120</td>\n",
       "      <td>5457</td>\n",
       "      <td>0.473164</td>\n",
       "    </tr>\n",
       "  </tbody>\n",
       "</table>\n",
       "</div>"
      ],
      "text/plain": [
       "              Original_Name  Counts  Frequency\n",
       "Internal_Name                                 \n",
       "0                      <120    6076   0.526836\n",
       "1                     >=120    5457   0.473164"
      ]
     },
     "metadata": {},
     "output_type": "display_data"
    },
    {
     "data": {
      "image/png": "[encoded data removed]",
      "text/plain": [
       "<Figure size 432x288 with 1 Axes>"
      ]
     },
     "metadata": {
      "needs_background": "light"
     },
     "output_type": "display_data"
    },
    {
     "name": "stdout",
     "output_type": "stream",
     "text": [
      "\n"
     ]
    }
   ],
   "source": [
    "ML.Load_Strat(loc=data1,\n",
    "              col_name = 'interview_age',\n",
    "              clear_existing = True,\n",
    "              float_to_binary = 120)\n",
    "ML.Show_Strat_Dist()"
   ]
  },
  {
   "cell_type": "code",
   "execution_count": 7,
   "metadata": {},
   "outputs": [
    {
     "name": "stdout",
     "output_type": "stream",
     "text": [
      "Warning: code_categorical_as has been depreciated. Please move performing categorical encoding to within the Cross-validated loop via Transformers.\n",
      "cleared covars.\n",
      "\n",
      "Loading /home/sage/work/ABCDFixRelease2p0p1/abcd_mrisdp101.txt  with dataset type: basic\n",
      "Dropped 0 cols for all missing values\n",
      "Dropped 0 rows for missing values, based on the provided drop_na param: True with actual na_thresh: 0\n",
      "Loaded rows with NaN remaining: 0\n",
      "loading: interview_age(b)\n",
      "Dropped value(s) [107 132] according to passed drop percent of 0.02\n",
      "Dropped 261 rows based on filter input params, e.g. filter outlier percent, drop cat, ect...\n",
      "Loaded Shape: (11273, 1)\n",
      "Set to overlapping loaded subjects.\n",
      "-- interview_age(b) --\n"
     ]
    },
    {
     "data": {
      "text/html": [
       "<div>\n",
       "<style scoped>\n",
       "    .dataframe tbody tr th:only-of-type {\n",
       "        vertical-align: middle;\n",
       "    }\n",
       "\n",
       "    .dataframe tbody tr th {\n",
       "        vertical-align: top;\n",
       "    }\n",
       "\n",
       "    .dataframe thead th {\n",
       "        text-align: right;\n",
       "    }\n",
       "</style>\n",
       "<table border=\"1\" class=\"dataframe\">\n",
       "  <thead>\n",
       "    <tr style=\"text-align: right;\">\n",
       "      <th></th>\n",
       "      <th>Original_Name</th>\n",
       "      <th>Counts</th>\n",
       "      <th>Frequency</th>\n",
       "    </tr>\n",
       "    <tr>\n",
       "      <th>Internal_Name</th>\n",
       "      <th></th>\n",
       "      <th></th>\n",
       "      <th></th>\n",
       "    </tr>\n",
       "  </thead>\n",
       "  <tbody>\n",
       "    <tr>\n",
       "      <th>0.0</th>\n",
       "      <td>108.0</td>\n",
       "      <td>879</td>\n",
       "      <td>0.077981</td>\n",
       "    </tr>\n",
       "    <tr>\n",
       "      <th>1.0</th>\n",
       "      <td>109.0</td>\n",
       "      <td>633</td>\n",
       "      <td>0.056157</td>\n",
       "    </tr>\n",
       "    <tr>\n",
       "      <th>2.0</th>\n",
       "      <td>110.0</td>\n",
       "      <td>534</td>\n",
       "      <td>0.047374</td>\n",
       "    </tr>\n",
       "    <tr>\n",
       "      <th>3.0</th>\n",
       "      <td>111.0</td>\n",
       "      <td>465</td>\n",
       "      <td>0.041253</td>\n",
       "    </tr>\n",
       "    <tr>\n",
       "      <th>4.0</th>\n",
       "      <td>112.0</td>\n",
       "      <td>378</td>\n",
       "      <td>0.033534</td>\n",
       "    </tr>\n",
       "    <tr>\n",
       "      <th>5.0</th>\n",
       "      <td>113.0</td>\n",
       "      <td>401</td>\n",
       "      <td>0.035575</td>\n",
       "    </tr>\n",
       "    <tr>\n",
       "      <th>6.0</th>\n",
       "      <td>114.0</td>\n",
       "      <td>419</td>\n",
       "      <td>0.037172</td>\n",
       "    </tr>\n",
       "    <tr>\n",
       "      <th>7.0</th>\n",
       "      <td>115.0</td>\n",
       "      <td>433</td>\n",
       "      <td>0.038414</td>\n",
       "    </tr>\n",
       "    <tr>\n",
       "      <th>8.0</th>\n",
       "      <td>116.0</td>\n",
       "      <td>462</td>\n",
       "      <td>0.040987</td>\n",
       "    </tr>\n",
       "    <tr>\n",
       "      <th>9.0</th>\n",
       "      <td>117.0</td>\n",
       "      <td>444</td>\n",
       "      <td>0.039390</td>\n",
       "    </tr>\n",
       "    <tr>\n",
       "      <th>10.0</th>\n",
       "      <td>118.0</td>\n",
       "      <td>456</td>\n",
       "      <td>0.040454</td>\n",
       "    </tr>\n",
       "    <tr>\n",
       "      <th>11.0</th>\n",
       "      <td>119.0</td>\n",
       "      <td>422</td>\n",
       "      <td>0.037438</td>\n",
       "    </tr>\n",
       "    <tr>\n",
       "      <th>12.0</th>\n",
       "      <td>120.0</td>\n",
       "      <td>446</td>\n",
       "      <td>0.039567</td>\n",
       "    </tr>\n",
       "    <tr>\n",
       "      <th>13.0</th>\n",
       "      <td>121.0</td>\n",
       "      <td>422</td>\n",
       "      <td>0.037438</td>\n",
       "    </tr>\n",
       "    <tr>\n",
       "      <th>14.0</th>\n",
       "      <td>122.0</td>\n",
       "      <td>424</td>\n",
       "      <td>0.037615</td>\n",
       "    </tr>\n",
       "    <tr>\n",
       "      <th>15.0</th>\n",
       "      <td>123.0</td>\n",
       "      <td>420</td>\n",
       "      <td>0.037260</td>\n",
       "    </tr>\n",
       "    <tr>\n",
       "      <th>16.0</th>\n",
       "      <td>124.0</td>\n",
       "      <td>434</td>\n",
       "      <td>0.038502</td>\n",
       "    </tr>\n",
       "    <tr>\n",
       "      <th>17.0</th>\n",
       "      <td>125.0</td>\n",
       "      <td>432</td>\n",
       "      <td>0.038325</td>\n",
       "    </tr>\n",
       "    <tr>\n",
       "      <th>18.0</th>\n",
       "      <td>126.0</td>\n",
       "      <td>423</td>\n",
       "      <td>0.037527</td>\n",
       "    </tr>\n",
       "    <tr>\n",
       "      <th>19.0</th>\n",
       "      <td>127.0</td>\n",
       "      <td>423</td>\n",
       "      <td>0.037527</td>\n",
       "    </tr>\n",
       "    <tr>\n",
       "      <th>20.0</th>\n",
       "      <td>128.0</td>\n",
       "      <td>386</td>\n",
       "      <td>0.034244</td>\n",
       "    </tr>\n",
       "    <tr>\n",
       "      <th>21.0</th>\n",
       "      <td>129.0</td>\n",
       "      <td>453</td>\n",
       "      <td>0.040188</td>\n",
       "    </tr>\n",
       "    <tr>\n",
       "      <th>22.0</th>\n",
       "      <td>130.0</td>\n",
       "      <td>441</td>\n",
       "      <td>0.039123</td>\n",
       "    </tr>\n",
       "    <tr>\n",
       "      <th>23.0</th>\n",
       "      <td>131.0</td>\n",
       "      <td>642</td>\n",
       "      <td>0.056955</td>\n",
       "    </tr>\n",
       "  </tbody>\n",
       "</table>\n",
       "</div>"
      ],
      "text/plain": [
       "               Original_Name  Counts  Frequency\n",
       "Internal_Name                                  \n",
       "0.0                    108.0     879   0.077981\n",
       "1.0                    109.0     633   0.056157\n",
       "2.0                    110.0     534   0.047374\n",
       "3.0                    111.0     465   0.041253\n",
       "4.0                    112.0     378   0.033534\n",
       "5.0                    113.0     401   0.035575\n",
       "6.0                    114.0     419   0.037172\n",
       "7.0                    115.0     433   0.038414\n",
       "8.0                    116.0     462   0.040987\n",
       "9.0                    117.0     444   0.039390\n",
       "10.0                   118.0     456   0.040454\n",
       "11.0                   119.0     422   0.037438\n",
       "12.0                   120.0     446   0.039567\n",
       "13.0                   121.0     422   0.037438\n",
       "14.0                   122.0     424   0.037615\n",
       "15.0                   123.0     420   0.037260\n",
       "16.0                   124.0     434   0.038502\n",
       "17.0                   125.0     432   0.038325\n",
       "18.0                   126.0     423   0.037527\n",
       "19.0                   127.0     423   0.037527\n",
       "20.0                   128.0     386   0.034244\n",
       "21.0                   129.0     453   0.040188\n",
       "22.0                   130.0     441   0.039123\n",
       "23.0                   131.0     642   0.056955"
      ]
     },
     "metadata": {},
     "output_type": "display_data"
    },
    {
     "data": {
      "image/png": "[encoded data removed]",
      "text/plain": [
       "<Figure size 432x288 with 1 Axes>"
      ]
     },
     "metadata": {
      "needs_background": "light"
     },
     "output_type": "display_data"
    },
    {
     "name": "stdout",
     "output_type": "stream",
     "text": [
      "\n"
     ]
    }
   ],
   "source": [
    "ML.Load_Covars(loc=data1,\n",
    "               col_name=['interview_age'],\n",
    "               data_type='cat',\n",
    "               clear_existing=True,\n",
    "               code_categorical_as='dummy',\n",
    "               categorical_drop_percent=.02,\n",
    "               ext = '(b)'\n",
    "              )\n",
    "\n",
    "ML.Show_Covars_Dist()"
   ]
  },
  {
   "cell_type": "code",
   "execution_count": 30,
   "metadata": {},
   "outputs": [
    {
     "data": {
      "text/plain": [
       "{'ddtidp_119': 'dmri_dti.fa.wm_cort.destrieux_s.central.rh',\n",
       " 'ddtidp_120': 'dmri_dti.fa.wm_cort.destrieux_s.cingul.marginalis.rh',\n",
       " 'ddtidp_121': 'dmri_dti.fa.wm_cort.destrieux_s.circular.insula.ant.rh',\n",
       " 'ddtidp_122': 'dmri_dti.fa.wm_cort.destrieux_s.circular.insula.inf.rh',\n",
       " 'ddtidp_123': 'dmri_dti.fa.wm_cort.destrieux_s.circular.insula.sup.rh',\n",
       " 'ddtidp_124': 'dmri_dti.fa.wm_cort.destrieux_s.collat.transv.ant.rh',\n",
       " 'ddtidp_125': 'dmri_dti.fa.wm_cort.destrieux_s.collat.transv.post.rh',\n",
       " 'ddtidp_126': 'dmri_dti.fa.wm_cort.destrieux_s.front.inf.rh',\n",
       " 'ddtidp_127': 'dmri_dti.fa.wm_cort.destrieux_s.front.middle.rh',\n",
       " 'ddtidp_128': 'dmri_dti.fa.wm_cort.destrieux_s.front.sup.rh',\n",
       " 'ddtidp_129': 'dmri_dti.fa.wm_cort.destrieux_s.interm.prim.jensen.rh',\n",
       " 'ddtidp_130': 'dmri_dti.fa.wm_cort.destrieux_s.intrapariet.and.p.trans.rh',\n",
       " 'ddtidp_131': 'dmri_dti.fa.wm_cort.destrieux_s.oc.middle.and.lunatus.rh',\n",
       " 'ddtidp_132': 'dmri_dti.fa.wm_cort.destrieux_s.oc.sup.and.transversal.rh',\n",
       " 'ddtidp_133': 'dmri_dti.fa.wm_cort.destrieux_s.occipital.ant.rh',\n",
       " 'ddtidp_134': 'dmri_dti.fa.wm_cort.destrieux_s.oc.temp.lat.rh',\n",
       " 'ddtidp_135': 'dmri_dti.fa.wm_cort.destrieux_s.oc.temp.med.and.lingual.rh',\n",
       " 'ddtidp_136': 'dmri_dti.fa.wm_cort.destrieux_s.orbital.lateral.rh',\n",
       " 'ddtidp_137': 'dmri_dti.fa.wm_cort.destrieux_s.orbital.med.olfact.rh',\n",
       " 'ddtidp_138': 'dmri_dti.fa.wm_cort.destrieux_s.orbital.h.shaped.rh'}"
      ]
     },
     "execution_count": 30,
     "metadata": {},
     "output_type": "execute_result"
    }
   ],
   "source": [
    "some_examples = {k: ML.name_map[k] for k in list(ML.name_map)[300:320]}\n",
    "some_examples"
   ]
  },
  {
   "cell_type": "markdown",
   "metadata": {},
   "source": [
    "The next step to consider is in if there are any subjects which should be apriori excluded. These can be defined as either a list of subjects to exclude, or as a list of subjects to include (where only those subjects that appear in the list would be kept).\n",
    "\n",
    "See:\n",
    "\n",
    "- https://abcd-ml.readthedocs.io/en/latest/ABCD_ML_class_docs.html#load-exclusions\n",
    "\n",
    "- https://abcd-ml.readthedocs.io/en/latest/ABCD_ML_class_docs.html#load-inclusions\n",
    "\n",
    "In this example we will not define any.\n",
    "\n",
    "Next, we will load in the actual data of interest. You will note when looking at the help function that all of the parameter we set in the defaults can also be set here as well, or if we want to keep the default params, we just leave the values as is.\n",
    "\n",
    "See: https://abcd-ml.readthedocs.io/en/latest/ABCD_ML_class_docs.html#load-data\n"
   ]
  },
  {
   "cell_type": "code",
   "execution_count": 31,
   "metadata": {},
   "outputs": [
    {
     "name": "stdout",
     "output_type": "stream",
     "text": [
      "Loading /home/sage/work/ABCDFixRelease2p0p1/abcd_mrisdp101.txt  with dataset type: basic\n",
      "dropped ['collection_id', 'abcd_mrisdp101_id', 'dataset_id', 'subjectkey', 'interview_age', 'interview_date', 'sex', 'collection_title', 'study_cohort_name'] columns by default  due to dataset type\n",
      "Loading /home/sage/work/ABCDFixRelease2p0p1/abcd_mrisdp201.txt  with dataset type: basic\n",
      "dropped ['collection_id', 'abcd_mrisdp201_id', 'dataset_id', 'subjectkey', 'interview_age', 'interview_date', 'sex', 'collection_title', 'study_cohort_name'] columns by default  due to dataset type\n",
      "\n",
      "Dropped 0 cols for all missing values\n",
      "Dropped 2892 rows for missing values, based on the provided drop_na param: True with actual na_thresh: 0\n",
      "Loaded rows with NaN remaining: 0\n",
      "\n",
      "Processing unique col values with drop threshold: 0 - warn threshold: 432.1 - out of 8642 rows\n",
      "Warn - smri_area_cort.destrieux_g.front.inf.orbital.lh(b) has unique vals: 300\n",
      "Warn - smri_area_cort.destrieux_g.ins.lg.and.s.cent.ins.lh(b) has unique vals: 350\n",
      "Warn - smri_area_cort.destrieux_g.temp.sup.g.t.transv.lh(b) has unique vals: 417\n",
      "Warn - smri_area_cort.destrieux_lat.fis.ant.horizont.lh(b) has unique vals: 300\n",
      "Warn - smri_area_cort.destrieux_lat.fis.ant.vertical.lh(b) has unique vals: 395\n",
      "Warn - smri_area_cort.destrieux_s.circular.insula.ant.lh(b) has unique vals: 398\n",
      "Warn - smri_area_cort.destrieux_s.collat.transv.post.lh(b) has unique vals: 427\n",
      "Warn - smri_area_cort.destrieux_s.orbital.lateral.lh(b) has unique vals: 407\n",
      "Warn - smri_area_cort.destrieux_s.temporal.transverse.lh(b) has unique vals: 371\n",
      "Warn - smri_area_cort.destrieux_g.cingul.post.ventral.rh(b) has unique vals: 302\n",
      "Warn - smri_area_cort.destrieux_g.front.inf.orbital.rh(b) has unique vals: 351\n",
      "Warn - smri_area_cort.destrieux_g.ins.lg.and.s.cent.ins.rh(b) has unique vals: 355\n",
      "Warn - smri_area_cort.destrieux_g.rectus.rh(b) has unique vals: 399\n",
      "Warn - smri_area_cort.destrieux_g.temp.sup.g.t.transv.rh(b) has unique vals: 321\n",
      "Warn - smri_area_cort.destrieux_lat.fis.ant.horizont.rh(b) has unique vals: 361\n",
      "Warn - smri_area_cort.destrieux_lat.fis.ant.vertical.rh(b) has unique vals: 328\n",
      "Warn - smri_area_cort.destrieux_s.temporal.transverse.rh(b) has unique vals: 290\n",
      "\n",
      "Loaded Shape: (8642, 1510)\n"
     ]
    }
   ],
   "source": [
    "ML.Load_Data(loc=[data1, data2],\n",
    "             ext='(b)')"
   ]
  },
  {
   "cell_type": "code",
   "execution_count": 32,
   "metadata": {},
   "outputs": [
    {
     "data": {
      "text/html": [
       "<div>\n",
       "<style scoped>\n",
       "    .dataframe tbody tr th:only-of-type {\n",
       "        vertical-align: middle;\n",
       "    }\n",
       "\n",
       "    .dataframe tbody tr th {\n",
       "        vertical-align: top;\n",
       "    }\n",
       "\n",
       "    .dataframe thead th {\n",
       "        text-align: right;\n",
       "    }\n",
       "</style>\n",
       "<table border=\"1\" class=\"dataframe\">\n",
       "  <thead>\n",
       "    <tr style=\"text-align: right;\">\n",
       "      <th></th>\n",
       "      <th>smri_thick_cort.destrieux_g.and.s.frontomargin.lh(b)</th>\n",
       "      <th>smri_thick_cort.destrieux_g.and.s.occipital.inf.lh(b)</th>\n",
       "      <th>smri_thick_cort.destrieux_g.and.s.paracentral.lh(b)</th>\n",
       "      <th>smri_thick_cort.destrieux_g.and.s.subcentral.lh(b)</th>\n",
       "      <th>smri_thick_cort.destrieux_g.and.s.transv.frontopol.lh(b)</th>\n",
       "      <th>smri_thick_cort.destrieux_g.and.s.cingul.ant.lh(b)</th>\n",
       "      <th>smri_thick_cort.destrieux_g.and.s.cingul.mid.ant.lh(b)</th>\n",
       "      <th>smri_thick_cort.destrieux_g.and.s.cingul.mid.post.lh(b)</th>\n",
       "      <th>smri_thick_cort.destrieux_g.cingul.post.dorsal.lh(b)</th>\n",
       "      <th>smri_thick_cort.destrieux_g.cingul.post.ventral.lh(b)</th>\n",
       "      <th>...</th>\n",
       "      <th>smri_t2w.contrast_cort.destrieux_s.precentral.inf.part.rh(b)</th>\n",
       "      <th>smri_t2w.contrast_cort.destrieux_s.precentral.sup.part.rh(b)</th>\n",
       "      <th>smri_t2w.contrast_cort.destrieux_s.suborbital.rh(b)</th>\n",
       "      <th>smri_t2w.contrast_cort.destrieux_s.subparietal.rh(b)</th>\n",
       "      <th>smri_t2w.contrast_cort.destrieux_s.temporal.inf.rh(b)</th>\n",
       "      <th>smri_t2w.contrast_cort.destrieux_s.temporal.sup.rh(b)</th>\n",
       "      <th>smri_t2w.contrast_cort.destrieux_s.temporal.transverse.rh(b)</th>\n",
       "      <th>smri_t2w.contrast_cort.destrieux_mean.lh(b)</th>\n",
       "      <th>smri_t2w.contrast_cort.destrieux_mean.rh(b)</th>\n",
       "      <th>smri_t2w.contrast_cort.destrieux_mean(b)</th>\n",
       "    </tr>\n",
       "    <tr>\n",
       "      <th>src_subject_id</th>\n",
       "      <th></th>\n",
       "      <th></th>\n",
       "      <th></th>\n",
       "      <th></th>\n",
       "      <th></th>\n",
       "      <th></th>\n",
       "      <th></th>\n",
       "      <th></th>\n",
       "      <th></th>\n",
       "      <th></th>\n",
       "      <th></th>\n",
       "      <th></th>\n",
       "      <th></th>\n",
       "      <th></th>\n",
       "      <th></th>\n",
       "      <th></th>\n",
       "      <th></th>\n",
       "      <th></th>\n",
       "      <th></th>\n",
       "      <th></th>\n",
       "      <th></th>\n",
       "    </tr>\n",
       "  </thead>\n",
       "  <tbody>\n",
       "    <tr>\n",
       "      <th>NDAR_INVTK4DJ93H</th>\n",
       "      <td>2.566</td>\n",
       "      <td>2.264</td>\n",
       "      <td>2.129</td>\n",
       "      <td>2.991</td>\n",
       "      <td>3.079</td>\n",
       "      <td>2.930</td>\n",
       "      <td>2.757</td>\n",
       "      <td>2.758</td>\n",
       "      <td>3.207</td>\n",
       "      <td>3.040</td>\n",
       "      <td>...</td>\n",
       "      <td>-0.064891</td>\n",
       "      <td>-0.054464</td>\n",
       "      <td>-0.074359</td>\n",
       "      <td>-0.070335</td>\n",
       "      <td>-0.076025</td>\n",
       "      <td>-0.071395</td>\n",
       "      <td>-0.079813</td>\n",
       "      <td>-0.048968</td>\n",
       "      <td>-0.047173</td>\n",
       "      <td>-0.048065</td>\n",
       "    </tr>\n",
       "    <tr>\n",
       "      <th>NDAR_INVB2DX8YD7</th>\n",
       "      <td>2.780</td>\n",
       "      <td>2.760</td>\n",
       "      <td>2.388</td>\n",
       "      <td>2.771</td>\n",
       "      <td>3.014</td>\n",
       "      <td>2.921</td>\n",
       "      <td>2.721</td>\n",
       "      <td>2.705</td>\n",
       "      <td>3.189</td>\n",
       "      <td>2.377</td>\n",
       "      <td>...</td>\n",
       "      <td>-0.059263</td>\n",
       "      <td>-0.055367</td>\n",
       "      <td>-0.079465</td>\n",
       "      <td>-0.053663</td>\n",
       "      <td>-0.073469</td>\n",
       "      <td>-0.066579</td>\n",
       "      <td>-0.065031</td>\n",
       "      <td>-0.043166</td>\n",
       "      <td>-0.046157</td>\n",
       "      <td>-0.044656</td>\n",
       "    </tr>\n",
       "    <tr>\n",
       "      <th>NDAR_INVZDLAWZZL</th>\n",
       "      <td>2.559</td>\n",
       "      <td>2.873</td>\n",
       "      <td>2.818</td>\n",
       "      <td>3.204</td>\n",
       "      <td>3.010</td>\n",
       "      <td>3.121</td>\n",
       "      <td>2.987</td>\n",
       "      <td>2.859</td>\n",
       "      <td>3.348</td>\n",
       "      <td>2.943</td>\n",
       "      <td>...</td>\n",
       "      <td>-0.077273</td>\n",
       "      <td>-0.071355</td>\n",
       "      <td>-0.109950</td>\n",
       "      <td>-0.096072</td>\n",
       "      <td>-0.080885</td>\n",
       "      <td>-0.086107</td>\n",
       "      <td>-0.070973</td>\n",
       "      <td>-0.066038</td>\n",
       "      <td>-0.066082</td>\n",
       "      <td>-0.066060</td>\n",
       "    </tr>\n",
       "    <tr>\n",
       "      <th>NDAR_INV85W58U88</th>\n",
       "      <td>2.521</td>\n",
       "      <td>2.934</td>\n",
       "      <td>2.769</td>\n",
       "      <td>3.021</td>\n",
       "      <td>3.029</td>\n",
       "      <td>3.094</td>\n",
       "      <td>3.059</td>\n",
       "      <td>2.919</td>\n",
       "      <td>3.079</td>\n",
       "      <td>3.090</td>\n",
       "      <td>...</td>\n",
       "      <td>-0.099024</td>\n",
       "      <td>-0.093964</td>\n",
       "      <td>-0.144186</td>\n",
       "      <td>-0.117694</td>\n",
       "      <td>-0.121687</td>\n",
       "      <td>-0.103735</td>\n",
       "      <td>-0.106336</td>\n",
       "      <td>-0.084448</td>\n",
       "      <td>-0.083982</td>\n",
       "      <td>-0.084215</td>\n",
       "    </tr>\n",
       "    <tr>\n",
       "      <th>NDAR_INVWT13MP64</th>\n",
       "      <td>2.862</td>\n",
       "      <td>2.625</td>\n",
       "      <td>2.403</td>\n",
       "      <td>2.856</td>\n",
       "      <td>2.880</td>\n",
       "      <td>3.012</td>\n",
       "      <td>2.993</td>\n",
       "      <td>3.112</td>\n",
       "      <td>3.411</td>\n",
       "      <td>2.141</td>\n",
       "      <td>...</td>\n",
       "      <td>-0.083565</td>\n",
       "      <td>-0.071195</td>\n",
       "      <td>-0.086150</td>\n",
       "      <td>-0.089915</td>\n",
       "      <td>-0.097587</td>\n",
       "      <td>-0.101810</td>\n",
       "      <td>-0.071571</td>\n",
       "      <td>-0.069308</td>\n",
       "      <td>-0.069666</td>\n",
       "      <td>-0.069487</td>\n",
       "    </tr>\n",
       "    <tr>\n",
       "      <th>...</th>\n",
       "      <td>...</td>\n",
       "      <td>...</td>\n",
       "      <td>...</td>\n",
       "      <td>...</td>\n",
       "      <td>...</td>\n",
       "      <td>...</td>\n",
       "      <td>...</td>\n",
       "      <td>...</td>\n",
       "      <td>...</td>\n",
       "      <td>...</td>\n",
       "      <td>...</td>\n",
       "      <td>...</td>\n",
       "      <td>...</td>\n",
       "      <td>...</td>\n",
       "      <td>...</td>\n",
       "      <td>...</td>\n",
       "      <td>...</td>\n",
       "      <td>...</td>\n",
       "      <td>...</td>\n",
       "      <td>...</td>\n",
       "      <td>...</td>\n",
       "    </tr>\n",
       "    <tr>\n",
       "      <th>NDAR_INVCYMF7WT5</th>\n",
       "      <td>2.628</td>\n",
       "      <td>2.683</td>\n",
       "      <td>2.601</td>\n",
       "      <td>2.800</td>\n",
       "      <td>3.139</td>\n",
       "      <td>2.787</td>\n",
       "      <td>2.865</td>\n",
       "      <td>2.881</td>\n",
       "      <td>3.293</td>\n",
       "      <td>2.567</td>\n",
       "      <td>...</td>\n",
       "      <td>-0.066182</td>\n",
       "      <td>-0.064147</td>\n",
       "      <td>-0.079195</td>\n",
       "      <td>-0.059806</td>\n",
       "      <td>-0.082640</td>\n",
       "      <td>-0.070042</td>\n",
       "      <td>-0.082734</td>\n",
       "      <td>-0.053253</td>\n",
       "      <td>-0.052462</td>\n",
       "      <td>-0.052852</td>\n",
       "    </tr>\n",
       "    <tr>\n",
       "      <th>NDAR_INVACZZH8LM</th>\n",
       "      <td>2.920</td>\n",
       "      <td>2.796</td>\n",
       "      <td>2.794</td>\n",
       "      <td>3.207</td>\n",
       "      <td>2.942</td>\n",
       "      <td>3.391</td>\n",
       "      <td>3.172</td>\n",
       "      <td>3.026</td>\n",
       "      <td>3.296</td>\n",
       "      <td>2.722</td>\n",
       "      <td>...</td>\n",
       "      <td>-0.080198</td>\n",
       "      <td>-0.078146</td>\n",
       "      <td>-0.086585</td>\n",
       "      <td>-0.079060</td>\n",
       "      <td>-0.094880</td>\n",
       "      <td>-0.084526</td>\n",
       "      <td>-0.079828</td>\n",
       "      <td>-0.063838</td>\n",
       "      <td>-0.064034</td>\n",
       "      <td>-0.063936</td>\n",
       "    </tr>\n",
       "    <tr>\n",
       "      <th>NDAR_INV4LX4UUWE</th>\n",
       "      <td>2.138</td>\n",
       "      <td>2.828</td>\n",
       "      <td>2.487</td>\n",
       "      <td>2.899</td>\n",
       "      <td>2.651</td>\n",
       "      <td>2.748</td>\n",
       "      <td>2.691</td>\n",
       "      <td>2.833</td>\n",
       "      <td>3.204</td>\n",
       "      <td>2.323</td>\n",
       "      <td>...</td>\n",
       "      <td>-0.070923</td>\n",
       "      <td>-0.061995</td>\n",
       "      <td>-0.087477</td>\n",
       "      <td>-0.087313</td>\n",
       "      <td>-0.082820</td>\n",
       "      <td>-0.084258</td>\n",
       "      <td>-0.097347</td>\n",
       "      <td>-0.056184</td>\n",
       "      <td>-0.056804</td>\n",
       "      <td>-0.056495</td>\n",
       "    </tr>\n",
       "    <tr>\n",
       "      <th>NDAR_INVJPLZW1Z0</th>\n",
       "      <td>2.558</td>\n",
       "      <td>2.832</td>\n",
       "      <td>2.733</td>\n",
       "      <td>3.134</td>\n",
       "      <td>3.071</td>\n",
       "      <td>3.168</td>\n",
       "      <td>3.065</td>\n",
       "      <td>3.063</td>\n",
       "      <td>3.641</td>\n",
       "      <td>3.025</td>\n",
       "      <td>...</td>\n",
       "      <td>-0.100676</td>\n",
       "      <td>-0.092846</td>\n",
       "      <td>-0.118042</td>\n",
       "      <td>-0.108063</td>\n",
       "      <td>-0.127527</td>\n",
       "      <td>-0.119469</td>\n",
       "      <td>-0.117645</td>\n",
       "      <td>-0.087359</td>\n",
       "      <td>-0.089783</td>\n",
       "      <td>-0.088572</td>\n",
       "    </tr>\n",
       "    <tr>\n",
       "      <th>NDAR_INV93JYGAXC</th>\n",
       "      <td>2.525</td>\n",
       "      <td>2.531</td>\n",
       "      <td>2.672</td>\n",
       "      <td>2.764</td>\n",
       "      <td>2.852</td>\n",
       "      <td>3.156</td>\n",
       "      <td>2.948</td>\n",
       "      <td>2.794</td>\n",
       "      <td>3.034</td>\n",
       "      <td>2.443</td>\n",
       "      <td>...</td>\n",
       "      <td>-0.098158</td>\n",
       "      <td>-0.091675</td>\n",
       "      <td>-0.119159</td>\n",
       "      <td>-0.086557</td>\n",
       "      <td>-0.123132</td>\n",
       "      <td>-0.109276</td>\n",
       "      <td>-0.104805</td>\n",
       "      <td>-0.076824</td>\n",
       "      <td>-0.078041</td>\n",
       "      <td>-0.077433</td>\n",
       "    </tr>\n",
       "  </tbody>\n",
       "</table>\n",
       "<p>8642 rows × 1510 columns</p>\n",
       "</div>"
      ],
      "text/plain": [
       "                  smri_thick_cort.destrieux_g.and.s.frontomargin.lh(b)  \\\n",
       "src_subject_id                                                           \n",
       "NDAR_INVTK4DJ93H                                              2.566      \n",
       "NDAR_INVB2DX8YD7                                              2.780      \n",
       "NDAR_INVZDLAWZZL                                              2.559      \n",
       "NDAR_INV85W58U88                                              2.521      \n",
       "NDAR_INVWT13MP64                                              2.862      \n",
       "...                                                             ...      \n",
       "NDAR_INVCYMF7WT5                                              2.628      \n",
       "NDAR_INVACZZH8LM                                              2.920      \n",
       "NDAR_INV4LX4UUWE                                              2.138      \n",
       "NDAR_INVJPLZW1Z0                                              2.558      \n",
       "NDAR_INV93JYGAXC                                              2.525      \n",
       "\n",
       "                  smri_thick_cort.destrieux_g.and.s.occipital.inf.lh(b)  \\\n",
       "src_subject_id                                                            \n",
       "NDAR_INVTK4DJ93H                                              2.264       \n",
       "NDAR_INVB2DX8YD7                                              2.760       \n",
       "NDAR_INVZDLAWZZL                                              2.873       \n",
       "NDAR_INV85W58U88                                              2.934       \n",
       "NDAR_INVWT13MP64                                              2.625       \n",
       "...                                                             ...       \n",
       "NDAR_INVCYMF7WT5                                              2.683       \n",
       "NDAR_INVACZZH8LM                                              2.796       \n",
       "NDAR_INV4LX4UUWE                                              2.828       \n",
       "NDAR_INVJPLZW1Z0                                              2.832       \n",
       "NDAR_INV93JYGAXC                                              2.531       \n",
       "\n",
       "                  smri_thick_cort.destrieux_g.and.s.paracentral.lh(b)  \\\n",
       "src_subject_id                                                          \n",
       "NDAR_INVTK4DJ93H                                              2.129     \n",
       "NDAR_INVB2DX8YD7                                              2.388     \n",
       "NDAR_INVZDLAWZZL                                              2.818     \n",
       "NDAR_INV85W58U88                                              2.769     \n",
       "NDAR_INVWT13MP64                                              2.403     \n",
       "...                                                             ...     \n",
       "NDAR_INVCYMF7WT5                                              2.601     \n",
       "NDAR_INVACZZH8LM                                              2.794     \n",
       "NDAR_INV4LX4UUWE                                              2.487     \n",
       "NDAR_INVJPLZW1Z0                                              2.733     \n",
       "NDAR_INV93JYGAXC                                              2.672     \n",
       "\n",
       "                  smri_thick_cort.destrieux_g.and.s.subcentral.lh(b)  \\\n",
       "src_subject_id                                                         \n",
       "NDAR_INVTK4DJ93H                                              2.991    \n",
       "NDAR_INVB2DX8YD7                                              2.771    \n",
       "NDAR_INVZDLAWZZL                                              3.204    \n",
       "NDAR_INV85W58U88                                              3.021    \n",
       "NDAR_INVWT13MP64                                              2.856    \n",
       "...                                                             ...    \n",
       "NDAR_INVCYMF7WT5                                              2.800    \n",
       "NDAR_INVACZZH8LM                                              3.207    \n",
       "NDAR_INV4LX4UUWE                                              2.899    \n",
       "NDAR_INVJPLZW1Z0                                              3.134    \n",
       "NDAR_INV93JYGAXC                                              2.764    \n",
       "\n",
       "                  smri_thick_cort.destrieux_g.and.s.transv.frontopol.lh(b)  \\\n",
       "src_subject_id                                                               \n",
       "NDAR_INVTK4DJ93H                                              3.079          \n",
       "NDAR_INVB2DX8YD7                                              3.014          \n",
       "NDAR_INVZDLAWZZL                                              3.010          \n",
       "NDAR_INV85W58U88                                              3.029          \n",
       "NDAR_INVWT13MP64                                              2.880          \n",
       "...                                                             ...          \n",
       "NDAR_INVCYMF7WT5                                              3.139          \n",
       "NDAR_INVACZZH8LM                                              2.942          \n",
       "NDAR_INV4LX4UUWE                                              2.651          \n",
       "NDAR_INVJPLZW1Z0                                              3.071          \n",
       "NDAR_INV93JYGAXC                                              2.852          \n",
       "\n",
       "                  smri_thick_cort.destrieux_g.and.s.cingul.ant.lh(b)  \\\n",
       "src_subject_id                                                         \n",
       "NDAR_INVTK4DJ93H                                              2.930    \n",
       "NDAR_INVB2DX8YD7                                              2.921    \n",
       "NDAR_INVZDLAWZZL                                              3.121    \n",
       "NDAR_INV85W58U88                                              3.094    \n",
       "NDAR_INVWT13MP64                                              3.012    \n",
       "...                                                             ...    \n",
       "NDAR_INVCYMF7WT5                                              2.787    \n",
       "NDAR_INVACZZH8LM                                              3.391    \n",
       "NDAR_INV4LX4UUWE                                              2.748    \n",
       "NDAR_INVJPLZW1Z0                                              3.168    \n",
       "NDAR_INV93JYGAXC                                              3.156    \n",
       "\n",
       "                  smri_thick_cort.destrieux_g.and.s.cingul.mid.ant.lh(b)  \\\n",
       "src_subject_id                                                             \n",
       "NDAR_INVTK4DJ93H                                              2.757        \n",
       "NDAR_INVB2DX8YD7                                              2.721        \n",
       "NDAR_INVZDLAWZZL                                              2.987        \n",
       "NDAR_INV85W58U88                                              3.059        \n",
       "NDAR_INVWT13MP64                                              2.993        \n",
       "...                                                             ...        \n",
       "NDAR_INVCYMF7WT5                                              2.865        \n",
       "NDAR_INVACZZH8LM                                              3.172        \n",
       "NDAR_INV4LX4UUWE                                              2.691        \n",
       "NDAR_INVJPLZW1Z0                                              3.065        \n",
       "NDAR_INV93JYGAXC                                              2.948        \n",
       "\n",
       "                  smri_thick_cort.destrieux_g.and.s.cingul.mid.post.lh(b)  \\\n",
       "src_subject_id                                                              \n",
       "NDAR_INVTK4DJ93H                                              2.758         \n",
       "NDAR_INVB2DX8YD7                                              2.705         \n",
       "NDAR_INVZDLAWZZL                                              2.859         \n",
       "NDAR_INV85W58U88                                              2.919         \n",
       "NDAR_INVWT13MP64                                              3.112         \n",
       "...                                                             ...         \n",
       "NDAR_INVCYMF7WT5                                              2.881         \n",
       "NDAR_INVACZZH8LM                                              3.026         \n",
       "NDAR_INV4LX4UUWE                                              2.833         \n",
       "NDAR_INVJPLZW1Z0                                              3.063         \n",
       "NDAR_INV93JYGAXC                                              2.794         \n",
       "\n",
       "                  smri_thick_cort.destrieux_g.cingul.post.dorsal.lh(b)  \\\n",
       "src_subject_id                                                           \n",
       "NDAR_INVTK4DJ93H                                              3.207      \n",
       "NDAR_INVB2DX8YD7                                              3.189      \n",
       "NDAR_INVZDLAWZZL                                              3.348      \n",
       "NDAR_INV85W58U88                                              3.079      \n",
       "NDAR_INVWT13MP64                                              3.411      \n",
       "...                                                             ...      \n",
       "NDAR_INVCYMF7WT5                                              3.293      \n",
       "NDAR_INVACZZH8LM                                              3.296      \n",
       "NDAR_INV4LX4UUWE                                              3.204      \n",
       "NDAR_INVJPLZW1Z0                                              3.641      \n",
       "NDAR_INV93JYGAXC                                              3.034      \n",
       "\n",
       "                  smri_thick_cort.destrieux_g.cingul.post.ventral.lh(b)  ...  \\\n",
       "src_subject_id                                                           ...   \n",
       "NDAR_INVTK4DJ93H                                              3.040      ...   \n",
       "NDAR_INVB2DX8YD7                                              2.377      ...   \n",
       "NDAR_INVZDLAWZZL                                              2.943      ...   \n",
       "NDAR_INV85W58U88                                              3.090      ...   \n",
       "NDAR_INVWT13MP64                                              2.141      ...   \n",
       "...                                                             ...      ...   \n",
       "NDAR_INVCYMF7WT5                                              2.567      ...   \n",
       "NDAR_INVACZZH8LM                                              2.722      ...   \n",
       "NDAR_INV4LX4UUWE                                              2.323      ...   \n",
       "NDAR_INVJPLZW1Z0                                              3.025      ...   \n",
       "NDAR_INV93JYGAXC                                              2.443      ...   \n",
       "\n",
       "                  smri_t2w.contrast_cort.destrieux_s.precentral.inf.part.rh(b)  \\\n",
       "src_subject_id                                                                   \n",
       "NDAR_INVTK4DJ93H                                          -0.064891              \n",
       "NDAR_INVB2DX8YD7                                          -0.059263              \n",
       "NDAR_INVZDLAWZZL                                          -0.077273              \n",
       "NDAR_INV85W58U88                                          -0.099024              \n",
       "NDAR_INVWT13MP64                                          -0.083565              \n",
       "...                                                             ...              \n",
       "NDAR_INVCYMF7WT5                                          -0.066182              \n",
       "NDAR_INVACZZH8LM                                          -0.080198              \n",
       "NDAR_INV4LX4UUWE                                          -0.070923              \n",
       "NDAR_INVJPLZW1Z0                                          -0.100676              \n",
       "NDAR_INV93JYGAXC                                          -0.098158              \n",
       "\n",
       "                  smri_t2w.contrast_cort.destrieux_s.precentral.sup.part.rh(b)  \\\n",
       "src_subject_id                                                                   \n",
       "NDAR_INVTK4DJ93H                                          -0.054464              \n",
       "NDAR_INVB2DX8YD7                                          -0.055367              \n",
       "NDAR_INVZDLAWZZL                                          -0.071355              \n",
       "NDAR_INV85W58U88                                          -0.093964              \n",
       "NDAR_INVWT13MP64                                          -0.071195              \n",
       "...                                                             ...              \n",
       "NDAR_INVCYMF7WT5                                          -0.064147              \n",
       "NDAR_INVACZZH8LM                                          -0.078146              \n",
       "NDAR_INV4LX4UUWE                                          -0.061995              \n",
       "NDAR_INVJPLZW1Z0                                          -0.092846              \n",
       "NDAR_INV93JYGAXC                                          -0.091675              \n",
       "\n",
       "                  smri_t2w.contrast_cort.destrieux_s.suborbital.rh(b)  \\\n",
       "src_subject_id                                                          \n",
       "NDAR_INVTK4DJ93H                                          -0.074359     \n",
       "NDAR_INVB2DX8YD7                                          -0.079465     \n",
       "NDAR_INVZDLAWZZL                                          -0.109950     \n",
       "NDAR_INV85W58U88                                          -0.144186     \n",
       "NDAR_INVWT13MP64                                          -0.086150     \n",
       "...                                                             ...     \n",
       "NDAR_INVCYMF7WT5                                          -0.079195     \n",
       "NDAR_INVACZZH8LM                                          -0.086585     \n",
       "NDAR_INV4LX4UUWE                                          -0.087477     \n",
       "NDAR_INVJPLZW1Z0                                          -0.118042     \n",
       "NDAR_INV93JYGAXC                                          -0.119159     \n",
       "\n",
       "                  smri_t2w.contrast_cort.destrieux_s.subparietal.rh(b)  \\\n",
       "src_subject_id                                                           \n",
       "NDAR_INVTK4DJ93H                                          -0.070335      \n",
       "NDAR_INVB2DX8YD7                                          -0.053663      \n",
       "NDAR_INVZDLAWZZL                                          -0.096072      \n",
       "NDAR_INV85W58U88                                          -0.117694      \n",
       "NDAR_INVWT13MP64                                          -0.089915      \n",
       "...                                                             ...      \n",
       "NDAR_INVCYMF7WT5                                          -0.059806      \n",
       "NDAR_INVACZZH8LM                                          -0.079060      \n",
       "NDAR_INV4LX4UUWE                                          -0.087313      \n",
       "NDAR_INVJPLZW1Z0                                          -0.108063      \n",
       "NDAR_INV93JYGAXC                                          -0.086557      \n",
       "\n",
       "                  smri_t2w.contrast_cort.destrieux_s.temporal.inf.rh(b)  \\\n",
       "src_subject_id                                                            \n",
       "NDAR_INVTK4DJ93H                                          -0.076025       \n",
       "NDAR_INVB2DX8YD7                                          -0.073469       \n",
       "NDAR_INVZDLAWZZL                                          -0.080885       \n",
       "NDAR_INV85W58U88                                          -0.121687       \n",
       "NDAR_INVWT13MP64                                          -0.097587       \n",
       "...                                                             ...       \n",
       "NDAR_INVCYMF7WT5                                          -0.082640       \n",
       "NDAR_INVACZZH8LM                                          -0.094880       \n",
       "NDAR_INV4LX4UUWE                                          -0.082820       \n",
       "NDAR_INVJPLZW1Z0                                          -0.127527       \n",
       "NDAR_INV93JYGAXC                                          -0.123132       \n",
       "\n",
       "                  smri_t2w.contrast_cort.destrieux_s.temporal.sup.rh(b)  \\\n",
       "src_subject_id                                                            \n",
       "NDAR_INVTK4DJ93H                                          -0.071395       \n",
       "NDAR_INVB2DX8YD7                                          -0.066579       \n",
       "NDAR_INVZDLAWZZL                                          -0.086107       \n",
       "NDAR_INV85W58U88                                          -0.103735       \n",
       "NDAR_INVWT13MP64                                          -0.101810       \n",
       "...                                                             ...       \n",
       "NDAR_INVCYMF7WT5                                          -0.070042       \n",
       "NDAR_INVACZZH8LM                                          -0.084526       \n",
       "NDAR_INV4LX4UUWE                                          -0.084258       \n",
       "NDAR_INVJPLZW1Z0                                          -0.119469       \n",
       "NDAR_INV93JYGAXC                                          -0.109276       \n",
       "\n",
       "                  smri_t2w.contrast_cort.destrieux_s.temporal.transverse.rh(b)  \\\n",
       "src_subject_id                                                                   \n",
       "NDAR_INVTK4DJ93H                                          -0.079813              \n",
       "NDAR_INVB2DX8YD7                                          -0.065031              \n",
       "NDAR_INVZDLAWZZL                                          -0.070973              \n",
       "NDAR_INV85W58U88                                          -0.106336              \n",
       "NDAR_INVWT13MP64                                          -0.071571              \n",
       "...                                                             ...              \n",
       "NDAR_INVCYMF7WT5                                          -0.082734              \n",
       "NDAR_INVACZZH8LM                                          -0.079828              \n",
       "NDAR_INV4LX4UUWE                                          -0.097347              \n",
       "NDAR_INVJPLZW1Z0                                          -0.117645              \n",
       "NDAR_INV93JYGAXC                                          -0.104805              \n",
       "\n",
       "                  smri_t2w.contrast_cort.destrieux_mean.lh(b)  \\\n",
       "src_subject_id                                                  \n",
       "NDAR_INVTK4DJ93H                                    -0.048968   \n",
       "NDAR_INVB2DX8YD7                                    -0.043166   \n",
       "NDAR_INVZDLAWZZL                                    -0.066038   \n",
       "NDAR_INV85W58U88                                    -0.084448   \n",
       "NDAR_INVWT13MP64                                    -0.069308   \n",
       "...                                                       ...   \n",
       "NDAR_INVCYMF7WT5                                    -0.053253   \n",
       "NDAR_INVACZZH8LM                                    -0.063838   \n",
       "NDAR_INV4LX4UUWE                                    -0.056184   \n",
       "NDAR_INVJPLZW1Z0                                    -0.087359   \n",
       "NDAR_INV93JYGAXC                                    -0.076824   \n",
       "\n",
       "                  smri_t2w.contrast_cort.destrieux_mean.rh(b)  \\\n",
       "src_subject_id                                                  \n",
       "NDAR_INVTK4DJ93H                                    -0.047173   \n",
       "NDAR_INVB2DX8YD7                                    -0.046157   \n",
       "NDAR_INVZDLAWZZL                                    -0.066082   \n",
       "NDAR_INV85W58U88                                    -0.083982   \n",
       "NDAR_INVWT13MP64                                    -0.069666   \n",
       "...                                                       ...   \n",
       "NDAR_INVCYMF7WT5                                    -0.052462   \n",
       "NDAR_INVACZZH8LM                                    -0.064034   \n",
       "NDAR_INV4LX4UUWE                                    -0.056804   \n",
       "NDAR_INVJPLZW1Z0                                    -0.089783   \n",
       "NDAR_INV93JYGAXC                                    -0.078041   \n",
       "\n",
       "                  smri_t2w.contrast_cort.destrieux_mean(b)  \n",
       "src_subject_id                                              \n",
       "NDAR_INVTK4DJ93H                                 -0.048065  \n",
       "NDAR_INVB2DX8YD7                                 -0.044656  \n",
       "NDAR_INVZDLAWZZL                                 -0.066060  \n",
       "NDAR_INV85W58U88                                 -0.084215  \n",
       "NDAR_INVWT13MP64                                 -0.069487  \n",
       "...                                                    ...  \n",
       "NDAR_INVCYMF7WT5                                 -0.052852  \n",
       "NDAR_INVACZZH8LM                                 -0.063936  \n",
       "NDAR_INV4LX4UUWE                                 -0.056495  \n",
       "NDAR_INVJPLZW1Z0                                 -0.088572  \n",
       "NDAR_INV93JYGAXC                                 -0.077433  \n",
       "\n",
       "[8642 rows x 1510 columns]"
      ]
     },
     "execution_count": 32,
     "metadata": {},
     "output_type": "execute_result"
    }
   ],
   "source": [
    "ML.data"
   ]
  },
  {
   "cell_type": "markdown",
   "metadata": {},
   "source": [
    "By default the loading data function has warned us about some columns with a suspiciously low number of unique values, and also note that they are all surface area, so maybe that is expected. Lets turn warn off in the future\n",
    "\n",
    "The other alarming thing to note is we are losing 2892 rows for missing values. One way we can examine this further is to re-load the data, but without dropping any missing values."
   ]
  },
  {
   "cell_type": "code",
   "execution_count": 33,
   "metadata": {},
   "outputs": [
    {
     "name": "stdout",
     "output_type": "stream",
     "text": [
      "Cleared loaded data.\n",
      "\n",
      "Loading /home/sage/work/ABCDFixRelease2p0p1/abcd_mrisdp101.txt  with dataset type: basic\n",
      "dropped ['collection_id', 'abcd_mrisdp101_id', 'dataset_id', 'subjectkey', 'interview_age', 'interview_date', 'sex', 'collection_title', 'study_cohort_name'] columns by default  due to dataset type\n",
      "Loading /home/sage/work/ABCDFixRelease2p0p1/abcd_mrisdp201.txt  with dataset type: basic\n",
      "dropped ['collection_id', 'abcd_mrisdp201_id', 'dataset_id', 'subjectkey', 'interview_age', 'interview_date', 'sex', 'collection_title', 'study_cohort_name'] columns by default  due to dataset type\n",
      "\n",
      "Dropped 0 cols for all missing values\n",
      "Loaded rows with NaN remaining: 2892\n",
      "Loaded NaN Info:\n",
      "There are: 284244 total missing values\n",
      "437 columns found with 4 missing values (column name overlap: ['_cort.destrieux_', 'smri_'])\n",
      "435 columns found with 617 missing values (column name overlap: ['_cort.destrieux_', 'smri_t2w.'])\n",
      "18 columns found with 1 missing values (column name overlap: ['_cort.destrieux_', 'smri_'])\n",
      "12 columns found with 5 missing values (column name overlap: ['_cort.destrieux_', 'smri_'])\n",
      "11 columns found with 8 missing values (column name overlap: ['_cort.destrieux_', 'smri_'])\n",
      "10 columns found with 2 missing values (column name overlap: ['_cort.destrieux_', 'smri_'])\n",
      "10 columns found with 3 missing values (column name overlap: ['_cort.destrieux_', 'smri_'])\n",
      "7 columns found with 9 missing values (column name overlap: ['_cort.destrieux_', 'smri_'])\n",
      "6 columns found with 12 missing values (column name overlap: ['_cort.destrieux_', 'smri_'])\n",
      "6 columns found with 621 missing values (column name overlap: ['_cort.destrieux_', 'smri_t2w.', '.rh'])\n",
      "5 columns found with 35 missing values (column name overlap: ['_cort.destrieux_', 'smri_'])\n",
      "5 columns found with 43 missing values (column name overlap: ['smri_area_cort.destrieux_'])\n",
      "4 columns found with 39 missing values (column name overlap: ['_cort.destrieux_', 'smri_', 's.'])\n",
      "3 columns found with 7 missing values (column name overlap: ['_cort.destrieux_mean.lh', 'smri_t1w.'])\n",
      "3 columns found with 6 missing values (column name overlap: ['_cort.destrieux_s.interm.prim.jensen.lh', 'smri_t1w.'])\n",
      "3 columns found with 11 missing values (column name overlap: ['_cort.destrieux_', 'smri_', '.l', 'rh', 'at'])\n",
      "3 columns found with 14 missing values (column name overlap: ['smri_vol_cort.destrieux_', 'al.', 's.', 'an'])\n",
      "3 columns found with 22 missing values (column name overlap: ['_cort.destrieux_', 'smri_'])\n",
      "3 columns found with 27 missing values (column name overlap: ['_cort.destrieux_s.', 'smri_', '.lh', 'ol'])\n",
      "3 columns found with 29 missing values (column name overlap: ['_cort.destrieux_', 'smri_', '.su', '.rh'])\n",
      "3 columns found with 624 missing values (column name overlap: ['_cort.destrieux_mean', 'smri_t2w.'])\n",
      "3 columns found with 620 missing values (column name overlap: ['_cort.destrieux_mean.lh', 'smri_t2w.'])\n",
      "3 columns found with 619 missing values (column name overlap: ['_cort.destrieux_s.interm.prim.jensen.lh', 'smri_t2w.'])\n",
      "3 columns found with 618 missing values (column name overlap: ['_cort.destrieux_s.temporal.transverse.lh', 'smri_t2w.'])\n",
      "3 columns found with 38 missing values (column name overlap: ['smri_area_cort.destrieux_', '.s'])\n",
      "3 columns found with 42 missing values (column name overlap: ['smri_area_cort.destrieux_', '.lh', 's.'])\n",
      "3 columns found with 46 missing values (column name overlap: ['smri_area_cort.destrieux_', '.s', 'd.'])\n",
      "3 columns found with 45 missing values (column name overlap: ['smri_area_cort.destrieux_'])\n",
      "2 columns found with 36 missing values (column name overlap: ['_cort.destrieux_', 'smri_', 'ral.', 'rh', 'po', 'in'])\n",
      "2 columns found with 19 missing values (column name overlap: ['_cort.destrieux_', 'smri_', 'ital.', 'nt.', '.o'])\n",
      "2 columns found with 49 missing values (column name overlap: ['smri_area_cort.destrieux_', '.lh', '.p'])\n",
      "2 columns found with 13 missing values (column name overlap: ['_cort.destrieux_', 'smri_', '.rh', 'ar', 'la'])\n",
      "2 columns found with 15 missing values (column name overlap: ['smri_area_cort.destrieux_', 's.', '.r', 'ct'])\n",
      "2 columns found with 34 missing values (column name overlap: ['_cort.destrieux_', 'ral.rh', 'smri_', 's.'])\n",
      "2 columns found with 18 missing values (column name overlap: ['smri_area_cort.destrieux_', 'le.'])\n",
      "2 columns found with 30 missing values (column name overlap: ['_cort.destrieux_s.', 'smri_', '.lh', 'po', 'at', 'ra', 'l.'])\n",
      "2 columns found with 20 missing values (column name overlap: ['smri_area_cort.destrieux_g.and.s.', 'in', 'l.'])\n",
      "2 columns found with 33 missing values (column name overlap: ['smri_vol_cort.destrieux_g.', 'tra', 't.', 'sv'])\n",
      "2 columns found with 24 missing values (column name overlap: ['smri_vol_cort.destrieux_'])\n",
      "2 columns found with 25 missing values (column name overlap: ['_cort.destrieux_', 'smri_', 'al.'])\n",
      "2 columns found with 23 missing values (column name overlap: ['_cort.destrieux_s.', 'smri_', 't.lh', '.in', 'ar'])\n",
      "\n",
      "Loaded Shape: (11534, 1510)\n"
     ]
    }
   ],
   "source": [
    "ML.Load_Data(loc = [data1, data2],\n",
    "             unique_val_warn = None,\n",
    "             drop_na = False,\n",
    "             clear_existing = True # Make sure to call clear_existing if re-loading the same data!\n",
    "             )"
   ]
  },
  {
   "cell_type": "markdown",
   "metadata": {},
   "source": [
    "Now we are provided some more detailed information about what NaN columns are loaded. This is useful because we can note there are 435 columns found with 617 missing values, and of those 435 columns, 'smri_t2w.' is one of the keys present in all of them. In this case, what we can do is try not loading t2w rois, as it is clear some number of subjects just didn't get a t2 scan. "
   ]
  },
  {
   "cell_type": "code",
   "execution_count": 34,
   "metadata": {},
   "outputs": [
    {
     "name": "stdout",
     "output_type": "stream",
     "text": [
      "Cleared loaded data.\n",
      "\n",
      "Loading /home/sage/work/ABCDFixRelease2p0p1/abcd_mrisdp101.txt  with dataset type: basic\n",
      "dropped ['collection_id', 'abcd_mrisdp101_id', 'dataset_id', 'subjectkey', 'interview_age', 'interview_date', 'sex', 'collection_title', 'study_cohort_name'] columns by default  due to dataset type\n",
      "Loading /home/sage/work/ABCDFixRelease2p0p1/abcd_mrisdp201.txt  with dataset type: basic\n",
      "dropped ['collection_id', 'abcd_mrisdp201_id', 'dataset_id', 'subjectkey', 'interview_age', 'interview_date', 'sex', 'collection_title', 'study_cohort_name'] columns by default  due to dataset type\n",
      "\n",
      "Dropped 453 columns per passed drop_keys argument\n",
      "Dropped 0 cols for all missing values\n",
      "Loaded rows with NaN remaining: 2396\n",
      "Loaded NaN Info:\n",
      "There are: 4680 total missing values\n",
      "437 columns found with 4 missing values (column name overlap: ['_cort.destrieux_', 'smri_'])\n",
      "18 columns found with 1 missing values (column name overlap: ['_cort.destrieux_', 'smri_'])\n",
      "12 columns found with 5 missing values (column name overlap: ['_cort.destrieux_', 'smri_'])\n",
      "11 columns found with 8 missing values (column name overlap: ['_cort.destrieux_', 'smri_'])\n",
      "10 columns found with 2 missing values (column name overlap: ['_cort.destrieux_', 'smri_'])\n",
      "10 columns found with 3 missing values (column name overlap: ['_cort.destrieux_', 'smri_'])\n",
      "7 columns found with 9 missing values (column name overlap: ['_cort.destrieux_', 'smri_'])\n",
      "6 columns found with 12 missing values (column name overlap: ['_cort.destrieux_', 'smri_'])\n",
      "5 columns found with 43 missing values (column name overlap: ['smri_area_cort.destrieux_'])\n",
      "5 columns found with 35 missing values (column name overlap: ['_cort.destrieux_', 'smri_'])\n",
      "4 columns found with 39 missing values (column name overlap: ['_cort.destrieux_', 'smri_', 's.'])\n",
      "3 columns found with 7 missing values (column name overlap: ['_cort.destrieux_mean.lh', 'smri_t1w.'])\n",
      "3 columns found with 11 missing values (column name overlap: ['_cort.destrieux_', 'smri_', '.l', 'rh', 'at'])\n",
      "3 columns found with 22 missing values (column name overlap: ['_cort.destrieux_', 'smri_'])\n",
      "3 columns found with 27 missing values (column name overlap: ['_cort.destrieux_s.', 'smri_', '.lh', 'ol'])\n",
      "3 columns found with 29 missing values (column name overlap: ['_cort.destrieux_', 'smri_', '.su', '.rh'])\n",
      "3 columns found with 14 missing values (column name overlap: ['smri_vol_cort.destrieux_', 'al.', 's.', 'an'])\n",
      "3 columns found with 6 missing values (column name overlap: ['_cort.destrieux_s.interm.prim.jensen.lh', 'smri_t1w.'])\n",
      "3 columns found with 38 missing values (column name overlap: ['smri_area_cort.destrieux_', '.s'])\n",
      "3 columns found with 42 missing values (column name overlap: ['smri_area_cort.destrieux_', '.lh', 's.'])\n",
      "3 columns found with 46 missing values (column name overlap: ['smri_area_cort.destrieux_', '.s', 'd.'])\n",
      "3 columns found with 45 missing values (column name overlap: ['smri_area_cort.destrieux_'])\n",
      "2 columns found with 13 missing values (column name overlap: ['_cort.destrieux_', 'smri_', '.rh', 'ar', 'la'])\n",
      "2 columns found with 20 missing values (column name overlap: ['smri_area_cort.destrieux_g.and.s.', 'in', 'l.'])\n",
      "2 columns found with 15 missing values (column name overlap: ['smri_area_cort.destrieux_', 's.', '.r', 'ct'])\n",
      "2 columns found with 49 missing values (column name overlap: ['smri_area_cort.destrieux_', '.lh', '.p'])\n",
      "2 columns found with 18 missing values (column name overlap: ['smri_area_cort.destrieux_', 'le.'])\n",
      "2 columns found with 19 missing values (column name overlap: ['_cort.destrieux_', 'smri_', 'ital.', 'nt.', '.o'])\n",
      "2 columns found with 23 missing values (column name overlap: ['_cort.destrieux_s.', 'smri_', 't.lh', '.in', 'ar'])\n",
      "2 columns found with 34 missing values (column name overlap: ['_cort.destrieux_', 'ral.rh', 'smri_', 's.'])\n",
      "2 columns found with 24 missing values (column name overlap: ['smri_vol_cort.destrieux_'])\n",
      "2 columns found with 25 missing values (column name overlap: ['_cort.destrieux_', 'smri_', 'al.'])\n",
      "2 columns found with 30 missing values (column name overlap: ['_cort.destrieux_s.', 'smri_', '.lh', 'po', 'at', 'ra', 'l.'])\n",
      "2 columns found with 36 missing values (column name overlap: ['_cort.destrieux_', 'smri_', 'ral.', 'rh', 'po', 'in'])\n",
      "2 columns found with 33 missing values (column name overlap: ['smri_vol_cort.destrieux_g.', 'tra', 't.', 'sv'])\n",
      "\n",
      "Loaded Shape: (11534, 1057)\n"
     ]
    }
   ],
   "source": [
    "ML.Load_Data(loc = [data1, data2],\n",
    "             unique_val_warn = None,\n",
    "             drop_keys = 'smri_t2w.',\n",
    "             drop_na = False,\n",
    "             clear_existing = True\n",
    "             )"
   ]
  },
  {
   "cell_type": "markdown",
   "metadata": {},
   "source": [
    "We now have a few different options for how we want to handle the rest of the NaN's. The first is to either just drop all of them, but as evident by 437 columns found with 4 missing values, it might be the case that there are just a few subjects with a messed up scan, and therefore a bunch of NaN's. We can try setting drop_nan to 10. In that case, only subjects with less then or equal to 10 NaNs will be kept."
   ]
  },
  {
   "cell_type": "code",
   "execution_count": 35,
   "metadata": {},
   "outputs": [
    {
     "name": "stdout",
     "output_type": "stream",
     "text": [
      "Cleared loaded data.\n",
      "\n",
      "Loading /home/sage/work/ABCDFixRelease2p0p1/abcd_mrisdp101.txt  with dataset type: basic\n",
      "dropped ['collection_id', 'abcd_mrisdp101_id', 'dataset_id', 'subjectkey', 'interview_age', 'interview_date', 'sex', 'collection_title', 'study_cohort_name'] columns by default  due to dataset type\n",
      "Loading /home/sage/work/ABCDFixRelease2p0p1/abcd_mrisdp201.txt  with dataset type: basic\n",
      "dropped ['collection_id', 'abcd_mrisdp201_id', 'dataset_id', 'subjectkey', 'interview_age', 'interview_date', 'sex', 'collection_title', 'study_cohort_name'] columns by default  due to dataset type\n",
      "\n",
      "Dropped 453 columns per passed drop_keys argument\n",
      "Dropped 0 cols for all missing values\n",
      "Dropped 12 rows for missing values, based on the provided drop_na param: 10 with actual na_thresh: 10\n",
      "Loaded rows with NaN remaining: 2384\n",
      "Loaded NaN Info:\n",
      "There are: 2697 total missing values\n",
      "12 columns found with 1 missing values (column name overlap: ['_cort.destrieux_', 'smri_'])\n",
      "7 columns found with 2 missing values (column name overlap: ['_cort.destrieux_', 'smri_'])\n",
      "6 columns found with 3 missing values (column name overlap: ['_cort.destrieux_', 'smri_'])\n",
      "5 columns found with 35 missing values (column name overlap: ['_cort.destrieux_', 'smri_'])\n",
      "5 columns found with 43 missing values (column name overlap: ['smri_area_cort.destrieux_'])\n",
      "5 columns found with 22 missing values (column name overlap: ['_cort.destrieux_', 'smri_'])\n",
      "4 columns found with 9 missing values (column name overlap: ['_cort.destrieux_', 'smri_'])\n",
      "4 columns found with 45 missing values (column name overlap: ['smri_area_cort.destrieux_'])\n",
      "4 columns found with 39 missing values (column name overlap: ['_cort.destrieux_', 'smri_', 's.'])\n",
      "3 columns found with 8 missing values (column name overlap: ['_cort.destrieux_', 'smri_', 's.', 't.'])\n",
      "3 columns found with 11 missing values (column name overlap: ['_cort.destrieux_', 'smri_', '.l', 'rh', 'at'])\n",
      "3 columns found with 12 missing values (column name overlap: ['_cort.destrieux_', 'smri_', 't.lh', 'ol', 's.'])\n",
      "3 columns found with 14 missing values (column name overlap: ['smri_vol_cort.destrieux_', 'al.', 's.', 'an'])\n",
      "3 columns found with 15 missing values (column name overlap: ['_cort.destrieux_', 'smri_', 's.'])\n",
      "3 columns found with 25 missing values (column name overlap: ['_cort.destrieux_', 'smri_', 'al.'])\n",
      "3 columns found with 27 missing values (column name overlap: ['_cort.destrieux_s.', 'smri_', '.lh', 'ol'])\n",
      "3 columns found with 42 missing values (column name overlap: ['smri_area_cort.destrieux_', '.lh', 's.'])\n",
      "2 columns found with 34 missing values (column name overlap: ['_cort.destrieux_', 'ral.rh', 'smri_', 's.'])\n",
      "2 columns found with 20 missing values (column name overlap: ['smri_area_cort.destrieux_g.and.s.', 'in', 'l.'])\n",
      "2 columns found with 4 missing values (column name overlap: ['smri_vol_cort.destrieux_', '.rh', 'd.', 's.'])\n",
      "2 columns found with 5 missing values (column name overlap: ['smri_area_cort.destrieux_', 's.'])\n",
      "2 columns found with 49 missing values (column name overlap: ['smri_area_cort.destrieux_', '.lh', '.p'])\n",
      "2 columns found with 46 missing values (column name overlap: ['smri_area_cort.destrieux_', '.s', 'd.'])\n",
      "2 columns found with 13 missing values (column name overlap: ['_cort.destrieux_', 'smri_', '.rh', 'ar', 'la'])\n",
      "2 columns found with 38 missing values (column name overlap: ['smri_area_cort.destrieux_', '.s'])\n",
      "2 columns found with 33 missing values (column name overlap: ['smri_vol_cort.destrieux_g.', 'tra', 't.', 'sv'])\n",
      "2 columns found with 19 missing values (column name overlap: ['_cort.destrieux_', 'smri_', 'ital.', 'nt.', '.o'])\n",
      "2 columns found with 18 missing values (column name overlap: ['smri_area_cort.destrieux_', 'le.'])\n",
      "2 columns found with 37 missing values (column name overlap: ['smri_area_cort.destrieux_', '.lh', 'ar', 's.', 'in', '.f'])\n",
      "2 columns found with 36 missing values (column name overlap: ['_cort.destrieux_', 'smri_', 'ral.', 'rh', 'po', 'in'])\n",
      "2 columns found with 29 missing values (column name overlap: ['smri_area_cort.destrieux_', '.sup.p', '.rh', 'la'])\n",
      "2 columns found with 30 missing values (column name overlap: ['_cort.destrieux_s.', 'smri_', '.lh', 'po', 'at', 'ra', 'l.'])\n",
      "\n",
      "Loaded Shape: (11522, 1057)\n"
     ]
    }
   ],
   "source": [
    "ML.Load_Data(loc = [data1, data2],\n",
    "             unique_val_warn = None,\n",
    "             drop_keys = 'smri_t2w.',\n",
    "             drop_na = 10,\n",
    "             clear_existing = True\n",
    "             )"
   ]
  },
  {
   "cell_type": "markdown",
   "metadata": {},
   "source": [
    "Okay great. Now we have 2384 subjects with atleast one NaN value to impute, but we know that all of those subjects only have 1-10 missing values, and likewise, no single feature seems to have all that many NaN's. We now have 11522 subjects and still 1057 features."
   ]
  },
  {
   "cell_type": "markdown",
   "metadata": {},
   "source": [
    "We can check the data distribution visually too for a few random ROIs."
   ]
  },
  {
   "cell_type": "code",
   "execution_count": 36,
   "metadata": {},
   "outputs": [],
   "source": [
    "# Note this function will break unless you have ffmpeg installed on your machine, so it is commented out here.\n",
    "#ML.Show_Data_Dist()"
   ]
  },
  {
   "cell_type": "markdown",
   "metadata": {},
   "source": [
    "There does not appear to be too many big outliers in the dataset (some, but...), lets avoid doing any outlier dropping in this example, and instead if it is a problem deal with it during modelling. In general, there are a number of methods for dropping outliers or performing other proc on the loaded data either built into Load_Data or as an external function, e.g., Proc_Data_Unique_Cols https://abcd-ml.readthedocs.io/en/latest/ABCD_ML_class_docs.html#proc-data-unique-cols\n",
    "\n",
    "We will load our target variable next. See: https://abcd-ml.readthedocs.io/en/latest/ABCD_ML_class_docs.html#load-targets"
   ]
  },
  {
   "cell_type": "markdown",
   "metadata": {},
   "source": [
    "Again, a number of the default load params are accesible when loading targets too in case they need to change. We again need to only use fairly simple functionality here, loading in the sex column from our structural mris (as some bugs with sex were fixed in release 2.0.1). "
   ]
  },
  {
   "cell_type": "code",
   "execution_count": null,
   "metadata": {},
   "outputs": [],
   "source": []
  },
  {
   "cell_type": "markdown",
   "metadata": {},
   "source": [
    "One thing to note when plotting the Show_Targets_Dist is the printed \"Set to overlapping loaded subjects.\", which means we are only seeing the targets distribution based on the overlap of all subjects currently loaded (so right now that is just the overlap with data). This can be set off in the case we want to see, in this case, the few subjects who will be eventually lost."
   ]
  },
  {
   "cell_type": "markdown",
   "metadata": {},
   "source": [
    "We can look into adding covars next. Where co-variates arn't quite treated as typical co-variates, but are values we would like to be able to pass as additional input to the ML model if desired (and input that can be treated with special care). This example will actually skip this step though."
   ]
  },
  {
   "cell_type": "markdown",
   "metadata": {},
   "source": [
    "Lastly, we will considering loading different stratification values. These are the values that we can optionally define custom validation / split behavior on. Within this example, we are just going to make sure that all splits preserve subjects with the same family id within the same fold, so lets load family id - after looking as the help function. See: https://abcd-ml.readthedocs.io/en/latest/ABCD_ML_class_docs.html#load-strat"
   ]
  },
  {
   "cell_type": "code",
   "execution_count": 37,
   "metadata": {},
   "outputs": [
    {
     "name": "stdout",
     "output_type": "stream",
     "text": [
      "Loading /home/sage/work/ABCD2p0NDA/acspsw03.txt  with dataset type: basic\n",
      "Dropped 0 cols for all missing values\n",
      "Dropped 2 rows for missing values, based on the provided drop_na param: True with actual na_thresh: 0\n",
      "Loaded rows with NaN remaining: 0\n",
      "Loaded Shape: (11873, 1)\n",
      "Merged with existing (merge=inner)\n",
      "New combined shape: (11532, 2)\n"
     ]
    }
   ],
   "source": [
    "ML.Load_Strat(loc=strat1,\n",
    "              col_name='rel_family_id')"
   ]
  },
  {
   "cell_type": "markdown",
   "metadata": {},
   "source": [
    "Great, we now have all the data we will need loaded (Noting that the minimum requiriments for running an ML expiriment are just data or covars and targets, the rest being optional). The actual length of the script is also not as terrible as it seems, and once loading behavior is confirmed, verbose can even be turned off. In practice also, there is no reason why the user should not just keep reloading data, with changes to params, within the same cell by re-running it - which would defeat the point of a tutorial, but would greatly help readability!"
   ]
  },
  {
   "cell_type": "markdown",
   "metadata": {},
   "source": [
    "# Validation Phase"
   ]
  },
  {
   "cell_type": "markdown",
   "metadata": {},
   "source": [
    "Lets move onto defining our validation stratagy (which is again optional, but as stated before for this example we are going to preserve family ids within the same folds), if no explicit validation strategy is defined, then random splits will be used. See: https://abcd-ml.readthedocs.io/en/latest/ABCD_ML_class_docs.html#validation-phase"
   ]
  },
  {
   "cell_type": "markdown",
   "metadata": {},
   "source": [
    "So for group preserving behavior, as we are interested in keep families within the same folds, we supply an argument for groups. Specifically, we use the name of the column loaded within self.strat\n",
    "\n",
    "Notably as well is that defining a validation strategy is used to define global split behavior, which means the defined validation behavior will effect the train test split, as well as the internal splits used in modelling. We can re-define the original validation strategy at any point, even after defining a global train test split (why? e.g., in order to test within just the train set the effect of putting all the subjects with any nan as train only)\n",
    "\n",
    "The extra feature we will add to the split is defining all subjects with any missing measurements to be train only, this means these subjects will always be put in the training fold, in both the global split and for internal CV and even nested internal parameter search CV."
   ]
  },
  {
   "cell_type": "code",
   "execution_count": 38,
   "metadata": {},
   "outputs": [
    {
     "name": "stdout",
     "output_type": "stream",
     "text": [
      "2323 Train only subjects defined.\n",
      "Those subjects are excluded from the below stats!\n",
      "\n",
      "CV defined with group preserving over 7882 unique values.\n"
     ]
    }
   ],
   "source": [
    "ML.Define_Validation_Strategy(groups='rel_family_id', train_only_subjects='nan')"
   ]
  },
  {
   "cell_type": "markdown",
   "metadata": {},
   "source": [
    "Note explictly, \"Preparing final data, in self.all_data\n",
    "Any changes to loaded data, covars or strat will not be included, from now on.\"\n",
    "\n",
    "If you want to load new data or a new target for example, you need to restart the notebook, as any changes made with loading functions will not effect the data to be used in modeling and testing ect..."
   ]
  },
  {
   "cell_type": "markdown",
   "metadata": {},
   "source": [
    "Lastly before we get to modelling, we want to define a global train-test split, so that we can perform model exploration, and parameter tuning ect... on a training set, and leave a left-out testing set to eventually test with out final selected model. See: https://abcd-ml.readthedocs.io/en/latest/ABCD_ML_class_docs.html#train-test-split"
   ]
  },
  {
   "cell_type": "code",
   "execution_count": 39,
   "metadata": {},
   "outputs": [
    {
     "name": "stdout",
     "output_type": "stream",
     "text": [
      "Performing split on 8339 subjects with 2919 considered train only!\n",
      "random_state: 1\n",
      "Test split size: 0.35\n",
      "\n",
      "Performed train test split\n",
      "Train size: 8336\n",
      "Test size:  2922\n"
     ]
    }
   ],
   "source": [
    "ML.Train_Test_Split(test_size=.35) #Lets use .35, as train only subjects will not be considered"
   ]
  },
  {
   "cell_type": "markdown",
   "metadata": {},
   "source": [
    "Note above for the curious, 3003 subjects are considered train only, event though we only had 2384 with NaN. This is because we are defining group preserving behavior on family id, so not only do we need to keep those subjects in the training set, but keep all of their family members in the training set. We know now that no family id is in both the train and test set - but for the perhaps rightfully paranoid we can make sure of this."
   ]
  },
  {
   "cell_type": "code",
   "execution_count": 40,
   "metadata": {},
   "outputs": [
    {
     "name": "stdout",
     "output_type": "stream",
     "text": [
      "Unique family ids in train:  6985\n",
      "Unique family ids in test:  2557\n",
      "Overlap :  0\n"
     ]
    }
   ],
   "source": [
    "train_ids = set(ML.strat['rel_family_id_Strat'].loc[ML.train_subjects])\n",
    "test_ids = set(ML.strat['rel_family_id_Strat'].loc[ML.test_subjects])\n",
    "\n",
    "print('Unique family ids in train: ', len(train_ids))\n",
    "print('Unique family ids in test: ', len(test_ids))\n",
    "print('Overlap : ', len(train_ids.intersection(test_ids)))"
   ]
  },
  {
   "cell_type": "markdown",
   "metadata": {},
   "source": [
    "Here might also be a good time to save a copy of the object we have created, if that is desired behavior. We are going to save it in our defined log_dr, and use the low_memory flag, which doesn't save explicitly loaded self.data, self.covars ect... and just stores the final self.all_data for modelling (which we have already implicitly created). Let's try it out."
   ]
  },
  {
   "cell_type": "code",
   "execution_count": 41,
   "metadata": {},
   "outputs": [],
   "source": [
    "save_loc = os.path.join(ML.exp_log_dr, 'Sex.ML')\n",
    "ML.Save(save_loc, low_memory=True)"
   ]
  },
  {
   "cell_type": "markdown",
   "metadata": {},
   "source": [
    "Now first thing to note is, since we set low_memory to false, we will can see that data, and targets ect.. are now deleted."
   ]
  },
  {
   "cell_type": "code",
   "execution_count": 42,
   "metadata": {},
   "outputs": [
    {
     "data": {
      "text/plain": [
       "((0, 0), (0, 0))"
      ]
     },
     "execution_count": 42,
     "metadata": {},
     "output_type": "execute_result"
    }
   ],
   "source": [
    "ML.data.shape, ML.targets.shape"
   ]
  },
  {
   "cell_type": "markdown",
   "metadata": {},
   "source": [
    "And only all_data remains."
   ]
  },
  {
   "cell_type": "code",
   "execution_count": 43,
   "metadata": {},
   "outputs": [
    {
     "data": {
      "text/plain": [
       "(11258, 1060)"
      ]
     },
     "execution_count": 43,
     "metadata": {},
     "output_type": "execute_result"
    }
   ],
   "source": [
    "ML.all_data.shape"
   ]
  },
  {
   "cell_type": "markdown",
   "metadata": {},
   "source": [
    "We can for example now delete our original ML object and then re-load the saved one"
   ]
  },
  {
   "cell_type": "code",
   "execution_count": 44,
   "metadata": {},
   "outputs": [
    {
     "name": "stdout",
     "output_type": "stream",
     "text": [
      "ABCD_ML object loaded from save!\n"
     ]
    }
   ],
   "source": [
    "del ML\n",
    "ML = Load(save_loc)"
   ]
  },
  {
   "cell_type": "markdown",
   "metadata": {},
   "source": [
    "And make sure it worked. "
   ]
  },
  {
   "cell_type": "code",
   "execution_count": 45,
   "metadata": {},
   "outputs": [
    {
     "data": {
      "text/plain": [
       "(11258, 1060)"
      ]
     },
     "execution_count": 45,
     "metadata": {},
     "output_type": "execute_result"
    }
   ],
   "source": [
    "ML.all_data.shape"
   ]
  },
  {
   "cell_type": "markdown",
   "metadata": {},
   "source": [
    "# Modeling Phase"
   ]
  },
  {
   "cell_type": "markdown",
   "metadata": {},
   "source": [
    "Within modeling, what we are concerned with is building and first Evaluating different Model_Pipelines. We will first start though by defing what is called a Problem_Spec, which contains essentially our specifications for what ML expiriment we want to run exactly. Note: Problem_Spec is imported at the start with from ABCD_ML import *, but for Problem_Spec and the rest of the special classes we will use you can also import them specifically, i.e., from ABCD_ML import Problem_Spec"
   ]
  },
  {
   "cell_type": "code",
   "execution_count": 46,
   "metadata": {},
   "outputs": [
    {
     "data": {
      "text/plain": [
       "Problem_Spec(metric=['roc_auc'], n_jobs=8, problem_type='categorical')"
      ]
     },
     "execution_count": 46,
     "metadata": {},
     "output_type": "execute_result"
    }
   ],
   "source": [
    "problem_spec = Problem_Spec(problem_type = 'categorical', # As this is a binary problem\n",
    "                            metric = ['roc_auc'], # Good thresholded and non-thresholded binary metrics\n",
    "                            n_jobs = 8)\n",
    "problem_spec               "
   ]
  },
  {
   "cell_type": "markdown",
   "metadata": {},
   "source": [
    "We can also specify some default parameters for different levels of verbose output during modelling. See: https://abcd-ml.readthedocs.io/en/latest/ABCD_ML_class_docs.html#set-default-ml-verbosity"
   ]
  },
  {
   "cell_type": "code",
   "execution_count": 47,
   "metadata": {},
   "outputs": [
    {
     "name": "stdout",
     "output_type": "stream",
     "text": [
      "Default ML verbosity set within self.default_ML_verbosity.\n",
      "----------------------\n",
      "save_results: False\n",
      "progress_bar: True\n",
      "compute_train_score: False\n",
      "show_init_params: True\n",
      "fold_name: False\n",
      "time_per_fold: False\n",
      "score_per_fold: False\n",
      "fold_sizes: False\n",
      "best_params: False\n",
      "save_to_logs: False\n",
      "\n"
     ]
    }
   ],
   "source": [
    "ML.Set_Default_ML_Verbosity()  # Default are fine"
   ]
  },
  {
   "cell_type": "code",
   "execution_count": null,
   "metadata": {},
   "outputs": [],
   "source": []
  },
  {
   "cell_type": "markdown",
   "metadata": {},
   "source": [
    "Now we can proceed to building our Model_Pipeline - where a Model_Pipeline is constructed as a number of individual Pipeline pieces, all of which we have imported. Let's start by first just specifying a Model_Pipeline with just the default pre-set values for everything but Model, we will specify a custom Model."
   ]
  },
  {
   "cell_type": "code",
   "execution_count": 48,
   "metadata": {},
   "outputs": [
    {
     "name": "stdout",
     "output_type": "stream",
     "text": [
      "Model_Pipeline\n",
      "--------------\n",
      "imputers=\\\n",
      "[Imputer(extra_params={}, obj='mean', scope='float'),\n",
      " Imputer(extra_params={}, obj='median', scope='cat')]\n",
      "\n",
      "scalers=\\\n",
      "Scaler(extra_params={}, obj='standard')\n",
      "\n",
      "model=\\\n",
      "Model(extra_params={}, obj='dt')\n",
      "\n",
      "param_search=\\\n",
      "None\n",
      "\n",
      "feat_importances=\\\n",
      "Feat_Importance(obj='base', shap_params=None)\n",
      "\n",
      "\n"
     ]
    }
   ],
   "source": [
    "# We will use a decision tree as our base model\n",
    "model = Model('dt')\n",
    "\n",
    "model_pipeline = Model_Pipeline(model = model)\n",
    "model_pipeline.print_all()"
   ]
  },
  {
   "cell_type": "markdown",
   "metadata": {},
   "source": [
    "We can see that the their are a few default values, specifically we have a set of default imputers, one for replacing all float variables with the mean value, and one for replacing all categorical / binary variables (if any, otherwise ignored) with the median values.\n",
    "\n",
    "Next, we have a just standard scaler, which scales all features to have mean 0, std of 1.\n",
    "\n",
    "Then, we have our decision tree.\n",
    "\n",
    "Lastly, we have no param_search specified, and also we are keeping track of 'base' feature importances, which means for a linear model, just the beta weights."
   ]
  },
  {
   "cell_type": "markdown",
   "metadata": {},
   "source": [
    "Now that we have an initial model, we are ready to use the Evaluate function, see: https://abcd-ml.readthedocs.io/en/latest/ABCD_ML_class_docs.html#evaluate"
   ]
  },
  {
   "cell_type": "code",
   "execution_count": 49,
   "metadata": {},
   "outputs": [
    {
     "name": "stdout",
     "output_type": "stream",
     "text": [
      "Model_Pipeline\n",
      "--------------\n",
      "imputers=\\\n",
      "[Imputer(extra_params={}, obj='mean', scope='float'),\n",
      " Imputer(extra_params={}, obj='median', scope='cat')]\n",
      "\n",
      "scalers=\\\n",
      "Scaler(extra_params={}, obj='standard')\n",
      "\n",
      "model=\\\n",
      "Model(extra_params={}, obj='dt')\n",
      "\n",
      "param_search=\\\n",
      "None\n",
      "\n",
      "feat_importances=\\\n",
      "Feat_Importance(obj='base', shap_params=None)\n",
      "\n",
      "\n",
      "Problem_Spec\n",
      "------------\n",
      "problem_type = categorical\n",
      "target = sex\n",
      "metric = ['roc_auc']\n",
      "weight_metric = False\n",
      "scope = all\n",
      "subjects = all\n",
      "len(subjects) = 11258 (before overlap w/ train/test subjects)\n",
      "n_jobs 8\n",
      "random_state 1\n",
      "\n",
      "Evaluate Params\n",
      "---------------\n",
      "splits = 3\n",
      "n_repeats = 1\n",
      "CV = default\n",
      "train_subjects = train\n",
      "len(train_subjects) = 8336 (before overlap w/ problem_spec.subjects)\n",
      "run_name = dt0\n",
      "\n"
     ]
    },
    {
     "data": {
      "application/vnd.jupyter.widget-view+json": {
       "model_id": "e89709cd88ed43aaa586c7ad56f4dd8c",
       "version_major": 2,
       "version_minor": 0
      },
      "text/plain": [
       "HBox(children=(FloatProgress(value=0.0, description='Repeats', max=1.0, style=ProgressStyle(description_width=…"
      ]
     },
     "metadata": {},
     "output_type": "display_data"
    },
    {
     "data": {
      "application/vnd.jupyter.widget-view+json": {
       "model_id": "d95a3be2aadb465db74274b5d845318c",
       "version_major": 2,
       "version_minor": 0
      },
      "text/plain": [
       "HBox(children=(FloatProgress(value=0.0, description='Folds', max=3.0, style=ProgressStyle(description_width='i…"
      ]
     },
     "metadata": {},
     "output_type": "display_data"
    },
    {
     "name": "stdout",
     "output_type": "stream",
     "text": [
      "\n",
      "\n",
      "\n",
      "Validation Scores\n",
      "_________________\n",
      "Metric:  roc_auc\n",
      "Mean Validation score:  0.64546905750897\n",
      "Std in Validation score:  0.0037682330224783006\n",
      "\n"
     ]
    }
   ],
   "source": [
    "results = ML.Evaluate(model_pipeline = model_pipeline,\n",
    "                      problem_spec = problem_spec,\n",
    "                      splits = 3,\n",
    "                      n_repeats = 1)"
   ]
  },
  {
   "cell_type": "code",
   "execution_count": 52,
   "metadata": {},
   "outputs": [
    {
     "data": {
      "text/html": [
       "<div>\n",
       "<style scoped>\n",
       "    .dataframe tbody tr th:only-of-type {\n",
       "        vertical-align: middle;\n",
       "    }\n",
       "\n",
       "    .dataframe tbody tr th {\n",
       "        vertical-align: top;\n",
       "    }\n",
       "\n",
       "    .dataframe thead th {\n",
       "        text-align: right;\n",
       "    }\n",
       "</style>\n",
       "<table border=\"1\" class=\"dataframe\">\n",
       "  <thead>\n",
       "    <tr style=\"text-align: right;\">\n",
       "      <th></th>\n",
       "      <th>1_prob_class_0.0</th>\n",
       "      <th>1_prob_class_1.0</th>\n",
       "      <th>1</th>\n",
       "      <th>1_fold</th>\n",
       "      <th>sex</th>\n",
       "    </tr>\n",
       "  </thead>\n",
       "  <tbody>\n",
       "    <tr>\n",
       "      <th>NDAR_INVTK4DJ93H</th>\n",
       "      <td>1.0</td>\n",
       "      <td>0.0</td>\n",
       "      <td>0.0</td>\n",
       "      <td>3</td>\n",
       "      <td>1.0</td>\n",
       "    </tr>\n",
       "    <tr>\n",
       "      <th>NDAR_INVTF4Z1FJ3</th>\n",
       "      <td>NaN</td>\n",
       "      <td>NaN</td>\n",
       "      <td>NaN</td>\n",
       "      <td>NaN</td>\n",
       "      <td>NaN</td>\n",
       "    </tr>\n",
       "    <tr>\n",
       "      <th>NDAR_INVZDLAWZZL</th>\n",
       "      <td>1.0</td>\n",
       "      <td>0.0</td>\n",
       "      <td>0.0</td>\n",
       "      <td>2</td>\n",
       "      <td>0.0</td>\n",
       "    </tr>\n",
       "    <tr>\n",
       "      <th>NDAR_INV85W58U88</th>\n",
       "      <td>0.0</td>\n",
       "      <td>1.0</td>\n",
       "      <td>1.0</td>\n",
       "      <td>1</td>\n",
       "      <td>1.0</td>\n",
       "    </tr>\n",
       "    <tr>\n",
       "      <th>NDAR_INVWT13MP64</th>\n",
       "      <td>0.0</td>\n",
       "      <td>1.0</td>\n",
       "      <td>1.0</td>\n",
       "      <td>2</td>\n",
       "      <td>1.0</td>\n",
       "    </tr>\n",
       "    <tr>\n",
       "      <th>...</th>\n",
       "      <td>...</td>\n",
       "      <td>...</td>\n",
       "      <td>...</td>\n",
       "      <td>...</td>\n",
       "      <td>...</td>\n",
       "    </tr>\n",
       "    <tr>\n",
       "      <th>NDAR_INVKX88859E</th>\n",
       "      <td>NaN</td>\n",
       "      <td>NaN</td>\n",
       "      <td>NaN</td>\n",
       "      <td>NaN</td>\n",
       "      <td>NaN</td>\n",
       "    </tr>\n",
       "    <tr>\n",
       "      <th>NDAR_INVACZZH8LM</th>\n",
       "      <td>0.0</td>\n",
       "      <td>1.0</td>\n",
       "      <td>1.0</td>\n",
       "      <td>2</td>\n",
       "      <td>0.0</td>\n",
       "    </tr>\n",
       "    <tr>\n",
       "      <th>NDAR_INV4LX4UUWE</th>\n",
       "      <td>1.0</td>\n",
       "      <td>0.0</td>\n",
       "      <td>0.0</td>\n",
       "      <td>2</td>\n",
       "      <td>0.0</td>\n",
       "    </tr>\n",
       "    <tr>\n",
       "      <th>NDAR_INV4MPM83XL</th>\n",
       "      <td>0.0</td>\n",
       "      <td>1.0</td>\n",
       "      <td>1.0</td>\n",
       "      <td>3</td>\n",
       "      <td>1.0</td>\n",
       "    </tr>\n",
       "    <tr>\n",
       "      <th>NDAR_INV93JYGAXC</th>\n",
       "      <td>1.0</td>\n",
       "      <td>0.0</td>\n",
       "      <td>0.0</td>\n",
       "      <td>1</td>\n",
       "      <td>1.0</td>\n",
       "    </tr>\n",
       "  </tbody>\n",
       "</table>\n",
       "<p>8336 rows × 5 columns</p>\n",
       "</div>"
      ],
      "text/plain": [
       "                  1_prob_class_0.0  1_prob_class_1.0    1 1_fold  sex\n",
       "NDAR_INVTK4DJ93H               1.0               0.0  0.0      3  1.0\n",
       "NDAR_INVTF4Z1FJ3               NaN               NaN  NaN    NaN  NaN\n",
       "NDAR_INVZDLAWZZL               1.0               0.0  0.0      2  0.0\n",
       "NDAR_INV85W58U88               0.0               1.0  1.0      1  1.0\n",
       "NDAR_INVWT13MP64               0.0               1.0  1.0      2  1.0\n",
       "...                            ...               ...  ...    ...  ...\n",
       "NDAR_INVKX88859E               NaN               NaN  NaN    NaN  NaN\n",
       "NDAR_INVACZZH8LM               0.0               1.0  1.0      2  0.0\n",
       "NDAR_INV4LX4UUWE               1.0               0.0  0.0      2  0.0\n",
       "NDAR_INV4MPM83XL               0.0               1.0  1.0      3  1.0\n",
       "NDAR_INV93JYGAXC               1.0               0.0  0.0      1  1.0\n",
       "\n",
       "[8336 rows x 5 columns]"
      ]
     },
     "execution_count": 52,
     "metadata": {},
     "output_type": "execute_result"
    }
   ],
   "source": [
    "results['raw_preds']"
   ]
  },
  {
   "cell_type": "markdown",
   "metadata": {},
   "source": [
    "First off, its clear that running the full evaluation even with a very quick simple model like the decision tree if very intensive, all we have 1000+ features and thousands of subjects. One optional trick we can use, especially for this example, is to run expiriments with only a subset of the features, let's consider what we have loaded:\n",
    "\n",
    "- 'smri_thick_cort'\n",
    "- 'smri_sulc_cort'\n",
    "- 'smri_area_cort'\n",
    "- 'smri_vol_cort'\n",
    "- 'smri_t1w.white02_cort'\n",
    "- 'smri_t1w.gray02_cort'\n",
    "- 'smri_t1w.contrast_cort'\n",
    "\n",
    "Alright, so let's say we are only interested in cortical thickness - to limit our Evaluate call to using just cortical thickness features, all we have to do is provide that substring from above, 'smri_thick_cort', to the scope of our problem_spec."
   ]
  },
  {
   "cell_type": "code",
   "execution_count": null,
   "metadata": {},
   "outputs": [],
   "source": [
    "# Instead of defining a new problem_spec object, we can just update the value\n",
    "problem_spec.scope = 'smri_thick_cort'\n",
    "\n",
    "# Now re-run Evaluate\n",
    "results = ML.Evaluate(model_pipeline = model_pipeline,\n",
    "                      problem_spec = problem_spec,\n",
    "                      splits = 3,\n",
    "                      n_repeats = 1)"
   ]
  },
  {
   "cell_type": "markdown",
   "metadata": {},
   "source": [
    "Even though this model did worse, we really didn't expect much from the decision tree model, and it was faster."
   ]
  },
  {
   "cell_type": "markdown",
   "metadata": {},
   "source": [
    "Let's try a just linear model now (Logistic Regression, since binary), updating our model within our model_pipeline first."
   ]
  },
  {
   "cell_type": "code",
   "execution_count": null,
   "metadata": {},
   "outputs": [],
   "source": [
    "model_pipeline.model = Model('linear')\n",
    "\n",
    "results = ML.Evaluate(model_pipeline = model_pipeline,\n",
    "                      problem_spec = problem_spec,\n",
    "                      n_repeats = 1)"
   ]
  },
  {
   "cell_type": "markdown",
   "metadata": {},
   "source": [
    "A just linear model appears to do much better then the decision tree. Before we try other models, let's take a look at the beta weights from the linear model (averaged over the 6 models, 2 repeated, 3 folds). A short hand for this is by just calling plot global feat importances directly, which will plot the feature importances for the last Evaluate call, though it is also worth exploring the results dictionary which is returned from Evaluate!"
   ]
  },
  {
   "cell_type": "code",
   "execution_count": null,
   "metadata": {},
   "outputs": [],
   "source": [
    "ML.Plot_Global_Feat_Importances()"
   ]
  },
  {
   "cell_type": "code",
   "execution_count": null,
   "metadata": {},
   "outputs": [],
   "source": [
    "# If we passed multiple feature importances to calculate they would appear in a list, \n",
    "print(len(results['FIs']))\n",
    "\n",
    "# If we show this object we see\n",
    "results['FIs'][0]"
   ]
  },
  {
   "cell_type": "code",
   "execution_count": null,
   "metadata": {},
   "outputs": [],
   "source": [
    "# We can either look at the importances in a dataframe, or pass the feature importance object to the plotting func\n",
    "results['FIs'][0].global_df"
   ]
  },
  {
   "cell_type": "code",
   "execution_count": null,
   "metadata": {},
   "outputs": [],
   "source": [
    "ML.Plot_Global_Feat_Importances(results['FIs'][0])"
   ]
  },
  {
   "cell_type": "markdown",
   "metadata": {},
   "source": [
    "Interesting, so the biggest features driving the model to predict female (0) vs. male (1) are the mean thickness of the different hemispheres. Luckily, we are not interested in actually solving a problem in this example, but instead illustrating usage of the library, so lets move on to trying some more advanced models.\n",
    "\n",
    "Let's explore some different models before sticking with this straight linear one. One of my favorites to try is light gradient boosting machine, or light gbm (or lgbm). \n",
    "\n",
    "Note: lightgbm is not included in ABCD_ML's pip requiriments by default as on mac's especially there are some extra download steps. If you have not already, and would like to use the lightgbm package, please install the lightgbm packagae on your machine."
   ]
  },
  {
   "cell_type": "code",
   "execution_count": null,
   "metadata": {},
   "outputs": [],
   "source": [
    "model_pipeline.model = Model('light gbm')\n",
    "\n",
    "results = ML.Evaluate(model_pipeline = model_pipeline,\n",
    "                      problem_spec = problem_spec,\n",
    "                      n_repeats = 1)"
   ]
  },
  {
   "cell_type": "markdown",
   "metadata": {},
   "source": [
    "Up until this point we have not been exploring any nested hyper-parameters, which for a linear and decision tree model is not a big deal, but fine tuning the lightgbm is fairly essential in order to get good performance. To tune parameters facebooks nevergrad package is used a backend optimizer which allows for a lot of interesting search types (https://abcd-ml.readthedocs.io/en/latest/search_types.html), but introduces a little bit of a learning curve for those interested in entering in custom hyperparameter distributions to search over.\n",
    "\n",
    "By default though, most classifiers have atleast one pre-set hyperparameter distributions to search over. We can see lightgbm's at https://abcd-ml.readthedocs.io/en/latest/options.html#light-gbm-classifier. Our choice here of what search type to use will be passed to the search_type param, and we will just start with a RandomSearch.\n",
    "\n",
    "To specify that we want to use a parameter search with the light gbm we have to do two things: First specify the param distribution we want to use in the model object itself, second, we want to create a param_search object within out model_pipeline, where right now it is set to None."
   ]
  },
  {
   "cell_type": "code",
   "execution_count": 50,
   "metadata": {},
   "outputs": [
    {
     "name": "stdout",
     "output_type": "stream",
     "text": [
      "Model_Pipeline\n",
      "--------------\n",
      "imputers=\\\n",
      "[Imputer(extra_params={}, obj='mean'),\n",
      " Imputer(extra_params={}, obj='median', scope='cat')]\n",
      "\n",
      "scalers=\\\n",
      "Scaler(extra_params={}, obj='standard')\n",
      "\n",
      "model=\\\n",
      "Model(extra_params={}, obj='elastic', params=1)\n",
      "\n",
      "param_search=\\\n",
      "Param_Search(mp_context='spawn', n_iter=50)\n",
      "\n",
      "feat_importances=\\\n",
      "Feat_Importance(obj='base', shap_params=None)\n",
      "\n",
      "\n",
      "Problem_Spec\n",
      "------------\n",
      "problem_type = binary\n",
      "target = sex\n",
      "metric = ['matthews', 'roc auc']\n",
      "weight_metric = False\n",
      "scope = all\n",
      "subjects = all\n",
      "len(subjects) = 11258 (before overlap w/ train/test subjects)\n",
      "n_jobs 8\n",
      "random_state 1\n",
      "\n",
      "Evaluate Params\n",
      "---------------\n",
      "splits = 3\n",
      "n_repeats = 1\n",
      "train_subjects = train\n",
      "len(train_subjects) = 8336 (before overlap w/ problem_spec.subjects)\n",
      "run_name = elastic\n",
      "\n"
     ]
    },
    {
     "data": {
      "application/vnd.jupyter.widget-view+json": {
       "model_id": "a48ef7f4bab344c9a2f0829c8d510db9",
       "version_major": 2,
       "version_minor": 0
      },
      "text/plain": [
       "HBox(children=(FloatProgress(value=0.0, description='Repeats', max=1.0, style=ProgressStyle(description_width=…"
      ]
     },
     "metadata": {},
     "output_type": "display_data"
    },
    {
     "data": {
      "application/vnd.jupyter.widget-view+json": {
       "model_id": "e12d05f6a3be4b0f84d9fed83ab6cc34",
       "version_major": 2,
       "version_minor": 0
      },
      "text/plain": [
       "HBox(children=(FloatProgress(value=0.0, description='Folds', max=3.0, style=ProgressStyle(description_width='i…"
      ]
     },
     "metadata": {},
     "output_type": "display_data"
    },
    {
     "ename": "AttributeError",
     "evalue": "'OneHotEncoder' object has no attribute 'drop_idx_'",
     "output_type": "error",
     "traceback": [
      "\u001b[0;31m---------------------------------------------------------------------------\u001b[0m",
      "\u001b[0;31m_RemoteTraceback\u001b[0m                          Traceback (most recent call last)",
      "\u001b[0;31m_RemoteTraceback\u001b[0m: \n\"\"\"\nTraceback (most recent call last):\n  File \"/home/sage/anaconda3/envs/home/lib/python3.7/concurrent/futures/process.py\", line 239, in _process_worker\n    r = call_item.fn(*call_item.args, **call_item.kwargs)\n  File \"/home/sage/anaconda3/envs/home/lib/python3.7/site-packages/ABCD_ML/pipeline/Nevergrad.py\", line 59, in ng_cv_score\n    estimator.fit(X[tr_inds], y[tr_inds], **deepcopy(fit_params))\n  File \"/home/sage/anaconda3/envs/home/lib/python3.7/site-packages/ABCD_ML/pipeline/ABCD_Pipeline.py\", line 48, in fit\n    super().fit(X, y, **fit_params)\n  File \"/home/sage/anaconda3/envs/home/lib/python3.7/site-packages/imblearn/pipeline.py\", line 287, in fit\n    Xt, yt, fit_params = self._fit(X, y, **fit_params)\n  File \"/home/sage/anaconda3/envs/home/lib/python3.7/site-packages/imblearn/pipeline.py\", line 242, in _fit\n    **fit_params_steps[name]\n  File \"/home/sage/anaconda3/envs/home/lib/python3.7/site-packages/joblib/memory.py\", line 355, in __call__\n    return self.func(*args, **kwargs)\n  File \"/home/sage/anaconda3/envs/home/lib/python3.7/site-packages/sklearn/pipeline.py\", line 740, in _fit_transform_one\n    res = transformer.fit_transform(X, y, **fit_params)\n  File \"/home/sage/anaconda3/envs/home/lib/python3.7/site-packages/ABCD_ML/extensions/Col_Selector.py\", line 126, in fit_transform\n    return self._reverse_X(super().fit_transform(X, y, mapping=mapping))\n  File \"/home/sage/anaconda3/envs/home/lib/python3.7/site-packages/ABCD_ML/extensions/Col_Selector.py\", line 44, in fit_transform\n    return super().fit_transform(X, y)\n  File \"/home/sage/anaconda3/envs/home/lib/python3.7/site-packages/sklearn/compose/_column_transformer.py\", line 531, in fit_transform\n    result = self._fit_transform(X, y, _fit_transform_one)\n  File \"/home/sage/anaconda3/envs/home/lib/python3.7/site-packages/ABCD_ML/extensions/Col_Selector.py\", line 63, in _fit_transform\n    mapping=self._mapping))\n  File \"/home/sage/anaconda3/envs/home/lib/python3.7/site-packages/sklearn/pipeline.py\", line 740, in _fit_transform_one\n    res = transformer.fit_transform(X, y, **fit_params)\n  File \"/home/sage/anaconda3/envs/home/lib/python3.7/site-packages/ABCD_ML/pipeline/Imputers.py\", line 267, in fit_transform\n    self.fit(X, y, mapping=mapping)\n  File \"/home/sage/anaconda3/envs/home/lib/python3.7/site-packages/ABCD_ML/pipeline/Imputers.py\", line 156, in fit\n    impute_X = self.get_impute_X(X_copy)\n  File \"/home/sage/anaconda3/envs/home/lib/python3.7/site-packages/ABCD_ML/pipeline/Imputers.py\", line 186, in get_impute_X\n    self.encoder_inds[i])\n  File \"/home/sage/anaconda3/envs/home/lib/python3.7/site-packages/ABCD_ML/pipeline/Imputers.py\", line 240, in to_ordinal\n    ordinal = enc.inverse_transform(non_nan_selection)\n  File \"/home/sage/anaconda3/envs/home/lib/python3.7/site-packages/sklearn/preprocessing/_encoders.py\", line 495, in inverse_transform\n    if self.drop_idx_ is None:\nAttributeError: 'OneHotEncoder' object has no attribute 'drop_idx_'\n\"\"\"",
      "\nThe above exception was the direct cause of the following exception:\n",
      "\u001b[0;31mAttributeError\u001b[0m                            Traceback (most recent call last)",
      "\u001b[0;32m<ipython-input-50-891de4d115b5>\u001b[0m in \u001b[0;36m<module>\u001b[0;34m\u001b[0m\n\u001b[1;32m     13\u001b[0m results = ML.Evaluate(model_pipeline = model_pipeline,\n\u001b[1;32m     14\u001b[0m                       \u001b[0mproblem_spec\u001b[0m \u001b[0;34m=\u001b[0m \u001b[0mproblem_spec\u001b[0m\u001b[0;34m,\u001b[0m\u001b[0;34m\u001b[0m\u001b[0;34m\u001b[0m\u001b[0m\n\u001b[0;32m---> 15\u001b[0;31m                       n_repeats = 1)\n\u001b[0m",
      "\u001b[0;32m~/anaconda3/envs/home/lib/python3.7/site-packages/ABCD_ML/main/_ML.py\u001b[0m in \u001b[0;36mEvaluate\u001b[0;34m(self, model_pipeline, problem_spec, splits, n_repeats, train_subjects, run_name)\u001b[0m\n\u001b[1;32m    450\u001b[0m     \u001b[0mtrain_scores\u001b[0m\u001b[0;34m,\u001b[0m \u001b[0mscores\u001b[0m\u001b[0;34m,\u001b[0m \u001b[0mraw_preds\u001b[0m\u001b[0;34m,\u001b[0m \u001b[0mFIs\u001b[0m \u001b[0;34m=\u001b[0m\u001b[0;31m\\\u001b[0m\u001b[0;34m\u001b[0m\u001b[0;34m\u001b[0m\u001b[0m\n\u001b[1;32m    451\u001b[0m         self.Model_Pipeline.Evaluate(self.all_data, _train_subjects,\n\u001b[0;32m--> 452\u001b[0;31m                                      splits, n_repeats, splits_vals)\n\u001b[0m\u001b[1;32m    453\u001b[0m \u001b[0;34m\u001b[0m\u001b[0m\n\u001b[1;32m    454\u001b[0m     \u001b[0;31m# Set target and run name\u001b[0m\u001b[0;34m\u001b[0m\u001b[0;34m\u001b[0m\u001b[0;34m\u001b[0m\u001b[0m\n",
      "\u001b[0;32m~/anaconda3/envs/home/lib/python3.7/site-packages/ABCD_ML/pipeline/Model_Pipeline.py\u001b[0m in \u001b[0;36mEvaluate\u001b[0;34m(self, data, train_subjects, splits, n_repeats, splits_vals)\u001b[0m\n\u001b[1;32m    187\u001b[0m             \u001b[0mstart_time\u001b[0m \u001b[0;34m=\u001b[0m \u001b[0mtime\u001b[0m\u001b[0;34m.\u001b[0m\u001b[0mtime\u001b[0m\u001b[0;34m(\u001b[0m\u001b[0;34m)\u001b[0m\u001b[0;34m\u001b[0m\u001b[0;34m\u001b[0m\u001b[0m\n\u001b[1;32m    188\u001b[0m             train_scores, scores = self.Test(data, train_subjects,\n\u001b[0;32m--> 189\u001b[0;31m                                              test_subjects, fold_ind)\n\u001b[0m\u001b[1;32m    190\u001b[0m \u001b[0;34m\u001b[0m\u001b[0m\n\u001b[1;32m    191\u001b[0m             \u001b[0;31m# Time by fold verbosity\u001b[0m\u001b[0;34m\u001b[0m\u001b[0;34m\u001b[0m\u001b[0;34m\u001b[0m\u001b[0m\n",
      "\u001b[0;32m~/anaconda3/envs/home/lib/python3.7/site-packages/ABCD_ML/pipeline/Model_Pipeline.py\u001b[0m in \u001b[0;36mTest\u001b[0;34m(self, data, train_subjects, test_subjects, fold_ind)\u001b[0m\n\u001b[1;32m    317\u001b[0m \u001b[0;34m\u001b[0m\u001b[0m\n\u001b[1;32m    318\u001b[0m         \u001b[0;31m# Train the model(s)\u001b[0m\u001b[0;34m\u001b[0m\u001b[0;34m\u001b[0m\u001b[0;34m\u001b[0m\u001b[0m\n\u001b[0;32m--> 319\u001b[0;31m         \u001b[0mself\u001b[0m\u001b[0;34m.\u001b[0m\u001b[0m_train_model\u001b[0m\u001b[0;34m(\u001b[0m\u001b[0mtrain_data\u001b[0m\u001b[0;34m)\u001b[0m\u001b[0;34m\u001b[0m\u001b[0;34m\u001b[0m\u001b[0m\n\u001b[0m\u001b[1;32m    320\u001b[0m \u001b[0;34m\u001b[0m\u001b[0m\n\u001b[1;32m    321\u001b[0m         \u001b[0;31m# Proc the different feat importances,\u001b[0m\u001b[0;34m\u001b[0m\u001b[0;34m\u001b[0m\u001b[0;34m\u001b[0m\u001b[0m\n",
      "\u001b[0;32m~/anaconda3/envs/home/lib/python3.7/site-packages/ABCD_ML/pipeline/Model_Pipeline.py\u001b[0m in \u001b[0;36m_train_model\u001b[0;34m(self, train_data)\u001b[0m\n\u001b[1;32m    569\u001b[0m \u001b[0;34m\u001b[0m\u001b[0m\n\u001b[1;32m    570\u001b[0m         \u001b[0;31m# Fit the model\u001b[0m\u001b[0;34m\u001b[0m\u001b[0;34m\u001b[0m\u001b[0;34m\u001b[0m\u001b[0m\n\u001b[0;32m--> 571\u001b[0;31m         \u001b[0mself\u001b[0m\u001b[0;34m.\u001b[0m\u001b[0mModel\u001b[0m\u001b[0;34m.\u001b[0m\u001b[0mfit\u001b[0m\u001b[0;34m(\u001b[0m\u001b[0mX\u001b[0m\u001b[0;34m,\u001b[0m \u001b[0my\u001b[0m\u001b[0;34m,\u001b[0m \u001b[0mtrain_data_index\u001b[0m\u001b[0;34m=\u001b[0m\u001b[0mtrain_data\u001b[0m\u001b[0;34m.\u001b[0m\u001b[0mindex\u001b[0m\u001b[0;34m)\u001b[0m\u001b[0;34m\u001b[0m\u001b[0;34m\u001b[0m\u001b[0m\n\u001b[0m\u001b[1;32m    572\u001b[0m \u001b[0;34m\u001b[0m\u001b[0m\n\u001b[1;32m    573\u001b[0m         \u001b[0;31m# If a search object, show the best params\u001b[0m\u001b[0;34m\u001b[0m\u001b[0;34m\u001b[0m\u001b[0;34m\u001b[0m\u001b[0m\n",
      "\u001b[0;32m~/anaconda3/envs/home/lib/python3.7/site-packages/ABCD_ML/pipeline/Nevergrad.py\u001b[0m in \u001b[0;36mfit\u001b[0;34m(self, X, y, train_data_index, **fit_params)\u001b[0m\n\u001b[1;32m    115\u001b[0m                     recommendation = optimizer.minimize(self.ng_cv_score,\n\u001b[1;32m    116\u001b[0m                                                         \u001b[0mexecutor\u001b[0m\u001b[0;34m=\u001b[0m\u001b[0mex\u001b[0m\u001b[0;34m,\u001b[0m\u001b[0;34m\u001b[0m\u001b[0;34m\u001b[0m\u001b[0m\n\u001b[0;32m--> 117\u001b[0;31m                                                         batch_mode=False)\n\u001b[0m\u001b[1;32m    118\u001b[0m             \u001b[0;32mexcept\u001b[0m \u001b[0mRuntimeError\u001b[0m\u001b[0;34m:\u001b[0m\u001b[0;34m\u001b[0m\u001b[0;34m\u001b[0m\u001b[0m\n\u001b[1;32m    119\u001b[0m                 \u001b[0;32mraise\u001b[0m\u001b[0;34m(\u001b[0m\u001b[0mRuntimeError\u001b[0m\u001b[0;34m(\u001b[0m\u001b[0;34m'Try changing the mp_context'\u001b[0m\u001b[0;34m)\u001b[0m\u001b[0;34m)\u001b[0m\u001b[0;34m\u001b[0m\u001b[0;34m\u001b[0m\u001b[0m\n",
      "\u001b[0;32m~/anaconda3/envs/home/lib/python3.7/site-packages/nevergrad/optimization/base.py\u001b[0m in \u001b[0;36mminimize\u001b[0;34m(self, objective_function, executor, batch_mode, verbosity)\u001b[0m\n\u001b[1;32m    433\u001b[0m                 \u001b[0;32mwhile\u001b[0m \u001b[0mself\u001b[0m\u001b[0;34m.\u001b[0m\u001b[0m_finished_jobs\u001b[0m\u001b[0;34m:\u001b[0m\u001b[0;34m\u001b[0m\u001b[0;34m\u001b[0m\u001b[0m\n\u001b[1;32m    434\u001b[0m                     \u001b[0mx\u001b[0m\u001b[0;34m,\u001b[0m \u001b[0mjob\u001b[0m \u001b[0;34m=\u001b[0m \u001b[0mself\u001b[0m\u001b[0;34m.\u001b[0m\u001b[0m_finished_jobs\u001b[0m\u001b[0;34m[\u001b[0m\u001b[0;36m0\u001b[0m\u001b[0;34m]\u001b[0m\u001b[0;34m\u001b[0m\u001b[0;34m\u001b[0m\u001b[0m\n\u001b[0;32m--> 435\u001b[0;31m                     \u001b[0mresult\u001b[0m \u001b[0;34m=\u001b[0m \u001b[0mjob\u001b[0m\u001b[0;34m.\u001b[0m\u001b[0mresult\u001b[0m\u001b[0;34m(\u001b[0m\u001b[0;34m)\u001b[0m\u001b[0;34m\u001b[0m\u001b[0;34m\u001b[0m\u001b[0m\n\u001b[0m\u001b[1;32m    436\u001b[0m                     \u001b[0;32mif\u001b[0m \u001b[0mmultiobjective\u001b[0m\u001b[0;34m:\u001b[0m  \u001b[0;31m# hack\u001b[0m\u001b[0;34m\u001b[0m\u001b[0;34m\u001b[0m\u001b[0m\n\u001b[1;32m    437\u001b[0m                         \u001b[0mresult\u001b[0m \u001b[0;34m=\u001b[0m \u001b[0mobjective_function\u001b[0m\u001b[0;34m.\u001b[0m\u001b[0mcompute_aggregate_loss\u001b[0m\u001b[0;34m(\u001b[0m\u001b[0mjob\u001b[0m\u001b[0;34m.\u001b[0m\u001b[0mresult\u001b[0m\u001b[0;34m(\u001b[0m\u001b[0;34m)\u001b[0m\u001b[0;34m,\u001b[0m \u001b[0;34m*\u001b[0m\u001b[0mx\u001b[0m\u001b[0;34m.\u001b[0m\u001b[0margs\u001b[0m\u001b[0;34m,\u001b[0m \u001b[0;34m**\u001b[0m\u001b[0mx\u001b[0m\u001b[0;34m.\u001b[0m\u001b[0mkwargs\u001b[0m\u001b[0;34m)\u001b[0m  \u001b[0;31m# type: ignore\u001b[0m\u001b[0;34m\u001b[0m\u001b[0;34m\u001b[0m\u001b[0m\n",
      "\u001b[0;32m~/anaconda3/envs/home/lib/python3.7/concurrent/futures/_base.py\u001b[0m in \u001b[0;36mresult\u001b[0;34m(self, timeout)\u001b[0m\n\u001b[1;32m    426\u001b[0m                 \u001b[0;32mraise\u001b[0m \u001b[0mCancelledError\u001b[0m\u001b[0;34m(\u001b[0m\u001b[0;34m)\u001b[0m\u001b[0;34m\u001b[0m\u001b[0;34m\u001b[0m\u001b[0m\n\u001b[1;32m    427\u001b[0m             \u001b[0;32melif\u001b[0m \u001b[0mself\u001b[0m\u001b[0;34m.\u001b[0m\u001b[0m_state\u001b[0m \u001b[0;34m==\u001b[0m \u001b[0mFINISHED\u001b[0m\u001b[0;34m:\u001b[0m\u001b[0;34m\u001b[0m\u001b[0;34m\u001b[0m\u001b[0m\n\u001b[0;32m--> 428\u001b[0;31m                 \u001b[0;32mreturn\u001b[0m \u001b[0mself\u001b[0m\u001b[0;34m.\u001b[0m\u001b[0m__get_result\u001b[0m\u001b[0;34m(\u001b[0m\u001b[0;34m)\u001b[0m\u001b[0;34m\u001b[0m\u001b[0;34m\u001b[0m\u001b[0m\n\u001b[0m\u001b[1;32m    429\u001b[0m \u001b[0;34m\u001b[0m\u001b[0m\n\u001b[1;32m    430\u001b[0m             \u001b[0mself\u001b[0m\u001b[0;34m.\u001b[0m\u001b[0m_condition\u001b[0m\u001b[0;34m.\u001b[0m\u001b[0mwait\u001b[0m\u001b[0;34m(\u001b[0m\u001b[0mtimeout\u001b[0m\u001b[0;34m)\u001b[0m\u001b[0;34m\u001b[0m\u001b[0;34m\u001b[0m\u001b[0m\n",
      "\u001b[0;32m~/anaconda3/envs/home/lib/python3.7/concurrent/futures/_base.py\u001b[0m in \u001b[0;36m__get_result\u001b[0;34m(self)\u001b[0m\n\u001b[1;32m    382\u001b[0m     \u001b[0;32mdef\u001b[0m \u001b[0m__get_result\u001b[0m\u001b[0;34m(\u001b[0m\u001b[0mself\u001b[0m\u001b[0;34m)\u001b[0m\u001b[0;34m:\u001b[0m\u001b[0;34m\u001b[0m\u001b[0;34m\u001b[0m\u001b[0m\n\u001b[1;32m    383\u001b[0m         \u001b[0;32mif\u001b[0m \u001b[0mself\u001b[0m\u001b[0;34m.\u001b[0m\u001b[0m_exception\u001b[0m\u001b[0;34m:\u001b[0m\u001b[0;34m\u001b[0m\u001b[0;34m\u001b[0m\u001b[0m\n\u001b[0;32m--> 384\u001b[0;31m             \u001b[0;32mraise\u001b[0m \u001b[0mself\u001b[0m\u001b[0;34m.\u001b[0m\u001b[0m_exception\u001b[0m\u001b[0;34m\u001b[0m\u001b[0;34m\u001b[0m\u001b[0m\n\u001b[0m\u001b[1;32m    385\u001b[0m         \u001b[0;32melse\u001b[0m\u001b[0;34m:\u001b[0m\u001b[0;34m\u001b[0m\u001b[0;34m\u001b[0m\u001b[0m\n\u001b[1;32m    386\u001b[0m             \u001b[0;32mreturn\u001b[0m \u001b[0mself\u001b[0m\u001b[0;34m.\u001b[0m\u001b[0m_result\u001b[0m\u001b[0;34m\u001b[0m\u001b[0;34m\u001b[0m\u001b[0m\n",
      "\u001b[0;31mAttributeError\u001b[0m: 'OneHotEncoder' object has no attribute 'drop_idx_'"
     ]
    }
   ],
   "source": [
    "model = Model(obj = 'elastic',\n",
    "              params = 1 # To specify we want to use the preset param dist w/ index 1\n",
    "             )\n",
    "\n",
    "param_search = Param_Search(search_type = 'RandomSearch',\n",
    "                            n_iter = 50)\n",
    "\n",
    "# Now we can update our model_pipeline\n",
    "model_pipeline.model = model\n",
    "model_pipeline.param_search = param_search\n",
    "\n",
    "# And re-run Evaluate\n",
    "results = ML.Evaluate(model_pipeline = model_pipeline,\n",
    "                      problem_spec = problem_spec,\n",
    "                      n_repeats = 1)"
   ]
  },
  {
   "cell_type": "markdown",
   "metadata": {},
   "source": [
    "Regardless of a search over params, our linear model still performs best.\n",
    "Let's try some other linear models then-"
   ]
  },
  {
   "cell_type": "code",
   "execution_count": null,
   "metadata": {},
   "outputs": [],
   "source": [
    "model_pipeline.model = Model('elastic net', params=1)\n",
    "\n",
    "results = ML.Evaluate(model_pipeline = model_pipeline,\n",
    "                      problem_spec = problem_spec,\n",
    "                      n_repeats = 1)"
   ]
  },
  {
   "cell_type": "code",
   "execution_count": null,
   "metadata": {},
   "outputs": [],
   "source": [
    "model_pipeline.model = Model('ridge', params=1)\n",
    "\n",
    "results = ML.Evaluate(model_pipeline = model_pipeline,\n",
    "                      problem_spec = problem_spec,\n",
    "                      n_repeats = 1)"
   ]
  },
  {
   "cell_type": "markdown",
   "metadata": {},
   "source": [
    "There are besides model, a whole bunch of other pipeline pieces you can change, e.g., scaler"
   ]
  },
  {
   "cell_type": "code",
   "execution_count": null,
   "metadata": {},
   "outputs": [],
   "source": [
    "model_pipeline.scaler = Scaler('robust')\n",
    "\n",
    "results = ML.Evaluate(model_pipeline = model_pipeline,\n",
    "                      problem_spec = problem_spec,\n",
    "                      n_repeats = 1)"
   ]
  },
  {
   "cell_type": "markdown",
   "metadata": {},
   "source": [
    "That is it for this example - for now, I have plans though to update it more with a more detailed dive into modeling --- and also to include the Test feature."
   ]
  }
 ],
 "metadata": {
  "kernelspec": {
   "display_name": "Python 3.7.6 64-bit ('home': conda)",
   "language": "python",
   "name": "python37664bithomeconda2aade2e1d0ce4797afe91f4891a59d68"
  },
  "language_info": {
   "codemirror_mode": {
    "name": "ipython",
    "version": 3
   },
   "file_extension": ".py",
   "mimetype": "text/x-python",
   "name": "python",
   "nbconvert_exporter": "python",
   "pygments_lexer": "ipython3",
   "version": "3.7.6"
  }
 },
 "nbformat": 4,
 "nbformat_minor": 2
}
