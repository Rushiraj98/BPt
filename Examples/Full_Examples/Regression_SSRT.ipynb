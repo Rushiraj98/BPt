{
 "cells": [
  {
   "cell_type": "markdown",
   "metadata": {},
   "source": [
    "## Original code modified from a project by DK\n",
    "\n",
    "### We will predicting SSRT from SST data"
   ]
  },
  {
   "cell_type": "code",
   "execution_count": 1,
   "metadata": {},
   "outputs": [],
   "source": [
    "from ABCD_ML import *\n",
    "import pandas as pd\n",
    "import os\n",
    "\n",
    "import matplotlib.pyplot as plt\n",
    "from nilearn.plotting import plot_glass_brain, plot_stat_map\n",
    "\n",
    "# We will use some extra loading functions\n",
    "from Neuro_Plotting.Ref import SurfRef, VolRef, load_mapping, save_mapping\n",
    "from Neuro_Plotting.Plot import Plot_Surf, Plot_Surf_Collage, Plot_SurfVol_Collage\n",
    "from VACC_EXT import connect"
   ]
  },
  {
   "cell_type": "code",
   "execution_count": 2,
   "metadata": {},
   "outputs": [],
   "source": [
    "# Base data directories, 2.0 release with most of the phenotype information\n",
    "main_dr = '/home/sage/work/'\n",
    "\n",
    "nda_dr = main_dr + 'ABCD2p0NDA/'\n",
    "\n",
    "# This folder contains the re-released 2.0.1 fixed MRI derived measurements\n",
    "nda_dr2 = main_dr + 'ABCDFixRelease2p0p1'\n",
    "\n",
    "#This file stores the name mapping\n",
    "map_file = os.path.join(nda_dr2, 'Fix Release Notes 2.0.1_Public', '24. ABCD_Release_2.0.1_Updates',\n",
    "                        'abcd_2.0.1_mapping.csv')\n",
    "\n",
    "# Destr atlas structural MRI rois\n",
    "data1 = os.path.join(nda_dr2, 'mrisst02.txt')\n",
    "data2 = os.path.join(nda_dr2,'abcd_tfsstabwdp101.txt')\n",
    "data3 = os.path.join(nda_dr2, 'abcd_tfsstabwdp201.txt')\n",
    "\n",
    "# Family ID\n",
    "strat1 = os.path.join(nda_dr, 'acspsw03.txt')\n",
    "\n",
    "# This file contains the NIH toolbox scores\n",
    "target_loc = nda_dr + 'abcd_sst02.txt'"
   ]
  },
  {
   "cell_type": "code",
   "execution_count": 3,
   "metadata": {
    "scrolled": true
   },
   "outputs": [
    {
     "name": "stdout",
     "output_type": "stream",
     "text": [
      "exp_name = SSRT\n",
      "log_dr = None\n",
      "existing_log = append\n",
      "verbose = True\n",
      "exp log dr setup at: None\n",
      "log file at: None\n",
      "Default params set:\n",
      "notebook = True\n",
      "use_abcd_subject_ids = False\n",
      "low memory mode = False\n",
      "strat_u_name = _Strat\n",
      "random state = 1\n",
      "n_jobs = 1\n",
      "dpi = 100\n",
      "mp_context = spawn\n",
      "ABCD_ML object initialized\n"
     ]
    }
   ],
   "source": [
    "ML = ABCD_ML(exp_name = 'SSRT',\n",
    "             log_dr = None,\n",
    "             existing_log = 'append',\n",
    "             notebook = True,\n",
    "             use_abcd_subject_ids = False,\n",
    "             low_memory_mode = False,\n",
    "             random_state = 1,\n",
    "             verbose = True)"
   ]
  },
  {
   "cell_type": "code",
   "execution_count": 4,
   "metadata": {},
   "outputs": [
    {
     "name": "stdout",
     "output_type": "stream",
     "text": [
      "Total excluded subjects:  1513\n",
      "Removed excluded subjects from loaded dfs\n",
      "Setting default load params, as they have not been set!\n",
      "\n",
      "Default load params set within self.default_load_params.\n",
      "----------------------\n",
      "dataset_type: basic\n",
      "subject_id: src_subject_id\n",
      "eventname: None\n",
      "eventname_col: eventname\n",
      "overlap_subjects: False\n",
      "merge: inner\n",
      "na_values: ['777', '999']\n",
      "drop_na: True\n",
      "drop_or_na: drop\n",
      "\n",
      "To change the default load params, call self.Set_Default_Load_Params()\n",
      "\n",
      "Loading /home/sage/work/ABCDFixRelease2p0p1/Fix Release Notes 2.0.1_Public/24. ABCD_Release_2.0.1_Updates/abcd_2.0.1_mapping.csv  with dataset type: explorer\n",
      "Loading new name_map from file!\n"
     ]
    }
   ],
   "source": [
    "# Exclude subjects w/ data from philips scanners\n",
    "ML.Load_Exclusions('philips.txt')\n",
    "\n",
    "ML.Load_Name_Map(loc = map_file,\n",
    "                 dataset_type= 'explorer',\n",
    "                 source_name_col= 'nda_name',\n",
    "                 target_name_col= 'deap_name')"
   ]
  },
  {
   "cell_type": "code",
   "execution_count": 9,
   "metadata": {},
   "outputs": [],
   "source": [
    "ML.Load_Targets?"
   ]
  },
  {
   "cell_type": "code",
   "execution_count": 11,
   "metadata": {},
   "outputs": [
    {
     "name": "stdout",
     "output_type": "stream",
     "text": [
      "cleared targets.\n",
      "\n",
      "Loading /home/sage/work/ABCDFixRelease2p0p1/mrisst02.txt  with dataset type: basic\n",
      "Dropped 1183 excluded subjects\n",
      "Dropped 0 cols for all missing values\n",
      "Dropped 0 rows for missing values, based on the provided drop_na param: True with actual na_thresh: 0\n",
      "Loaded rows with NaN remaining: 0\n",
      "\n",
      "loading: interview_age.baseline\n",
      "Index(['NDAR_INVL22VUU0E', 'NDAR_INV1D42VFML', 'NDAR_INV5DCHFU4W',\n",
      "       'NDAR_INV1LW4GJ4L', 'NDAR_INV5NPRNJAU', 'NDAR_INVCY4X20TC',\n",
      "       'NDAR_INV8X4L319G', 'NDAR_INVBENKM4B0', 'NDAR_INVP0UWHEP8',\n",
      "       'NDAR_INVG3C90H0L',\n",
      "       ...\n",
      "       'NDAR_INVPATP4RPG', 'NDAR_INVJGGWUMZU', 'NDAR_INVK5MXZ6UG',\n",
      "       'NDAR_INVHEM6RAEH', 'NDAR_INVBBKGL2B8', 'NDAR_INVB7CBMZ2F',\n",
      "       'NDAR_INVBK1CNLJ5', 'NDAR_INV4Z9RE0CC', 'NDAR_INV1NJVJ6VN',\n",
      "       'NDAR_INV4CFUY1KU'],\n",
      "      dtype='object', name='src_subject_id', length=7735)\n",
      "KBins encoded 6 bins\n",
      "Index(['NDAR_INVL22VUU0E', 'NDAR_INV1D42VFML', 'NDAR_INV5DCHFU4W',\n",
      "       'NDAR_INV1LW4GJ4L', 'NDAR_INV5NPRNJAU', 'NDAR_INVCY4X20TC',\n",
      "       'NDAR_INV8X4L319G', 'NDAR_INVBENKM4B0', 'NDAR_INVP0UWHEP8',\n",
      "       'NDAR_INVG3C90H0L',\n",
      "       ...\n",
      "       'NDAR_INVPATP4RPG', 'NDAR_INVJGGWUMZU', 'NDAR_INVK5MXZ6UG',\n",
      "       'NDAR_INVHEM6RAEH', 'NDAR_INVBBKGL2B8', 'NDAR_INVB7CBMZ2F',\n",
      "       'NDAR_INVBK1CNLJ5', 'NDAR_INV4Z9RE0CC', 'NDAR_INV1NJVJ6VN',\n",
      "       'NDAR_INV4CFUY1KU'],\n",
      "      dtype='object', name='src_subject_id', length=7735)\n",
      "10\n",
      "\n",
      "Loaded Shape: (7735, 1)\n",
      "All loaded targets\n",
      "0 : interview_age.baseline\n",
      "\n"
     ]
    }
   ],
   "source": [
    "ML.Load_Targets(loc=data1,\n",
    "                col_name='interview_age',\n",
    "                data_type='f2b',\n",
    "                eventname='baseline_year_1_arm_1',\n",
    "                ext='.baseline',\n",
    "                filter_outlier_percent=None,\n",
    "                filter_outlier_std=None,\n",
    "                categorical_drop_percent=None,\n",
    "                float_bins=6,\n",
    "                float_bin_strategy='quantile',\n",
    "                clear_existing=True)\n",
    "                \n",
    "                "
   ]
  },
  {
   "cell_type": "code",
   "execution_count": 5,
   "metadata": {
    "scrolled": false
   },
   "outputs": [
    {
     "name": "stdout",
     "output_type": "stream",
     "text": [
      "Cleared loaded data.\n",
      "\n",
      "Loading /home/sage/work/ABCDFixRelease2p0p1/mrisst02.txt  with dataset type: basic\n",
      "dropped ['collection_id', 'mrisst02_id', 'dataset_id', 'subjectkey', 'interview_date', 'interview_age', 'sex', 'tfmri_sa_beta_visitid', 'collection_title', 'study_cohort_name'] columns by default  due to dataset type\n",
      "Dropped 1183 excluded subjects\n",
      "Loading /home/sage/work/ABCDFixRelease2p0p1/abcd_tfsstabwdp101.txt  with dataset type: basic\n",
      "dropped ['collection_id', 'abcd_tfsstabwdp101_id', 'dataset_id', 'subjectkey', 'interview_age', 'interview_date', 'sex', 'collection_title', 'study_cohort_name'] columns by default  due to dataset type\n",
      "Dropped 1183 excluded subjects\n",
      "Loading /home/sage/work/ABCDFixRelease2p0p1/abcd_tfsstabwdp201.txt  with dataset type: basic\n",
      "dropped ['collection_id', 'abcd_tfsstabwdp201_id', 'dataset_id', 'subjectkey', 'interview_age', 'interview_date', 'sex', 'collection_title', 'study_cohort_name'] columns by default  due to dataset type\n",
      "Dropped 1183 excluded subjects\n",
      "\n",
      "Dropped 578 columns per passed drop_keys argument\n",
      "Keeping 495 columns per passed inclusion_keys argument\n",
      "Dropped 0 cols for all missing values\n",
      "Loaded rows with NaN remaining: 32\n",
      "Dropped 227 rows based on filter input params, e.g. filter outlier percent, drop cat, ect...\n",
      "\n",
      "Loaded NaN Info:\n",
      "There are: 14685 total missing values\n",
      "165 columns found with 31 missing values (column name overlap: ['tfmri_sst_all_correct.go.vs.fixation_beta_', 'cort.'])\n",
      "165 columns found with 30 missing values (column name overlap: ['tfmri_sst_all_correct.stop.vs.correct.go_beta_', 'cort.'])\n",
      "\n",
      "Loaded Shape: (7508, 495)\n"
     ]
    }
   ],
   "source": [
    "# These drop keys are to narrow in on only the subcortical volumes of interest\n",
    "drop_keys = ['_csf', '.white.matter', '.vent', '_cort.desikan_', 'all_beta']\n",
    "\n",
    "# These are to specify the contrasts we want to load\n",
    "contrast_keys = ['tfmri_sst_all_correct.go.vs.fixation_beta_', \n",
    "                 'tfmri_sst_all_correct.stop.vs.correct.go_beta_',\n",
    "                 'tfmri_sst_all_incorrect.stop.vs.correct.go_beta_']\n",
    "\n",
    "ML.Load_Data(loc = [data1, data2, data3],\n",
    "             inclusion_keys = contrast_keys,\n",
    "             drop_keys=drop_keys,\n",
    "             clear_existing=True,\n",
    "             drop_na=False,\n",
    "             subject_id='src_subject_id',\n",
    "             dataset_type = 'basic',\n",
    "             filter_outlier_std = 10)"
   ]
  },
  {
   "cell_type": "code",
   "execution_count": null,
   "metadata": {},
   "outputs": [],
   "source": [
    "#ML.Show_Data_Dist()"
   ]
  },
  {
   "cell_type": "code",
   "execution_count": 7,
   "metadata": {},
   "outputs": [
    {
     "ename": "AttributeError",
     "evalue": "'NoneType' object has no attribute 'copy'",
     "output_type": "error",
     "traceback": [
      "\u001b[0;31m---------------------------------------------------------------------------\u001b[0m",
      "\u001b[0;31mAttributeError\u001b[0m                            Traceback (most recent call last)",
      "\u001b[0;32m<ipython-input-7-c0c1d309bd6b>\u001b[0m in \u001b[0;36m<module>\u001b[0;34m\u001b[0m\n\u001b[0;32m----> 1\u001b[0;31m \u001b[0mdfs\u001b[0m \u001b[0;34m=\u001b[0m \u001b[0mML\u001b[0m\u001b[0;34m.\u001b[0m\u001b[0mShow_Targets_Dist\u001b[0m\u001b[0;34m(\u001b[0m\u001b[0mreturn_display_dfs\u001b[0m\u001b[0;34m=\u001b[0m\u001b[0;32mTrue\u001b[0m\u001b[0;34m)\u001b[0m\u001b[0;34m\u001b[0m\u001b[0;34m\u001b[0m\u001b[0m\n\u001b[0m",
      "\u001b[0;32m~/anaconda3/envs/home/lib/python3.7/site-packages/ABCD_ML/main/_Plotting.py\u001b[0m in \u001b[0;36mShow_Targets_Dist\u001b[0;34m(self, targets, cat_show_original_name, show_only_overlap, subjects, show, cat_type, return_display_dfs)\u001b[0m\n\u001b[1;32m    466\u001b[0m     '''\n\u001b[1;32m    467\u001b[0m \u001b[0;34m\u001b[0m\u001b[0m\n\u001b[0;32m--> 468\u001b[0;31m     \u001b[0mtargets_df\u001b[0m \u001b[0;34m=\u001b[0m \u001b[0mself\u001b[0m\u001b[0;34m.\u001b[0m\u001b[0m_get_plot_df\u001b[0m\u001b[0;34m(\u001b[0m\u001b[0mself\u001b[0m\u001b[0;34m.\u001b[0m\u001b[0mtargets\u001b[0m\u001b[0;34m,\u001b[0m \u001b[0msubjects\u001b[0m\u001b[0;34m,\u001b[0m \u001b[0mshow_only_overlap\u001b[0m\u001b[0;34m)\u001b[0m\u001b[0;34m\u001b[0m\u001b[0;34m\u001b[0m\u001b[0m\n\u001b[0m\u001b[1;32m    469\u001b[0m     \u001b[0mtargets\u001b[0m \u001b[0;34m=\u001b[0m \u001b[0mself\u001b[0m\u001b[0;34m.\u001b[0m\u001b[0m_input_targets\u001b[0m\u001b[0;34m(\u001b[0m\u001b[0mtargets\u001b[0m\u001b[0;34m)\u001b[0m\u001b[0;34m\u001b[0m\u001b[0;34m\u001b[0m\u001b[0m\n\u001b[1;32m    470\u001b[0m \u001b[0;34m\u001b[0m\u001b[0m\n",
      "\u001b[0;32m~/anaconda3/envs/home/lib/python3.7/site-packages/ABCD_ML/main/_Plotting.py\u001b[0m in \u001b[0;36m_get_plot_df\u001b[0;34m(self, source_df, subjects, show_only_overlap)\u001b[0m\n\u001b[1;32m     72\u001b[0m \u001b[0;34m\u001b[0m\u001b[0m\n\u001b[1;32m     73\u001b[0m     \u001b[0;32mif\u001b[0m \u001b[0mlen\u001b[0m\u001b[0;34m(\u001b[0m\u001b[0msource_df\u001b[0m\u001b[0;34m)\u001b[0m \u001b[0;34m==\u001b[0m \u001b[0;36m0\u001b[0m\u001b[0;34m:\u001b[0m\u001b[0;34m\u001b[0m\u001b[0;34m\u001b[0m\u001b[0m\n\u001b[0;32m---> 74\u001b[0;31m         \u001b[0mdf\u001b[0m \u001b[0;34m=\u001b[0m \u001b[0mself\u001b[0m\u001b[0;34m.\u001b[0m\u001b[0mall_data\u001b[0m\u001b[0;34m.\u001b[0m\u001b[0mcopy\u001b[0m\u001b[0;34m(\u001b[0m\u001b[0;34m)\u001b[0m\u001b[0;34m\u001b[0m\u001b[0;34m\u001b[0m\u001b[0m\n\u001b[0m\u001b[1;32m     75\u001b[0m     \u001b[0;32melse\u001b[0m\u001b[0;34m:\u001b[0m\u001b[0;34m\u001b[0m\u001b[0;34m\u001b[0m\u001b[0m\n\u001b[1;32m     76\u001b[0m         \u001b[0mdf\u001b[0m \u001b[0;34m=\u001b[0m \u001b[0mself\u001b[0m\u001b[0;34m.\u001b[0m\u001b[0m_set_overlap\u001b[0m\u001b[0;34m(\u001b[0m\u001b[0msource_df\u001b[0m\u001b[0;34m,\u001b[0m \u001b[0mshow_only_overlap\u001b[0m\u001b[0;34m)\u001b[0m\u001b[0;34m.\u001b[0m\u001b[0mcopy\u001b[0m\u001b[0;34m(\u001b[0m\u001b[0;34m)\u001b[0m\u001b[0;34m\u001b[0m\u001b[0;34m\u001b[0m\u001b[0m\n",
      "\u001b[0;31mAttributeError\u001b[0m: 'NoneType' object has no attribute 'copy'"
     ]
    }
   ],
   "source": []
  },
  {
   "cell_type": "markdown",
   "metadata": {},
   "source": [
    "Make sure you include essentially the longest unique key in the name you want, e.g., if you just want correct go, by passing \"correct.go.\" you will also pick up \"incorrect.go.\" so instead 'tfmri_sst_all_correct.go.vs.fixation_beta_' is very conservative, and will get you just correct go."
   ]
  },
  {
   "cell_type": "code",
   "execution_count": 8,
   "metadata": {},
   "outputs": [
    {
     "name": "stdout",
     "output_type": "stream",
     "text": [
      "cleared targets.\n",
      "\n",
      "Loading /home/sage/work/ABCD2p0NDA/abcd_sst02.txt  with dataset type: basic\n",
      "Dropped 1232 excluded subjects\n",
      "Dropped 0 cols for all missing values\n",
      "Dropped 0 rows for missing values, based on the provided drop_na param: True with actual na_thresh: 0\n",
      "Loaded rows with NaN remaining: 0\n",
      "\n",
      "loading: tfmri_sst_all_beh_total_mean.rt\n",
      "Filtering for outliers, dropping rows with params:  (0.00015, 0.9901)\n",
      "Min-Max value (pre-filter): -692.0 702.69230769\n",
      "Min-Max value (post outlier filtering): -401.58333333 502.42600897\n",
      "\n",
      "Dropped 85 rows based on filter input params, e.g. filter outlier percent, drop cat, ect...\n",
      "Loaded Shape: (8281, 1)\n",
      "All loaded targets\n",
      "0 : tfmri_sst_all_beh_total_mean.rt\n",
      "\n",
      "Set to overlapping loaded subjects.\n",
      "-- tfmri_sst_all_beh_total_mean.rt --\n"
     ]
    },
    {
     "data": {
      "text/html": [
       "<div>\n",
       "<style scoped>\n",
       "    .dataframe tbody tr th:only-of-type {\n",
       "        vertical-align: middle;\n",
       "    }\n",
       "\n",
       "    .dataframe tbody tr th {\n",
       "        vertical-align: top;\n",
       "    }\n",
       "\n",
       "    .dataframe thead th {\n",
       "        text-align: right;\n",
       "    }\n",
       "</style>\n",
       "<table border=\"1\" class=\"dataframe\">\n",
       "  <thead>\n",
       "    <tr style=\"text-align: right;\">\n",
       "      <th></th>\n",
       "      <th>tfmri_sst_all_beh_total_mean.rt</th>\n",
       "    </tr>\n",
       "  </thead>\n",
       "  <tbody>\n",
       "    <tr>\n",
       "      <th>count</th>\n",
       "      <td>7413.000</td>\n",
       "    </tr>\n",
       "    <tr>\n",
       "      <th>mean</th>\n",
       "      <td>298.949</td>\n",
       "    </tr>\n",
       "    <tr>\n",
       "      <th>std</th>\n",
       "      <td>76.566</td>\n",
       "    </tr>\n",
       "    <tr>\n",
       "      <th>min</th>\n",
       "      <td>-401.583</td>\n",
       "    </tr>\n",
       "    <tr>\n",
       "      <th>25%</th>\n",
       "      <td>256.985</td>\n",
       "    </tr>\n",
       "    <tr>\n",
       "      <th>50%</th>\n",
       "      <td>300.233</td>\n",
       "    </tr>\n",
       "    <tr>\n",
       "      <th>75%</th>\n",
       "      <td>345.045</td>\n",
       "    </tr>\n",
       "    <tr>\n",
       "      <th>max</th>\n",
       "      <td>502.426</td>\n",
       "    </tr>\n",
       "    <tr>\n",
       "      <th>median</th>\n",
       "      <td>300.233</td>\n",
       "    </tr>\n",
       "    <tr>\n",
       "      <th>skew</th>\n",
       "      <td>-1.012</td>\n",
       "    </tr>\n",
       "    <tr>\n",
       "      <th>kurtosis</th>\n",
       "      <td>5.341</td>\n",
       "    </tr>\n",
       "  </tbody>\n",
       "</table>\n",
       "</div>"
      ],
      "text/plain": [
       "          tfmri_sst_all_beh_total_mean.rt\n",
       "count                            7413.000\n",
       "mean                              298.949\n",
       "std                                76.566\n",
       "min                              -401.583\n",
       "25%                               256.985\n",
       "50%                               300.233\n",
       "75%                               345.045\n",
       "max                               502.426\n",
       "median                            300.233\n",
       "skew                               -1.012\n",
       "kurtosis                            5.341"
      ]
     },
     "metadata": {},
     "output_type": "display_data"
    },
    {
     "data": {
      "image/png": "[encoded data removed]",
      "text/plain": [
       "<Figure size 432x288 with 1 Axes>"
      ]
     },
     "metadata": {
      "needs_background": "light"
     },
     "output_type": "display_data"
    },
    {
     "name": "stdout",
     "output_type": "stream",
     "text": [
      "\n"
     ]
    }
   ],
   "source": [
    "ML.Load_Targets(target_loc,\n",
    "                dataset_type='basic',\n",
    "                col_name='tfmri_sst_all_beh_total_meanrt',\n",
    "                data_type='float',\n",
    "                filter_outlier_percent=(.015, .99),\n",
    "                clear_existing=True)\n",
    "\n",
    "dfs = ML.Show_Targets_Dist(return_display_dfs=True)"
   ]
  },
  {
   "cell_type": "code",
   "execution_count": 10,
   "metadata": {},
   "outputs": [
    {
     "data": {
      "text/html": [
       "<div>\n",
       "<style scoped>\n",
       "    .dataframe tbody tr th:only-of-type {\n",
       "        vertical-align: middle;\n",
       "    }\n",
       "\n",
       "    .dataframe tbody tr th {\n",
       "        vertical-align: top;\n",
       "    }\n",
       "\n",
       "    .dataframe thead th {\n",
       "        text-align: right;\n",
       "    }\n",
       "</style>\n",
       "<table border=\"1\" class=\"dataframe\">\n",
       "  <thead>\n",
       "    <tr style=\"text-align: right;\">\n",
       "      <th></th>\n",
       "      <th>tfmri_sst_all_beh_total_mean.rt</th>\n",
       "    </tr>\n",
       "  </thead>\n",
       "  <tbody>\n",
       "    <tr>\n",
       "      <th>count</th>\n",
       "      <td>7413.000</td>\n",
       "    </tr>\n",
       "    <tr>\n",
       "      <th>mean</th>\n",
       "      <td>298.949</td>\n",
       "    </tr>\n",
       "    <tr>\n",
       "      <th>std</th>\n",
       "      <td>76.566</td>\n",
       "    </tr>\n",
       "    <tr>\n",
       "      <th>min</th>\n",
       "      <td>-401.583</td>\n",
       "    </tr>\n",
       "    <tr>\n",
       "      <th>25%</th>\n",
       "      <td>256.985</td>\n",
       "    </tr>\n",
       "    <tr>\n",
       "      <th>50%</th>\n",
       "      <td>300.233</td>\n",
       "    </tr>\n",
       "    <tr>\n",
       "      <th>75%</th>\n",
       "      <td>345.045</td>\n",
       "    </tr>\n",
       "    <tr>\n",
       "      <th>max</th>\n",
       "      <td>502.426</td>\n",
       "    </tr>\n",
       "    <tr>\n",
       "      <th>median</th>\n",
       "      <td>300.233</td>\n",
       "    </tr>\n",
       "    <tr>\n",
       "      <th>skew</th>\n",
       "      <td>-1.012</td>\n",
       "    </tr>\n",
       "    <tr>\n",
       "      <th>kurtosis</th>\n",
       "      <td>5.341</td>\n",
       "    </tr>\n",
       "  </tbody>\n",
       "</table>\n",
       "</div>"
      ],
      "text/plain": [
       "          tfmri_sst_all_beh_total_mean.rt\n",
       "count                            7413.000\n",
       "mean                              298.949\n",
       "std                                76.566\n",
       "min                              -401.583\n",
       "25%                               256.985\n",
       "50%                               300.233\n",
       "75%                               345.045\n",
       "max                               502.426\n",
       "median                            300.233\n",
       "skew                               -1.012\n",
       "kurtosis                            5.341"
      ]
     },
     "execution_count": 10,
     "metadata": {},
     "output_type": "execute_result"
    }
   ],
   "source": [
    "dfs[0]"
   ]
  },
  {
   "cell_type": "code",
   "execution_count": null,
   "metadata": {},
   "outputs": [],
   "source": [
    "ML.Load_Covars(loc = data1,\n",
    "               col_name = 'sex',\n",
    "               drop_na = False,\n",
    "               data_type = 'b')\n",
    "\n",
    "'''\n",
    "ML.Load_Covars(loc = data1,\n",
    "               data_type = 'c',\n",
    "               col_name = 'interview_age',\n",
    "               nan_as_class = True,\n",
    "               categorical_drop_percent = .01,\n",
    "               drop_or_na = 'na',\n",
    "               drop_na = False,\n",
    "               clear_existing = True)\n",
    "ML.Show_Covars_Dist()\n",
    "\n",
    "ML.Load_Covars(loc = data1,\n",
    "               data_type = 'f2b',\n",
    "               col_name = 'tfmri_sst_all_correct.go.vs.fixation_beta_subcort.aseg_cerebellum.cortex.lh',\n",
    "               float_bins = 10,\n",
    "               float_bin_strategy = 'uniform',\n",
    "               drop_or_na = 'na', \n",
    "               filter_outlier_std = 10,\n",
    "               nan_as_class = True,\n",
    "               categorical_drop_percent = .3,\n",
    "               clear_existing = True)\n",
    "ML.Show_Covars_Dist()\n",
    "\n",
    "ML.Load_Strat(loc = data1,\n",
    "              col_name = 'tfmri_sst_all_correct.go.vs.fixation_beta_subcort.aseg_cerebellum.cortex.lh',\n",
    "              float_col = True,\n",
    "              filter_outlier_std = 10,\n",
    "              clear_existing = True)\n",
    "\n",
    "ML.Show_Strat_Dist()\n",
    "'''\n",
    "6"
   ]
  },
  {
   "cell_type": "code",
   "execution_count": null,
   "metadata": {},
   "outputs": [],
   "source": [
    "df"
   ]
  },
  {
   "cell_type": "code",
   "execution_count": null,
   "metadata": {},
   "outputs": [],
   "source": [
    "ML.Train_Test_Split(test_size=0.2,\n",
    "                    random_state=1001)"
   ]
  },
  {
   "cell_type": "markdown",
   "metadata": {},
   "source": [
    "## On to modelling"
   ]
  },
  {
   "cell_type": "code",
   "execution_count": null,
   "metadata": {},
   "outputs": [],
   "source": [
    "ML.Set_Default_ML_Verbosity(compute_train_score = False,\n",
    "                            fold_sizes = True,\n",
    "                            progress_loc = None)"
   ]
  },
  {
   "cell_type": "code",
   "execution_count": null,
   "metadata": {},
   "outputs": [],
   "source": [
    "spec = Problem_Spec(problem_type = 'regression',\n",
    "                    scorer = 'r2',\n",
    "                    random_state = 51,\n",
    "                    n_jobs = 1)\n",
    "\n",
    "ridge = Model('ridge', params=1, scope='tfmri_sst_all_correct.stop.vs.correct.go_beta_')\n",
    "elastic = Model('elastic net', params=1)\n",
    "\n",
    "scalers = [Scaler('winsorize', scope='float'),\n",
    "           Scaler('standard', scope='float')]\n",
    "\n",
    "ohe_sex = Transformer(obj=\"one hot encoder\", scope='sex')\n",
    "\n",
    "search = Param_Search(search_type = 'DE',\n",
    "                      n_iter = 100,\n",
    "                      splits = .5,\n",
    "                      n_repeats = 3)\n",
    "\n",
    "pipeline = Model_Pipeline(imputers='default',\n",
    "                          transformers=[ohe_sex],\n",
    "                          scalers = scalers,\n",
    "                          model = Select([ridge, elastic]),\n",
    "                          param_search = search)\n",
    "\n",
    "eval_results = ML.Evaluate(model_pipeline = pipeline,\n",
    "                           problem_spec = spec,\n",
    "                           splits = .5,\n",
    "                           n_repeats = 1)"
   ]
  },
  {
   "cell_type": "code",
   "execution_count": null,
   "metadata": {},
   "outputs": [],
   "source": []
  },
  {
   "cell_type": "code",
   "execution_count": null,
   "metadata": {},
   "outputs": [],
   "source": [
    "-0.00895\n",
    "-0.007021737       \n",
    "-.0000252614232193471e-05 "
   ]
  },
  {
   "cell_type": "code",
   "execution_count": null,
   "metadata": {},
   "outputs": [],
   "source": [
    "fghfgh"
   ]
  },
  {
   "cell_type": "code",
   "execution_count": null,
   "metadata": {},
   "outputs": [],
   "source": [
    "# Try ridge first\n",
    "eval_results = ML.Evaluate(model_pipeline = pipeline,\n",
    "                           problem_spec = spec,\n",
    "                           splits = 5)"
   ]
  },
  {
   "cell_type": "markdown",
   "metadata": {},
   "source": [
    "In this example we will just assume this is fine, and move forward with testing, not even going to try the elastic net even though we defined it."
   ]
  },
  {
   "cell_type": "code",
   "execution_count": null,
   "metadata": {},
   "outputs": [],
   "source": [
    "test_results = ML.Test(model_pipeline = pipeline,\n",
    "                       problem_spec = spec)"
   ]
  },
  {
   "cell_type": "code",
   "execution_count": null,
   "metadata": {},
   "outputs": [],
   "source": [
    "ML.Plot_Global_Feat_Importances(test_results['FIs'][0], top_n=10)"
   ]
  },
  {
   "cell_type": "markdown",
   "metadata": {},
   "source": [
    "### Neuro_plotting\n",
    "\n",
    "This next portion of the notebook will use an external library developed for plotting. You can download it at https://github.com/sahahn/Neuro_Plotting"
   ]
  },
  {
   "cell_type": "code",
   "execution_count": null,
   "metadata": {},
   "outputs": [],
   "source": [
    "# The directory where you install Neuro_Plotting\n",
    "data_dr = '/home/sage/Neuro_Plotting/data/'"
   ]
  },
  {
   "cell_type": "code",
   "execution_count": null,
   "metadata": {},
   "outputs": [],
   "source": [
    "feats_df = test_results['FIs'][0].global_df.transpose()\n",
    "feats_df = feats_df.reset_index()"
   ]
  },
  {
   "cell_type": "code",
   "execution_count": null,
   "metadata": {},
   "outputs": [],
   "source": [
    "feats_df"
   ]
  },
  {
   "cell_type": "code",
   "execution_count": null,
   "metadata": {},
   "outputs": [],
   "source": [
    "surf_ref = SurfRef(data_dr, space='fsaverage5', parc='destr')"
   ]
  },
  {
   "cell_type": "code",
   "execution_count": null,
   "metadata": {},
   "outputs": [],
   "source": [
    "betas = []\n",
    "for c_key in contrast_keys:\n",
    "    betas.append(surf_ref.get_hemis_plot_vals(feats_df, '.lh', '.rh', i_keys=['.destrieux', c_key]))"
   ]
  },
  {
   "cell_type": "code",
   "execution_count": null,
   "metadata": {},
   "outputs": [],
   "source": [
    "for i in range(len(betas)):\n",
    "    figure, axes, smf = Plot_Surf_Collage(data = betas[i],\n",
    "                                          ref = surf_ref,\n",
    "                                          surf_mesh = 'pial',\n",
    "                                          bg_map = 'sulc',\n",
    "                                          view = 'standard',\n",
    "                                          cmap = 'seismic',\n",
    "                                          title = contrast_keys[i],\n",
    "                                          title_sz = 22,\n",
    "                                          threshold = 1,\n",
    "                                          wspace = 0,\n",
    "                                          hspace = 0,\n",
    "                                          figsize = (15, 10),\n",
    "                                          avg_method = 'median',\n",
    "                                          bg_on_data = True,\n",
    "                                          alpha = 1,\n",
    "                                          colorbar = True)\n",
    "\n",
    "    #plt.savefig(contrast_keys[i] + '.png', dpi=100, bbox_inches='tight')"
   ]
  },
  {
   "cell_type": "markdown",
   "metadata": {},
   "source": [
    "### Below is just playing around with making a gif of subcortical activation (it could certainly be developed a bit more)"
   ]
  },
  {
   "cell_type": "code",
   "execution_count": null,
   "metadata": {},
   "outputs": [],
   "source": [
    "from nilearn.datasets import load_mni152_template\n",
    "from matplotlib import cm\n",
    "import matplotlib.pyplot as plt\n",
    "import numpy as np\n",
    "from matplotlib.animation import FuncAnimation\n",
    "\n",
    "vol_ref = VolRef(data_dr, space='mni', parc='aseg_2mm')\n",
    "bkg_img = load_mni152_template().get_fdata().T\n",
    "vol_vals = vol_ref.get_plot_vals(feats_df, i_keys=['_subcort.aseg']).get_fdata().T\n",
    "\n",
    "cmap = cm.get_cmap('Reds')\n",
    "colored = cmap(vol_vals)[:,:,:,:3] * 255\n",
    "colored = colored.astype(int)\n",
    "\n",
    "# Normalize to 255\n",
    "mx = np.max(bkg_img)\n",
    "mn = np.min(bkg_img)\n",
    "\n",
    "bkg_img -= mn\n",
    "bkg_img *= (255 / (mx - mn))\n",
    "bkg_img = bkg_img.astype(int)\n",
    "\n",
    "threshold = .5\n",
    "\n",
    "fig, ax = plt.subplots()\n",
    "def update(s):\n",
    "    \n",
    "    slc = bkg_img[s]\n",
    "    stacked = np.stack([slc, slc, slc], axis=-1)\n",
    "    vals_slc = vol_vals[s]\n",
    "\n",
    "    inds = np.where(vals_slc > threshold)\n",
    "    if len(inds[0]) > 0:\n",
    "        \n",
    "        stacked[inds] = colored[s][inds]\n",
    "\n",
    "    plt.imshow(stacked)\n",
    "\n",
    "ani = FuncAnimation(fig, update, frames=[s for s in range(len(bkg_img))])\n",
    "ani.save('subcortical.gif', writer='imagemagick')"
   ]
  },
  {
   "cell_type": "code",
   "execution_count": null,
   "metadata": {},
   "outputs": [],
   "source": []
  }
 ],
 "metadata": {
  "kernelspec": {
   "display_name": "Python 3.7.6 64-bit ('home': conda)",
   "language": "python",
   "name": "python37664bithomeconda2aade2e1d0ce4797afe91f4891a59d68"
  },
  "language_info": {
   "codemirror_mode": {
    "name": "ipython",
    "version": 3
   },
   "file_extension": ".py",
   "mimetype": "text/x-python",
   "name": "python",
   "nbconvert_exporter": "python",
   "pygments_lexer": "ipython3",
   "version": "3.7.6"
  }
 },
 "nbformat": 4,
 "nbformat_minor": 2
}
