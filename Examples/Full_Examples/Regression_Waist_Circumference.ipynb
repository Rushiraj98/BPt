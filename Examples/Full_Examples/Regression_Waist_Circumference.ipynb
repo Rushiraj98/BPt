{
 "cells": [
  {
   "cell_type": "markdown",
   "metadata": {},
   "source": [
    "## Predict waist circumfrance in cm, w/ some DTI RSI measures"
   ]
  },
  {
   "cell_type": "code",
   "execution_count": 1,
   "metadata": {},
   "outputs": [],
   "source": [
    "from BPt import BPt_ML\n",
    "import pandas as pd\n",
    "import os"
   ]
  },
  {
   "cell_type": "code",
   "execution_count": 2,
   "metadata": {},
   "outputs": [],
   "source": [
    "main_dr = '/home/sage/work/'\n",
    "\n",
    "# Base data directories, 2.0 release with most of the phenotype information\n",
    "nda_dr = main_dr + 'ABCD2p0NDA/'\n",
    "\n",
    "# This folder contains the re-released 2.0.1 fixed MRI derived measurements\n",
    "nda_dr2 = main_dr + 'ABCDFixRelease2p0p1/'\n",
    "\n",
    "#This file stores the name mapping\n",
    "map_file = os.path.join(nda_dr2, 'Fix Release Notes 2.0.1_Public', '24. ABCD_Release_2.0.1_Updates',\n",
    "                        'abcd_2.0.1_mapping.csv')\n",
    "\n",
    "# Target loc\n",
    "target_loc = nda_dr + 'abcd_ant01.txt'\n",
    "\n",
    "# Data loc\n",
    "data_loc1 = nda_dr2 + 'mri_rsi_p102.txt'\n",
    "data_loc2 = nda_dr2 + 'mri_rsi_p202.txt'\n",
    "\n",
    "# Strat loc\n",
    "strat1 = os.path.join(nda_dr, 'acspsw03.txt')"
   ]
  },
  {
   "cell_type": "code",
   "execution_count": 3,
   "metadata": {},
   "outputs": [
    {
     "name": "stdout",
     "output_type": "stream",
     "text": [
      "exp_name = Waist_Circ\n",
      "log_dr = None\n",
      "existing_log = append\n",
      "verbose = True\n",
      "exp log dr setup at: None\n",
      "log file at: None\n",
      "Default params set:\n",
      "notebook = True\n",
      "use_abcd_subject_ids = False\n",
      "low memory mode = False\n",
      "strat_u_name = _Strat\n",
      "random state = 1\n",
      "n_jobs = 1\n",
      "dpi = 100\n",
      "mp_context = spawn\n",
      "BPt_ML object initialized\n",
      "Default load params set within self.default_load_params.\n",
      "----------------------\n",
      "dataset_type: basic\n",
      "subject_id: src_subject_id\n",
      "eventname: baseline_year_1_arm_1\n",
      "eventname_col: eventname\n",
      "overlap_subjects: False\n",
      "merge: inner\n",
      "na_values: ['777', '999']\n",
      "drop_na: True\n",
      "drop_or_na: drop\n",
      "\n"
     ]
    }
   ],
   "source": [
    "ML = BPt_ML(exp_name = 'Waist_Circ',\n",
    "            log_dr = None,\n",
    "            random_state = 1)\n",
    "\n",
    "ML.Set_Default_Load_Params(dataset_type = 'basic',\n",
    "                           eventname = 'baseline_year_1_arm_1')"
   ]
  },
  {
   "cell_type": "markdown",
   "metadata": {},
   "source": [
    "## Load waist size + filter by some obvious outliers"
   ]
  },
  {
   "cell_type": "code",
   "execution_count": 4,
   "metadata": {},
   "outputs": [
    {
     "name": "stdout",
     "output_type": "stream",
     "text": [
      "cleared targets.\n",
      "\n",
      "Loading /home/sage/work/ABCD2p0NDA/abcd_ant01.txt  with dataset type: basic\n",
      "4951 subjects have been dropped based on passed eventname params.\n",
      "Dropped 0 cols for all missing values\n",
      "Dropped 17 rows for missing values, based on the provided drop_na param: True with actual na_thresh: 0\n",
      "Loaded rows with NaN remaining: 0\n",
      "\n",
      "loading: anthro_waist_cm\n",
      "Filtering for outliers by stds: (3, 4)\n",
      "Min-Max value (pre-filter): 0.0 90.0\n",
      "Min-Max value (post outlier filtering): 15.0 45.5\n",
      "10\n",
      "\n",
      "Dropped 50 rows based on filter input params, e.g. filter outlier percent, drop cat, ect...\n",
      "Loaded Shape: (11808, 1)\n",
      "All loaded targets\n",
      "0 : anthro_waist_cm\n",
      "\n",
      "Set to overlapping loaded subjects.\n",
      "-- anthro_waist_cm --\n"
     ]
    },
    {
     "data": {
      "text/html": [
       "<div>\n",
       "<style scoped>\n",
       "    .dataframe tbody tr th:only-of-type {\n",
       "        vertical-align: middle;\n",
       "    }\n",
       "\n",
       "    .dataframe tbody tr th {\n",
       "        vertical-align: top;\n",
       "    }\n",
       "\n",
       "    .dataframe thead th {\n",
       "        text-align: right;\n",
       "    }\n",
       "</style>\n",
       "<table border=\"1\" class=\"dataframe\">\n",
       "  <thead>\n",
       "    <tr style=\"text-align: right;\">\n",
       "      <th></th>\n",
       "      <th>anthro_waist_cm</th>\n",
       "    </tr>\n",
       "  </thead>\n",
       "  <tbody>\n",
       "    <tr>\n",
       "      <th>count</th>\n",
       "      <td>11808.000</td>\n",
       "    </tr>\n",
       "    <tr>\n",
       "      <th>mean</th>\n",
       "      <td>26.454</td>\n",
       "    </tr>\n",
       "    <tr>\n",
       "      <th>std</th>\n",
       "      <td>4.199</td>\n",
       "    </tr>\n",
       "    <tr>\n",
       "      <th>min</th>\n",
       "      <td>15.000</td>\n",
       "    </tr>\n",
       "    <tr>\n",
       "      <th>25%</th>\n",
       "      <td>23.500</td>\n",
       "    </tr>\n",
       "    <tr>\n",
       "      <th>50%</th>\n",
       "      <td>25.500</td>\n",
       "    </tr>\n",
       "    <tr>\n",
       "      <th>75%</th>\n",
       "      <td>28.500</td>\n",
       "    </tr>\n",
       "    <tr>\n",
       "      <th>max</th>\n",
       "      <td>45.500</td>\n",
       "    </tr>\n",
       "    <tr>\n",
       "      <th>median</th>\n",
       "      <td>25.500</td>\n",
       "    </tr>\n",
       "    <tr>\n",
       "      <th>skew</th>\n",
       "      <td>1.072</td>\n",
       "    </tr>\n",
       "    <tr>\n",
       "      <th>kurtosis</th>\n",
       "      <td>1.215</td>\n",
       "    </tr>\n",
       "  </tbody>\n",
       "</table>\n",
       "</div>"
      ],
      "text/plain": [
       "          anthro_waist_cm\n",
       "count           11808.000\n",
       "mean               26.454\n",
       "std                 4.199\n",
       "min                15.000\n",
       "25%                23.500\n",
       "50%                25.500\n",
       "75%                28.500\n",
       "max                45.500\n",
       "median             25.500\n",
       "skew                1.072\n",
       "kurtosis            1.215"
      ]
     },
     "metadata": {},
     "output_type": "display_data"
    },
    {
     "data": {
      "image/png": "[encoded data removed]",
      "text/plain": [
       "<Figure size 432x288 with 1 Axes>"
      ]
     },
     "metadata": {
      "needs_background": "light"
     },
     "output_type": "display_data"
    },
    {
     "name": "stdout",
     "output_type": "stream",
     "text": [
      "\n"
     ]
    }
   ],
   "source": [
    "ML.Load_Targets(loc = target_loc,\n",
    "                col_name = 'anthro_waist_cm',\n",
    "                data_type = 'float',\n",
    "                filter_outlier_std = (3,4),\n",
    "                clear_existing = True)\n",
    "\n",
    "ML.Show_Targets_Dist()"
   ]
  },
  {
   "cell_type": "markdown",
   "metadata": {},
   "source": [
    "## Load RSI DTI data (just fiberrat, to keep # of features managable)"
   ]
  },
  {
   "cell_type": "code",
   "execution_count": 5,
   "metadata": {},
   "outputs": [
    {
     "name": "stdout",
     "output_type": "stream",
     "text": [
      "Cleared loaded data.\n",
      "\n",
      "Loading /home/sage/work/ABCDFixRelease2p0p1/mri_rsi_p102.txt  with dataset type: basic\n",
      "dropped ['collection_id', 'mri_rsi_p102_id', 'dataset_id', 'subjectkey', 'interview_date', 'interview_age', 'sex', 'dmri_rsi_visitid', 'collection_title', 'study_cohort_name'] columns by default  due to dataset type\n",
      "Loading /home/sage/work/ABCDFixRelease2p0p1/mri_rsi_p202.txt  with dataset type: basic\n",
      "dropped ['collection_id', 'mri_rsi_p202_id', 'dataset_id', 'subjectkey', 'interview_date', 'interview_age', 'sex', 'collection_title', 'study_cohort_name'] columns by default  due to dataset type\n",
      "\n",
      "Keeping 294 columns per passed inclusion_keys argument\n",
      "Dropped 0 cols for all missing values\n",
      "Dropped 659 rows for missing values, based on the provided drop_na param: True with actual na_thresh: 0\n",
      "Loaded rows with NaN remaining: 0\n",
      "Dropped 145 rows based on filter input params, e.g. filter outlier percent, drop cat, ect...\n",
      "\n",
      "Processing unique col values with drop threshold: 0 - warn threshold: 529.8000000000001 - out of 10596 rows\n",
      "Warn - dmri_rsivol_fiberat_cgcrh has unique vals: 472\n",
      "Warn - dmri_rsivol_fiberat_cgclh has unique vals: 479\n",
      "Warn - dmri_rsivol_fiberat_cghrh has unique vals: 315\n",
      "Warn - dmri_rsivol_fiberat_cghlh has unique vals: 301\n",
      "Warn - dmri_rsivol_fiberat_fxcutrh has unique vals: 346\n",
      "Warn - dmri_rsivol_fiberat_fxcutlh has unique vals: 298\n",
      "\n",
      "Loaded Shape: (10596, 294)\n"
     ]
    }
   ],
   "source": [
    "ML.Load_Data(loc = [data_loc1, data_loc2],\n",
    "             inclusion_keys = ['_fiberat_'],\n",
    "             filter_outlier_std = 6,\n",
    "             clear_existing = True)"
   ]
  },
  {
   "cell_type": "code",
   "execution_count": 6,
   "metadata": {},
   "outputs": [
    {
     "name": "stdout",
     "output_type": "stream",
     "text": [
      "Set to overlapping loaded subjects.\n",
      "Plotting data distribution.\n",
      "Viewing data with shape: (10539, 294)\n",
      "\n",
      "Loaded data top columns by skew:\n",
      "dmri_rsinds2_fiberat_fmin    -1.985922\n",
      "dmri_rsinds2_fiberat_unclh   -1.710355\n",
      "dmri_rsind_fiberat_fmin      -1.681296\n",
      "dmri_rsint_fiberat_fmin      -1.671180\n",
      "dmri_rsind_fiberat_unclh     -1.609528\n",
      "                                ...   \n",
      "dmri_rsints2_fiberat_cstlh    0.692562\n",
      "dmri_rsints2_fiberat_unclh    0.804596\n",
      "dmri_rsin0s2_fiberat_unclh    0.804956\n",
      "dmri_rsin0s2_fiberat_fmin     0.975788\n",
      "dmri_rsints2_fiberat_fmin     0.976148\n",
      "Length: 294, dtype: float64\n",
      "\n"
     ]
    },
    {
     "data": {
      "text/html": [
       "<video width=\"432\" height=\"288\" controls autoplay loop>\n",
       "  <source type=\"video/mp4\" src=\"data:video/mp4;base64,AAAAHGZ0eXBNNFYgAAACAGlzb21pc28yYXZjMQAAAAhmcmVlAADMKm1kYXQAAAKtBgX//6ncRem9\n",
       "5tlIt5Ys2CDZI+7veDI2NCAtIGNvcmUgMTUyIHIyODU0IGU5YTU5MDMgLSBILjI2NC9NUEVHLTQg\n",
       "QVZDIGNvZGVjIC0gQ29weWxlZnQgMjAwMy0yMDE3IC0gaHR0cDovL3d3dy52aWRlb2xhbi5vcmcv\n",
       "eDI2NC5odG1sIC0gb3B0aW9uczogY2FiYWM9MSByZWY9MyBkZWJsb2NrPTE6MDowIGFuYWx5c2U9\n",
       "MHgzOjB4MTEzIG1lPWhleCBzdWJtZT03IHBzeT0xIHBzeV9yZD0xLjAwOjAuMDAgbWl4ZWRfcmVm\n",
       "PTEgbWVfcmFuZ2U9MTYgY2hyb21hX21lPTEgdHJlbGxpcz0xIDh4OGRjdD0xIGNxbT0wIGRlYWR6\n",
       "b25lPTIxLDExIGZhc3RfcHNraXA9MSBjaHJvbWFfcXBfb2Zmc2V0PS0yIHRocmVhZHM9OSBsb29r\n",
       "YWhlYWRfdGhyZWFkcz0xIHNsaWNlZF90aHJlYWRzPTAgbnI9MCBkZWNpbWF0ZT0xIGludGVybGFj\n",
       "ZWQ9MCBibHVyYXlfY29tcGF0PTAgY29uc3RyYWluZWRfaW50cmE9MCBiZnJhbWVzPTMgYl9weXJh\n",
       "bWlkPTIgYl9hZGFwdD0xIGJfYmlhcz0wIGRpcmVjdD0xIHdlaWdodGI9MSBvcGVuX2dvcD0wIHdl\n",
       "aWdodHA9MiBrZXlpbnQ9MjUwIGtleWludF9taW49MiBzY2VuZWN1dD00MCBpbnRyYV9yZWZyZXNo\n",
       "PTAgcmNfbG9va2FoZWFkPTQwIHJjPWNyZiBtYnRyZWU9MSBjcmY9MjMuMCBxY29tcD0wLjYwIHFw\n",
       "bWluPTAgcXBtYXg9NjkgcXBzdGVwPTQgaXBfcmF0aW89MS40MCBhcT0xOjEuMDAAgAAAF0ZliIQA\n",
       "FP/+98dPwKbo+WbLnUqv+Gvgqachj5pzyzpnCW+AAAADADm80Ot7man9pqsAAGUxf+Ya9/IADagx\n",
       "ulmxCLlqI4XgfzcVcHvJG95Lq/inWeHAqulEkk1897B+4Je21SWF2h0/CvumeLChAt+2EgsZfaG7\n",
       "NF0PNUhb1HGIt7JUPCqyz8KUL/QYECgNry5lYHICBVq3pysPBalp4DKP88el5EBJH3gAaAgtGIWJ\n",
       "DRcgAztin0uQppiAdhj+ZmE784qvLrutNKYk5hzKuh/OZ1x7jGhF4i5dnO9Top3iCA/snELAaSXe\n",
       "ko5B5+CLm2DGvV0tnySnowXb+69Onf5ZqEievjw2WW0q2b+D/sCXp8ztQlBCabv1ZdftJVXhEM9P\n",
       "4FUkdRVkBxqzkguR2dUtiBW90CX5e3A5F3sHZdRaJU7lO3EK7OYoxS8R+g1kywhDkXXogzZBgnhl\n",
       "yxGBOvH8Kubklj2IsSHw43mx8APnoTeAFG7YtLpsjdtKT1EflACFsYB3tvxJYlxwSPx7lK2Iy28J\n",
       "jtQH2sjQLt+o9gZSrd+h3fqGEVNf+FaA9VRGyXh7z88mXE7QKB2S1e8bIGwuqhqYZxNbVh9hDnLi\n",
       "FDThR7H82lPg7J8lEebjmAO2a/Cy+Xxds3vrQR3H76JXoFnph6GzzgOUHmzeZ6q0x+xHJnl2oQwf\n",
       "0+EcwOQlK2xfN1bZlEg+H+9aZLCWevk4m2hoPwulZH0wcdM/ELYcnds+UwnpVwk0fhSTiMHUHW5o\n",
       "U165W6dSxQ8+RAdQmZsGDqgXle+nu6LgUfDoxhov/hsmkCwwNIcB+ktfzCwvp7PHWLhaszR6Ki9L\n",
       "x9pOf/KPtJ3F6nUWEybE7bZuxmZmWhd/SCIQ3M/v5/5mnNDuVujOLvpzz2hptcUpDpTWjcAMtPrf\n",
       "CB6Bh7Q5T2mw/wyVMJfaD8TC0qsQY359Q53EH90ywGoP288FzrVH7/TBjBnFDPShraZMiQZ8fOCY\n",
       "JM2KIsViMZZGlurmJrZYT2HHF9VchMkIw5v9LNRYj0FwnwmjMKwsCrwg0ANMQbjOH0IIiawsaL1W\n",
       "HpuC+r+7/OKb0CVjp2j1YE5ucchje0ZxuKteAVdEpXllU0iMjrCXfQOW6slih5IM3Jcdwu4MB1TT\n",
       "pdM2JWgSkS63UN1X7mKhwIri6BIdseA0vzh71RxZu97QW0ZpmsNJflNDv3HDP2gvV+uFx39vpl+Q\n",
       "23/KnJcejdTtg4VvNavNkJb6hcRT5rlOCTL9sK+1KKaXuT9yQ3oeiQl1dZtWUNQC7o6ttBUNKosL\n",
       "INY/nuz/7NLPXE4MfUnl02VpWKFBJCjbdnqeUMjdSL52tD1xVbyls/ti2XlKUfujMFZqC31DD39w\n",
       "Ra2CZCBcdmLur/vPMHzCzdoJvvHEn37w42/skWDzgAoyd7PzRvh3fypx/0rdo/vZPveunb7dEXrE\n",
       "oCJgSc5A/NoASuVKsuSK5w85Ksw+rqePjuILIxt/zD7Ey3flu4R072eVXkdA5F6J05OLt+zBjDGG\n",
       "/bawSSrVkZ+9gN3C5JilaV7wWKP5z/uqVs6r1vG4ZCTEQyv7cRpxkGhT2FnXM5QYiZ0hVhutqpNQ\n",
       "rD+/ZV4YHeaolTOKcf186bRU6zsU99BwUeduX4L8lBuNFrD8vcG8zDl62qkjMYTHt7lNMuejwId/\n",
       "bDCS73rfK6CSRBvNjyBa/juzorB/FadpX6FWIucK4PztsJv2EXpk6GpuooeOk6jZE0F5fgwiP1uz\n",
       "NXEfGdpSPVyxR3eTUjIt4eLPQ5XM/+UztM8BG83qkYi8vSoq+ZjDXbwwd8JAtTQqpdwR8MXTsbwa\n",
       "YWyFlLqvU9gGqI1z2o1sWt0QCxlTHBX1rt+2egyGa9f0Uvv91CqLl6IGpV0WUP02+IpEQO0FkoT8\n",
       "OZtQRZRkzywLzrI9lE4++qAaNnYUx76BLgLJMXR4PSlovVpBQ+jlUJrkjD6wcXrcLlJ704wVsBze\n",
       "Fl2XhlxAVecECmIjSe2GRYi7DZrEp1VezoQcOUBw8jurHpatVRDn+2J/TcC8khH07ZgyqVE6C8d3\n",
       "6+BkuPnYQQxQ/o7acWCXQrNAiupWxipnEg9DRBXa+S1V25aMfXXI4UqmcfMM2FzrXDytRVtqx0fQ\n",
       "PLNet/blxM/WGL5exaG+LMsTmUuAvOX3iQSKqQisQYZInY5nlx6GtTZSkHDGyaU+nI2nqj95a2RA\n",
       "dp4xtAyJ8lLwDbjiSfczZ38OPYN3II3BQBu3ptdIFyCifjo44Po6/LYGsEOND0YXde3wBdxsVe60\n",
       "Ryy4PZLhBPEXs4EThDjEUuulvHA+f0ox5/Kb1P7ia1SfKnkSY+Nq+tANjwBBWOQBF29fvdPR0iWN\n",
       "BdNY9ssTQGjINB+GQoUZQoxiYEK78tdO9Ii5ROhmoe5YrcZe7pCiJdl+CRfkgbq0saY8aa6MoMdT\n",
       "ud8TU3zLATyifnQFwPYlbdgsExHpcH9FuazEUBDgKxTJ6a03j24+ZIqJ8aANANVjciQ+MENH0c3l\n",
       "fQf2ikY1sMeoQnvs//P8wet/LZMf+hBsKK4F1k9c62Z9Hooko9nEKw+GzcZ0q+uy8hMVZ2M9HhYz\n",
       "tY0UBrhVMrWLOHDESYm8cWkjMIhBcHCSTImn4uTP8+n7JLgBQzSWMXTXGNN828geRu58PdZ9LRNd\n",
       "Ga32uWkxIGf/quWP/H7alquHV2fYBP8XyvkD8KnjEZ6lvbvzudYVLrMXF9uGv+asd145UAhDVT3B\n",
       "z1+pex0PlfSWwZv/a003V2pOG+EhcvHPc47vaomplJ34qG8oWTtZeM0liIiSTB880LcER3VnKEcf\n",
       "XGxV1up0xPazQdB7IIdMetiaOMR5SmoqKbDF7335YxScZ0IH4nFiTKrjtHdGVmZJk84BnZdSvUbP\n",
       "jE2pLyw8j9vAZeWX2p8ULT8nx9OXEoEIk7ENUx2y4cfTDnDoC//I4vkhHHs3jGn+uggqqP/P5Tk2\n",
       "QQ0NwZUefyxp5i2iDCTTgDiXE3BJPLUqteR6m02g/3vWTD7ldYHrkiMy/7r111GPwSV2nwn+KUxK\n",
       "vQ1+HelfRs/xgdRoAyioQZPRW9pilEowQ0/fzJG3z6OL+ecc4Pk9bAjNy73xyS5bx1ggdf4wmI1Y\n",
       "c5puQ1uUVX9WmF0utGfpt8DU5zppQf8dcdCOSifQ5t/6RqJNoGVfbnxiNCgXi5mVWNm0Gmi6iGaD\n",
       "hq/4pNCu0gbkmqk1KvzjUMoc0lV7pxfrxYzRn1XrFaGmXXiOqbXjU6wsmtltBSd9gKx+kjHUR+Al\n",
       "76uCJQkRpr0M/NjThS7upFRB04dePbUhZksbUq+u7UgHmmG5bcyK5zkF23LLy74HMNJc8lKIP+zx\n",
       "dKKPrNCLlPQsKyIEt+eIOflw8txYZv1fCcKyZbRmltHhwg2/bGTTjFLHCsfbuPL+NNuC2jQBkL+q\n",
       "qaSv3UiNqfy153gi5KJtXcTWJkdjhhUM2+/wCn45J/cPBmPNNhYrUWdpWeyyEC1ZOn3U3+VoUj0E\n",
       "1l1MkmS+J8kzxoAgGqJv9cN/wFrMaA2y3fNCi2uFIM4/mYN3aYaapMfLFX+XLoYIBROMLE0FuO1G\n",
       "4iyLzSu1kxSwPaTxnb36DuS8y04WsT3Bz6IYEu95Ig6jfRjstlMTNcvkiHBOOvrC+atFIhswDiCU\n",
       "sGUFiOvS2BLOgtMEhaxzc9hX/0KZ+JqmFNyOHrghbOlwBAOUEYrZfhL8dUSLo7ueasglEgooTKc1\n",
       "FfehDoasfeT9MLOMPYOqrIhhlHOyIwaPWZ0Q79/XX9kZBfmklt0M6rwXFw/vn1oTZd/UcHLjWJmA\n",
       "5xidx7jVXFHcmyulNHiDTSAGr4wEzdjFNWziaUSwOdrZuxkCR9og3A5ugP/Qt6k+2XBIs02xUEUb\n",
       "wBSXVTdNXn07jQzpeZmSUAfvHWBcA8w70wz66IeuwdNNHYTHpkMnMG/gZ9HA/k3Rs69irYWiwBLp\n",
       "AQXYn9FJydxLneYkb9C++dGG1H5spOcWAi9opLd5eOUrQFez8PW/aFCgUJKZ/H7MTR9bLcXygfMe\n",
       "9uXCHIyUON7h/QEI3H2O86y/j/cpCKUd2jTgPWED8xcGW42yPKNHtQVJu6jcrSp8PTMhtLsL/+Hx\n",
       "DZeQ5DgM9lNEPgYP69u4j9qWCPyiBH7EmYLsZDVoKcnsmnG+H0E1abhbweV38igyGcKtMxwlc608\n",
       "+uatxx9eWh4iQjvJYQa1J/cmg0HWp6MpriMrhSN6zuNpmmirgL3uyNWW59Cz8ebCEfII4cY/T29Y\n",
       "yvl0EXVzI1Hrmg2D+Myhq2/vV5MRWvTE30ZwwHRjLcq+7fWitaAG5VYQOZz6IMlOQs8CiPo7/qdX\n",
       "eywFEolzBMLUhw3EBT9V/uiA2MMLADwImJjFjtk9gVJvQi5j1rE//sJ+4+1ZL+l3b8OiCu8o/oSg\n",
       "+y5es06IOsrUGnFRDI3eKI8Zz3yTlvrIBDccBlieIXxv9OCIZ4eNDo3wnMDi2p1ubnre8JsidYJo\n",
       "hng3gJQm5UfQVOlm9WkiGoeMCp93tc1Q8Nt0W8kBhHrw480VDHbh3f6xCluN4Y8aXCEGFS16xA3z\n",
       "skdT+oqUD8L3yjTZTUtBxAqwsL2aj/pvP67R/vHwoFR/hJDRSPirr6AjAUGSjswirrSPFnJOG76m\n",
       "/P6leYdKX3wnGFtBD1et6xVf8T70h3e5KJekkjmwtm+qPC14A/tDvIX8wCDVbJXzbVLnjJLRQHhy\n",
       "H3Q8WfQh9cDm28BD12bgdxDqQw/MJRF75LI7NwnNMqYSrBpTsdbwoZkNIlAR5JxWiSCULpVq50NK\n",
       "Hud6aONlPEJUlBpWdt1h5TI8n6n5Gi6zZJLTSVNANBRLSOs9S/HoSY1xdp2BQmXObHBZoiy/Wclz\n",
       "6SVIfFg00bICca94qx7f9sMIW37osEKcvka5GNadvsgNSRiZyFdWLEaE7ihAG0kYTI7oNjq8/jS3\n",
       "BkqqTTH8WH/3s/KsJcW9P8dIzZogMFpK79Ac36LuSfe/m5xuKJotY1lKvtTSlue/okQKwEdtAj6F\n",
       "g0LR/UuKAHq0AFszpxa5UXIltPFAwyki4PR/GHYINPhZVitYcVHo4T0RMgLg+CFE1IK48rH2AVGu\n",
       "QVPTlZx8rrMc9eJdJs2kbAQRv9Td6hmAwwDkw9LHnjpHmn63Xghy/kvd0R84FrtmtAU3sTI06xFq\n",
       "CpdvXYi9xpbAfe8XGrSQNHzN/WHv1rG+QMnKOxGMmBtG+m4IkuhMguwNpxsWtzMgxi/rowK/tJcc\n",
       "ufGlIvJmukLGm0gqO+gXZGt2OWy58ZzMdldNX7H1CXeqengDKQU1MvIF2inZM5SPUbi3nvFzN9iX\n",
       "8+xssKq0ypWLIyzbL4a7klmpZMn7DMkpdu5puNoCW3sMddJbj7iAnwG0I2HHO6ByIc2lqpVf0mCZ\n",
       "WYfBy1csk4o8lLVACJcyBqL3sE361nmydHSpPvbmRkn3NxwtDV6ncl8lI3mIZevPKc+FO5+t9XFS\n",
       "1xvdwzBNbuLOyzQeHjtdSq7dAHwV2Hvrrs+9OcoafegwP8WM3UnDKYhz9TLHL6wDftSrj+rETe34\n",
       "Gbh90/5nUhUvxvbmKKRQF3uxhZTaDAJ+UmTJ/SfBpdJifVjCGNWYAkNKwGScFh4otSXrEtX+O5nP\n",
       "x7BO+gtvBkp8ZbrChzPC+jAavk5spQDap544qUIc2h9aMa2Hy3isbUuBi7shBJn11L8QVQzqCKoe\n",
       "PWgpYUqOM/9he5kw3S7wCRpYBz6nmFZhMxtwNaNtjTQgP0l1vY8NhUFYIM/PzuziwZr6CfK6cBU2\n",
       "DjtCH7zp2yq7PQX029NvVYRlcvL9LwfPkhmrG+aoU8VA1s/mmB3WtMXQ7m1SlFsFIL4k6p6Tp7io\n",
       "wZe7GKd/D+PVaWvZG9WV6PX2jI5m1IC3au9QQRdY9IVjG+asBLkIvZCCT2qytRaFmxuscM3LffvB\n",
       "vSYif5LRR5CoHdGJvhgi45FwmSNAhVfVVOA/Kbd6lfSF7a1AIMAs5JtH/0plYrJxalk9NXBKVj46\n",
       "UaQGoHixWTzf3anaYm9nJUsMVD9MmvJmibPGmk9xrcHWtv+MZMwfR0frK2HGWyjszxYeBHGLoc8z\n",
       "uZWMViziHRf4OLcvgEtFIg0b4inCKcZ55xeRT50xIyfdjTxtHurq9qfSoSufE2q754QbrgZ1YPjw\n",
       "uwWOq1PReriR5tcHePGFTjm49h+qbuT2ZFIFffg5xl8GsJuGtqI1NqhtWUnfnp75r0bWlJesZVgn\n",
       "D55ty37Hze8jIkerHaiyoyZ9AS4ugTgUpNwwLqVvCxkIuBS636/LyqpRNSyGIiwIJ8MBSBSstQGS\n",
       "U7UBTZa6nzNbdWhVUfslLWq2rA/XovzF2kIpEG1mBv/FafWOaQQYKb6lpVJHJE2IW4oYZcbgP5fN\n",
       "+N0oFOcO7gNfEKJbl27X3Ys5rWZyB2xg48svjRYmMV383fpiBvhZrgeaMHHXs89jfP7k8tV3TYNx\n",
       "3BjCALyzC5y4P+gnKB8z8udMaCFV82kj1t8TdwXOSRHM0jA7WtiC+EQGaA+4ReNNaIHMPbs9izMy\n",
       "FwSuk0h0fRdoIUj2+NluI/GdFHUmNS1M8Mh/tmn2GOzQrdnu7mSVtGY6l6aoagZ6qn0c0ktCj4GH\n",
       "EMRVkdKO/4bf3QF2G9mkgjxefwtDjMELAbnS75XTcbgqfDjQMWvfnAF+vjO57Uu8GF2CmX+srv4i\n",
       "ZNQSyE+jVDaaXRCVQbRhXK1zvBmQ6iHWqbBMgBsacBQCGROb1tmSH7BI5UIXLAsNM0PO8N/WH5rD\n",
       "yFVZsPI+cC9Kqcbqr2j2tu3PMiXo/tQPIojn/5WgNe3OGXRMMMg/aENQJVluu4A8uxH9+ziw0wiL\n",
       "XxItA1RZ7K93QjC5wE5H26XtivilHW6PB/BoyEuLB69KF/bG+xZNlyPoagSCzSZEUrrhQD6U+BrC\n",
       "Jsd5qTlBaYx2YdgAv8/gsscIpIFg8ZwJ2V2x9Oxc3Kl2LZGrbpVYuGmSaP8dRaRXhSkjaXJ3FpSm\n",
       "WT41O+9lZ3Ao0V+deQta3+mg0XgJfySLaYuWED8jdNbIL5/ylGrVuGF/7sZ2q0UKaK5klr5MB+kv\n",
       "risuvb9IhJPiMMLeCtPGtiDNLQcgKSLXnyKv+fGREKTYAqA9ijl6kSCRj71H7nsml1xzHRrewRfC\n",
       "VTPW1daZAEzuxLCXWt0lMwD0nEUSfE4F5pZcumw2UW0dSNFqF3IKx1eKNY2OD0z8w9gDRLm8RLZV\n",
       "oG4RSTmVXtMEXOZSEfxB+cFcobsSAVyreNs+5glRuveYQEvxbt7muvao3JUH5ourMTc4bNFdx5zZ\n",
       "bQbOBBt2FkMHgKEaBXMRDoV5QvUh8bEmHlvbngu9aZcd5ph1Yw91h6fy77e2O92N3DssqVUlJti8\n",
       "f4EZxLvSAS6qozomNIDC/LM3lq4k9F/aR7rOb7wn49TpnZfXjZz51AM/ycQatJqpRVXpubhX4KME\n",
       "ZfggnENHBIo2cS2KHBjihmcKKTk5hGUHS07XYFms9ZeD+WefNz6SH5Eggt4LPO8fB7ZFKWtdFkWn\n",
       "Dc7PTSq/rX1i3cUO9KA7G3Y+MYdP1RHls9S0lKtxmDSCVmWLii7xJ80iTFLbkakPJD2amRow/81F\n",
       "VSqab7dzgUoQJIosh/7PAZJEsoz4Gb8cfBidS2sEjIYXfTohzbravt4nZu5C0m2dstasY2kKd33f\n",
       "K5iSE2Na0n7L5ZKTX0stHngdW3ShmkC0P+6RaZ+uHeCMs6fsUs3aaHYeNnES+GP26usdJ/1tS3+X\n",
       "bjp7ZUaq/CBy8OtavixQOH+ecOjpKr9ghxoboarZtI9K9nLRokeHv06Vb2UNMOaGldJNzOsYw7JF\n",
       "Ij/jGyxlPdNSPsIu6yAvMGiCJvAssiX+UZyHkQESYcbAEAl+ardaatopbgQ2aZUKTnGrln/5mgSr\n",
       "qHZT95Q05lhPelBgj2u04MEuKoOldPqjUM0AAA8+QZokbEFP/taMsApnmsBf0nXd0AlsAJ3UyJw8\n",
       "USxzGtmhxtXamBFurSLJtzQYlO3Ci3VUCc5QMFTaD6VD2ozxnqbz1vDfIaKVqxtVH3LdcSPcSbRU\n",
       "BDi8MKwETacON4RW1q59em9IpF46ghMvZD2cN1ew5EXHBpE54GcQveP9s5OBoMU4agOa+TUmFwwD\n",
       "wf3qKCaBM/ez7d80Ga3ROT70Muoe62k9FIQxKDzjyY9eez38+b946SQBf415EDCpCB7PDRdgYoOJ\n",
       "FiOoJjIHVHkhdDXQtrJCg4OurmUEpfrofV7dYdodOiXFtkWC0AAT0tZxZ243qcPCuPI1dUwmt4TY\n",
       "M90JQ6Qo8R7xrysluXrC0+OY45b4KosERRiRJwbu1SzR0/Z8ZWW0CGvBXQ64ld9VLJ6lB/jsh6Rk\n",
       "oTkfsBT3qZBm0fGV07y+RiYUAP7AhqW+vk7g1cwS4xvDt/6e5qanZUGB3bHRXBCHB3pnw39SJeNE\n",
       "gPt39RG+FT+2AjaoA/aR4ZeJGSysW7W74vJVbwSlEohwaZIRdeFZxKxm/8Zm+S3cC5Pl33oIiU+c\n",
       "rIACyp83BK4UNBgmxjC9TOMgY5y9E6KyQXha+z9W6SBvdG4XDFHge6oOLep8s35JEly4/t+T/GTe\n",
       "mzqmPPs3tNDWXHzy9euiAh3hRccgBqNx2IE6eP2X5Y5YLqabDF7zzr1HNQQLRQOcFf3s3h9JzU40\n",
       "P1ij9h5K9TcmzW1y7SL+3XN1dYSryulTEAEnrQLlIxxJTiOmPG+GXCk63kzPVic5N6qf0X81jvBq\n",
       "NtekMBmUKg84uiEoePICwjat6PTC0hZJfbLrRCJ1misXrRyMDYdGhML4IekRQGTdD/iUBQN9ErD7\n",
       "vFz97eW2DheHodQTDoMjE8fY7QNlj7rDq2uYX7V3cuSJAVt3hP3n7tXfL5qgyzWZU3uFozbk3cMX\n",
       "ceCJy4684L7+Itp2bE7bUfCH62ylMtCEl4pb+ep1A24Sf++LCkCTvoJp+PKPTRzsZLWpVf2i7B5u\n",
       "NP26y/fyw++C+/VdOy2MgmO6gjPI9oXLveW0M6+a9QM9k6I7GpJcFDPbpTuw8/iOWbPijT7h7c9z\n",
       "J9iLVq7n85B5qx6VY9I6bMUHRr6jPnzmCkh2kFXVu3GHrtlE0o6Ms2kReaaNI3odGdFCV/hUNnvy\n",
       "7bUFxC5b4PzhJ8+6acMGIoygdQr0aYdITD2h3eAygyGKAV5+q/Qd+u1FQ6mSScZlyokxx/LgKdM5\n",
       "eT21N9sX/KyPQb6D6vUif5CXMspyNMR9ACetG6+4dtuxQFQcPW1wdI+KYmseUqci63DU+3Yx9wSL\n",
       "rfDdv3GeBEl8GXXu563Zy2KgJicf5W+SloUN0pfmxX8RuaT6v//XiazitHJmYr/V0AU5s9MV61ag\n",
       "lYDLi6eDFkezCGTtCAab5Q9OzGLkwtovcjV5djewumFAyld34JRiKC0vIpei6df4AAAYHsPUZ9hI\n",
       "HKU6K/1Xy7xp7nAsjXu1v3eQDAkq+jN2dIr7EadNm8biyCK6DlGucF+th9fmPsMc8iGIBmNqjsqK\n",
       "MQ5lB7Ny+kOBKWtvu86jN+Oo5K7YfmBREVgUZHuNgrrPxPKSWPzdLZ526tjFbWoBRhKzEpscRd/l\n",
       "iTm4tBaCTwNZmmOGI4cDBpF86aTgjGeT6johEoBqLc2+hN37ksvw2symZIrb1fFDPYE8QtBvN6YB\n",
       "/AZtB9h0tzvL5MF6OayUFh0uLNAdhCH2zBQa8cXKkY+vvnaEigSpD8M/2JYpFjANUPDTOudFSPJK\n",
       "GhDLEwbvzDepRRsjBd9AeR7Q12Q2X7MKiMdIALFxWc03XlkTnPHjGsvGND4BcrWcuWlSyDbRC2Ye\n",
       "v1NGeLhwteixMHz40lWx0lZvKH6S/b7S2BFL3VGO8SsaFTgg/JPoFrQRqKvn6vVXa44AxfzNkFoa\n",
       "hR87el2ZYBmhWewNwJKXW4pom+Pily+OTJBtGNhykwbZOYdbNQ6AmVtgL9kdXNQ3lZAnK4qAk8BN\n",
       "X3iIqHaiHdo4JBNQ9U1xR+xncHSonagxQL8hUDRnip7472wXgetDQNnIWV+Q+oZYm1/D98z9gLgT\n",
       "CYB4WJTXedIBHuXDFwRZEAWEJ9Njp/rxoIv4uog9iOU3qeBTL0i9c525Mgdc3aQpSBGAd9Fu/6Ok\n",
       "F0/JXMF0KeDi3yUsJ2Gm+NwPqVxp4EK3JlxkNf404VR1TxuYlN3TyvZwDJZtHhGdprmn1VW+edIy\n",
       "v//u9CXnT85E99H47IPPod0s/m42l2UfNdR90Rhoh9ZCCAH+/dqhsqLMJfG1LY8wMTk+gLGsa2MO\n",
       "ueWBTC6k/7bgYXFrwmP4wslKVASnKwtifVVfyTEIepyiBtG1z2yC/yeYUJawm6EKNz+4cWDdqqRK\n",
       "qRf3k/1OSSVRrQlOLOxKz9F/DkehyLbvM+iP/5a0skyAajTTow9zDZ7uY6WXEXalUN/8SPdjaqkY\n",
       "IGkZ0dDkRwIMxoILwpbXOvT0br+cmq6frhgPSFZofRUP6sqJUVUIR30aTrAmv3/003rU9x+nw62B\n",
       "K4Rr3bnRjbtShU+oPggN02VzUhOFY2oFhW9EvPCvwolC8IWar8i3rgJaThA3FfbPTej1W4A882oN\n",
       "C/7XyIVk50XsOI0uEY8Vry+c5ohEsbobzOf1Iaibxf7DOIUS1x/V7lcnfA6MRsTZ7iSiAADSh//g\n",
       "RVh0wRjLRWnhSJOxp4ZIPHp1t0nlEVvvmg+k2HzDKKfzzglC4l6eth1GlNi2PUY9JjEHf3K++PuY\n",
       "DZ4nnBH62snKL1j19zPfHGhAkGooW0GHy34+GexnYqYvk6kgMzxI1i+WZqHM458oIHIILdvjSob7\n",
       "h3OFXNQknwd/kK+jiQZDORGozM2XJUZ+s9uLiGfuunS8qanGIJlX/VnQl+yLyNiUR7aMSGPijvfD\n",
       "bMroxHHe1ephI7J8t29LVR8Pvd/q/EIo6XokfEbvkIU1/ylKd67zvxEQiZTKeSPR/1OTgVOVbr8+\n",
       "s3Y2iJGubWDgcY1j/8LDb6LgxP5xtmj9Z55CUBxboYXNtJjKYJC7/Vg9PE/t3QornSVEJdMsuE8o\n",
       "+5T1Z9FmxxpOqHZWVRfx8wGhBQgtEOMdw6a6luzoH1ITHMl/6V2g7MhXySns71pGVu/zq32CkWhd\n",
       "AFL9XendNRd3L1r/mnIYorVRBFixpcYXXIyOIXvq4wzmVAh5R6TI8c55BpDhagroYKyy07gx8HdV\n",
       "/CYeMwmLSvWNtRP+GeHnzROLExYc4M9Nug3CKrnDBaKdiuETc/d60sQee4NMrIFLd2lzBd5ivMHS\n",
       "uvtzswdcr9Y1kUkaoRk8xp9jsJBVrxuQ6X7bLbGcDN/Zqxk3OmdSRiXbQA5atAbuM4wkbYxevtRp\n",
       "SCIugwG1TbkSVpqwhFPZ9tu8n0ZGKCbjEcVlK6LDgtth3EGH5MPctgxFmISvCOv8DzqDmc2KeehS\n",
       "sGxLyTRGJjbtggvcYLnaB+D5/tMIURdaAZSb2NbapyiXLoy3nUIw3eIBIx7kbJxC6feHX7N349OV\n",
       "g6VNY50nWEDGW9AfXG/sOVjVKrRd4Jr+Q41IToBKfqwWQ4ns+WJTJP9esAM8y/JKnnpHw3H0ixw3\n",
       "qio+2p/mfoT8u1ZmyHK1FgkzigHQno0q0chufbbCugnaXUdch7pnMp35U6ROO6xpFsNoKfg3q+kW\n",
       "KJ9I6B12ZcMw0r8a5vul5B1xfmLahAFqbJw9MjIDeva85yWBlVytY73BQpa5PjO5u5W421/+ZY4o\n",
       "yZimYbIVTlePUrQeYJ92r7YzW7TRW/U37gW3Z1DIPNFde/GHyH+71QEjBjoezxNwkI4tc0m4beNU\n",
       "Im2z6ZxO6R3h/YXzHLxOOPaY68VcSBJg8RMU9bvhHjDZ5cODjKuhW1AIJk2v8H9ajQYKP8E51JvC\n",
       "gkeMi2UNkTu11kiYjc5C7ZaLTgvs2GItNLCtI1uZRrOCjxoJpRjaGivWfoKxsR01wkNaJRFdR6EH\n",
       "rVMsu8lmuJttIUkqGnt6r/bJpJ3I5QZE+3kyE6vc/g8L/8GpuV22qu/GpnT3p60R8L0qMK71p//d\n",
       "hKXU6fPkVuSKZmlSNkeSeS0HWO8tgN9bMS0h+p9TuDWRWaIV+HvlkfTaEuLG/jOKveA7lNxT8BuK\n",
       "smmj3B539V34rP+u+TKV/fTGDLhAb8fQW3XcrElCOIptlETGyk+KiQVP07A//sMFCNynkk97omiv\n",
       "HlKnrWVKkgNidzNW6svJvgcjYHeNkX6fpBZEwrUBKD2ulV2L67nBAlYBFvKYQ65v7Expwg71jOcq\n",
       "Tj3aFBoZ4OENPyJsQrDhEfU09KdYTA528St/cMrnNTnKgcHIwvrkRYUrm40Oe1khIKUK++hXe2vO\n",
       "PN7BgjvlF5dWuzAfNnKQgixm/ty/XbyoUj54F3ca8Pxj+AZM3LVG8G/+oUrwzao2nZju10Uc8SgF\n",
       "b/ovSpnCtdRwaD7UsFWJkqbTeKdBnrH4WZJfkg+emhE1/0IYDgXIRaUyj6DtF0MfcoLKFnOd7n/r\n",
       "MfBDrZGj7ipXwQaWraGQVZGN7P/RG22jZPNV3SiCw6Rb7YnvyVAIWVDMynf7wMC/yeI/oQgKelRp\n",
       "oPQadDL+5NtIDC9xWGTR9NX5UtZlWiV5Vbydsyiu8MJncglBlmimMR0G3tCOLJOqIRl8zq9Q2fYV\n",
       "evWKxDwCz3YwZVKzULLI9ojqc0aFz3rVGGKQKvnjPo8ByNHhnyucd4KZv6Wn/bNi8v1dsK+GU+Lr\n",
       "xe+P4d//6U1HcXnHuZJ1+6ZsD1a4PQzlds3faZLwutRSq8il+BBNoTH6EFqa2S0LJK7Yuo+UzTJ3\n",
       "q9VzTySsv19zv4J+qTxiP//r3dWMlfu5aj4Dzl94ht5HVH+SsZKcezTNvYO04G14lCz24YA5PfwU\n",
       "4jxOpoOtoaQP249WkMRQmYdvErhm2UrXYG8GbF3lJWnh1ueuEn8Mu8xuIR9hCaZhJokIAPBP+hWA\n",
       "h88IhjcJigS7OSZBgQFu1UEY7jHM0nnPTvIgZiGwDDS757gCmsryv+u16vvClKPrdtFIgoI5Hm7M\n",
       "3Zy7tyIdNxG/B9uYwqKAA+ExlXegXV0eAcU2dKYlxaspvaE2JxbWciVAcXn6Pu/0J+tN6nWKmnpX\n",
       "YI2jhxTIGg2V9PajyTSpM75MvPlt83nna/fJNpzynRyeXKvziGmbbDxqT6/BjNFAwha7O1bDAhAA\n",
       "AAlTQZ5CeIJ/AAoIfovNATVqYABbbEaa01DNLDhUeUtOQHOLgsBETtr/xFTwdCBmgI7ruWW1oDnC\n",
       "XYppXWTww7C3cfhTE/gist0K9lpsQXNBjeQ8jpKf5qth8UuwziPrC2cOrHaO3FTUSK0KO6bIul4k\n",
       "zxxxhoWmHy9x4hMVejSTeLHZ684L55Tw75Vc7B+rJKRTeW/JZGKJtTSomh1Mm8Dh0afvreRVW58U\n",
       "FH6Ih4+f4uLMtYTgA6BoHa0KWllSedoIAwaxpwi5OPk/TLgfgwqtC1V48ayIfAH1H0QftUAFnVxI\n",
       "CRiuJQpKvF/Sjnk/xdG6wpFdMdokTis/NyH9HJjvqC0BPwjx+bVSbC7wWYg75oQQ1UVWX6e82aC3\n",
       "p7NPukTEPVAF7ZsEdZunlkqpljd9y3r84mGiS3o2CuIaQjmW2VIqu2088rPJMHaCLH5AvfaVuep2\n",
       "UX9jOTprKDXbFGdJRv9224eIQoB8Xgv/j7/DQHJZ792+Kf1RkBn/zoEWx1VyryUT1BnMzFuGNhte\n",
       "1SsNyUxRl1sw0W5c2KKHzQPQpBX6TvH8JHFsB8qsVTupd0ORYzp6S+Rpa6JaW8W/bxK5/jz6Hk1a\n",
       "XowoItRju61ABJafszDXLYqJ593zUcB447TwyBYdxLzP/oXDEYcgXuknJf8S1zxRfcNVus8zzeHW\n",
       "9EJQQay+BOlxv62Vt5aNB61jrxR4YxSZ3f/RQADzts0xlfC5Qz9i/B1MmgfgfqdW3zG5TLttAptr\n",
       "3XXUrOeA1gDaMKQ/o0R3ZxRTjx9mU9CJxDaDLcTJIWHvefNylDLjZJt7/jLCJhGT3evplnOYbpvP\n",
       "OHx9DOVv1i7nMw74kI5yZSdH7+vRRhV3KoT34JV5zcTqX2wpXqLFs5L7+mpddmQMyEBiV4+FHAaF\n",
       "s4nLQqmUmQAMluvhfwLdEerVR7AFDuD1BbG+BBlhNBgrIbprenhhJoOKdn8gQBbAbQLjz8wMADwM\n",
       "L8iNW2i29qoPJwQdkNTR1DXXIHHcxoDwjuTrUwj8cYKB+VxsYelka5Oe8m6JgiedfIpjv9IuagUo\n",
       "yiqHHo1MHVvG/XjAudatFAe3uoWiN5n37P25BlMCJNqzHA9t1LMlP8ypxjQqo6o4YhyKho20P9Sq\n",
       "t3ATTv7tVTSswLly6XptJdUT3Xi4/jOQufnmNJHq879UIbQDOwGuDxCGrZ7g1QMynCm68upRJTr2\n",
       "0sHDnFPJ10ADRUQ6MsyO02h1qXi8RWiKwduVXWf31/UOdbXv3khdXYHhzdVJyfNj22JNlH9AgtsN\n",
       "5t6rA46WphTAqTcS2/7MCtDaZSfhKyTzY5zN1kqJ3Cne+lyim64klc2+jtsmNn9X9um4I7MuZFc1\n",
       "FMlZagrFGezMSRy5nBu6UzHvEtGXTjvpimgCNkheQF3hOxyZHjzrEwkf9OsWM5N1kh1JEbw5m5Ep\n",
       "IM8+I9LPU2FtLCNmH5JpTr3pAW4bs19ZU7rwYggxPEnv2JCARiYR0YRLsRaEZYpFo1WGl65q6K8d\n",
       "Iu/Cx2Vi8rHfs2o2Jr9PxITcrJLzzu/Xkd3w37ZxxaQpOs9Zxwg5L1u03WjZ5WCkF+wpckjB+1qg\n",
       "VHEFxx8AxLITdC/X/6+tPkBUGIPfGstpi3tYlnCTG5z5VVS+1HBfThysMXU48NLaIyiX2p4PyXD4\n",
       "Qjogva9eYhM3z4U9h6CxA1gCUSYrLY6pVMH6IfUZxhUAPYJMC+IhIkt6yUvTaixvhmm7kZo5WrtN\n",
       "FQKVBX+/OmnWkuThFxLJs0VcN2jPH06yHX+8hglt8sSrEg+HsLdwHwdd50rGGje5u7UdI6q0erEs\n",
       "7ofuLo9k5sdWl58c+myZGPqPmfTL7zRJHiGYc5/WjkscU47NSEwlYKsksy9L97yY3UkmgL/b9wce\n",
       "sFePHd9OvAl4DSzfIQDzEH7JojWqNBzlKzL50nFT0bKVt8oQsGhMrBA0eBXyh4oQLEi2obf7Mexi\n",
       "N0VhsGPcmoQW6AqdcsPuD7dSw/tJ8owwXA4uBVwLKHixKEphniiyo8MpvS+3mSA/wYTwd9SDFoUD\n",
       "kH9uYOkQEwNh51InX5yEKf/6cB+7IBebc0vvhkK7ZmLqaX8QvQrDUt4aQDV7eZ7flyeyfcEatH1f\n",
       "KK4dOQ9p6VKB8YTu1dONLmK6g5JyGpRfBUWVS1TtxKqBTpDG1anukmW0lxMuQeAQy14ZxGwBo7Ok\n",
       "TlqzGg35QWwjoCcPQOF9md4ZX25lvyyWpDzr4de/ZmON+Ql/LJBD1uGU27mX3hhOmUa7giKjE6QQ\n",
       "J7v8WvYqlKeBZ6yRkjrEgeR+U5pZRplGVHpYMo2+QMGAaKSPzNVX+hZ5XwluRdq49SKCW2jryPQK\n",
       "VrxkQdid63xTRT1Zd7ApezqM/Y0Mn4mRy7EHGIAEwmoja7FEvzJKwcUVUQbVUd5JJX14+fDzYrTe\n",
       "6gPZfx6R84S7D4kFT6G5ZTTn8fTyUbYT22pRG/bCIpMHOn8JYCnMwAfldVKU1CJpJIIkdcqZtMP8\n",
       "Ty65qR0OIoy7hIx0cxyWgK1lVRKsoyHOszOYp3yl47vYUk31yVvQmnaAl3snyYGjR/lApgiwPLNW\n",
       "VTbC5aYsVzNqVGeK+YjBta3WhAkDjxeq1lEW5BRMhlxZEeFp6gh5VPOWrmetiowXkPr22J9vQUvH\n",
       "2rIq71qTWMGQLJ2rmJux52fIZ1w1rEFu8p+WyZ89JFl4RN26CuwGOiEmYLp703AE9JwnIYSzBD+U\n",
       "9p+dUl0JCAxAA0heSZz58CQyy1AuSDbLdcfeXBJHpPFW4Xb2LADFZHBjIOK5Tdn17vKRaAxNEyry\n",
       "kY6n6gYHp9IkvAXXsulyvN1o0IF4HyV8Wv5MMW42jL/jIZP9gzjP0z4pn5GBZm+lHAWoU50iFN0J\n",
       "CX3669YAgWahKK3b46Uv3rb8azCDYSHc0twDPsoLq8rTfu3i9bv+e8rYe9rzHM9k2r3atjAUq9Qk\n",
       "ya3xxadMKJRGR++ox9E1aYVRiP6iQnIxxTiuMcQu/Vox3actJmAGsQqmQukDu9flDjMiIjHBIvu7\n",
       "Hna4EvE8P2jdCAiNF/7JY0A855vuIXRjwol/kwABVmL2ia/XvVfsYBGWDCu3gj7QrtlxD5szips8\n",
       "qqyAqk+qzC/HaDX6aNyla24cL4BkdJ6iqujxz3Te8mxLRRSVIElhB/YPM4AQBZDcR2Ttk68AAAn4\n",
       "AZ5hdEEvAA7t0bbz/+QR1agFMSst9vjTI5TgArCvEcQo11Jli/Ac2cS6Ponieb3U5YN8iK1K1yka\n",
       "k1tB2Qp2eqkUdC6Uf8CDKbz8Di1atDSdQunhx/NjIV7/1mirPIXxwnk+t5MdBQa6rq3Xln6Kc6jJ\n",
       "qS5md8qFOZpU4jQeleePIb2nOqb6p8SokaQ4PdTKijFtUVDFoHZqWiw41kShyazuhVKq6FhoAtRJ\n",
       "X/IdZl5ThfxPpWjLlU+e1PtOeOCjAaw6xB2RAo9v+K+yZcNOtOfmWto608Qo4vpDKyi46R2s8us7\n",
       "HHamhtkHVLWnix4ibnOHcZgpQLK5j8Ke6Bpff6ACNO3wnw2CMevrKEJe61xUk5RTxKfjquD8ugJk\n",
       "4DzEJJLyrm7jnSc4Iu6LOdyxTnfjUl8VKApBJK/xC0UDJd++2t1m1kzF5NSvkuPtb4GeE+NtqYNs\n",
       "UIRc+ovz3okzywyrdCFOFipxL6743d3Fb/ICONpYk0vwABvUCfNiB1JoG4DgiQrwr3r7SlWO5ZLy\n",
       "TXGLbZ2RDKVeNKFCdxe3gtj5gJ4iLJ5eML7/3BcsmH11j/epRZBNS83r2emPI3nVaCDFn6w0ZxQK\n",
       "AO4zCfxXlBGvAV+p0KyQ0i32oDt73JnvqP1goEJ7MuJFR3Mxpj2LJSB/kOax9pyTGamps54rHvJX\n",
       "YSDmIXMtjh3mRwtPnvdn2NdlvSKqjRyjdkDjdnCJp5FIvHspwA0wtNBv8GB+27lRHXwujOXpul3y\n",
       "iqjkM/BuPDoOxKixtoUfioMfMg2EyVhIKHSlK3RPC+QhCn4QuFsRGcYkCk+GSQRusXBBPT+aIna3\n",
       "CkOC8+HQKE8Jo4S/OTTFWA2KhqAaaTjpLeGrKDM+KG04xflgLhlvoY24CGWIRthOYxLOYc/gibik\n",
       "qkmaroDOw26YZWb3HKRHWIuYkMHv48Ub04DQMBCuqdt0eYtwJFBh/lSug6GvRZsw98bWWYn4IcXH\n",
       "q2jq4pJcYhV5DOIns9wP0rkiXDCNwkHSn7OVG9TU2PXiJMN0n2lTz3UWxa03aa3OFpKMrnheHhya\n",
       "U5/YxdJsXTLT613wkQo+PbaCpdMxncVVgbuqr00ZKOg5YPznMTBK3uwqQ9fIrA4OIcnHO1AVSfiG\n",
       "ljcdq66PoeLeTdfYhSnTX5z8gPMgG4cXoY5yV0uPDWlQiu6acu+QK5MA8LPziFS98uj38DEhrzxy\n",
       "JUZB123mkmLEvZYgLNQhnGk6Regqc0gVWhjokR8JcQ2x5vl/hQiiL7XOrD+1LC4AUh0sZxdQMHFJ\n",
       "9LI2rG/R/W67E7XcOTrOGKZIgTCjlIVjYYSDGUF3l8mqL8w7C07hSd0xzlvF+OIGDeg3I97zhCgY\n",
       "AtbY2LqflGN4Ym/vls8tJ9BLA1TH3PDIHvh5eMLaCTYLFy/UTz6/rknun+OuEpz6kgKPoyanfPZD\n",
       "qRI8h+uOASgBcPj3NBnq9A7pI++S/4HXt3dzptdxI9KE7NPK7T8tzxaa52NNu1zlNO7Y9ZsBaOSB\n",
       "af4UJiCkRXnMk6BnpaIFfcAewGmgg7T0UygxsJUIUdmaz5rjaSLf1wRyDpUJ030nffMeOL4QW/vy\n",
       "VmCnUB+WoVCmYCRiw4HJiCQclo632NClo1K73KZz5PiKq81Q4PhdTJmpl6pSfRPZBeycK5mcShBY\n",
       "4SchDBwkqqxQ20lM5WvuwY2/sqQtpzbz5Aub4rERSZWjodfN7vLFx7BtSpRUCJfGMI0f0TVLNPYO\n",
       "GEH8dchJBHPQ4CA/DP8DVlFxePSigbdOJFx3u2FBUmCsfH0ROQP37drkSl7lnHDocBjWJbqcFDHc\n",
       "5BYfvjNEgDQkmHWuUeEeFOHq/woT5uPubqnXTJ544fux18fgSioxLToI2RMt4W3LH56fA3pUlmcN\n",
       "ZsMmkYVF9WKPvHljZHHqtvL+mwSoM2u0X519z2tuN83Vi2oipmkivD3dScAYbGuyg218rsptZs8B\n",
       "eGcRzJfxNDXNxFGyhj9eSU99wTichgdgZbCk17ZPMXbeKn8kZ2K9vqOxhjlP3gNQjrL1flm8whpR\n",
       "xPBHfs+Eb3edkOfRPUOPlkEsZ4dM7wjbuqximhpkleh+XLaA/TG9xrs6s+4mj//SSx8ZBEC1+F4j\n",
       "SGAq1aY02oAPQi0U4nDhP/iy4Lxuo3YBKejYS/vr52rcInFByAB2YEVLf1WB7VjEyg2BeE89hyg3\n",
       "JXmPTDy/piypQovkBkRMWQtdyH4VY2RQkC3n0A/GfIPGfHYCQy3GOQZU3xnW8u5h15Zw0tREjzOc\n",
       "VGFrPFSfzWs/cZfCs2lZd1DOwoc6PAwFwFIFvC5eedkBZSRbVd5NaMaVdZsKBVwivN+2gN3VNEgO\n",
       "7gNa9nPjAGYHOcXimOgwd8VsfEWiOiffJEgD/naytofGWBKkfrzDgwokRXeNL5m4feVeVe332CuU\n",
       "T7D4HkczqvkWSeN+Pq7i6NUDdDGbSbXcEl36HRotDckQmPYKXKnefmC8a+SAF8ixv0zTrAgGCoCx\n",
       "7+Qf0L3zrh6jZ2ADz7xBbohq2OXMtv2i8E0UtkPCi5wvVYtP1777HzfWi7i/Ug21hOIiu6qjOf/d\n",
       "Px6eJHF7VBOO4c49kSixo7HFvuLFm2ScMQ703jvCea1mKPLqTT1py0zSU+0YnJWslD0FygtRPF9U\n",
       "mzwV+dKOmcTF/+UAhS8nvFmYhfVxWT4wgZ7YFgN7pgHjPtpNDhtgaUCZ5SSvjL18jWK2gx7GTKrB\n",
       "UfAkNZQcEtruTikp3EbvVjqG6WiGX1LPHLCqiA1XPWKDqNzoE/+j3ZUPHc7PD9NwIp2KuMdQ2GBH\n",
       "x8JgxPjDc0MqbmotWTVKHgK07oJHLlcZcZ8T3wSNAdxSDcFPdROpvmuEtJPH2jfAZIS8uYX/vzxz\n",
       "rvpV5RX/9zpRv0Cd0kmkA0D2cL70ZIX2Y6bauIVFrZz0L5L5FN2BYIKwtlfbedBrmgw5JI29/vza\n",
       "SDa3LZhTWmGoJCaeZj9AhGPcffYsQ3fZ8yWtsKMXthTwIgggMj066fCXV59KjRuPr2P+BD8iE3ZP\n",
       "mj/h3+7bJw2/84seV+r/EsNe/uX8j0AFpeK9td1KC1SlZZgFhrO0JHRshC8MTXnAqFzhd/UX0RrS\n",
       "bBmOng/ylpY81PECS0Qze7OPSYzuFx7/qIeNT9n9pjGfroZShqva1pPBl+bAjr3prDwbfdebS5qm\n",
       "hEuJnVNO/s7n1t7UuMoa2TZEXDPLfyzMOMNc3zwv3YeDGSEBlJYzZcStUmhsO3N6Vg1D4rQR/1HL\n",
       "WFnI+tKb9CBrBHYk3KEMysi+cf4o64Bv8msxLFECv+pgeVHYXA1ApcAyjsHFDY6XSOSK76JwARA+\n",
       "XHd1hclHVf0jHYs8O8fyNG98Jzn1Q5qmJKBc3w0Z/dizaFR4076wMLnm+IAAAAh3AZ5jakEvAA5i\n",
       "EoMYpxhVBMj+3MjzHrtnYbFEiiLs6beACgALq3hmQXQL7Hif9BO025E9wrNfiotboRaKDZBrvbfC\n",
       "Nx8WciXxXaF64QK+I14efUxu+qBIcdjhPXiVVU0drj4+ubJdRaDEFl/GRgCe+aimxHOaYsV1wsJm\n",
       "jZg9NmNUgCZp2X6S1UEhwG6IWAmJ66n66Pe6/ocnR9jFIcZVhbQkIngLqoI6zp5ZCnUauY/q/EJ6\n",
       "fmIi09jmeyPUNzAw/M6xgh1Ov+oCWx8xn+G5xqrgFKCfZKMjriMP0qZ0ibmOh8Kf2pJsSv5qRiqO\n",
       "YN5qUNXFxHN7pCBnSm+6vKlaCQciAWP1Giy1FNtLkpq9x/JbS5MdmhVy+S6VtZ8XVGOihNQqsBpB\n",
       "qH7Kk7QtCfXerz3XOYQ0F8xF9M/W9AwdShI3G3MJjyHeVbmioK9sUtl+AW0fnAT/r3CKg1nvssga\n",
       "jNXhv43TRCAkijBY6sS18zSWm9v0PyhywDeJKVh1lrr7tBds0EL4rislWZbbLYLcmtapcVO9NEHW\n",
       "iKhiVJDLdKPclQcxTTF3RQZqpk39MF7ch4JHPORGvicYhKEIei5bSCfyJOUcp3zkUOnEZZpspJJk\n",
       "UNB25DP5d7Iynb+FWEnca/QuoXKW87wPRz3vqy35DSaH2Tts8GNXodJKg3ITIqyf+37M5kn4zAD4\n",
       "GaBZKH9qaMIqtzJs39eS30M+HbXpAXtBh+dWVs+nhbMdDYkazmXvldTr1ccq9rOCnXylBC5HYlx4\n",
       "ged+nYF38tL/4sAt+pWWSiWt5OKAmK+ZscwMp7uvcU1O85fC7d20Sjl+9w3XCMSs4Ma1j9quEA/F\n",
       "IyizoPyw2l5QnH5M79uK+VxPJ1KvUIFw8yt3VizxgYe9zpriBjcGIIIGfAOkIkVZITx/KauXzoZr\n",
       "1Z5k4+0ktQCMeh7f1/nf6HCCuwRXENAzpyqSXhmQznZNXd9NUqtjaWLvyyutVOC5kKT8WKhacVQX\n",
       "O1z2p0K1Gm3zNwkurszXwNpEYpNdrH79hTH2ifab+hrPGMZo0BjUV+KKZTiihpD+0LSEbF52Qlv0\n",
       "Y4R2D0s56DEtNEldZNiTKzAaliKS5XSy8T8MpkxGZCnQXoEfVSIDWEK9HrBjUpIm6yqlWNCQGcQY\n",
       "m0r38cNvCS7a4L3P7yTVERFSqlQEWfaGwgbBI8ICHAHslG31NTdn0NXIRKRCnBVNMr+24xj46hED\n",
       "LWQkFCeWvFTYP19FGSaOUCiYS/VzruMzwEcx+dCiJEbyzetykOFzac6jfg0Z1MEWqGYi87dcP4B8\n",
       "jw3zN/ryQ8tsYWOb0UMwLt7GGNB9VrTRojtctoQNy0E7aeT/+hkYM9Y3vOmcKEwFIUzibDtJL7v4\n",
       "ksDfk8P3+B8GP/MznLbQ6quJs+LDO+W+Qi7Lsyd3mHTs/cn0h8Mdj9CYzOpb1mBaD6WabbFuUV8R\n",
       "5NbGr6tByVnrhJvm393qVRQ2nEnCm6x7CeaUWzD58b1Y6+H9b9P3bX7whgaC6K4FTU/anDYkbfCA\n",
       "B/3No9DVm2P826xGsDbwvV5X5z8p3U/qbGOM/ZCX4xVEBwfpzoLSKQjJgRihIfgJGq4wpSp2Fy8N\n",
       "rjcFBTLY6TSqg2DpNRNbCF8/gzx4iRhUpg0cqB8gc11aTvO/aYhscALU83Q93oOT69ngXVlAnlvG\n",
       "Y+H3mTgZMVdMO/YLN6L4Zp9alEjDZ1TrHhzRZSfhWat1aQf4hNjE74BTU/XxJJ37fkW4YIHTBcQw\n",
       "n55J1kRd5tap3quxTa19KL1YFuHKEGxHIt7PiOLpkOHS6ZwmzfgA6tZf1jWuk1Ei888GX5mFNUMm\n",
       "Kc9oXlvqkT7r7iSAqqoowquLUUW6UPB+SQK5V3FKTrsxSV+72b0pyVOdCUrdol2YyCQvHnv5mipp\n",
       "0IH2Vb+Okcm2W48ksnQUX0AFbvy8SFumzu5HpGdJShKXos679npBXbegA2DbAkxVpLErddM8UHw/\n",
       "w9f0oW8NDavFX9nVSOkMbLPcs3C7dHSZO8fM7qdQ32zY4KBpfBLwVEs7nmXobu7k5+wsGqOgzRUQ\n",
       "JTeIMxZMRtT7ILMRj3AReuGCkuw9bOuCDU95AzeXpFJ1SOJs9kjPCwWO0xmTZcSuaxSRli7/sl0l\n",
       "IX7BX9CuEteovlCuaVEZqOQNOaaIvtDleGBEWke4SjPg0AF4wWvEyITudUIlIcL4UJxq3/b44MBI\n",
       "b5NDNUxZJvRCDPEsNy6XIQFuP0KOnHPTlYyIFGY395GHooZJEvk4ZOHEtvwmhtKchb5sDeQyzi+G\n",
       "wQdgZI13h4Iq6aLrcGVbBhXgf+PPMW4XG/wBTur6Y9WnTd8C/U1uyO4HSlJi/YCOvp/dn9/SGBsB\n",
       "H0BdBJhdqhKh0i9IHAMlGkMGLMYhTnxPiApz2cGPE23NuCEFjisEx9+IUSudlSinJXl13FuHIO3c\n",
       "u+2BSboX/353c4eLCpIOrlkOQ6kRWF0ptIo1qFM/qpfl+iY82ofA+L8MJ7dpOh1TiKMgupalG3zc\n",
       "Xj+fJjoyseD3vipWIFMfE06wkJw8tjbj69ozhQHmtqVEc1uatbg8DeFoBGHkuZrY49ooZwPODojc\n",
       "d73uSgN99mf/4tB9gxXHWdNJ+BCzsi6lCZ9+qBlCV9om9KfZ4nlVQeEkIpM1JpIjcJJgUV+h5VoT\n",
       "E1Q346AO6zJbQ/jhSYliHsIhAVG8ouJ/uKpwmS2zD2FpUS8SG4DWHfQsb38pghlgcFKv/PWlPtb6\n",
       "YkJ0ZGFrqr9hU5h3jGNprCxGqdeHK2gRKFTnRIpyvwQAHfnVFzxq4asTf9eq41hzTFhTlQIPTY2Q\n",
       "eGNCKkes6w9VLxPycub2uRiFRT0h7AAPXzjn3cY2LgpHaCiGdXJ74W7Vg96mt+FC6QAADOpBmmhJ\n",
       "qEFomUwIKf/+1oywCb+n9Uqzuob7AAfx+UEqmdC/XS3zFAHQ0lnwcRxYYrpWV9Hc1/pjIA+ydjnd\n",
       "wITwAlShjcly8VaUZgUcXLZvRGbZgwYq1yuGtIVaP0AYPzREdVCIWaGKK9PlSfZzIX4R+jLEoQ+y\n",
       "q7VCtIc6zAIrbNBpTzXsvwIKBD+B6ov7R5FJV8vEP04PPKda3Kr1pCEpaH+u36+8geGn+CCaHGBR\n",
       "+247gOKD7oi3T7jc+Tl6r3EjOLYFPHZIiWtJWVjb6+NG1YGRjYjJg9IARF3+Yze6JwiGZqlOgwFd\n",
       "l82HQWku+Wj+080tNp254x7zJc3aW41NDR7hfz/mrdUeReayT5GmHqx8N7oJkled2UjobvrRyCKL\n",
       "GmFN2gdG2k4rAZHMz0bvaK7G6hvN1v2oXyqYbc2GlB5ZHMn7wfpT4hNsQX0QAWKFecDHPhDuCxdn\n",
       "Rol1pA/JXkGdj4tid7XNkwh+uchyQ9PyICQ42XJhQSHQXf74JzbvpmA3YLYrv40KjYcSwtBFACoU\n",
       "N1ZGBRh8ezz/t/tz8fXwFQW22eKDvFee9cQbFf1uxjjtfuNSnA6J3PRSqd2esZSwnwzyXzgMiYpb\n",
       "od9kjiW6PNSBZQXJV7NqsILikHvh/7PUAsnOfCeY/G7YtLkZHRocfCp6zvts/u4I8oukKwRyMpIx\n",
       "ssBU1afL6+dJMtx/ManoKQcPS3MSMNoKGzAQNwF1pBAHU/RAXgtv2fAY4j/pR3OGNJsAcjcGRKwT\n",
       "jadNUcG+Mnp3s3TtptisPxCVy8lbgvxr5IHe5dYMd6o0ODaMRsIfL2WzyRIi1Boj5ACnRRxTCADM\n",
       "Ldj5HLUUmA4qjXUYnAI8SL0xWZAsg3FSU90Sa5XKh8W1tLFAxLOV4M3osrYSsVWuCYI6CgmOkt0P\n",
       "T+42cb/DByyKFhqo3W9BottG9ulabDqk0MlwpYNWYF6u2ewzVifhVHimocJCi4yTGPnZ36elWPuK\n",
       "PZUzvSJySXbWoIYLbTYZwSzrVSkaA74Ux9hMAG3uZOvMnl6Q0LXKGKN86kMXmzNJ0KDeHJTBnz8B\n",
       "icpuibC2z2M/4yBvMZt1FsoXIlwsj5WiefaC9la/qh68pB/RBURL6A/XvdLfp/S4zYmrn6nXJ4eg\n",
       "h6rCA6GJtQuH4FZTf6C8ZZsctbVD8jsl2vrPAwORnl93Sno6CmMZDZGz8k0wQuVsfUbbsHFLcp/y\n",
       "gg/NIT0FxKfBWRQ7IWu3EwYH533m6RKZhQc4dAXNF1HSSiLWKSv8VAnEvfDEXhtNqQmdrUKJ2oCV\n",
       "7BxwIMlQt77m5U7HLuAH/5jY9ENguW5F6UBMpdv4Q4MvgZ3gsan/788rhS38/BF0EGnLgKV7U+Q0\n",
       "u3+XGFPequ4dNWITGVvgg/DQxmb6iaeICqiXaEApfeEE2sBmEtcXVGUYrgxNcQVL+igr390nts16\n",
       "Q/apVQk7M+AGPaUvrYKAezZUzliRVmGn+PftOgFfir/dBIsXvmEGiD1zBrqHsZGZQS5KlyRwkf87\n",
       "kkOW//fauypfiQLX0MfkjgWpbkEy0CDpdgtsotdxKuTtP9y7EiyY5FBhVoEkde831QXJAu8DXteU\n",
       "UOzFsvW2heHzfvc6vmOfZkcMBWeQw0dxDOpCLobuHmCXIh53M/Ygxg2kVeof5tuXoUUbOvLGyHV5\n",
       "JjmnCPDmF4FCSjcKodwOLfpclR9sH9mT2EoUtyVZUs/SvJdRkjbveiwMfjbU87RmB0TjLxVOnQ32\n",
       "oY9fsoHAWYB5x7rahIGP8EUcvD0EKcqObHw1HDbq6Gqd6u1GVDFSA6voGAsQoiN4kuwxSjhcjfOZ\n",
       "E+YUMmNWQbR3MsnVsKIjwDa959M7kTMSXcn8JztcX5+2OTUWiOQ32cEEh+irps2ArpIEacAIcqE2\n",
       "5fsVl9JqCZC9H+QVraW7cHp6R9a2Q2EjHTBzD2UYhSumVGBTFhv9Jl/1bVD2zafMA+9chDC1P4kL\n",
       "/AcMavpzUJtgdIP1dIaXzTuG9XCLqwpzfJ3glCZb1Yvto+xJ05QlMyatT6cDKPWA3T3ZRph+2Oat\n",
       "V3jbg2MItvO2wG/UlfkW5xcpF8tRilKzcKTyD//k1E/zhmmi3ejtrFQsrsN9tjTjlp3lJbnG71hN\n",
       "Li/cfEeqdmGAs1Z18nRM3A6vHzXNSdOxeUYwntSQZkLRfs1VROHMk0ayIlJnZq4ntivykUlopyQi\n",
       "j8AW8LcIF3uEgfBz37fM/wAQIfyF0VvRjgtzQltfSVOUKJZKaSMrG552HcfdbQscqpZD7gx61yWa\n",
       "3CRIrtZf0A7sEeiwABHxRDvLVG2vbx28KDw8UVYNzOaVkawUvsnYt1SnnSnXVksRFnEibZJpOprI\n",
       "H2B6mqMDskTRe0QJyYziJ8N7KDIO/VPrTHMXtjodbh/Sa/G9G64892yl+ydtURS14KbpUNshjWdv\n",
       "pZNNjHMnTeUQEa4R5aiXcsj6o8N02Qp6VdcDDkZFRjTad6nwlGswmvxbmSJaP3gxdJzDVJOgDuxq\n",
       "Z5WgYdnVSCxH66nN0IWKO72lhLb3vHLxMbZnpMfXSsTCVVD1s6cJbcS4yi0HDKGN5zXkfbLLui8w\n",
       "K5IBSuwP2txzLDY7LtdI0A6mcyM6jW6JYkiVc61nGCiXkqYpF9XhiyiVpjMBnW8ufEjE3y8DN2W+\n",
       "mRwF17T1xTujj56DcwLb9vZFLS2WhmW/HUMs8Em6Naahtq+7UpZu600W1f/WGWDUbBzyEb1ncD7H\n",
       "HcbTGBmPH91+djr5Rzk3fMBb7YPa8ONHrev4UJn3+c8Ju2afvPXQFts/K/hAqJymcTfpg2jSiOTS\n",
       "k0YTNLW/iTcHYcXq7gtU3ujtY4JNLCJAhmv1/wkoAuSZdBdbKAmnxiocbPpa0zffUjPP4nj/uRG0\n",
       "Sffvj094qLF/qb3I5R1xbDz+KfYjUe7Moq5dBVZ7Ya0anp7ES1B5PB46/hH68wWby0vKxA6WOGQt\n",
       "PIxs6vxEY2+ZTDgWxuIeXutixdC/yQEj/nYgjtAyV0nVBrqWO/5IKf8rABZ0nbeBHowSsDwILFbT\n",
       "M5UPkWcCqL3XAFvRKGRZjepb6Sn7YzU9vJqbAov7CsLmelqmFfA2ckaYRzfDGutqs1D/zQMNDin0\n",
       "13GOsaE1FsebaZGPelCv8BsOAY7jXfR/B2DstOeV1admewnmp1tkX/Vw+EGY2jER5ScdDhBwsRUc\n",
       "/7WvJqo6UJoSIhc+Gst/JHZoJEKG2BwxwGpzMY99f87/bHk4QofYwj7s82mjFfKxZm4ZBUabhuwV\n",
       "ycq5ui0bY0L4n6H+6c/gnLtZvEqdNc37Ov3NihK6jhhKinJgwtkI78semg3OR9AchEawiko8mBCI\n",
       "e9pnIhjhX5D7qbZdHb1iT3Zyoi7w8ARKqKhNa8iPalAm8R0yjfdzcorZBziqOt4FdX+sWfWYBFZA\n",
       "luWsPFu6LfHWYpSGXQ/DURr+rGM+dMejHL2EkO/ym0Ks4Qb5gkUXP/8SHTXyqrA5bGfh2CtPIRlR\n",
       "B2nhjESz0/n9BCpCJHbqRD9bsL7nj6VXGW+mjilwb5DlNfa/aTLlnoUE+USFYygyII5RxS+0asQh\n",
       "SGQlN8mhfyd0NEMRhlfMAEQbhy8PGpomQoFKnoXz8gsXTUVI7zODuwW3bB7Wz4FPk/5E2j5VvZ9E\n",
       "D9F7I67exO+faln/6xXZtbGrhf82OEFCxys4IzewxTzr2wBmvJgqVSiNNI953QrVJBl2nx5c5u+8\n",
       "kfRM4Ds8h1dXv4YpDG2+YHdzle8YFhsrO4dhgm3IlCOuITQ7m9gDMGs5PdmDaBw1c9Y3BhbnWhpQ\n",
       "d7z6cqVedHyGmECGczfewCRdUJqjJalJaE9gI5VtMjRGOfnI3Cdp/QOwyfv/YdF0XwmvnMmo+6c1\n",
       "kybs4xVkiBLrI5smQomQkNKwGWf2QOQeel5eoxP5Jiq9tUQ5ZHKOG9Td0f1FlRb21V6l7VBNGS8m\n",
       "t4gPlIAVDeD1eIZGyrQdmJ9axiGN5a2bWLjOfAVdXvqhn9mMlDUctLDcQT7z46yj1nHoxHA0vWhS\n",
       "VDuPowEAVjOhX3D/ySa0LbxRmvUVQ1K0Uaad04yQNJdtvRsivhWsVT1FdS1Y4AH3tH38Sd9jB63B\n",
       "2bg4ZKRgZGIDMf0at0U115zC6360KzOWTR3XY8j2A+AfedMIOdpkNQz4kUIQui5SADM/azxpk0UR\n",
       "Xnksb7mmFVvZTX6CnzHSEdh49eyETc2PK0UF9u++qNXiUobXfvmlrJeusKmz0azIBN4goHeiDAsA\n",
       "HVdZzbWKws1/Xpf9K+Ue3WRqdI1T31iyBW+80ghKHQjSWCAtKGv1puSH2aROVcVVLoZpOvsDEfB0\n",
       "cY6z7PArvrrohRdOjHG3qg8txVwVIveb6c7rOaTdj503Xafaqfsd+Ke1cE55DP112n/xxFcAAAYX\n",
       "QZ6GRREsFP8ABTsg9wQfTGtslygIABdLl83jua/x7i4FlcDzXu7m2kp2A5/sM90J7y6ATgcoMGK2\n",
       "9CP6fb0n506qS3dk9GGTZkl/NrJS4wQ+wkZgi8HoTdvygCNcxoGl7iNuydab26Q7iN3ak/fSAQF4\n",
       "4Fd1QEP/wyXH7CYB5Dgn6/VQltAIxV81fh5mwQNC+Dpzj0doZgY9vx92KPfGKvs9f+ZLyEMVvATR\n",
       "ZbrOKZl341FgS8JyQP6EIHfohg8pvEkIf+fZ4nzE3FKiuJtcVY0/osyZz3l0BPEjv6PIT+uKgA7k\n",
       "Sr6weN18wRDvIVbLvjWjL6k8HT5yRxBRW+eq2hqNz//1+elc8gckcwEJxIpz1WfKq7JAZ4bDGxyx\n",
       "MsuJGM7eebyD8RiHoiNS//eNuhD9BZBfa69/YNlnPQeXEVuLAwK4fR2WTfSqus/WZ3axKE2dnRnR\n",
       "wPQXG5i2SI7H6jmMc7u/Ay4huwUVa+1nDVbHE6NnFBJ7vEnKtVyQuebopCk+wVprLRNIC+dv6qWU\n",
       "8Bniva0VSILM585d86G8mfinZTpjaSU0BiwTYTSnMRWp+pW+sCBH32EalIrREVa9unAPQyN5yTK3\n",
       "JPgm4weM6Pv8MSZq4mWeiMjxmwlOziY3UCsxTSJHtYNEgHE0JFTE6XDeJyTBVMnKw7WI0tHoho42\n",
       "GnAbzNmtrTXS4gD/GGqVRQtS9Hw979R7uZGNqnpO9NAOaDjbrfznj3pY5f2OEj8HypVj3x7cxZ4F\n",
       "1O+Y3rdTxL43yqovO0s/9UiJy1b8VkHfhMzpP+DFw0uQt8N62q9d5GoE+NMEDg3OEIhciScq1/zy\n",
       "mhbEU1g+AoRlLXclpgb6Y6W/IBs3FCNNxYXz7oJst/KZG9DQJ6ql1pTG8vAfXlb+yUOzdQ3q+6d3\n",
       "vV0uPsOCYV/L/5xlUdSfl9kmcFe6UbHH2O67voUH3dOSIc7brsJmrqu+aGPj3BUPV7PwQ78rQDeW\n",
       "73ZQ9lJoU1qqWGSJsBNywJHXolQkJ+FehPfbbpkgts667UBptVytJ6L76VVYJrBTN+3WtNKWPykT\n",
       "72E+lu/83ALlA/FMZ/p/pGkO5UN68bLflavjMj0hkDvRr16LQ1cYAI2MLlSZGgV7jewdlirYy0dL\n",
       "QYbUY+PKSZBZ7GFGaBhm4I1tgfEiSmKgAp2eAYUz0PrhE28g0H4N7bbY5aaMNGirOTaYa2nPO4eg\n",
       "/uvcv2EQuzIJV0DiTYJAjbFB0K2UapFnBox22Mr9Y7SR3m3IuWfNWOX1fjPSXewNPMOs0NLuAxx5\n",
       "o9FUgm2xI/OCoGH+QtRzh7iXXZ9nqwx8MXTYy9JGfAZK9p1Z6PSuvH87fN+Yc5k3i1FVkyq8pDUS\n",
       "VDXmbZVUN0uiVDnLXtpMvpD7uWk49Z/g9uGMiOmrmTezuiR4eNUb88YMkjg7Y9IxKAJ0Eux3Gtg4\n",
       "p8XvJcqFbvnI2sCC+456ul9YuY3rXDyZ3YrYwVnkJ0Af/iExuBci+up6tkkhnC3Qy+VsDQ6TXtWM\n",
       "yoYiJa6hbu/PtykJKMhSBEftR3aaxLAJhF9Jgsl1VxZ6Tr/0aa4969q+S241NV9Eq4zgOzWdnhGv\n",
       "frhe8+HNeu9pmCnmdwLvBtIyrUtWRa7kVMzAdTrjFBKWQerByn5tXm4katk5GtAMKhFrxgtlgR83\n",
       "ksW8WuKgOADR5rjdPJBHdmbLdbWhB9us9uX6Ee6hK7eCjeA+mE8pcFdxgca0nvsxmoJcrxQFr5DM\n",
       "GT2e7zp1PhtSjP45DbaAH8zt+qUTs4Va+2Cb7vGFQf4I+Hx0sE/pvDP++o18TbTCkAi1BvCUtaoE\n",
       "eoDFc+J+LBvjs/BKseTp4sSOzNQ57a07Bflz3H4Ij8NxIFvmTn3dA6j+B60ndDI+cQuwKd0qZLNT\n",
       "GbstDZ1ziyZb1WRQfSjWC30Yei6gyTixKCU06olm/3R+3j4wC3kiOIaJnj6ofaYXepDOgGV5yXNL\n",
       "mOcE8u7QUKyj8YdqlRio+uYIAh0LkFAR+8dREvhXNB7XqT3Jyw6Gwnxz2x+3cnI8y1r1QgIjkE1/\n",
       "SEFyVCuXRrbALA2Z3zg4uxhk8WEAAAfVAZ6ldEEvAA6CsPWKrb4hABOxwa43CVMIZP1uV8qFhWGd\n",
       "FEcjbi/nrqWofq+0D+9uTZ6SA4pGNNeSu+xmj/Swu9H4a/Wsqf6/6kyVudriICUuc92V55d2fJeL\n",
       "myWYaGGZpu2TFVt2+fA92wuRv9lLcnA1oMreEQ5SIw6Nd4XWrXkyQNXSHocQ2a2HPDC1Ht2IfTKL\n",
       "bPyesE7/Jx/sbi7vgocdJ453MkECZuC042diuijvc38d5xJsQfBPyzkXQ7bUYUWchyy+OVr/d3He\n",
       "9fhzRGQOzk9M1cmSHBC09Tok4ErK7iXzLuytrI9dbOKgy2CFs+Iky24vvaVLGq74ysV21/Jsm4Y+\n",
       "kmH6FgADs6PPttZ2qiBlzAJZe/DrYid4EGwJ/9Q7eWn1zXk89GhWpV85kvBMnc0bNSmE+687PW/a\n",
       "iE+M+XbPVaA6mqmvlycyhonfBCtqAY1kp1qpcHygfINjkpkHksuyD7kDO3hsS2LvC9ArobYayUAt\n",
       "seXNqzqRDN8vJgCvCos4NK7ROMdzGRZAae/91kpmNrv4ixkax+4PWQ3EqyOpzSMMv5AMl8TJdTj6\n",
       "WS1jvye/tpbNbgtzkXpE7zQC2M1VLXKbRuyKoi2HUSXphjDsQF4YdTCu9eV0ndWM9P2AEzVirVys\n",
       "3cV4qIYOoqme5qAZsyo1XIdgamid8S5zo8FBzmcnI0il7f/5Nt5NiJ2z7Pq3YB00uZe+gF0f0yPZ\n",
       "H+BUEc5IEsCNp47to0/nuLNTxuG/VLSaiwjld9OV+vG71/zBcEuwnspNnoLKaWideEeIvCz4YLpA\n",
       "AmIgjoGnszVsj8SvtQflGQQ2UY7W9XKolRXeKN2rxDndX5LpG+X55lHmYiGBPGWNZh3kgzsad3BY\n",
       "vxVTGheNIOXq3HuW4A8C3cqdgjPXRCvIYAnKhXTwB5D+BdMWUGupQYcVhE6nyE2SxoVX0KvZ7peR\n",
       "Qkfncp5B379ct7rCg7z1z1tn7gS6E8jwFmuzVpJJhATOxtbXIIs666VTG0J2cw+4/TcJGtI4pBxs\n",
       "UCKoUWZW9fMHtZRYXvIjDJLu92JbgeIl0P69DGJjOfYwCT5778rTcNrdoSSQXODrUZL6Ys3u0yr4\n",
       "ladzBNt4x8JJaE7gZ+Tbg5Raa+3HRatfyWsZi4PlBudZOV/rS4NnUWA65jVqA+fiUYJyF14enqmf\n",
       "KWUlIvTlPtu1wz8rmd4UPGV8hlYaB2rGZhZIGcTQBgE5whsRTM5EWVL0DoKoS22lpZjFKfdD1qW1\n",
       "UZgVr7CYvOtV9gRREmTHwa4umCGvcs9h4b3e8lfISGnHY9J1jzuCAkJWgbuobV8BP+5tBaw0z5pb\n",
       "/6wnuLGBzndGj/wwCVZ8kVQ8IAh/6FHJoFezk+HxTfCeiR+UQ2aq+zF+XtWNZ8Udikfn4blb2y2V\n",
       "R0URpAHyntesx7EwPQKFHAzLRsC6kkE3BKUNsISldPjbXQmN5L76lf3M+pOq7VIB/zlOaucVcEsb\n",
       "SvTMPrK42Yo/hW0j9ROjxvL0+xGvGhxmxwg9QcV0E8IhB60DZBxJoSZnXRB56nbQmCOJTtW7PpvS\n",
       "M2RD58BEt3tpTadaZqjye0XnYKaX9F2ua7HM1KEVq3dulDy1oIj+nnw2bpIpNzwWrb4BRPftFQqt\n",
       "AKbZ/fszQVAgRwBHq8PWpnC3HvY/rcsjfjRAeMDtCSq2i/42l00mRjVkfrGoDMNv/4R+rSZqN0Jr\n",
       "YYmru5kqcPkQSDMpNWAJOZT50zlCfVXQcWjCBVyDu3Lo6X3M8vKZgouPcCGT4pvZvQeLJv0fdkrL\n",
       "3P0dP2T+aXOnz1PDjwwjMaauN1zznO1lyX1/rwlGIEJT/wSpI3kMwNijb4ke+f1nkmdZWX4rgCD1\n",
       "wYNjoHJ/X54KycD2AtfarVcWckHinWuyuSeDroL+x6EDf9wYHskFcGqc6wz+BghKyI3sU8QRjRkQ\n",
       "1YRdHkAeD/GP0sMJLRhitm5hSIx2/aQoVfEXm1R/mFljfCqtFCrYKMHwLuhB670t1KUQtQnqs39D\n",
       "6wXqn5OM/j1ie4peg5KfGIYqapSPQfsyV/zI5oBXxehG6XY+f4Y4NrFyAhE0yKTpC5Oj/V2f3d8j\n",
       "KZRPozUIGhNO226RifsFDZfAIO4TElq6/vVmOkK1iDge1U+9jwjm4zjjqB8cWrm2WyGmU8j/DAOH\n",
       "/N50yPKIGeNCyGjoA1KHKLpX+enI/3Dfwho5iBG3VscwKl4IguSlA+YEYTZfxVVaalsdFeOFwGgD\n",
       "G50fHD9W9xuT6UUihEEOnD/55it76yH7MhkBozF5zVUglq4LeVd0A3ouOH9W7ErEnn3vX/TGqK6S\n",
       "FNkKT70TWa7aSdUvX21Dgh8RWNCQaayiN7oqMFGX9tPPOpmuJuH0EHHC2OdLrSxnmjv05Yeyug2D\n",
       "GTCehb83hRwiJerKJy4GxTgw8b3HyiSHq7fIevvDLuxuUYFAlSwiatC5XK3TKBdotw9ZvxROBQrA\n",
       "qwkQ6xqk2ljL0CPCa98FRpYgTFYTzUS9DQmZH7/k7wwp6VmNCfgjtjLbtZVoutom229rPOw2zLuF\n",
       "rFjibOMl2GXyf4NwXAXdjFQwLFOeOe6x0TKAZf1jmDxyEs587MvThpPg7gVNEXN8NnYCiIaycbs+\n",
       "HDkFYAu+ABekrxfHK4gjLXyc8sJbWNMzFOGQfOxouGWtoQAABxkBnqdqQS8ADmTp/mbg+UQAFyw5\n",
       "IL4Ww7Ra+dF1SNUziWUM8+YQorNftZrqO+fDJXhKKLnMbchaF0zSSuyGtjy01hTOKKHvEUs6e4Ou\n",
       "6fIYpCoqx6U62PJCidp/Y8juI2+mYm2OdgZ32dxtXkbiGQmAy2tF4m46KrVH6U5yoLOERg2vgOGj\n",
       "haYdzW+QiOBDIxd+uB4QBawUiU5REBVmHkiwHXkItXbq6Qvg3yNN2QXa6gYDZVvzDI4dvRqw2qY3\n",
       "LQ+1rvmXCrv7OzHP1GgGjiDz4EwdP+5wvtccsXybhW/tz27KXlV8kFiyGjCaVSjfJvP+LmFZ0QkA\n",
       "YPZkrAY0hECaWOgkzIGemnWV5OafaU7kkkZh51Nrhk4c5dyHlcZM93a9Et61NAWs+BjTI7w9j8t6\n",
       "rhduVJYK4+6fAOC4n0yGVyv9AQ08+WgNANjwYqb4PHWgtnal1lwG34TFrDlPwxWV41mufv7Ipw0r\n",
       "rmQ00EtL0wxm5rgO8k6EaXq8AgbvtODXtoOUWcgiqC5lH8N2aBMS9IQEnmEHVMJuhsKh577rF5bx\n",
       "7dK2QGNugna90RFRudfniCokg+Ipbx257uVeiVPwkBV8U1DBNAyO2L3SoXzZopPi2G0PZXGapg4t\n",
       "nomUAVx8bLTWbgd1PTzVQNeBuP9auP/xpNJff5jadmEQMleHkt1Vhdt1qQ5yChXtCQJJ7npPiMln\n",
       "FEwCI7bpcHSkQGT6bPTGdsfzE6249LT6bQtg0wBSWbecpZIap5o395kflKis6uc+sdPXbfp8DVzu\n",
       "5lQyH09iJ44BBztCJXo1zfmou8/3oItzYR+BsEmivf8J7yGL1hLQoWsB2JHCWBeYtovj7xTaVXSk\n",
       "zVD0kVgwpMV/UKoAw9kPDCJHoXanQaksw4Z4x8e06lr8D6LDapRhv3MvYaCW23Hq64K/dNtiWKCE\n",
       "DY+XYu69d2B4HLXMjiCUc+AMcfW//UpMfiqV48pjba9gPxwaIxpvrTncv6a+VcyrPlYWi/aehg5A\n",
       "CX9WPH85Nz+ij9qm/OWJxE1Lk5+8CfNmSxFTzc87Ifn0hNj9ddnLbHWGzwtHL0I+P4I9qukPBWMZ\n",
       "8of0L7pKuI+KkeePEM+vJVgjLCRfQUP88eYmabpRVf+VDoUAUDHCzuGW/Xf1WjznqpZE1TvjKGSg\n",
       "iLG804X21uG/v+/eLUR+eKr84GLgs42tgr1csepTioIJOX7PdZo0P6UXdy0weJvstIWG97tllOb9\n",
       "YZF9nvmZR2feMmM88nZ221FJP++hWxfyALk9ZyOSXrEtV47LnsHk6zYAqe/XPDl171kV12gcZpfB\n",
       "VsPtZp3G6uvcDiW1WOHzsxkJe0wFrDYZUZHe2hP83Pjlyt+enfaLvfNAkDUPqhBGy+f/L6BVnW66\n",
       "DtoLoFNUnSBG5yKpAvS/WS3ZsS/jmxfeqGJtocl3HiRBE5I2jcUvMpvKfiUzjobhCdZWMd0Ss40n\n",
       "VBlr9xzC0Bxz3S8j8uDCl1TdKLNx/ZPDgZ9xIJsw/3kmG00opOAcwtlTn7fmyYZKOkAltRGN5aLc\n",
       "IlmKF5hP2asT0bB+S0Cx7o8kO94uPUCd0pPqMlWW1Elhs6jmV8oC2XzDxAkRyMYrPuYjXkVmujjS\n",
       "Lw1upzd0oSScEIKDyG/TzfuXkAi9ummbkdGwcPSjizYRNW3s9gMgulTjmg6r0Vb+lOxYI4oJVFuI\n",
       "Av+WAxwTwuJGG9TwmQNXUj5Q21W3gTOPa0i9Cb1myJQmyXVRD3EyfB/XbCg4RS3qPGCWxwMxzaMO\n",
       "+l5qlLxot8QKAO42Eh/1FgU2rmtk48CSgOnwKejTzGRo4H1FB+hKVXNky0C25XJOA0Oo9fUWbj79\n",
       "oWQPCme8MHXd+MbV4PGwrYYh4hYqz5ufgWDBJ5b99HvULIseFOZ8aRE+vjZUPEy4mPIrtfE49Yf3\n",
       "6AxaGb0N5pvgMVDzjgZQpzKhOkDYj18M2QJcZK2bF3rj4Y275y3rfb0wff9f0eGhMpifa+cal2Ja\n",
       "6kpvwUEvZLkBcoxn7uHc7JYp/0mEnWRFyjVOOT0/C3jlg0gJn0Kr1kUiZlQSmEcLVRTn7GGKBn8b\n",
       "chHjP3H3DjkADI2qIjyHkpAfJkAAxoWKbr8wyB/brDlwtnsrZNzgCO0DHZD0wzc9IrfIavQW4F5R\n",
       "45dgK27Wt/79zY0K7sa9SCF6p+Ce6cLcGUUn3o/OHJvGf2eQr4TXu9YTC7YeFmioM4fewr8IgAud\n",
       "8z7JiTw3S73zmMcu7/wjOi3Wc5SlF1rRxYj4Xez0IuOM9DpvW/ZbLKZzHJ8MWbrXacHXUykf2TLV\n",
       "9XGK+Y8AbGM1IG12sk2EdIfZK6/ImgbIrTV7L6t7VizjkRC3z19r17us7g7iWhYWEw9xO2scprQs\n",
       "AxyLiyeDyXb3sSMB8Ei5HlLf/zQjCTXVDFJl8pGL0AAADa9BmqxJqEFsmUwIJ//+tSqAFWRXrWW7\n",
       "yjQszvKz533ekEZNBZD+MJ261mXQAAkK5NmFc/O/DdIsRULnYRKdJyj1YLKc35xswzy7A+U20FOx\n",
       "XmqfjnNUHyLu6oEMnmm+H6UypCK1jwxkYi9uxdUCfsHshwq0mbC8vyUtMj0UiJ+GsqbtGU8gUM9W\n",
       "3UujoI34rMtFKc/ALYjtqx5o3M+gNlrC9uM7kMvsepbU7SAuvPBwj2Rk8tBWl+y7P36nayoHaFAa\n",
       "rCZSNejRUtfpCqf7MEbHTK+8UsZZP+tWN8pPPBzUBqsWK65MNPuMrE+etc1TfBay6M9+1uR9kauJ\n",
       "YOsysxvSWQrS018Htf8AA6oZrC2rxdNN8/gSxKA+zKm6WLhn6ytZr9rqjllxew/RC/tRyfMDed09\n",
       "so5WruFT78XsfjHS21eY8zdJwN7VHcga1IoT7n5udN5Bbg4wH1EBg1QGh14pG8H7t1hXeJltP3iM\n",
       "qqlelBh5uy2sidRgPqhIL6+5qvIafcv+P/sXMQnGJND56Ec4AWTTzhA7QvSJu/PB4SJI5FZiWBIH\n",
       "+DYZsbEmy914yGNwc+AVClYPv1q5kPblOPgKiOSHCsh7q1lw0zf2S1Zq8aC2d+qmqHZ/qIrp20U2\n",
       "xUfst7/WjJtj3jgpsws8iCYslh2dKm+g+lmuZ3HqKMeUaFWCEeO8d5bDNRjQW1Sd8DBZ9OUzbkMd\n",
       "oUC6fJbAzW2VxFWYEiqIvA1jVWyhrBjvU9iWSBbxJ7sJsg2BrxVP/ViHtNYeoWIbt9cJxZk0XKP4\n",
       "VOgrIs1x1eVVog4ZmIKPhHzPyebNWsN4Bz7b8BHlZjecqLrsuJ4trJz8Bh7s3s/CWsN+VLkpCC1e\n",
       "H/LaAbsAci5HE3+jsffgjJ5vqiN5phZNvUmqUYGrpDNAlf0KFFhAuvbHvocgFjpnqime35rkfD5E\n",
       "Fe6ZwFD89Z5m4qTsdSWffoigQKK+2vqDZHCsAh+ZCRtfHQexP8PMopgumKiU0nSK16JHMOo1l1mI\n",
       "p/M5h6qWcrUzuMiZcRlRdd0mTksETFHYpFGb1PPvgbp1ThsPBgWlzdsrOUanWS70IDrtsG1mNEzf\n",
       "sn261QnEJ8tJtBBCic1kTWQjM1DxKXosPA2HAv96L9iLbuE4zh+bruLdS16SgerNn58zXq9Kaija\n",
       "I33951w05V9BkoXcx1LgS8WL6M8GEIUjlrP4pjT7YM+nM9UlzqC4avqto5qP3VoMS11A0BnOhPaq\n",
       "EN5GKOVrvyMj+LQBnF8xNG0JCkNBsKNblBy0EDcZ7BriAddZ9oKLmOBQ/dHmdWe3tm25QjJ7IZaW\n",
       "TfhkIjso1JuYMbo1GOD9c0cZs59gwfVaIXYI6DKnQb+QzQnftRRG3nrY5vmsDCsfHxYpHXQgo3R1\n",
       "Qg2XEVkGRZdQZUaUWrpibci5fhRySqPdBdFnf5S0qS/30rC4tS92KVKNy6xBJb+K53QFmlLrXFtc\n",
       "mSy8HISpNMPQmlWZITpBu6DDEdG9d4r/X2zmLEJzc1liolqcWzjg8IEKRo1VOMueCIzhRiEeoYBX\n",
       "cWi0PS2iMUEQ5AC9vE06yv5EsPReEjXJ5okOdrYj2X/GtjwRE5Y1UGnEd55HQwFtT1CNfLsQCgT0\n",
       "ElJk2wlupb66w9ohz7F+xlQrusU4a3nopevpW7CKVvcmGpSu0L4gQy45p10awU4l8nQPBlMDLCDw\n",
       "CIljU4is99LA46DZ8dFH/QSL93qAYQZrEpTMRGV4HQbKpzUId3YKkdbe3dOJo8e/m/TuG2gS+gw/\n",
       "t9HscJFVWORPl6DA1yZkyDxZXyy8RiZ0V0y7BfBeyXy9vOvNV7uUbo33KImzvlhSdDiVls0o8+Bs\n",
       "UJdbKgQO1MyAgt410unwpYzbe7TJV0ygEatTRfjUABEGG1ItAzU4g/p7+ENCxhaNYUX8ahzbgpYI\n",
       "N3Rlp7AHgsPhIB2PBe3fhG6UqTC25/WqPhQ0V7OaXv0rgJm3JpYl1YzX9esMhQTmLieo0ikRUXLb\n",
       "fgUp1A4Lu4vXk+xp1ZZ/elKuVOyrZm4616hFd1UoPnyN6CrEsW1H7DaWq2uZzBpDvtCdjkJP1flg\n",
       "QTz9mwnv1Lqt3pN5ZyHjZDdqt/gv4I4A/X+pOUqQqZxoQvSoqC58JPjZKXTcsmRdYJmr+u7fBSSy\n",
       "11REqdyVhQ/+EgOsqF2TjDqU24uKGoBWPZ2J1hlebHeeZv13+8ekhB7ql2Y+KBr5i7UJHVcmUiqA\n",
       "S7rT0uXVHf9JZBhLaccb3KdLknX+JVk2R3XFAgNurF15vmuZak5OovaNPoOne3YiNqSKVtnmWMU5\n",
       "Q4F2GsHnCbqpwNtKLs4LoF4y9DMg+Gtapev0Aqi1R9riNj+40+EDhxvEZvUKAcy4QADHM2a3NNV7\n",
       "xKjlcXJeVU4pFqS2At+LosdLMiUH/nj1qw6J7zuwKpi1fmtiR7Dh6L7ulXQ37QvaORqE4Aful7Ll\n",
       "ueN+UzOy8HelI8JloIjiIHoGWgA76fUY/8YWam/+UCGIDxeDyRmVVpx5iQP1X4BbH+4MeeuHNTiV\n",
       "Ltx2ycAr6GSDcjd65hv6+R95Co9hLTRsWw4Q7DGaBMlhdnwWVMGUOtbV4YHX/2FXrArAAlYrx8V5\n",
       "Y6GJs5gXPPrzAVdQAPpfnnZlHw4tk0Bk5hj+d1Xpgwq+B169raqHHO/ezgiSyc/OBh6T7MtXW43g\n",
       "sawCZBk7FitA8PzVMQ9BLQm56FYKH+S8YzMn5D+4fMIhPnLg35JKQP/hqn9AbXSGdBJaWhY1ENCC\n",
       "P0EvtiKoByD6NE2kzipuVd/g2Seaz8g4PHvGufP4CoILKYRAl//DOumT5MXf0aFJ+Q0cu68ILovv\n",
       "daBgYmc7XHYG/eFWU2UPEIRTvzbl1pmkxjZCoOXQx1myUDVxdDZAo8j+ldlb92n0vH7Zf0ftzcTV\n",
       "QffjQBDo0rbOO9rVS7hzt7Yt/JI96ma5loZ3t0xbao+YrTkIxcyvmILMhXkmiMNOwlv3Ay023EU3\n",
       "p8aT8NUT6HwT+q3T1pLAPDFwAQ9vQemNhC8QBV8nQww1SB6kFzLD1ahoNS97afDUV84Di0rd1URe\n",
       "dzuvKXR26VVMbjN1in7wzs1EYgs969myBn9hA3lXtUo+tgnGIq+AXLgKDkr7IKlW67pWQ/BogSLx\n",
       "sGUD3h9pcd6QmlHxkt0jTD6kt/I35Ns7aYr1XhPMykXVdrgq9JY4AhS85oAeGSxrSO9ditg2fu6n\n",
       "f97eHkXWQHTY2+K/ayXM+7GEtNGhIUMnmpNYcTZyNRni+7Ow2rWqTF/nyVz550aJMr2Sn6JwW/ke\n",
       "SEjsqsyBwjahrDU6Qy/IjI0SOotJ5N6BSmCUyhfBCTg1ppkKTiC9KsXWTFc3zp8sy4+1ZFXYGrcY\n",
       "VSZ0wrW3xX/1j6vwDRq0LiQ8FQluyRzhHO6jnmlA4hT88aZWsKkkPML0S/b9o+Tk6pCHH1oeBTMC\n",
       "kDKujY0b3sKRKQwFZTOCFMVQwPkTKJdZfkWzQEyDVidjuM/sbvGhm7CXqwqvGBc9UyBH8jmHcRYA\n",
       "puZRbwypk4x5DoV37jhm8UbOryRn/Ry3BTEP1I4ozuaLHu3wzCxA6JyDMY63bHw9n1AwD9cfcKo7\n",
       "wLz0M2MFHNla8vcAmcpZ/W/gP/PRYjPgfJUtOeZ1aiogrxSfFXNfmAwGr+Q05RAUg7NredrNKfSa\n",
       "b+8iKdblXklBWM+Q45wdO10LqimdWsJ3R6UChCwts3yw1D53rSVX8JdAW0fUPqNDB4hHraYfoeT0\n",
       "M5Ti02CoBL0buHNIb2sX3JYXOyWUoPkVDoUC/PPFojqChyKimh2iOyYDM79twHNKXBlOljFRzHZr\n",
       "JF3lP0co4/q8MgPYBo6HlC2HfKHZzxhNbe35R54PtzSNchAWXY234ml1Eciyjyg0O11VW9FlrsHM\n",
       "hEt19eUEHmY6UgA7eWvw3Os9oMJPNd0HiK4WtM/NxznUf+F25y4C0pm01jxRypuAPaCJkS0/VYFK\n",
       "IUwys3u2Iigk36Wtrdxc18V3AcYzjKnyKfUoCxwlTILcht0S68pJLf+XuO8sMMSGlFVPh+85uY8Q\n",
       "UZndOsZdq/NH7HR7hk6wlezuMuFGeS7pdZp3jVUGqz5izQQXkcP6X+p2YemDDXUyUEjBhn2DyCCs\n",
       "PzNr/l3NMX9SWsXbNxTghpx2BruV9/b8oPp2oygzRhD79UZsUw5BmrameU4f+Mmv1yxwftGhs7gg\n",
       "Qz5tDJ/aes83d7hNOAUuFAFkzAtYp4+OlgmFT8cefMCeOy1fliNPDHM5OZGRO+Yn7eT3LttxDrDR\n",
       "mAVSrHf+ezzjef2aLGeJDfyyDiDLZ10HUmBGWo407Dsqzsm6Dsx136+/RpoFxwhrXFg3T2LX/MG7\n",
       "gZvk2qfbbCkiQlSAgZ2+FxhhwjcUAyxxq10D8mNbHIDgtaEyZ3neG11x9BRK02tsDBjniGm183Qu\n",
       "AO/hk7OCOOCJjNf30Uji602PLYBlbtLpy73u2DbrWinNsycYEU9vvJyv8/+Gq9w0HY9XxBX51quk\n",
       "HXq1mIBwq4BNQd2aea+7jzqd5nS/mxMOUYqqFQIRH97TXYnm6ls/kFf+bLbjV5DNvckT5bPfsyz2\n",
       "7WZ40BNP5SLcBzlvRkGu5VN573+4zCsm4NNS+XrNUSHNwbnrsCVXRWr8j4I7EixXDOOJUVE5Dno7\n",
       "jIKcEAAADZBBnspFFSwU/wAFWZf/xB2GAAsJ2DSgCWwcgpevkaImWgQ175RbHi62rS4/rrt3F45h\n",
       "tDTDFiB1e32F3tu5jvMvGybLY3mIWjiv5aKEm6p/k2Lz6l84BlVPp7VJkFfwgR16sMv6NlqS8xk6\n",
       "xqhk2ordYZlx8hU6+SNjmkvHlnRJcBeT44RLMPvvJXFNoOWSJq5XzdHw4eGDMS0AuHRtuos/y7DF\n",
       "NoQcFLaCZT0k36bsYBzuw5sao02uNSlSfprBYACXiUTyGAVBKbzvABtUBy/ufX7uGxsyInBCLFkH\n",
       "g1vOSJOZ1mACD2+oTqltrVapbuJRi1Y4uZtao/0DOH9+AJoxh7J53z9Dv4FVkSSK/5NKylYCLcEh\n",
       "Ea3lTTJaJBxSRdkGgXjXYzLYRmDXrIdFAqNWiHovxbiwxNhHswTKoFgmTjv06dcZoSQyW1kRowKr\n",
       "rxSUeX7nYOW92DYiPknzP6L8CM9rc3ExjdsoBZSRKLbk5Y9U6yle4wsONKGgDhNdIztMXiFcNJoA\n",
       "rfDtWSLi3UNoO3j2ZMkS3dagcch72aLjNe/sr5L1AQ9gpCz2cFvyLXg9VRUFINY+K0o6tY4pGCzQ\n",
       "5u2H0Rxttf7C5div8zJnVQjjiJmlBEnsgLqTBEadR99AULXZq+trGhq9gSLNjkci0wKd1sSQ6M78\n",
       "T2qj4E358uPkwrVTqxzgzcGPvqu3OyXezc/W4F+3FthDjnfQmZXGDIdqq+AOhnOznApxDnXfn/83\n",
       "C9rO3MaBgSl8a9gdJcx/fHM8pENmxenCjhOdi6V/aZFM1E4je74OURagdFjnb4iClZPWuJM/d/Cw\n",
       "ML3pCab+VMaJOy4G5hf/107ssFfIAkPl+OrIGLWgl7Upe16A7jWztnJ1tSo8b4FWxiYzGYeRbUZM\n",
       "DgWFg/Uk/g1mDricW7sKXSeKuJE3Gf3w5GHQCc+XTcEgW6MAWks+fEOrfnlraD0XZmRrKvb0WI5T\n",
       "bW9uwFa7Uz0YOBM5lEBP4qUaCAZuBpjRDEhH+VRpdg+8NeSX/hk3hHoBJ34k2GdPBw9GwSL2UsNJ\n",
       "XN0ZZNoWWYgx0BARyey3jP1BsO40rm3JO2eURHUUF7P09MIcRICSjv/QiqJ9ZXGk9QJes3Ijk/NB\n",
       "Cj1H0OTKH7B9kfZG9KfYYyKVIAl2rUU7qC7iuo+BZWjmLLx6CgrRltKIfQBWJz8vVhOaYVknzIoy\n",
       "gCwL/4V590MeYOBCW/jC+7QKeT0g+4GAgU0Qf0byeHxlo6oFsUQXyn8s0hf0NNc29UZxpGImsSjg\n",
       "2HknzGx+8IK1OTL057+RTr0Vtb0NWTgAi7OwKZ6udXYOPkGsZXymu7DwHwMHnVcMjtrMehzet+G1\n",
       "JVukY2wzQAQGcOPI9YiyJRHvLolOe7gQvleumoFG3XDoX5aTQXpLx9unvQtUTDRnfxT4xiU89rWt\n",
       "+Pj7Rir8a9+OQbr6eWgtimJ8Liz+DnTZ68mA1pMU+WcXEZko/xWn/k8m6FZx9A2RlTjl0WEkRiqG\n",
       "nnkHtL+1km/DanCpmQLofCKP01funycSr2Ze7K80VN0Ten5hWlUC5xcwf34WboQvsJ6rNCmDsSCH\n",
       "eEG8FOHpweqCLOeU7w9N/1lAsT3KZSFABdA2LiAIUSWtZoZuAyFrq43mJ87FQfXh9SGQ2yHvC1RL\n",
       "BepvWgXAcNwIcO494pf9Qq43DCGLfRavZSQUXO/D/XILAerLtHd/ONqkmlI8j/s2syHIrONAQgJr\n",
       "T+L/vw+j9f6RFo1T6EKBbL1TwLjG3steGsjTJeA3egBkCbhwzzYdNhl/pRvMfsqj76OF9A3pVPOX\n",
       "4iKzaRDlgxGfvLN8X5+jcmEKqVZeLXA19K8oIYErUYxLLvc9RxjqRKMI6m98MSYo5V05JcQy3ATE\n",
       "gka9j+v1TOXd0PY5QczaHY5DcQqXh84gFZcf52CUNeOJAKwHNvl7i6V6sLoek8tD7+gVpCA2CSOz\n",
       "33hAayD0Q7FdTtR0nk8O1ilvG6nFi4VafvBW8lAXZvGCgBjnjyYtCn+v4NwfPR1BD0p+8MQ/VVcN\n",
       "uxyMGgmhavHx/gzgqexQp8N4ZoEJFB0zd2apg4+uLyfU6fpsGvG00v0icQMIqGmFiXxyfDIh7QUZ\n",
       "4V4aOaqMmk9PWyhGxoEJY3OYNO/7HBjrY2+/McvDTIHEHD/YRhdwpeIBqZRC+F6xA50dLhU+MygJ\n",
       "RB9GsbN7jlM1WVgOXnNPeNCTmTcH89u1zCcYrcXfW5zN+lX1jOodx0TImkuNTD0RNFIPI/+zRYVi\n",
       "oKKe+CPDGqQLSzKZeQaqqwnaWJZLwDdTQG/jT5FZlAYka6U3SMBorKfbRR+tsvvQWlQ1P5VG3krO\n",
       "Sn2epGC9DMs9b8rkkOjI/7zuLRHgZS4glIwN9Nj6hw2EKw8ZK4J0ExVJ3/erCLMHg1aOqzGDV9jk\n",
       "//88qFIqNxRhVhfnLSQHyyFP11jTSaRU04TpsrKdwf+WwePfrxTFQGNGXenFlKQ2NvvXVarlRVWj\n",
       "un2pLxtqu5t23Sgid0QRZKRMjydeXLZ6p82tIk9z6/GutWvYHr3pBAOX2DXfe2UvK9pQ93Wa8Zxc\n",
       "/fHodj361nSUJtDGvMCJKHyqWF0B39ELFr/mVMzQ3y3EfBfn6txyZHfCZ/d4KDK7XPXESRASyVse\n",
       "HkIEVDNEStjKjY3+M3ryJ1h4mxh2VhuLss8CrVkeoEg9aDvHrRRWCi5e16sRi8Y4dr617D/u5TSN\n",
       "mEeQKeLJBa4VRR/WtAo0gBwUsahgjx9fhZUeDHFZLSiRVqs2aeyAFmfJG3rT76XXuScHH/WTNTPa\n",
       "p/03xetKJNod35gWlnqwvNiSCc1YF+gMmt1AO6jrQvCR3TpvqoAi5qtuZZzV14veVdhXlx2cG5Nl\n",
       "7KMF3mkVWpsjgQM6ZVDy6YC/V4ZKgq2k0MTtGAHuiDbCYQz+b/10wG8a+wSbt5/fiUXLs2dhJwh9\n",
       "t4KskUVQx9VfwAtNE4tPSoG5Qsp5+CRa9Jr8RhE0dfHLKBc86xxeEnIc6Zjz/mbmon5vDsuVYRXh\n",
       "kxUQRI0n41qISZQiyn0NFrtnuW8x0GDAQuDehzqYWnTmMbq+fLYSS0vcjoxCBv6FSX0CEFRYhRXy\n",
       "OsdkFWbkiXpH6rUB2xBl3TkcWmP08QEAb8Uul1Unt/hK0Zv1aE6rgD6QxRsThWjAh4qYpACaLA76\n",
       "h9GB6A/awyv2An/9cbKbOegbAI7WgqgmSZW6vyNjWm6nNNoZ7HjlkYCc9gshT7PIF14I2Dim0Sz1\n",
       "uKqXUOdPaqV+l8xg2m4QGiM2dYJfEzAu5QBhYOhq9TBQAj6yjY4BrIBOojcs0IUo/K1dr2tn/zjX\n",
       "aB/M8Wknd7OBIGJl94V2xMVD9P0WgsFullqbI3ff3HHIvJRvsTRFwACiNKdgnePBZGjPcC82Ou0I\n",
       "0J3hmejYtGF1RkeDgC5kkSFT9cp+rIMaCkiRHM2TQXjoEttQtYs0FR63UWPdvhmFiBxr15N2Zgj6\n",
       "rds0VDAQ54i9v3IUbZhlevSNO06bLNAGDDOxAtlLYLzhjF19TeiEtv3F74ebD1YUjL7Y2d3Z2Ue2\n",
       "6/3E0BX/+4PK3lE+uG9dXYgDI+r6A7Lw0+llk2U9OHbeVa2iQUwDNlPAsy4G9Hxc0wh5ioYo+hPs\n",
       "N5bzbcuVWiJGAqDlvmnnu+9wV3gGnCG/9hxRi0L82dzp3zrRTiqvhMDydLu1u/iDOvsYdWcZIm0n\n",
       "J7D2p3chaNuUuG990ZioCjeLRttaxm4JXS2Yw7u5R+TavWhgLrZ1vYtol6KZK4lDufWSG8kOl5AC\n",
       "NTIib1EpSwVxmbI9n4F6VixiLjM3u3jhebwK9nwpbGYRoWyWIJMKQJR9NJwTwpfRxsHB/eDV5zwt\n",
       "gs8V7SB3GQfKpztV2KZQ7A6Dbg++02/c54IzuCqbGJK3I3rnRRK75d+AGD2zjQU7y2YCX5yswf2G\n",
       "qbRQGPIR+cnhrk/Dls8Jsc/PI3XzCGzozM/RKnSjIt6QFrTAliFKvVWPrtDlqoYcMGCqB/1/KVy0\n",
       "aFQ8163uQXRAWQ18u3qOIsrl9vUnfxjIUoTsZRVQeeV0K5MIunQplVcEZ6Vs+qot02sfYLtd7v6m\n",
       "pgIMnV6x7Lp4EGT4hFyg2ArQKLLi9fgUYECF4lB5oY1f/e7UzZ6tSCclGQy9rvXwUES/ddxGjSJg\n",
       "tH3yVdgS7usLHp6AwdZMoBCZAtQMLfDZj0PbxqVmAC/mEWWooGbT7FpsfxL0izSgX56RVybiK+FN\n",
       "98xAoTmXfZLvkB0SK+MxjBA/FXnMreuUo46BNIVEMjxukqMeN6Itemih3W6wM8KY0nhMjvu1NC15\n",
       "c33mOHV3lO/OEWBBefyGLR/Tlgp27D2lQKxfx32DckpUYcsFyeqk+79DJBwEztm7mpZN+dxWCHNf\n",
       "WGlAdYbRfnJIFjfPiCbTj6zwtbjXzJg7t9inOqORT2zFeYBkz7S9fAIKMGweC5564UHuBQNcmRsR\n",
       "ch7wRT/IROj3B9fegFpQ3Mk72p1F3YzQev+K7ol6GKIpwUOxhMOwy8p8SX6e9DNBv2+2oulonTXX\n",
       "AVSnZN9nkpVSsUgFukJ0x8a7l8WMOxnN+g+mUXhoy1EiEWNh0ic23PPss/+nxt0jpQASCDVtjWRL\n",
       "EghBAAAFNAGe6XRBLwAO7g13ZAAbttgmQBMzsbI0RdEd7AvYpUignXMXGJ1MKVATxH6rOr8r9mqm\n",
       "lkGeEBmuBMPPFUJGZgzr15xW4DkmeQTuWPnnoT/RQugCt4II8PG2jcMHZrE/EY6a5IYjECDO7eH6\n",
       "JY9W7fC3Y6RzF6t7uomIxwPAeorX9MDHhrmRKKyMBVbxALsG5hkUNkad8Intbk596q8iGlTUHORG\n",
       "m2VDfVe6RAdCWpZUsEYHAY9MTvHxL4nGYmAUuzqh6xwGHmW3RQN3tqstTnwARVLmCVoDjgq3ymxh\n",
       "Ig4e8k3UR8c6HOrobiHjwNjWR+RaJS4uFSib1CS0GS8grunAwZkqI9hsRMBmZ5gMpYpLpB+I6JHW\n",
       "yDEeL/E5p/1dUQAv6rXV8dAXsfOTr5igAhgUH899mUI60sA0tLIgXx9cU9fKlw+tiWTo2rp4AJBQ\n",
       "OriQ09p+kiFK+KHXwtre3uLD4DQPxWaww3nRtZCVMJFAKk1QVQKEl92bEPI4RSGkCrpZceeQ7hZj\n",
       "QN0+/CJLwvm1JMpv6G/ilu7W0sJETMllL0iotdO3C3vBW83mDAmAqTP2AumFPYEVELekrTPGdm76\n",
       "jA9kp6AgUQ4ZK248Jw9PY99FJbTZAOtj21zNH9wIA3NtS2p+f4HKqILiIHgSP0P5Z2ADDUn99rkW\n",
       "SHze4n8ZWigKQLd6/3hQwn3RKR/A4gwSv+w6/Y1TMHg0JdB6/Hdv6CjhqQPNr6dk+TaPgi2c0r6k\n",
       "V7RGHoMEI2ay+/joCNZhfAFLKNy+vto5PumY3KSMo6zdZ3rbvQ3R6O5sw/rA29pBFDinPL29SJo+\n",
       "GhIMy+Nx3julnZVYHRrRkCOAHR4/SQj0ga1IbN+ImyQvZaRTxow8T5CN6P32V5jLQ2hxtkSdi4HZ\n",
       "MLx2uWOk6FvaEN2MpWczz70Ius+KwtqxFYUtHBAxlF++Z3wMm392ubXlq7+BdulI29qwo44QSiv0\n",
       "34VP3aAxsnC8kqFfQhjc4gDguxQltkACAjc8iYcrX/NnJQNwnWg4mE/PNK734Zv3++Kd0gxTVhdG\n",
       "BARPlk3Zgra8c1fbw5fdhtGVWTM3YHIEaz9E2LCcd+BPYFPUwVf9ExhfC82D95lwyLrHsV6tPUdR\n",
       "rkGwuAPuxYvGWqUyETh82/uCVGGSOIIRmTMXkt+sddyudmAy82LUH86Ja75hzFLT4Pfzzue+TML+\n",
       "eAdcAqlY7WYC5CvHlEaQFBq0NIKub5GPx8FkYLtBjICBCCQ6lUwP5Y6Tg0xeiT1heT1xXFBihkQY\n",
       "yA9UImefj91+plzhmr2neYbYOfdXNGCDUN7y/TfZlAZuqMdBGwdmk+brKYhKjk2vyB3BQjcli7t0\n",
       "9nGY+vAwxgyPZbSYhNm8BW2kWrJmEQvJ2PetR90I5pGRxI5w/V91CJDVekBAmDxOT0JHN6Rlb/Ed\n",
       "04tCAP+tcsESsFiPDfJF+IxXEtzGu2nx7MBa/bNE7YxfNHTsafB2iRUNveRC0LPhTpXmOVQc5ER4\n",
       "riR91i9Nt/tp7lXZUHE5/YwYUXmIR85PzbnE3aPbNtzKYwxTGqsPxtL18/FQBDPS0BUrgYgjGZN7\n",
       "l4p1Yc+oTZFr/EWGsEQ8a4iS8oEJJyUYeoctEsv7FvS1y2c3Gq05jEPkijNfty5/v1oCavFRVQ1N\n",
       "MvklUwKtDCjU7P4pulRoF8IZNmHhFNHHIY/frkHpOiced3Tc5eUqXvWu2IBs8t8v5M32wVC4d5Tq\n",
       "LdP0wXTbDeZeky3yaeUtY39RzBWItLz7OaPLUwAABgYBnutqQS8ADu2RD7tSA1CWodEMG1mUAFyw\n",
       "uASsVApUxPH0b9ARShMbNrhIOB/w/TGYZ1obunujpm3GfbDaFb+OnE0BapNq+kxuZ2QgcaDaSg0N\n",
       "Jt9oH7+ryAbl/+5ppQ1KCErA51wvvrU1EPJiVanBeuhz24PxCj6g1Ss/tyYPFklamQateBqUnPCj\n",
       "Q66AiCKRERDg4B37s62wp0JoFnydRyOIzgvA0GFobYBkR1h6JVFst60G//lZ4Q/Z8YdShrKnWLzl\n",
       "/4sd3uyI8bRLGWNZ6c89IlLFZ8goL9On1C0/05FQsnAXrNgtgMCLr0diZQ3RUPqX1a9NMVKO8IAC\n",
       "VcuINjciH/0wCyxr5pc1DiojbkMDUKtGoVwm9qIT+tx7oC67frcACoXuHinTu5O8MU2FF8lycQRE\n",
       "Nif7KGjUm8+NgM1j6aiTOOn4b3ChPUXyL3O++LxbpHgBMWwliKkyF9HuB6nQgeJ9yemSzRbqL28f\n",
       "/biv/HFcgsj5rZCe+txMmgLKwg/fxgui8LQv1RBzB0FSu9DHQvF2K+uoWYo7Gimw847kYTD+q0K9\n",
       "d2v3g35b7mYxtaJXQnwKEj+TeIL445p0ZWc23/Jw7At6Da0oS0y56xt9tpeTK9lSxz9K1lVj2Khf\n",
       "fo8qCpDZMqBPJkxpzQHV0aYyTZP0+t9Ig+JF8qawrtp3unz1IzfgnQA3HSx09gLy6DfH0gZP0S1v\n",
       "V28mit7nLzgS4CKMg4vkW4EluUVmRwHMzhbyXw/+XJcngoEGvxer77Mgi9qVvj53lGStFFAmtYcL\n",
       "xlq1EJMx4fVQwG3GjMK3sFA8HRlnwZ1ERVKZxpHis3tPiNQallb0J9xzepVivjUWZqNHWIxLZtao\n",
       "tcuu4aFqvU+DtxXcAb1v2xb5vx9/sgkUSxEnYapvTYfZtelP3UT7bIh+L+GVqvOkvegZZfHasjCR\n",
       "+7OR/GTN/9b7LOoObGSBjP5l9wdganGNS6ElW+NIElfqSQe0NDInszuMkvnsRNyeMIyxlTcAZaiS\n",
       "cZh9c1INMmcY+xckSt+89bau2Skt3Km3wtoO61YciifrZvxSK4F5AuxPiBbULRfhN35LrSkNUPK8\n",
       "ZOHbSmYPNfmu7ExjhC7o+bELwXc9hocxBMCjFREd+bo0hkYwTGvm0qKk04DncKAuWNfRPtZ0Wewn\n",
       "vsevqJcgoD0k4Ti6imPK0SiTjHnkcelm5vK2K/ZQ3oQ6v8yxwudtzO5zkaIo5KN0UZKThFJNbh+O\n",
       "P2hHp5sGG5JLzlmSeC2f1OWnmYDaSVf9Op6gP/MQ3bB/9CzZ+fT9CsScZoEDTw8v53vTraxExFqO\n",
       "zDBHsffdcdtBcB/JbTrQliK5WRrKk9cdDMp3TITubBTd80Xmy8IO2q2qz6n1SRqtsWYHWFM96qx6\n",
       "t+suL+LEcBs0nEXn+Bvqv/MKTH5PHE5aVOLAQyhKxB0LwOZRfYKBMWdYw0ohQiMeGW3T+sw4D+ol\n",
       "sDQ730OsY3QlBECFQQJ5lc5wXqkT18ZXrpP7H0UgyCjS+sY8BJ8ca+Krp8xScAehR7YuxclALsLl\n",
       "y4ZeatWOnyXsERlWkvwSYeqYbp6vb8plAH0SYyGvqhKA/l8E0Y/webTkg8JCqpnxdGB/ptJIObL2\n",
       "hV5OGrtCPd/8XT49csfmAJzMn8j7zqKLiASLMtrIDiiu6ntvCPiGAgmkGViwtHqyX0RJCUToIOnh\n",
       "7WCrOYUaZj3quliGkacFz7D2TtZD7DxrKDMyor5HXz+Qr5nZ/dRiA9lU+7/5/DlnZYYK2zo47RBL\n",
       "j8chg9MgG1flKU2RoOEEMYZJSeQ20pk9c8ZM29XR1XkQGC/+kg2p0I5oY5RD50nGEzyO/Mlbeqvz\n",
       "rpqvUlzACLzLzt7VHEvzot7wyD9CH6qhews+kcOWuFJadxqoVbQS6N59P/zxKEtX6eavn+EAqb7D\n",
       "ePxwa08YU3psH/HtZZ6wia3N9ZbtninHf3mJAUIrs2T8zwWWYIhSXn3dfH2VD8hUYxgU7MMZ6GDM\n",
       "XLTwfYGhxXynzzb3jDaJ9K8VTanuOJtCC6jLwa8gJDkwaIAAAApWQZrwSahBbJlMCCf//rUqgCT4\n",
       "n/o13H6yAAnNeZzX7qsJWJIzaIjtUZpWYclNl1R1GJPA/XFXIS1f7FQa6mFyK1zcXGEVXpCDrFHb\n",
       "EvY9XsTAJ2ruUejp0eL6g8xtxn3Xwzw5lZMTAPkVQyISKDKPOOewBmgKNTZBW/DAI9Z8u3qyryMS\n",
       "2/rFZtwFs74quiX5GjzH4tThRJLFqCQq2rSKRdwaEU0A4orxi0x+vQX0MhO5iET8abCQ3ayUprEV\n",
       "8MGd36QdkNkkhdXvxXGOcLf9tGrhN/kG/LdTVMkb+ZgN0jPwrxdQ0UQiSzgL3OvCskcKPkpoUwBs\n",
       "o+MCPiM+jaODWNhDofuh2Hjv7c9O7umf9jfzOqw3oXcBNTxPqrmF5WJUihSu55LCPBfZCI64WciU\n",
       "Up3rf3efup69T06OcwK2PPeqE+jJ5/y7bpY8Puh6I7jFAPIcfLdnHGmqtWx/SaSfuxeIG3Tj6s7L\n",
       "Axhdf4H6H4M1+2HE+gar317eGMHnrLkf7u2Pn26q3fmzvqS4GBaITzoXolGvgfGwYueRLhmaZCNs\n",
       "yrLCXAyiZbyoQ0Lh3iBaKswpx32ctH5CCocyx0K5Xd/ohdma/SM/MFC3sKzxZI8SYwaHfY5bmW6x\n",
       "Mi9kyz6vMqM9WWYp6Y0euie+5OmH5tsFU71fxJ16/40sFu30Izo/BwGH9eod9cT4n5GWcNdlBd2a\n",
       "pMNSdS2gqwo7IYpCPwO7ou66DFtnLd90iy8AbKDJpQQxzxkAae5+8pibUgjZb8kCRdV9Y5Cmbk0O\n",
       "49oUBoT0nZ+LjZN69Sb3Fj3DfyVaTRtS4y9GNy/NF0IMWTNFt+QSvSCsvO50AwNQt6KiFk7ZEQE+\n",
       "TizhPEwkDOms8M1n/18QKLN07FA8b43RdkjdaowUAncJlsgu/DNkwV0l701GlbRqIhKfS9XAdiR/\n",
       "CTjVYzRDtR7/VdJDb0ARoez0dHLRf+zwU9wU/xtPbvQw2p1ygIdHo9MsmUb7Pm6rXz9B668e+Msd\n",
       "wadZjGHI9hDmnzjWkIAanqOvT3sAIAZdFTt5R/yDnMq3bu9fiOK5HXkegTJcBh+pyvogeQRQiCot\n",
       "fM8ewG0xLKT9uJgfqmjqMj+W/8vMqSYJ6fETl8eA48qCib/eA+nXEez4Duj9NZrmvPf26sIPGV/5\n",
       "g16d1FDtRTNfSgmCaw3zQkV/HGzP7oRliksxjdYAsv/pI+zIRC3w+icGZfDhwZuj2bahW0GaTUcw\n",
       "Q6AljOwaPOQUpR2N9+p0Tfe3gLKB2NNB1bM6dpgaRpmjgZcQmqef01/cKQ59YWbEe5h7lk9fUX64\n",
       "oMRDQpHIN+POup4GG/Ac9iqTZqTJCTITqPT0CVWKljNhgsFMkrsavqakO41fYuHJbJjeAUvg6D1T\n",
       "auZD7f2D9ttinE6/dGbK6AqDMG8YDbhfs7XuM8JqRhuP5bWS4moCv2CgfpuBPRVZumZDWzu0VBxH\n",
       "7xpaGtQFiJjvOLwPb8rDCnGK6QQRI2o2KFWniGK120PGBASutYAs/U7bfL9J8V3cIEXGvHYSBQd4\n",
       "HL3Dzm72HL09+sBGEeUqnWqQxUXDvBZX3L7eDRCqLWqeE91F2VnnKvAfLH067lIR6TzmCzS63Qbg\n",
       "Xr3BdtZh+2vXsbJN7l2c5vSe88FPsqXd9go5UbjD03EnYJlny5HWoLcEIR29/XBY+reXdT3/WxRJ\n",
       "FnZMBNkLQkAmGl2UmKXH66DZE74lZK8x4tM4ah1Cs1RRxP279DNqw7DuEpnaGy3Rn0LJzMDPk2RD\n",
       "6tnVuZLiHntZLl4IASCVSufqPa1a9ADCnP/RDWEAtQTwfIHkQGvpT3eyMfSjAuU6wKo5SAn6aI7R\n",
       "HMGuPqV3awXFaGm/bnpTWmUI3/GOYLNivouDcbJyecZwgk9QliNagYjBM3QGOoPH0WWsUnaVjyT+\n",
       "WDANHulC1dgXiguEJ6UASY1NVHGb4MB5POHlrZh3U8Cv6th1PaCVvISkWOBWLojvvVGjDpjz7IW6\n",
       "11Nd1pSKcx4MK3+ERdvHauYRLKkqwC1zWRXZhN3IN3zgPjNygyg6ExbaW72KWtG1EOyCqf8P53YB\n",
       "gBQEpgMdXj2EwiIbs/h5PQ6v/mHEz3E+QEMNMwPpMxEXL4DUVnh2zclk+4rkYnGwP5+n/QGQO+Nb\n",
       "jxLXrx/CIUt/zN+K8/M/gLvGY+uUSlp7HK5wWOkfn5eSpfUJwr6VQeu2RVqroZGDNZGG3/sm5//Z\n",
       "x09kAMbLkHUKwR/osCn4rb8wHM3bVmT42A/KMA6t+QUFqHit6CKNtrfdMWWYZHRh7P9kUXoNQM6A\n",
       "6jWrs06d8Lax3yXieCrvStpOzJR4fB/4QtVRzrFlVIgg1jjgQ/4T5HQLokumZueMAUh9RXg5a7eU\n",
       "xssyR0mWMrHnGcwlcdaYCpw1ApoBXFS2Sso3osSGGFLzSMnbfQocWT1QZ4Way1pCrCO7ll7hzJx1\n",
       "l3nVq7A+Zs/4EopdZCjQ179mGICIXoSWev82y4JGBmRc6RmLotqxvBV7Q+1Hrq4NfnNMex3woMCJ\n",
       "w6+mNxMiyr7YSuVOYxkooPsM/Thcfl6N3pNCZBVmuZoqbDeMXRHizRKZ94Im0AiA24D+aSNndYUY\n",
       "kp+KDsoYYHUYhwd0+SuaV7bn/OtS68qNzkkA9Llb8pMDhtMISroUG11U64yLI2goDCk/gJeGExBc\n",
       "dbmiGwQmN26vXF7dPURnV00o/JnUT1MhYmsmybIw8TWOa8xq93fBs2TU5HdKu/PvDAgtDgolLchR\n",
       "ciVqBorfSV17TKtJO83zhunBV69Iew5Ci5ylo0aZ54P+EHtz4yZHRA8mJK1XfkwHd++/gTNqh/AY\n",
       "wiK1Ad7JpBvPVYJ90VdNY0WKF2w+iNaB0ipxnB686WwTUJgtIpmyNcfKHN/j+h5+g1Zr9uSOcDHT\n",
       "jTJYZ+/KqmhfN3PafEVpdhsn7ke4FyextREFwSwAALq+9DuSJN/qylfz1pC+sQQDn8d+IIFUBPMY\n",
       "OnuIl8RGW9MFoLqmHv236kPJBRWk+uUqrTrWmCf5zJLhjFjJuPMuryw0mqnE0nNCgWlve8Ik2bPW\n",
       "xQUTueALcDw/l4GhgZ9RW6Nx+X9jlMQsIkY+WloTg+zk4pk6fRwKIhJP///7mKBuHFJRDHYM7L6r\n",
       "iJ44213CmHAcOwno8gOKbjuX9GgJ0hv6NBX3xaSyksw/iSmoXihBfEKuTPJXWPAOHJAMi5Lygkq8\n",
       "oQFA9l3IjJuiffvwaPhOSeAaQF0xOvt+Om6Jn6jWyiQZUjMQ03+8KwaI+8DJxBfkivHgdrNfPBvh\n",
       "YbvQj57w3lhWOA6F2p2Fy1bciHR1Ko6ftTLW3BtK5zlMU/KdcVt5ZLqeo7lIiyoNaSHnWO4p6lIq\n",
       "Is8xot98YHoBvWSY+zrccXIER/v9wfIWcL3Ayg2SAYSLqjAZ43uRRFI2ybEGgQJO9u3Xf5G6jB+R\n",
       "2Qi4X+PvNgEbi14wywObBY49s2uYPHcawBzcIv+7gkdZot5KlPyUXjPi4WvhN4Gpcbl7qv11T9tV\n",
       "aTXdS/0hAAAIqUGfDkUVLBT/AAVm+cYWRHAARlvwaVLltTmQrmYi6fDB+XfhYJ7ai57BkpFCrECs\n",
       "G6weMBQilewpY8QF+aRIccsw+cSE3034zaLJ+ROGlFzjrLhAMPg7dd+u3jkntaZ8bVXf4Y4Pz79K\n",
       "R3jla2et0Eg/NuaLl+UqWNg/+wmUX+i08LnJUmKbJQ4mqFCs+iHNrcNzLjuqfuJCT4VyAflADF/5\n",
       "gXge0AgJD8D/DSoeEf5/lotfRFsD6eEYi1n8uFTeGdh8muN5oSl1eKk0+roo8yu4iS7vWnVLUhES\n",
       "3ivdSLprIiZMXSEqwSmkpW6JMUibiRRmUg2CumEEp+iRiTEuIS6aO9kKegf4nXKeF0w5seZ6amO0\n",
       "rIEzM/2ijMkzaBHP4b0F1sXI47AxlYeyrTkDAstyRia/HL+uPpLxEPgcZrAVwlfjBEep7blZ2FCj\n",
       "enYXwJmCc7LuCo0iG9cxQMgUdxtQ2DxiuChXUGhsHOIAucGvGYL+Fv69xYLfyaCgIIxf+bevgOWy\n",
       "VDbJidz0efJ35qpV9hrZ4+BgUDyQSU4WWZY4hiWDOTLMINe0KXAvTcu9Ib/GVMqc6aMr+ppjfOtc\n",
       "pfdU8tq6TaJWX52/D6aFeUTIqyCFBN5OKm1APq7Amp7bCixRaZRavgpkaiJHZcGhYxvJuxwYR9eP\n",
       "w8qYqEm23XLVTaK2ZDiXXmoVCK1+LQNnS1+LT6O01Na2LfLVSr4x9VRoT5NozfDl4o/6XsHPrOxf\n",
       "0VIPwHK/Zv6SEl0c0Nqxvdr8v2tecqco6ZUnlelod4wSuoQ5PbbV8jzW/zkA7SDnONIxh7XGInvk\n",
       "Y2FCsLarmPoki6u3UeDvxojo3i2cDlGsLdeGCKnbFrmjiKPQ4IS503l2gyNzsXkKl1X48I8fEHFj\n",
       "0Dx9R7cJkCtP1Zju78jACr6pMQUzD5MAiBko2tuU2L3ymkUEgLc7rFq3nfadxexiOcH/LjhggRJ6\n",
       "DuW5hTVnibzJ3915pDpepo0Q8mG3qV7Gt231XnR9+74GsCgLtzfClGFfyFc9h+8Up0Uw/MnkRXm0\n",
       "x/crQvtXdIdofW5jqwhS+PwXdxZeiHFLidoWTpX+kw4ZTi37xVIjSlq0GVrHvv1FYMVJfjfESTuV\n",
       "eHoFmFvVFHwXss48Iy36P2OazZOT4IzcNbgqAQYBDAc3MxuQFAsh2Hh0mo0KNVtB+4c6M78eBybs\n",
       "PFaJJDDSKkU8KUhypmI5NeYo7L10T2Yn1u8/HTY8qK90lyNbvA89imD8HIn5hTZExi8nYOGYMAsb\n",
       "C7Fu6DFWO4F+ljFLCDRuYS8cKXWvTBMs1dcuEm7WLv03aQu2IgQ4n87IN37DL+cKWiEPtJbIp185\n",
       "NUAAItLEV3NNBeq66ZGXFym80wpXVWbDb+K/gCJ6r9vbqCJEWsfgsZ8Fj5gjgk39ywFKAzjwz5GU\n",
       "W9aGdlcdgAhqMqlQovJTJ1ZD2wF4M2V+oqY5DXi+0lwHwoRNL2taTfRLa1JvJzTsRtk+CwGxmiWk\n",
       "3HUF2NI3S53odtE3mjwVopJLbnyl6W5LFarcjrIf1t/6dIlR3enWez/Ki1wMl/w2VcyuYtsxcU72\n",
       "B37sF6oslt1EXkqodbl6CwXf11eqeFnFu6mPnl4azLG4PfMLtIza1j4O24m0OA7f8Loq1VFHW7rm\n",
       "YU7eAlSWqxeFgO8zgJEsSZ4g9UfdGOUd0TEtN/WH4q0ED6A5OLjjWvhgNTrCh+L37xcIzIARsbyZ\n",
       "MAxL1qaSBZogMDrKimhS0xpc7XbUoHNQzhT1g5fz4IBKF57M87vtr/mLEFgYj4kMJDMfwgCZDktu\n",
       "CdhGWFZl8MLbiHGYZ8VOw0xpZecDlrqMxbdduS4JJRkSD2BPNYt6jzPIuXLBgQ7mtkh4EyRrWc46\n",
       "4yDFdrms+/fH8tm7X/6WEqt/2q5tCXNQwarXFjCGAzRfs4/yQ5qd5MiTvBX/GM4P0qX7Q2hhImzR\n",
       "9UemGU4jrQq0TpiXz4iV/tGmLP+qs1KeA2QYHqY7EadYTJIXYmHSDOfMOZHeWUTVKzgHmm8WMDSb\n",
       "tKu0XxQbn2QOoRqSCUB/HZzI2T27FPlB/KKqhBa2ahbK/0okamS+bTSsMA2UUhTfTOw19PvBB5ty\n",
       "l9PLzCbPx9lEnDDdoK5Mhdjf0bs9S80tNS1muWqkwVPCm5J2i9FKJfiH28bNQqnVW5MpFwvnHEhc\n",
       "04WBVo326RnyZRAhfKVF8BXtzjowaNa0589b7zp5L6BXjUftu79qrzZ0i/EmUdR1pBadQDaLLyTf\n",
       "pHWgtNvXeGnJlW/qFi+k+PJpZOUGPbfyphYT/9uoNcNXzhsw6gT9YXZP/dbwVDPr+2IYT/4vqvTu\n",
       "Fha5EQEucu2okAI9Xz7aK7WFnddabtCGYJV4WUpyCVTgtcuRGiJTiLKZDlmeY9/KU24vfMQMEbjt\n",
       "yngafTQv2Y+AM2YaxT/O49XTyzohIkH4lkfZFPUvkf3rVXNb0+lMjF9nwA7UMrf6zejChd5ZdTT5\n",
       "6ubmhFZlSiW4ppRrPKgfEjDJ+B1DF9R6CuCaBcqdXsLsc69gLh0FqrX6wgYfgesLwxk+oPtQsIR6\n",
       "yMt0HjjDjYgKrcp7ytzgx5TF6AqbW5u6OQGUADGFlOqxmGJntLxh+n1b7TzaSsCg0JNslOLiVEjG\n",
       "tZRepV2giBCVhGnG/KhpLhpPNN3BnOPpJ1KpwPaXphiij45Eqd5869/WkKQPx79qL8puhUQE8XY5\n",
       "CgYY+jANzLsjHh0J5Um710cHjrHuul3+gXmGzZ6Pu452SDFfDXjv76W81hSPlTkWmlysvKTpL9RN\n",
       "kQ6/pHmn6y0cP3Su5Z0vW5YqGtjR8WgwZRSC8vhdxrCLNeAdzn5msmNhgYEXSu2Y4LH9XjP22dmg\n",
       "jgvVvSwKMcsZGNQSrK/4x4mGl2v2Vr/GbRiuiVK0oyJy6lZjClJ5cE6uFz5FHYq9zWdO2EYi7RMV\n",
       "cnHDSQAACA0Bny10QS8ADu7Vuf7Wn097yJm2WppVUsDBvrMqm+h2ACWt3n3QQHacJ/QO5dD8GYqT\n",
       "PlNZ28wGBOK4o9+1rEQ4n+Vle0vfMDc6750zKOD8rfnNr6j7QVb50GQiwYq4bhf3dDRA1cJK4y2c\n",
       "3TJiWQB1vqZKobHeONHFlzs0UE5aw/FNVS/m/Iyq47iQciomvrw61Y0nbSNPWlkC/08jAswE/DhQ\n",
       "ejFbkbLZDVJ12exuM4AaWCBB5u/rmuGGZEA1t24gEqSGn/ZldqPOfchLbDxCsIhmFbxnz9ujHLtA\n",
       "5znaZwzdKVrWW/xGSnQvRcRjv62eaU0juQ6bWuHD+0LDfhqMfrVa2cxcWfB4k8Ug7AKwuXgbaSFY\n",
       "ViVMqoFBEEVU31rbtiWxcwjseg4nbwQSqVMj8eivLDoCSpcWhVq3GNigb/vv+s8IRThxqveHJOp7\n",
       "yYlbwg+q1/ZdQEY0nnGw00OjhOXVA7PEqBIJ3Hy3Q7ZAObJs7Cir1v3085qm34mcrnDNo9LDSsKo\n",
       "raVvVFLmg32ZUnqKZ45oY66Rp28NOjY0fldAlth5Uvb0vIViK8dK071+cqjJTffrqN0N5EIsGwAO\n",
       "NSvPXKCa7ApZA0jYGcDRUdXF0jVBd3xFySX4F+zc9me45CVAUYg0pDv5ZAc2sAXR+PfoL8kstoVw\n",
       "njPtO2Cpkl65eR7TQQN7tGxuog5hQi+ByatPq6YCnp7z0Hn2huBEsGZ4fvHwkBwWwat8J+VMblKc\n",
       "hwNI46+eErTPZKKPSyTtGvL+pCp2JAepIKKY+fKKe/NEjkBLThHuJdJi91Rdamk9syWI557nW7U4\n",
       "umbji+09bAaTLnGEE55KftbfGJZTmHvVm5tkYDNIjgja7lt9R0SzmmtwrgyPQDakcraUXM4k/CaO\n",
       "yJx59VECnsQ9hJtuOhY3tT54+7qzfPl2sw/jQcD6i2nX3/Q8sLk1LayZ3Yrs+gh0DS1eBTS7aXkQ\n",
       "WZ+cjjPFR37h9RwsLZCs/++b+KMAhdtjJXhwQ/hrjIAmcg7GxByrEZRW9GTM9cifYHyNb8R9PShW\n",
       "lbThT9x/eTxad1G35JuXpg+Ua3CU/h0A8bnviUU3wqVPuer4mPGzmc+DyQUSVuKwJ0FZdtKD47XO\n",
       "UA0aMu9ZF58y5wzYZr4dhOyt0257EUlhLP9xeEcECv8Vm5LZiznG0Gscd5/cLnO+FrDs2ywFBDt0\n",
       "kRFV0mXbJce01+uM4aafiDz3zJ0+jVPwB1WTEZPA5AC9qsWFWqHvEWzZMTXBZiwj7bZqcmosm0P/\n",
       "ENn+90NsLm8xPgFEyvXJPFN/BQKNabDzf+weV1YhdCTivdhAztr+Cptoq/FlMPVTipm/RYqxkG7X\n",
       "YnYQKLVcWLxi6OPYl04BNyTvOdL4ibqNBEBmg6QKgwR+k1h5bv173lTsWDT826hQyp0y7s8KQo52\n",
       "eEmNF+eqNebizHry1GNd5hF0sEUWR9WkXGzETgv4Wv84aR7OjIkIsuXZjHqSlIOFD9fDwb6DaY6+\n",
       "hQ3mvVzfV2whreGhsqVOHz13rYKTSwIbFNlJwf7tPE8nDvP/Oe5s+fmoUz7wC1oPjHU71dmbELSK\n",
       "HoGZmzt34sJsZbTxXmO2duzyzlpRgmmbHAUHop/9mwPXE30G1BtjOcKKtZwxgDt8hUGdCJqBQNoB\n",
       "+krJjWmSmXmq/z9fTuVXJkgjvfhSmLsSxgdvu5T23duR5iDa0+GCMlWo7RLC2e4fMGSRmguLlouS\n",
       "Qyuw0zjOJi+kiPR9UCvgXixEC92zi54aqX/2EijDbGCuRCQWnzsCwkGHL/Nj0yBuqCI6ATd+D9BS\n",
       "8PR51kaWjxdny29OqoCpq7AVNPpRXObut/uHdIkTpKN1Fv1h/U3B+hrGu1Fds9yFbyTOtzKTHvHR\n",
       "+NI/U/I4NtW+nwI+o7dJILDtFLATxmwNF2Q94nPV1GHa5h25eCXnWLEyAXyjbKXIaMYkVIhjDiRP\n",
       "sXhoOzTYGmEDXQxaMq0TngYWemBoBJMCc0jH6t0LtowAp65SUcuKJ+95WCtjmoH3F+g8NAv54oWJ\n",
       "nN5D/3Ovt558fPZZUtmb3bLK0lO2jpCzuwy99hp7lOFG6AQMvTVDywIyX9x7LHmCE8946+4IOuOr\n",
       "cep0cbHBISzKWLas7PiIjjgh8TC7R30ki8peQu//bf2uIu2tl0ivIPhdwWN/CUdBEoMZA8vpZv1g\n",
       "N2FnVMd/RbG1SQk+U5K29q8u9sctXW4DzOvzgSSS1ps/socnaVpO39/cSl+h4gyGyIITjTJWDyd+\n",
       "hwc+Y2/EQj/MO+sKtu91/ncvKcn8cUqUgUYFbVD/LHCXS5KWkWARZ4UYHCz8i+K3KmUuyd4eropP\n",
       "t7SlYQ/KfkJcnylqLmMiLljAuTcwv3edcnB+AOydL2cmdHz+QbofuxMm7JUk4AQNQxHoFIvVQ2UA\n",
       "bCEERDAXOe5i6touH/erU/Zo96W3L3lJogHcznGzm1KajEbRnlZIn1tPSHOno6G/gU6PLvFZB6zk\n",
       "ptNrvkuSGHc1kHWv2ooT50QxznA/3UibqUQcQV8IcsdVjz7PJP1RteQe/mhS8QRtrwayN5R154WK\n",
       "L1qlRw45T+WOxBF+0p8P3BdwKFWlQXFEygtDDA/LnoHLrauyyeHTgcORWBshtIiiX/s/JYSsriPW\n",
       "XBnlMDx6jUxSkZsQV7kx0HIAqiLBkUW1lG9AiQmR6TdvQmC8JI4qWnPRrCPJKK6+OKoKiuAhzEHU\n",
       "/MtHIS0RfddOqAPrpgFyRqEAAAlfAZ8vakEvAA7tkSc+xvQ/eiMAgA/kHyDIklhif3L8HRb4ODOm\n",
       "W0omQP2V78VyaSfQayr9QeH1MVqCLNMLhpbZmkE+b3H4T4Th+C1lRd6xor+poH3A3M+IhXY0SfKK\n",
       "to4kLYAndGIQt3JM8AjwPGGRY3LrysKI00VbsFd42wS8MLv1ht1sEKkBVSSbqtldZMhJ4iUYzDUB\n",
       "SL/T2Nrto3H6/d3GEywA7yvnwuSU47rKEfmVIJS4AvfmUOXEY+Yb5FVaslD84IiAzxDTprc5xstY\n",
       "bpZNqh4PaRwl+TtbFo5BAeujw31DjHWKqU6hXg3pWNgaqQQBKUuMtn/wewVZ6G49EIN9pvAVB34P\n",
       "KnP73GVdL4sG12R87N7/mesolNleCuDz4KACNlUWhjE7gNxwSbg6EaUZPuL7MRMVbGX3shf+rB/e\n",
       "PKThIcR2PdtJ/S1O0B+K5R7xQYZImzKhhN8B2IZcm8GdTClIDXKz/MCn5W+PmZVHXKA1GOqvdcC8\n",
       "fIe/o+jFR6Ey45puz2L40VDM+sN2sZUvpNK3kfgOB2KJG5CdYFm5P2OXerfyEZbiaj13KSJ1G2hs\n",
       "xLUtzSLt7KItxTV8Scy9afqUNeGsd5OljaVIvusLacnPMu5Q3JPewi9wBerqBRJmfyFz/XaC13CS\n",
       "fcPshqB2k9siz3BgGfFDJQ7duSI6N1Nn2j61h0Ey0jExpkQPfysHNB6/PrnvDl4wESha3vCgYpPx\n",
       "v2l289xx5zM5zw4MRUG7QJERfwfnFpWimEPp18dybox5dRDjXJRn70MTtFDS8dxuiYTceLX7cdzn\n",
       "xtAJFYA2feEaG686y+woIkScQRRo76TiuCvPig51ncc7eQpksOeps+tKp7hrEOvoYRTsVD9sEhn9\n",
       "VfnSKRBujGmbji8ubIB5t++mj30fltgR29eAVpe4m32Dk0j3vg8EicsTa+BneNhMqBHhgmJMGRFk\n",
       "1G2NkpP58JmzBjxzV1TZiiw3bOaQnMuCJxw99xHpU/LFKTU+wDS05mFvJ1jwD57tiQpLbVSvtu9f\n",
       "yDVaQ+zquydAFk04d17znjHaSITks+9q7EOvagMKZE48JAzU1VoNVoj4KlNnY+a4kmR9MowyhwRx\n",
       "nNxThzkyM0VkSMLGzbZ0xT6++BRgrZEnCP6kXlEUFzhOZ5llK3nleHnf6flKWcB/yCwU82HcWsRe\n",
       "42W0XJzThL1ZrNa/KPwJJ15tYLuksB4zXbH4fU+TFlRCPbIvbM6VeFKfHww947hgYr1wIo2whagD\n",
       "X6mddE1uzIDbLzDxN+WbixIe57wL9tP9qkxXmHeBbMctgit7gJe9070WZDnUBMjkbkp8F2Cas6jZ\n",
       "7F2Bjy9jJ5BZQAtinSv/67aE4MmZICaLF9AjRXE9KhvXhD0nGxsBQNA5QTn+x/crYF5sX8OMDNVJ\n",
       "rqbtFGX45usBsFbsa5mmjk3SBhWnyV4gIoqc9gBlBLkeqqPWbrNBKqiswGSxZtm2gSKY0KqRxwNH\n",
       "kDAcfPfhQo7yqWThGdVs6eBs6cxK0lpuO4c3FWxhJiZEYgeBTVkI3dNgvikSBql4zLhChuXqyZly\n",
       "wnHs87ti+iGirCROG3RgEFxf34/rrZMp6OStO+TP+cWSSzKVhWG7I7HAc9OfZpDgFF0qJgwl8ong\n",
       "IzLX2/wo+JcXsdgXL6DZ/b04qJUQ0gH72yP78QbXXJT3nqxqnZp/klsaguqUR2XSaABo1OTePz1N\n",
       "LC5gldzYirTmwlP58SAm6/TBXSBwd12+qfJW/1A1ETzYNZqm7yQ+j/NA8opcYvMwpsd7n6F4enjK\n",
       "Lyqm3PtJ6/eIN2YJJs/cZEv6M5pZm6rCwut5XkS6QTPHLXqKVLSn3IVIMWG7rJltmZ8rHZnRzesK\n",
       "uxNv0zQTYCWJEjNPfqqMnYTtqVKAB9AKlQF19Cx0RcB+FOPdD1hx8iSZW4j2BlfaEG2Kjr1j8K98\n",
       "0NqmdsmnNlgMtVCm0dwxG23LhJ3KgUk0m0o2Cc4Rhsy7ATgnKBCXfCxLEdy4x3F+8FbVrMf11SUs\n",
       "pbuav2laRu8XQ7koRpPE6bc34bOrz3dIACmYbz1O4p+FEBBVAzm23UKGHOQx4tTBndnHaZur3nqw\n",
       "Yf9ARLa4SBy+F2fVVkLqdB2ne4loXmrp0n3oxYwyRP1qgCWiCWVHlWcnaBd3dqW8EjV5UcOvNY1T\n",
       "SrKW4AIC8JYHkLEsgzL5x0CsGM0BSMWXq/sGMqDlseSB64hu8Lp1vXFlmuiBFRzV6QmAgoNG25Y8\n",
       "bC4UUy/yXBn6WZeunjcm5In5vbu2yYLSqxKFMLVYvYIEpZsd/5kAA02f3SXKPBQqJnZMVVsf8ZE3\n",
       "JDkqhHj70IE40OYUebP5UGquLmaWAzWTE90nuwyJ5MNiyV4xrWXxlEvuENVZBbHbFLLn88p2U87y\n",
       "ZklTfZN92/UNEr1M5WuxcguTTSY0t23sTVaVs+cxfYHIi4YdfSE93bNmu3skrxZvrdoVfk30dIIR\n",
       "XyLQgMkoQKdNFMqP2XStcT0Y4CUthGurbpd4982gaO2DM346N7olMckdnbk/2hc+YOJUy3VIuA9K\n",
       "dV5VvnFEBaEHmKOyZnB/JVJEG3iLD35ZIiuCFCNdfPnyIIyxVD/O+6J25YfwOZDWec4HBsKgtZ5j\n",
       "ds4iYgp7JwwcENt0vdWUQXcI8KNkQWA7mNIMx/J/L4i1XHQUcSIR4qZKDyx09Q9FHq/C3X2+RiYf\n",
       "qzqF/aAAnZVuRTZf7vg22+420UeVIBn+oLzZe5frQqd3qMYieNj2EIWdEuz/Vc1JQFVrxttMjXzy\n",
       "3U15/eAP6IYtv0lhkQwG/Z2n6RTF0ay7zoytaX4y1wLRMmxaLQ2Y7ksFlm0EZQiOBu5stMQNd/BW\n",
       "O1A+O2DLvkHAHQ5kjjy3s6PfmVdF+uwu7x/siv22j6Cf06IMk+rbq+Jw3q53UXXoPAk44H3gt2x3\n",
       "i2/dmhxOwa3Yn0nxB1xtug2T2hlaSnz0n4qLc17ieR0GDfZHuN5vPEzsV/QuV+Eno0z5sgueAmSH\n",
       "xN7bHYvwpdIYnoCWk8K6jBMqmN0QumtPkKZpmA8WnY2sozd2ayj4PBFAQJ7TNNpegP1Ui6W4p/wB\n",
       "fhmY6Sq9ukwkxQquDqcg20z88XOBM2nt3zv9AWQLgM6vpi4Z0kDInVemLIvJsFzT6a0Zd6wdnzaL\n",
       "EvbEFONvJK317USKB3jY/nvc9ed469cbT1MAAApgQZszSahBbJlMCCX//rUqgCT+iIB1nTuroLGU\n",
       "NL2t194+EALMg1yV2R9JvQtLrRooCDaSVy1SpcqDmfnaZep/oeMCSmatjufOT+jTYyyPCWmDPGcM\n",
       "yk7TM72alclTcuVQ4e+YJh9/FSdci1+xvG8aFsU8YSvj2YQSvLNZ/q4z26u9hL4PBD5ysqs5k2xn\n",
       "zaA4U4N/PZFoo58YWcXkjb9RKzqPOsZh/XYA+O04oB+wuoh8SwIfXVrKuaHbDesliSIlbG9g9s6v\n",
       "zSz50tBInMjSBZHhOMY2CRoinO7A46NZszgxfCeZDJjWJsfZm2fyn4fO+GDNJEECMbdzZpahsV3a\n",
       "LvxoXi0on9ysu6+dqZQPtmU4gQeDAooxsRTLJL9MA1xWx2ftqdtYoL/nUaTASi8jvgsQsFUhk667\n",
       "asM9rdho+Yv5p7KKhhuVha0ITfzN4n+GgaBIFJCPIX2iDg1LJ1nI9A7xVX3nGppltNw4n666rP52\n",
       "eGBHajUeuX0IkN5GO6R+QHRq7qm/Q16bwtj/44DbY0jAK/AQRY6jf1qN7Qhhd3tWdpBWKeyBgoBp\n",
       "3Q2XPyOBACX3GSO9yt8BoRrVRe4cab+nxPlFT0+xZ77/s34emYwVG0m+4Da4X4J1coChdVd3Ut2Z\n",
       "thgp0mz+t6YgnIO2AiB6hQNcJH7MfBVXU0G4kYLzDI97bNDLIsUpG1zCJvb/4LU1NZjdTNr63Usm\n",
       "ZA9+nXesKguR+ICCDprWDwKD0lLpHjfd2Ofvu00TqR+dXcYCAy1PaQr1xTSAVRFAH1p9l4yintvq\n",
       "bttzSLHGuaGpc2DMMZugzDa/0E9u88T+k0jxF+8MOSerq811fkLqPdgZfuC6Qrqn794wZY9d31/d\n",
       "OF37GY50RSJYVUhPCYbuCP5TgQMwdT4iu/NQdeGZUREl3JwX7gQBXiwZcECyZ1YGpVkDKqjdCyed\n",
       "F3ge5V4m0bdaWvuZ3umgw4KUB0Q3NCoR3914B0XR4szw3ktVhemlMKMyb6SQAGu1dVd+NKmJOJm7\n",
       "JBySmdpogSXFgkFOUvxYw43PUrQXbEHqPvCC6eXt4MsacTE3idsqXzxquudLkNwgTx3vD67mEkzd\n",
       "jUjuG7DkL+G6fTYtxrRhJkRt3kB2xtla70GbqxSctj4wlLcVFsN1C0Evxn24jsqmo/oVnApved0h\n",
       "oN7FsLp2omUw4WtyT4lM8gZjzSK5FA2OhFT1FO9s0xeMDGMOm6tYAVeXWmQGT48I8Ua6Fel0MyHg\n",
       "PNt+JpMiIoNAIa1N5+CkrARkQiDU2fqcdlQSag+DvLn58FWgmjCPoRJk2bRO5s331yqlBPWCpt4v\n",
       "H/5GpvISiVm1YSgy/IOQ5SAQfxVuGA2SHx0uCvd1p3GbIUUEfWglEE//SLrvYHoY8LXTcVPlTeuH\n",
       "BdAy3HynQ+bAsMuZ5j8u8EBzz1QO6MfVHDC5tgotOitmh4FCwIQRf3DYzmMuZJ1QMv/PB+kU5qkr\n",
       "ijwMuNtbM8XJcViVeT5HzVnGkX1/476je2qh4j1AVnYK2ofESDjIF5TRMeyOh5aoJueVKl9HJ+Sd\n",
       "7PyrcZoD+Cccm7oQCwuKgYJ7i5NI0CD2nELorbFs9Zv+HxrD17vvez1NEGsRgyIr8nS8UXtg7CuE\n",
       "QcXgSehdXN0iYF6UHM6CvgJjHgUuoZFEJvvw6wwtEHrgasYLFJ/sB/lviYawoAddUGLuxgt6Rbkv\n",
       "pq75HNaTjpAB83Mtznuwngm1pXNAiyMQIoByps45PAjjoQfozUO0Ct5VaVq/DLGtq/ISkAMBmtcd\n",
       "sCv15re3MLX8SGBYefWCxJPQQHHpfV1Taj0bWfNcCUbmPJogNLu+/k+HZP/qKNbeYkmF7xzGLpYq\n",
       "zP4BVd0sYLTeZnQWO36kkHX/2x2ecYDtqya68wHbqbrK3+1WPFcxv3JaURbpsI8UakVdTBLQ8+5p\n",
       "yMaS2T37vv7Y4/tTOC82I6h3GuRGk8H2fnbLMMR9+teM+6JV0rcU3yPwp+mIxljEsu7kjAqYZ0iH\n",
       "X6zYAo+/zm/qH3hTGK74SwGRxyv+kvv+W79G2sgAaYrQm+IMHcv2LI69i3BYeptJboGTBLv3ikfV\n",
       "1QhQ9QiBMc4NISURLMU2KnSgJQ2ud0ElbDPpYy0azCEp3icMVT8LZnW+dRuz929DeKSF7O5y2tPu\n",
       "og4s8USd/pl7HfDxO4eT/iKTWkTdYTASluarHwHblz217tFfI57ivaFW+oFSCt5YGQFQR8JmpAHU\n",
       "ElASwgA0IIgHywvcU0ZqqBOf3etcQBuFAugTr1J7HQEJOXpjlXZ4SBqG9M5d5l0s5P4ve58lmoR7\n",
       "vbvbCtste1tjcqTaIHub723l/ZTE858vK0lDQkMQoon2GNLWl1NLHlQMq2iAf7BIUEnQuzUHRQUQ\n",
       "KOrmK5SaakeVnX8j0+tpBFJnZuMSWyUhtXCYvvfqA1aC01ytK8YXlJcW4MJpqk7gbFZyCd+oK7lj\n",
       "B+ek2k00rRC6nuNsSDZLqsHlwwj61bFFffXgKwGyqf68p8M4pgPn/s5ivWtbfnzrIRfAWg/cBJA/\n",
       "nR+khDb/l9WZSsv7wehLDJHyypY0tzoB8ifd409bOBwaZ2YixsW0dTrhdbrfZ3eZtJh+GSJKWOJu\n",
       "g+w1bV/RjJNq+3AH/lyaNzC4wbTLvf6VntQuNeJ4VbI/y2U9rDSwCqfO/qgd16HIdURHwXgr+evh\n",
       "2jhPZjG+4hxW62wEmWPoJpKfgJhHe9DGqv76z9WbaIpc8N9RCOIm5fGJ2aCMfUlXlvIz4SAWSOVR\n",
       "PNylDnW15OMR/JbGReMpIErkbAXDbJX3FbFtimcot2a+cnQWaD5C7crISZ0dCbUjdeMUV3TXe/J1\n",
       "L18QKOSlHztz5i70vkjAqUbE6gwuz1OzB+8HGYZlqUjt9V24BkWow3Qa1tEcHhaTFXUZ3kra3aBQ\n",
       "ChQPbEwfmr7ZiKKGk3fXldg5PDzQzk7cmbEcXv1L/t1MUSKBvYYmZ0KZnyh9zpatMM+K7CKiGSbI\n",
       "Sqy3YTulsD6GIRpGbgT50nf5tq6mjhkjRFbNrHwYMjvCgCGfUwiCVcn0pJFMV7nGG+CXz5g4S08m\n",
       "+L+ha3fVjHz53aSQy4kS7hJlh5GU1igDvoL5Z50rP5VPzV30oiqwgvAR4/X8kIVN0b+vzYbCTxcn\n",
       "fRjSRluMqxOzmexOjr4+DFsB6foZGUmIA5ZenEtkyreCwt2FhL6kAGDW4XIQGHLINohz/gCoTmji\n",
       "mR3PwqYuMGzXSYNqUb4pv3rXEJvlxfPfhFqgwnWaEX+MZQSnQ8ehGH8Dj5BCup0rvY+U6fstzYvm\n",
       "ZAf4C/Lm4HxEVAFxQ0FKtX+BmAiONqQkdNJn1bkZ7NdQDTbr+HGRtDFYBp0iNw5gDT7WXqrDUFYj\n",
       "YnEXg9nBpNewwRtpPmgApRs+67u7QfMOV/8tbLlwfLqfZ2ay0hQuuZzSU5i9DSi2i1dTzDRh+exo\n",
       "QFPnuMe5SsLXwpQK2GMBTr+H2C4cZ0o9+Xv8QTtPZEeIIa5dP5IccwzaQ0XOUZUUMvlPEs7Pk+/v\n",
       "cMZ832S4gAAAB41Bn1FFFSwT/wAJ6q8rqnSgARNvOxOXX7B0+/wjWJB2hps1/wQqMVWqPwk9Xqpi\n",
       "Hg+yN7krkuKNuZdOAdiebHoD+rRL3RVX/yhj8BI+ZuRGOFRdvum/hqJQls6T7K+ZaKaxq2CZ5zse\n",
       "DYHHfXf4Kc9usj59u/BEyvVbf0XNvvdXuNAUgseG3tE23QMcjH7j9raytxH19Actp9XM5GI8cJtR\n",
       "drqn3FWQN7rKoWVctJAj8yk4zZns+YCl0u+mUWhujFFFxiu0yRaVL3oPcxEe7HTuR8kfYr6BGWEg\n",
       "JyB71jtBENn+8JkhUF3pBWlz26K+YaGSKZ6uaHjp/HU6FQiYsbvtuNoYfgWjj478/rI24Nf/ptIU\n",
       "btZ950UR5hXE3YIByNVEnY5xQ+XRRVgRMOZY+Esa21sVUFvhp90y2GcPzGNF6ZW9kKIUZMO2YcSJ\n",
       "ela/IrUNJS1Z1OKOQKHZ5WQjb8GVV6x7YNQ8m9Q+Y7WtAuuqS1GDjd1JXo4dtwBjhKkyzRsRDBCw\n",
       "AwX3MD1riJwhA5AWeIpMfBY6c3ZmrwtCxnmAn61UEFt+bc7wXs+NjYkfi1X6oICAoJZCv8NQCy+X\n",
       "8v3QcamtN6FxdL+3cFK+inSC2MV6264K+p4SBE3Yuj9Tv4Ca20Exkz0Bj9x5lWfgRJmeL2EEXPG7\n",
       "Ss6IuPe1hcI2oRTVI7Rt+w8RPIDpVzH9VcOPCPlrsNdAR3Ht1Kqo9WyXuLW4r9Bxz0sR+3AaxAza\n",
       "Z8JAVRW4rHiSzz3Jau0gT/GeRAQmBRV8R4f6Ind4hclzk6p0dV/5Hn3aOvOqMkAZCWGRUgJX+BEg\n",
       "Rk+5o5sWjajT869UFB2Wr/qTBTp1lpExIXQAWZfhaEyTHnvS1AD2ULNAfQGzOL8S4UMuBEi1ljm/\n",
       "vOI8ecH7fadNgQ/UK979lbK677mU2rUhznRYxMZUDKPunAi11gCinat599v26jpXCYaBO9KL9tv0\n",
       "L4rVFxbPBaYbcruueglNJkOXSZTNN4XAX5CPH4p2L34kjfnxaVSdxuvlaqD23olRMBWJcEbxEUcQ\n",
       "wkfP7rmm8lQ5LUBeFHOFwekBhiDEdUD+LJnZTof0igpziviVuzWnKQofQTwRWE1x2HWYlxknZVe2\n",
       "DC5wgw/rUlVGg/6IOzuyVnJhe+/8sgppvWiBU/yrh8pJkutAVYPRyVVn4zJDARcIx8gT9xV4Wogw\n",
       "n/YRpThVuY/oQcVFWQOuGZEsW/Eabz9UF+xiBqVsZJn6MlaOueA2gvYNkCaeg8DjWXVHIv+m4nnR\n",
       "flfr2ygg//Z5e4oYfCp+0PDTkWHyuye0qv8N0yPDqkrI2cy1OPbLSZtcR5CEH9M1PKslp099mZw6\n",
       "WAm8r/AOMwCLZIOoEpuygPPR4ymTDpW10htEDnC/1n04tNzQInI4+BK82qwFaeDrZOLrDxYFPQU8\n",
       "0BU5S64T83Br1EPwVP8eq6aDyoYV3ftWE9FSMdJ3CiX3NEmE4fzknmu/hqpds259rtvPaTJraV4S\n",
       "Ww9fF8zD25wgMT2PLoVN56Bal9wjz4TAS1hKDVHwOTbGnHFtjguAZwMQ15s4egiMrcYZ9NOnOAWR\n",
       "WXvfWbMj2g0pH7QNDNSBnKo/1q53EFnLhnWUmWo6bVRHuD1GkhGLjRUDdwF052DSfm3t1xJWa0Te\n",
       "CbzyqVhvBS0H+nXPEIwUvgIwe3CyFq63pVmj0A8wADuaT3c0KHTdofKZL2wwCV8qTa42YjaxNy2r\n",
       "695XcorFQHxTUBFWmdkVgeCpjHK/UJDkCMVzmO86pnz9FBZG+ZRmXTSNmS9IvMlERlJ5Wwy88gry\n",
       "hPlcSMXZM1OH7hoI/qLSsZptYnzQzr0OjtBIFqV5HOf38/cP7wg0z0E1BeqfViPuSMQVZ3WE9wAS\n",
       "tC25Q9O+TLOA3V5sn0DC+Ux06BYvvzpSwrhXBUFN1IeHQ2Ob5L+lovGJVt8NPbVMKHrersd+eh08\n",
       "WgSA+D+FNKXGaBvsB9Ri6BVO2KtjrYnOmNQjj4qDyvi9bqEhR5QexKT7qoPDPFA4/BM1UhPO400l\n",
       "vL1NBsFZwRS4dCJG7vuNZ//YTrJbjtw8KzAg9m8ZRvmfyyic6zxO2ZiFFfGJ38ETpnxd+qVrFMMw\n",
       "w/ZTqE5KlUajM+bqPH4PycNgI7aIcnLHvoOhMoZjU7YNH3gT3Ff4AOvYj6d0vBcIjcGUW8chHD9m\n",
       "TT/2S15QZwx3TTz9GM0L+7njk9H649AuSRms0macPJ5O04LfyUZTn/AA3m/Fe5YcWJcVY7Y1jVG5\n",
       "hNBdPrwYuoyAIhRbMJccXje8+YkWK8uh94uhUAPXHuJ0uSD6hlyX26DWhncp4T8Lv0Hi6UkSVXRC\n",
       "RJa/aRJzA8VndC0oWTNhPVFAtykSzZX5TXnwl2mMB+b9yhTqh/5ntfEhGCxVPtUSgkqaFXVBeCq9\n",
       "k0ta2VyE3So5nBq2/wtGw+KWoj4qhOEpCCij0JtSH2iWXiqNqGobkBtSv1dTxj56y0fC3+Xa3ZZo\n",
       "ZespfBIgSfanFhSY6kykNsZLR1SM50br0gzzrJ6WAp27F/IdJB82C7b2dft002GGhxmyb3yErOnW\n",
       "/S5BKveNAAAIGwGfcmpBLwAO7ZEPuwylXar/DvrkAE1qTXCogw73b11miPljFIW/ZA86d/zSKDzw\n",
       "aS57uITQQ0s33P9inj2tDQva6lB1hRuVdLNsPmf9/pyTvMKD4Hd/3wyXzBwB0OY4lMJ7/MT3tyAi\n",
       "oUnv9uwBBgSPW6oHB3NMtZt+iEvZhw9u5ALKkG+Psgf7TLw50gb3CbVlh3NCR4K3ok8pmeeLxDSD\n",
       "zroFRm3P8WIqvhNeP+ZU484lVBZv7k6EgebMx3KxezAJK/0h8vKpdizBQ6t8lzyMt1H6fn43X8ux\n",
       "VvUyr7WtuXpqgwRynAhwisdty5aNFGYhkyoDPvmPOt/B0gaPDPR8DvGirLcxhbPwIQ3yWCnWjzWb\n",
       "Xy2JlC/WBO88/ikASdBIQKyCy06w2+5moZMfHOUREQ6u7wwNhzkH+4NL8mmBzzf2m2oG3gOlmN0o\n",
       "Cjoe0UbBsJeU8KnM+CRQRaTIQcvy6VTvmTMTI8BKCWey2HRh/C25we9wcGl9k4EOF5x4W8/fEGJB\n",
       "nKKbnS//LzDZJRt1n8ro6SsKwGbmHyIUvGCvLRjPlAQiJLZHpYxjcxa1+Q6smXl/Z22sV0LhIdK4\n",
       "zJrTC/OIo1lf8nOzdtx6BvS6xKlXPeUO5o01HuCRMkMd01xlB5Glg2l+RjR6OulFvXa6zQbL8WWL\n",
       "t9WXEaAsiPal4OlVPr0Mjid6TgPAKbz/wKYzZ4/u4uK+8s57F6AscHEP+Ha7GAiTVOXfLspyZ+LQ\n",
       "ko/VViBcKQItHcyf+zowg1Z7BuvP6+tUoQv4xN7QeGPDreSCfTndqwD9tL4QjUqs845mLjnf+4kg\n",
       "+Iybhe46osyWi6VPnTjcSwODaL0C3wxYNgDLdf+0KtmvAzZgapC0+n7Obd+o1F9Vftob50hFUH2p\n",
       "+bZsOHqFE/ymC5Ys5TWD87a0r4uCpiC+6GR1kcXT6O0HDjZnPEts2KoLWUTZyoUat+BKZ0EhnLZ6\n",
       "QD9La1jwPzz9lISK76HGLF5svf9AoemPQPkL6RbnSvtU/tdb0mLpjgArzwYGdo7p+1LFhtZNMk2P\n",
       "JxBK13VqXziSCzXX8UcG8yop8z/G7Qq8x81lACdfstIpFJ8DMhLJ/Jh3I7N6cvwKmj6/lJR9adhv\n",
       "o2svFY/oVaUff+mCVbX9xAWbtZPGamhB1ObXj5cZDm5bRcj907cd8/Zxw4oNlicst7j6W35hRRfJ\n",
       "BTo6rFTt+MR9RVxbRwN9Ox4p2rK+RfDuV+p3KjpYkKHS8H9/AMI7TrjTC4YBPEIWrKTVJkeN+9KG\n",
       "IIZrMybpN7UIx/sk4AdL4Db4aFw8wr+2Q60GqzUTKyGplrCNSTKheHet5c8V4IKcJOZ8V2B4OB9H\n",
       "1Yz7E1SIUfz8jHZr6Fab8NNJMz9/UcXO0/rSMaZ7Sq/ic+3zNSPbKOuUSSC3x3Y8uqzgVoO5Wdbu\n",
       "7lKqzcWTwqBFDPIrGXYR/WSCkFcG7vbZIrttoErNW6aylqzijqnctRPMGcJJgIbazD+I3YLivTfu\n",
       "x3Ol3lojA3ZicWtHs36FcsLuOEYJD71PAVzdAk1vcYG8A+sRB3FPuc17VBlh+mjP0GmF4d7USYoc\n",
       "89DsUARwaBAfk3GCk1ZJwiGwMl09JpQlTza9tLD/4ZcQOVxKqiT4UHGU4CQ2Vnwk1PtLAICublE8\n",
       "H552mzv4WsGVKdFlxIESO4sYrM/O2Gd1EQdDqp3Eu6XRK7QO3c3dW5hE2TeCfUGjCOkEeRPPVSS2\n",
       "czDeomninMLPiec5cFdLJ6kGksxob0K70tK83RsKJZQ94vaGpaeEeT6ht4W/4QcdBGnPwuP3A94A\n",
       "WlomdZLofxKOnacwaKyHXd4oOEH9d+Z69KPP6dqmCSFSEPNvR9BhB5XJEVNKUEa9R5OmLbSFCgJ8\n",
       "5EKgr1X4YUl02/UaGWbNIaXaVrjpqVMNPKMwW7SpPfupTnU2Vc/+PR3vAjFt32NRsw/8L37CK59E\n",
       "s4JA1tJf89McBblswzSUp6JdkJ76qgwMYN00fH+1C8fd7110uXBRARpuX2xHreVAEkipMaZuUQNk\n",
       "jdQz4WOIjwmlyM890+05SRufN7qe8AEH9BBiD32pf1p2IDLQyS+U2V2V7ef6L5d8xfkNZmTgREVn\n",
       "Mq3ZEIhf29k8Ns/I7Ws+GJ+3XzkuHth7mrjaduDJqgKvlScbStmomcklQ1eip14THJp8VRHui0IK\n",
       "y59cmRmmiWlCT5EDN2HFg/H8ld66b6G8yCaW4ZkYaRdGxg9SNSlvlbIjsQKOxR564Scgo1IMNsTH\n",
       "rN/c4mfAGbvRrrM2hXyB2ZdJr4u7/1bXomaO5XEuPPAQMrgcf0BXjeHdTB9t729P4sMjO0qC8GKD\n",
       "HGjtM0Z7fjlODN/r1O6WdMGsRkJGRCkNzn6TWd9pWhXGKjbb1/FHqNl9EUkngBTp+3RAGGXT2sz9\n",
       "Y0HwPEZfAnv1G4xo3rXJhY+crTaAXH6pdiKOm+jml8ASsvgiFJRep08TBpvp3WAffGro6no8qq3T\n",
       "N9a5v2tbkomWWyq7R0U+wYyalFb29AJZEHjgJEqRMmAW5xOzBeA9FmD3Xko7PNbcM2Urp3G77Buw\n",
       "qQFdIwmlvcGjLdJnQ9ihl6vZaDlvwyf5g950q1hkv+ez6zfgPBLhuXH0xUCSz8ls8Yuha/ccSyti\n",
       "Hlajd9aE2yVuYzRcJixCbGXOpQB+nWVK2B69JFTBMHmoOzxY3V+uKB+Kl7stOxQOmz7KO9L/Vwdd\n",
       "l4AhztiZaJVCFQLV+BytnxnfsSE3uzlHKKS1T3j2pv5EAAAEFm1vb3YAAABsbXZoZAAAAAAAAAAA\n",
       "AAAAAAAAA+gAACcQAAEAAAEAAAAAAAAAAAAAAAABAAAAAAAAAAAAAAAAAAAAAQAAAAAAAAAAAAAA\n",
       "AAAAQAAAAAAAAAAAAAAAAAAAAAAAAAAAAAAAAAAAAAAAAAIAAANAdHJhawAAAFx0a2hkAAAAAwAA\n",
       "AAAAAAAAAAAAAQAAAAAAACcQAAAAAAAAAAAAAAAAAAAAAAABAAAAAAAAAAAAAAAAAAAAAQAAAAAA\n",
       "AAAAAAAAAAAAQAAAAAGwAAABIAAAAAAAJGVkdHMAAAAcZWxzdAAAAAAAAAABAAAnEAAAQAAAAQAA\n",
       "AAACuG1kaWEAAAAgbWRoZAAAAAAAAAAAAAAAAAAAQAAAAoAAVcQAAAAAAC1oZGxyAAAAAAAAAAB2\n",
       "aWRlAAAAAAAAAAAAAAAAVmlkZW9IYW5kbGVyAAAAAmNtaW5mAAAAFHZtaGQAAAABAAAAAAAAAAAA\n",
       "AAAkZGluZgAAABxkcmVmAAAAAAAAAAEAAAAMdXJsIAAAAAEAAAIjc3RibAAAALNzdHNkAAAAAAAA\n",
       "AAEAAACjYXZjMQAAAAAAAAABAAAAAAAAAAAAAAAAAAAAAAGwASAASAAAAEgAAAAAAAAAAQAAAAAA\n",
       "AAAAAAAAAAAAAAAAAAAAAAAAAAAAAAAAAAAAABj//wAAADFhdmNDAWQAFf/hABhnZAAVrNlBsJaE\n",
       "AAADAAQAAAMAEDxYtlgBAAZo6+PLIsAAAAAcdXVpZGtoQPJfJE/FujmlG88DI/MAAAAAAAAAGHN0\n",
       "dHMAAAAAAAAAAQAAABQAACAAAAAAFHN0c3MAAAAAAAAAAQAAAAEAAACoY3R0cwAAAAAAAAATAAAA\n",
       "AQAAQAAAAAABAACgAAAAAAEAAEAAAAAAAQAAAAAAAAABAAAgAAAAAAEAAKAAAAAAAQAAQAAAAAAB\n",
       "AAAAAAAAAAEAACAAAAAAAQAAoAAAAAABAABAAAAAAAEAAAAAAAAAAQAAIAAAAAABAACgAAAAAAEA\n",
       "AEAAAAAAAQAAAAAAAAABAAAgAAAAAAEAAIAAAAAAAgAAIAAAAAAcc3RzYwAAAAAAAAABAAAAAQAA\n",
       "ABQAAAABAAAAZHN0c3oAAAAAAAAAAAAAABQAABn7AAAPQgAACVcAAAn8AAAIewAADO4AAAYbAAAH\n",
       "2QAABx0AAA2zAAANlAAABTgAAAYKAAAKWgAACK0AAAgRAAAJYwAACmQAAAeRAAAIHwAAABRzdGNv\n",
       "AAAAAAAAAAEAAAAsAAAAYnVkdGEAAABabWV0YQAAAAAAAAAhaGRscgAAAAAAAAAAbWRpcmFwcGwA\n",
       "AAAAAAAAAAAAAAAtaWxzdAAAACWpdG9vAAAAHWRhdGEAAAABAAAAAExhdmY1Ny44My4xMDA=\n",
       "\">\n",
       "  Your browser does not support the video tag.\n",
       "</video>"
      ],
      "text/plain": [
       "<IPython.core.display.HTML object>"
      ]
     },
     "execution_count": 6,
     "metadata": {},
     "output_type": "execute_result"
    },
    {
     "data": {
      "image/png": "[encoded data removed]",
      "text/plain": [
       "<Figure size 432x288 with 1 Axes>"
      ]
     },
     "metadata": {
      "needs_background": "light"
     },
     "output_type": "display_data"
    }
   ],
   "source": [
    "ML.Show_Data_Dist()"
   ]
  },
  {
   "cell_type": "markdown",
   "metadata": {},
   "source": [
    "## Load Family ID & Sex as strat vars"
   ]
  },
  {
   "cell_type": "code",
   "execution_count": 7,
   "metadata": {},
   "outputs": [
    {
     "name": "stdout",
     "output_type": "stream",
     "text": [
      "Loading /home/sage/work/ABCD2p0NDA/acspsw03.txt  with dataset type: basic\n",
      "Dropped 0 cols for all missing values\n",
      "Dropped 2 rows for missing values, based on the provided drop_na param: True with actual na_thresh: 0\n",
      "Loaded rows with NaN remaining: 0\n",
      "Loaded Shape: (11873, 1)\n",
      "Loading /home/sage/work/ABCDFixRelease2p0p1/mri_rsi_p102.txt  with dataset type: basic\n",
      "Dropped 0 cols for all missing values\n",
      "Dropped 1 rows for missing values, based on the provided drop_na param: True with actual na_thresh: 0\n",
      "Loaded rows with NaN remaining: 0\n",
      "Loaded Shape: (11399, 1)\n",
      "Merged with existing (merge=inner)\n",
      "New combined shape: (11397, 2)\n"
     ]
    }
   ],
   "source": [
    "ML.Load_Strat(loc=strat1,\n",
    "              col_name='rel_family_id')\n",
    "\n",
    "ML.Load_Strat(loc=data_loc1,\n",
    "              col_name='sex')"
   ]
  },
  {
   "cell_type": "markdown",
   "metadata": {},
   "source": [
    "## Define val strat on family id"
   ]
  },
  {
   "cell_type": "code",
   "execution_count": 8,
   "metadata": {},
   "outputs": [
    {
     "name": "stdout",
     "output_type": "stream",
     "text": [
      "Calling Prepare_All_Data() to change the default merge behavior call it again!\n",
      "Preparing final data, in self.all_data\n",
      "Any changes to loaded data, covars or strat will not be included, from now on.\n",
      "\n",
      "Final data (w/ target) for modeling loaded shape: (10537, 297)\n",
      "CV defined with group preserving over 9000 unique values.\n"
     ]
    }
   ],
   "source": [
    "ML.Define_Validation_Strategy(groups='rel_family_id')"
   ]
  },
  {
   "cell_type": "markdown",
   "metadata": {},
   "source": [
    "## Train Test Split"
   ]
  },
  {
   "cell_type": "code",
   "execution_count": 9,
   "metadata": {},
   "outputs": [
    {
     "name": "stdout",
     "output_type": "stream",
     "text": [
      "Performing split on 10537 subjects!\n",
      "random_state: 1\n",
      "Test split size: 0.2\n",
      "\n",
      "Performed train test split\n",
      "Train size: 8448\n",
      "Test size:  2089\n"
     ]
    }
   ],
   "source": [
    "ML.Train_Test_Split(test_size = .2)"
   ]
  },
  {
   "cell_type": "markdown",
   "metadata": {},
   "source": [
    "## Modelling"
   ]
  },
  {
   "cell_type": "code",
   "execution_count": 10,
   "metadata": {},
   "outputs": [],
   "source": [
    "from BPt import Problem_Spec"
   ]
  },
  {
   "cell_type": "code",
   "execution_count": 11,
   "metadata": {},
   "outputs": [
    {
     "name": "stdout",
     "output_type": "stream",
     "text": [
      "Default ML verbosity set within self.default_ML_verbosity.\n",
      "----------------------\n",
      "save_results: False\n",
      "progress_bar: True\n",
      "progress_loc: None\n",
      "compute_train_score: False\n",
      "show_init_params: True\n",
      "fold_name: False\n",
      "time_per_fold: False\n",
      "score_per_fold: False\n",
      "fold_sizes: False\n",
      "best_params: False\n",
      "save_to_logs: False\n",
      "\n"
     ]
    }
   ],
   "source": [
    "spec = Problem_Spec(problem_type = 'regression',\n",
    "                    scorer = ['r2', 'neg_mean_absolute_error'],\n",
    "                    n_jobs = 8)\n",
    "\n",
    "ML.Set_Default_ML_Verbosity()"
   ]
  },
  {
   "cell_type": "markdown",
   "metadata": {},
   "source": [
    "# Baseline w/ just linear model"
   ]
  },
  {
   "cell_type": "code",
   "execution_count": 12,
   "metadata": {},
   "outputs": [
    {
     "name": "stdout",
     "output_type": "stream",
     "text": [
      "Model_Pipeline\n",
      "--------------\n",
      "scalers=\\\n",
      "Scaler(extra_params={}, obj='standard')\n",
      "\n",
      "model=\\\n",
      "Model(extra_params={}, obj='linear')\n",
      "\n",
      "param_search=\\\n",
      "None\n",
      "\n",
      "\n",
      "\n",
      "Problem_Spec\n",
      "------------\n",
      "problem_type = regression\n",
      "target = anthro_waist_cm\n",
      "scorer = ['r2', 'neg_mean_absolute_error']\n",
      "weight_scorer = False\n",
      "scope = all\n",
      "subjects = all\n",
      "len(subjects) = 10537 (before overlap w/ train/test subjects)\n",
      "n_jobs 8\n",
      "random_state 1\n",
      "\n",
      "Evaluate Params\n",
      "---------------\n",
      "splits = 3\n",
      "n_repeats = 2\n",
      "CV = default\n",
      "train_subjects = train\n",
      "feat_importances = Feat_Importance(obj='base', shap_params=None)\n",
      "len(train_subjects) = 8448 (before overlap w/ problem_spec.subjects)\n",
      "run_name = linear\n",
      "\n"
     ]
    },
    {
     "data": {
      "application/vnd.jupyter.widget-view+json": {
       "model_id": "ad1a32b330cf4766b01ed50ee280c091",
       "version_major": 2,
       "version_minor": 0
      },
      "text/plain": [
       "HBox(children=(FloatProgress(value=0.0, description='Repeats', max=2.0, style=ProgressStyle(description_width=…"
      ]
     },
     "metadata": {},
     "output_type": "display_data"
    },
    {
     "data": {
      "application/vnd.jupyter.widget-view+json": {
       "model_id": "36708f275e3447a282ba994e1312fff2",
       "version_major": 2,
       "version_minor": 0
      },
      "text/plain": [
       "HBox(children=(FloatProgress(value=0.0, description='Folds', max=3.0, style=ProgressStyle(description_width='i…"
      ]
     },
     "metadata": {},
     "output_type": "display_data"
    },
    {
     "name": "stdout",
     "output_type": "stream",
     "text": [
      "\n",
      "\n",
      "\n",
      "Validation Scores\n",
      "_________________\n",
      "Scorer:  r2\n",
      "Mean Validation score:  0.23634341429310338\n",
      "Micro Std in Validation score:  0.020236362064473823\n",
      "Macro Std in Validation score:  0.0010761506394288411\n",
      "\n",
      "Scorer:  neg_mean_absolute_error\n",
      "Mean Validation score:  -2.7917405776228135\n",
      "Micro Std in Validation score:  0.03150242037934\n",
      "Macro Std in Validation score:  0.008657664598616499\n",
      "\n"
     ]
    }
   ],
   "source": [
    "from BPt import Model_Pipeline, Model\n",
    "\n",
    "linear_pipeline = Model_Pipeline()\n",
    "\n",
    "results = ML.Evaluate(model_pipeline = linear_pipeline,\n",
    "                      problem_spec = spec)"
   ]
  },
  {
   "cell_type": "code",
   "execution_count": 13,
   "metadata": {
    "scrolled": true
   },
   "outputs": [
    {
     "name": "stdout",
     "output_type": "stream",
     "text": [
      "Model_Pipeline\n",
      "--------------\n",
      "scalers=\\\n",
      "Scaler(extra_params={}, obj='standard')\n",
      "\n",
      "model=\\\n",
      "Model(extra_params={}, obj='ridge', params=1)\n",
      "\n",
      "param_search=\\\n",
      "None\n",
      "\n",
      "\n",
      "\n",
      "Problem_Spec\n",
      "------------\n",
      "problem_type = regression\n",
      "target = anthro_waist_cm\n",
      "scorer = ['r2', 'neg_mean_absolute_error']\n",
      "weight_scorer = False\n",
      "scope = all\n",
      "subjects = all\n",
      "len(subjects) = 10537 (before overlap w/ train/test subjects)\n",
      "n_jobs 8\n",
      "random_state 1\n",
      "\n",
      "Evaluate Params\n",
      "---------------\n",
      "splits = 3\n",
      "n_repeats = 2\n",
      "CV = default\n",
      "train_subjects = train\n",
      "feat_importances = Feat_Importance(obj='base', shap_params=None)\n",
      "len(train_subjects) = 8448 (before overlap w/ problem_spec.subjects)\n",
      "run_name = ridge\n",
      "\n"
     ]
    },
    {
     "data": {
      "application/vnd.jupyter.widget-view+json": {
       "model_id": "61d545e134ba4dcd8b3ccb35c715ec36",
       "version_major": 2,
       "version_minor": 0
      },
      "text/plain": [
       "HBox(children=(FloatProgress(value=0.0, description='Repeats', max=2.0, style=ProgressStyle(description_width=…"
      ]
     },
     "metadata": {},
     "output_type": "display_data"
    },
    {
     "data": {
      "application/vnd.jupyter.widget-view+json": {
       "model_id": "28a71ad7d33f40388f3740c9fd7d389d",
       "version_major": 2,
       "version_minor": 0
      },
      "text/plain": [
       "HBox(children=(FloatProgress(value=0.0, description='Folds', max=3.0, style=ProgressStyle(description_width='i…"
      ]
     },
     "metadata": {},
     "output_type": "display_data"
    },
    {
     "name": "stdout",
     "output_type": "stream",
     "text": [
      "\n",
      "\n",
      "\n",
      "Validation Scores\n",
      "_________________\n",
      "Scorer:  r2\n",
      "Mean Validation score:  0.24920995168769156\n",
      "Micro Std in Validation score:  0.023344438027403807\n",
      "Macro Std in Validation score:  0.0017485293209251324\n",
      "\n",
      "Scorer:  neg_mean_absolute_error\n",
      "Mean Validation score:  -2.8147276648617545\n",
      "Micro Std in Validation score:  0.041314440003316494\n",
      "Macro Std in Validation score:  0.001127991443933718\n",
      "\n"
     ]
    }
   ],
   "source": [
    "pipeline = Model_Pipeline(model = Model('ridge', params=1))\n",
    "\n",
    "results = ML.Evaluate(model_pipeline = pipeline,\n",
    "                      problem_spec = spec)"
   ]
  },
  {
   "cell_type": "code",
   "execution_count": 14,
   "metadata": {},
   "outputs": [
    {
     "name": "stdout",
     "output_type": "stream",
     "text": [
      "Model_Pipeline\n",
      "--------------\n",
      "scalers=\\\n",
      "Scaler(extra_params={}, obj='standard')\n",
      "\n",
      "model=\\\n",
      "Model(extra_params={}, obj='ridge', params=1)\n",
      "\n",
      "param_search=\\\n",
      "Param_Search(mp_context='spawn', n_iter=60)\n",
      "\n",
      "\n",
      "\n",
      "Problem_Spec\n",
      "------------\n",
      "problem_type = regression\n",
      "target = anthro_waist_cm\n",
      "scorer = ['r2', 'neg_mean_absolute_error']\n",
      "weight_scorer = False\n",
      "scope = all\n",
      "subjects = all\n",
      "len(subjects) = 10537 (before overlap w/ train/test subjects)\n",
      "n_jobs 8\n",
      "random_state 1\n",
      "\n",
      "Evaluate Params\n",
      "---------------\n",
      "splits = 3\n",
      "n_repeats = 2\n",
      "CV = default\n",
      "train_subjects = train\n",
      "feat_importances = Feat_Importance(obj='base', shap_params=None)\n",
      "len(train_subjects) = 8448 (before overlap w/ problem_spec.subjects)\n",
      "run_name = ridge0\n",
      "\n"
     ]
    },
    {
     "data": {
      "application/vnd.jupyter.widget-view+json": {
       "model_id": "bc5c8cc5e0a94e80baefe7db4ed9793c",
       "version_major": 2,
       "version_minor": 0
      },
      "text/plain": [
       "HBox(children=(FloatProgress(value=0.0, description='Repeats', max=2.0, style=ProgressStyle(description_width=…"
      ]
     },
     "metadata": {},
     "output_type": "display_data"
    },
    {
     "data": {
      "application/vnd.jupyter.widget-view+json": {
       "model_id": "72b0e7789fb44fef903cc85b67a6c0ba",
       "version_major": 2,
       "version_minor": 0
      },
      "text/plain": [
       "HBox(children=(FloatProgress(value=0.0, description='Folds', max=3.0, style=ProgressStyle(description_width='i…"
      ]
     },
     "metadata": {},
     "output_type": "display_data"
    },
    {
     "name": "stdout",
     "output_type": "stream",
     "text": [
      "\n",
      "\n",
      "\n",
      "Validation Scores\n",
      "_________________\n",
      "Scorer:  r2\n",
      "Mean Validation score:  0.24914502994002113\n",
      "Micro Std in Validation score:  0.02344298685245124\n",
      "Macro Std in Validation score:  0.0016127708072935093\n",
      "\n",
      "Scorer:  neg_mean_absolute_error\n",
      "Mean Validation score:  -2.8147799341425155\n",
      "Micro Std in Validation score:  0.041452093976340275\n",
      "Macro Std in Validation score:  0.0008308023716532276\n",
      "\n"
     ]
    }
   ],
   "source": [
    "from BPt import Param_Search\n",
    "\n",
    "# Add param search\n",
    "search = Param_Search(n_iter = 60)\n",
    "pipeline.param_search = search\n",
    "\n",
    "results = ML.Evaluate(model_pipeline = pipeline,\n",
    "                      problem_spec = spec)"
   ]
  },
  {
   "cell_type": "code",
   "execution_count": 15,
   "metadata": {},
   "outputs": [
    {
     "data": {
      "image/png": "[encoded data removed]",
      "text/plain": [
       "<Figure size 432x288 with 1 Axes>"
      ]
     },
     "metadata": {
      "needs_background": "light"
     },
     "output_type": "display_data"
    }
   ],
   "source": [
    "ML.Plot_Global_Feat_Importances()"
   ]
  },
  {
   "cell_type": "markdown",
   "metadata": {},
   "source": [
    "## Let's try sex specific versions"
   ]
  },
  {
   "cell_type": "code",
   "execution_count": 16,
   "metadata": {},
   "outputs": [
    {
     "name": "stdout",
     "output_type": "stream",
     "text": [
      "subjects set to:  [('sex', 0)]\n",
      "\n",
      "Model_Pipeline\n",
      "--------------\n",
      "scalers=\\\n",
      "Scaler(extra_params={}, obj='standard')\n",
      "\n",
      "model=\\\n",
      "Model(extra_params={}, obj='ridge', params=1)\n",
      "\n",
      "param_search=\\\n",
      "Param_Search(mp_context='spawn', n_iter=60)\n",
      "\n",
      "\n",
      "\n",
      "Problem_Spec\n",
      "------------\n",
      "problem_type = regression\n",
      "target = anthro_waist_cm\n",
      "scorer = ['r2', 'neg_mean_absolute_error']\n",
      "weight_scorer = False\n",
      "scope = all\n",
      "subjects = Value_Subset(name=sex, value=0)\n",
      "len(subjects) = 5436 (before overlap w/ train/test subjects)\n",
      "n_jobs 8\n",
      "random_state 1\n",
      "\n",
      "Evaluate Params\n",
      "---------------\n",
      "splits = 3\n",
      "n_repeats = 2\n",
      "CV = default\n",
      "train_subjects = train\n",
      "feat_importances = Feat_Importance(obj='base', shap_params=None)\n",
      "len(train_subjects) = 8448 (before overlap w/ problem_spec.subjects)\n",
      "run_name = ridge1\n",
      "\n"
     ]
    },
    {
     "data": {
      "application/vnd.jupyter.widget-view+json": {
       "model_id": "2e845320e91d414c9c49b7a06de2fe8d",
       "version_major": 2,
       "version_minor": 0
      },
      "text/plain": [
       "HBox(children=(FloatProgress(value=0.0, description='Repeats', max=2.0, style=ProgressStyle(description_width=…"
      ]
     },
     "metadata": {},
     "output_type": "display_data"
    },
    {
     "data": {
      "application/vnd.jupyter.widget-view+json": {
       "model_id": "768904b2e5dd4560b07a46d1d07dcce8",
       "version_major": 2,
       "version_minor": 0
      },
      "text/plain": [
       "HBox(children=(FloatProgress(value=0.0, description='Folds', max=3.0, style=ProgressStyle(description_width='i…"
      ]
     },
     "metadata": {},
     "output_type": "display_data"
    },
    {
     "name": "stdout",
     "output_type": "stream",
     "text": [
      "\n",
      "\n",
      "\n",
      "Validation Scores\n",
      "_________________\n",
      "Scorer:  r2\n",
      "Mean Validation score:  0.22757437960398202\n",
      "Micro Std in Validation score:  0.02020386059479771\n",
      "Macro Std in Validation score:  0.0052384695501188905\n",
      "\n",
      "Scorer:  neg_mean_absolute_error\n",
      "Mean Validation score:  -2.890520501416619\n",
      "Micro Std in Validation score:  0.007815957348151758\n",
      "Macro Std in Validation score:  0.004939164578599664\n",
      "\n"
     ]
    }
   ],
   "source": [
    "from BPt import Value_Subset\n",
    "\n",
    "spec.subjects = Value_Subset('sex', 0)\n",
    "\n",
    "results = ML.Evaluate(model_pipeline = pipeline,\n",
    "                      problem_spec = spec)"
   ]
  },
  {
   "cell_type": "code",
   "execution_count": 17,
   "metadata": {},
   "outputs": [
    {
     "name": "stdout",
     "output_type": "stream",
     "text": [
      "subjects set to:  [('sex', 1)]\n",
      "\n",
      "Model_Pipeline\n",
      "--------------\n",
      "scalers=\\\n",
      "Scaler(extra_params={}, obj='standard')\n",
      "\n",
      "model=\\\n",
      "Model(extra_params={}, obj='ridge', params=1)\n",
      "\n",
      "param_search=\\\n",
      "Param_Search(mp_context='spawn', n_iter=60)\n",
      "\n",
      "\n",
      "\n",
      "Problem_Spec\n",
      "------------\n",
      "problem_type = regression\n",
      "target = anthro_waist_cm\n",
      "scorer = ['r2', 'neg_mean_absolute_error']\n",
      "weight_scorer = False\n",
      "scope = all\n",
      "subjects = Value_Subset(name=sex, value=1)\n",
      "len(subjects) = 5961 (before overlap w/ train/test subjects)\n",
      "n_jobs 8\n",
      "random_state 1\n",
      "\n",
      "Evaluate Params\n",
      "---------------\n",
      "splits = 3\n",
      "n_repeats = 2\n",
      "CV = default\n",
      "train_subjects = train\n",
      "feat_importances = Feat_Importance(obj='base', shap_params=None)\n",
      "len(train_subjects) = 8448 (before overlap w/ problem_spec.subjects)\n",
      "run_name = ridge2\n",
      "\n"
     ]
    },
    {
     "data": {
      "application/vnd.jupyter.widget-view+json": {
       "model_id": "ddd22cbba68444b3a0582c6a7444e02f",
       "version_major": 2,
       "version_minor": 0
      },
      "text/plain": [
       "HBox(children=(FloatProgress(value=0.0, description='Repeats', max=2.0, style=ProgressStyle(description_width=…"
      ]
     },
     "metadata": {},
     "output_type": "display_data"
    },
    {
     "data": {
      "application/vnd.jupyter.widget-view+json": {
       "model_id": "10b59c21372b4865a25a78088f5f96f0",
       "version_major": 2,
       "version_minor": 0
      },
      "text/plain": [
       "HBox(children=(FloatProgress(value=0.0, description='Folds', max=3.0, style=ProgressStyle(description_width='i…"
      ]
     },
     "metadata": {},
     "output_type": "display_data"
    },
    {
     "name": "stdout",
     "output_type": "stream",
     "text": [
      "\n",
      "\n",
      "\n",
      "Validation Scores\n",
      "_________________\n",
      "Scorer:  r2\n",
      "Mean Validation score:  0.2062363809542766\n",
      "Micro Std in Validation score:  0.030588061343983695\n",
      "Macro Std in Validation score:  0.003129079524304454\n",
      "\n",
      "Scorer:  neg_mean_absolute_error\n",
      "Mean Validation score:  -2.839755031369947\n",
      "Micro Std in Validation score:  0.04003928901478081\n",
      "Macro Std in Validation score:  0.008328935159463091\n",
      "\n"
     ]
    }
   ],
   "source": [
    "spec.subjects = Value_Subset('sex', 1)\n",
    "\n",
    "results = ML.Evaluate(model_pipeline = pipeline,\n",
    "                      problem_spec = spec)"
   ]
  },
  {
   "cell_type": "code",
   "execution_count": 18,
   "metadata": {},
   "outputs": [],
   "source": [
    "# Back to all\n",
    "spec.subjects = 'all'"
   ]
  },
  {
   "cell_type": "markdown",
   "metadata": {},
   "source": [
    "## Choice of initial scaler?\n",
    "\n",
    "### Standard scaler"
   ]
  },
  {
   "cell_type": "code",
   "execution_count": 19,
   "metadata": {},
   "outputs": [
    {
     "name": "stdout",
     "output_type": "stream",
     "text": [
      "Model_Pipeline\n",
      "--------------\n",
      "scalers=\\\n",
      "Scaler(extra_params={}, obj='standard')\n",
      "\n",
      "model=\\\n",
      "Model(extra_params={}, obj='ridge', params=1)\n",
      "\n",
      "param_search=\\\n",
      "Param_Search(mp_context='spawn', n_iter=60)\n",
      "\n",
      "\n",
      "\n",
      "Problem_Spec\n",
      "------------\n",
      "problem_type = regression\n",
      "target = anthro_waist_cm\n",
      "scorer = ['r2', 'neg_mean_absolute_error']\n",
      "weight_scorer = False\n",
      "scope = all\n",
      "subjects = all\n",
      "len(subjects) = 10537 (before overlap w/ train/test subjects)\n",
      "n_jobs 8\n",
      "random_state 1\n",
      "\n",
      "Evaluate Params\n",
      "---------------\n",
      "splits = 3\n",
      "n_repeats = 2\n",
      "CV = default\n",
      "train_subjects = train\n",
      "feat_importances = Feat_Importance(obj='base', shap_params=None)\n",
      "len(train_subjects) = 8448 (before overlap w/ problem_spec.subjects)\n",
      "run_name = ridge3\n",
      "\n"
     ]
    },
    {
     "data": {
      "application/vnd.jupyter.widget-view+json": {
       "model_id": "32a39bbf26294ffaaabcdc992dbe410e",
       "version_major": 2,
       "version_minor": 0
      },
      "text/plain": [
       "HBox(children=(FloatProgress(value=0.0, description='Repeats', max=2.0, style=ProgressStyle(description_width=…"
      ]
     },
     "metadata": {},
     "output_type": "display_data"
    },
    {
     "data": {
      "application/vnd.jupyter.widget-view+json": {
       "model_id": "87baef72f3ff4cc5ae0ab210ed61ac13",
       "version_major": 2,
       "version_minor": 0
      },
      "text/plain": [
       "HBox(children=(FloatProgress(value=0.0, description='Folds', max=3.0, style=ProgressStyle(description_width='i…"
      ]
     },
     "metadata": {},
     "output_type": "display_data"
    },
    {
     "name": "stdout",
     "output_type": "stream",
     "text": [
      "\n",
      "\n",
      "\n",
      "Validation Scores\n",
      "_________________\n",
      "Scorer:  r2\n",
      "Mean Validation score:  0.24914502994002113\n",
      "Micro Std in Validation score:  0.02344298685245124\n",
      "Macro Std in Validation score:  0.0016127708072935093\n",
      "\n",
      "Scorer:  neg_mean_absolute_error\n",
      "Mean Validation score:  -2.8147799341425155\n",
      "Micro Std in Validation score:  0.041452093976340275\n",
      "Macro Std in Validation score:  0.0008308023716532276\n",
      "\n"
     ]
    }
   ],
   "source": [
    "from BPt import Scaler\n",
    "\n",
    "pipeline.scaler = Scaler('standard')\n",
    "\n",
    "results = ML.Evaluate(model_pipeline = pipeline,\n",
    "                      problem_spec = spec)"
   ]
  },
  {
   "cell_type": "markdown",
   "metadata": {},
   "source": [
    "### Power transformer based scaler, either yeo or boxcox, since all our values are positive, we can use the faster boxcox, if we had any data points with negative values we would need to use yeo"
   ]
  },
  {
   "cell_type": "code",
   "execution_count": 20,
   "metadata": {},
   "outputs": [
    {
     "name": "stdout",
     "output_type": "stream",
     "text": [
      "Model_Pipeline\n",
      "--------------\n",
      "scalers=\\\n",
      "Scaler(extra_params={}, obj='standard')\n",
      "\n",
      "model=\\\n",
      "Model(extra_params={}, obj='ridge', params=1)\n",
      "\n",
      "param_search=\\\n",
      "Param_Search(mp_context='spawn', n_iter=60)\n",
      "\n",
      "\n",
      "\n",
      "Problem_Spec\n",
      "------------\n",
      "problem_type = regression\n",
      "target = anthro_waist_cm\n",
      "scorer = ['r2', 'neg_mean_absolute_error']\n",
      "weight_scorer = False\n",
      "scope = all\n",
      "subjects = all\n",
      "len(subjects) = 10537 (before overlap w/ train/test subjects)\n",
      "n_jobs 8\n",
      "random_state 1\n",
      "\n",
      "Evaluate Params\n",
      "---------------\n",
      "splits = 3\n",
      "n_repeats = 2\n",
      "CV = default\n",
      "train_subjects = train\n",
      "feat_importances = Feat_Importance(obj='base', shap_params=None)\n",
      "len(train_subjects) = 8448 (before overlap w/ problem_spec.subjects)\n",
      "run_name = ridge4\n",
      "\n"
     ]
    },
    {
     "data": {
      "application/vnd.jupyter.widget-view+json": {
       "model_id": "e3bb3ff5fde14240a0c63c1f0acb977a",
       "version_major": 2,
       "version_minor": 0
      },
      "text/plain": [
       "HBox(children=(FloatProgress(value=0.0, description='Repeats', max=2.0, style=ProgressStyle(description_width=…"
      ]
     },
     "metadata": {},
     "output_type": "display_data"
    },
    {
     "data": {
      "application/vnd.jupyter.widget-view+json": {
       "model_id": "b9675351e864477296e219102fb5d3de",
       "version_major": 2,
       "version_minor": 0
      },
      "text/plain": [
       "HBox(children=(FloatProgress(value=0.0, description='Folds', max=3.0, style=ProgressStyle(description_width='i…"
      ]
     },
     "metadata": {},
     "output_type": "display_data"
    },
    {
     "name": "stdout",
     "output_type": "stream",
     "text": [
      "\n",
      "\n",
      "\n",
      "Validation Scores\n",
      "_________________\n",
      "Scorer:  r2\n",
      "Mean Validation score:  0.24914502994002113\n",
      "Micro Std in Validation score:  0.02344298685245124\n",
      "Macro Std in Validation score:  0.0016127708072935093\n",
      "\n",
      "Scorer:  neg_mean_absolute_error\n",
      "Mean Validation score:  -2.8147799341425155\n",
      "Micro Std in Validation score:  0.041452093976340275\n",
      "Macro Std in Validation score:  0.0008308023716532276\n",
      "\n"
     ]
    }
   ],
   "source": [
    "pipeline.scaler = Scaler('boxcox')\n",
    "\n",
    "results = ML.Evaluate(model_pipeline = pipeline,\n",
    "                      problem_spec = spec)"
   ]
  },
  {
   "cell_type": "markdown",
   "metadata": {},
   "source": [
    "### Let's stick with robust scaler, even though  boxcox gives boost, its a small one + increases runtime\n",
    "\n",
    "## Try a different search_types / hyperparameter optimizers"
   ]
  },
  {
   "cell_type": "code",
   "execution_count": 21,
   "metadata": {},
   "outputs": [
    {
     "name": "stdout",
     "output_type": "stream",
     "text": [
      "Model_Pipeline\n",
      "--------------\n",
      "scalers=\\\n",
      "Scaler(extra_params={}, obj='standard')\n",
      "\n",
      "model=\\\n",
      "Model(extra_params={}, obj='ridge', params=1)\n",
      "\n",
      "param_search=\\\n",
      "Param_Search(mp_context='spawn', n_iter=60)\n",
      "\n",
      "\n",
      "\n",
      "Problem_Spec\n",
      "------------\n",
      "problem_type = regression\n",
      "target = anthro_waist_cm\n",
      "scorer = ['r2', 'neg_mean_absolute_error']\n",
      "weight_scorer = False\n",
      "scope = all\n",
      "subjects = all\n",
      "len(subjects) = 10537 (before overlap w/ train/test subjects)\n",
      "n_jobs 8\n",
      "random_state 1\n",
      "\n",
      "Evaluate Params\n",
      "---------------\n",
      "splits = 3\n",
      "n_repeats = 2\n",
      "CV = default\n",
      "train_subjects = train\n",
      "feat_importances = Feat_Importance(obj='base', shap_params=None)\n",
      "len(train_subjects) = 8448 (before overlap w/ problem_spec.subjects)\n",
      "run_name = ridge5\n",
      "\n"
     ]
    },
    {
     "data": {
      "application/vnd.jupyter.widget-view+json": {
       "model_id": "5d5bc65439094614b59648a6e30b4619",
       "version_major": 2,
       "version_minor": 0
      },
      "text/plain": [
       "HBox(children=(FloatProgress(value=0.0, description='Repeats', max=2.0, style=ProgressStyle(description_width=…"
      ]
     },
     "metadata": {},
     "output_type": "display_data"
    },
    {
     "data": {
      "application/vnd.jupyter.widget-view+json": {
       "model_id": "46b7506278ef48149ee7a18c53c59c4d",
       "version_major": 2,
       "version_minor": 0
      },
      "text/plain": [
       "HBox(children=(FloatProgress(value=0.0, description='Folds', max=3.0, style=ProgressStyle(description_width='i…"
      ]
     },
     "metadata": {},
     "output_type": "display_data"
    },
    {
     "name": "stdout",
     "output_type": "stream",
     "text": [
      "\n",
      "\n",
      "\n",
      "Validation Scores\n",
      "_________________\n",
      "Scorer:  r2\n",
      "Mean Validation score:  0.24914502994002113\n",
      "Micro Std in Validation score:  0.02344298685245124\n",
      "Macro Std in Validation score:  0.0016127708072935093\n",
      "\n",
      "Scorer:  neg_mean_absolute_error\n",
      "Mean Validation score:  -2.8147799341425155\n",
      "Micro Std in Validation score:  0.041452093976340275\n",
      "Macro Std in Validation score:  0.0008308023716532276\n",
      "\n"
     ]
    }
   ],
   "source": [
    "pipeline.scaler = Scaler('robust')\n",
    "pipeline.param_search.search_type = 'RandomSearch'\n",
    "\n",
    "results = ML.Evaluate(model_pipeline = pipeline,\n",
    "                      problem_spec = spec)"
   ]
  },
  {
   "cell_type": "code",
   "execution_count": 22,
   "metadata": {},
   "outputs": [
    {
     "name": "stdout",
     "output_type": "stream",
     "text": [
      "Model_Pipeline\n",
      "--------------\n",
      "scalers=\\\n",
      "Scaler(extra_params={}, obj='standard')\n",
      "\n",
      "model=\\\n",
      "Model(extra_params={}, obj='ridge', params=1)\n",
      "\n",
      "param_search=\\\n",
      "Param_Search(mp_context='spawn', n_iter=60, search_type='TwoPointsDE')\n",
      "\n",
      "\n",
      "\n",
      "Problem_Spec\n",
      "------------\n",
      "problem_type = regression\n",
      "target = anthro_waist_cm\n",
      "scorer = ['r2', 'neg_mean_absolute_error']\n",
      "weight_scorer = False\n",
      "scope = all\n",
      "subjects = all\n",
      "len(subjects) = 10537 (before overlap w/ train/test subjects)\n",
      "n_jobs 8\n",
      "random_state 1\n",
      "\n",
      "Evaluate Params\n",
      "---------------\n",
      "splits = 3\n",
      "n_repeats = 2\n",
      "CV = default\n",
      "train_subjects = train\n",
      "feat_importances = Feat_Importance(obj='base', shap_params=None)\n",
      "len(train_subjects) = 8448 (before overlap w/ problem_spec.subjects)\n",
      "run_name = ridge6\n",
      "\n"
     ]
    },
    {
     "data": {
      "application/vnd.jupyter.widget-view+json": {
       "model_id": "a3108b6cc6b04538b3da11d7bc8d940f",
       "version_major": 2,
       "version_minor": 0
      },
      "text/plain": [
       "HBox(children=(FloatProgress(value=0.0, description='Repeats', max=2.0, style=ProgressStyle(description_width=…"
      ]
     },
     "metadata": {},
     "output_type": "display_data"
    },
    {
     "data": {
      "application/vnd.jupyter.widget-view+json": {
       "model_id": "48d18ce104ba4b089582730089569046",
       "version_major": 2,
       "version_minor": 0
      },
      "text/plain": [
       "HBox(children=(FloatProgress(value=0.0, description='Folds', max=3.0, style=ProgressStyle(description_width='i…"
      ]
     },
     "metadata": {},
     "output_type": "display_data"
    },
    {
     "name": "stdout",
     "output_type": "stream",
     "text": [
      "\n",
      "\n",
      "\n",
      "Validation Scores\n",
      "_________________\n",
      "Scorer:  r2\n",
      "Mean Validation score:  0.24934580745135979\n",
      "Micro Std in Validation score:  0.023441827583697932\n",
      "Macro Std in Validation score:  0.0018075768293511485\n",
      "\n",
      "Scorer:  neg_mean_absolute_error\n",
      "Mean Validation score:  -2.8144263157620175\n",
      "Micro Std in Validation score:  0.04175434271233377\n",
      "Macro Std in Validation score:  0.0011722633046380437\n",
      "\n"
     ]
    }
   ],
   "source": [
    "pipeline.param_search.search_type = 'TwoPointsDE'\n",
    "\n",
    "results = ML.Evaluate(model_pipeline = pipeline,\n",
    "                      problem_spec = spec)"
   ]
  },
  {
   "cell_type": "markdown",
   "metadata": {},
   "source": [
    "## We can try some other models as well\n",
    "\n",
    "### Elastic net with param search"
   ]
  },
  {
   "cell_type": "code",
   "execution_count": 23,
   "metadata": {},
   "outputs": [
    {
     "name": "stdout",
     "output_type": "stream",
     "text": [
      "Model_Pipeline\n",
      "--------------\n",
      "scalers=\\\n",
      "Scaler(extra_params={}, obj='standard')\n",
      "\n",
      "model=\\\n",
      "Model(extra_params={}, obj='elastic net', params=1)\n",
      "\n",
      "param_search=\\\n",
      "Param_Search(mp_context='spawn', n_iter=60, search_type='TwoPointsDE')\n",
      "\n",
      "\n",
      "\n",
      "Problem_Spec\n",
      "------------\n",
      "problem_type = regression\n",
      "target = anthro_waist_cm\n",
      "scorer = ['r2', 'neg_mean_absolute_error']\n",
      "weight_scorer = False\n",
      "scope = all\n",
      "subjects = all\n",
      "len(subjects) = 10537 (before overlap w/ train/test subjects)\n",
      "n_jobs 8\n",
      "random_state 1\n",
      "\n",
      "Evaluate Params\n",
      "---------------\n",
      "splits = 3\n",
      "n_repeats = 2\n",
      "CV = default\n",
      "train_subjects = train\n",
      "feat_importances = Feat_Importance(obj='base', shap_params=None)\n",
      "len(train_subjects) = 8448 (before overlap w/ problem_spec.subjects)\n",
      "run_name = elastic net\n",
      "\n"
     ]
    },
    {
     "data": {
      "application/vnd.jupyter.widget-view+json": {
       "model_id": "a54eba6247da499c87164ee428dfb628",
       "version_major": 2,
       "version_minor": 0
      },
      "text/plain": [
       "HBox(children=(FloatProgress(value=0.0, description='Repeats', max=2.0, style=ProgressStyle(description_width=…"
      ]
     },
     "metadata": {},
     "output_type": "display_data"
    },
    {
     "data": {
      "application/vnd.jupyter.widget-view+json": {
       "model_id": "b3a276419b58435fa17df091c33ffb13",
       "version_major": 2,
       "version_minor": 0
      },
      "text/plain": [
       "HBox(children=(FloatProgress(value=0.0, description='Folds', max=3.0, style=ProgressStyle(description_width='i…"
      ]
     },
     "metadata": {},
     "output_type": "display_data"
    },
    {
     "name": "stderr",
     "output_type": "stream",
     "text": [
      "/home/sage/anaconda3/envs/home/lib/python3.7/site-packages/sklearn/linear_model/_coordinate_descent.py:531: ConvergenceWarning: Objective did not converge. You might want to increase the number of iterations. Duality gap: 31004.7317627502, tolerance: 9.810266659514362\n",
      "  positive)\n",
      "/home/sage/anaconda3/envs/home/lib/python3.7/site-packages/sklearn/linear_model/_coordinate_descent.py:531: ConvergenceWarning: Objective did not converge. You might want to increase the number of iterations. Duality gap: 8291.398133533738, tolerance: 9.89818476606145\n",
      "  positive)\n",
      "/home/sage/anaconda3/envs/home/lib/python3.7/site-packages/sklearn/linear_model/_coordinate_descent.py:531: ConvergenceWarning: Objective did not converge. You might want to increase the number of iterations. Duality gap: 21869.23946027104, tolerance: 9.765240635615594\n",
      "  positive)\n",
      "/home/sage/anaconda3/envs/home/lib/python3.7/site-packages/sklearn/linear_model/_coordinate_descent.py:531: ConvergenceWarning: Objective did not converge. You might want to increase the number of iterations. Duality gap: 30227.11187331222, tolerance: 9.78436144059784\n",
      "  positive)\n",
      "/home/sage/anaconda3/envs/home/lib/python3.7/site-packages/sklearn/linear_model/_coordinate_descent.py:531: ConvergenceWarning: Objective did not converge. You might want to increase the number of iterations. Duality gap: 15343.863031023022, tolerance: 9.891017216576973\n",
      "  positive)\n",
      "/home/sage/anaconda3/envs/home/lib/python3.7/site-packages/sklearn/linear_model/_coordinate_descent.py:531: ConvergenceWarning: Objective did not converge. You might want to increase the number of iterations. Duality gap: 16676.2699740573, tolerance: 9.799329814781592\n",
      "  positive)\n"
     ]
    },
    {
     "name": "stdout",
     "output_type": "stream",
     "text": [
      "\n",
      "\n",
      "\n",
      "Validation Scores\n",
      "_________________\n",
      "Scorer:  r2\n",
      "Mean Validation score:  0.26349143792498103\n",
      "Micro Std in Validation score:  0.01830186644531734\n",
      "Macro Std in Validation score:  0.00259468367138338\n",
      "\n",
      "Scorer:  neg_mean_absolute_error\n",
      "Mean Validation score:  -2.7853831499138653\n",
      "Micro Std in Validation score:  0.0321138291197572\n",
      "Macro Std in Validation score:  0.003206792019915916\n",
      "\n"
     ]
    }
   ],
   "source": [
    "pipeline.model = Model('elastic net', params=1)\n",
    "\n",
    "results = ML.Evaluate(model_pipeline = pipeline,\n",
    "                      problem_spec = spec)"
   ]
  },
  {
   "cell_type": "markdown",
   "metadata": {},
   "source": [
    "### Light gradient boosting machine with param search"
   ]
  },
  {
   "cell_type": "code",
   "execution_count": 24,
   "metadata": {},
   "outputs": [
    {
     "name": "stdout",
     "output_type": "stream",
     "text": [
      "Model_Pipeline\n",
      "--------------\n",
      "scalers=\\\n",
      "Scaler(extra_params={}, obj='standard')\n",
      "\n",
      "model=\\\n",
      "Model(extra_params={}, obj='light gbm', params=1)\n",
      "\n",
      "param_search=\\\n",
      "Param_Search(mp_context='spawn', n_iter=60, search_type='TwoPointsDE')\n",
      "\n",
      "\n",
      "\n",
      "Problem_Spec\n",
      "------------\n",
      "problem_type = regression\n",
      "target = anthro_waist_cm\n",
      "scorer = ['r2', 'neg_mean_absolute_error']\n",
      "weight_scorer = False\n",
      "scope = all\n",
      "subjects = all\n",
      "len(subjects) = 10537 (before overlap w/ train/test subjects)\n",
      "n_jobs 8\n",
      "random_state 1\n",
      "\n",
      "Evaluate Params\n",
      "---------------\n",
      "splits = 3\n",
      "n_repeats = 2\n",
      "CV = default\n",
      "train_subjects = train\n",
      "feat_importances = Feat_Importance(obj='base', shap_params=None)\n",
      "len(train_subjects) = 8448 (before overlap w/ problem_spec.subjects)\n",
      "run_name = light gbm\n",
      "\n"
     ]
    },
    {
     "data": {
      "application/vnd.jupyter.widget-view+json": {
       "model_id": "051c9745fdd9475bb10ce87f265a7b00",
       "version_major": 2,
       "version_minor": 0
      },
      "text/plain": [
       "HBox(children=(FloatProgress(value=0.0, description='Repeats', max=2.0, style=ProgressStyle(description_width=…"
      ]
     },
     "metadata": {},
     "output_type": "display_data"
    },
    {
     "data": {
      "application/vnd.jupyter.widget-view+json": {
       "model_id": "3ddae60c809b4a049ab17739d05cf72c",
       "version_major": 2,
       "version_minor": 0
      },
      "text/plain": [
       "HBox(children=(FloatProgress(value=0.0, description='Folds', max=3.0, style=ProgressStyle(description_width='i…"
      ]
     },
     "metadata": {},
     "output_type": "display_data"
    },
    {
     "name": "stdout",
     "output_type": "stream",
     "text": [
      "\n",
      "\n",
      "\n",
      "Validation Scores\n",
      "_________________\n",
      "Scorer:  r2\n",
      "Mean Validation score:  0.15806479914013027\n",
      "Micro Std in Validation score:  0.01543419788688497\n",
      "Macro Std in Validation score:  0.0012497471420711698\n",
      "\n",
      "Scorer:  neg_mean_absolute_error\n",
      "Mean Validation score:  -2.979928563019633\n",
      "Micro Std in Validation score:  0.04277278127674823\n",
      "Macro Std in Validation score:  0.0021057915864779453\n",
      "\n"
     ]
    }
   ],
   "source": [
    "pipeline.model = Model('light gbm', params=1)\n",
    "\n",
    "results = ML.Evaluate(model_pipeline = pipeline,\n",
    "                      problem_spec = spec)"
   ]
  },
  {
   "cell_type": "markdown",
   "metadata": {},
   "source": [
    "### Non-linear svm (w/ rbf kernel) param search"
   ]
  },
  {
   "cell_type": "code",
   "execution_count": 25,
   "metadata": {},
   "outputs": [
    {
     "name": "stdout",
     "output_type": "stream",
     "text": [
      "Model_Pipeline\n",
      "--------------\n",
      "scalers=\\\n",
      "Scaler(extra_params={}, obj='standard')\n",
      "\n",
      "model=\\\n",
      "Model(extra_params={}, obj='svm', params=1)\n",
      "\n",
      "param_search=\\\n",
      "Param_Search(mp_context='spawn', n_iter=60, search_type='TwoPointsDE')\n",
      "\n",
      "\n",
      "\n",
      "Problem_Spec\n",
      "------------\n",
      "problem_type = regression\n",
      "target = anthro_waist_cm\n",
      "scorer = ['r2', 'neg_mean_absolute_error']\n",
      "weight_scorer = False\n",
      "scope = all\n",
      "subjects = all\n",
      "len(subjects) = 10537 (before overlap w/ train/test subjects)\n",
      "n_jobs 8\n",
      "random_state 1\n",
      "\n",
      "Evaluate Params\n",
      "---------------\n",
      "splits = 3\n",
      "n_repeats = 2\n",
      "CV = default\n",
      "train_subjects = train\n",
      "feat_importances = Feat_Importance(obj='base', shap_params=None)\n",
      "len(train_subjects) = 8448 (before overlap w/ problem_spec.subjects)\n",
      "run_name = svm\n",
      "\n"
     ]
    },
    {
     "data": {
      "application/vnd.jupyter.widget-view+json": {
       "model_id": "fb09dd5fb104486ca88e21d97adf9ac9",
       "version_major": 2,
       "version_minor": 0
      },
      "text/plain": [
       "HBox(children=(FloatProgress(value=0.0, description='Repeats', max=2.0, style=ProgressStyle(description_width=…"
      ]
     },
     "metadata": {},
     "output_type": "display_data"
    },
    {
     "data": {
      "application/vnd.jupyter.widget-view+json": {
       "model_id": "bbe05e2912324b638407b65ba470b444",
       "version_major": 2,
       "version_minor": 0
      },
      "text/plain": [
       "HBox(children=(FloatProgress(value=0.0, description='Folds', max=3.0, style=ProgressStyle(description_width='i…"
      ]
     },
     "metadata": {},
     "output_type": "display_data"
    },
    {
     "name": "stdout",
     "output_type": "stream",
     "text": [
      "\n",
      "\n",
      "\n",
      "Validation Scores\n",
      "_________________\n",
      "Scorer:  r2\n",
      "Mean Validation score:  0.24843967416671303\n",
      "Micro Std in Validation score:  0.017857657226903863\n",
      "Macro Std in Validation score:  0.0018961445841937513\n",
      "\n",
      "Scorer:  neg_mean_absolute_error\n",
      "Mean Validation score:  -2.7717532510113925\n",
      "Micro Std in Validation score:  0.04110169390869042\n",
      "Macro Std in Validation score:  0.0015491362530053454\n",
      "\n"
     ]
    }
   ],
   "source": [
    "pipeline.model = Model('svm', params=1)\n",
    "\n",
    "results = ML.Evaluate(model_pipeline = pipeline,\n",
    "                      problem_spec = spec)"
   ]
  },
  {
   "cell_type": "markdown",
   "metadata": {},
   "source": [
    "### Non-linear svm (w/ rbf kernel) param search + all features treated as hyperparams"
   ]
  },
  {
   "cell_type": "code",
   "execution_count": null,
   "metadata": {},
   "outputs": [
    {
     "name": "stdout",
     "output_type": "stream",
     "text": [
      "Model_Pipeline\n",
      "--------------\n",
      "scalers=\\\n",
      "Scaler(extra_params={}, obj='standard')\n",
      "\n",
      "feat_selectors=\\\n",
      "Feat_Selector(extra_params={}, obj='selector', params=1)\n",
      "\n",
      "model=\\\n",
      "Model(extra_params={}, obj='svm', params=1)\n",
      "\n",
      "param_search=\\\n",
      "Param_Search(mp_context='spawn', n_iter=60, search_type='TwoPointsDE')\n",
      "\n",
      "\n",
      "\n",
      "Problem_Spec\n",
      "------------\n",
      "problem_type = regression\n",
      "target = anthro_waist_cm\n",
      "scorer = ['r2', 'neg_mean_absolute_error']\n",
      "weight_scorer = False\n",
      "scope = all\n",
      "subjects = all\n",
      "len(subjects) = 10537 (before overlap w/ train/test subjects)\n",
      "n_jobs 8\n",
      "random_state 1\n",
      "\n",
      "Evaluate Params\n",
      "---------------\n",
      "splits = 3\n",
      "n_repeats = 2\n",
      "CV = default\n",
      "train_subjects = train\n",
      "feat_importances = Feat_Importance(obj='base', shap_params=None)\n",
      "len(train_subjects) = 8448 (before overlap w/ problem_spec.subjects)\n",
      "run_name = svm0\n",
      "\n"
     ]
    },
    {
     "data": {
      "application/vnd.jupyter.widget-view+json": {
       "model_id": "0b539904af5148bab52a19d542fe1c63",
       "version_major": 2,
       "version_minor": 0
      },
      "text/plain": [
       "HBox(children=(FloatProgress(value=0.0, description='Repeats', max=2.0, style=ProgressStyle(description_width=…"
      ]
     },
     "metadata": {},
     "output_type": "display_data"
    },
    {
     "data": {
      "application/vnd.jupyter.widget-view+json": {
       "model_id": "7fd1e7a129054ce8bf5a327dca5e933b",
       "version_major": 2,
       "version_minor": 0
      },
      "text/plain": [
       "HBox(children=(FloatProgress(value=0.0, description='Folds', max=3.0, style=ProgressStyle(description_width='i…"
      ]
     },
     "metadata": {},
     "output_type": "display_data"
    }
   ],
   "source": [
    "from BPt import Feat_Selector\n",
    "\n",
    "pipeline.feat_selectors = Feat_Selector('selector', params=1)\n",
    "\n",
    "results = ML.Evaluate(model_pipeline = pipeline,\n",
    "                      problem_spec = spec)"
   ]
  },
  {
   "cell_type": "markdown",
   "metadata": {},
   "source": [
    "### Same thing but w/ ridge regression"
   ]
  },
  {
   "cell_type": "code",
   "execution_count": null,
   "metadata": {},
   "outputs": [],
   "source": [
    "pipeline.model = Model('ridge', params=1)\n",
    "\n",
    "results = ML.Evaluate(model_pipeline = pipeline,\n",
    "                      problem_spec = spec)"
   ]
  },
  {
   "cell_type": "markdown",
   "metadata": {},
   "source": [
    "### MLP ?"
   ]
  },
  {
   "cell_type": "code",
   "execution_count": null,
   "metadata": {},
   "outputs": [],
   "source": [
    "pipeline.feat_selectors = None\n",
    "pipeline.model = Model('mlp', params=1)\n",
    "\n",
    "search = Param_Search('TwoPointsDE', n_param=100)\n",
    "pipeline.param_search = search\n",
    "\n",
    "results = ML.Evaluate(model_pipeline = pipeline,\n",
    "                      problem_spec = spec)"
   ]
  },
  {
   "cell_type": "markdown",
   "metadata": {},
   "source": [
    "### Elastic net w/ boxcox?"
   ]
  },
  {
   "cell_type": "code",
   "execution_count": null,
   "metadata": {},
   "outputs": [],
   "source": [
    "pipeline.model = Model('elastic net', params=1)\n",
    "pipeline.scaler = Scaler('boxcox')\n",
    "\n",
    "results = ML.Evaluate(model_pipeline = pipeline,\n",
    "                      problem_spec = spec)"
   ]
  }
 ],
 "metadata": {
  "kernelspec": {
   "display_name": "Python 3.7.6 64-bit ('home': conda)",
   "language": "python",
   "name": "python37664bithomeconda2aade2e1d0ce4797afe91f4891a59d68"
  },
  "language_info": {
   "codemirror_mode": {
    "name": "ipython",
    "version": 3
   },
   "file_extension": ".py",
   "mimetype": "text/x-python",
   "name": "python",
   "nbconvert_exporter": "python",
   "pygments_lexer": "ipython3",
   "version": "3.7.6"
  }
 },
 "nbformat": 4,
 "nbformat_minor": 4
}
