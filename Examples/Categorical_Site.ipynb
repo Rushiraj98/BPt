{
 "cells": [
  {
   "cell_type": "markdown",
   "metadata": {},
   "source": [
    "# Init Phase"
   ]
  },
  {
   "cell_type": "code",
   "execution_count": 1,
   "metadata": {},
   "outputs": [
    {
     "name": "stderr",
     "output_type": "stream",
     "text": [
      "Using TensorFlow backend.\n"
     ]
    }
   ],
   "source": [
    "import ABCD_ML\n",
    "import numpy as np"
   ]
  },
  {
   "cell_type": "code",
   "execution_count": 2,
   "metadata": {
    "collapsed": true
   },
   "outputs": [],
   "source": [
    "data_dr = '/mnt/sdb2/ABCDFixRelease2p0p1/'\n",
    "\n",
    "data1 = data_dr + 'abcd_smrip101.txt'\n",
    "data2 = data_dr + 'abcd_smrip201.txt'\n",
    "\n",
    "data_exp_dr = '/mnt/sdb2/2.0_ABCD_Data_Explorer/'\n",
    "target = data_exp_dr + '2.0_NDA_Data/Other Non-Imaging/ABCD Longitudinal Tracking.csv'\n",
    "\n",
    "name_map_loc = data_dr + 'Fix Release Notes 2.0.1_Public/24. ABCD_Release_2.0.1_Updates/abcd_2.0.1_mapping.csv'"
   ]
  },
  {
   "cell_type": "code",
   "execution_count": null,
   "metadata": {},
   "outputs": [],
   "source": [
    "ML = ABCD_ML.ABCD_ML(exp_name='Site',\n",
    "                     log_dr='',\n",
    "                     existing_log='overwrite',\n",
    "                     verbose=True,\n",
    "                     notebook=True,\n",
    "                     subject_id='src_subject_id',\n",
    "                     eventname='baseline_year_1_arm_1',\n",
    "                     use_default_subject_ids=True,\n",
    "                     default_dataset_type='basic',\n",
    "                     default_na_values=['777', '999'],\n",
    "                     original_targets_key='targets',\n",
    "                     low_memory_mode=False,\n",
    "                     random_state=1)"
   ]
  },
  {
   "cell_type": "code",
   "execution_count": null,
   "metadata": {},
   "outputs": [],
   "source": [
    "ML.Load_Name_Map(loc = name_map_loc,\n",
    "                 dataset_type = 'explorer',\n",
    "                 source_name_col = 'nda_name',\n",
    "                 target_name_col = 'deap_name')"
   ]
  },
  {
   "cell_type": "code",
   "execution_count": null,
   "metadata": {},
   "outputs": [],
   "source": [
    "ML.Load_Data(loc = [data1, data2],\n",
    "             drop_keys = ['aseg_wm.hypointensities', 'smri_t2w'],\n",
    "             drop_nan = False,\n",
    "             filter_outlier_percent = None,\n",
    "             winsorize_val = .001,\n",
    "             unique_val_drop_thresh = 800,\n",
    "             clear_existing = True)"
   ]
  },
  {
   "cell_type": "code",
   "execution_count": null,
   "metadata": {},
   "outputs": [],
   "source": [
    "ML.Load_Targets(loc = target,\n",
    "                col_name = 'site_id_l',\n",
    "                data_type = 'c',\n",
    "                dataset_type = 'explorer',\n",
    "                categorical_drop_percent = None)"
   ]
  },
  {
   "cell_type": "code",
   "execution_count": null,
   "metadata": {},
   "outputs": [],
   "source": [
    "ML.Show_Targets_Dist()"
   ]
  },
  {
   "cell_type": "code",
   "execution_count": null,
   "metadata": {},
   "outputs": [],
   "source": [
    "ML.Load_Covars(loc = data1,\n",
    "               col_names = ['sex', 'interview_age'],\n",
    "               data_types = ['c', 'f'],\n",
    "               drop_nan = False,\n",
    "               clear_existing = True)"
   ]
  },
  {
   "cell_type": "code",
   "execution_count": null,
   "metadata": {},
   "outputs": [],
   "source": [
    "ML.Show_Covars_Dist()"
   ]
  },
  {
   "cell_type": "code",
   "execution_count": null,
   "metadata": {},
   "outputs": [],
   "source": [
    "# Stratify such that the target classes are evenly distributed between folds\n",
    "ML.Define_Validation_Strategy(stratify=ML.original_targets_key)"
   ]
  },
  {
   "cell_type": "code",
   "execution_count": null,
   "metadata": {},
   "outputs": [],
   "source": [
    "ML.Train_Test_Split(test_size=.2)"
   ]
  },
  {
   "cell_type": "code",
   "execution_count": null,
   "metadata": {
    "collapsed": true
   },
   "outputs": [],
   "source": [
    "#Regular_Iter_Imputer(imputer, inds) #float\n",
    "#Regular_Iter_Imputer(imputer, inds) #binary\n",
    "#Categorical_Iter_Imputer(imputer, encoder_inds, ordinal_inds, encoders) #categorical"
   ]
  },
  {
   "cell_type": "code",
   "execution_count": null,
   "metadata": {
    "collapsed": true
   },
   "outputs": [],
   "source": [
    "covar_scopes, cat_encoders = _get_covar_scopes()"
   ]
  },
  {
   "cell_type": "code",
   "execution_count": null,
   "metadata": {},
   "outputs": [],
   "source": [
    "covar_scopes, cat_encoders"
   ]
  },
  {
   "cell_type": "code",
   "execution_count": null,
   "metadata": {
    "collapsed": true
   },
   "outputs": [],
   "source": [
    "ML.Set_Default_ML_Params(problem_type = 'categorical',\n",
    "                         metric = ['macro f1', 'micro f1', 'macro roc auc'],\n",
    "                         scaler = 'robust',\n",
    "                         n_splits = 3,\n",
    "                         n_repeats = 1,\n",
    "                         n_jobs = 8)"
   ]
  },
  {
   "cell_type": "code",
   "execution_count": null,
   "metadata": {
    "collapsed": true
   },
   "outputs": [],
   "source": [
    "#ML.Set_ML_Verbosity(fold_name = True,\n",
    "#                    time_per_fold = True,\n",
    "#                    score_per_fold = True,\n",
    "#                    fold_sizes = True,\n",
    "#                    save_to_logs = False)"
   ]
  },
  {
   "cell_type": "code",
   "execution_count": null,
   "metadata": {
    "collapsed": true
   },
   "outputs": [],
   "source": [
    "raw_scores = ML.Evaluate(model_type = 'knn classifier',\n",
    "                         metric = 'accuracy')"
   ]
  },
  {
   "cell_type": "code",
   "execution_count": null,
   "metadata": {
    "collapsed": true,
    "scrolled": true
   },
   "outputs": [],
   "source": [
    "raw_scores = ML.Evaluate(model_type = 'light gbm',\n",
    "                         metric = ['micro f1', 'by class roc auc'])"
   ]
  },
  {
   "cell_type": "code",
   "execution_count": null,
   "metadata": {
    "collapsed": true
   },
   "outputs": [],
   "source": [
    "raw_scores = ML.Evaluate(model_type = 'elastic',\n",
    "                         model_type_param_ind = 1,\n",
    "                         search_type = 'random')"
   ]
  },
  {
   "cell_type": "code",
   "execution_count": null,
   "metadata": {
    "collapsed": true
   },
   "outputs": [],
   "source": [
    "ML.Evaluate(model_type = 'light gbm',\n",
    "            model_type_param_ind = 1,\n",
    "            search_type = 'random')"
   ]
  },
  {
   "cell_type": "code",
   "execution_count": null,
   "metadata": {
    "collapsed": true
   },
   "outputs": [],
   "source": []
  }
 ],
 "metadata": {
  "kernelspec": {
   "display_name": "Python 3",
   "language": "python",
   "name": "python3"
  },
  "language_info": {
   "codemirror_mode": {
    "name": "ipython",
    "version": 3
   },
   "file_extension": ".py",
   "mimetype": "text/x-python",
   "name": "python",
   "nbconvert_exporter": "python",
   "pygments_lexer": "ipython3",
   "version": "3.6.8"
  },
  "toc": {
   "base_numbering": 1,
   "nav_menu": {},
   "number_sections": true,
   "sideBar": true,
   "skip_h1_title": false,
   "title_cell": "Table of Contents",
   "title_sidebar": "Contents",
   "toc_cell": false,
   "toc_position": {},
   "toc_section_display": true,
   "toc_window_display": false
  }
 },
 "nbformat": 4,
 "nbformat_minor": 2
}
