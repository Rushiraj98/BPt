{
 "cells": [
  {
   "cell_type": "code",
   "execution_count": 1,
   "metadata": {},
   "outputs": [],
   "source": [
    "import ABCD_ML"
   ]
  },
  {
   "cell_type": "code",
   "execution_count": 2,
   "metadata": {},
   "outputs": [],
   "source": [
    "nda_dr = '/mnt/sdb2/2.0_ABCD_Data_Explorer/2.0_NDA_Data/'\n",
    "test_mapping_loc = nda_dr + 'ABCD_Release_ Notes_Data_Release_ 2.0/22. ABCD_Release_2.0_mapping_r.csv'\n",
    "test_data_loc1 = nda_dr + 'MRI/ABCD dMRI DTI Full Destrieux Parcellation Part 2.csv'\n",
    "test_data_loc2 = nda_dr + 'MRI/ABCD sMRI Destrieux Parcellation Part 1.csv'\n",
    "test_scores_loc1 = nda_dr + 'Neurocognition/ABCD Youth NIH TB Summary Scores.csv'\n",
    "test_exclusion_loc1 = '/home/sage/ABCD_Ev_Search/Data/ABCD_testsetIDs.csv'\n",
    "test_exclusion_loc2 = '/home/sage/bader_things/invalid_pguids.txt'\n",
    "test_strat_loc1 = nda_dr + 'Other Non-Imaging/ABCD ACS Post Stratification Weights.csv'\n",
    "test_strat_loc2 = nda_dr + 'Other Non-Imaging/ABCD Longitudinal Tracking.csv'\n",
    "test_covar_loc = nda_dr + 'Mental Health/ABCD Parent Demographics Survey.csv'"
   ]
  },
  {
   "cell_type": "code",
   "execution_count": 3,
   "metadata": {},
   "outputs": [
    {
     "name": "stdout",
     "output_type": "stream",
     "text": [
      "Loaded map file\n"
     ]
    }
   ],
   "source": [
    "ML = ABCD_ML.ABCD_ML(eventname = 'baseline_year_1_arm_1',\n",
    "                     use_default_subject_ids = True,\n",
    "                     verbose = True\n",
    "                     )\n",
    "\n",
    "ML.load_name_mapping(loc = test_mapping_loc)"
   ]
  },
  {
   "cell_type": "code",
   "execution_count": null,
   "metadata": {},
   "outputs": [
    {
     "name": "stdout",
     "output_type": "stream",
     "text": [
      "Loading /mnt/sdb2/2.0_ABCD_Data_Explorer/2.0_NDA_Data/MRI/ABCD dMRI DTI Full Destrieux Parcellation Part 2.csv\n",
      "dropped ['abcd_ddtifp201_id', 'dataset_id'] columns by default\n",
      "Dropped 6 columns, per drop_keys argument\n",
      "Dropped 1095 rows for missing values\n",
      "Dropped rows with missing data\n",
      "Filtered data for outliers with value:  0.0001\n"
     ]
    }
   ],
   "source": [
    "ML.load_data(loc = test_data_loc1,\n",
    "             drop_keys = ['spostcentrallh'],\n",
    "             filter_outlier_percent = .0001,\n",
    "             winsorize_val=.001\n",
    "             )\n",
    "\n",
    "ML.load_data(loc = test_data_loc2,\n",
    "             drop_keys = []\n",
    "             )"
   ]
  },
  {
   "cell_type": "code",
   "execution_count": null,
   "metadata": {},
   "outputs": [],
   "source": [
    "ML.load_scores(loc=test_covar_loc,\n",
    "               col_name='demo_sex_v2',\n",
    "               data_type = 'binary',\n",
    "              )"
   ]
  },
  {
   "cell_type": "code",
   "execution_count": null,
   "metadata": {},
   "outputs": [],
   "source": [
    "ML.load_scores(loc=test_covar_loc,\n",
    "               col_name='demo_relig_v2',\n",
    "               data_type = 'categorical',\n",
    "              )"
   ]
  },
  {
   "cell_type": "code",
   "execution_count": null,
   "metadata": {},
   "outputs": [],
   "source": [
    "ML.load_scores(loc=test_scores_loc1,\n",
    "               col_name='nihtbx_cardsort_agecorrected',\n",
    "               data_type = 'float',\n",
    "               filter_outlier_percent=(.001, .999)\n",
    "              )"
   ]
  },
  {
   "cell_type": "code",
   "execution_count": null,
   "metadata": {},
   "outputs": [],
   "source": [
    "ML.load_exclusions(exclusions=['INV0A6WVRZY', 'NDAR_INVZXF5C635'])\n",
    "ML.load_exclusions(loc = test_exclusion_loc1)\n",
    "ML.load_exclusions(loc = test_exclusion_loc2)"
   ]
  },
  {
   "cell_type": "code",
   "execution_count": null,
   "metadata": {},
   "outputs": [],
   "source": [
    "ML.load_strat_values(loc = test_strat_loc1,\n",
    "                     col_names = ['race_ethnicity', 'rel_family_id'])\n",
    "\n",
    "ML.load_strat_values(loc = test_strat_loc2,\n",
    "                     col_names = ['site_id_l'])"
   ]
  },
  {
   "cell_type": "code",
   "execution_count": null,
   "metadata": {},
   "outputs": [],
   "source": [
    "ML.load_covars(loc=test_covar_loc,\n",
    "               col_names = ['demo_ed_v2', 'demo_sex_v2', 'demo_yrs_1'],\n",
    "               data_types = ['o', 'b', 'c'],\n",
    "               dummy_code_categorical = True,\n",
    "               filter_float_outlier_percent = (.001, .999),\n",
    "               standardize = True,\n",
    "               normalize = True) "
   ]
  },
  {
   "cell_type": "code",
   "execution_count": null,
   "metadata": {},
   "outputs": [],
   "source": [
    "ML.train_test_split(test_size=.2)"
   ]
  },
  {
   "cell_type": "code",
   "execution_count": null,
   "metadata": {},
   "outputs": [],
   "source": []
  }
 ],
 "metadata": {
  "kernelspec": {
   "display_name": "Python 3",
   "language": "python",
   "name": "python3"
  },
  "language_info": {
   "codemirror_mode": {
    "name": "ipython",
    "version": 3
   },
   "file_extension": ".py",
   "mimetype": "text/x-python",
   "name": "python",
   "nbconvert_exporter": "python",
   "pygments_lexer": "ipython3",
   "version": "3.6.7"
  }
 },
 "nbformat": 4,
 "nbformat_minor": 2
}
