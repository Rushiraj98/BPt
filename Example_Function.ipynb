{
 "cells": [
  {
   "cell_type": "code",
   "execution_count": 1,
   "metadata": {},
   "outputs": [],
   "source": [
    "import ABCD_ML"
   ]
  },
  {
   "cell_type": "code",
   "execution_count": 2,
   "metadata": {},
   "outputs": [],
   "source": [
    "nda_dr = '/mnt/sdb2/2.0_ABCD_Data_Explorer/2.0_NDA_Data/'\n",
    "test_mapping_loc = nda_dr + 'ABCD_Release_ Notes_Data_Release_ 2.0/22. ABCD_Release_2.0_mapping_r.csv'\n",
    "test_data_loc1 = nda_dr + 'MRI/ABCD dMRI DTI Full Destrieux Parcellation Part 2.csv'\n",
    "test_data_loc2 = nda_dr + 'MRI/ABCD sMRI Destrieux Parcellation Part 1.csv'\n",
    "test_scores_loc1 = nda_dr + 'Neurocognition/ABCD Youth NIH TB Summary Scores.csv'\n",
    "test_exclusion_loc1 = '/home/sage/ABCD_Ev_Search/Data/ABCD_testsetIDs.csv'\n",
    "test_exclusion_loc2 = '/home/sage/bader_things/invalid_pguids.txt'\n",
    "test_strat_loc1 = nda_dr + 'Other Non-Imaging/ABCD ACS Post Stratification Weights.csv'\n",
    "test_strat_loc2 = nda_dr + 'Other Non-Imaging/ABCD Longitudinal Tracking.csv'\n",
    "test_covar_loc = nda_dr + 'Mental Health/ABCD Parent Demographics Survey.csv'"
   ]
  },
  {
   "cell_type": "code",
   "execution_count": 3,
   "metadata": {},
   "outputs": [
    {
     "name": "stdout",
     "output_type": "stream",
     "text": [
      "Loaded map file\n"
     ]
    }
   ],
   "source": [
    "ML = ABCD_ML.ABCD_ML(eventname = 'baseline_year_1_arm_1',\n",
    "                     use_default_subject_ids = True,\n",
    "                     verbose = True\n",
    "                     )\n",
    "\n",
    "ML.load_name_mapping(loc = test_mapping_loc)"
   ]
  },
  {
   "cell_type": "code",
   "execution_count": 4,
   "metadata": {},
   "outputs": [
    {
     "name": "stdout",
     "output_type": "stream",
     "text": [
      "Loading /mnt/sdb2/2.0_ABCD_Data_Explorer/2.0_NDA_Data/MRI/ABCD dMRI DTI Full Destrieux Parcellation Part 2.csv\n",
      "dropped ['abcd_ddtifp201_id', 'dataset_id'] columns by default\n",
      "Dropped 6 columns, per drop_keys argument\n",
      "Dropped 1095 rows for missing values\n",
      "Dropped rows with missing data\n",
      "Filtered data for outliers with value:  0.0001\n",
      "Winsorized data with value:  0.001\n",
      "loaded shape:  (9156, 836)\n",
      "Removing non overlapping + excluded subjects\n",
      "Total subjects =  9156\n",
      "\n",
      "Loading /mnt/sdb2/2.0_ABCD_Data_Explorer/2.0_NDA_Data/MRI/ABCD sMRI Destrieux Parcellation Part 1.csv\n",
      "dropped ['abcd_mrisdp101_id', 'dataset_id'] columns by default\n",
      "Dropped 0 columns, per drop_keys argument\n",
      "Dropped 2387 rows for missing values\n",
      "Dropped rows with missing data\n",
      "loaded shape:  (9149, 907)\n",
      "Merged with existing!\n",
      "Removing non overlapping + excluded subjects\n",
      "Total subjects =  7272\n",
      "\n"
     ]
    }
   ],
   "source": [
    "ML.load_data(loc = test_data_loc1,\n",
    "             drop_keys = ['spostcentrallh'],\n",
    "             filter_outlier_percent = .0001,\n",
    "             winsorize_val=.001\n",
    "             )\n",
    "\n",
    "ML.load_data(loc = test_data_loc2,\n",
    "             drop_keys = []\n",
    "             )"
   ]
  },
  {
   "cell_type": "code",
   "execution_count": 5,
   "metadata": {},
   "outputs": [
    {
     "name": "stdout",
     "output_type": "stream",
     "text": [
      "Loading  /mnt/sdb2/2.0_ABCD_Data_Explorer/2.0_NDA_Data/Mental Health/ABCD Parent Demographics Survey.csv\n",
      "More than two unique score values found, filtered all but [1. 2.]\n",
      "Final shape:  (11866, 2)\n",
      "Removing non overlapping + excluded subjects\n",
      "Total subjects =  7266\n",
      "\n"
     ]
    }
   ],
   "source": [
    "ML.load_scores(loc=test_covar_loc,\n",
    "               col_name='demo_sex_v2',\n",
    "               data_type = 'binary',\n",
    "              )"
   ]
  },
  {
   "cell_type": "code",
   "execution_count": 6,
   "metadata": {},
   "outputs": [
    {
     "name": "stdout",
     "output_type": "stream",
     "text": [
      "Loading  /mnt/sdb2/2.0_ABCD_Data_Explorer/2.0_NDA_Data/Mental Health/ABCD Parent Demographics Survey.csv\n",
      "Encoded to 17 categories\n",
      "Final shape:  (11310, 18)\n",
      "Removing non overlapping + excluded subjects\n",
      "Total subjects =  6941\n",
      "\n"
     ]
    }
   ],
   "source": [
    "ML.load_scores(loc=test_covar_loc,\n",
    "               col_name='demo_relig_v2',\n",
    "               data_type = 'categorical',\n",
    "              )"
   ]
  },
  {
   "cell_type": "code",
   "execution_count": 7,
   "metadata": {},
   "outputs": [
    {
     "name": "stdout",
     "output_type": "stream",
     "text": [
      "Loading  /mnt/sdb2/2.0_ABCD_Data_Explorer/2.0_NDA_Data/Neurocognition/ABCD Youth NIH TB Summary Scores.csv\n",
      "Filtering for outliers, dropping rows with params:  (0.001, 0.999)\n",
      "Min-Max Score (before outlier filtering): 65.0 191.0\n",
      "Min-Max Score (post outlier filtering): 72.0 163.0\n",
      "Final shape:  (11626, 2)\n",
      "Removing non overlapping + excluded subjects\n",
      "Total subjects =  6810\n",
      "\n"
     ]
    },
    {
     "name": "stderr",
     "output_type": "stream",
     "text": [
      "/home/sage/anaconda3/lib/python3.6/site-packages/IPython/core/interactiveshell.py:3296: DtypeWarning: Columns (51) have mixed types. Specify dtype option on import or set low_memory=False.\n",
      "  exec(code_obj, self.user_global_ns, self.user_ns)\n"
     ]
    }
   ],
   "source": [
    "ML.load_scores(loc=test_scores_loc1,\n",
    "               col_name='nihtbx_cardsort_agecorrected',\n",
    "               data_type = 'float',\n",
    "               filter_outlier_percent=(.001, .999)\n",
    "              )"
   ]
  },
  {
   "cell_type": "code",
   "execution_count": 8,
   "metadata": {},
   "outputs": [
    {
     "name": "stdout",
     "output_type": "stream",
     "text": [
      "Total excluded subjects:  2\n",
      "Removing non overlapping + excluded subjects\n",
      "Total subjects =  6808\n",
      "\n",
      "Total excluded subjects:  2123\n",
      "Removing non overlapping + excluded subjects\n",
      "Total subjects =  5557\n",
      "\n",
      "Total excluded subjects:  3048\n",
      "Removing non overlapping + excluded subjects\n",
      "Total subjects =  5003\n",
      "\n"
     ]
    }
   ],
   "source": [
    "ML.load_exclusions(exclusions=['INV0A6WVRZY', 'NDAR_INVZXF5C635'])\n",
    "ML.load_exclusions(loc = test_exclusion_loc1)\n",
    "ML.load_exclusions(loc = test_exclusion_loc2)"
   ]
  },
  {
   "cell_type": "code",
   "execution_count": 9,
   "metadata": {},
   "outputs": [
    {
     "name": "stdout",
     "output_type": "stream",
     "text": [
      "Reading stratification values from /mnt/sdb2/2.0_ABCD_Data_Explorer/2.0_NDA_Data/Other Non-Imaging/ABCD ACS Post Stratification Weights.csv\n",
      "Removing non overlapping + excluded subjects\n",
      "Total subjects =  4993\n",
      "\n",
      "Reading stratification values from /mnt/sdb2/2.0_ABCD_Data_Explorer/2.0_NDA_Data/Other Non-Imaging/ABCD Longitudinal Tracking.csv\n",
      "Merged with existing!\n",
      "Removing non overlapping + excluded subjects\n",
      "Total subjects =  4993\n",
      "\n"
     ]
    }
   ],
   "source": [
    "ML.load_strat_values(loc = test_strat_loc1,\n",
    "                     col_names = ['race_ethnicity', 'rel_family_id'])\n",
    "\n",
    "ML.load_strat_values(loc = test_strat_loc2,\n",
    "                     col_names = ['site_id_l'])"
   ]
  },
  {
   "cell_type": "code",
   "execution_count": 10,
   "metadata": {},
   "outputs": [
    {
     "name": "stdout",
     "output_type": "stream",
     "text": [
      "Reading covariates from /mnt/sdb2/2.0_ABCD_Data_Explorer/2.0_NDA_Data/Mental Health/ABCD Parent Demographics Survey.csv\n",
      "load: demo_ed_v2\n",
      "load: demo_sex_v2\n",
      "More than two unique score values found, filtered all but [1. 2.]\n",
      "load: demo_yrs_1\n",
      "Encoded to 4 categories\n",
      "Removing non overlapping + excluded subjects\n",
      "Total subjects =  4924\n",
      "\n"
     ]
    }
   ],
   "source": [
    "ML.load_covars(loc=test_covar_loc,\n",
    "               col_names = ['demo_ed_v2', 'demo_sex_v2', 'demo_yrs_1'],\n",
    "               data_types = ['o', 'b', 'c'],\n",
    "               dummy_code_categorical = True,\n",
    "               filter_float_outlier_percent = (.001, .999),\n",
    "               standardize = True,\n",
    "               normalize = True) "
   ]
  },
  {
   "cell_type": "code",
   "execution_count": null,
   "metadata": {},
   "outputs": [],
   "source": []
  }
 ],
 "metadata": {
  "kernelspec": {
   "display_name": "Python 3",
   "language": "python",
   "name": "python3"
  },
  "language_info": {
   "codemirror_mode": {
    "name": "ipython",
    "version": 3
   },
   "file_extension": ".py",
   "mimetype": "text/x-python",
   "name": "python",
   "nbconvert_exporter": "python",
   "pygments_lexer": "ipython3",
   "version": "3.6.7"
  }
 },
 "nbformat": 4,
 "nbformat_minor": 2
}
