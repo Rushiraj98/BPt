{
 "cells": [
  {
   "cell_type": "code",
   "execution_count": 1,
   "metadata": {},
   "outputs": [],
   "source": [
    "import ABCD_ML"
   ]
  },
  {
   "cell_type": "code",
   "execution_count": 2,
   "metadata": {},
   "outputs": [
    {
     "data": {
      "text/plain": [
       "list"
      ]
     },
     "execution_count": 2,
     "metadata": {},
     "output_type": "execute_result"
    }
   ],
   "source": [
    "type(['dd'])"
   ]
  },
  {
   "cell_type": "code",
   "execution_count": 3,
   "metadata": {},
   "outputs": [],
   "source": [
    "nda_dr = '/mnt/sdb2/2.0_ABCD_Data_Explorer/2.0_NDA_Data/'\n",
    "test_mapping_loc = nda_dr + 'ABCD_Release_ Notes_Data_Release_ 2.0/22. ABCD_Release_2.0_mapping_r.csv'\n",
    "test_data_loc1 = nda_dr + 'MRI/ABCD dMRI DTI Full Destrieux Parcellation Part 2.csv'\n",
    "test_data_loc2 = nda_dr + 'MRI/ABCD sMRI Destrieux Parcellation Part 1.csv'\n",
    "test_scores_loc1 = nda_dr + 'Neurocognition/ABCD Youth NIH TB Summary Scores.csv'\n",
    "test_exclusion_loc1 = '/home/sage/ABCD_Ev_Search/Data/ABCD_testsetIDs.csv'\n",
    "test_exclusion_loc2 = '/home/sage/bader_things/invalid_pguids.txt'\n",
    "test_strat_loc = nda_dr + 'Other Non-Imaging/ABCD ACS Post Stratification Weights.csv'"
   ]
  },
  {
   "cell_type": "code",
   "execution_count": 4,
   "metadata": {},
   "outputs": [],
   "source": [
    "ML = ABCD_ML.ABCD_ML(eventname = 'baseline_year_1_arm_1',\n",
    "                     use_default_subject_ids = True,\n",
    "                     verbose = True\n",
    "                     )"
   ]
  },
  {
   "cell_type": "code",
   "execution_count": 5,
   "metadata": {},
   "outputs": [
    {
     "name": "stdout",
     "output_type": "stream",
     "text": [
      "Loaded map file\n"
     ]
    }
   ],
   "source": [
    "ML.load_name_mapping(test_mapping_loc)"
   ]
  },
  {
   "cell_type": "code",
   "execution_count": 6,
   "metadata": {},
   "outputs": [
    {
     "name": "stdout",
     "output_type": "stream",
     "text": [
      "Loading /mnt/sdb2/2.0_ABCD_Data_Explorer/2.0_NDA_Data/MRI/ABCD dMRI DTI Full Destrieux Parcellation Part 2.csv\n",
      "dropped ['abcd_ddtifp201_id', 'dataset_id']\n",
      "Dropped 0  columns, per drop_keys argument\n",
      "Dropped 1095 rows for missing values\n",
      "loaded shape:  (10306, 842)\n",
      "Removing non overlapping + excluded subjects from data\n",
      "Total subjects =  10306\n"
     ]
    }
   ],
   "source": [
    "ML.load_data(data_loc = test_data_loc1,\n",
    "             drop_keys = []\n",
    "             )"
   ]
  },
  {
   "cell_type": "code",
   "execution_count": 7,
   "metadata": {},
   "outputs": [
    {
     "name": "stdout",
     "output_type": "stream",
     "text": [
      "Loading /mnt/sdb2/2.0_ABCD_Data_Explorer/2.0_NDA_Data/MRI/ABCD sMRI Destrieux Parcellation Part 1.csv\n",
      "dropped ['abcd_mrisdp101_id', 'dataset_id']\n",
      "Dropped 0  columns, per drop_keys argument\n",
      "Dropped 15 rows for missing values\n",
      "loaded shape:  (11521, 907)\n",
      "Merged with existing data, new data shape:  (10300, 1748)\n",
      "Removing non overlapping + excluded subjects from data\n",
      "Total subjects =  10300\n"
     ]
    }
   ],
   "source": [
    "ML.load_data(data_loc = test_data_loc2,\n",
    "             drop_keys = []\n",
    "             )"
   ]
  },
  {
   "cell_type": "code",
   "execution_count": 8,
   "metadata": {},
   "outputs": [
    {
     "name": "stdout",
     "output_type": "stream",
     "text": [
      "Loading  /mnt/sdb2/2.0_ABCD_Data_Explorer/2.0_NDA_Data/Neurocognition/ABCD Youth NIH TB Summary Scores.csv\n",
      "Dropped 160 scores/subjects for NaN scores\n",
      "Final shape:  (11713, 2)\n",
      "Removing non overlapping + excluded subjects from data\n",
      "Removing non overlapping + excluded subjects from scores\n",
      "Total subjects =  10161\n"
     ]
    },
    {
     "name": "stderr",
     "output_type": "stream",
     "text": [
      "/home/sage/anaconda3/lib/python3.6/site-packages/IPython/core/interactiveshell.py:3220: DtypeWarning: Columns (51) have mixed types. Specify dtype option on import or set low_memory=False.\n",
      "  if (yield from self.run_code(code, result)):\n"
     ]
    }
   ],
   "source": [
    "ML.load_scores(scores_loc=test_scores_loc1,\n",
    "               score_col_name='nihtbx_cardsort_agecorrected',\n",
    "              )"
   ]
  },
  {
   "cell_type": "code",
   "execution_count": 9,
   "metadata": {},
   "outputs": [
    {
     "name": "stdout",
     "output_type": "stream",
     "text": [
      "Total excluded subjects:  2\n",
      "Removing non overlapping + excluded subjects from data\n",
      "Removing non overlapping + excluded subjects from scores\n",
      "Total subjects =  10159\n"
     ]
    }
   ],
   "source": [
    "ML.load_exclusions(exclusions=['INV0A6WVRZY', 'NDAR_INVZXF5C635'])"
   ]
  },
  {
   "cell_type": "code",
   "execution_count": 10,
   "metadata": {},
   "outputs": [
    {
     "name": "stdout",
     "output_type": "stream",
     "text": [
      "Total excluded subjects:  2123\n",
      "Removing non overlapping + excluded subjects from data\n",
      "Removing non overlapping + excluded subjects from scores\n",
      "Total subjects =  8291\n"
     ]
    }
   ],
   "source": [
    "ML.load_exclusions(exclusions_loc = test_exclusion_loc1)"
   ]
  },
  {
   "cell_type": "code",
   "execution_count": 11,
   "metadata": {},
   "outputs": [
    {
     "name": "stdout",
     "output_type": "stream",
     "text": [
      "Total excluded subjects:  3048\n",
      "Removing non overlapping + excluded subjects from data\n",
      "Removing non overlapping + excluded subjects from scores\n",
      "Total subjects =  7463\n"
     ]
    }
   ],
   "source": [
    "ML.load_exclusions(exclusions_loc = test_exclusion_loc2)"
   ]
  },
  {
   "cell_type": "code",
   "execution_count": 12,
   "metadata": {},
   "outputs": [
    {
     "name": "stdout",
     "output_type": "stream",
     "text": [
      "Reading stratification values from /mnt/sdb2/2.0_ABCD_Data_Explorer/2.0_NDA_Data/Other Non-Imaging/ABCD ACS Post Stratification Weights.csv\n",
      "Removing non overlapping + excluded subjects from data\n",
      "Removing non overlapping + excluded subjects from scores\n",
      "Removing non overlapping + excluded subjects from strat values\n",
      "Total subjects =  7463\n"
     ]
    }
   ],
   "source": [
    "ML.load_strat_values(strat_loc = test_strat_loc,\n",
    "                     strat_col_names = ['race_ethnicity', 'rel_family_id'])"
   ]
  },
  {
   "cell_type": "code",
   "execution_count": null,
   "metadata": {},
   "outputs": [],
   "source": []
  },
  {
   "cell_type": "code",
   "execution_count": null,
   "metadata": {},
   "outputs": [],
   "source": []
  },
  {
   "cell_type": "code",
   "execution_count": null,
   "metadata": {},
   "outputs": [],
   "source": []
  }
 ],
 "metadata": {
  "kernelspec": {
   "display_name": "Python 3",
   "language": "python",
   "name": "python3"
  },
  "language_info": {
   "codemirror_mode": {
    "name": "ipython",
    "version": 3
   },
   "file_extension": ".py",
   "mimetype": "text/x-python",
   "name": "python",
   "nbconvert_exporter": "python",
   "pygments_lexer": "ipython3",
   "version": "3.6.7"
  }
 },
 "nbformat": 4,
 "nbformat_minor": 2
}
