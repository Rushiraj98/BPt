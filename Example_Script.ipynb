{
 "cells": [
  {
   "cell_type": "code",
   "execution_count": 1,
   "metadata": {},
   "outputs": [
    {
     "ename": "IndentationError",
     "evalue": "expected an indented block (Ensemble_Model.py, line 40)",
     "output_type": "error",
     "traceback": [
      "Traceback \u001b[0;36m(most recent call last)\u001b[0m:\n",
      "  File \u001b[1;32m\"/home/sage/anaconda3/lib/python3.6/site-packages/IPython/core/interactiveshell.py\"\u001b[0m, line \u001b[1;32m3296\u001b[0m, in \u001b[1;35mrun_code\u001b[0m\n    exec(code_obj, self.user_global_ns, self.user_ns)\n",
      "  File \u001b[1;32m\"<ipython-input-1-2c851edd8eaf>\"\u001b[0m, line \u001b[1;32m1\u001b[0m, in \u001b[1;35m<module>\u001b[0m\n    import ABCD_ML\n",
      "  File \u001b[1;32m\"/home/sage/ABCD_ML/ABCD_ML/__init__.py\"\u001b[0m, line \u001b[1;32m6\u001b[0m, in \u001b[1;35m<module>\u001b[0m\n    from ABCD_ML.ABCD_ML import ABCD_ML\n",
      "  File \u001b[1;32m\"/home/sage/ABCD_ML/ABCD_ML/ABCD_ML.py\"\u001b[0m, line \u001b[1;32m9\u001b[0m, in \u001b[1;35m<module>\u001b[0m\n    class ABCD_ML():\n",
      "  File \u001b[1;32m\"/home/sage/ABCD_ML/ABCD_ML/ABCD_ML.py\"\u001b[0m, line \u001b[1;32m622\u001b[0m, in \u001b[1;35mABCD_ML\u001b[0m\n    from ABCD_ML._ML import evaluate_regression_model\n",
      "\u001b[0;36m  File \u001b[0;32m\"/home/sage/ABCD_ML/ABCD_ML/_ML.py\"\u001b[0;36m, line \u001b[0;32m7\u001b[0;36m, in \u001b[0;35m<module>\u001b[0;36m\u001b[0m\n\u001b[0;31m    from ABCD_ML.Ensemble_Model import Ensemble_Model\u001b[0m\n",
      "\u001b[0;36m  File \u001b[0;32m\"/home/sage/ABCD_ML/ABCD_ML/Ensemble_Model.py\"\u001b[0;36m, line \u001b[0;32m40\u001b[0m\n\u001b[0;31m    def predict(self, X):\u001b[0m\n\u001b[0m    ^\u001b[0m\n\u001b[0;31mIndentationError\u001b[0m\u001b[0;31m:\u001b[0m expected an indented block\n"
     ]
    }
   ],
   "source": [
    "import ABCD_ML"
   ]
  },
  {
   "cell_type": "code",
   "execution_count": null,
   "metadata": {},
   "outputs": [],
   "source": [
    "nda_dr = '/mnt/sdb2/2.0_ABCD_Data_Explorer/2.0_NDA_Data/'\n",
    "test_mapping_loc = nda_dr + 'ABCD_Release_ Notes_Data_Release_ 2.0/22. ABCD_Release_2.0_mapping_r.csv'\n",
    "test_data_loc1 = nda_dr + 'MRI/ABCD dMRI DTI Full Destrieux Parcellation Part 2.csv'\n",
    "test_data_loc2 = nda_dr + 'MRI/ABCD sMRI Destrieux Parcellation Part 1.csv'\n",
    "test_scores_loc1 = nda_dr + 'Neurocognition/ABCD Youth NIH TB Summary Scores.csv'\n",
    "test_exclusion_loc1 = '/home/sage/ABCD_Ev_Search/Data/ABCD_testsetIDs.csv'\n",
    "test_exclusion_loc2 = '/home/sage/bader_things/invalid_pguids.txt'\n",
    "test_strat_loc1 = nda_dr + 'Other Non-Imaging/ABCD ACS Post Stratification Weights.csv'\n",
    "test_strat_loc2 = nda_dr + 'Other Non-Imaging/ABCD Longitudinal Tracking.csv'\n",
    "test_covar_loc = nda_dr + 'Mental Health/ABCD Parent Demographics Survey.csv'"
   ]
  },
  {
   "cell_type": "code",
   "execution_count": null,
   "metadata": {},
   "outputs": [],
   "source": [
    "ML = ABCD_ML.ABCD_ML(eventname = 'baseline_year_1_arm_1',\n",
    "                     use_default_subject_ids = True,\n",
    "                     verbose = True\n",
    "                     )\n",
    "\n",
    "ML.load_name_mapping(loc = test_mapping_loc)"
   ]
  },
  {
   "cell_type": "code",
   "execution_count": null,
   "metadata": {},
   "outputs": [],
   "source": [
    "ML.load_data(loc = test_data_loc1,\n",
    "             drop_keys = ['spostcentrallh'],\n",
    "             filter_outlier_percent = .0001,\n",
    "             winsorize_val=.001\n",
    "             )\n",
    "\n",
    "ML.load_data(loc = test_data_loc2,\n",
    "             drop_keys = []\n",
    "             )"
   ]
  },
  {
   "cell_type": "code",
   "execution_count": null,
   "metadata": {},
   "outputs": [],
   "source": [
    "ML.load_scores(loc=test_covar_loc,\n",
    "               col_name='demo_sex_v2',\n",
    "               data_type = 'binary',\n",
    "              )"
   ]
  },
  {
   "cell_type": "code",
   "execution_count": null,
   "metadata": {},
   "outputs": [],
   "source": [
    "ML.load_scores(loc=test_covar_loc,\n",
    "               col_name='demo_relig_v2',\n",
    "               data_type = 'categorical',\n",
    "              )"
   ]
  },
  {
   "cell_type": "code",
   "execution_count": null,
   "metadata": {},
   "outputs": [],
   "source": [
    "#ML.load_scores(loc=test_scores_loc1,\n",
    "#               col_name='nihtbx_cardsort_agecorrected',\n",
    "#               data_type = 'float',\n",
    "#               filter_outlier_percent=(.001, .999)\n",
    "#              )"
   ]
  },
  {
   "cell_type": "code",
   "execution_count": null,
   "metadata": {},
   "outputs": [],
   "source": [
    "ML.load_exclusions(exclusions=['INV0A6WVRZY', 'NDAR_INVZXF5C635'])\n",
    "ML.load_exclusions(loc = test_exclusion_loc1)\n",
    "ML.load_exclusions(loc = test_exclusion_loc2)"
   ]
  },
  {
   "cell_type": "code",
   "execution_count": null,
   "metadata": {},
   "outputs": [],
   "source": [
    "ML.load_strat_values(loc = test_strat_loc1,\n",
    "                     col_names = ['race_ethnicity', 'rel_family_id'])\n",
    "\n",
    "ML.load_strat_values(loc = test_strat_loc2,\n",
    "                     col_names = ['site_id_l'])"
   ]
  },
  {
   "cell_type": "code",
   "execution_count": null,
   "metadata": {},
   "outputs": [],
   "source": [
    "ML.load_covars(loc=test_covar_loc,\n",
    "               col_names = ['demo_ed_v2', 'demo_sex_v2', 'demo_yrs_1'],\n",
    "               data_types = ['o', 'b', 'c'],\n",
    "               dummy_code_categorical = True,\n",
    "               filter_float_outlier_percent = (.001, .999),\n",
    "               standardize = True,\n",
    "               normalize = True) "
   ]
  },
  {
   "cell_type": "code",
   "execution_count": null,
   "metadata": {},
   "outputs": [],
   "source": [
    "ML.train_test_split(test_size=.2)"
   ]
  },
  {
   "cell_type": "code",
   "execution_count": null,
   "metadata": {},
   "outputs": [],
   "source": [
    "test1 = ML.CV.k_fold(ML.train_subjects, 3, return_index=False)\n",
    "test2 = ML.CV.k_fold(ML.train_subjects, 3, return_index=True)"
   ]
  },
  {
   "cell_type": "code",
   "execution_count": null,
   "metadata": {},
   "outputs": [],
   "source": [
    "ML.define_validation_strategy(groups='site_id_l')"
   ]
  },
  {
   "cell_type": "code",
   "execution_count": null,
   "metadata": {},
   "outputs": [],
   "source": [
    "ML.train_test_split(test_size=.2)"
   ]
  },
  {
   "cell_type": "code",
   "execution_count": null,
   "metadata": {},
   "outputs": [],
   "source": [
    "test1 = ML.CV.k_fold(ML.train_subjects, 3, return_index=False)\n",
    "test2 = ML.CV.k_fold(ML.train_subjects, 3, return_index=True)"
   ]
  },
  {
   "cell_type": "code",
   "execution_count": null,
   "metadata": {},
   "outputs": [],
   "source": []
  },
  {
   "cell_type": "code",
   "execution_count": null,
   "metadata": {},
   "outputs": [],
   "source": []
  },
  {
   "cell_type": "code",
   "execution_count": null,
   "metadata": {},
   "outputs": [],
   "source": [
    "#extra_params = {\n",
    "#               'rf': {'n_iter': 20,\n",
    "#                      'verbose': 1},\n",
    "#               'elastic cv' : {'max_iter': 20000}\n",
    "#               }\n",
    "\n",
    "#ML.evaluate_regression_model(\n",
    "#                            model_type = 'linear',\n",
    "#                            data_scaler = 'standard',\n",
    "#                            n_splits = 2,\n",
    "#                            n_repeats = 1,\n",
    "#                            int_cv = 2,\n",
    "#                            extra_params = extra_params\n",
    "#                            )"
   ]
  }
 ],
 "metadata": {
  "kernelspec": {
   "display_name": "Python 3",
   "language": "python",
   "name": "python3"
  },
  "language_info": {
   "codemirror_mode": {
    "name": "ipython",
    "version": 3
   },
   "file_extension": ".py",
   "mimetype": "text/x-python",
   "name": "python",
   "nbconvert_exporter": "python",
   "pygments_lexer": "ipython3",
   "version": "3.6.7"
  }
 },
 "nbformat": 4,
 "nbformat_minor": 2
}
